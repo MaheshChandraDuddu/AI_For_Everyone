{
  "nbformat": 4,
  "nbformat_minor": 5,
  "metadata": {
    "kernelspec": {
      "display_name": "Python 3",
      "language": "python",
      "name": "python3"
    },
    "language_info": {
      "codemirror_mode": {
        "name": "ipython",
        "version": 3
      },
      "file_extension": ".py",
      "mimetype": "text/x-python",
      "name": "python",
      "nbconvert_exporter": "python",
      "pygments_lexer": "ipython3",
      "version": "3.8.5"
    },
    "colab": {
      "name": "Data Structure.ipynb",
      "provenance": []
    }
  },
  "cells": [
    {
      "cell_type": "markdown",
      "metadata": {
        "id": "qWO8qTzOWZnu"
      },
      "source": [
        "# <center> <u>Data Structures <u> </center>"
      ],
      "id": "qWO8qTzOWZnu"
    },
    {
      "cell_type": "markdown",
      "metadata": {
        "id": "LN5VVwHMWZnw"
      },
      "source": [
        "## 1. Lists\n",
        "\n",
        "Reference:- https://www.youtube.com/watch?v=ohCDWZgNIU0\n"
      ],
      "id": "LN5VVwHMWZnw"
    },
    {
      "cell_type": "markdown",
      "metadata": {
        "id": "WyC4EOghWZny"
      },
      "source": [
        "<p style='text-align: right;'> 1+1+1 = 3 points</p>\n"
      ],
      "id": "WyC4EOghWZny"
    },
    {
      "cell_type": "markdown",
      "metadata": {
        "id": "wvx-ficIWZnz"
      },
      "source": [
        "#### 1.1 Create an empty list with the name ‘a’, print the value of a and type(a).\n"
      ],
      "id": "wvx-ficIWZnz"
    },
    {
      "cell_type": "code",
      "metadata": {
        "id": "Dqm_5wBZWZn0"
      },
      "source": [
        "# create empty list, name it 'a'\n",
        "a = []\n",
        "\n"
      ],
      "id": "Dqm_5wBZWZn0",
      "execution_count": 49,
      "outputs": []
    },
    {
      "cell_type": "code",
      "metadata": {
        "colab": {
          "base_uri": "https://localhost:8080/"
        },
        "id": "1x5Wf9kdWZn2",
        "outputId": "2dd66010-a7e7-4ef7-a5ea-d637ce7bf414"
      },
      "source": [
        "# print the value of a\n",
        "print(a)"
      ],
      "id": "1x5Wf9kdWZn2",
      "execution_count": 50,
      "outputs": [
        {
          "output_type": "stream",
          "text": [
            "[]\n"
          ],
          "name": "stdout"
        }
      ]
    },
    {
      "cell_type": "code",
      "metadata": {
        "colab": {
          "base_uri": "https://localhost:8080/"
        },
        "id": "T2IUztmoWZn5",
        "outputId": "85b344c6-3e64-4027-ce52-8d4b38fa0e4e"
      },
      "source": [
        "# print the type of a\n",
        "type(a)\n"
      ],
      "id": "T2IUztmoWZn5",
      "execution_count": 51,
      "outputs": [
        {
          "output_type": "execute_result",
          "data": {
            "text/plain": [
              "list"
            ]
          },
          "metadata": {
            "tags": []
          },
          "execution_count": 51
        }
      ]
    },
    {
      "cell_type": "markdown",
      "metadata": {
        "id": "c6VEEYFRWZn8"
      },
      "source": [
        "#### 1.2.Create a list , languages = ['R','Python', 'SAS', 'Scala', 42], "
      ],
      "id": "c6VEEYFRWZn8"
    },
    {
      "cell_type": "markdown",
      "metadata": {
        "id": "vFdT98hMWZn9"
      },
      "source": [
        "<p style='text-align: right;'> 1+1+1+1+1+1+1+1 = 7 points</p>\n"
      ],
      "id": "vFdT98hMWZn9"
    },
    {
      "cell_type": "code",
      "metadata": {
        "id": "AWCmyBzsWZn-"
      },
      "source": [
        "#code here\n",
        "languages = ['R', 'Python', 'SAS', 'Scala', '42']"
      ],
      "id": "AWCmyBzsWZn-",
      "execution_count": 52,
      "outputs": []
    },
    {
      "cell_type": "markdown",
      "metadata": {
        "id": "rc6Q9hG_WZn_"
      },
      "source": [
        "Print the number of elements in the list"
      ],
      "id": "rc6Q9hG_WZn_"
    },
    {
      "cell_type": "code",
      "metadata": {
        "colab": {
          "base_uri": "https://localhost:8080/"
        },
        "id": "Y6iPJP8xWZoA",
        "outputId": "542012f5-4c74-4d6b-e855-c8abf6bc84ab"
      },
      "source": [
        "#code here\n",
        "print(len(languages))"
      ],
      "id": "Y6iPJP8xWZoA",
      "execution_count": 53,
      "outputs": [
        {
          "output_type": "stream",
          "text": [
            "5\n"
          ],
          "name": "stdout"
        }
      ]
    },
    {
      "cell_type": "markdown",
      "metadata": {
        "id": "dXJ3MwXJWZoB"
      },
      "source": [
        "Using for loop iterate and print all the elements in the list"
      ],
      "id": "dXJ3MwXJWZoB"
    },
    {
      "cell_type": "code",
      "metadata": {
        "colab": {
          "base_uri": "https://localhost:8080/"
        },
        "id": "qQqtYVKhWZoC",
        "outputId": "dde75e0a-da2d-4358-fe35-a8ef1ef2e430"
      },
      "source": [
        "#code here\n",
        "for i in languages:\n",
        "  print(i)"
      ],
      "id": "qQqtYVKhWZoC",
      "execution_count": 54,
      "outputs": [
        {
          "output_type": "stream",
          "text": [
            "R\n",
            "Python\n",
            "SAS\n",
            "Scala\n",
            "42\n"
          ],
          "name": "stdout"
        }
      ]
    },
    {
      "cell_type": "markdown",
      "metadata": {
        "id": "F_F-ZQR8WZoD"
      },
      "source": [
        "Select the second item, 'Python' and store it in a new variable named 'temp'"
      ],
      "id": "F_F-ZQR8WZoD"
    },
    {
      "cell_type": "code",
      "metadata": {
        "id": "r9xYIl4-WZoD"
      },
      "source": [
        "#code here\n",
        "temp = languages[1]"
      ],
      "id": "r9xYIl4-WZoD",
      "execution_count": 55,
      "outputs": []
    },
    {
      "cell_type": "markdown",
      "metadata": {
        "id": "43o-X6GYWZoE"
      },
      "source": [
        "Print the value of temp and type(temp)"
      ],
      "id": "43o-X6GYWZoE"
    },
    {
      "cell_type": "code",
      "metadata": {
        "colab": {
          "base_uri": "https://localhost:8080/"
        },
        "id": "oytB33OsWZoE",
        "outputId": "081d07bb-0464-4195-c60c-7af35b8ed1a7"
      },
      "source": [
        "#code here\n",
        "print(temp)\n",
        "print(type(temp))\n"
      ],
      "id": "oytB33OsWZoE",
      "execution_count": 56,
      "outputs": [
        {
          "output_type": "stream",
          "text": [
            "Python\n",
            "<class 'str'>\n"
          ],
          "name": "stdout"
        }
      ]
    },
    {
      "cell_type": "markdown",
      "metadata": {
        "id": "TEek78oWWZoF"
      },
      "source": [
        "Using list comprehension, print the last two elemets of list"
      ],
      "id": "TEek78oWWZoF"
    },
    {
      "cell_type": "code",
      "metadata": {
        "colab": {
          "base_uri": "https://localhost:8080/"
        },
        "id": "AG5tE5fOWZoG",
        "outputId": "ca6c3448-421d-4053-ad1d-36bdfdc8c5b1"
      },
      "source": [
        "# code here\n",
        "# print(languages[len(languages) -2:])\n",
        "lis = [languages[i] for i in range(len(languages)-2, len(languages), 1)]\n",
        "print(lis)"
      ],
      "id": "AG5tE5fOWZoG",
      "execution_count": 60,
      "outputs": [
        {
          "output_type": "stream",
          "text": [
            "['Scala', '42']\n"
          ],
          "name": "stdout"
        }
      ]
    },
    {
      "cell_type": "markdown",
      "metadata": {
        "id": "wDFIY18kWZoG"
      },
      "source": [
        "Append the element 'Java' in the list"
      ],
      "id": "wDFIY18kWZoG"
    },
    {
      "cell_type": "code",
      "metadata": {
        "id": "72U4Kfv3WZoH"
      },
      "source": [
        "#code here\n",
        "languages.append('Java')"
      ],
      "id": "72U4Kfv3WZoH",
      "execution_count": 61,
      "outputs": []
    },
    {
      "cell_type": "markdown",
      "metadata": {
        "id": "Fo4Yp-jNWZoH"
      },
      "source": [
        "Remove the element 42 from the list and print the list"
      ],
      "id": "Fo4Yp-jNWZoH"
    },
    {
      "cell_type": "code",
      "metadata": {
        "colab": {
          "base_uri": "https://localhost:8080/"
        },
        "id": "gVmEBeV3WZoI",
        "outputId": "6671243c-c5f4-45eb-e7c7-52e998af4d1c"
      },
      "source": [
        "#code here\n",
        "languages.remove('42')\n",
        "print(languages)"
      ],
      "id": "gVmEBeV3WZoI",
      "execution_count": 62,
      "outputs": [
        {
          "output_type": "stream",
          "text": [
            "['R', 'Python', 'SAS', 'Scala', 'Java']\n"
          ],
          "name": "stdout"
        }
      ]
    },
    {
      "cell_type": "markdown",
      "metadata": {
        "id": "A8fQmW2mWZoI"
      },
      "source": [
        "#### 1.3. Create a list, colors = [‘Red’, ‘Blue’, ‘White’]"
      ],
      "id": "A8fQmW2mWZoI"
    },
    {
      "cell_type": "markdown",
      "metadata": {
        "id": "DCHNEbNNWZoJ"
      },
      "source": [
        "<p style='text-align: right;'> 1+1+1+1+1+1+1 = 6 points</p>\n"
      ],
      "id": "DCHNEbNNWZoJ"
    },
    {
      "cell_type": "code",
      "metadata": {
        "id": "u0or_QsiWZoJ"
      },
      "source": [
        "#code here\n",
        "colors = ['Red', 'Blue', 'White']"
      ],
      "id": "u0or_QsiWZoJ",
      "execution_count": 63,
      "outputs": []
    },
    {
      "cell_type": "markdown",
      "metadata": {
        "id": "4dCHdbU_WZoK"
      },
      "source": [
        "Append the element 'Black' to colors"
      ],
      "id": "4dCHdbU_WZoK"
    },
    {
      "cell_type": "code",
      "metadata": {
        "id": "4nKCG5SFWZoK"
      },
      "source": [
        "#code here\n",
        "colors.append('Black')"
      ],
      "id": "4nKCG5SFWZoK",
      "execution_count": 64,
      "outputs": []
    },
    {
      "cell_type": "markdown",
      "metadata": {
        "id": "iFO0kaMvWZoL"
      },
      "source": [
        "Append the color 'Orange' to second position (index=1) and print the list"
      ],
      "id": "iFO0kaMvWZoL"
    },
    {
      "cell_type": "code",
      "metadata": {
        "id": "yHKN3tAyWZoL"
      },
      "source": [
        "# code here\n",
        "colors.insert(1, 'Orange')"
      ],
      "id": "yHKN3tAyWZoL",
      "execution_count": 65,
      "outputs": []
    },
    {
      "cell_type": "markdown",
      "metadata": {
        "id": "Dl6ftP2xWZoM"
      },
      "source": [
        "Print the list\n"
      ],
      "id": "Dl6ftP2xWZoM"
    },
    {
      "cell_type": "code",
      "metadata": {
        "colab": {
          "base_uri": "https://localhost:8080/"
        },
        "id": "geWGbvFFWZoM",
        "outputId": "478783b0-9267-4fc4-acb0-b03a75c1cd44"
      },
      "source": [
        "# code here\n",
        "print(colors)"
      ],
      "id": "geWGbvFFWZoM",
      "execution_count": 66,
      "outputs": [
        {
          "output_type": "stream",
          "text": [
            "['Red', 'Orange', 'Blue', 'White', 'Black']\n"
          ],
          "name": "stdout"
        }
      ]
    },
    {
      "cell_type": "markdown",
      "metadata": {
        "id": "0cVwxKgZWZoN"
      },
      "source": [
        "Create another list, colors2 = [‘Grey’, ‘Sky Blue’]"
      ],
      "id": "0cVwxKgZWZoN"
    },
    {
      "cell_type": "code",
      "metadata": {
        "id": "4gpN1J2KWZoO"
      },
      "source": [
        "# code here\n",
        "colors2 = ['Grey', 'Sky Blue']"
      ],
      "id": "4gpN1J2KWZoO",
      "execution_count": 67,
      "outputs": []
    },
    {
      "cell_type": "markdown",
      "metadata": {
        "id": "HUXc5kElWZoO"
      },
      "source": [
        "Add the elements of colors2 to colors using extend function in the list"
      ],
      "id": "HUXc5kElWZoO"
    },
    {
      "cell_type": "code",
      "metadata": {
        "id": "twMCgy5LWZoP"
      },
      "source": [
        "#code here\n",
        "colors.extend(colors2)"
      ],
      "id": "twMCgy5LWZoP",
      "execution_count": 68,
      "outputs": []
    },
    {
      "cell_type": "markdown",
      "metadata": {
        "id": "Lwa15dtdWZoP"
      },
      "source": [
        "Print len of colors and its elements"
      ],
      "id": "Lwa15dtdWZoP"
    },
    {
      "cell_type": "code",
      "metadata": {
        "colab": {
          "base_uri": "https://localhost:8080/"
        },
        "id": "vvFy3vT2WZoQ",
        "outputId": "201d7372-2b07-446f-8624-fd43385db6e1"
      },
      "source": [
        "# code here\n",
        "print(len(colors))\n",
        "print(colors)\n"
      ],
      "id": "vvFy3vT2WZoQ",
      "execution_count": 69,
      "outputs": [
        {
          "output_type": "stream",
          "text": [
            "7\n",
            "['Red', 'Orange', 'Blue', 'White', 'Black', 'Grey', 'Sky Blue']\n"
          ],
          "name": "stdout"
        }
      ]
    },
    {
      "cell_type": "markdown",
      "metadata": {
        "id": "ZaR_U9pCWZoQ"
      },
      "source": [
        "Sort the list and print it."
      ],
      "id": "ZaR_U9pCWZoQ"
    },
    {
      "cell_type": "code",
      "metadata": {
        "colab": {
          "base_uri": "https://localhost:8080/"
        },
        "id": "TSzDZ7R-WZoR",
        "outputId": "85bdb624-2b72-4026-c871-2d770fbbdcd3"
      },
      "source": [
        "# code here\n",
        "colors.sort()\n",
        "print(colors)\n"
      ],
      "id": "TSzDZ7R-WZoR",
      "execution_count": 70,
      "outputs": [
        {
          "output_type": "stream",
          "text": [
            "['Black', 'Blue', 'Grey', 'Orange', 'Red', 'Sky Blue', 'White']\n"
          ],
          "name": "stdout"
        }
      ]
    },
    {
      "cell_type": "markdown",
      "metadata": {
        "id": "TnmVIbm8WZoR"
      },
      "source": [
        "#### 1.4. Create a string, sent = ‘Coronavirus Caused Lockdowns Around The World.”"
      ],
      "id": "TnmVIbm8WZoR"
    },
    {
      "cell_type": "markdown",
      "metadata": {
        "id": "nzvHVJtzWZoS"
      },
      "source": [
        "<p style='text-align: right;'> 7 points</p>\n"
      ],
      "id": "nzvHVJtzWZoS"
    },
    {
      "cell_type": "code",
      "metadata": {
        "id": "-TXYj5r3WZoT"
      },
      "source": [
        "# code here\n",
        "sent = 'Coronavirus Caused Lockdowns Around The World.'"
      ],
      "id": "-TXYj5r3WZoT",
      "execution_count": 71,
      "outputs": []
    },
    {
      "cell_type": "markdown",
      "metadata": {
        "id": "e5To9AVkWZoT"
      },
      "source": [
        "Use split function to convert the string into a list of words and save it in variable words and print the same"
      ],
      "id": "e5To9AVkWZoT"
    },
    {
      "cell_type": "code",
      "metadata": {
        "colab": {
          "base_uri": "https://localhost:8080/"
        },
        "id": "APjZNpjYWZoU",
        "outputId": "94a9c516-0aa8-410c-8269-7d8a56dd90d4"
      },
      "source": [
        "# code here\n",
        "words = sent.split(\" \")\n",
        "print(words)"
      ],
      "id": "APjZNpjYWZoU",
      "execution_count": 72,
      "outputs": [
        {
          "output_type": "stream",
          "text": [
            "['Coronavirus', 'Caused', 'Lockdowns', 'Around', 'The', 'World.']\n"
          ],
          "name": "stdout"
        }
      ]
    },
    {
      "cell_type": "markdown",
      "metadata": {
        "id": "TAGjwKZOWZoU"
      },
      "source": [
        "Using list comprehensions, convert each word in the list to lower case and store it in variable words_lower. \n",
        "Print words_lower"
      ],
      "id": "TAGjwKZOWZoU"
    },
    {
      "cell_type": "code",
      "metadata": {
        "colab": {
          "base_uri": "https://localhost:8080/"
        },
        "id": "peUexWkBWZoV",
        "outputId": "42354953-e131-492c-c873-7f2d3747e43c"
      },
      "source": [
        "# code here\n",
        "words_lower = [elem.lower() for elem in words]\n",
        "print(words_lower)"
      ],
      "id": "peUexWkBWZoV",
      "execution_count": 73,
      "outputs": [
        {
          "output_type": "stream",
          "text": [
            "['coronavirus', 'caused', 'lockdowns', 'around', 'the', 'world.']\n"
          ],
          "name": "stdout"
        }
      ]
    },
    {
      "cell_type": "markdown",
      "metadata": {
        "id": "jBLAzfjfWZoV"
      },
      "source": [
        "Check whether ‘country’ is in the list"
      ],
      "id": "jBLAzfjfWZoV"
    },
    {
      "cell_type": "code",
      "metadata": {
        "colab": {
          "base_uri": "https://localhost:8080/"
        },
        "id": "dO8db3tqWZoW",
        "outputId": "44e067cd-8912-46d3-e1c9-b7943be9ee13"
      },
      "source": [
        "# code here\n",
        "check = 0\n",
        "for elem in words_lower:\n",
        "  if elem == 'country':\n",
        "    check = 1\n",
        "    break\n",
        "\n",
        "if check == 0:\n",
        "  print(\"False: Element not found in the list\")\n",
        "else:\n",
        "  print(\"True: Element found in the list\")"
      ],
      "id": "dO8db3tqWZoW",
      "execution_count": 74,
      "outputs": [
        {
          "output_type": "stream",
          "text": [
            "False: Element not found in the list\n"
          ],
          "name": "stdout"
        }
      ]
    },
    {
      "cell_type": "markdown",
      "metadata": {
        "id": "SS2bHYuaWZoX"
      },
      "source": [
        "Remove the element ‘the’ from the list and print the list."
      ],
      "id": "SS2bHYuaWZoX"
    },
    {
      "cell_type": "code",
      "metadata": {
        "colab": {
          "base_uri": "https://localhost:8080/"
        },
        "id": "BwXSMeQFWZoX",
        "outputId": "89cca463-b2b5-4614-e556-c214091cb34e"
      },
      "source": [
        "# code here\n",
        "words_lower.remove('the')\n",
        "print(words_lower)"
      ],
      "id": "BwXSMeQFWZoX",
      "execution_count": 75,
      "outputs": [
        {
          "output_type": "stream",
          "text": [
            "['coronavirus', 'caused', 'lockdowns', 'around', 'world.']\n"
          ],
          "name": "stdout"
        }
      ]
    },
    {
      "cell_type": "markdown",
      "metadata": {
        "id": "RUsdtmLaWZoX"
      },
      "source": [
        "Select the first 4 words from the list words_lower using slicing and store them in a new variable x4"
      ],
      "id": "RUsdtmLaWZoX"
    },
    {
      "cell_type": "code",
      "metadata": {
        "id": "f6Gl3XzhWZoY"
      },
      "source": [
        "#code here\n",
        "x4 = words_lower[:4]"
      ],
      "id": "f6Gl3XzhWZoY",
      "execution_count": 76,
      "outputs": []
    },
    {
      "cell_type": "code",
      "metadata": {
        "colab": {
          "base_uri": "https://localhost:8080/"
        },
        "id": "_e09k9TeWZoY",
        "outputId": "4deeec3c-0a66-4e20-a238-4d49437c1983"
      },
      "source": [
        "# print x4\n",
        "print(x4)"
      ],
      "id": "_e09k9TeWZoY",
      "execution_count": 77,
      "outputs": [
        {
          "output_type": "stream",
          "text": [
            "['coronavirus', 'caused', 'lockdowns', 'around']\n"
          ],
          "name": "stdout"
        }
      ]
    },
    {
      "cell_type": "markdown",
      "metadata": {
        "id": "ynXOsavYWZoZ"
      },
      "source": [
        "Convert the list of elements to single string using join function and print it"
      ],
      "id": "ynXOsavYWZoZ"
    },
    {
      "cell_type": "code",
      "metadata": {
        "colab": {
          "base_uri": "https://localhost:8080/"
        },
        "id": "qpQP3zfqWZoZ",
        "outputId": "08c4f4b2-e3e8-46fc-9047-39df5f08a338"
      },
      "source": [
        "#code here\n",
        "ans = ' '.join(x4)\n",
        "print(ans)\n"
      ],
      "id": "qpQP3zfqWZoZ",
      "execution_count": 80,
      "outputs": [
        {
          "output_type": "stream",
          "text": [
            "coronavirus caused lockdowns around\n"
          ],
          "name": "stdout"
        }
      ]
    },
    {
      "cell_type": "markdown",
      "metadata": {
        "id": "vmjemvsCWZoa"
      },
      "source": [
        "## 2. Sets\n",
        "\n",
        "Reference:-https://www.youtube.com/watch?v=sBvaPopWOmQ"
      ],
      "id": "vmjemvsCWZoa"
    },
    {
      "cell_type": "markdown",
      "metadata": {
        "id": "GR6UAk8kWZoa"
      },
      "source": [
        "#### 2.1. Create stud_grades = ['A','A','B','C','C','F']"
      ],
      "id": "GR6UAk8kWZoa"
    },
    {
      "cell_type": "markdown",
      "metadata": {
        "id": "Tr6qcBraWZoa"
      },
      "source": [
        "<p style='text-align: right;'> 7 points</p>\n"
      ],
      "id": "Tr6qcBraWZoa"
    },
    {
      "cell_type": "code",
      "metadata": {
        "id": "nINynbDZWZob"
      },
      "source": [
        "#code here\n",
        "stud_grades = ['A','A','B','C','C','F']"
      ],
      "id": "nINynbDZWZob",
      "execution_count": 81,
      "outputs": []
    },
    {
      "cell_type": "markdown",
      "metadata": {
        "id": "RTJIEBeqWZob"
      },
      "source": [
        "Print the len of stud_grades"
      ],
      "id": "RTJIEBeqWZob"
    },
    {
      "cell_type": "code",
      "metadata": {
        "colab": {
          "base_uri": "https://localhost:8080/"
        },
        "id": "ckAv6ecGWZob",
        "outputId": "dc270123-6370-4537-95a5-5da5b4f14ed6"
      },
      "source": [
        "#code here\n",
        "print(len(stud_grades))"
      ],
      "id": "ckAv6ecGWZob",
      "execution_count": 82,
      "outputs": [
        {
          "output_type": "stream",
          "text": [
            "6\n"
          ],
          "name": "stdout"
        }
      ]
    },
    {
      "cell_type": "markdown",
      "metadata": {
        "id": "iJcgKo_QWZoc"
      },
      "source": [
        "Create a new variable, stud_grades_set = set(stud_grades)"
      ],
      "id": "iJcgKo_QWZoc"
    },
    {
      "cell_type": "code",
      "metadata": {
        "id": "V_tnIuRvWZoc"
      },
      "source": [
        "#code here\n",
        "stud_grades_set = set(stud_grades)"
      ],
      "id": "V_tnIuRvWZoc",
      "execution_count": 83,
      "outputs": []
    },
    {
      "cell_type": "markdown",
      "metadata": {
        "id": "O71ynpMQWZod"
      },
      "source": [
        "Print stud_grades_set. "
      ],
      "id": "O71ynpMQWZod"
    },
    {
      "cell_type": "code",
      "metadata": {
        "colab": {
          "base_uri": "https://localhost:8080/"
        },
        "id": "q3s64e6DWZod",
        "outputId": "1bff1b17-af76-4aa8-845c-068555f6f3ed"
      },
      "source": [
        "#code here\n",
        "print(stud_grades_set)"
      ],
      "id": "q3s64e6DWZod",
      "execution_count": 84,
      "outputs": [
        {
          "output_type": "stream",
          "text": [
            "{'C', 'F', 'A', 'B'}\n"
          ],
          "name": "stdout"
        }
      ]
    },
    {
      "cell_type": "markdown",
      "metadata": {
        "id": "mzLArMVtWZoe"
      },
      "source": [
        "print the type of stud_grades and stud_grades_set and print their corresponding elements. Try to understand the difference between them."
      ],
      "id": "mzLArMVtWZoe"
    },
    {
      "cell_type": "code",
      "metadata": {
        "colab": {
          "base_uri": "https://localhost:8080/"
        },
        "id": "ZskqhJh-WZoe",
        "outputId": "f070c203-3ae8-471a-8e4b-9b2d64cb1294"
      },
      "source": [
        "#code here\n",
        "print(type(stud_grades), stud_grades)\n",
        "print(type(stud_grades_set), stud_grades_set)\n"
      ],
      "id": "ZskqhJh-WZoe",
      "execution_count": 85,
      "outputs": [
        {
          "output_type": "stream",
          "text": [
            "<class 'list'> ['A', 'A', 'B', 'C', 'C', 'F']\n",
            "<class 'set'> {'C', 'F', 'A', 'B'}\n"
          ],
          "name": "stdout"
        }
      ]
    },
    {
      "cell_type": "markdown",
      "metadata": {
        "id": "7tXYeMiVWZof"
      },
      "source": [
        "Add a new element ‘G’ to stud_grades_set"
      ],
      "id": "7tXYeMiVWZof"
    },
    {
      "cell_type": "code",
      "metadata": {
        "id": "a_zolfmJWZof"
      },
      "source": [
        "#code here\n",
        "stud_grades_set.add('G')\n"
      ],
      "id": "a_zolfmJWZof",
      "execution_count": 86,
      "outputs": []
    },
    {
      "cell_type": "markdown",
      "metadata": {
        "id": "7zTdzpPYWZog"
      },
      "source": [
        "Add element 'F' to stud_grades_set. and print it."
      ],
      "id": "7zTdzpPYWZog"
    },
    {
      "cell_type": "code",
      "metadata": {
        "colab": {
          "base_uri": "https://localhost:8080/"
        },
        "id": "ON1S4UoaWZog",
        "outputId": "3bedcac7-37b3-43ae-ebe6-bacc24931ba6"
      },
      "source": [
        "#code here\n",
        "stud_grades_set.add('F')\n",
        "print(stud_grades_set)"
      ],
      "id": "ON1S4UoaWZog",
      "execution_count": 88,
      "outputs": [
        {
          "output_type": "stream",
          "text": [
            "{'C', 'A', 'B', 'G', 'F'}\n"
          ],
          "name": "stdout"
        }
      ]
    },
    {
      "cell_type": "markdown",
      "metadata": {
        "id": "atQZGJCDWZoh"
      },
      "source": [
        "!!Did you notice? set doesn't add an element if it's already present in it, unlike lists."
      ],
      "id": "atQZGJCDWZoh"
    },
    {
      "cell_type": "markdown",
      "metadata": {
        "id": "2lmpuQ6eWZoh"
      },
      "source": [
        "Remove ‘F’ from stud_grades_set"
      ],
      "id": "2lmpuQ6eWZoh"
    },
    {
      "cell_type": "code",
      "metadata": {
        "id": "Uu1LnakpWZoi"
      },
      "source": [
        "#code here\n",
        "stud_grades_set.remove('F')\n",
        "\n"
      ],
      "id": "Uu1LnakpWZoi",
      "execution_count": 89,
      "outputs": []
    },
    {
      "cell_type": "markdown",
      "metadata": {
        "id": "sRgSszhfWZoi"
      },
      "source": [
        "Print the elements and the length of stud_grades_set"
      ],
      "id": "sRgSszhfWZoi"
    },
    {
      "cell_type": "code",
      "metadata": {
        "colab": {
          "base_uri": "https://localhost:8080/"
        },
        "id": "gWosqtUAWZoi",
        "outputId": "7e4182c0-0dff-454b-8e87-753ec443d187"
      },
      "source": [
        "#code here\n",
        "\n",
        "print(stud_grades_set)\n",
        "print(len(stud_grades_set))"
      ],
      "id": "gWosqtUAWZoi",
      "execution_count": 90,
      "outputs": [
        {
          "output_type": "stream",
          "text": [
            "{'C', 'A', 'B', 'G'}\n",
            "4\n"
          ],
          "name": "stdout"
        }
      ]
    },
    {
      "cell_type": "markdown",
      "metadata": {
        "id": "LCX9wiAOWZoj"
      },
      "source": [
        "#### 2.2. Create colors = [‘red’,’blue’,’orange’], and fruits = [‘orange’,’grapes’,’apples’] "
      ],
      "id": "LCX9wiAOWZoj"
    },
    {
      "cell_type": "markdown",
      "metadata": {
        "id": "N3ZE9UXjWZoj"
      },
      "source": [
        "<p style='text-align: right;'> 6 points</p>\n"
      ],
      "id": "N3ZE9UXjWZoj"
    },
    {
      "cell_type": "code",
      "metadata": {
        "id": "yuBD_7AVWZoj"
      },
      "source": [
        "#code here\n",
        "colors = ['red','blue','orange']\n",
        "fruits = ['orange','grapes','apples']\n"
      ],
      "id": "yuBD_7AVWZoj",
      "execution_count": 93,
      "outputs": []
    },
    {
      "cell_type": "markdown",
      "metadata": {
        "id": "9VHBIJMLWZok"
      },
      "source": [
        "Print color and fruits"
      ],
      "id": "9VHBIJMLWZok"
    },
    {
      "cell_type": "code",
      "metadata": {
        "colab": {
          "base_uri": "https://localhost:8080/"
        },
        "id": "h1QlSVevWZok",
        "outputId": "5f309946-bb47-4f2b-e093-7ee31fd946e4"
      },
      "source": [
        "#code here\n",
        "print(colors)\n",
        "print(fruits)\n"
      ],
      "id": "h1QlSVevWZok",
      "execution_count": 94,
      "outputs": [
        {
          "output_type": "stream",
          "text": [
            "['red', 'blue', 'orange']\n",
            "['orange', 'grapes', 'apples']\n"
          ],
          "name": "stdout"
        }
      ]
    },
    {
      "cell_type": "markdown",
      "metadata": {
        "id": "RZT4bXFpWZok"
      },
      "source": [
        "Create colors_set, and fruits_set. (using set() ) and print them"
      ],
      "id": "RZT4bXFpWZok"
    },
    {
      "cell_type": "code",
      "metadata": {
        "colab": {
          "base_uri": "https://localhost:8080/"
        },
        "id": "vn9MygH2WZol",
        "outputId": "4962e13b-f23d-4099-a0d0-47ced458ec18"
      },
      "source": [
        "#code here\n",
        "colors_set = set(colors)\n",
        "fruits_set = set(fruits)\n",
        "print(colors_set)\n",
        "print(fruits_set)"
      ],
      "id": "vn9MygH2WZol",
      "execution_count": 96,
      "outputs": [
        {
          "output_type": "stream",
          "text": [
            "{'red', 'blue', 'orange'}\n",
            "{'apples', 'orange', 'grapes'}\n"
          ],
          "name": "stdout"
        }
      ]
    },
    {
      "cell_type": "markdown",
      "metadata": {
        "id": "1JRQy4QXWZol"
      },
      "source": [
        "Find the union of both the sets."
      ],
      "id": "1JRQy4QXWZol"
    },
    {
      "cell_type": "code",
      "metadata": {
        "colab": {
          "base_uri": "https://localhost:8080/"
        },
        "id": "ApN1wRDQWZom",
        "outputId": "332aaf36-1c9d-45ba-e156-4d0b2b7c201e"
      },
      "source": [
        "#code here\n",
        "print(colors_set.union(fruits_set))\n"
      ],
      "id": "ApN1wRDQWZom",
      "execution_count": 97,
      "outputs": [
        {
          "output_type": "stream",
          "text": [
            "{'apples', 'red', 'orange', 'grapes', 'blue'}\n"
          ],
          "name": "stdout"
        }
      ]
    },
    {
      "cell_type": "markdown",
      "metadata": {
        "id": "A8G5jx5PWZom"
      },
      "source": [
        "Find the intersection of both the sets "
      ],
      "id": "A8G5jx5PWZom"
    },
    {
      "cell_type": "code",
      "metadata": {
        "colab": {
          "base_uri": "https://localhost:8080/"
        },
        "id": "GAKoBiTNWZom",
        "outputId": "666dda81-d595-4b4a-8528-de6f56411b43"
      },
      "source": [
        "#code here\n",
        "\n",
        "print(colors_set.intersection(fruits_set))"
      ],
      "id": "GAKoBiTNWZom",
      "execution_count": 98,
      "outputs": [
        {
          "output_type": "stream",
          "text": [
            "{'orange'}\n"
          ],
          "name": "stdout"
        }
      ]
    },
    {
      "cell_type": "markdown",
      "metadata": {
        "id": "80CuPPp1WZon"
      },
      "source": [
        "Find the elements which are Fruits but not colors (using set.difference() )"
      ],
      "id": "80CuPPp1WZon"
    },
    {
      "cell_type": "code",
      "metadata": {
        "colab": {
          "base_uri": "https://localhost:8080/"
        },
        "id": "EaIFhCbmWZon",
        "outputId": "44cae76b-eb86-4fed-cea9-9ae8f095486a"
      },
      "source": [
        "#code here\n",
        "print(fruits_set.difference(colors_set))\n"
      ],
      "id": "EaIFhCbmWZon",
      "execution_count": 99,
      "outputs": [
        {
          "output_type": "stream",
          "text": [
            "{'apples', 'grapes'}\n"
          ],
          "name": "stdout"
        }
      ]
    },
    {
      "cell_type": "markdown",
      "metadata": {
        "id": "oXxOyqnBWZon"
      },
      "source": [
        "## 3. TUPLES\n",
        "\n",
        "Reference:-https://www.youtube.com/watch?v=NI26dqhs2Rk"
      ],
      "id": "oXxOyqnBWZon"
    },
    {
      "cell_type": "markdown",
      "metadata": {
        "id": "EMXP0g1lWZoo"
      },
      "source": [
        "#### 3.1 . Create temp = [17, ’Virat’, 50.0]"
      ],
      "id": "EMXP0g1lWZoo"
    },
    {
      "cell_type": "markdown",
      "metadata": {
        "id": "qCDV73SAWZor"
      },
      "source": [
        "<p style='text-align: right;'> 7 points</p>\n"
      ],
      "id": "qCDV73SAWZor"
    },
    {
      "cell_type": "code",
      "metadata": {
        "id": "xR5HfG-AWZor"
      },
      "source": [
        "#code here\n",
        "\n",
        "temp = [17, 'Virat', 50.0]\n"
      ],
      "id": "xR5HfG-AWZor",
      "execution_count": 100,
      "outputs": []
    },
    {
      "cell_type": "markdown",
      "metadata": {
        "id": "aj-xI1-dWZos"
      },
      "source": [
        "Iterate through temp and print all the items in temp"
      ],
      "id": "aj-xI1-dWZos"
    },
    {
      "cell_type": "code",
      "metadata": {
        "colab": {
          "base_uri": "https://localhost:8080/"
        },
        "id": "Zr4u4GVLWZos",
        "outputId": "b9574a0c-bd5a-405c-e340-3b7ffe50cfda"
      },
      "source": [
        "#code here\n",
        "for i in temp:\n",
        "  print(i)\n",
        "\n"
      ],
      "id": "Zr4u4GVLWZos",
      "execution_count": 101,
      "outputs": [
        {
          "output_type": "stream",
          "text": [
            "17\n",
            "Virat\n",
            "50.0\n"
          ],
          "name": "stdout"
        }
      ]
    },
    {
      "cell_type": "markdown",
      "metadata": {
        "id": "EV2r_6aSWZou"
      },
      "source": [
        "replace first element with 11 in temp"
      ],
      "id": "EV2r_6aSWZou"
    },
    {
      "cell_type": "code",
      "metadata": {
        "id": "TYM7lgFoWZou"
      },
      "source": [
        "#code here\n",
        "temp[0] = 11\n"
      ],
      "id": "TYM7lgFoWZou",
      "execution_count": 102,
      "outputs": []
    },
    {
      "cell_type": "markdown",
      "metadata": {
        "id": "ClDf_GmtWZou"
      },
      "source": [
        "Set temp1 = tuple(temp)"
      ],
      "id": "ClDf_GmtWZou"
    },
    {
      "cell_type": "code",
      "metadata": {
        "id": "qmt6413UWZov"
      },
      "source": [
        "#code here\n",
        "temp1 = tuple(temp)"
      ],
      "id": "qmt6413UWZov",
      "execution_count": 103,
      "outputs": []
    },
    {
      "cell_type": "markdown",
      "metadata": {
        "id": "ZUFSr-LHWZov"
      },
      "source": [
        "Iterate through temp1 and print all the items in temp1. "
      ],
      "id": "ZUFSr-LHWZov"
    },
    {
      "cell_type": "code",
      "metadata": {
        "colab": {
          "base_uri": "https://localhost:8080/"
        },
        "id": "BGOFSukwWZov",
        "outputId": "4ee1722a-65f0-4156-e378-90cb14335fc2"
      },
      "source": [
        "#code here\n",
        "for i in temp1:\n",
        "  print(i)\n"
      ],
      "id": "BGOFSukwWZov",
      "execution_count": 104,
      "outputs": [
        {
          "output_type": "stream",
          "text": [
            "11\n",
            "Virat\n",
            "50.0\n"
          ],
          "name": "stdout"
        }
      ]
    },
    {
      "cell_type": "markdown",
      "metadata": {
        "id": "CAAhRpXCWZow"
      },
      "source": [
        "replace first element with 17 in temp1"
      ],
      "id": "CAAhRpXCWZow"
    },
    {
      "cell_type": "code",
      "metadata": {
        "colab": {
          "base_uri": "https://localhost:8080/",
          "height": 197
        },
        "id": "bmIj0eHpWZow",
        "outputId": "7b3d40d7-d1f5-4bac-8315-6df0bdcb019a"
      },
      "source": [
        "#code here\n",
        "\n",
        "temp1[0] = 17"
      ],
      "id": "bmIj0eHpWZow",
      "execution_count": 105,
      "outputs": [
        {
          "output_type": "error",
          "ename": "TypeError",
          "evalue": "ignored",
          "traceback": [
            "\u001b[0;31m---------------------------------------------------------------------------\u001b[0m",
            "\u001b[0;31mTypeError\u001b[0m                                 Traceback (most recent call last)",
            "\u001b[0;32m<ipython-input-105-844b781c94c9>\u001b[0m in \u001b[0;36m<module>\u001b[0;34m()\u001b[0m\n\u001b[1;32m      1\u001b[0m \u001b[0;31m#code here\u001b[0m\u001b[0;34m\u001b[0m\u001b[0;34m\u001b[0m\u001b[0;34m\u001b[0m\u001b[0m\n\u001b[1;32m      2\u001b[0m \u001b[0;34m\u001b[0m\u001b[0m\n\u001b[0;32m----> 3\u001b[0;31m \u001b[0mtemp1\u001b[0m\u001b[0;34m[\u001b[0m\u001b[0;36m0\u001b[0m\u001b[0;34m]\u001b[0m \u001b[0;34m=\u001b[0m \u001b[0;36m17\u001b[0m\u001b[0;34m\u001b[0m\u001b[0;34m\u001b[0m\u001b[0m\n\u001b[0m",
            "\u001b[0;31mTypeError\u001b[0m: 'tuple' object does not support item assignment"
          ]
        }
      ]
    },
    {
      "cell_type": "markdown",
      "metadata": {
        "id": "6ki1IOq5WZox"
      },
      "source": [
        "<b>Oops!! You got an error. Hey Don't worry! Its because Once a tuple is created, you cannot change its values unlike list.</b>"
      ],
      "id": "6ki1IOq5WZox"
    },
    {
      "cell_type": "markdown",
      "metadata": {
        "id": "GESX8IXKWZoy"
      },
      "source": [
        "#### 3.2 . Create city = (\"Bangalore\", 28.9949521, 72)"
      ],
      "id": "GESX8IXKWZoy"
    },
    {
      "cell_type": "markdown",
      "metadata": {
        "id": "GEqwiWc9WZoy"
      },
      "source": [
        "<p style='text-align: right;'> 6 points</p>\n"
      ],
      "id": "GEqwiWc9WZoy"
    },
    {
      "cell_type": "code",
      "metadata": {
        "id": "h2Pepk2fWZoz"
      },
      "source": [
        "#code here\n",
        "city = (\"Bangalore\", 28.9949521, 72)\n"
      ],
      "id": "h2Pepk2fWZoz",
      "execution_count": 106,
      "outputs": []
    },
    {
      "cell_type": "markdown",
      "metadata": {
        "id": "r6s02HUQWZoz"
      },
      "source": [
        "Print first element of city"
      ],
      "id": "r6s02HUQWZoz"
    },
    {
      "cell_type": "code",
      "metadata": {
        "colab": {
          "base_uri": "https://localhost:8080/"
        },
        "id": "0lkYaX0RWZo0",
        "outputId": "ec3dc831-5216-4eb2-aa5d-ae2b506781bc"
      },
      "source": [
        "#code here\n",
        "print(city[0])\n"
      ],
      "id": "0lkYaX0RWZo0",
      "execution_count": 107,
      "outputs": [
        {
          "output_type": "stream",
          "text": [
            "Bangalore\n"
          ],
          "name": "stdout"
        }
      ]
    },
    {
      "cell_type": "markdown",
      "metadata": {
        "id": "MHSiTmR9WZo0"
      },
      "source": [
        "Create city2 = (‘Chennai’, 30.01, 74)"
      ],
      "id": "MHSiTmR9WZo0"
    },
    {
      "cell_type": "code",
      "metadata": {
        "id": "1MW-DfiMWZo1"
      },
      "source": [
        "#code here\n",
        "city2 = (\"Chennai\", 30.01, 74)\n"
      ],
      "id": "1MW-DfiMWZo1",
      "execution_count": 114,
      "outputs": []
    },
    {
      "cell_type": "markdown",
      "metadata": {
        "id": "qAijbEHEWZo1"
      },
      "source": [
        "Create cities which consist of city and city2"
      ],
      "id": "qAijbEHEWZo1"
    },
    {
      "cell_type": "code",
      "metadata": {
        "id": "0q9LEtW1WZo2"
      },
      "source": [
        "#code here\n",
        "cities = ((city,) + (city2,))\n",
        "\n"
      ],
      "id": "0q9LEtW1WZo2",
      "execution_count": 122,
      "outputs": []
    },
    {
      "cell_type": "markdown",
      "metadata": {
        "id": "4JAi773HWZo3"
      },
      "source": [
        "Print cities"
      ],
      "id": "4JAi773HWZo3"
    },
    {
      "cell_type": "code",
      "metadata": {
        "colab": {
          "base_uri": "https://localhost:8080/"
        },
        "id": "SHsItDGJWZo3",
        "outputId": "f621fd60-a42d-4fcd-f67c-fe9ba69941cc"
      },
      "source": [
        "#code here\n",
        "print(cities)"
      ],
      "id": "SHsItDGJWZo3",
      "execution_count": 123,
      "outputs": [
        {
          "output_type": "stream",
          "text": [
            "(('Bangalore', 28.9949521, 72), ('Chennai', 30.01, 74))\n"
          ],
          "name": "stdout"
        }
      ]
    },
    {
      "cell_type": "markdown",
      "metadata": {
        "id": "lkenCnTwWZo4"
      },
      "source": [
        "Print type of first element in cities"
      ],
      "id": "lkenCnTwWZo4"
    },
    {
      "cell_type": "code",
      "metadata": {
        "colab": {
          "base_uri": "https://localhost:8080/"
        },
        "id": "lD_f3jkIWZo4",
        "outputId": "929c758c-cd0a-4380-9c6b-60407213f92b"
      },
      "source": [
        "#code here\n",
        "print(type(cities[0]))\n"
      ],
      "id": "lD_f3jkIWZo4",
      "execution_count": 124,
      "outputs": [
        {
          "output_type": "stream",
          "text": [
            "<class 'tuple'>\n"
          ],
          "name": "stdout"
        }
      ]
    },
    {
      "cell_type": "markdown",
      "metadata": {
        "id": "VGUXw6CVWZo5"
      },
      "source": [
        "print the type of cities\n"
      ],
      "id": "VGUXw6CVWZo5"
    },
    {
      "cell_type": "code",
      "metadata": {
        "colab": {
          "base_uri": "https://localhost:8080/"
        },
        "id": "AvKOldnjWZo5",
        "outputId": "fdebc4ad-fb20-4ef1-f67a-5fc07bbb6162"
      },
      "source": [
        "#code here\n",
        "print(type(cities))\n"
      ],
      "id": "AvKOldnjWZo5",
      "execution_count": 125,
      "outputs": [
        {
          "output_type": "stream",
          "text": [
            "<class 'tuple'>\n"
          ],
          "name": "stdout"
        }
      ]
    },
    {
      "cell_type": "markdown",
      "metadata": {
        "id": "OvsEiFqAWZo6"
      },
      "source": [
        "Hey that implies you made a nested tuples!!"
      ],
      "id": "OvsEiFqAWZo6"
    },
    {
      "cell_type": "markdown",
      "metadata": {
        "id": "vNx_BchSWZo6"
      },
      "source": [
        "## 4. DICT\n",
        "\n",
        "Reference:-https://www.youtube.com/watch?v=XCcpzWs-CI4"
      ],
      "id": "vNx_BchSWZo6"
    },
    {
      "cell_type": "markdown",
      "metadata": {
        "id": "5QVN7VbKWZo6"
      },
      "source": [
        "<p style='text-align: right;'> 11 points</p>\n"
      ],
      "id": "5QVN7VbKWZo6"
    },
    {
      "cell_type": "markdown",
      "metadata": {
        "id": "gclfuf-NWZo7"
      },
      "source": [
        "#### 4.1 Create a dictionary d = {\"actor\":\"amir\",\"animal\":\"cat\",\"earth\":2,\"list\":[23,32,12]}"
      ],
      "id": "gclfuf-NWZo7"
    },
    {
      "cell_type": "code",
      "metadata": {
        "id": "o7_fy06RWZo7"
      },
      "source": [
        "#code here\n",
        "d = {\"actor\" : \"amir\", \"animal\": \"cat\", \"earth\" : 2, \"list\": [23, 32, 12]}\n"
      ],
      "id": "o7_fy06RWZo7",
      "execution_count": 127,
      "outputs": []
    },
    {
      "cell_type": "markdown",
      "metadata": {
        "id": "iUfrrXsiWZo7"
      },
      "source": [
        "Print the value of d[0]"
      ],
      "id": "iUfrrXsiWZo7"
    },
    {
      "cell_type": "code",
      "metadata": {
        "colab": {
          "base_uri": "https://localhost:8080/",
          "height": 180
        },
        "id": "Zl_lhncHWZo7",
        "outputId": "08226590-5fe6-40ab-fa29-afffa1ffd301"
      },
      "source": [
        "#code here\n",
        "print(d[0])\n"
      ],
      "id": "Zl_lhncHWZo7",
      "execution_count": 128,
      "outputs": [
        {
          "output_type": "error",
          "ename": "KeyError",
          "evalue": "ignored",
          "traceback": [
            "\u001b[0;31m---------------------------------------------------------------------------\u001b[0m",
            "\u001b[0;31mKeyError\u001b[0m                                  Traceback (most recent call last)",
            "\u001b[0;32m<ipython-input-128-ca7d9023e2b8>\u001b[0m in \u001b[0;36m<module>\u001b[0;34m()\u001b[0m\n\u001b[1;32m      1\u001b[0m \u001b[0;31m#code here\u001b[0m\u001b[0;34m\u001b[0m\u001b[0;34m\u001b[0m\u001b[0;34m\u001b[0m\u001b[0m\n\u001b[0;32m----> 2\u001b[0;31m \u001b[0mprint\u001b[0m\u001b[0;34m(\u001b[0m\u001b[0md\u001b[0m\u001b[0;34m[\u001b[0m\u001b[0;36m0\u001b[0m\u001b[0;34m]\u001b[0m\u001b[0;34m)\u001b[0m\u001b[0;34m\u001b[0m\u001b[0;34m\u001b[0m\u001b[0m\n\u001b[0m",
            "\u001b[0;31mKeyError\u001b[0m: 0"
          ]
        }
      ]
    },
    {
      "cell_type": "markdown",
      "metadata": {
        "id": "_YcbPex4WZo8"
      },
      "source": [
        "<b>Oops!! again an error. again a fun fact. Dictionary return the value for key if key is in the dictionary, else throws KeyError\n",
        "and we don't have key 0 here :( </b>"
      ],
      "id": "_YcbPex4WZo8"
    },
    {
      "cell_type": "markdown",
      "metadata": {
        "id": "qPn4k1C6WZo8"
      },
      "source": [
        "Store the value of d[‘actor’] to a new variable actor."
      ],
      "id": "qPn4k1C6WZo8"
    },
    {
      "cell_type": "code",
      "metadata": {
        "id": "guQ_1mf3WZo8"
      },
      "source": [
        "#code here\n",
        "d['actor'] = \"mahesh\"\n"
      ],
      "id": "guQ_1mf3WZo8",
      "execution_count": 129,
      "outputs": []
    },
    {
      "cell_type": "markdown",
      "metadata": {
        "id": "ZofEorfAWZo9"
      },
      "source": [
        "Print the type of actor"
      ],
      "id": "ZofEorfAWZo9"
    },
    {
      "cell_type": "code",
      "metadata": {
        "colab": {
          "base_uri": "https://localhost:8080/"
        },
        "id": "zs7ZBaDrWZo-",
        "outputId": "2f708b0f-89f2-4551-c702-66777d1bbdc7"
      },
      "source": [
        "#code here\n",
        "print(type(d['actor']))\n"
      ],
      "id": "zs7ZBaDrWZo-",
      "execution_count": 130,
      "outputs": [
        {
          "output_type": "stream",
          "text": [
            "<class 'str'>\n"
          ],
          "name": "stdout"
        }
      ]
    },
    {
      "cell_type": "markdown",
      "metadata": {
        "id": "zHYNAZ0AWZo_"
      },
      "source": [
        "Store the value of d[‘list’] in new variable l. "
      ],
      "id": "zHYNAZ0AWZo_"
    },
    {
      "cell_type": "code",
      "metadata": {
        "id": "KuYshYC1WZo_"
      },
      "source": [
        "#code here\n",
        "l = d['list']"
      ],
      "id": "KuYshYC1WZo_",
      "execution_count": 131,
      "outputs": []
    },
    {
      "cell_type": "markdown",
      "metadata": {
        "id": "ZTXcTus0WZo_"
      },
      "source": [
        "Print the type of l. "
      ],
      "id": "ZTXcTus0WZo_"
    },
    {
      "cell_type": "code",
      "metadata": {
        "colab": {
          "base_uri": "https://localhost:8080/"
        },
        "id": "FmvgpevOWZpA",
        "outputId": "d66b7c38-75d0-4548-982c-d8ab7cf38106"
      },
      "source": [
        "#code here\n",
        "print(type(l))\n"
      ],
      "id": "FmvgpevOWZpA",
      "execution_count": 132,
      "outputs": [
        {
          "output_type": "stream",
          "text": [
            "<class 'list'>\n"
          ],
          "name": "stdout"
        }
      ]
    },
    {
      "cell_type": "markdown",
      "metadata": {
        "id": "U-KRAlzkWZpA"
      },
      "source": [
        "Create d1 = { ‘singer’ : ‘Kr$na’ , ‘album’: ‘Still here’, ‘genre’ : ‘hip-hop’}"
      ],
      "id": "U-KRAlzkWZpA"
    },
    {
      "cell_type": "code",
      "metadata": {
        "id": "Iz5hBwABWZpA"
      },
      "source": [
        "#code here\n",
        "d1 = { 'singer' : 'Kr$na' , 'album': 'Still here', 'genre' : 'hip-hop'}\n"
      ],
      "id": "Iz5hBwABWZpA",
      "execution_count": 133,
      "outputs": []
    },
    {
      "cell_type": "markdown",
      "metadata": {
        "id": "VfKQiZiOWZpB"
      },
      "source": [
        "Merge d1 into d."
      ],
      "id": "VfKQiZiOWZpB"
    },
    {
      "cell_type": "code",
      "metadata": {
        "id": "WVnD27sDWZpB"
      },
      "source": [
        "#code here\n",
        "d.update(d1)"
      ],
      "id": "WVnD27sDWZpB",
      "execution_count": 137,
      "outputs": []
    },
    {
      "cell_type": "markdown",
      "metadata": {
        "id": "73dpBh7DWZpB"
      },
      "source": [
        "print d"
      ],
      "id": "73dpBh7DWZpB"
    },
    {
      "cell_type": "code",
      "metadata": {
        "colab": {
          "base_uri": "https://localhost:8080/"
        },
        "id": "G-txscu_WZpC",
        "outputId": "6ede26bb-1baf-4ce8-a3da-3e5ad58270f8"
      },
      "source": [
        "#code here\n",
        "print(d)\n"
      ],
      "id": "G-txscu_WZpC",
      "execution_count": 138,
      "outputs": [
        {
          "output_type": "stream",
          "text": [
            "{'actor': 'mahesh', 'animal': 'cat', 'earth': 2, 'list': [23, 32, 12], 'singer': 'Kr$na', 'album': 'Still here', 'genre': 'hip-hop'}\n"
          ],
          "name": "stdout"
        }
      ]
    },
    {
      "cell_type": "markdown",
      "metadata": {
        "id": "Oi5qpar-WZpC"
      },
      "source": [
        "Print all the keys in d"
      ],
      "id": "Oi5qpar-WZpC"
    },
    {
      "cell_type": "code",
      "metadata": {
        "colab": {
          "base_uri": "https://localhost:8080/"
        },
        "id": "9oTjdD9gWZpD",
        "outputId": "b24771ee-b09d-42f3-c649-8869a7af6726"
      },
      "source": [
        "#code here\n",
        "print(d.keys())\n"
      ],
      "id": "9oTjdD9gWZpD",
      "execution_count": 139,
      "outputs": [
        {
          "output_type": "stream",
          "text": [
            "dict_keys(['actor', 'animal', 'earth', 'list', 'singer', 'album', 'genre'])\n"
          ],
          "name": "stdout"
        }
      ]
    },
    {
      "cell_type": "markdown",
      "metadata": {
        "id": "CFY0AzKuWZpD"
      },
      "source": [
        "Print all the values in d"
      ],
      "id": "CFY0AzKuWZpD"
    },
    {
      "cell_type": "code",
      "metadata": {
        "colab": {
          "base_uri": "https://localhost:8080/"
        },
        "id": "fbHMtVXvWZpE",
        "outputId": "a17c5af7-6f57-4cf4-be26-7baa98d9695e"
      },
      "source": [
        "#code here\n",
        "print(d.values())\n"
      ],
      "id": "fbHMtVXvWZpE",
      "execution_count": 140,
      "outputs": [
        {
          "output_type": "stream",
          "text": [
            "dict_values(['mahesh', 'cat', 2, [23, 32, 12], 'Kr$na', 'Still here', 'hip-hop'])\n"
          ],
          "name": "stdout"
        }
      ]
    },
    {
      "cell_type": "markdown",
      "metadata": {
        "id": "gX1_duvPWZpE"
      },
      "source": [
        "Iterate over d, and print each key, value pair as given in output"
      ],
      "id": "gX1_duvPWZpE"
    },
    {
      "cell_type": "code",
      "metadata": {
        "colab": {
          "base_uri": "https://localhost:8080/"
        },
        "id": "JqIBi8EWWZpE",
        "outputId": "ec15f8ed-90c6-4d83-9b0b-9277c0a26701"
      },
      "source": [
        "#code here\n",
        "for elem in d.keys():\n",
        "  print(elem, \"--->\", d[elem])\n"
      ],
      "id": "JqIBi8EWWZpE",
      "execution_count": 141,
      "outputs": [
        {
          "output_type": "stream",
          "text": [
            "actor ---> mahesh\n",
            "animal ---> cat\n",
            "earth ---> 2\n",
            "list ---> [23, 32, 12]\n",
            "singer ---> Kr$na\n",
            "album ---> Still here\n",
            "genre ---> hip-hop\n"
          ],
          "name": "stdout"
        }
      ]
    },
    {
      "cell_type": "markdown",
      "metadata": {
        "id": "wCqbLWy1WZpF"
      },
      "source": [
        "\n",
        "Create a string, sent = ‘Coronavirus Caused Lockdowns Around The World.”\n",
        "\n",
        "Count the number of occurences of charachters in string named \"sent\" using dictionary and print the same.\n"
      ],
      "id": "wCqbLWy1WZpF"
    },
    {
      "cell_type": "code",
      "metadata": {
        "colab": {
          "base_uri": "https://localhost:8080/"
        },
        "id": "YyU0HCiiWZpF",
        "outputId": "212b39c4-216f-4186-860d-04270ac715f9"
      },
      "source": [
        "#code here\n",
        "c = dict()\n",
        "sent = 'Coronavirus Caused Lockdowns Around The World.'\n",
        "\n",
        "for i in sent:\n",
        "  if i not in c.keys():\n",
        "    c[i] = 0\n",
        "  c[i] += 1\n",
        "\n",
        "print(c)\n",
        "\n"
      ],
      "id": "YyU0HCiiWZpF",
      "execution_count": 145,
      "outputs": [
        {
          "output_type": "stream",
          "text": [
            "{'C': 2, 'o': 6, 'r': 4, 'n': 3, 'a': 2, 'v': 1, 'i': 1, 'u': 3, 's': 3, ' ': 5, 'e': 2, 'd': 4, 'L': 1, 'c': 1, 'k': 1, 'w': 1, 'A': 1, 'T': 1, 'h': 1, 'W': 1, 'l': 1, '.': 1}\n"
          ],
          "name": "stdout"
        }
      ]
    },
    {
      "cell_type": "markdown",
      "metadata": {
        "id": "0ZsH-YzjWZpF"
      },
      "source": [
        "# --------------------------------------------------------------------"
      ],
      "id": "0ZsH-YzjWZpF"
    },
    {
      "cell_type": "markdown",
      "metadata": {
        "id": "BokOQIa-WZpG"
      },
      "source": [
        "# Hurray!! Second milestone completed. The next challenge is waiting for you :)\n",
        "\n",
        "# --------------------------------------------------------------------\n",
        "\n",
        "-----------------\n",
        "# FeedBack\n",
        "We hope you’ve enjoyed this course so far. We’re committed to help you use \"AI for All\" course to its full potential, so that you have a great learning experience. And that’s why we need your help in form of a feedback here.\n",
        "\n",
        "Please fill this feedback form  https://zfrmz.in/MtRG5oWXBdesm6rmSM7N"
      ],
      "id": "BokOQIa-WZpG"
    }
  ]
}