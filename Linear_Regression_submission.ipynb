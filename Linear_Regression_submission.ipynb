{
  "nbformat": 4,
  "nbformat_minor": 0,
  "metadata": {
    "kernelspec": {
      "display_name": "Python 3",
      "language": "python",
      "name": "python3"
    },
    "language_info": {
      "codemirror_mode": {
        "name": "ipython",
        "version": 3
      },
      "file_extension": ".py",
      "mimetype": "text/x-python",
      "name": "python",
      "nbconvert_exporter": "python",
      "pygments_lexer": "ipython3",
      "version": "3.8.5"
    },
    "colab": {
      "name": "Linear Regression.ipynb",
      "provenance": []
    }
  },
  "cells": [
    {
      "cell_type": "markdown",
      "metadata": {
        "id": "vc5LpTrAmCrS"
      },
      "source": [
        "#  <center><u>LINEAR REGRESSION<u><center>"
      ]
    },
    {
      "cell_type": "markdown",
      "metadata": {
        "id": "ZMVJQo7xmCrW"
      },
      "source": [
        "<p style='text-align: right;'> Total points =51</p>\n"
      ]
    },
    {
      "cell_type": "markdown",
      "metadata": {
        "id": "t2FsLs6ymCrW"
      },
      "source": [
        "###  Linear Regression\n",
        "\n",
        "\n",
        "Linear Regression is a statistical technique which is used to find the linear relationship between dependent and one or more independent variables. This technique is applicable for Supervised learning Regression problems where we try to predict a continuous variable.\n",
        "\n",
        "\n",
        "Linear Regression can be further classified into two types – Simple and Multiple Linear Regression. It is the simplest form of Linear Regression where we fit a straight line to the data.\n",
        "\n"
      ]
    },
    {
      "cell_type": "markdown",
      "metadata": {
        "id": "hGh4q9jamCrX"
      },
      "source": [
        "###  Simple Linear Regression (SLR)\n",
        "\n",
        "Simple Linear Regression (or SLR) is the simplest model in machine learning. It models the linear relationship between the independent and dependent variables. \n",
        "\n",
        "This assignment is based on the TV and Sales data .\n",
        "There is one independent or input variable which represents the TV data and is denoted by X. Similarly, there is one dependent or output variable which represents the Sales and is denoted by y. We want to build a linear relationship between these variables. This linear relationship can be modelled by mathematical equation of the form:-\n",
        "\t\t\t\t \n",
        "                 \n",
        "                 Y = β0   + β1*X    -------------   (1)\n",
        "                 \n",
        "\n",
        "In this equation, X and Y are called independent and dependent variables respectively,\n",
        "\n",
        "β1 is the coefficient for independent variable and\n",
        "\n",
        "β0 is the constant term.\n",
        "\n",
        "β0 and β1 are called parameters of the model.\n",
        " \n",
        "\n",
        "\n",
        "For simplicity, we can compare the above equation with the basic line equation of the form:-\n",
        " \n",
        "                   y = ax + b       ----------------- (2)\n",
        "\n",
        "We can see that \n",
        "\n",
        "slope of the line is given by, a =  β1,  and\n",
        "\n",
        "intercept of the line by b =  β0. \n",
        "\n",
        "\n",
        "In this Simple Linear Regression model, we want to fit a line which estimates the linear relationship between X and Y. So, the question of fitting reduces to estimating the parameters of the model β0 and β1. \n",
        "\n",
        " \n",
        "\n",
        "## Ordinary Least Square Method\n",
        "\n",
        "The TV and Sales data are given by X and y respectively. We can draw a scatter plot between X and y which shows the relationship between them.\n",
        "\n",
        " \n",
        "\n",
        "Now, our task is to find a line which best fits this scatter plot. This line will help us to predict the value of any Target variable for any given Feature variable. This line is called **Regression line**. \n",
        "\n",
        "\n",
        "We can define an error function for any line. Then, the regression line is the one which minimizes the error function. Such an error function is also called a **Cost function**. \n",
        "\n",
        "By below chart you might understand more clearly\n",
        "\n",
        "![image.png](attachment:image.png)\n",
        "\n"
      ]
    },
    {
      "cell_type": "markdown",
      "metadata": {
        "id": "OGU8IX9XmCrZ"
      },
      "source": [
        "Understanding the Data\n",
        "Let's start with the following steps:\n",
        "\n",
        "1. Importing data using the pandas library\n",
        "2. Understanding the structure of the data"
      ]
    },
    {
      "cell_type": "markdown",
      "metadata": {
        "id": "KlM8KoYbmCra"
      },
      "source": [
        "<p style='text-align: right;'> 2*2=4 points</p>\n"
      ]
    },
    {
      "cell_type": "code",
      "metadata": {
        "id": "x2MArjSQmCrb"
      },
      "source": [
        "# Import necessary libraries\n",
        "\n",
        "import numpy as np\n",
        "import pandas as pd\n",
        "import matplotlib.pyplot as plt\n",
        "import seaborn as sns\n",
        "%matplotlib inline\n",
        "# import %matplotlib inline to visualise in the notebook"
      ],
      "execution_count": 361,
      "outputs": []
    },
    {
      "cell_type": "markdown",
      "metadata": {
        "id": "XhXYEGyHmCrc"
      },
      "source": [
        "## About the dataset\n",
        "\n",
        "Let's import data from the following url:-\n",
        "\n",
        "https://www.kaggle.com/ashydv/advertising-dataset\n",
        "\n",
        "\n",
        "\n",
        "\n"
      ]
    },
    {
      "cell_type": "markdown",
      "metadata": {
        "id": "UmfzQd7tmCrc"
      },
      "source": [
        "<p style='text-align: right;'> 2*6 = 12 points</p>\n"
      ]
    },
    {
      "cell_type": "code",
      "metadata": {
        "colab": {
          "base_uri": "https://localhost:8080/",
          "height": 204
        },
        "id": "VJROCZC6mCrd",
        "outputId": "0e8de429-66e9-46bd-ed2f-1a3f938719c3"
      },
      "source": [
        "# Import the data as df\n",
        "df = pd.read_csv('advertising.csv')\n",
        "df.head()"
      ],
      "execution_count": 362,
      "outputs": [
        {
          "output_type": "execute_result",
          "data": {
            "text/html": [
              "<div>\n",
              "<style scoped>\n",
              "    .dataframe tbody tr th:only-of-type {\n",
              "        vertical-align: middle;\n",
              "    }\n",
              "\n",
              "    .dataframe tbody tr th {\n",
              "        vertical-align: top;\n",
              "    }\n",
              "\n",
              "    .dataframe thead th {\n",
              "        text-align: right;\n",
              "    }\n",
              "</style>\n",
              "<table border=\"1\" class=\"dataframe\">\n",
              "  <thead>\n",
              "    <tr style=\"text-align: right;\">\n",
              "      <th></th>\n",
              "      <th>TV</th>\n",
              "      <th>Radio</th>\n",
              "      <th>Newspaper</th>\n",
              "      <th>Sales</th>\n",
              "    </tr>\n",
              "  </thead>\n",
              "  <tbody>\n",
              "    <tr>\n",
              "      <th>0</th>\n",
              "      <td>230.1</td>\n",
              "      <td>37.8</td>\n",
              "      <td>69.2</td>\n",
              "      <td>22.1</td>\n",
              "    </tr>\n",
              "    <tr>\n",
              "      <th>1</th>\n",
              "      <td>44.5</td>\n",
              "      <td>39.3</td>\n",
              "      <td>45.1</td>\n",
              "      <td>10.4</td>\n",
              "    </tr>\n",
              "    <tr>\n",
              "      <th>2</th>\n",
              "      <td>17.2</td>\n",
              "      <td>45.9</td>\n",
              "      <td>69.3</td>\n",
              "      <td>12.0</td>\n",
              "    </tr>\n",
              "    <tr>\n",
              "      <th>3</th>\n",
              "      <td>151.5</td>\n",
              "      <td>41.3</td>\n",
              "      <td>58.5</td>\n",
              "      <td>16.5</td>\n",
              "    </tr>\n",
              "    <tr>\n",
              "      <th>4</th>\n",
              "      <td>180.8</td>\n",
              "      <td>10.8</td>\n",
              "      <td>58.4</td>\n",
              "      <td>17.9</td>\n",
              "    </tr>\n",
              "  </tbody>\n",
              "</table>\n",
              "</div>"
            ],
            "text/plain": [
              "      TV  Radio  Newspaper  Sales\n",
              "0  230.1   37.8       69.2   22.1\n",
              "1   44.5   39.3       45.1   10.4\n",
              "2   17.2   45.9       69.3   12.0\n",
              "3  151.5   41.3       58.5   16.5\n",
              "4  180.8   10.8       58.4   17.9"
            ]
          },
          "metadata": {
            "tags": []
          },
          "execution_count": 362
        }
      ]
    },
    {
      "cell_type": "code",
      "metadata": {
        "id": "cEA4FabkmCrd"
      },
      "source": [
        "#drop radio and newspaper column from df\n",
        "df.drop(columns=['Radio', 'Newspaper'], inplace = True)\n"
      ],
      "execution_count": 363,
      "outputs": []
    },
    {
      "cell_type": "markdown",
      "metadata": {
        "id": "cv82igntmCre"
      },
      "source": [
        "### pandas shape attribute\n",
        "\n",
        "The shape attribute of the pandas dataframe gives the dimensions of the dataframe."
      ]
    },
    {
      "cell_type": "code",
      "metadata": {
        "colab": {
          "base_uri": "https://localhost:8080/"
        },
        "id": "tgLyQqa3mCre",
        "outputId": "dae26dd1-744f-43b1-cffe-6af4cd62f619"
      },
      "source": [
        "# View the dimensions of df\n",
        "df.shape"
      ],
      "execution_count": 364,
      "outputs": [
        {
          "output_type": "execute_result",
          "data": {
            "text/plain": [
              "(200, 2)"
            ]
          },
          "metadata": {
            "tags": []
          },
          "execution_count": 364
        }
      ]
    },
    {
      "cell_type": "markdown",
      "metadata": {
        "id": "qXaoXIormCrg"
      },
      "source": [
        "### pandas head() method\n"
      ]
    },
    {
      "cell_type": "code",
      "metadata": {
        "colab": {
          "base_uri": "https://localhost:8080/",
          "height": 204
        },
        "id": "xK39Z2SsmCrg",
        "outputId": "2532f202-f83d-4ec5-e667-f044028fefcb"
      },
      "source": [
        "# View the top 5 rows of df\n",
        "df.head()"
      ],
      "execution_count": 365,
      "outputs": [
        {
          "output_type": "execute_result",
          "data": {
            "text/html": [
              "<div>\n",
              "<style scoped>\n",
              "    .dataframe tbody tr th:only-of-type {\n",
              "        vertical-align: middle;\n",
              "    }\n",
              "\n",
              "    .dataframe tbody tr th {\n",
              "        vertical-align: top;\n",
              "    }\n",
              "\n",
              "    .dataframe thead th {\n",
              "        text-align: right;\n",
              "    }\n",
              "</style>\n",
              "<table border=\"1\" class=\"dataframe\">\n",
              "  <thead>\n",
              "    <tr style=\"text-align: right;\">\n",
              "      <th></th>\n",
              "      <th>TV</th>\n",
              "      <th>Sales</th>\n",
              "    </tr>\n",
              "  </thead>\n",
              "  <tbody>\n",
              "    <tr>\n",
              "      <th>0</th>\n",
              "      <td>230.1</td>\n",
              "      <td>22.1</td>\n",
              "    </tr>\n",
              "    <tr>\n",
              "      <th>1</th>\n",
              "      <td>44.5</td>\n",
              "      <td>10.4</td>\n",
              "    </tr>\n",
              "    <tr>\n",
              "      <th>2</th>\n",
              "      <td>17.2</td>\n",
              "      <td>12.0</td>\n",
              "    </tr>\n",
              "    <tr>\n",
              "      <th>3</th>\n",
              "      <td>151.5</td>\n",
              "      <td>16.5</td>\n",
              "    </tr>\n",
              "    <tr>\n",
              "      <th>4</th>\n",
              "      <td>180.8</td>\n",
              "      <td>17.9</td>\n",
              "    </tr>\n",
              "  </tbody>\n",
              "</table>\n",
              "</div>"
            ],
            "text/plain": [
              "      TV  Sales\n",
              "0  230.1   22.1\n",
              "1   44.5   10.4\n",
              "2   17.2   12.0\n",
              "3  151.5   16.5\n",
              "4  180.8   17.9"
            ]
          },
          "metadata": {
            "tags": []
          },
          "execution_count": 365
        }
      ]
    },
    {
      "cell_type": "markdown",
      "metadata": {
        "id": "-78P-_vSmCrh"
      },
      "source": [
        "### pandas info() method"
      ]
    },
    {
      "cell_type": "code",
      "metadata": {
        "colab": {
          "base_uri": "https://localhost:8080/"
        },
        "id": "ajIgstWLmCrh",
        "outputId": "9e838e68-fc50-4ef9-a610-0643f857a0aa"
      },
      "source": [
        "# View dataframe summary\n",
        "df.info()\n"
      ],
      "execution_count": 366,
      "outputs": [
        {
          "output_type": "stream",
          "text": [
            "<class 'pandas.core.frame.DataFrame'>\n",
            "RangeIndex: 200 entries, 0 to 199\n",
            "Data columns (total 2 columns):\n",
            " #   Column  Non-Null Count  Dtype  \n",
            "---  ------  --------------  -----  \n",
            " 0   TV      200 non-null    float64\n",
            " 1   Sales   200 non-null    float64\n",
            "dtypes: float64(2)\n",
            "memory usage: 3.2 KB\n"
          ],
          "name": "stdout"
        }
      ]
    },
    {
      "cell_type": "markdown",
      "metadata": {
        "id": "VaOelv5ymCri"
      },
      "source": [
        "### pandas describe() method"
      ]
    },
    {
      "cell_type": "code",
      "metadata": {
        "colab": {
          "base_uri": "https://localhost:8080/",
          "height": 297
        },
        "id": "53l0eb5JmCri",
        "outputId": "9f2e3866-1b36-4e18-dc81-5f13acf3e940"
      },
      "source": [
        "# View descriptive statistics\n",
        "df.describe()"
      ],
      "execution_count": 367,
      "outputs": [
        {
          "output_type": "execute_result",
          "data": {
            "text/html": [
              "<div>\n",
              "<style scoped>\n",
              "    .dataframe tbody tr th:only-of-type {\n",
              "        vertical-align: middle;\n",
              "    }\n",
              "\n",
              "    .dataframe tbody tr th {\n",
              "        vertical-align: top;\n",
              "    }\n",
              "\n",
              "    .dataframe thead th {\n",
              "        text-align: right;\n",
              "    }\n",
              "</style>\n",
              "<table border=\"1\" class=\"dataframe\">\n",
              "  <thead>\n",
              "    <tr style=\"text-align: right;\">\n",
              "      <th></th>\n",
              "      <th>TV</th>\n",
              "      <th>Sales</th>\n",
              "    </tr>\n",
              "  </thead>\n",
              "  <tbody>\n",
              "    <tr>\n",
              "      <th>count</th>\n",
              "      <td>200.000000</td>\n",
              "      <td>200.000000</td>\n",
              "    </tr>\n",
              "    <tr>\n",
              "      <th>mean</th>\n",
              "      <td>147.042500</td>\n",
              "      <td>15.130500</td>\n",
              "    </tr>\n",
              "    <tr>\n",
              "      <th>std</th>\n",
              "      <td>85.854236</td>\n",
              "      <td>5.283892</td>\n",
              "    </tr>\n",
              "    <tr>\n",
              "      <th>min</th>\n",
              "      <td>0.700000</td>\n",
              "      <td>1.600000</td>\n",
              "    </tr>\n",
              "    <tr>\n",
              "      <th>25%</th>\n",
              "      <td>74.375000</td>\n",
              "      <td>11.000000</td>\n",
              "    </tr>\n",
              "    <tr>\n",
              "      <th>50%</th>\n",
              "      <td>149.750000</td>\n",
              "      <td>16.000000</td>\n",
              "    </tr>\n",
              "    <tr>\n",
              "      <th>75%</th>\n",
              "      <td>218.825000</td>\n",
              "      <td>19.050000</td>\n",
              "    </tr>\n",
              "    <tr>\n",
              "      <th>max</th>\n",
              "      <td>296.400000</td>\n",
              "      <td>27.000000</td>\n",
              "    </tr>\n",
              "  </tbody>\n",
              "</table>\n",
              "</div>"
            ],
            "text/plain": [
              "               TV       Sales\n",
              "count  200.000000  200.000000\n",
              "mean   147.042500   15.130500\n",
              "std     85.854236    5.283892\n",
              "min      0.700000    1.600000\n",
              "25%     74.375000   11.000000\n",
              "50%    149.750000   16.000000\n",
              "75%    218.825000   19.050000\n",
              "max    296.400000   27.000000"
            ]
          },
          "metadata": {
            "tags": []
          },
          "execution_count": 367
        }
      ]
    },
    {
      "cell_type": "markdown",
      "metadata": {
        "id": "TiSLWmwkmCri"
      },
      "source": [
        "## Independent and Dependent Variables\n",
        "\n",
        "\n",
        "### Independent variable\n",
        "\n",
        "Independent variable is also called Input variable and is denoted by X. In practical applications, independent variable is also called Feature variable or Predictor variable. We can denote it as:-\n",
        "\n",
        "Independent or Input variable (X) = Feature variable = Predictor variable \n",
        "\n",
        "\n",
        "### Dependent variable\n",
        "\n",
        "Dependent variable is also called Output variable and is denoted by y. \n",
        "\n",
        "Dependent variable is also called Target variable or Response variable. It can be denoted it as follows:-\n",
        "\n",
        "Dependent or Output variable (y) = Target variable = Response variable\n",
        "\n",
        "\n",
        "\n",
        "Reference : https://www.youtube.com/watch?v=5KLVzJyJOEQ"
      ]
    },
    {
      "cell_type": "markdown",
      "metadata": {
        "id": "YpebNgvamCrj"
      },
      "source": [
        "<p style='text-align: right;'> 2 points</p>\n"
      ]
    },
    {
      "cell_type": "code",
      "metadata": {
        "id": "V7ltaX4smCrk"
      },
      "source": [
        "# Declare feature variable and target variable\n",
        "# TV and Sales data values are given by X and y respectively.\n",
        "# Values attribute of pandas dataframe returns the numpy arrays.\n",
        "X = df['TV']\n",
        "y = df['Sales']\n"
      ],
      "execution_count": 368,
      "outputs": []
    },
    {
      "cell_type": "markdown",
      "metadata": {
        "id": "hnHyD493mCrk"
      },
      "source": [
        "## Visual exploratory data analysis\n",
        "\n",
        "Visualize the relationship between X and y by plotting a scatterplot between X and y."
      ]
    },
    {
      "cell_type": "markdown",
      "metadata": {
        "id": "b7auGBY2mCrl"
      },
      "source": [
        "<p style='text-align: right;'> 2 points</p>\n"
      ]
    },
    {
      "cell_type": "code",
      "metadata": {
        "colab": {
          "base_uri": "https://localhost:8080/",
          "height": 295
        },
        "id": "FZay532lmCrl",
        "outputId": "97e60764-8bc8-4216-850f-b501eeb81882"
      },
      "source": [
        "# Plot scatter plot between X and y\n",
        "plt.scatter(X, y)\n",
        "plt.title('Relationship between TV and Sales')\n",
        "plt.xlabel('TV')\n",
        "plt.ylabel('Sales')\n",
        "plt.legend(['Scatter Plot'], loc = 'lower right')\n",
        "plt.show()"
      ],
      "execution_count": 369,
      "outputs": [
        {
          "output_type": "display_data",
          "data": {
            "image/png": "[encoded data removed]",
            "text/plain": [
              "<Figure size 432x288 with 1 Axes>"
            ]
          },
          "metadata": {
            "tags": [],
            "needs_background": "light"
          }
        }
      ]
    },
    {
      "cell_type": "markdown",
      "metadata": {
        "id": "lfF4w6kymCrm"
      },
      "source": [
        "Hey buddy! did you notice ? the above graph shows some sort of relationship between sales and TV. Don't you think this shows positive linear relation? i.e when As TV's value increases sales increases ans same is vise-versa."
      ]
    },
    {
      "cell_type": "markdown",
      "metadata": {
        "id": "0ez1PyARmCrm"
      },
      "source": [
        "# Visualising Data Using Seaborn\n"
      ]
    },
    {
      "cell_type": "markdown",
      "metadata": {
        "id": "7vSR0DMKmCrm"
      },
      "source": [
        "Reference : https://www.youtube.com/watch?v=cpZExlOKFH4:"
      ]
    },
    {
      "cell_type": "markdown",
      "metadata": {
        "id": "rA7t9hnimCrn"
      },
      "source": [
        "<p style='text-align: right;'> 2*2=4 points</p>\n"
      ]
    },
    {
      "cell_type": "code",
      "metadata": {
        "colab": {
          "base_uri": "https://localhost:8080/",
          "height": 653
        },
        "id": "QBuDtbuJmCrn",
        "outputId": "13c7a758-c6ea-4be4-aeb0-c5e080ad774a"
      },
      "source": [
        "# Visualise the relationship between the features and the response using scatterplots\n",
        "sns.scatterplot(x = df['TV'], y = df['Sales'])\n",
        "\n",
        "\n",
        "# plot a pairplot also for df\n",
        "sns.pairplot(df)\n",
        "\n"
      ],
      "execution_count": 370,
      "outputs": [
        {
          "output_type": "execute_result",
          "data": {
            "text/plain": [
              "<seaborn.axisgrid.PairGrid at 0x7f96589e4250>"
            ]
          },
          "metadata": {
            "tags": []
          },
          "execution_count": 370
        },
        {
          "output_type": "display_data",
          "data": {
            "image/png": "[encoded data removed]",
            "text/plain": [
              "<Figure size 432x288 with 1 Axes>"
            ]
          },
          "metadata": {
            "tags": [],
            "needs_background": "light"
          }
        },
        {
          "output_type": "display_data",
          "data": {
            "image/png": "[encoded data removed]",
            "text/plain": [
              "<Figure size 360x360 with 6 Axes>"
            ]
          },
          "metadata": {
            "tags": [],
            "needs_background": "light"
          }
        }
      ]
    },
    {
      "cell_type": "markdown",
      "metadata": {
        "id": "GBx0BilxmCro"
      },
      "source": [
        "Ohoo! We can see very well that you have done good practice of Visualisation in your EDA assignment. Anyways the above graph also shows positive linear relation between both TV and Sales."
      ]
    },
    {
      "cell_type": "markdown",
      "metadata": {
        "id": "qsmjr2HrmCro"
      },
      "source": [
        "## Checking dimensions of X and y\n",
        "\n",
        "We need to check the dimensions of X and y to make sure they are in right format for Scikit-Learn API. \n"
      ]
    },
    {
      "cell_type": "markdown",
      "metadata": {
        "id": "Xx21ENQumCro"
      },
      "source": [
        "<p style='text-align: right;'> 2points</p>\n"
      ]
    },
    {
      "cell_type": "code",
      "metadata": {
        "colab": {
          "base_uri": "https://localhost:8080/"
        },
        "id": "g5pCUGtCmCrp",
        "outputId": "67ce402e-0b46-450b-9c4d-ceed0b02e32d"
      },
      "source": [
        "# Print the dimensions of X and y\n",
        "print(X.shape)\n",
        "print(y.shape)\n"
      ],
      "execution_count": 371,
      "outputs": [
        {
          "output_type": "stream",
          "text": [
            "(200,)\n",
            "(200,)\n"
          ],
          "name": "stdout"
        }
      ]
    },
    {
      "cell_type": "markdown",
      "metadata": {
        "id": "tAkl8p2HmCrp"
      },
      "source": [
        "## Reshaping X and y\n",
        "\n",
        "Since we are working with only one feature variable, so we need to reshape using Numpy reshape() method.\n",
        "\n",
        "E.g, If you have an array of shape (3,2) then reshaping it with (-1, 1), then the array will get reshaped in such a way that the resulting array has only 1 column and this is only possible by having 6 rows, hence, (6,1)\n",
        "\n",
        "You have seen the above example. Now you smarty! try reshaping on your data."
      ]
    },
    {
      "cell_type": "markdown",
      "metadata": {
        "id": "-ETpm-cRmCrp"
      },
      "source": [
        "<p style='text-align: right;'> 2*2 = 4 points</p>\n"
      ]
    },
    {
      "cell_type": "code",
      "metadata": {
        "id": "uPKOvQX8mCrq"
      },
      "source": [
        "# Reshape X and y\n",
        "X = np.reshape(X.values, (-1,1))\n",
        "y = np.reshape(y.values, (-1,1))\n"
      ],
      "execution_count": 372,
      "outputs": []
    },
    {
      "cell_type": "code",
      "metadata": {
        "colab": {
          "base_uri": "https://localhost:8080/"
        },
        "id": "BJ5j5x9rmCrq",
        "outputId": "13b2d9cd-45b5-49f2-af9c-37e423f4941e"
      },
      "source": [
        "# Print the dimensions of X and y after reshaping\n",
        "print(X.shape)\n",
        "print(y.shape)"
      ],
      "execution_count": 373,
      "outputs": [
        {
          "output_type": "stream",
          "text": [
            "(200, 1)\n",
            "(200, 1)\n"
          ],
          "name": "stdout"
        }
      ]
    },
    {
      "cell_type": "markdown",
      "metadata": {
        "id": "DPY-TQRrmCrr"
      },
      "source": [
        "Cool right!\n",
        "\n",
        "## Difference in dimensions of X and y after reshaping\n",
        "\n",
        "\n",
        "Hey Intellipants! You can see the difference in diminsions of X and y before and after reshaping.\n",
        "\n",
        "It is essential in this case because getting the feature and target variable right is an important precursor to model building."
      ]
    },
    {
      "cell_type": "markdown",
      "metadata": {
        "id": "VQDQ3h6pmCrr"
      },
      "source": [
        "# Performing Simple Linear Regression"
      ]
    },
    {
      "cell_type": "markdown",
      "metadata": {
        "id": "RYesydo6mCrr"
      },
      "source": [
        "Equation of linear regression<br>\n",
        "$y = c + m_1x_1 + m_2x_2 + ... + m_nx_n$\n",
        "\n",
        "-  $y$ is the response\n",
        "-  $c$ is the intercept\n",
        "-  $m_1$ is the coefficient for the first feature\n",
        "-  $m_n$ is the coefficient for the nth feature<br>\n",
        "\n",
        "In our case:\n",
        "\n",
        "$y = c + m_1 \\times TV$\n",
        "\n",
        "The $m$ values are called the model **coefficients** or **model parameters**.\n",
        "\n",
        "Reference - https://www.youtube.com/watch?v=_kb2X85DkKk"
      ]
    },
    {
      "cell_type": "markdown",
      "metadata": {
        "id": "aSgBSjgtmCrs"
      },
      "source": [
        "## Mechanics of the model\n",
        "\n",
        "Hey! before you read further, it is good to understand the generic structure of modeling using the scikit-learn library. Broadly, the steps to build any model can be divided as follows: \n",
        "\n",
        "Split the dataset into two sets – the training set and the test set. Then, instantiate the regressor lm and fit it on the training set with the fit method. \n",
        "\n",
        "In this step, the model learned the relationships between the training data (X_train, y_train). \n",
        "\n",
        "Oh Yeah! Now the model is ready to make predictions on the test data (X_test). Hence, predict on the test data using the predict method. \n"
      ]
    },
    {
      "cell_type": "markdown",
      "metadata": {
        "id": "Od0AlSF0mCrs"
      },
      "source": [
        "The steps are as follow:"
      ]
    },
    {
      "cell_type": "markdown",
      "metadata": {
        "id": "JKz_xSa-mCrs"
      },
      "source": [
        "## Train test split\n",
        "\n",
        "\n",
        "Split the dataset into two sets namely - train set and test set.\n",
        "\n",
        "The model learn the relationships from the training data and predict on test data.\n"
      ]
    },
    {
      "cell_type": "markdown",
      "metadata": {
        "id": "_vuu_SFimCrt"
      },
      "source": [
        "Hey Smartypants!! It's absolutely fine if you didn't understand the theory well! We are here to help you make comfortable with all the concepts slowly as we proceeds towards our upcoming assignments.\n",
        "\n",
        "No fear when AI_4_All is here :)\n",
        "\n",
        "<p style='text-align: right;'> 2+2+3=7 points</p>\n"
      ]
    },
    {
      "cell_type": "code",
      "metadata": {
        "id": "030sJzNOmCrt"
      },
      "source": [
        "# import train_test_split module\n",
        "from sklearn.model_selection import train_test_split\n",
        "\n",
        "# Split X and y into training and test data sets with test_size=0.3 and random_state=42\n",
        "X_train, X_test, y_train, y_test = train_test_split(X, y,test_size=0.3, random_state=42)\n",
        "\n"
      ],
      "execution_count": 374,
      "outputs": []
    },
    {
      "cell_type": "code",
      "metadata": {
        "colab": {
          "base_uri": "https://localhost:8080/"
        },
        "id": "ZP75X5iKmCrt",
        "outputId": "a4d45a1e-a182-4ea8-de7a-612010f79871"
      },
      "source": [
        "# print shapes of X_train,y_train, X_test, y_test\n",
        "print(X_train.shape)\n",
        "print(y_train.shape)\n",
        "print(X_test.shape)\n",
        "print(y_test.shape)"
      ],
      "execution_count": 375,
      "outputs": [
        {
          "output_type": "stream",
          "text": [
            "(140, 1)\n",
            "(140, 1)\n",
            "(60, 1)\n",
            "(60, 1)\n"
          ],
          "name": "stdout"
        }
      ]
    },
    {
      "cell_type": "code",
      "metadata": {
        "colab": {
          "base_uri": "https://localhost:8080/"
        },
        "id": "cW_14UEjmCru",
        "outputId": "631c2c19-e427-4ddf-9189-eb38ecc096fc"
      },
      "source": [
        "# import LinearRegression module\n",
        "from sklearn.linear_model import LinearRegression\n",
        "\n",
        "\n",
        "# Instantiate the linear regression object lm\n",
        "lm = LinearRegression()\n",
        "\n",
        "\n",
        "# Fit and train the model using training data sets\n",
        "lm.fit(X_train, y_train)\n",
        "\n",
        "\n",
        "# Predict on the test data\n",
        "y_pred = lm.predict(X_test)\n",
        "\n",
        "y_pred"
      ],
      "execution_count": 376,
      "outputs": [
        {
          "output_type": "execute_result",
          "data": {
            "text/plain": [
              "array([[16.16109107],\n",
              "       [17.92129084],\n",
              "       [23.26769201],\n",
              "       [ 7.84812269],\n",
              "       [19.28667945],\n",
              "       [11.32465432],\n",
              "       [19.09475735],\n",
              "       [ 9.94829874],\n",
              "       [19.4018327 ],\n",
              "       [16.8081427 ],\n",
              "       [ 8.93385339],\n",
              "       [10.28827502],\n",
              "       [20.0653348 ],\n",
              "       [ 7.50266292],\n",
              "       [14.85602084],\n",
              "       [16.53945177],\n",
              "       [ 7.6068492 ],\n",
              "       [18.04192759],\n",
              "       [11.3356213 ],\n",
              "       [20.22435596],\n",
              "       [19.79116038],\n",
              "       [10.92435967],\n",
              "       [ 9.29028013],\n",
              "       [20.96462689],\n",
              "       [10.99016153],\n",
              "       [10.14022083],\n",
              "       [18.91380224],\n",
              "       [14.84505386],\n",
              "       [11.98815642],\n",
              "       [ 7.66716757],\n",
              "       [18.16256433],\n",
              "       [11.00112851],\n",
              "       [18.11321294],\n",
              "       [ 8.13326408],\n",
              "       [22.59870643],\n",
              "       [20.26822387],\n",
              "       [ 9.85507944],\n",
              "       [22.21486224],\n",
              "       [13.63320293],\n",
              "       [ 8.71451385],\n",
              "       [13.56740107],\n",
              "       [16.91232898],\n",
              "       [ 9.56993804],\n",
              "       [10.62276781],\n",
              "       [19.48956852],\n",
              "       [ 9.30124711],\n",
              "       [11.07789734],\n",
              "       [15.28373293],\n",
              "       [12.94228339],\n",
              "       [11.39045618],\n",
              "       [11.49464246],\n",
              "       [16.44074898],\n",
              "       [ 7.68361804],\n",
              "       [ 7.63426664],\n",
              "       [11.39593967],\n",
              "       [14.30218851],\n",
              "       [11.23143502],\n",
              "       [23.09222038],\n",
              "       [ 8.28131827],\n",
              "       [18.04192759]])"
            ]
          },
          "metadata": {
            "tags": []
          },
          "execution_count": 376
        }
      ]
    },
    {
      "cell_type": "markdown",
      "metadata": {
        "id": "uzEZb6VVmCru"
      },
      "source": [
        "## Model slope and intercept term\n",
        "\n",
        "The model slope is given by lm.coef_ and model intercept term is given by lm.intercept_. \n",
        "\n",
        "for example. if the estimated model slope and intercept values are 1.60509347 and  -11.16003616.\n",
        "\n",
        "So, the equation of the fitted regression line will be:-\n",
        "\n",
        "y = 1.60509347 * x - 11.16003616  \n",
        "\n"
      ]
    },
    {
      "cell_type": "markdown",
      "metadata": {
        "id": "TWp-EIo6mCrv"
      },
      "source": [
        "<p style='text-align: right;'> 2 points</p>\n"
      ]
    },
    {
      "cell_type": "code",
      "metadata": {
        "colab": {
          "base_uri": "https://localhost:8080/"
        },
        "id": "m60YJT_OmCrv",
        "outputId": "648cdafe-9c36-4f7c-ad01-71223b2ecace"
      },
      "source": [
        "# Compute model slope and intercept\n",
        "slope = lm.coef_\n",
        "intercept = lm.intercept_\n",
        "print(slope)\n",
        "intercept"
      ],
      "execution_count": 377,
      "outputs": [
        {
          "output_type": "stream",
          "text": [
            "[[0.05483488]]\n"
          ],
          "name": "stdout"
        },
        {
          "output_type": "execute_result",
          "data": {
            "text/plain": [
              "array([7.20655455])"
            ]
          },
          "metadata": {
            "tags": []
          },
          "execution_count": 377
        }
      ]
    },
    {
      "cell_type": "code",
      "metadata": {
        "colab": {
          "base_uri": "https://localhost:8080/"
        },
        "id": "S01qSUUVmCrv",
        "outputId": "e1058589-f892-4291-c167-910eb3f873a9"
      },
      "source": [
        "# So comment below, our fitted regression line here is ?\n",
        "\n",
        "y#=0.05483488 * x + 7.20655455\n",
        "\n"
      ],
      "execution_count": 378,
      "outputs": [
        {
          "output_type": "execute_result",
          "data": {
            "text/plain": [
              "array([[22.1],\n",
              "       [10.4],\n",
              "       [12. ],\n",
              "       [16.5],\n",
              "       [17.9],\n",
              "       [ 7.2],\n",
              "       [11.8],\n",
              "       [13.2],\n",
              "       [ 4.8],\n",
              "       [15.6],\n",
              "       [12.6],\n",
              "       [17.4],\n",
              "       [ 9.2],\n",
              "       [13.7],\n",
              "       [19. ],\n",
              "       [22.4],\n",
              "       [12.5],\n",
              "       [24.4],\n",
              "       [11.3],\n",
              "       [14.6],\n",
              "       [18. ],\n",
              "       [17.5],\n",
              "       [ 5.6],\n",
              "       [20.5],\n",
              "       [ 9.7],\n",
              "       [17. ],\n",
              "       [15. ],\n",
              "       [20.9],\n",
              "       [18.9],\n",
              "       [10.5],\n",
              "       [21.4],\n",
              "       [11.9],\n",
              "       [13.2],\n",
              "       [17.4],\n",
              "       [11.9],\n",
              "       [17.8],\n",
              "       [25.4],\n",
              "       [14.7],\n",
              "       [10.1],\n",
              "       [21.5],\n",
              "       [16.6],\n",
              "       [17.1],\n",
              "       [20.7],\n",
              "       [17.9],\n",
              "       [ 8.5],\n",
              "       [16.1],\n",
              "       [10.6],\n",
              "       [23.2],\n",
              "       [19.8],\n",
              "       [ 9.7],\n",
              "       [16.4],\n",
              "       [10.7],\n",
              "       [22.6],\n",
              "       [21.2],\n",
              "       [20.2],\n",
              "       [23.7],\n",
              "       [ 5.5],\n",
              "       [13.2],\n",
              "       [23.8],\n",
              "       [18.4],\n",
              "       [ 8.1],\n",
              "       [24.2],\n",
              "       [20.7],\n",
              "       [14. ],\n",
              "       [16. ],\n",
              "       [11.3],\n",
              "       [11. ],\n",
              "       [13.4],\n",
              "       [18.9],\n",
              "       [22.3],\n",
              "       [18.3],\n",
              "       [12.4],\n",
              "       [ 8.8],\n",
              "       [11. ],\n",
              "       [17. ],\n",
              "       [ 8.7],\n",
              "       [ 6.9],\n",
              "       [14.2],\n",
              "       [ 5.3],\n",
              "       [11. ],\n",
              "       [11.8],\n",
              "       [17.3],\n",
              "       [11.3],\n",
              "       [13.6],\n",
              "       [21.7],\n",
              "       [20.2],\n",
              "       [12. ],\n",
              "       [16. ],\n",
              "       [12.9],\n",
              "       [16.7],\n",
              "       [14. ],\n",
              "       [ 7.3],\n",
              "       [19.4],\n",
              "       [22.2],\n",
              "       [11.5],\n",
              "       [16.9],\n",
              "       [16.7],\n",
              "       [20.5],\n",
              "       [25.4],\n",
              "       [17.2],\n",
              "       [16.7],\n",
              "       [23.8],\n",
              "       [19.8],\n",
              "       [19.7],\n",
              "       [20.7],\n",
              "       [15. ],\n",
              "       [ 7.2],\n",
              "       [12. ],\n",
              "       [ 5.3],\n",
              "       [19.8],\n",
              "       [18.4],\n",
              "       [21.8],\n",
              "       [17.1],\n",
              "       [20.9],\n",
              "       [14.6],\n",
              "       [12.6],\n",
              "       [12.2],\n",
              "       [ 9.4],\n",
              "       [15.9],\n",
              "       [ 6.6],\n",
              "       [15.5],\n",
              "       [ 7. ],\n",
              "       [16.6],\n",
              "       [15.2],\n",
              "       [19.7],\n",
              "       [10.6],\n",
              "       [ 6.6],\n",
              "       [11.9],\n",
              "       [24.7],\n",
              "       [ 9.7],\n",
              "       [ 1.6],\n",
              "       [17.7],\n",
              "       [ 5.7],\n",
              "       [19.6],\n",
              "       [10.8],\n",
              "       [11.6],\n",
              "       [ 9.5],\n",
              "       [20.8],\n",
              "       [ 9.6],\n",
              "       [20.7],\n",
              "       [10.9],\n",
              "       [19.2],\n",
              "       [20.1],\n",
              "       [10.4],\n",
              "       [12.3],\n",
              "       [10.3],\n",
              "       [18.2],\n",
              "       [25.4],\n",
              "       [10.9],\n",
              "       [10.1],\n",
              "       [16.1],\n",
              "       [11.6],\n",
              "       [16.6],\n",
              "       [16. ],\n",
              "       [20.6],\n",
              "       [ 3.2],\n",
              "       [15.3],\n",
              "       [10.1],\n",
              "       [ 7.3],\n",
              "       [12.9],\n",
              "       [16.4],\n",
              "       [13.3],\n",
              "       [19.9],\n",
              "       [18. ],\n",
              "       [11.9],\n",
              "       [16.9],\n",
              "       [ 8. ],\n",
              "       [17.2],\n",
              "       [17.1],\n",
              "       [20. ],\n",
              "       [ 8.4],\n",
              "       [17.5],\n",
              "       [ 7.6],\n",
              "       [16.7],\n",
              "       [16.5],\n",
              "       [27. ],\n",
              "       [20.2],\n",
              "       [16.7],\n",
              "       [16.8],\n",
              "       [17.6],\n",
              "       [15.5],\n",
              "       [17.2],\n",
              "       [ 8.7],\n",
              "       [26.2],\n",
              "       [17.6],\n",
              "       [22.6],\n",
              "       [10.3],\n",
              "       [17.3],\n",
              "       [20.9],\n",
              "       [ 6.7],\n",
              "       [10.8],\n",
              "       [11.9],\n",
              "       [ 5.9],\n",
              "       [19.6],\n",
              "       [17.3],\n",
              "       [ 7.6],\n",
              "       [14. ],\n",
              "       [14.8],\n",
              "       [25.5],\n",
              "       [18.4]])"
            ]
          },
          "metadata": {
            "tags": []
          },
          "execution_count": 378
        }
      ]
    },
    {
      "cell_type": "markdown",
      "metadata": {
        "id": "CYdYK3iWmCrw"
      },
      "source": [
        "That is our linear model. Wohoo! Awesome job done! \n",
        "\n",
        "## Making predictions\n",
        "\n",
        "\n",
        "To make prediction, on an individual TV value, \n",
        "\n",
        "\n",
        "\t\tlm.predict(Xi)\n",
        "        \n",
        "\n",
        "where Xi is the TV data value of the ith observation.\n",
        "\n"
      ]
    },
    {
      "cell_type": "markdown",
      "metadata": {
        "id": "rlSzY6vzmCrw"
      },
      "source": [
        "<p style='text-align: right;'> 2 points</p>\n"
      ]
    },
    {
      "cell_type": "code",
      "metadata": {
        "colab": {
          "base_uri": "https://localhost:8080/"
        },
        "id": "g3Wbt3VmmCrx",
        "outputId": "89001a2b-40e9-4e35-e8dc-364d200d5497"
      },
      "source": [
        "# Predicting Sales values on first five 5 TV  datasets only\n",
        "lm.predict(X[:5])"
      ],
      "execution_count": 379,
      "outputs": [
        {
          "output_type": "execute_result",
          "data": {
            "text/plain": [
              "array([[19.82406131],\n",
              "       [ 9.64670688],\n",
              "       [ 8.14971455],\n",
              "       [15.51403944],\n",
              "       [17.12070154]])"
            ]
          },
          "metadata": {
            "tags": []
          },
          "execution_count": 379
        }
      ]
    },
    {
      "cell_type": "markdown",
      "metadata": {
        "id": "YLmIGEqimCry"
      },
      "source": [
        "We know that you can also do prediction for all values of TV available in our dataset\n",
        "\n",
        "Can you show it now?\n",
        "\n"
      ]
    },
    {
      "cell_type": "code",
      "metadata": {
        "id": "iZT9WLBUmCry"
      },
      "source": [
        "# prediction for all X present in the dataset\n",
        "pred = lm.predict(X)"
      ],
      "execution_count": 380,
      "outputs": []
    },
    {
      "cell_type": "markdown",
      "metadata": {
        "id": "FOyinEUomCry"
      },
      "source": [
        "## Regression metrics for model performance\n",
        "\n",
        "\n",
        "Now, it is the time to evaluate model performance. \n",
        "\n",
        "For regression problems, there are two ways to compute the model performance. They are RMSE (Root Mean Square Error) and R-Squared Value. These are explained below:-  \n",
        "\n",
        "\n",
        "### RMSE\n",
        "\n",
        "    RMSE is the standard deviation of the residuals. So, RMSE gives us the standard deviation of the unexplained variance by the model. It can be calculated by taking square root of Mean Squared Error.\n",
        "    RMSE is an absolute measure of fit. It gives us how spread the residuals are, given by the standard deviation of the residuals. The more concentrated the data is around the regression line, the lower the residuals and hence lower the standard deviation of residuals. It results in lower values of RMSE. So, lower values of RMSE indicate better fit of data. \n",
        "\n",
        "Formula:\n",
        "![image.png](attachment:image.png)\n",
        "\n"
      ]
    },
    {
      "cell_type": "markdown",
      "metadata": {
        "id": "nnOaEp_BmCrz"
      },
      "source": [
        "### R-Squared\n",
        "\n",
        "    (R2) Correlation explains the strength of the relationship between an independent and dependent variable,whereas R-square explains to what extent the variance of one variable explains the variance of the second variable. Hence It may also be known as the coefficient of determination.\n",
        "    So, if the R2 of a model is 0.50, then approximately half of the observed variation can be explained by the model's inputs.\n",
        "    In general, the higher the R2 Score value, the better the model fits the data. Usually, its value ranges from 0 to 1. So, we want its value to be as close to 1. Its value can become negative if our model is wrong.\n",
        "\n",
        "Fomula:\n",
        "\n",
        "![image.png](attachment:image.png)"
      ]
    },
    {
      "cell_type": "markdown",
      "metadata": {
        "id": "6XWRxrqXmCrz"
      },
      "source": [
        "<p style='text-align: right;'> 2*2 = 4 points</p>\n"
      ]
    },
    {
      "cell_type": "markdown",
      "metadata": {
        "id": "Z84xx6hemCr0"
      },
      "source": [
        "Reference:\n",
        "https://www.youtube.com/watch?v=gofilGC-vMk&t=8s"
      ]
    },
    {
      "cell_type": "code",
      "metadata": {
        "colab": {
          "base_uri": "https://localhost:8080/"
        },
        "id": "PPIFGyBbmCr0",
        "outputId": "bf4b061a-54f0-4b16-d76b-a612484407ac"
      },
      "source": [
        "# import mean_squared_error module\n",
        "from sklearn.metrics import mean_squared_error\n",
        "\n",
        "# Calculate and print Root Mean Square Error(RMSE)\n",
        "RMSE = mean_squared_error(y_true = y_test,y_pred = y_pred) ** (1/2)\n",
        "RMSE.round(4)"
      ],
      "execution_count": 381,
      "outputs": [
        {
          "output_type": "execute_result",
          "data": {
            "text/plain": [
              "2.2759"
            ]
          },
          "metadata": {
            "tags": []
          },
          "execution_count": 381
        }
      ]
    },
    {
      "cell_type": "code",
      "metadata": {
        "colab": {
          "base_uri": "https://localhost:8080/"
        },
        "id": "x35HoCMimCr0",
        "outputId": "ea42485b-83cf-4fe7-b45c-b069fb9f3597"
      },
      "source": [
        "# import r2_score module\n",
        "from sklearn.metrics import r2_score\n",
        "\n",
        "# Calculate and print r2_score\n",
        "r2 = r2_score(y_true = y_test, y_pred = y_pred)\n",
        "r2.round(4)"
      ],
      "execution_count": 382,
      "outputs": [
        {
          "output_type": "execute_result",
          "data": {
            "text/plain": [
              "0.8149"
            ]
          },
          "metadata": {
            "tags": []
          },
          "execution_count": 382
        }
      ]
    },
    {
      "cell_type": "markdown",
      "metadata": {
        "id": "IWs3FA-ImCr1"
      },
      "source": [
        "## Interpretation and Conclusion\n",
        "\n",
        "\n",
        "The RMSE value has been found to be  2.2759. It means the standard deviation for our prediction is  2.2759. which is quite less. Sometimes we can also expect the RMSE to be less than  2.2759. So, the model is good fit to the data. \n",
        "\n",
        "\n",
        "In business decisions, the benchmark for the R2 score value is 0.7. It means if R2 score value >= 0.7, then the model is good enough to deploy on unseen data whereas if R2 score value < 0.7, then the model is not good enough to deploy. Our R2 score value has been found to be  0.8149. It means that this model explains  81.49 % of the variance in our dependent variable. So, the R2 score value confirms that the model is good enough to deploy because it provides good fit to the data.\n",
        "\n",
        "Wohoo! Really good job done!"
      ]
    },
    {
      "cell_type": "markdown",
      "metadata": {
        "id": "IPt1M803mCr1"
      },
      "source": [
        "<p style='text-align: right;'> 2 points</p>\n",
        "\n",
        "Reference: https://www.youtube.com/watch?v=b0L47BeklTE"
      ]
    },
    {
      "cell_type": "code",
      "metadata": {
        "colab": {
          "base_uri": "https://localhost:8080/",
          "height": 295
        },
        "id": "S5QQps2PmCr2",
        "outputId": "d67d1cd9-c8b6-4e23-e241-625256fc7e5f"
      },
      "source": [
        "# Plot the Regression Line between X and Y as shown in below output.\n",
        "plt.plot(X_test, y_pred, label = \"Regressor Line\", color = 'black')\n",
        "plt.scatter(X_test, y_test, label = \"Scatter Plot\", color = 'blue')\n",
        "plt.title('Relationship between Sales and Advertising')\n",
        "plt.xlabel('Sales')\n",
        "plt.ylabel('Advertising')\n",
        "plt.legend(loc = 'lower right')\n",
        "plt.show()"
      ],
      "execution_count": 383,
      "outputs": [
        {
          "output_type": "display_data",
          "data": {
            "image/png": "[encoded data removed]",
            "text/plain": [
              "<Figure size 432x288 with 1 Axes>"
            ]
          },
          "metadata": {
            "tags": [],
            "needs_background": "light"
          }
        }
      ]
    },
    {
      "cell_type": "markdown",
      "metadata": {
        "id": "JXkRTgkimCr2"
      },
      "source": [
        "As you can see above, the regression line fits the data quite well. Wow!"
      ]
    },
    {
      "cell_type": "markdown",
      "metadata": {
        "id": "Ox0OFmyImCr2"
      },
      "source": [
        "## Residual analysis\n",
        "\n",
        "Reference: https://www.youtube.com/watch?v=iMdtTCX2Q70\n",
        "\n",
        "A linear regression model may not represent the data appropriately. The model may be a poor fit to the data. So, we should validate our model by defining and examining residual plots.\n",
        "\n",
        "The difference between the observed value of the dependent variable (y) and the predicted value (ŷi) is called the residual and is denoted by e or error. The scatter-plot of these residuals is called residual plot.\n",
        "\n",
        "If the data points in a residual plot are randomly dispersed around horizontal axis and an approximate zero residual mean, a linear regression model may be appropriate for the data. Otherwise a non-linear model may be more appropriate.\n",
        "\n",
        "If we take a look at the generated ‘Residual errors’ plot, we can clearly see that the train data plot pattern is non-random. Same is the case with the test data plot pattern.\n",
        "So, it suggests a better-fit for a non-linear model. \n",
        "\n"
      ]
    },
    {
      "cell_type": "markdown",
      "metadata": {
        "id": "OjzHqyu7mCr3"
      },
      "source": [
        "<p style='text-align: right;'> 2 points</p>\n"
      ]
    },
    {
      "cell_type": "code",
      "metadata": {
        "colab": {
          "base_uri": "https://localhost:8080/",
          "height": 281
        },
        "id": "dVB1vgbGmCr3",
        "outputId": "5f16c0c3-bb3e-46b8-dfcc-7dffd4d10a03"
      },
      "source": [
        "# Plotting residual errors\n",
        "pred1 = lm.predict(X_train)\n",
        "res = y_train - pred1\n",
        "res1 = y_test - y_pred\n",
        "plt.title('Residual Errors')\n",
        "plt.scatter(pred1, res, color = 'red', label = \"Train Data\")\n",
        "plt.scatter(y_pred, res1, color = 'blue', label = \"Test Data\")\n",
        "plt.hlines(xmin = 0, xmax = 50, y = 0, linewidth = 3)\n",
        "plt.legend(loc = 'lower right')\n",
        "plt.show()"
      ],
      "execution_count": 384,
      "outputs": [
        {
          "output_type": "display_data",
          "data": {
            "image/png": "[encoded data removed]",
            "text/plain": [
              "<Figure size 432x288 with 1 Axes>"
            ]
          },
          "metadata": {
            "tags": [],
            "needs_background": "light"
          }
        }
      ]
    },
    {
      "cell_type": "markdown",
      "metadata": {
        "id": "HfuPb_K3mCr3"
      },
      "source": [
        "## Checking for Overfitting and Underfitting\n",
        "\n",
        "\n",
        "We will see training set score and test set score.\n",
        "\n",
        "You can excpect the training set score to be 0.7996, which is averagely good. So, the model learned the relationships quite appropriately from the training data. Thus, the model performs good on the test data as test score will be  0.8149. It is a clear sign of good fit/ balanced fit. Hence, we can validated our finding that the linear regression model provides good fit to the data. \n",
        "\n",
        "\n",
        "**Underfitting**: Your model is underfitting the training data when the model performs poorly on the training data. This is because the model is unable to capture the relationship between the input examples (often called X) and the target values (often called Y). \n",
        "\n",
        "**Overfitting**: Your model is overfitting your training data when you see that the model performs well on the training data but does not perform well on the evaluation data. This is because the model is memorizing the data it has seen and is unable to generalize to unseen examples.\n",
        "\n",
        "You see the difference visually as below:\n",
        "\n",
        "![image.png](attachment:image.png)\n"
      ]
    },
    {
      "cell_type": "markdown",
      "metadata": {
        "id": "ZhkbSSaCmCr4"
      },
      "source": [
        "<p style='text-align: right;'> 2 points</p>\n"
      ]
    },
    {
      "cell_type": "code",
      "metadata": {
        "colab": {
          "base_uri": "https://localhost:8080/"
        },
        "id": "mbmS1a6UmCr4",
        "outputId": "379464ca-f2ff-4c5b-cabe-d28b0336025b"
      },
      "source": [
        "# Checking for Overfitting or Underfitting the data by calculation score using score function.\n",
        "print(lm.score(X_train,y_train))\n",
        "print(lm.score(X_test, y_test))\n"
      ],
      "execution_count": 385,
      "outputs": [
        {
          "output_type": "stream",
          "text": [
            "0.799626928219267\n",
            "0.814855389208679\n"
          ],
          "name": "stdout"
        }
      ]
    },
    {
      "cell_type": "markdown",
      "metadata": {
        "id": "hnBCyiZWmCr4"
      },
      "source": [
        "As you can see above that you have your simple linear model with train and test score close to each other, i.e your model is not overfitting or underfitting.\n",
        "But before we jump into any conclusion on this, it is always better to do cross validation, which will be introduced to you in your next assignment."
      ]
    },
    {
      "cell_type": "markdown",
      "metadata": {
        "id": "5Tg2Mz9GmCr5"
      },
      "source": [
        "## Simple Linear Regression - Model Assumptions\n",
        "\n",
        "Reference:- https://www.youtube.com/watch?v=rw84t7QU2O0\n",
        "\n",
        "The Linear Regression Model is based on several assumptions which are listed below:-\n",
        "\n",
        "i.\tLinear relationship\n",
        "ii.\tMultivariate normality\n",
        "iii.\tNo or little multicollinearity\n",
        "iv.\tNo auto-correlation\n",
        "v.\tHomoscedasticity\n",
        "\n",
        "\n",
        "### i.\tLinear relationship\n",
        "\n",
        "\n",
        "The relationship between response and feature variables should be linear. This linear relationship assumption can be tested by plotting a scatter-plot between response and feature variables.\n",
        "\n",
        "\n",
        "### ii.\tMultivariate normality\n",
        "\n",
        "The linear regression model requires all variables to be multivariate normal. A multivariate normal distribution means a vector in multiple normally distributed variables, where any linear combination of the variables is also normally distributed.\n",
        "\n",
        "\n",
        "### iii.\tNo or little multicollinearity\n",
        "\n",
        "It is assumed that there is little or no multicollinearity in the data. Multicollinearity occurs when the features (or independent variables) are highly correlated.\n",
        "\n",
        "\n",
        "### iv.\tNo auto-correlation\n",
        "\n",
        "Also, it is assumed that there is little or no auto-correlation in the data. Autocorrelation occurs when the residual errors are not independent from each other.\n",
        "\n",
        "\n",
        "### v.\tHomoscedasticity\n",
        "\n",
        "Homoscedasticity describes a situation in which the error term (that is, the noise in the model) is the same across all values of the independent variables. It means the residuals are same across the regression line. It can be checked by looking at scatter plot.\n"
      ]
    },
    {
      "cell_type": "markdown",
      "metadata": {
        "id": "gU3iteXEmCr5"
      },
      "source": [
        "#  Congratulations on building your first machine learning model! Smile please! :)\n"
      ]
    },
    {
      "cell_type": "markdown",
      "metadata": {
        "id": "L-hlfnyemCr5"
      },
      "source": [
        "# Its Feedback Time!\n",
        "\n",
        "We hope you’ve enjoyed this course so far. We’re committed to help you use \"AI for All\" course to its full potential, so that you have a great learning experience. And that’s why we need your help in form of a feedback here.\n",
        "\n",
        "**Please fill this feedback form**\n",
        " https://zfrmz.in/MtRG5oWXBdesm6rmSM7N"
      ]
    }
  ]
}