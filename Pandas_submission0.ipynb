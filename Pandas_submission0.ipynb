{
  "nbformat": 4,
  "nbformat_minor": 5,
  "metadata": {
    "kernelspec": {
      "display_name": "Python 3",
      "language": "python",
      "name": "python3"
    },
    "language_info": {
      "codemirror_mode": {
        "name": "ipython",
        "version": 3
      },
      "file_extension": ".py",
      "mimetype": "text/x-python",
      "name": "python",
      "nbconvert_exporter": "python",
      "pygments_lexer": "ipython3",
      "version": "3.8.5"
    },
    "colab": {
      "name": "Pandas.ipynb",
      "provenance": []
    }
  },
  "cells": [
    {
      "cell_type": "markdown",
      "metadata": {
        "id": "WX9AKaSR-mnI"
      },
      "source": [
        "# <center><u>Pandas <u> </center>"
      ],
      "id": "WX9AKaSR-mnI"
    },
    {
      "cell_type": "markdown",
      "metadata": {
        "id": "QfiT4Q5r-mnJ"
      },
      "source": [
        "## 1.[Pandas Series](https://pandas.pydata.org/pandas-docs/stable/reference/series.html)"
      ],
      "id": "QfiT4Q5r-mnJ"
    },
    {
      "cell_type": "markdown",
      "metadata": {
        "id": "GOxSvVsL-mnK"
      },
      "source": [
        "resource - https://www.youtube.com/watch?v=m7gxnZx2vT4"
      ],
      "id": "GOxSvVsL-mnK"
    },
    {
      "cell_type": "markdown",
      "metadata": {
        "id": "z-W1LvBR-mnL"
      },
      "source": [
        "<p style='text-align: right;'> 1*4=4 points</p>\n"
      ],
      "id": "z-W1LvBR-mnL"
    },
    {
      "cell_type": "markdown",
      "metadata": {
        "id": "YwsKOtSy-mnM"
      },
      "source": [
        "Import pandas and numpy with their aliases"
      ],
      "id": "YwsKOtSy-mnM"
    },
    {
      "cell_type": "code",
      "metadata": {
        "id": "wimIEQV7-mnM"
      },
      "source": [
        "import pandas as pd\n",
        "import numpy as np\n"
      ],
      "id": "wimIEQV7-mnM",
      "execution_count": 1162,
      "outputs": []
    },
    {
      "cell_type": "markdown",
      "metadata": {
        "id": "nLvrdeHV-mnN"
      },
      "source": [
        "Create a variable a = pd.Series([ 100, 200, 300, 400])"
      ],
      "id": "nLvrdeHV-mnN"
    },
    {
      "cell_type": "code",
      "metadata": {
        "id": "C2BFtwsw-mnO"
      },
      "source": [
        "a = pd.Series([100, 200, 300, 400])"
      ],
      "id": "C2BFtwsw-mnO",
      "execution_count": 1163,
      "outputs": []
    },
    {
      "cell_type": "markdown",
      "metadata": {
        "id": "4K6IkvoV-mnO"
      },
      "source": [
        "Print a, and data type"
      ],
      "id": "4K6IkvoV-mnO"
    },
    {
      "cell_type": "code",
      "metadata": {
        "colab": {
          "base_uri": "https://localhost:8080/"
        },
        "id": "HhchNlkN-mnP",
        "outputId": "ba97b009-e796-4fac-8d4d-a047be2ad2c4"
      },
      "source": [
        "print(a)\n",
        "print(type(a))"
      ],
      "id": "HhchNlkN-mnP",
      "execution_count": 1164,
      "outputs": [
        {
          "output_type": "stream",
          "text": [
            "0    100\n",
            "1    200\n",
            "2    300\n",
            "3    400\n",
            "dtype: int64\n",
            "<class 'pandas.core.series.Series'>\n"
          ],
          "name": "stdout"
        }
      ]
    },
    {
      "cell_type": "markdown",
      "metadata": {
        "id": "1KKdbdxk-mnQ"
      },
      "source": [
        "Using indexing access the element 300 from the series a."
      ],
      "id": "1KKdbdxk-mnQ"
    },
    {
      "cell_type": "code",
      "metadata": {
        "colab": {
          "base_uri": "https://localhost:8080/"
        },
        "id": "6CihloYd-mnR",
        "outputId": "6ea025d8-1468-47f4-9760-6ae5155b220b"
      },
      "source": [
        "a[2]"
      ],
      "id": "6CihloYd-mnR",
      "execution_count": 1165,
      "outputs": [
        {
          "output_type": "execute_result",
          "data": {
            "text/plain": [
              "300"
            ]
          },
          "metadata": {
            "tags": []
          },
          "execution_count": 1165
        }
      ]
    },
    {
      "cell_type": "markdown",
      "metadata": {
        "id": "_6wvxP0H-mnR"
      },
      "source": [
        "What are the values of index for series a?"
      ],
      "id": "_6wvxP0H-mnR"
    },
    {
      "cell_type": "markdown",
      "metadata": {
        "id": "_l0mR-rD-mnS"
      },
      "source": [
        "<p style='text-align: right;'> 2*4 = 8 points</p>\n"
      ],
      "id": "_l0mR-rD-mnS"
    },
    {
      "cell_type": "code",
      "metadata": {
        "colab": {
          "base_uri": "https://localhost:8080/"
        },
        "id": "rHL0KJz9-mnS",
        "outputId": "013ce53f-f50e-4c4f-ad60-0a0e5e1bd5b1"
      },
      "source": [
        "a.index"
      ],
      "id": "rHL0KJz9-mnS",
      "execution_count": 1166,
      "outputs": [
        {
          "output_type": "execute_result",
          "data": {
            "text/plain": [
              "RangeIndex(start=0, stop=4, step=1)"
            ]
          },
          "metadata": {
            "tags": []
          },
          "execution_count": 1166
        }
      ]
    },
    {
      "cell_type": "markdown",
      "metadata": {
        "id": "XkYKC3fT-mnT"
      },
      "source": [
        "Change the index to  ['c', 'a', 'b', 'd']"
      ],
      "id": "XkYKC3fT-mnT"
    },
    {
      "cell_type": "code",
      "metadata": {
        "colab": {
          "base_uri": "https://localhost:8080/"
        },
        "id": "WTKTPCof-mnU",
        "outputId": "e220fa87-9182-4db8-a395-0c439301e842"
      },
      "source": [
        "a.index = ['c','a','b','d']\n",
        "a.reset_index()\n",
        "a"
      ],
      "id": "WTKTPCof-mnU",
      "execution_count": 1167,
      "outputs": [
        {
          "output_type": "execute_result",
          "data": {
            "text/plain": [
              "c    100\n",
              "a    200\n",
              "b    300\n",
              "d    400\n",
              "dtype: int64"
            ]
          },
          "metadata": {
            "tags": []
          },
          "execution_count": 1167
        }
      ]
    },
    {
      "cell_type": "markdown",
      "metadata": {
        "id": "KLI5s_Rw-mnU"
      },
      "source": [
        "Access the value in the series with index 'd'"
      ],
      "id": "KLI5s_Rw-mnU"
    },
    {
      "cell_type": "code",
      "metadata": {
        "colab": {
          "base_uri": "https://localhost:8080/"
        },
        "id": "E1IWV6u4-mnV",
        "outputId": "5f60f5c1-7d29-40b3-d9e8-c1b1dfb986a9"
      },
      "source": [
        "a['d']"
      ],
      "id": "E1IWV6u4-mnV",
      "execution_count": 1168,
      "outputs": [
        {
          "output_type": "execute_result",
          "data": {
            "text/plain": [
              "400"
            ]
          },
          "metadata": {
            "tags": []
          },
          "execution_count": 1168
        }
      ]
    },
    {
      "cell_type": "markdown",
      "metadata": {
        "id": "G0jTF7T--mnV"
      },
      "source": [
        "Sort the values wrt to the index and print it"
      ],
      "id": "G0jTF7T--mnV"
    },
    {
      "cell_type": "code",
      "metadata": {
        "colab": {
          "base_uri": "https://localhost:8080/"
        },
        "id": "b4EcA_gK-mnW",
        "outputId": "27cb65d6-6f99-48e2-ce85-862867e17420"
      },
      "source": [
        "a = a.sort_index()\n",
        "print(a)"
      ],
      "id": "b4EcA_gK-mnW",
      "execution_count": 1169,
      "outputs": [
        {
          "output_type": "stream",
          "text": [
            "a    200\n",
            "b    300\n",
            "c    100\n",
            "d    400\n",
            "dtype: int64\n"
          ],
          "name": "stdout"
        }
      ]
    },
    {
      "cell_type": "markdown",
      "metadata": {
        "id": "tXquVCDc-mnW"
      },
      "source": [
        "Create a new Pandas Series b having index as 'e', 'f', and 'g' and value 800,450,100 and print it"
      ],
      "id": "tXquVCDc-mnW"
    },
    {
      "cell_type": "markdown",
      "metadata": {
        "id": "Bc9ll6F6-mnX"
      },
      "source": [
        "<p style='text-align: right;'> 4*2=8 points</p>\n"
      ],
      "id": "Bc9ll6F6-mnX"
    },
    {
      "cell_type": "code",
      "metadata": {
        "colab": {
          "base_uri": "https://localhost:8080/"
        },
        "id": "uWCHJaGA-mnX",
        "outputId": "2ca3de30-d0d4-4b23-8a02-c959ff38f0c8"
      },
      "source": [
        "b=pd.Series([800,450,100], index = ['e','f','g'])# code here\n",
        "print(b)"
      ],
      "id": "uWCHJaGA-mnX",
      "execution_count": 1170,
      "outputs": [
        {
          "output_type": "stream",
          "text": [
            "e    800\n",
            "f    450\n",
            "g    100\n",
            "dtype: int64\n"
          ],
          "name": "stdout"
        }
      ]
    },
    {
      "cell_type": "markdown",
      "metadata": {
        "id": "5n9YKz79-mnY"
      },
      "source": [
        "Append b series at the end of a series"
      ],
      "id": "5n9YKz79-mnY"
    },
    {
      "cell_type": "code",
      "metadata": {
        "id": "__4EezSX-mnY"
      },
      "source": [
        "a = a.append(b)"
      ],
      "id": "__4EezSX-mnY",
      "execution_count": 1171,
      "outputs": []
    },
    {
      "cell_type": "code",
      "metadata": {
        "colab": {
          "base_uri": "https://localhost:8080/"
        },
        "id": "gKAa73PS-mnY",
        "outputId": "198ae04c-76b3-47e3-f881-34265182737e"
      },
      "source": [
        "#print a again after appending b into it\n",
        "print(a)"
      ],
      "id": "gKAa73PS-mnY",
      "execution_count": 1172,
      "outputs": [
        {
          "output_type": "stream",
          "text": [
            "a    200\n",
            "b    300\n",
            "c    100\n",
            "d    400\n",
            "e    800\n",
            "f    450\n",
            "g    100\n",
            "dtype: int64\n"
          ],
          "name": "stdout"
        }
      ]
    },
    {
      "cell_type": "markdown",
      "metadata": {
        "id": "NcSmRC3m-mnZ"
      },
      "source": [
        "Sort the values in descending order of a and print the index of the sorted series"
      ],
      "id": "NcSmRC3m-mnZ"
    },
    {
      "cell_type": "code",
      "metadata": {
        "id": "_D33l_rK-mna"
      },
      "source": [
        "a=a.sort_values(ascending = False)#code here"
      ],
      "id": "_D33l_rK-mna",
      "execution_count": 1173,
      "outputs": []
    },
    {
      "cell_type": "code",
      "metadata": {
        "colab": {
          "base_uri": "https://localhost:8080/"
        },
        "id": "bU5Kv7qL-mna",
        "outputId": "10de69df-3f63-4c6d-c487-0a5c346a37e4"
      },
      "source": [
        "# print index of a\n",
        "a.index"
      ],
      "id": "bU5Kv7qL-mna",
      "execution_count": 1174,
      "outputs": [
        {
          "output_type": "execute_result",
          "data": {
            "text/plain": [
              "Index(['e', 'f', 'd', 'b', 'a', 'g', 'c'], dtype='object')"
            ]
          },
          "metadata": {
            "tags": []
          },
          "execution_count": 1174
        }
      ]
    },
    {
      "cell_type": "markdown",
      "metadata": {
        "id": "fwCm9sSn-mnb"
      },
      "source": [
        "## 2. [Pandas DataFrame](https://pandas.pydata.org/pandas-docs/stable/reference/api/pandas.DataFrame.html)\n",
        "\n",
        "Reference:-https://www.youtube.com/watch?v=KB-19V-cSs4"
      ],
      "id": "fwCm9sSn-mnb"
    },
    {
      "cell_type": "markdown",
      "metadata": {
        "id": "eEkALQCO-mnb"
      },
      "source": [
        "<p style='text-align: right;'> 8*2 = 16 points</p>\n"
      ],
      "id": "eEkALQCO-mnb"
    },
    {
      "cell_type": "markdown",
      "metadata": {
        "id": "sVx2jmi3-mnc"
      },
      "source": [
        "### Part 1"
      ],
      "id": "sVx2jmi3-mnc"
    },
    {
      "cell_type": "markdown",
      "metadata": {
        "id": "btKAupjR-mnc"
      },
      "source": [
        "<p style='text-align: right;'> 5 points</p>\n"
      ],
      "id": "btKAupjR-mnc"
    },
    {
      "cell_type": "markdown",
      "metadata": {
        "id": "cH1utFYO-mnd"
      },
      "source": [
        "Create a pandas dataframe df from the series 'a' that we used in the last section, print the dataframe"
      ],
      "id": "cH1utFYO-mnd"
    },
    {
      "cell_type": "code",
      "metadata": {
        "colab": {
          "base_uri": "https://localhost:8080/"
        },
        "id": "NwVY1l4r-mnd",
        "outputId": "dde6ff1c-6ba9-4e52-bff8-5dd540f725b0"
      },
      "source": [
        "df = pd.DataFrame(a)\n",
        "print(df)"
      ],
      "id": "NwVY1l4r-mnd",
      "execution_count": 1175,
      "outputs": [
        {
          "output_type": "stream",
          "text": [
            "     0\n",
            "e  800\n",
            "f  450\n",
            "d  400\n",
            "b  300\n",
            "a  200\n",
            "g  100\n",
            "c  100\n"
          ],
          "name": "stdout"
        }
      ]
    },
    {
      "cell_type": "markdown",
      "metadata": {
        "id": "fMeIzOXk-mne"
      },
      "source": [
        "Point to ponder! Don't you think series a and dataframe df looks alike? But there must be some difference between them. \n",
        "Hey buddy think and write your thoughts below."
      ],
      "id": "fMeIzOXk-mne"
    },
    {
      "cell_type": "code",
      "metadata": {
        "id": "-eNcyknv-mne"
      },
      "source": [
        "# happy to know your comment\n",
        "# dataframe is like a spreadsheet, series is like a key value pairs\n",
        "# series contain only single list with index, dataframe can be collection of a series"
      ],
      "id": "-eNcyknv-mne",
      "execution_count": 1176,
      "outputs": []
    },
    {
      "cell_type": "markdown",
      "metadata": {
        "id": "nYmvEvH2-mnf"
      },
      "source": [
        "<p style='text-align: right;'> 2 + 1*4 = 6 points</p>\n"
      ],
      "id": "nYmvEvH2-mnf"
    },
    {
      "cell_type": "markdown",
      "metadata": {
        "id": "bZOUxciy-mnf"
      },
      "source": [
        "What is the shape of the datafarme <br>\n"
      ],
      "id": "bZOUxciy-mnf"
    },
    {
      "cell_type": "code",
      "metadata": {
        "colab": {
          "base_uri": "https://localhost:8080/"
        },
        "id": "Y-npzv5J-mng",
        "outputId": "e9dd8abb-7904-496f-f950-120e66364178"
      },
      "source": [
        "df.shape"
      ],
      "id": "Y-npzv5J-mng",
      "execution_count": 1177,
      "outputs": [
        {
          "output_type": "execute_result",
          "data": {
            "text/plain": [
              "(7, 1)"
            ]
          },
          "metadata": {
            "tags": []
          },
          "execution_count": 1177
        }
      ]
    },
    {
      "cell_type": "markdown",
      "metadata": {
        "id": "kjuv6SMW-mng"
      },
      "source": [
        "Hey! remember shape (7,1) implies dataframe has 7 rows and 1 column. "
      ],
      "id": "kjuv6SMW-mng"
    },
    {
      "cell_type": "markdown",
      "metadata": {
        "id": "J076Jq5O-mnh"
      },
      "source": [
        "What is the index of the dataframe, is it same as the series 'a' ?"
      ],
      "id": "J076Jq5O-mnh"
    },
    {
      "cell_type": "code",
      "metadata": {
        "colab": {
          "base_uri": "https://localhost:8080/"
        },
        "id": "8mpiYCDX-mnh",
        "outputId": "1417418f-b75b-45f8-8aa8-783df1aca90d"
      },
      "source": [
        "df.index"
      ],
      "id": "8mpiYCDX-mnh",
      "execution_count": 1178,
      "outputs": [
        {
          "output_type": "execute_result",
          "data": {
            "text/plain": [
              "Index(['e', 'f', 'd', 'b', 'a', 'g', 'c'], dtype='object')"
            ]
          },
          "metadata": {
            "tags": []
          },
          "execution_count": 1178
        }
      ]
    },
    {
      "cell_type": "markdown",
      "metadata": {
        "id": "jk938XgZ-mnh"
      },
      "source": [
        "print the head and tail of the dataframe. <br>\n",
        "Additional - (what does head and tali represent?)"
      ],
      "id": "jk938XgZ-mnh"
    },
    {
      "cell_type": "code",
      "metadata": {
        "colab": {
          "base_uri": "https://localhost:8080/",
          "height": 204
        },
        "id": "Vj6G7VmT-mni",
        "outputId": "3c699861-ade4-4a61-f77b-a619e6b23ac7"
      },
      "source": [
        "#head\n",
        "df.head()"
      ],
      "id": "Vj6G7VmT-mni",
      "execution_count": 1179,
      "outputs": [
        {
          "output_type": "execute_result",
          "data": {
            "text/html": [
              "<div>\n",
              "<style scoped>\n",
              "    .dataframe tbody tr th:only-of-type {\n",
              "        vertical-align: middle;\n",
              "    }\n",
              "\n",
              "    .dataframe tbody tr th {\n",
              "        vertical-align: top;\n",
              "    }\n",
              "\n",
              "    .dataframe thead th {\n",
              "        text-align: right;\n",
              "    }\n",
              "</style>\n",
              "<table border=\"1\" class=\"dataframe\">\n",
              "  <thead>\n",
              "    <tr style=\"text-align: right;\">\n",
              "      <th></th>\n",
              "      <th>0</th>\n",
              "    </tr>\n",
              "  </thead>\n",
              "  <tbody>\n",
              "    <tr>\n",
              "      <th>e</th>\n",
              "      <td>800</td>\n",
              "    </tr>\n",
              "    <tr>\n",
              "      <th>f</th>\n",
              "      <td>450</td>\n",
              "    </tr>\n",
              "    <tr>\n",
              "      <th>d</th>\n",
              "      <td>400</td>\n",
              "    </tr>\n",
              "    <tr>\n",
              "      <th>b</th>\n",
              "      <td>300</td>\n",
              "    </tr>\n",
              "    <tr>\n",
              "      <th>a</th>\n",
              "      <td>200</td>\n",
              "    </tr>\n",
              "  </tbody>\n",
              "</table>\n",
              "</div>"
            ],
            "text/plain": [
              "     0\n",
              "e  800\n",
              "f  450\n",
              "d  400\n",
              "b  300\n",
              "a  200"
            ]
          },
          "metadata": {
            "tags": []
          },
          "execution_count": 1179
        }
      ]
    },
    {
      "cell_type": "code",
      "metadata": {
        "colab": {
          "base_uri": "https://localhost:8080/",
          "height": 204
        },
        "id": "ooRtC763-mnj",
        "outputId": "01e10aeb-ec92-4ed6-e061-b3c443f90e70"
      },
      "source": [
        "#tail\n",
        "df.tail()"
      ],
      "id": "ooRtC763-mnj",
      "execution_count": 1180,
      "outputs": [
        {
          "output_type": "execute_result",
          "data": {
            "text/html": [
              "<div>\n",
              "<style scoped>\n",
              "    .dataframe tbody tr th:only-of-type {\n",
              "        vertical-align: middle;\n",
              "    }\n",
              "\n",
              "    .dataframe tbody tr th {\n",
              "        vertical-align: top;\n",
              "    }\n",
              "\n",
              "    .dataframe thead th {\n",
              "        text-align: right;\n",
              "    }\n",
              "</style>\n",
              "<table border=\"1\" class=\"dataframe\">\n",
              "  <thead>\n",
              "    <tr style=\"text-align: right;\">\n",
              "      <th></th>\n",
              "      <th>0</th>\n",
              "    </tr>\n",
              "  </thead>\n",
              "  <tbody>\n",
              "    <tr>\n",
              "      <th>d</th>\n",
              "      <td>400</td>\n",
              "    </tr>\n",
              "    <tr>\n",
              "      <th>b</th>\n",
              "      <td>300</td>\n",
              "    </tr>\n",
              "    <tr>\n",
              "      <th>a</th>\n",
              "      <td>200</td>\n",
              "    </tr>\n",
              "    <tr>\n",
              "      <th>g</th>\n",
              "      <td>100</td>\n",
              "    </tr>\n",
              "    <tr>\n",
              "      <th>c</th>\n",
              "      <td>100</td>\n",
              "    </tr>\n",
              "  </tbody>\n",
              "</table>\n",
              "</div>"
            ],
            "text/plain": [
              "     0\n",
              "d  400\n",
              "b  300\n",
              "a  200\n",
              "g  100\n",
              "c  100"
            ]
          },
          "metadata": {
            "tags": []
          },
          "execution_count": 1180
        }
      ]
    },
    {
      "cell_type": "markdown",
      "metadata": {
        "id": "27Rk78Zc-mnj"
      },
      "source": [
        "Rename the columns of the dataframe as 'points'"
      ],
      "id": "27Rk78Zc-mnj"
    },
    {
      "cell_type": "markdown",
      "metadata": {
        "id": "JfxSI32o-mnk"
      },
      "source": [
        "<p style='text-align: right;'> 2 points</p>\n"
      ],
      "id": "JfxSI32o-mnk"
    },
    {
      "cell_type": "code",
      "metadata": {
        "id": "_eik3Bq0-mnk"
      },
      "source": [
        "df.rename(columns = {0:'points'}, inplace = True)"
      ],
      "id": "_eik3Bq0-mnk",
      "execution_count": 1181,
      "outputs": []
    },
    {
      "cell_type": "markdown",
      "metadata": {
        "id": "5abLvcs2-mnk"
      },
      "source": [
        "Create another Series 'fruits', which contains random names of fruits from ['orange','mango','apple']. The series should contain 7 elements, randomly selected from ['orange','mango','apple']"
      ],
      "id": "5abLvcs2-mnk"
    },
    {
      "cell_type": "markdown",
      "metadata": {
        "id": "3CottogM-mnl"
      },
      "source": [
        "<p style='text-align: right;'> 5 points</p>\n"
      ],
      "id": "3CottogM-mnl"
    },
    {
      "cell_type": "code",
      "metadata": {
        "colab": {
          "base_uri": "https://localhost:8080/"
        },
        "id": "e5Iq5iQg-mnl",
        "outputId": "c19577c0-2752-4583-bf45-60f0fdc7d3dc"
      },
      "source": [
        "#Create fruits array\n",
        "fruits = np.random.choice(['orange', 'mango', 'apple'], 7)\n",
        "fruits\n"
      ],
      "id": "e5Iq5iQg-mnl",
      "execution_count": 1182,
      "outputs": [
        {
          "output_type": "execute_result",
          "data": {
            "text/plain": [
              "array(['orange', 'orange', 'apple', 'orange', 'apple', 'apple', 'mango'],\n",
              "      dtype='<U6')"
            ]
          },
          "metadata": {
            "tags": []
          },
          "execution_count": 1182
        }
      ]
    },
    {
      "cell_type": "markdown",
      "metadata": {
        "id": "axBSWBG6-mnm"
      },
      "source": [
        "The above output might vary based randomness"
      ],
      "id": "axBSWBG6-mnm"
    },
    {
      "cell_type": "code",
      "metadata": {
        "colab": {
          "base_uri": "https://localhost:8080/"
        },
        "id": "kQtVp1wX-mnm",
        "outputId": "e4a1c343-61be-47c1-cf20-04d0937eee8e"
      },
      "source": [
        "#Create series fruits out of fruits array\n",
        "fruits_series = pd.Series(fruits)\n",
        "fruits_series"
      ],
      "id": "kQtVp1wX-mnm",
      "execution_count": 1183,
      "outputs": [
        {
          "output_type": "execute_result",
          "data": {
            "text/plain": [
              "0    orange\n",
              "1    orange\n",
              "2     apple\n",
              "3    orange\n",
              "4     apple\n",
              "5     apple\n",
              "6     mango\n",
              "dtype: object"
            ]
          },
          "metadata": {
            "tags": []
          },
          "execution_count": 1183
        }
      ]
    },
    {
      "cell_type": "markdown",
      "metadata": {
        "id": "ejg2gvLB-mnn"
      },
      "source": [
        "Change the index of fruits to the index of dataframe df"
      ],
      "id": "ejg2gvLB-mnn"
    },
    {
      "cell_type": "markdown",
      "metadata": {
        "id": "tRE_rUHK-mnn"
      },
      "source": [
        "<p style='text-align: right;'> 5 points</p>\n"
      ],
      "id": "tRE_rUHK-mnn"
    },
    {
      "cell_type": "code",
      "metadata": {
        "colab": {
          "base_uri": "https://localhost:8080/"
        },
        "id": "qiXkvpFi-mno",
        "outputId": "71b37c04-463d-440d-f323-074f17e8fbb9"
      },
      "source": [
        "fruits_series.index = df.index\n",
        "fruits_series"
      ],
      "id": "qiXkvpFi-mno",
      "execution_count": 1184,
      "outputs": [
        {
          "output_type": "execute_result",
          "data": {
            "text/plain": [
              "e    orange\n",
              "f    orange\n",
              "d     apple\n",
              "b    orange\n",
              "a     apple\n",
              "g     apple\n",
              "c     mango\n",
              "dtype: object"
            ]
          },
          "metadata": {
            "tags": []
          },
          "execution_count": 1184
        }
      ]
    },
    {
      "cell_type": "markdown",
      "metadata": {
        "id": "Mo__I_jZ-mno"
      },
      "source": [
        "Add this fruits series as a new column to the dataframe df with its column name as 'fruits' <br> print the head of the dataframe to verify"
      ],
      "id": "Mo__I_jZ-mno"
    },
    {
      "cell_type": "code",
      "metadata": {
        "colab": {
          "base_uri": "https://localhost:8080/",
          "height": 204
        },
        "id": "fB3nVJ33-mnp",
        "outputId": "d45dcaa3-97ba-4626-c147-558c5af8d4d0"
      },
      "source": [
        "df[\"fruits\"] = fruits_series\n",
        "df.head()"
      ],
      "id": "fB3nVJ33-mnp",
      "execution_count": 1185,
      "outputs": [
        {
          "output_type": "execute_result",
          "data": {
            "text/html": [
              "<div>\n",
              "<style scoped>\n",
              "    .dataframe tbody tr th:only-of-type {\n",
              "        vertical-align: middle;\n",
              "    }\n",
              "\n",
              "    .dataframe tbody tr th {\n",
              "        vertical-align: top;\n",
              "    }\n",
              "\n",
              "    .dataframe thead th {\n",
              "        text-align: right;\n",
              "    }\n",
              "</style>\n",
              "<table border=\"1\" class=\"dataframe\">\n",
              "  <thead>\n",
              "    <tr style=\"text-align: right;\">\n",
              "      <th></th>\n",
              "      <th>points</th>\n",
              "      <th>fruits</th>\n",
              "    </tr>\n",
              "  </thead>\n",
              "  <tbody>\n",
              "    <tr>\n",
              "      <th>e</th>\n",
              "      <td>800</td>\n",
              "      <td>orange</td>\n",
              "    </tr>\n",
              "    <tr>\n",
              "      <th>f</th>\n",
              "      <td>450</td>\n",
              "      <td>orange</td>\n",
              "    </tr>\n",
              "    <tr>\n",
              "      <th>d</th>\n",
              "      <td>400</td>\n",
              "      <td>apple</td>\n",
              "    </tr>\n",
              "    <tr>\n",
              "      <th>b</th>\n",
              "      <td>300</td>\n",
              "      <td>orange</td>\n",
              "    </tr>\n",
              "    <tr>\n",
              "      <th>a</th>\n",
              "      <td>200</td>\n",
              "      <td>apple</td>\n",
              "    </tr>\n",
              "  </tbody>\n",
              "</table>\n",
              "</div>"
            ],
            "text/plain": [
              "   points  fruits\n",
              "e     800  orange\n",
              "f     450  orange\n",
              "d     400   apple\n",
              "b     300  orange\n",
              "a     200   apple"
            ]
          },
          "metadata": {
            "tags": []
          },
          "execution_count": 1185
        }
      ]
    },
    {
      "cell_type": "markdown",
      "metadata": {
        "id": "00snZqln-mnp"
      },
      "source": [
        "<u>Bonus optional question:</u> <br>\n",
        "What if we had to changed the index of the dataframe? <br>\n",
        "Try to add any series to the dataframe with the origianl index (when index of series is not same as to the index of dataframe)\n",
        "\n",
        "Use series as pd.Series([100,200,300,400,500,600,700]) and try to add it to df with column name Bonus_number.\n",
        "\n",
        "Bonus marks: 5 points"
      ],
      "id": "00snZqln-mnp"
    },
    {
      "cell_type": "code",
      "metadata": {
        "colab": {
          "base_uri": "https://localhost:8080/",
          "height": 266
        },
        "id": "jb831cX0-mnq",
        "outputId": "4c29ab07-bc72-4bdc-8182-cc43b76c23af"
      },
      "source": [
        "#bonus code here\n",
        "df.set_index(pd.Series([100,200,300,400,500,600,700]).index, inplace = True)\n",
        "df[\"Bonus_number\"] = pd.Series([100,200,300,400,500,600,700])\n",
        "df"
      ],
      "id": "jb831cX0-mnq",
      "execution_count": 1186,
      "outputs": [
        {
          "output_type": "execute_result",
          "data": {
            "text/html": [
              "<div>\n",
              "<style scoped>\n",
              "    .dataframe tbody tr th:only-of-type {\n",
              "        vertical-align: middle;\n",
              "    }\n",
              "\n",
              "    .dataframe tbody tr th {\n",
              "        vertical-align: top;\n",
              "    }\n",
              "\n",
              "    .dataframe thead th {\n",
              "        text-align: right;\n",
              "    }\n",
              "</style>\n",
              "<table border=\"1\" class=\"dataframe\">\n",
              "  <thead>\n",
              "    <tr style=\"text-align: right;\">\n",
              "      <th></th>\n",
              "      <th>points</th>\n",
              "      <th>fruits</th>\n",
              "      <th>Bonus_number</th>\n",
              "    </tr>\n",
              "  </thead>\n",
              "  <tbody>\n",
              "    <tr>\n",
              "      <th>0</th>\n",
              "      <td>800</td>\n",
              "      <td>orange</td>\n",
              "      <td>100</td>\n",
              "    </tr>\n",
              "    <tr>\n",
              "      <th>1</th>\n",
              "      <td>450</td>\n",
              "      <td>orange</td>\n",
              "      <td>200</td>\n",
              "    </tr>\n",
              "    <tr>\n",
              "      <th>2</th>\n",
              "      <td>400</td>\n",
              "      <td>apple</td>\n",
              "      <td>300</td>\n",
              "    </tr>\n",
              "    <tr>\n",
              "      <th>3</th>\n",
              "      <td>300</td>\n",
              "      <td>orange</td>\n",
              "      <td>400</td>\n",
              "    </tr>\n",
              "    <tr>\n",
              "      <th>4</th>\n",
              "      <td>200</td>\n",
              "      <td>apple</td>\n",
              "      <td>500</td>\n",
              "    </tr>\n",
              "    <tr>\n",
              "      <th>5</th>\n",
              "      <td>100</td>\n",
              "      <td>apple</td>\n",
              "      <td>600</td>\n",
              "    </tr>\n",
              "    <tr>\n",
              "      <th>6</th>\n",
              "      <td>100</td>\n",
              "      <td>mango</td>\n",
              "      <td>700</td>\n",
              "    </tr>\n",
              "  </tbody>\n",
              "</table>\n",
              "</div>"
            ],
            "text/plain": [
              "   points  fruits  Bonus_number\n",
              "0     800  orange           100\n",
              "1     450  orange           200\n",
              "2     400   apple           300\n",
              "3     300  orange           400\n",
              "4     200   apple           500\n",
              "5     100   apple           600\n",
              "6     100   mango           700"
            ]
          },
          "metadata": {
            "tags": []
          },
          "execution_count": 1186
        }
      ]
    },
    {
      "cell_type": "markdown",
      "metadata": {
        "id": "hrDOrq4L-mnq"
      },
      "source": [
        "### Part 2\n",
        "Reference:- https://www.youtube.com/watch?v=yPVQZZmheCg"
      ],
      "id": "hrDOrq4L-mnq"
    },
    {
      "cell_type": "markdown",
      "metadata": {
        "id": "EvDYjD21-mnr"
      },
      "source": [
        "Create a dataframe  d1 where the columns are  ‘city’ : [‘Chandigarh’, ‘Delhi’, ‘Kanpur’, ‘Chennai’, ‘Manali’ ] and ‘Temperature’ : [15, 22, 20, 26,-2] "
      ],
      "id": "EvDYjD21-mnr"
    },
    {
      "cell_type": "markdown",
      "metadata": {
        "id": "IMjwrhyX-mnr"
      },
      "source": [
        "<p style='text-align: right;'> 2*5=10 points</p>\n"
      ],
      "id": "IMjwrhyX-mnr"
    },
    {
      "cell_type": "code",
      "metadata": {
        "id": "FSKrAty6-mns"
      },
      "source": [
        "d1 = pd.DataFrame(data = {'city':['Chandigarh', 'Delhi', 'Kanpur', 'Chennai', 'Manali'], 'Temperature': [15,22,20,26,-2]})"
      ],
      "id": "FSKrAty6-mns",
      "execution_count": 1187,
      "outputs": []
    },
    {
      "cell_type": "markdown",
      "metadata": {
        "id": "BmVth1sh-mns"
      },
      "source": [
        "Print d1"
      ],
      "id": "BmVth1sh-mns"
    },
    {
      "cell_type": "code",
      "metadata": {
        "colab": {
          "base_uri": "https://localhost:8080/"
        },
        "id": "gyZX1EoB-mns",
        "outputId": "ea0655dd-cb68-4335-e15e-ce5f69dff51d"
      },
      "source": [
        "print(d1)"
      ],
      "id": "gyZX1EoB-mns",
      "execution_count": 1188,
      "outputs": [
        {
          "output_type": "stream",
          "text": [
            "         city  Temperature\n",
            "0  Chandigarh           15\n",
            "1       Delhi           22\n",
            "2      Kanpur           20\n",
            "3     Chennai           26\n",
            "4      Manali           -2\n"
          ],
          "name": "stdout"
        }
      ]
    },
    {
      "cell_type": "markdown",
      "metadata": {
        "id": "q1FnuImK-mnt"
      },
      "source": [
        "What is the shape of d1."
      ],
      "id": "q1FnuImK-mnt"
    },
    {
      "cell_type": "code",
      "metadata": {
        "colab": {
          "base_uri": "https://localhost:8080/"
        },
        "id": "2siDRZQ_-mnt",
        "outputId": "099ed682-2313-40f6-f78d-1aa82e43e8bb"
      },
      "source": [
        "d1.shape"
      ],
      "id": "2siDRZQ_-mnt",
      "execution_count": 1189,
      "outputs": [
        {
          "output_type": "execute_result",
          "data": {
            "text/plain": [
              "(5, 2)"
            ]
          },
          "metadata": {
            "tags": []
          },
          "execution_count": 1189
        }
      ]
    },
    {
      "cell_type": "markdown",
      "metadata": {
        "id": "j4TVyIbQ-mnu"
      },
      "source": [
        "Set city = d1['city']"
      ],
      "id": "j4TVyIbQ-mnu"
    },
    {
      "cell_type": "code",
      "metadata": {
        "id": "IhTowWqC-mnu"
      },
      "source": [
        "city = d1['city']"
      ],
      "id": "IhTowWqC-mnu",
      "execution_count": 1190,
      "outputs": []
    },
    {
      "cell_type": "markdown",
      "metadata": {
        "id": "GdFtIo4c-mnu"
      },
      "source": [
        "print city <br>\n",
        "What is the type of city."
      ],
      "id": "GdFtIo4c-mnu"
    },
    {
      "cell_type": "code",
      "metadata": {
        "colab": {
          "base_uri": "https://localhost:8080/"
        },
        "id": "XKcXZLJc-mnv",
        "outputId": "a3016c21-c461-487f-9458-4b604ac047a2"
      },
      "source": [
        "print(city)\n",
        "print(type(city))"
      ],
      "id": "XKcXZLJc-mnv",
      "execution_count": 1191,
      "outputs": [
        {
          "output_type": "stream",
          "text": [
            "0    Chandigarh\n",
            "1         Delhi\n",
            "2        Kanpur\n",
            "3       Chennai\n",
            "4        Manali\n",
            "Name: city, dtype: object\n",
            "<class 'pandas.core.series.Series'>\n"
          ],
          "name": "stdout"
        }
      ]
    },
    {
      "cell_type": "markdown",
      "metadata": {
        "id": "yQMqg3JC-mnv"
      },
      "source": [
        "Create another dataframe d2 where the columns are <br>\n",
        "'city' - ['Bengalaru','Coimbatore','Srirangam','Pondicherry'] <br>\n",
        "'Temperature' - [24,35,36,39]"
      ],
      "id": "yQMqg3JC-mnv"
    },
    {
      "cell_type": "markdown",
      "metadata": {
        "id": "qszApyOk-mnw"
      },
      "source": [
        "<p style='text-align: right;'> 3+2+5 = 10 points</p>\n"
      ],
      "id": "qszApyOk-mnw"
    },
    {
      "cell_type": "code",
      "metadata": {
        "colab": {
          "base_uri": "https://localhost:8080/",
          "height": 173
        },
        "id": "onns1--C-mnw",
        "outputId": "bf14a74b-d26c-4cfb-cc5d-be4047bb7516"
      },
      "source": [
        "d2 = pd.DataFrame(data = {'city':['Bengalaru', 'Coimbatore', 'Srirangam', 'Pondicherry'], 'Temperature':[24,35,36,39]})\n",
        "d2"
      ],
      "id": "onns1--C-mnw",
      "execution_count": 1192,
      "outputs": [
        {
          "output_type": "execute_result",
          "data": {
            "text/html": [
              "<div>\n",
              "<style scoped>\n",
              "    .dataframe tbody tr th:only-of-type {\n",
              "        vertical-align: middle;\n",
              "    }\n",
              "\n",
              "    .dataframe tbody tr th {\n",
              "        vertical-align: top;\n",
              "    }\n",
              "\n",
              "    .dataframe thead th {\n",
              "        text-align: right;\n",
              "    }\n",
              "</style>\n",
              "<table border=\"1\" class=\"dataframe\">\n",
              "  <thead>\n",
              "    <tr style=\"text-align: right;\">\n",
              "      <th></th>\n",
              "      <th>city</th>\n",
              "      <th>Temperature</th>\n",
              "    </tr>\n",
              "  </thead>\n",
              "  <tbody>\n",
              "    <tr>\n",
              "      <th>0</th>\n",
              "      <td>Bengalaru</td>\n",
              "      <td>24</td>\n",
              "    </tr>\n",
              "    <tr>\n",
              "      <th>1</th>\n",
              "      <td>Coimbatore</td>\n",
              "      <td>35</td>\n",
              "    </tr>\n",
              "    <tr>\n",
              "      <th>2</th>\n",
              "      <td>Srirangam</td>\n",
              "      <td>36</td>\n",
              "    </tr>\n",
              "    <tr>\n",
              "      <th>3</th>\n",
              "      <td>Pondicherry</td>\n",
              "      <td>39</td>\n",
              "    </tr>\n",
              "  </tbody>\n",
              "</table>\n",
              "</div>"
            ],
            "text/plain": [
              "          city  Temperature\n",
              "0    Bengalaru           24\n",
              "1   Coimbatore           35\n",
              "2    Srirangam           36\n",
              "3  Pondicherry           39"
            ]
          },
          "metadata": {
            "tags": []
          },
          "execution_count": 1192
        }
      ]
    },
    {
      "cell_type": "markdown",
      "metadata": {
        "id": "EPVoO91P-mn1"
      },
      "source": [
        "print the shape of this dataframe"
      ],
      "id": "EPVoO91P-mn1"
    },
    {
      "cell_type": "code",
      "metadata": {
        "colab": {
          "base_uri": "https://localhost:8080/"
        },
        "id": "PY6ItI_s-mn2",
        "outputId": "e7aa2823-0abe-4145-889f-d4e39dffbe00"
      },
      "source": [
        "print(d2.shape)"
      ],
      "id": "PY6ItI_s-mn2",
      "execution_count": 1193,
      "outputs": [
        {
          "output_type": "stream",
          "text": [
            "(4, 2)\n"
          ],
          "name": "stdout"
        }
      ]
    },
    {
      "cell_type": "markdown",
      "metadata": {
        "id": "tArhKMJ0-mn2"
      },
      "source": [
        "merge the two dataframes together, save it in a new dataframe named 'd3'\n"
      ],
      "id": "tArhKMJ0-mn2"
    },
    {
      "cell_type": "code",
      "metadata": {
        "colab": {
          "base_uri": "https://localhost:8080/",
          "height": 328
        },
        "id": "7RioobSX-mn3",
        "outputId": "d3bcdced-e322-4f75-cb68-8dde1d154fc7"
      },
      "source": [
        "d3 = pd.concat([d1,d2], axis = 0)\n",
        "d3"
      ],
      "id": "7RioobSX-mn3",
      "execution_count": 1194,
      "outputs": [
        {
          "output_type": "execute_result",
          "data": {
            "text/html": [
              "<div>\n",
              "<style scoped>\n",
              "    .dataframe tbody tr th:only-of-type {\n",
              "        vertical-align: middle;\n",
              "    }\n",
              "\n",
              "    .dataframe tbody tr th {\n",
              "        vertical-align: top;\n",
              "    }\n",
              "\n",
              "    .dataframe thead th {\n",
              "        text-align: right;\n",
              "    }\n",
              "</style>\n",
              "<table border=\"1\" class=\"dataframe\">\n",
              "  <thead>\n",
              "    <tr style=\"text-align: right;\">\n",
              "      <th></th>\n",
              "      <th>city</th>\n",
              "      <th>Temperature</th>\n",
              "    </tr>\n",
              "  </thead>\n",
              "  <tbody>\n",
              "    <tr>\n",
              "      <th>0</th>\n",
              "      <td>Chandigarh</td>\n",
              "      <td>15</td>\n",
              "    </tr>\n",
              "    <tr>\n",
              "      <th>1</th>\n",
              "      <td>Delhi</td>\n",
              "      <td>22</td>\n",
              "    </tr>\n",
              "    <tr>\n",
              "      <th>2</th>\n",
              "      <td>Kanpur</td>\n",
              "      <td>20</td>\n",
              "    </tr>\n",
              "    <tr>\n",
              "      <th>3</th>\n",
              "      <td>Chennai</td>\n",
              "      <td>26</td>\n",
              "    </tr>\n",
              "    <tr>\n",
              "      <th>4</th>\n",
              "      <td>Manali</td>\n",
              "      <td>-2</td>\n",
              "    </tr>\n",
              "    <tr>\n",
              "      <th>0</th>\n",
              "      <td>Bengalaru</td>\n",
              "      <td>24</td>\n",
              "    </tr>\n",
              "    <tr>\n",
              "      <th>1</th>\n",
              "      <td>Coimbatore</td>\n",
              "      <td>35</td>\n",
              "    </tr>\n",
              "    <tr>\n",
              "      <th>2</th>\n",
              "      <td>Srirangam</td>\n",
              "      <td>36</td>\n",
              "    </tr>\n",
              "    <tr>\n",
              "      <th>3</th>\n",
              "      <td>Pondicherry</td>\n",
              "      <td>39</td>\n",
              "    </tr>\n",
              "  </tbody>\n",
              "</table>\n",
              "</div>"
            ],
            "text/plain": [
              "          city  Temperature\n",
              "0   Chandigarh           15\n",
              "1        Delhi           22\n",
              "2       Kanpur           20\n",
              "3      Chennai           26\n",
              "4       Manali           -2\n",
              "0    Bengalaru           24\n",
              "1   Coimbatore           35\n",
              "2    Srirangam           36\n",
              "3  Pondicherry           39"
            ]
          },
          "metadata": {
            "tags": []
          },
          "execution_count": 1194
        }
      ]
    },
    {
      "cell_type": "markdown",
      "metadata": {
        "id": "7R0BrqKC-mn3"
      },
      "source": [
        "# fun fact at high level\n",
        "\n",
        "1. .concat() simply stacks multiple DataFrame together either vertically, or stitches horizontally after aligning on index\n",
        "2. .merge() first aligns two DataFrame' selected common column(s) or index, and then pick up the remaining columns from the aligned rows of each DataFrame\n",
        "\n",
        "Do you know about join function? This interesting quest we give to you to find. "
      ],
      "id": "7R0BrqKC-mn3"
    },
    {
      "cell_type": "markdown",
      "metadata": {
        "id": "W4DTrW9U-mn4"
      },
      "source": [
        "Select the part of the dataframe such that it contains cities where temp is less then or equal to 20 <br>\n",
        "How many cities are there? "
      ],
      "id": "W4DTrW9U-mn4"
    },
    {
      "cell_type": "markdown",
      "metadata": {
        "id": "bUVW5UjA-mn4"
      },
      "source": [
        "<p style='text-align: right;'> 5+5=10 points</p>\n"
      ],
      "id": "bUVW5UjA-mn4"
    },
    {
      "cell_type": "code",
      "metadata": {
        "colab": {
          "base_uri": "https://localhost:8080/",
          "height": 142
        },
        "id": "XB15iXZa-mn5",
        "outputId": "4a4e8f25-936b-4744-f285-430e704ecefc"
      },
      "source": [
        "d3[d3['Temperature'] <= 20]\n",
        "#3 cities"
      ],
      "id": "XB15iXZa-mn5",
      "execution_count": 1195,
      "outputs": [
        {
          "output_type": "execute_result",
          "data": {
            "text/html": [
              "<div>\n",
              "<style scoped>\n",
              "    .dataframe tbody tr th:only-of-type {\n",
              "        vertical-align: middle;\n",
              "    }\n",
              "\n",
              "    .dataframe tbody tr th {\n",
              "        vertical-align: top;\n",
              "    }\n",
              "\n",
              "    .dataframe thead th {\n",
              "        text-align: right;\n",
              "    }\n",
              "</style>\n",
              "<table border=\"1\" class=\"dataframe\">\n",
              "  <thead>\n",
              "    <tr style=\"text-align: right;\">\n",
              "      <th></th>\n",
              "      <th>city</th>\n",
              "      <th>Temperature</th>\n",
              "    </tr>\n",
              "  </thead>\n",
              "  <tbody>\n",
              "    <tr>\n",
              "      <th>0</th>\n",
              "      <td>Chandigarh</td>\n",
              "      <td>15</td>\n",
              "    </tr>\n",
              "    <tr>\n",
              "      <th>2</th>\n",
              "      <td>Kanpur</td>\n",
              "      <td>20</td>\n",
              "    </tr>\n",
              "    <tr>\n",
              "      <th>4</th>\n",
              "      <td>Manali</td>\n",
              "      <td>-2</td>\n",
              "    </tr>\n",
              "  </tbody>\n",
              "</table>\n",
              "</div>"
            ],
            "text/plain": [
              "         city  Temperature\n",
              "0  Chandigarh           15\n",
              "2      Kanpur           20\n",
              "4      Manali           -2"
            ]
          },
          "metadata": {
            "tags": []
          },
          "execution_count": 1195
        }
      ]
    },
    {
      "cell_type": "markdown",
      "metadata": {
        "id": "_fUFRH2L-mn5"
      },
      "source": [
        "Select the part of the dataframe such that it contains the cities where tempearature greater than or equal to 35"
      ],
      "id": "_fUFRH2L-mn5"
    },
    {
      "cell_type": "code",
      "metadata": {
        "colab": {
          "base_uri": "https://localhost:8080/",
          "height": 142
        },
        "id": "OTL-txZW-mn6",
        "outputId": "6105417a-c633-4778-edf3-b5375e966e23"
      },
      "source": [
        "d3[d3['Temperature'] >= 35]"
      ],
      "id": "OTL-txZW-mn6",
      "execution_count": 1196,
      "outputs": [
        {
          "output_type": "execute_result",
          "data": {
            "text/html": [
              "<div>\n",
              "<style scoped>\n",
              "    .dataframe tbody tr th:only-of-type {\n",
              "        vertical-align: middle;\n",
              "    }\n",
              "\n",
              "    .dataframe tbody tr th {\n",
              "        vertical-align: top;\n",
              "    }\n",
              "\n",
              "    .dataframe thead th {\n",
              "        text-align: right;\n",
              "    }\n",
              "</style>\n",
              "<table border=\"1\" class=\"dataframe\">\n",
              "  <thead>\n",
              "    <tr style=\"text-align: right;\">\n",
              "      <th></th>\n",
              "      <th>city</th>\n",
              "      <th>Temperature</th>\n",
              "    </tr>\n",
              "  </thead>\n",
              "  <tbody>\n",
              "    <tr>\n",
              "      <th>1</th>\n",
              "      <td>Coimbatore</td>\n",
              "      <td>35</td>\n",
              "    </tr>\n",
              "    <tr>\n",
              "      <th>2</th>\n",
              "      <td>Srirangam</td>\n",
              "      <td>36</td>\n",
              "    </tr>\n",
              "    <tr>\n",
              "      <th>3</th>\n",
              "      <td>Pondicherry</td>\n",
              "      <td>39</td>\n",
              "    </tr>\n",
              "  </tbody>\n",
              "</table>\n",
              "</div>"
            ],
            "text/plain": [
              "          city  Temperature\n",
              "1   Coimbatore           35\n",
              "2    Srirangam           36\n",
              "3  Pondicherry           39"
            ]
          },
          "metadata": {
            "tags": []
          },
          "execution_count": 1196
        }
      ]
    },
    {
      "cell_type": "markdown",
      "metadata": {
        "id": "ReR22Yj1-mn6"
      },
      "source": [
        "## 3. Applying functions to columns and creating new columns\n",
        "\n",
        "Reference: https://www.youtube.com/watch?v=L0wMml__Gow"
      ],
      "id": "ReR22Yj1-mn6"
    },
    {
      "cell_type": "markdown",
      "metadata": {
        "id": "F557wH_R-mn7"
      },
      "source": [
        "<p style='text-align: right;'> 20 points</p>\n"
      ],
      "id": "F557wH_R-mn7"
    },
    {
      "cell_type": "markdown",
      "metadata": {
        "id": "anJc5aup-mn7"
      },
      "source": [
        "We need to create another column in d3, which contains  a boolean value for each city to indicate whether it's a union territory or not. \n",
        "- HINT: Chandigarh, Pondicherry and Delhi are only 3 union territories here. \n"
      ],
      "id": "anJc5aup-mn7"
    },
    {
      "cell_type": "code",
      "metadata": {
        "id": "NTln0rLn-mn7"
      },
      "source": [
        "# write function here\n",
        "d3['Is_Union_Territory'] = [True if (x == 'Chandigarh' or x == 'Pondicherry' or x == 'Delhi') else False for x in d3['city']]\n"
      ],
      "id": "NTln0rLn-mn7",
      "execution_count": 1197,
      "outputs": []
    },
    {
      "cell_type": "code",
      "metadata": {
        "colab": {
          "base_uri": "https://localhost:8080/"
        },
        "id": "NNUfBjpZ-mn8",
        "outputId": "4b16d2e7-cd99-40a4-deee-9077b2fee0f9"
      },
      "source": [
        "#print d3\n",
        "print(d3)"
      ],
      "id": "NNUfBjpZ-mn8",
      "execution_count": 1198,
      "outputs": [
        {
          "output_type": "stream",
          "text": [
            "          city  Temperature  Is_Union_Territory\n",
            "0   Chandigarh           15                True\n",
            "1        Delhi           22                True\n",
            "2       Kanpur           20               False\n",
            "3      Chennai           26               False\n",
            "4       Manali           -2               False\n",
            "0    Bengalaru           24               False\n",
            "1   Coimbatore           35               False\n",
            "2    Srirangam           36               False\n",
            "3  Pondicherry           39                True\n"
          ],
          "name": "stdout"
        }
      ]
    },
    {
      "cell_type": "markdown",
      "metadata": {
        "id": "vRaqx3Ff-mn8"
      },
      "source": [
        "The temperatures mentioned in ‘Temperature’ column are mentioned in Celsius, we need another column which contains the same in Fahrenheit. "
      ],
      "id": "vRaqx3Ff-mn8"
    },
    {
      "cell_type": "markdown",
      "metadata": {
        "id": "qexboCkD-mn9"
      },
      "source": [
        "HINT - \n",
        "- Define a function c_to_f which takes input temp in celsius and returns a value with temperature in Fahrenheit.\n",
        "- To check: c_to_f(10) should return 50. \n"
      ],
      "id": "qexboCkD-mn9"
    },
    {
      "cell_type": "code",
      "metadata": {
        "id": "2EP-4YyG-mn9"
      },
      "source": [
        "# write function here\n",
        "def c_to_f(temp):\n",
        "  temp = (9*temp +160)/5\n",
        "  return temp\n",
        "\n"
      ],
      "id": "2EP-4YyG-mn9",
      "execution_count": 1199,
      "outputs": []
    },
    {
      "cell_type": "code",
      "metadata": {
        "colab": {
          "base_uri": "https://localhost:8080/"
        },
        "id": "WfVqWJNq-mn-",
        "outputId": "82504dcb-c547-475e-a57f-82818b611b3c"
      },
      "source": [
        "# check  function c_to_f(10)\n",
        "print(c_to_f(10))"
      ],
      "id": "WfVqWJNq-mn-",
      "execution_count": 1200,
      "outputs": [
        {
          "output_type": "stream",
          "text": [
            "50.0\n"
          ],
          "name": "stdout"
        }
      ]
    },
    {
      "cell_type": "code",
      "metadata": {
        "colab": {
          "base_uri": "https://localhost:8080/",
          "height": 328
        },
        "id": "HLX3hyqX-mn-",
        "outputId": "b350f5d6-a04d-4383-e679-418932b71004"
      },
      "source": [
        "# apply function c_to_f to d3 to create a column 'temp_farenhiet'\n",
        "d3['temp_farenhiet'] = d3['Temperature'].apply(c_to_f)\n",
        "d3"
      ],
      "id": "HLX3hyqX-mn-",
      "execution_count": 1201,
      "outputs": [
        {
          "output_type": "execute_result",
          "data": {
            "text/html": [
              "<div>\n",
              "<style scoped>\n",
              "    .dataframe tbody tr th:only-of-type {\n",
              "        vertical-align: middle;\n",
              "    }\n",
              "\n",
              "    .dataframe tbody tr th {\n",
              "        vertical-align: top;\n",
              "    }\n",
              "\n",
              "    .dataframe thead th {\n",
              "        text-align: right;\n",
              "    }\n",
              "</style>\n",
              "<table border=\"1\" class=\"dataframe\">\n",
              "  <thead>\n",
              "    <tr style=\"text-align: right;\">\n",
              "      <th></th>\n",
              "      <th>city</th>\n",
              "      <th>Temperature</th>\n",
              "      <th>Is_Union_Territory</th>\n",
              "      <th>temp_farenhiet</th>\n",
              "    </tr>\n",
              "  </thead>\n",
              "  <tbody>\n",
              "    <tr>\n",
              "      <th>0</th>\n",
              "      <td>Chandigarh</td>\n",
              "      <td>15</td>\n",
              "      <td>True</td>\n",
              "      <td>59.0</td>\n",
              "    </tr>\n",
              "    <tr>\n",
              "      <th>1</th>\n",
              "      <td>Delhi</td>\n",
              "      <td>22</td>\n",
              "      <td>True</td>\n",
              "      <td>71.6</td>\n",
              "    </tr>\n",
              "    <tr>\n",
              "      <th>2</th>\n",
              "      <td>Kanpur</td>\n",
              "      <td>20</td>\n",
              "      <td>False</td>\n",
              "      <td>68.0</td>\n",
              "    </tr>\n",
              "    <tr>\n",
              "      <th>3</th>\n",
              "      <td>Chennai</td>\n",
              "      <td>26</td>\n",
              "      <td>False</td>\n",
              "      <td>78.8</td>\n",
              "    </tr>\n",
              "    <tr>\n",
              "      <th>4</th>\n",
              "      <td>Manali</td>\n",
              "      <td>-2</td>\n",
              "      <td>False</td>\n",
              "      <td>28.4</td>\n",
              "    </tr>\n",
              "    <tr>\n",
              "      <th>0</th>\n",
              "      <td>Bengalaru</td>\n",
              "      <td>24</td>\n",
              "      <td>False</td>\n",
              "      <td>75.2</td>\n",
              "    </tr>\n",
              "    <tr>\n",
              "      <th>1</th>\n",
              "      <td>Coimbatore</td>\n",
              "      <td>35</td>\n",
              "      <td>False</td>\n",
              "      <td>95.0</td>\n",
              "    </tr>\n",
              "    <tr>\n",
              "      <th>2</th>\n",
              "      <td>Srirangam</td>\n",
              "      <td>36</td>\n",
              "      <td>False</td>\n",
              "      <td>96.8</td>\n",
              "    </tr>\n",
              "    <tr>\n",
              "      <th>3</th>\n",
              "      <td>Pondicherry</td>\n",
              "      <td>39</td>\n",
              "      <td>True</td>\n",
              "      <td>102.2</td>\n",
              "    </tr>\n",
              "  </tbody>\n",
              "</table>\n",
              "</div>"
            ],
            "text/plain": [
              "          city  Temperature  Is_Union_Territory  temp_farenhiet\n",
              "0   Chandigarh           15                True            59.0\n",
              "1        Delhi           22                True            71.6\n",
              "2       Kanpur           20               False            68.0\n",
              "3      Chennai           26               False            78.8\n",
              "4       Manali           -2               False            28.4\n",
              "0    Bengalaru           24               False            75.2\n",
              "1   Coimbatore           35               False            95.0\n",
              "2    Srirangam           36               False            96.8\n",
              "3  Pondicherry           39                True           102.2"
            ]
          },
          "metadata": {
            "tags": []
          },
          "execution_count": 1201
        }
      ]
    },
    {
      "cell_type": "markdown",
      "metadata": {
        "id": "IYwXQcTV-mn_"
      },
      "source": [
        "## 4. Indexing and selecting rows in DataFrame\n",
        "\n",
        "Reference:-https://www.youtube.com/watch?v=XKFRFDgA7ZY"
      ],
      "id": "IYwXQcTV-mn_"
    },
    {
      "cell_type": "markdown",
      "metadata": {
        "id": "v6YThqCf-moA"
      },
      "source": [
        "<p style='text-align: right;'> 20 points</p>\n"
      ],
      "id": "v6YThqCf-moA"
    },
    {
      "cell_type": "markdown",
      "metadata": {
        "id": "T6ALnpqw-moA"
      },
      "source": [
        "Select subset of the dataframe d3 such that it contains the cities which are union territories."
      ],
      "id": "T6ALnpqw-moA"
    },
    {
      "cell_type": "code",
      "metadata": {
        "colab": {
          "base_uri": "https://localhost:8080/",
          "height": 142
        },
        "id": "byCudXqP-moA",
        "outputId": "7c50c5c3-785c-4b7b-9f8b-3407311aebed"
      },
      "source": [
        "d3[d3['Is_Union_Territory'] == True]"
      ],
      "id": "byCudXqP-moA",
      "execution_count": 1202,
      "outputs": [
        {
          "output_type": "execute_result",
          "data": {
            "text/html": [
              "<div>\n",
              "<style scoped>\n",
              "    .dataframe tbody tr th:only-of-type {\n",
              "        vertical-align: middle;\n",
              "    }\n",
              "\n",
              "    .dataframe tbody tr th {\n",
              "        vertical-align: top;\n",
              "    }\n",
              "\n",
              "    .dataframe thead th {\n",
              "        text-align: right;\n",
              "    }\n",
              "</style>\n",
              "<table border=\"1\" class=\"dataframe\">\n",
              "  <thead>\n",
              "    <tr style=\"text-align: right;\">\n",
              "      <th></th>\n",
              "      <th>city</th>\n",
              "      <th>Temperature</th>\n",
              "      <th>Is_Union_Territory</th>\n",
              "      <th>temp_farenhiet</th>\n",
              "    </tr>\n",
              "  </thead>\n",
              "  <tbody>\n",
              "    <tr>\n",
              "      <th>0</th>\n",
              "      <td>Chandigarh</td>\n",
              "      <td>15</td>\n",
              "      <td>True</td>\n",
              "      <td>59.0</td>\n",
              "    </tr>\n",
              "    <tr>\n",
              "      <th>1</th>\n",
              "      <td>Delhi</td>\n",
              "      <td>22</td>\n",
              "      <td>True</td>\n",
              "      <td>71.6</td>\n",
              "    </tr>\n",
              "    <tr>\n",
              "      <th>3</th>\n",
              "      <td>Pondicherry</td>\n",
              "      <td>39</td>\n",
              "      <td>True</td>\n",
              "      <td>102.2</td>\n",
              "    </tr>\n",
              "  </tbody>\n",
              "</table>\n",
              "</div>"
            ],
            "text/plain": [
              "          city  Temperature  Is_Union_Territory  temp_farenhiet\n",
              "0   Chandigarh           15                True            59.0\n",
              "1        Delhi           22                True            71.6\n",
              "3  Pondicherry           39                True           102.2"
            ]
          },
          "metadata": {
            "tags": []
          },
          "execution_count": 1202
        }
      ]
    },
    {
      "cell_type": "markdown",
      "metadata": {
        "id": "XAyc2RY9-moB"
      },
      "source": [
        "Select a subset of the dataframe d3 such that it contains the cities which only have temperature above 90 Farenhiet."
      ],
      "id": "XAyc2RY9-moB"
    },
    {
      "cell_type": "code",
      "metadata": {
        "colab": {
          "base_uri": "https://localhost:8080/",
          "height": 142
        },
        "id": "GqmTa3uv-moB",
        "outputId": "22c8b150-cd50-4627-eb0f-84c3bc9a7164"
      },
      "source": [
        "d3[d3['temp_farenhiet'] > 90]"
      ],
      "id": "GqmTa3uv-moB",
      "execution_count": 1203,
      "outputs": [
        {
          "output_type": "execute_result",
          "data": {
            "text/html": [
              "<div>\n",
              "<style scoped>\n",
              "    .dataframe tbody tr th:only-of-type {\n",
              "        vertical-align: middle;\n",
              "    }\n",
              "\n",
              "    .dataframe tbody tr th {\n",
              "        vertical-align: top;\n",
              "    }\n",
              "\n",
              "    .dataframe thead th {\n",
              "        text-align: right;\n",
              "    }\n",
              "</style>\n",
              "<table border=\"1\" class=\"dataframe\">\n",
              "  <thead>\n",
              "    <tr style=\"text-align: right;\">\n",
              "      <th></th>\n",
              "      <th>city</th>\n",
              "      <th>Temperature</th>\n",
              "      <th>Is_Union_Territory</th>\n",
              "      <th>temp_farenhiet</th>\n",
              "    </tr>\n",
              "  </thead>\n",
              "  <tbody>\n",
              "    <tr>\n",
              "      <th>1</th>\n",
              "      <td>Coimbatore</td>\n",
              "      <td>35</td>\n",
              "      <td>False</td>\n",
              "      <td>95.0</td>\n",
              "    </tr>\n",
              "    <tr>\n",
              "      <th>2</th>\n",
              "      <td>Srirangam</td>\n",
              "      <td>36</td>\n",
              "      <td>False</td>\n",
              "      <td>96.8</td>\n",
              "    </tr>\n",
              "    <tr>\n",
              "      <th>3</th>\n",
              "      <td>Pondicherry</td>\n",
              "      <td>39</td>\n",
              "      <td>True</td>\n",
              "      <td>102.2</td>\n",
              "    </tr>\n",
              "  </tbody>\n",
              "</table>\n",
              "</div>"
            ],
            "text/plain": [
              "          city  Temperature  Is_Union_Territory  temp_farenhiet\n",
              "1   Coimbatore           35               False            95.0\n",
              "2    Srirangam           36               False            96.8\n",
              "3  Pondicherry           39                True           102.2"
            ]
          },
          "metadata": {
            "tags": []
          },
          "execution_count": 1203
        }
      ]
    },
    {
      "cell_type": "markdown",
      "metadata": {
        "id": "1eXjkQzl-moC"
      },
      "source": [
        "Select only the first three rows of the dataframe d3. \n"
      ],
      "id": "1eXjkQzl-moC"
    },
    {
      "cell_type": "code",
      "metadata": {
        "colab": {
          "base_uri": "https://localhost:8080/",
          "height": 142
        },
        "id": "BRjFrkqN-moC",
        "outputId": "dcccfc74-57c0-41f0-cc79-75e934311e53"
      },
      "source": [
        "d3[:3]"
      ],
      "id": "BRjFrkqN-moC",
      "execution_count": 1204,
      "outputs": [
        {
          "output_type": "execute_result",
          "data": {
            "text/html": [
              "<div>\n",
              "<style scoped>\n",
              "    .dataframe tbody tr th:only-of-type {\n",
              "        vertical-align: middle;\n",
              "    }\n",
              "\n",
              "    .dataframe tbody tr th {\n",
              "        vertical-align: top;\n",
              "    }\n",
              "\n",
              "    .dataframe thead th {\n",
              "        text-align: right;\n",
              "    }\n",
              "</style>\n",
              "<table border=\"1\" class=\"dataframe\">\n",
              "  <thead>\n",
              "    <tr style=\"text-align: right;\">\n",
              "      <th></th>\n",
              "      <th>city</th>\n",
              "      <th>Temperature</th>\n",
              "      <th>Is_Union_Territory</th>\n",
              "      <th>temp_farenhiet</th>\n",
              "    </tr>\n",
              "  </thead>\n",
              "  <tbody>\n",
              "    <tr>\n",
              "      <th>0</th>\n",
              "      <td>Chandigarh</td>\n",
              "      <td>15</td>\n",
              "      <td>True</td>\n",
              "      <td>59.0</td>\n",
              "    </tr>\n",
              "    <tr>\n",
              "      <th>1</th>\n",
              "      <td>Delhi</td>\n",
              "      <td>22</td>\n",
              "      <td>True</td>\n",
              "      <td>71.6</td>\n",
              "    </tr>\n",
              "    <tr>\n",
              "      <th>2</th>\n",
              "      <td>Kanpur</td>\n",
              "      <td>20</td>\n",
              "      <td>False</td>\n",
              "      <td>68.0</td>\n",
              "    </tr>\n",
              "  </tbody>\n",
              "</table>\n",
              "</div>"
            ],
            "text/plain": [
              "         city  Temperature  Is_Union_Territory  temp_farenhiet\n",
              "0  Chandigarh           15                True            59.0\n",
              "1       Delhi           22                True            71.6\n",
              "2      Kanpur           20               False            68.0"
            ]
          },
          "metadata": {
            "tags": []
          },
          "execution_count": 1204
        }
      ]
    },
    {
      "cell_type": "markdown",
      "metadata": {
        "id": "Pe7YCuxS-moD"
      },
      "source": [
        "Select all the rows and last two columns in the dataframe.\n",
        "\n",
        "\n"
      ],
      "id": "Pe7YCuxS-moD"
    },
    {
      "cell_type": "code",
      "metadata": {
        "colab": {
          "base_uri": "https://localhost:8080/",
          "height": 328
        },
        "id": "gMag9bHk-moD",
        "outputId": "69f0e418-04fd-4b51-df3c-53d8ab397a04"
      },
      "source": [
        "d3.iloc[:, -2:]\n",
        "#d3[d3.columns[-2:]]"
      ],
      "id": "gMag9bHk-moD",
      "execution_count": 1205,
      "outputs": [
        {
          "output_type": "execute_result",
          "data": {
            "text/html": [
              "<div>\n",
              "<style scoped>\n",
              "    .dataframe tbody tr th:only-of-type {\n",
              "        vertical-align: middle;\n",
              "    }\n",
              "\n",
              "    .dataframe tbody tr th {\n",
              "        vertical-align: top;\n",
              "    }\n",
              "\n",
              "    .dataframe thead th {\n",
              "        text-align: right;\n",
              "    }\n",
              "</style>\n",
              "<table border=\"1\" class=\"dataframe\">\n",
              "  <thead>\n",
              "    <tr style=\"text-align: right;\">\n",
              "      <th></th>\n",
              "      <th>Is_Union_Territory</th>\n",
              "      <th>temp_farenhiet</th>\n",
              "    </tr>\n",
              "  </thead>\n",
              "  <tbody>\n",
              "    <tr>\n",
              "      <th>0</th>\n",
              "      <td>True</td>\n",
              "      <td>59.0</td>\n",
              "    </tr>\n",
              "    <tr>\n",
              "      <th>1</th>\n",
              "      <td>True</td>\n",
              "      <td>71.6</td>\n",
              "    </tr>\n",
              "    <tr>\n",
              "      <th>2</th>\n",
              "      <td>False</td>\n",
              "      <td>68.0</td>\n",
              "    </tr>\n",
              "    <tr>\n",
              "      <th>3</th>\n",
              "      <td>False</td>\n",
              "      <td>78.8</td>\n",
              "    </tr>\n",
              "    <tr>\n",
              "      <th>4</th>\n",
              "      <td>False</td>\n",
              "      <td>28.4</td>\n",
              "    </tr>\n",
              "    <tr>\n",
              "      <th>0</th>\n",
              "      <td>False</td>\n",
              "      <td>75.2</td>\n",
              "    </tr>\n",
              "    <tr>\n",
              "      <th>1</th>\n",
              "      <td>False</td>\n",
              "      <td>95.0</td>\n",
              "    </tr>\n",
              "    <tr>\n",
              "      <th>2</th>\n",
              "      <td>False</td>\n",
              "      <td>96.8</td>\n",
              "    </tr>\n",
              "    <tr>\n",
              "      <th>3</th>\n",
              "      <td>True</td>\n",
              "      <td>102.2</td>\n",
              "    </tr>\n",
              "  </tbody>\n",
              "</table>\n",
              "</div>"
            ],
            "text/plain": [
              "   Is_Union_Territory  temp_farenhiet\n",
              "0                True            59.0\n",
              "1                True            71.6\n",
              "2               False            68.0\n",
              "3               False            78.8\n",
              "4               False            28.4\n",
              "0               False            75.2\n",
              "1               False            95.0\n",
              "2               False            96.8\n",
              "3                True           102.2"
            ]
          },
          "metadata": {
            "tags": []
          },
          "execution_count": 1205
        }
      ]
    },
    {
      "cell_type": "markdown",
      "metadata": {
        "id": "apv8IeU_-moD"
      },
      "source": [
        "## 5. Reading csv file and group by\n",
        "\n",
        "Reference: https://www.youtube.com/watch?v=ENhGz1HkzvY <br>\n",
        "https://www.youtube.com/watch?v=nulx_VmV7dE"
      ],
      "id": "apv8IeU_-moD"
    },
    {
      "cell_type": "markdown",
      "metadata": {
        "id": "tBT96KRa-moE"
      },
      "source": [
        "<p style='text-align: right;'> 2*2=4 points</p>\n"
      ],
      "id": "tBT96KRa-moE"
    },
    {
      "cell_type": "markdown",
      "metadata": {
        "id": "WDbbxv7n-moE"
      },
      "source": [
        "Read the file 'weather_data.csv' and store it in a pandas dataframe 'df' "
      ],
      "id": "WDbbxv7n-moE"
    },
    {
      "cell_type": "code",
      "metadata": {
        "id": "CJpXTAS1-moE"
      },
      "source": [
        "df = pd.read_csv('weather_data.csv')"
      ],
      "id": "CJpXTAS1-moE",
      "execution_count": 1206,
      "outputs": []
    },
    {
      "cell_type": "markdown",
      "metadata": {
        "id": "kygRiYYh-moF"
      },
      "source": [
        "print the shape and head of the dataframe"
      ],
      "id": "kygRiYYh-moF"
    },
    {
      "cell_type": "code",
      "metadata": {
        "colab": {
          "base_uri": "https://localhost:8080/"
        },
        "id": "cn5olfki-moF",
        "outputId": "5471a114-dd0e-4804-b418-a513275f2f66"
      },
      "source": [
        "print(df.shape)\n",
        "print(df.head())"
      ],
      "id": "cn5olfki-moF",
      "execution_count": 1207,
      "outputs": [
        {
          "output_type": "stream",
          "text": [
            "(6, 4)\n",
            "        day  temperature  windspeed  event\n",
            "0  1/1/2017           32          6   Rain\n",
            "1  1/2/2017           35          7  Sunny\n",
            "2  1/3/2017           28          2   Snow\n",
            "3  1/4/2017           24          7   Snow\n",
            "4  1/5/2017           32          4   Rain\n"
          ],
          "name": "stdout"
        }
      ]
    },
    {
      "cell_type": "markdown",
      "metadata": {
        "id": "tP69MRub-moF"
      },
      "source": [
        "Group the dataframe wrt to 'event' and save the resulting output in a variable named 'g'"
      ],
      "id": "tP69MRub-moF"
    },
    {
      "cell_type": "markdown",
      "metadata": {
        "id": "Sl4qI2ue-moG"
      },
      "source": [
        "<p style='text-align: right;'> 5*3 = 15 points</p>\n"
      ],
      "id": "Sl4qI2ue-moG"
    },
    {
      "cell_type": "code",
      "metadata": {
        "id": "ZCIyt3sM-moG"
      },
      "source": [
        "g = df.groupby('event')"
      ],
      "id": "ZCIyt3sM-moG",
      "execution_count": 1208,
      "outputs": []
    },
    {
      "cell_type": "markdown",
      "metadata": {
        "id": "y5Qqx-2A-moG"
      },
      "source": [
        "Print g and  type(g)"
      ],
      "id": "y5Qqx-2A-moG"
    },
    {
      "cell_type": "code",
      "metadata": {
        "colab": {
          "base_uri": "https://localhost:8080/"
        },
        "id": "Vh8TeOFt-moH",
        "outputId": "99ae3f72-6766-4368-ade5-4e33cb6ba8f5"
      },
      "source": [
        "print(g)\n",
        "print(type(g))"
      ],
      "id": "Vh8TeOFt-moH",
      "execution_count": 1209,
      "outputs": [
        {
          "output_type": "stream",
          "text": [
            "<pandas.core.groupby.generic.DataFrameGroupBy object at 0x7fbc9a05b8d0>\n",
            "<class 'pandas.core.groupby.generic.DataFrameGroupBy'>\n"
          ],
          "name": "stdout"
        }
      ]
    },
    {
      "cell_type": "code",
      "metadata": {
        "colab": {
          "base_uri": "https://localhost:8080/",
          "height": 235
        },
        "id": "8mZtNtmdkVvb",
        "outputId": "8f52b499-112f-4ff5-8ba4-20d4b2e1735c"
      },
      "source": [
        "g.head()"
      ],
      "id": "8mZtNtmdkVvb",
      "execution_count": 1210,
      "outputs": [
        {
          "output_type": "execute_result",
          "data": {
            "text/html": [
              "<div>\n",
              "<style scoped>\n",
              "    .dataframe tbody tr th:only-of-type {\n",
              "        vertical-align: middle;\n",
              "    }\n",
              "\n",
              "    .dataframe tbody tr th {\n",
              "        vertical-align: top;\n",
              "    }\n",
              "\n",
              "    .dataframe thead th {\n",
              "        text-align: right;\n",
              "    }\n",
              "</style>\n",
              "<table border=\"1\" class=\"dataframe\">\n",
              "  <thead>\n",
              "    <tr style=\"text-align: right;\">\n",
              "      <th></th>\n",
              "      <th>day</th>\n",
              "      <th>temperature</th>\n",
              "      <th>windspeed</th>\n",
              "      <th>event</th>\n",
              "    </tr>\n",
              "  </thead>\n",
              "  <tbody>\n",
              "    <tr>\n",
              "      <th>0</th>\n",
              "      <td>1/1/2017</td>\n",
              "      <td>32</td>\n",
              "      <td>6</td>\n",
              "      <td>Rain</td>\n",
              "    </tr>\n",
              "    <tr>\n",
              "      <th>1</th>\n",
              "      <td>1/2/2017</td>\n",
              "      <td>35</td>\n",
              "      <td>7</td>\n",
              "      <td>Sunny</td>\n",
              "    </tr>\n",
              "    <tr>\n",
              "      <th>2</th>\n",
              "      <td>1/3/2017</td>\n",
              "      <td>28</td>\n",
              "      <td>2</td>\n",
              "      <td>Snow</td>\n",
              "    </tr>\n",
              "    <tr>\n",
              "      <th>3</th>\n",
              "      <td>1/4/2017</td>\n",
              "      <td>24</td>\n",
              "      <td>7</td>\n",
              "      <td>Snow</td>\n",
              "    </tr>\n",
              "    <tr>\n",
              "      <th>4</th>\n",
              "      <td>1/5/2017</td>\n",
              "      <td>32</td>\n",
              "      <td>4</td>\n",
              "      <td>Rain</td>\n",
              "    </tr>\n",
              "    <tr>\n",
              "      <th>5</th>\n",
              "      <td>1/6/2017</td>\n",
              "      <td>31</td>\n",
              "      <td>2</td>\n",
              "      <td>Sunny</td>\n",
              "    </tr>\n",
              "  </tbody>\n",
              "</table>\n",
              "</div>"
            ],
            "text/plain": [
              "        day  temperature  windspeed  event\n",
              "0  1/1/2017           32          6   Rain\n",
              "1  1/2/2017           35          7  Sunny\n",
              "2  1/3/2017           28          2   Snow\n",
              "3  1/4/2017           24          7   Snow\n",
              "4  1/5/2017           32          4   Rain\n",
              "5  1/6/2017           31          2  Sunny"
            ]
          },
          "metadata": {
            "tags": []
          },
          "execution_count": 1210
        }
      ]
    },
    {
      "cell_type": "markdown",
      "metadata": {
        "id": "7ogX1bkU-moH"
      },
      "source": [
        "Iterate over all the temperatures in g and print them "
      ],
      "id": "7ogX1bkU-moH"
    },
    {
      "cell_type": "code",
      "metadata": {
        "colab": {
          "base_uri": "https://localhost:8080/"
        },
        "id": "I1dA7qzK-moH",
        "outputId": "3ce6c94d-b8ca-4b5f-9e03-3f18021159f2"
      },
      "source": [
        "for i in g:\n",
        "  print(i)"
      ],
      "id": "I1dA7qzK-moH",
      "execution_count": 1211,
      "outputs": [
        {
          "output_type": "stream",
          "text": [
            "('Rain',         day  temperature  windspeed event\n",
            "0  1/1/2017           32          6  Rain\n",
            "4  1/5/2017           32          4  Rain)\n",
            "('Snow',         day  temperature  windspeed event\n",
            "2  1/3/2017           28          2  Snow\n",
            "3  1/4/2017           24          7  Snow)\n",
            "('Sunny',         day  temperature  windspeed  event\n",
            "1  1/2/2017           35          7  Sunny\n",
            "5  1/6/2017           31          2  Sunny)\n"
          ],
          "name": "stdout"
        }
      ]
    },
    {
      "cell_type": "markdown",
      "metadata": {
        "id": "lYaW9qQo-moI"
      },
      "source": [
        "Use the describle method on g to get the complete description on it."
      ],
      "id": "lYaW9qQo-moI"
    },
    {
      "cell_type": "code",
      "metadata": {
        "colab": {
          "base_uri": "https://localhost:8080/",
          "height": 204
        },
        "id": "o4HjQj4A-moI",
        "outputId": "5ea4b79d-3c29-4e06-88a5-767dc5e2e677"
      },
      "source": [
        "g.describe()"
      ],
      "id": "o4HjQj4A-moI",
      "execution_count": 1212,
      "outputs": [
        {
          "output_type": "execute_result",
          "data": {
            "text/html": [
              "<div>\n",
              "<style scoped>\n",
              "    .dataframe tbody tr th:only-of-type {\n",
              "        vertical-align: middle;\n",
              "    }\n",
              "\n",
              "    .dataframe tbody tr th {\n",
              "        vertical-align: top;\n",
              "    }\n",
              "\n",
              "    .dataframe thead tr th {\n",
              "        text-align: left;\n",
              "    }\n",
              "\n",
              "    .dataframe thead tr:last-of-type th {\n",
              "        text-align: right;\n",
              "    }\n",
              "</style>\n",
              "<table border=\"1\" class=\"dataframe\">\n",
              "  <thead>\n",
              "    <tr>\n",
              "      <th></th>\n",
              "      <th colspan=\"8\" halign=\"left\">temperature</th>\n",
              "      <th colspan=\"8\" halign=\"left\">windspeed</th>\n",
              "    </tr>\n",
              "    <tr>\n",
              "      <th></th>\n",
              "      <th>count</th>\n",
              "      <th>mean</th>\n",
              "      <th>std</th>\n",
              "      <th>min</th>\n",
              "      <th>25%</th>\n",
              "      <th>50%</th>\n",
              "      <th>75%</th>\n",
              "      <th>max</th>\n",
              "      <th>count</th>\n",
              "      <th>mean</th>\n",
              "      <th>std</th>\n",
              "      <th>min</th>\n",
              "      <th>25%</th>\n",
              "      <th>50%</th>\n",
              "      <th>75%</th>\n",
              "      <th>max</th>\n",
              "    </tr>\n",
              "    <tr>\n",
              "      <th>event</th>\n",
              "      <th></th>\n",
              "      <th></th>\n",
              "      <th></th>\n",
              "      <th></th>\n",
              "      <th></th>\n",
              "      <th></th>\n",
              "      <th></th>\n",
              "      <th></th>\n",
              "      <th></th>\n",
              "      <th></th>\n",
              "      <th></th>\n",
              "      <th></th>\n",
              "      <th></th>\n",
              "      <th></th>\n",
              "      <th></th>\n",
              "      <th></th>\n",
              "    </tr>\n",
              "  </thead>\n",
              "  <tbody>\n",
              "    <tr>\n",
              "      <th>Rain</th>\n",
              "      <td>2.0</td>\n",
              "      <td>32.0</td>\n",
              "      <td>0.000000</td>\n",
              "      <td>32.0</td>\n",
              "      <td>32.0</td>\n",
              "      <td>32.0</td>\n",
              "      <td>32.0</td>\n",
              "      <td>32.0</td>\n",
              "      <td>2.0</td>\n",
              "      <td>5.0</td>\n",
              "      <td>1.414214</td>\n",
              "      <td>4.0</td>\n",
              "      <td>4.50</td>\n",
              "      <td>5.0</td>\n",
              "      <td>5.50</td>\n",
              "      <td>6.0</td>\n",
              "    </tr>\n",
              "    <tr>\n",
              "      <th>Snow</th>\n",
              "      <td>2.0</td>\n",
              "      <td>26.0</td>\n",
              "      <td>2.828427</td>\n",
              "      <td>24.0</td>\n",
              "      <td>25.0</td>\n",
              "      <td>26.0</td>\n",
              "      <td>27.0</td>\n",
              "      <td>28.0</td>\n",
              "      <td>2.0</td>\n",
              "      <td>4.5</td>\n",
              "      <td>3.535534</td>\n",
              "      <td>2.0</td>\n",
              "      <td>3.25</td>\n",
              "      <td>4.5</td>\n",
              "      <td>5.75</td>\n",
              "      <td>7.0</td>\n",
              "    </tr>\n",
              "    <tr>\n",
              "      <th>Sunny</th>\n",
              "      <td>2.0</td>\n",
              "      <td>33.0</td>\n",
              "      <td>2.828427</td>\n",
              "      <td>31.0</td>\n",
              "      <td>32.0</td>\n",
              "      <td>33.0</td>\n",
              "      <td>34.0</td>\n",
              "      <td>35.0</td>\n",
              "      <td>2.0</td>\n",
              "      <td>4.5</td>\n",
              "      <td>3.535534</td>\n",
              "      <td>2.0</td>\n",
              "      <td>3.25</td>\n",
              "      <td>4.5</td>\n",
              "      <td>5.75</td>\n",
              "      <td>7.0</td>\n",
              "    </tr>\n",
              "  </tbody>\n",
              "</table>\n",
              "</div>"
            ],
            "text/plain": [
              "      temperature                              ... windspeed                      \n",
              "            count  mean       std   min   25%  ...       min   25%  50%   75%  max\n",
              "event                                          ...                                \n",
              "Rain          2.0  32.0  0.000000  32.0  32.0  ...       4.0  4.50  5.0  5.50  6.0\n",
              "Snow          2.0  26.0  2.828427  24.0  25.0  ...       2.0  3.25  4.5  5.75  7.0\n",
              "Sunny         2.0  33.0  2.828427  31.0  32.0  ...       2.0  3.25  4.5  5.75  7.0\n",
              "\n",
              "[3 rows x 16 columns]"
            ]
          },
          "metadata": {
            "tags": []
          },
          "execution_count": 1212
        }
      ]
    },
    {
      "cell_type": "markdown",
      "metadata": {
        "id": "IoATo86K-moI"
      },
      "source": [
        "Create a new column in the dataframe df, named 'hot_temp' which contains True if temp is above 30, else False"
      ],
      "id": "IoATo86K-moI"
    },
    {
      "cell_type": "markdown",
      "metadata": {
        "id": "GPxK4oY3-moJ"
      },
      "source": [
        "<p style='text-align: right;'> 5 points</p>\n"
      ],
      "id": "GPxK4oY3-moJ"
    },
    {
      "cell_type": "code",
      "metadata": {
        "id": "CNmRy1aO-moJ"
      },
      "source": [
        "#code here to filter df with above condition\n",
        "df['hot_temp'] = [True if e > 30 else False for e in df['temperature']]"
      ],
      "id": "CNmRy1aO-moJ",
      "execution_count": 1213,
      "outputs": []
    },
    {
      "cell_type": "code",
      "metadata": {
        "colab": {
          "base_uri": "https://localhost:8080/",
          "height": 235
        },
        "id": "yaXuSRs2-moJ",
        "outputId": "a22843aa-80d2-4d94-9acd-88da2ea711b6"
      },
      "source": [
        "# print df\n",
        "df"
      ],
      "id": "yaXuSRs2-moJ",
      "execution_count": 1214,
      "outputs": [
        {
          "output_type": "execute_result",
          "data": {
            "text/html": [
              "<div>\n",
              "<style scoped>\n",
              "    .dataframe tbody tr th:only-of-type {\n",
              "        vertical-align: middle;\n",
              "    }\n",
              "\n",
              "    .dataframe tbody tr th {\n",
              "        vertical-align: top;\n",
              "    }\n",
              "\n",
              "    .dataframe thead th {\n",
              "        text-align: right;\n",
              "    }\n",
              "</style>\n",
              "<table border=\"1\" class=\"dataframe\">\n",
              "  <thead>\n",
              "    <tr style=\"text-align: right;\">\n",
              "      <th></th>\n",
              "      <th>day</th>\n",
              "      <th>temperature</th>\n",
              "      <th>windspeed</th>\n",
              "      <th>event</th>\n",
              "      <th>hot_temp</th>\n",
              "    </tr>\n",
              "  </thead>\n",
              "  <tbody>\n",
              "    <tr>\n",
              "      <th>0</th>\n",
              "      <td>1/1/2017</td>\n",
              "      <td>32</td>\n",
              "      <td>6</td>\n",
              "      <td>Rain</td>\n",
              "      <td>True</td>\n",
              "    </tr>\n",
              "    <tr>\n",
              "      <th>1</th>\n",
              "      <td>1/2/2017</td>\n",
              "      <td>35</td>\n",
              "      <td>7</td>\n",
              "      <td>Sunny</td>\n",
              "      <td>True</td>\n",
              "    </tr>\n",
              "    <tr>\n",
              "      <th>2</th>\n",
              "      <td>1/3/2017</td>\n",
              "      <td>28</td>\n",
              "      <td>2</td>\n",
              "      <td>Snow</td>\n",
              "      <td>False</td>\n",
              "    </tr>\n",
              "    <tr>\n",
              "      <th>3</th>\n",
              "      <td>1/4/2017</td>\n",
              "      <td>24</td>\n",
              "      <td>7</td>\n",
              "      <td>Snow</td>\n",
              "      <td>False</td>\n",
              "    </tr>\n",
              "    <tr>\n",
              "      <th>4</th>\n",
              "      <td>1/5/2017</td>\n",
              "      <td>32</td>\n",
              "      <td>4</td>\n",
              "      <td>Rain</td>\n",
              "      <td>True</td>\n",
              "    </tr>\n",
              "    <tr>\n",
              "      <th>5</th>\n",
              "      <td>1/6/2017</td>\n",
              "      <td>31</td>\n",
              "      <td>2</td>\n",
              "      <td>Sunny</td>\n",
              "      <td>True</td>\n",
              "    </tr>\n",
              "  </tbody>\n",
              "</table>\n",
              "</div>"
            ],
            "text/plain": [
              "        day  temperature  windspeed  event  hot_temp\n",
              "0  1/1/2017           32          6   Rain      True\n",
              "1  1/2/2017           35          7  Sunny      True\n",
              "2  1/3/2017           28          2   Snow     False\n",
              "3  1/4/2017           24          7   Snow     False\n",
              "4  1/5/2017           32          4   Rain      True\n",
              "5  1/6/2017           31          2  Sunny      True"
            ]
          },
          "metadata": {
            "tags": []
          },
          "execution_count": 1214
        }
      ]
    },
    {
      "cell_type": "markdown",
      "metadata": {
        "id": "cIcCX-ox-moK"
      },
      "source": [
        "## Data Range\n",
        "\n",
        "Reference:-https://www.youtube.com/watch?v=dRxCvSbMEto"
      ],
      "id": "cIcCX-ox-moK"
    },
    {
      "cell_type": "markdown",
      "metadata": {
        "id": "WVXZQyyK-moK"
      },
      "source": [
        "<p style='text-align: right;'> 5*3 = 15 points</p>\n"
      ],
      "id": "WVXZQyyK-moK"
    },
    {
      "cell_type": "markdown",
      "metadata": {
        "id": "wuv7c_R5-moK"
      },
      "source": [
        "Create a pandas daterange where starting date is 1st of January,2020 and end date is 1st of April 2021, store it in a new variable named 'a'"
      ],
      "id": "wuv7c_R5-moK"
    },
    {
      "cell_type": "code",
      "metadata": {
        "id": "xz1JUi2D-moL"
      },
      "source": [
        "a = pd.date_range(start = \"2020-01-01\", end = \"2021-04-01\")"
      ],
      "id": "xz1JUi2D-moL",
      "execution_count": 1215,
      "outputs": []
    },
    {
      "cell_type": "markdown",
      "metadata": {
        "id": "phBc5kZD-moL"
      },
      "source": [
        "print a"
      ],
      "id": "phBc5kZD-moL"
    },
    {
      "cell_type": "code",
      "metadata": {
        "colab": {
          "base_uri": "https://localhost:8080/"
        },
        "id": "GD7yE8eM-moL",
        "outputId": "a305315b-9879-4784-da3a-aaf51cd4a9a5"
      },
      "source": [
        "print(a)"
      ],
      "id": "GD7yE8eM-moL",
      "execution_count": 1216,
      "outputs": [
        {
          "output_type": "stream",
          "text": [
            "DatetimeIndex(['2020-01-01', '2020-01-02', '2020-01-03', '2020-01-04',\n",
            "               '2020-01-05', '2020-01-06', '2020-01-07', '2020-01-08',\n",
            "               '2020-01-09', '2020-01-10',\n",
            "               ...\n",
            "               '2021-03-23', '2021-03-24', '2021-03-25', '2021-03-26',\n",
            "               '2021-03-27', '2021-03-28', '2021-03-29', '2021-03-30',\n",
            "               '2021-03-31', '2021-04-01'],\n",
            "              dtype='datetime64[ns]', length=457, freq='D')\n"
          ],
          "name": "stdout"
        }
      ]
    },
    {
      "cell_type": "markdown",
      "metadata": {
        "id": "IYeiRAkH-moL"
      },
      "source": [
        "What is the len of a?"
      ],
      "id": "IYeiRAkH-moL"
    },
    {
      "cell_type": "code",
      "metadata": {
        "colab": {
          "base_uri": "https://localhost:8080/"
        },
        "id": "mXNtc44A-moM",
        "outputId": "8727d4e9-bda0-447c-a0b8-b5123a5f2b9b"
      },
      "source": [
        "len(a)"
      ],
      "id": "mXNtc44A-moM",
      "execution_count": 1217,
      "outputs": [
        {
          "output_type": "execute_result",
          "data": {
            "text/plain": [
              "457"
            ]
          },
          "metadata": {
            "tags": []
          },
          "execution_count": 1217
        }
      ]
    },
    {
      "cell_type": "markdown",
      "metadata": {
        "id": "0nvUmkYp-moM"
      },
      "source": [
        "What is the type of a?"
      ],
      "id": "0nvUmkYp-moM"
    },
    {
      "cell_type": "code",
      "metadata": {
        "colab": {
          "base_uri": "https://localhost:8080/"
        },
        "id": "YnfGeve5-moN",
        "outputId": "badb48bf-e336-4010-ce27-a0a0e94ef2e4"
      },
      "source": [
        "type(a)"
      ],
      "id": "YnfGeve5-moN",
      "execution_count": 1218,
      "outputs": [
        {
          "output_type": "execute_result",
          "data": {
            "text/plain": [
              "pandas.core.indexes.datetimes.DatetimeIndex"
            ]
          },
          "metadata": {
            "tags": []
          },
          "execution_count": 1218
        }
      ]
    },
    {
      "cell_type": "markdown",
      "metadata": {
        "id": "z9w-1Pt1-moN"
      },
      "source": [
        "________________\n",
        "# Hey high five! You solved the 4th milestone challenge too! Pawri to banti hai ;)\n",
        "________________\n",
        "\n",
        "# Its Feedback Time!\n",
        "\n",
        "We hope you’ve enjoyed this course so far. We’re committed to help you use \"AI for All\" course to its full potential, so that you have a great learning experience. And that’s why we need your help in form of a feedback here.\n",
        "\n",
        "**Please fill this feedback form**\n",
        " https://zfrmz.in/MtRG5oWXBdesm6rmSM7N"
      ],
      "id": "z9w-1Pt1-moN"
    }
  ]
}