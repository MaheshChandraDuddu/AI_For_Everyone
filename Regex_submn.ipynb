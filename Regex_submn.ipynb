{
  "nbformat": 4,
  "nbformat_minor": 0,
  "metadata": {
    "kernelspec": {
      "display_name": "Python 3",
      "language": "python",
      "name": "python3"
    },
    "language_info": {
      "codemirror_mode": {
        "name": "ipython",
        "version": 3
      },
      "file_extension": ".py",
      "mimetype": "text/x-python",
      "name": "python",
      "nbconvert_exporter": "python",
      "pygments_lexer": "ipython3",
      "version": "3.8.5"
    },
    "colab": {
      "name": "Regex.ipynb",
      "provenance": []
    }
  },
  "cells": [
    {
      "cell_type": "markdown",
      "metadata": {
        "id": "LpDm11Iq0ArJ"
      },
      "source": [
        "## <center><u>Regular Expression</u></center>\n",
        "\n",
        "\n",
        "Regular Expression – better known as Regex – is pattern matching. As regular expressions are regular, it means they are used to match well-defined patterns. Regular expression or pattern matching tools identify words and phrases with common patterns.  A typical use case for Regex is find and replace, however as it is not able to understand syntax, grammar, or context, Regex solutions tend to operate on a very small well-defined problem set. Basically, Regex solutions are using pattern matching to merely identify similarities and differences in patterns of words and phrases. They are not able to identify words and phrases taking into consideration syntax, grammar and ultimately context.\n",
        "\n",
        "\n",
        "You will be facing some challenging questions on Regex in this assignment. Below following steps would help you to complete this assignment:\n",
        "\n",
        "`1. Read the question\n",
        "2. Go to the link given under the question\n",
        "3. You will land on Hakerrank page, if not then create your Hakerrank account.\n",
        "4. Once you land on hankerank page mentioned under question, go through the given problem carefully.\n",
        "5. Solve it in the editor given in the page. Select python3 as your language in the editor and click 'Run Code' Button\n",
        "6. Once you have passed all the sample test cases, write your solution in this assignment against each question.`\n",
        "\n",
        "\n",
        "If you need any assistence on Regex, then please refer below links:\n",
        "\n",
        "YouTube reference: https://www.youtube.com/watch?v=zN8rwVXwRUE\n",
        "\n",
        "Regex doc: https://docs.python.org/3/howto/regex.html\n",
        "\n",
        "\n"
      ]
    },
    {
      "cell_type": "markdown",
      "metadata": {
        "id": "GAMc-2Cf0ArN"
      },
      "source": [
        "#### Q1. Matching string problem\n",
        "\n",
        "https://www.hackerrank.com/challenges/matching-specific-string/problem"
      ]
    },
    {
      "cell_type": "raw",
      "metadata": {
        "id": "X6CSfBFh0ArO"
      },
      "source": [
        "\n",
        "\n",
        "\n",
        "\n"
      ]
    },
    {
      "cell_type": "code",
      "metadata": {
        "id": "eM8SlgqsQfT-"
      },
      "source": [
        "Regex_Pattern = r'hackerrank'\t# Do not delete 'r'.\n",
        "\n",
        "import re\n",
        "\n",
        "Test_String = input()\n",
        "\n",
        "match = re.findall(Regex_Pattern, Test_String)\n",
        "\n",
        "print(\"Number of matches :\", len(match))\n"
      ],
      "execution_count": null,
      "outputs": []
    },
    {
      "cell_type": "markdown",
      "metadata": {
        "id": "GV8xJbnE0ArO"
      },
      "source": [
        "#### Q2 Matching anything\n",
        "\n",
        "link - https://www.hackerrank.com/challenges/matching-anything-but-new-line/problem\n"
      ]
    },
    {
      "cell_type": "raw",
      "metadata": {
        "id": "iUzAln520ArP"
      },
      "source": [
        "\n",
        "\n",
        "\n",
        "\n",
        "\n",
        "\n",
        "\n"
      ]
    },
    {
      "cell_type": "code",
      "metadata": {
        "id": "o7WFcBpRW-5q"
      },
      "source": [
        "regex_pattern = r\"...\\....\\....\\....$\"\t# Do not delete 'r'.\n",
        "\n",
        "import re\n",
        "import sys\n",
        "\n",
        "test_string = input()\n",
        "\n",
        "match = re.match(regex_pattern, test_string) is not None\n",
        "\n",
        "print(str(match).lower())"
      ],
      "execution_count": null,
      "outputs": []
    },
    {
      "cell_type": "markdown",
      "metadata": {
        "id": "leIcgno80ArP"
      },
      "source": [
        "#### Q3 Matching non digit character\n",
        "\n",
        "link - https://www.hackerrank.com/challenges/matching-digits-non-digit-character/problem"
      ]
    },
    {
      "cell_type": "markdown",
      "metadata": {
        "id": "TAZA_-u40ArQ"
      },
      "source": [
        "Regex_Pattern = r\"\\d\\d\\D\\d\\d\\D\\d\\d\\d\\d\"\t# Do not delete 'r'.\n",
        "\n",
        "or\n",
        "\n",
        "\n",
        "Regex_Pattern = r\"\\d{2}\\D\\d{2}\\D\\d{4}\"    # Do not delete 'r'\n"
      ]
    },
    {
      "cell_type": "code",
      "metadata": {
        "id": "9GAFAHc4XsyG"
      },
      "source": [
        "Regex_Pattern = r\"\\d\\d\\D\\d\\d\\D\\d\\d\\d\\d\"\t# Do not delete 'r'.\n",
        "\n",
        "import re\n",
        "\n",
        "print(str(bool(re.search(Regex_Pattern, input()))).lower())"
      ],
      "execution_count": null,
      "outputs": []
    },
    {
      "cell_type": "markdown",
      "metadata": {
        "id": "kEAXLy-i0ArR"
      },
      "source": [
        "#### Q4 matching whitespace - non whitespace\n",
        "\n",
        "\n",
        "link - https://www.hackerrank.com/challenges/matching-whitespace-non-whitespace-character/problem?h_r=next-challenge&h_v=zen\n"
      ]
    },
    {
      "cell_type": "raw",
      "metadata": {
        "id": "0g40u0KB0ArR"
      },
      "source": [
        "\n",
        "\n",
        "\n",
        "\n",
        "\n",
        "\n"
      ]
    },
    {
      "cell_type": "code",
      "metadata": {
        "id": "41KB9baxXw4X"
      },
      "source": [
        "Regex_Pattern = r\"\\S\\S\\s\\S\\S\\s\\S\\S\"\t# Do not delete 'r'.\n",
        "\n",
        "import re\n",
        "\n",
        "print(str(bool(re.search(Regex_Pattern, input()))).lower())"
      ],
      "execution_count": null,
      "outputs": []
    },
    {
      "cell_type": "markdown",
      "metadata": {
        "id": "gdXJ_Fh30ArS"
      },
      "source": [
        "#### Q5 matching start end problem\n",
        "\n",
        "\n",
        "\n",
        "link - https://www.hackerrank.com/challenges/matching-start-end/problem?h_r=next-challenge&h_v=zen&h_r=next-challenge&h_v=zen&h_r=next-challenge&h_v=zen"
      ]
    },
    {
      "cell_type": "raw",
      "metadata": {
        "id": "k0OvqCi40ArS"
      },
      "source": [
        "\n",
        "\n",
        "\n",
        "\n",
        "\n",
        "\n",
        "\n",
        "\n"
      ]
    },
    {
      "cell_type": "code",
      "metadata": {
        "id": "7YNSe35dY8jP"
      },
      "source": [
        "Regex_Pattern = r\"^\\d\\w\\w\\w\\w\\.$\"\t# Do not delete 'r'.\n",
        "\n",
        "import re\n",
        "\n",
        "print(str(bool(re.search(Regex_Pattern, input()))).lower())"
      ],
      "execution_count": null,
      "outputs": []
    },
    {
      "cell_type": "markdown",
      "metadata": {
        "id": "qoCQUG2U0ArT"
      },
      "source": [
        "#### Q6 negative lookbehind\n",
        "\n",
        "link - https://www.hackerrank.com/challenges/negative-lookbehind/problem"
      ]
    },
    {
      "cell_type": "raw",
      "metadata": {
        "id": "oZzKQvTF0ArT"
      },
      "source": [
        "\n",
        "\n",
        "\n",
        "\n",
        "\n",
        "\n",
        "\n",
        "\n",
        "\n"
      ]
    },
    {
      "cell_type": "code",
      "metadata": {
        "id": "OaSQFvIEmLUD"
      },
      "source": [
        "Regex_Pattern = r\"(?<![aeiouAEIOU]).\"\t# Do not delete 'r'.\n",
        "\n",
        "import re\n",
        "\n",
        "Test_String = input()\n",
        "\n",
        "match = re.findall(Regex_Pattern, Test_String)\n",
        "\n",
        "print(\"Number of matches :\", len(match))"
      ],
      "execution_count": null,
      "outputs": []
    },
    {
      "cell_type": "markdown",
      "metadata": {
        "id": "pJUJXqwH0ArU"
      },
      "source": [
        "#### Q7 Html attribute problem\n",
        "\n",
        "link - https://www.hackerrank.com/challenges/html-attributes/problem"
      ]
    },
    {
      "cell_type": "raw",
      "metadata": {
        "id": "QEng9bGM0ArU"
      },
      "source": [
        "\n",
        "\n",
        "\n",
        "\n",
        "\n",
        "\n",
        "\n",
        "\n"
      ]
    },
    {
      "cell_type": "code",
      "metadata": {
        "id": "s1rG5hxImM7p"
      },
      "source": [
        "import re\n",
        "from collections import defaultdict\n",
        "\n",
        "tags = defaultdict(set)\n",
        "\n",
        "for _ in range(int(input())):\n",
        "    for tag, attrs in re.findall(r'<(\\w+)(.*?)?>', input()):\n",
        "        tags[tag].update(\n",
        "            re.findall(r'\\s(\\w+)=', attrs)\n",
        "        )\n",
        "\n",
        "for tag, attrs in sorted(tags.items()):\n",
        "    print(tag + \":\" + \",\".join(sorted(attrs)))"
      ],
      "execution_count": null,
      "outputs": []
    },
    {
      "cell_type": "markdown",
      "metadata": {
        "id": "gUCzprWQ0ArU"
      },
      "source": [
        "#### Q8 detect html tags\n",
        "\n",
        "link - https://www.hackerrank.com/challenges/detect-html-tags/problem\n"
      ]
    },
    {
      "cell_type": "raw",
      "metadata": {
        "id": "Qtgl3IBy0ArV"
      },
      "source": [
        "\n",
        "\n",
        "\n",
        "\n",
        "\n",
        "\n",
        "\n",
        "\n",
        "\n"
      ]
    },
    {
      "cell_type": "code",
      "metadata": {
        "id": "Lep6Sg9UnGKs"
      },
      "source": [
        "import re, sys\n",
        "print(';'.join(sorted(set(re.findall('<(\\w+)', sys.stdin.read())))))"
      ],
      "execution_count": null,
      "outputs": []
    },
    {
      "cell_type": "markdown",
      "metadata": {
        "id": "Slc25Kdf0ArV"
      },
      "source": [
        "#### Q9 final substring problem\n",
        "\n",
        "link - https://www.hackerrank.com/challenges/find-substring/problem\n"
      ]
    },
    {
      "cell_type": "raw",
      "metadata": {
        "id": "HkccCCyY0ArV"
      },
      "source": [
        "\n",
        "\n",
        "\n",
        "\n",
        "\n",
        "\n",
        "\n",
        "\n",
        "\n",
        "\n"
      ]
    },
    {
      "cell_type": "code",
      "metadata": {
        "id": "BP-hX-ZanVX7"
      },
      "source": [
        "import re\n",
        "\n",
        "n = int(input())\n",
        "text = \"\\n\".join(input() for _ in range(n))\n",
        "t = int(input())\n",
        "for _ in range(t):\n",
        "    print(len(re.findall(r'\\B(%s)\\B' % input().strip(),text)))"
      ],
      "execution_count": null,
      "outputs": []
    },
    {
      "cell_type": "markdown",
      "metadata": {
        "id": "vue9JFID0ArW"
      },
      "source": [
        "#### Q 10 Alien username\n",
        "\n",
        "link - https://www.hackerrank.com/challenges/alien-username/problem"
      ]
    },
    {
      "cell_type": "raw",
      "metadata": {
        "id": "NycuAuqI0ArW"
      },
      "source": [
        "\n",
        "\n",
        "\n",
        "\n",
        "\n",
        "\n",
        "\n",
        "\n",
        "\n"
      ]
    },
    {
      "cell_type": "code",
      "metadata": {
        "id": "1uuFzhwGn73O"
      },
      "source": [
        "n = int(input())\n",
        "import re\n",
        "for _ in range(n):\n",
        "    if re.match(\"^[_.]{1}[0-9]{1,}[a-zA-Z]{0,}[_]{0,1}$\",input()):\n",
        "        print(\"VALID\")\n",
        "    else:\n",
        "        print(\"INVALID\")"
      ],
      "execution_count": null,
      "outputs": []
    },
    {
      "cell_type": "markdown",
      "metadata": {
        "id": "wS8d9h6k0ArW"
      },
      "source": [
        "#### Q11 ip address validation\n",
        "\n",
        "link - https://www.hackerrank.com/challenges/ip-address-validation/problem"
      ]
    },
    {
      "cell_type": "raw",
      "metadata": {
        "id": "auIHkyO60ArX"
      },
      "source": [
        "\n",
        "\n",
        "\n",
        "\n",
        "\n",
        "\n",
        "\n",
        "\n",
        "\n",
        "\n"
      ]
    },
    {
      "cell_type": "code",
      "metadata": {
        "id": "JiaOEAd_oeMQ"
      },
      "source": [
        "import re\n",
        "\n",
        "number = int(input())\n",
        "\n",
        "for n in range(number):\n",
        "    string = input()\n",
        "    if re.search(r'^([a-f0-9]{0,4}:[a-f0-9]{0,4}:[a-f0-9]{0,4}:[a-f0-9]{0,4}:[a-f0-9]{0,4}:[a-f0-9]{0,4}:[a-f0-9]{0,4}:[a-f0-9]{0,4})$', string):\n",
        "        print('IPv6')\n",
        "    elif re.search(r'^(([0-9]|[0-9]{2}|1[0-9]{2}|2[0-4][0-9]|25[0-5])\\.){3}([0-9]|[0-9]{2}|1[0-9]{2}|2[0-4][0-9]|25[0-5])$', string):\n",
        "        print('IPv4')\n",
        "    else:\n",
        "        print('Neither')"
      ],
      "execution_count": null,
      "outputs": []
    },
    {
      "cell_type": "markdown",
      "metadata": {
        "id": "7e56umtd0ArX"
      },
      "source": [
        "\n",
        "#### Q 12 find a word problem\n",
        "\n",
        "link - https://www.hackerrank.com/challenges/find-a-word/problem\n"
      ]
    },
    {
      "cell_type": "raw",
      "metadata": {
        "id": "RHVFOpOW0ArY"
      },
      "source": [
        "\n",
        "\n",
        "\n",
        "\n",
        "\n",
        "\n",
        "\n",
        "\n",
        "\n",
        "\n"
      ]
    },
    {
      "cell_type": "code",
      "metadata": {
        "id": "nPyAcz4kofdz"
      },
      "source": [
        "import re\n",
        "ss = ''\n",
        "\n",
        "for _ in range(int(input())):\n",
        "    ss += input() + '\\n'\n",
        "\n",
        "for _ in range(int(input())):\n",
        "    wrd = input()\n",
        "    print(len(re.findall(rf'\\b{wrd}\\b', ss)))"
      ],
      "execution_count": null,
      "outputs": []
    },
    {
      "cell_type": "markdown",
      "metadata": {
        "id": "YPSiRiGA0ArY"
      },
      "source": [
        "#### Q13 detect the email address\n",
        "\n",
        "link - https://www.hackerrank.com/challenges/detect-the-email-addresses/problem"
      ]
    },
    {
      "cell_type": "raw",
      "metadata": {
        "id": "9GSVCLgf0ArY"
      },
      "source": [
        "\n",
        "\n",
        "\n",
        "\n",
        "\n",
        "\n",
        "\n",
        "\n"
      ]
    },
    {
      "cell_type": "code",
      "metadata": {
        "id": "iQNaLIsvo7l-"
      },
      "source": [
        "import re\n",
        "N=int(input())\n",
        "myStr = \" \".join([input() for i in range(N)])\n",
        "print(\";\".join(sorted(set([i for i in re.findall(r\"([\\w.]+@[\\w.]+\\w+)\", myStr)]))))\n"
      ],
      "execution_count": null,
      "outputs": []
    },
    {
      "cell_type": "markdown",
      "metadata": {
        "id": "1b-Y_Uno0ArZ"
      },
      "source": [
        "Q14 detect the domain problem\n",
        "\n",
        "link - https://www.hackerrank.com/challenges/detect-the-domain-name/problem"
      ]
    },
    {
      "cell_type": "raw",
      "metadata": {
        "id": "Wg24rgmr0ArZ"
      },
      "source": [
        "\n",
        "\n",
        "\n",
        "\n",
        "\n",
        "\n",
        "\n",
        "\n",
        "\n",
        "\n",
        "\n"
      ]
    },
    {
      "cell_type": "code",
      "metadata": {
        "id": "ECT__032pH7v"
      },
      "source": [
        "Regex_Pattern = r\"http[s]?://[\\w-]+\\.[\\.\\w-]+[\\?/\\\"]\"\n",
        "\n",
        "import re\n",
        "\n",
        "s = \"\"\n",
        "for i in range(int(input())):\n",
        "        s += input() + '\\n'\n",
        "# print(s)\n",
        "\n",
        "setUncutRes = set(re.findall(Regex_Pattern, s))\n",
        "# print(setUncutRes)\n",
        "\n",
        "setCutRes = set()\n",
        "for e in setUncutRes:\n",
        "        if len(e) > 6 and e[:7] == \"http://\":\n",
        "                # print(e[7:-1])\n",
        "                if len(e) > 9 and e[:10] == \"http://www\":\n",
        "                        setCutRes.add(e[11:-1])        \n",
        "                        # print(e[11:-1])\n",
        "                else:\n",
        "                        setCutRes.add(e[7:-1])\n",
        "                        # print(e[7:-1])\n",
        "        if len(e) > 7 and e[:8] == \"https://\":\n",
        "                if len(e) > 10 and e[:11] == \"https://www\":\n",
        "                        setCutRes.add(e[12:-1])        \n",
        "                else:\n",
        "                        setCutRes.add(e[8:-1])\n",
        "\n",
        "strRes = \"\"\n",
        "for i in (sorted(list(setCutRes))):\n",
        "        strRes += str(i) + ';'\n",
        "\n",
        "print(strRes[:-1])"
      ],
      "execution_count": null,
      "outputs": []
    },
    {
      "cell_type": "markdown",
      "metadata": {
        "id": "jVI0h1V10ArZ"
      },
      "source": [
        "#### Q15 ide challenge\n",
        "\n",
        "link - https://www.hackerrank.com/challenges/ide-identifying-comments/problem"
      ]
    },
    {
      "cell_type": "raw",
      "metadata": {
        "id": "YVgpP6Qn0Ara"
      },
      "source": [
        "\n",
        "\n",
        "\n",
        "\n",
        "\n",
        "\n",
        "\n",
        "\n",
        "\n",
        "\n"
      ]
    },
    {
      "cell_type": "code",
      "metadata": {
        "id": "i0IGUS7hrjlQ"
      },
      "source": [
        "import re\n",
        "import sys\n",
        "\n",
        "t = \"\\n\".join([i.strip() for i in sys.stdin])\n",
        "print(\"\\n\".join(re.findall(r\"//.*|/\\*[\\S\\s]*?\\*/\", t)))"
      ],
      "execution_count": null,
      "outputs": []
    },
    {
      "cell_type": "markdown",
      "metadata": {
        "id": "PvybzsVE0Ara"
      },
      "source": [
        "#### Q16 programming language detection problem\n",
        "\n",
        "link - https://www.hackerrank.com/challenges/programming-language-detection/problem"
      ]
    },
    {
      "cell_type": "raw",
      "metadata": {
        "id": "-OPX9X4b0Ara"
      },
      "source": [
        "\n",
        "\n",
        "\n",
        "\n",
        "\n",
        "\n",
        "\n",
        "\n",
        "\n",
        "\n",
        "\n"
      ]
    },
    {
      "cell_type": "code",
      "metadata": {
        "id": "3qfDhOOBrxPu"
      },
      "source": [
        "import re\n",
        "import sys\n",
        "\n",
        "src = ''.join(sys.stdin.readlines())\n",
        "\n",
        "if 'java' in src:\n",
        "    print(\"Java\")\n",
        "elif '#include' in src:\n",
        "    print(\"C\")\n",
        "else:\n",
        "    print(\"Python\")"
      ],
      "execution_count": null,
      "outputs": []
    },
    {
      "cell_type": "markdown",
      "metadata": {
        "id": "Sdfxkblv0Arb"
      },
      "source": [
        "\n",
        "---------------------------------\n",
        "\n",
        "# \"Holly jolly\":) Congratulations! you have completed the REGEX assignment. \n",
        "\n",
        "--------------------------------\n",
        "\n",
        "# FeedBack\n",
        "We hope you’ve enjoyed this course so far. We’re committed to help you use \"AI for All\" course to its full potential, so that you have a great learning experience. And that’s why we need your help in form of a feedback here.\n",
        "\n",
        "Please fill this feedback form  https://zfrmz.in/MtRG5oWXBdesm6rmSM7N"
      ]
    }
  ]
}