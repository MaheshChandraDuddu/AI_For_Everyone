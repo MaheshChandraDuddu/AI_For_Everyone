{
 "cells": [
  {
   "cell_type": "markdown",
   "metadata": {},
   "source": [
    "# <center><u> Gradient Descent</u> </center>"
   ]
  },
  {
   "cell_type": "markdown",
   "metadata": {},
   "source": [
    "Optimization is a big part of machine learning. Almost every machine learning algorithm has an optimization algorithm at it’s core.Gradient descent is an optimization algorithm used to find the values of parameters (coefficients) of a function (f) that minimizes a cost function (cost).\n",
    "\n",
    "Gradient descent is best used when the parameters cannot be calculated analytically (e.g. using linear algebra) and must be searched for by an optimization algorithm.\n",
    "\n",
    "\n",
    "In this assignment we will go through an example of implementing **Gradient Descent** in simple and multiple linear regression, for this we will be using housing dataset."
   ]
  },
  {
   "cell_type": "code",
   "execution_count": 1,
   "metadata": {},
   "outputs": [
    {
     "data": {
      "text/html": [
       "<div>\n",
       "<style scoped>\n",
       "    .dataframe tbody tr th:only-of-type {\n",
       "        vertical-align: middle;\n",
       "    }\n",
       "\n",
       "    .dataframe tbody tr th {\n",
       "        vertical-align: top;\n",
       "    }\n",
       "\n",
       "    .dataframe thead th {\n",
       "        text-align: right;\n",
       "    }\n",
       "</style>\n",
       "<table border=\"1\" class=\"dataframe\">\n",
       "  <thead>\n",
       "    <tr style=\"text-align: right;\">\n",
       "      <th></th>\n",
       "      <th>price</th>\n",
       "      <th>area</th>\n",
       "      <th>bedrooms</th>\n",
       "      <th>bathrooms</th>\n",
       "      <th>stories</th>\n",
       "      <th>mainroad</th>\n",
       "      <th>guestroom</th>\n",
       "      <th>basement</th>\n",
       "      <th>hotwaterheating</th>\n",
       "      <th>airconditioning</th>\n",
       "      <th>parking</th>\n",
       "      <th>prefarea</th>\n",
       "      <th>furnishingstatus</th>\n",
       "    </tr>\n",
       "  </thead>\n",
       "  <tbody>\n",
       "    <tr>\n",
       "      <th>0</th>\n",
       "      <td>13300000</td>\n",
       "      <td>7420</td>\n",
       "      <td>4</td>\n",
       "      <td>2</td>\n",
       "      <td>3</td>\n",
       "      <td>yes</td>\n",
       "      <td>no</td>\n",
       "      <td>no</td>\n",
       "      <td>no</td>\n",
       "      <td>yes</td>\n",
       "      <td>2</td>\n",
       "      <td>yes</td>\n",
       "      <td>furnished</td>\n",
       "    </tr>\n",
       "    <tr>\n",
       "      <th>1</th>\n",
       "      <td>12250000</td>\n",
       "      <td>8960</td>\n",
       "      <td>4</td>\n",
       "      <td>4</td>\n",
       "      <td>4</td>\n",
       "      <td>yes</td>\n",
       "      <td>no</td>\n",
       "      <td>no</td>\n",
       "      <td>no</td>\n",
       "      <td>yes</td>\n",
       "      <td>3</td>\n",
       "      <td>no</td>\n",
       "      <td>furnished</td>\n",
       "    </tr>\n",
       "    <tr>\n",
       "      <th>2</th>\n",
       "      <td>12250000</td>\n",
       "      <td>9960</td>\n",
       "      <td>3</td>\n",
       "      <td>2</td>\n",
       "      <td>2</td>\n",
       "      <td>yes</td>\n",
       "      <td>no</td>\n",
       "      <td>yes</td>\n",
       "      <td>no</td>\n",
       "      <td>no</td>\n",
       "      <td>2</td>\n",
       "      <td>yes</td>\n",
       "      <td>semi-furnished</td>\n",
       "    </tr>\n",
       "    <tr>\n",
       "      <th>3</th>\n",
       "      <td>12215000</td>\n",
       "      <td>7500</td>\n",
       "      <td>4</td>\n",
       "      <td>2</td>\n",
       "      <td>2</td>\n",
       "      <td>yes</td>\n",
       "      <td>no</td>\n",
       "      <td>yes</td>\n",
       "      <td>no</td>\n",
       "      <td>yes</td>\n",
       "      <td>3</td>\n",
       "      <td>yes</td>\n",
       "      <td>furnished</td>\n",
       "    </tr>\n",
       "    <tr>\n",
       "      <th>4</th>\n",
       "      <td>11410000</td>\n",
       "      <td>7420</td>\n",
       "      <td>4</td>\n",
       "      <td>1</td>\n",
       "      <td>2</td>\n",
       "      <td>yes</td>\n",
       "      <td>yes</td>\n",
       "      <td>yes</td>\n",
       "      <td>no</td>\n",
       "      <td>yes</td>\n",
       "      <td>2</td>\n",
       "      <td>no</td>\n",
       "      <td>furnished</td>\n",
       "    </tr>\n",
       "  </tbody>\n",
       "</table>\n",
       "</div>"
      ],
      "text/plain": [
       "      price  area  bedrooms  bathrooms  stories mainroad guestroom basement  \\\n",
       "0  13300000  7420         4          2        3      yes        no       no   \n",
       "1  12250000  8960         4          4        4      yes        no       no   \n",
       "2  12250000  9960         3          2        2      yes        no      yes   \n",
       "3  12215000  7500         4          2        2      yes        no      yes   \n",
       "4  11410000  7420         4          1        2      yes       yes      yes   \n",
       "\n",
       "  hotwaterheating airconditioning  parking prefarea furnishingstatus  \n",
       "0              no             yes        2      yes        furnished  \n",
       "1              no             yes        3       no        furnished  \n",
       "2              no              no        2      yes   semi-furnished  \n",
       "3              no             yes        3      yes        furnished  \n",
       "4              no             yes        2       no        furnished  "
      ]
     },
     "execution_count": 1,
     "metadata": {},
     "output_type": "execute_result"
    }
   ],
   "source": [
    "#Importing pandas \n",
    "\n",
    "#Importing pandas\n",
    "\n",
    "# read Housing dataset\n",
    "housing = \n",
    "\n",
    "#print head\n"
   ]
  },
  {
   "cell_type": "code",
   "execution_count": 2,
   "metadata": {},
   "outputs": [
    {
     "name": "stdout",
     "output_type": "stream",
     "text": [
      "<class 'pandas.core.frame.DataFrame'>\n",
      "RangeIndex: 545 entries, 0 to 544\n",
      "Data columns (total 13 columns):\n",
      " #   Column            Non-Null Count  Dtype \n",
      "---  ------            --------------  ----- \n",
      " 0   price             545 non-null    int64 \n",
      " 1   area              545 non-null    int64 \n",
      " 2   bedrooms          545 non-null    int64 \n",
      " 3   bathrooms         545 non-null    int64 \n",
      " 4   stories           545 non-null    int64 \n",
      " 5   mainroad          545 non-null    object\n",
      " 6   guestroom         545 non-null    object\n",
      " 7   basement          545 non-null    object\n",
      " 8   hotwaterheating   545 non-null    object\n",
      " 9   airconditioning   545 non-null    object\n",
      " 10  parking           545 non-null    int64 \n",
      " 11  prefarea          545 non-null    object\n",
      " 12  furnishingstatus  545 non-null    object\n",
      "dtypes: int64(6), object(7)\n",
      "memory usage: 55.5+ KB\n"
     ]
    }
   ],
   "source": [
    "# print housing datatype information\n",
    "housing.info()"
   ]
  },
  {
   "cell_type": "code",
   "execution_count": 3,
   "metadata": {},
   "outputs": [],
   "source": [
    "# Converting columns with Yes and No values (Yes to 1 and No to 0)\n",
    "housing['mainroad'] = \n",
    "housing['guestroom'] = \n",
    "housing['basement'] = \n",
    "housing['hotwaterheating'] = \n",
    "housing['airconditioning'] = \n",
    "housing['prefarea'] = "
   ]
  },
  {
   "cell_type": "code",
   "execution_count": 4,
   "metadata": {},
   "outputs": [],
   "source": [
    "#Converting furnishingstatus column to binary column using get_dummies\n",
    "status = \n",
    "\n",
    "#concat housing and status \n",
    "housing = \n",
    "\n",
    "#drop furnishingstatus columns from housing\n"
   ]
  },
  {
   "cell_type": "code",
   "execution_count": 5,
   "metadata": {},
   "outputs": [
    {
     "data": {
      "text/html": [
       "<div>\n",
       "<style scoped>\n",
       "    .dataframe tbody tr th:only-of-type {\n",
       "        vertical-align: middle;\n",
       "    }\n",
       "\n",
       "    .dataframe tbody tr th {\n",
       "        vertical-align: top;\n",
       "    }\n",
       "\n",
       "    .dataframe thead th {\n",
       "        text-align: right;\n",
       "    }\n",
       "</style>\n",
       "<table border=\"1\" class=\"dataframe\">\n",
       "  <thead>\n",
       "    <tr style=\"text-align: right;\">\n",
       "      <th></th>\n",
       "      <th>price</th>\n",
       "      <th>area</th>\n",
       "      <th>bedrooms</th>\n",
       "      <th>bathrooms</th>\n",
       "      <th>stories</th>\n",
       "      <th>mainroad</th>\n",
       "      <th>guestroom</th>\n",
       "      <th>basement</th>\n",
       "      <th>hotwaterheating</th>\n",
       "      <th>airconditioning</th>\n",
       "      <th>parking</th>\n",
       "      <th>prefarea</th>\n",
       "      <th>semi-furnished</th>\n",
       "      <th>unfurnished</th>\n",
       "    </tr>\n",
       "  </thead>\n",
       "  <tbody>\n",
       "    <tr>\n",
       "      <th>0</th>\n",
       "      <td>13300000</td>\n",
       "      <td>7420</td>\n",
       "      <td>4</td>\n",
       "      <td>2</td>\n",
       "      <td>3</td>\n",
       "      <td>1</td>\n",
       "      <td>0</td>\n",
       "      <td>0</td>\n",
       "      <td>0</td>\n",
       "      <td>1</td>\n",
       "      <td>2</td>\n",
       "      <td>1</td>\n",
       "      <td>0</td>\n",
       "      <td>0</td>\n",
       "    </tr>\n",
       "    <tr>\n",
       "      <th>1</th>\n",
       "      <td>12250000</td>\n",
       "      <td>8960</td>\n",
       "      <td>4</td>\n",
       "      <td>4</td>\n",
       "      <td>4</td>\n",
       "      <td>1</td>\n",
       "      <td>0</td>\n",
       "      <td>0</td>\n",
       "      <td>0</td>\n",
       "      <td>1</td>\n",
       "      <td>3</td>\n",
       "      <td>0</td>\n",
       "      <td>0</td>\n",
       "      <td>0</td>\n",
       "    </tr>\n",
       "    <tr>\n",
       "      <th>2</th>\n",
       "      <td>12250000</td>\n",
       "      <td>9960</td>\n",
       "      <td>3</td>\n",
       "      <td>2</td>\n",
       "      <td>2</td>\n",
       "      <td>1</td>\n",
       "      <td>0</td>\n",
       "      <td>1</td>\n",
       "      <td>0</td>\n",
       "      <td>0</td>\n",
       "      <td>2</td>\n",
       "      <td>1</td>\n",
       "      <td>1</td>\n",
       "      <td>0</td>\n",
       "    </tr>\n",
       "    <tr>\n",
       "      <th>3</th>\n",
       "      <td>12215000</td>\n",
       "      <td>7500</td>\n",
       "      <td>4</td>\n",
       "      <td>2</td>\n",
       "      <td>2</td>\n",
       "      <td>1</td>\n",
       "      <td>0</td>\n",
       "      <td>1</td>\n",
       "      <td>0</td>\n",
       "      <td>1</td>\n",
       "      <td>3</td>\n",
       "      <td>1</td>\n",
       "      <td>0</td>\n",
       "      <td>0</td>\n",
       "    </tr>\n",
       "    <tr>\n",
       "      <th>4</th>\n",
       "      <td>11410000</td>\n",
       "      <td>7420</td>\n",
       "      <td>4</td>\n",
       "      <td>1</td>\n",
       "      <td>2</td>\n",
       "      <td>1</td>\n",
       "      <td>1</td>\n",
       "      <td>1</td>\n",
       "      <td>0</td>\n",
       "      <td>1</td>\n",
       "      <td>2</td>\n",
       "      <td>0</td>\n",
       "      <td>0</td>\n",
       "      <td>0</td>\n",
       "    </tr>\n",
       "  </tbody>\n",
       "</table>\n",
       "</div>"
      ],
      "text/plain": [
       "      price  area  bedrooms  bathrooms  stories  mainroad  guestroom  \\\n",
       "0  13300000  7420         4          2        3         1          0   \n",
       "1  12250000  8960         4          4        4         1          0   \n",
       "2  12250000  9960         3          2        2         1          0   \n",
       "3  12215000  7500         4          2        2         1          0   \n",
       "4  11410000  7420         4          1        2         1          1   \n",
       "\n",
       "   basement  hotwaterheating  airconditioning  parking  prefarea  \\\n",
       "0         0                0                1        2         1   \n",
       "1         0                0                1        3         0   \n",
       "2         1                0                0        2         1   \n",
       "3         1                0                1        3         1   \n",
       "4         1                0                1        2         0   \n",
       "\n",
       "   semi-furnished  unfurnished  \n",
       "0               0            0  \n",
       "1               0            0  \n",
       "2               1            0  \n",
       "3               0            0  \n",
       "4               0            0  "
      ]
     },
     "execution_count": 5,
     "metadata": {},
     "output_type": "execute_result"
    }
   ],
   "source": [
    "# print head\n"
   ]
  },
  {
   "attachments": {
    "image.png": {
     "image/png": "[encoded data removed]"
    }
   },
   "cell_type": "markdown",
   "metadata": {},
   "source": [
    "#### Scaling (Normalization)\n",
    "\n",
    "![image.png](attachment:image.png)\n",
    "\n",
    "where:\n",
    "\n",
    "- μ is the mean of the population.\n",
    "- σ is the standard deviation of the population."
   ]
  },
  {
   "cell_type": "code",
   "execution_count": 6,
   "metadata": {},
   "outputs": [
    {
     "data": {
      "text/html": [
       "<div>\n",
       "<style scoped>\n",
       "    .dataframe tbody tr th:only-of-type {\n",
       "        vertical-align: middle;\n",
       "    }\n",
       "\n",
       "    .dataframe tbody tr th {\n",
       "        vertical-align: top;\n",
       "    }\n",
       "\n",
       "    .dataframe thead th {\n",
       "        text-align: right;\n",
       "    }\n",
       "</style>\n",
       "<table border=\"1\" class=\"dataframe\">\n",
       "  <thead>\n",
       "    <tr style=\"text-align: right;\">\n",
       "      <th></th>\n",
       "      <th>price</th>\n",
       "      <th>area</th>\n",
       "      <th>bedrooms</th>\n",
       "      <th>bathrooms</th>\n",
       "      <th>stories</th>\n",
       "      <th>mainroad</th>\n",
       "      <th>guestroom</th>\n",
       "      <th>basement</th>\n",
       "      <th>hotwaterheating</th>\n",
       "      <th>airconditioning</th>\n",
       "      <th>parking</th>\n",
       "      <th>prefarea</th>\n",
       "      <th>semi-furnished</th>\n",
       "      <th>unfurnished</th>\n",
       "    </tr>\n",
       "  </thead>\n",
       "  <tbody>\n",
       "    <tr>\n",
       "      <th>0</th>\n",
       "      <td>4.562174</td>\n",
       "      <td>1.045766</td>\n",
       "      <td>1.402131</td>\n",
       "      <td>1.420507</td>\n",
       "      <td>1.376952</td>\n",
       "      <td>0.405251</td>\n",
       "      <td>-0.464888</td>\n",
       "      <td>-0.733865</td>\n",
       "      <td>-0.219063</td>\n",
       "      <td>1.471267</td>\n",
       "      <td>1.516299</td>\n",
       "      <td>1.803284</td>\n",
       "      <td>-0.844113</td>\n",
       "      <td>-0.69579</td>\n",
       "    </tr>\n",
       "    <tr>\n",
       "      <th>1</th>\n",
       "      <td>4.000809</td>\n",
       "      <td>1.755397</td>\n",
       "      <td>1.402131</td>\n",
       "      <td>5.400847</td>\n",
       "      <td>2.529700</td>\n",
       "      <td>0.405251</td>\n",
       "      <td>-0.464888</td>\n",
       "      <td>-0.733865</td>\n",
       "      <td>-0.219063</td>\n",
       "      <td>1.471267</td>\n",
       "      <td>2.676950</td>\n",
       "      <td>-0.553526</td>\n",
       "      <td>-0.844113</td>\n",
       "      <td>-0.69579</td>\n",
       "    </tr>\n",
       "    <tr>\n",
       "      <th>2</th>\n",
       "      <td>4.000809</td>\n",
       "      <td>2.216196</td>\n",
       "      <td>0.047235</td>\n",
       "      <td>1.420507</td>\n",
       "      <td>0.224204</td>\n",
       "      <td>0.405251</td>\n",
       "      <td>-0.464888</td>\n",
       "      <td>1.360148</td>\n",
       "      <td>-0.219063</td>\n",
       "      <td>-0.678439</td>\n",
       "      <td>1.516299</td>\n",
       "      <td>1.803284</td>\n",
       "      <td>1.182502</td>\n",
       "      <td>-0.69579</td>\n",
       "    </tr>\n",
       "    <tr>\n",
       "      <th>3</th>\n",
       "      <td>3.982096</td>\n",
       "      <td>1.082630</td>\n",
       "      <td>1.402131</td>\n",
       "      <td>1.420507</td>\n",
       "      <td>0.224204</td>\n",
       "      <td>0.405251</td>\n",
       "      <td>-0.464888</td>\n",
       "      <td>1.360148</td>\n",
       "      <td>-0.219063</td>\n",
       "      <td>1.471267</td>\n",
       "      <td>2.676950</td>\n",
       "      <td>1.803284</td>\n",
       "      <td>-0.844113</td>\n",
       "      <td>-0.69579</td>\n",
       "    </tr>\n",
       "    <tr>\n",
       "      <th>4</th>\n",
       "      <td>3.551716</td>\n",
       "      <td>1.045766</td>\n",
       "      <td>1.402131</td>\n",
       "      <td>-0.569663</td>\n",
       "      <td>0.224204</td>\n",
       "      <td>0.405251</td>\n",
       "      <td>2.147110</td>\n",
       "      <td>1.360148</td>\n",
       "      <td>-0.219063</td>\n",
       "      <td>1.471267</td>\n",
       "      <td>1.516299</td>\n",
       "      <td>-0.553526</td>\n",
       "      <td>-0.844113</td>\n",
       "      <td>-0.69579</td>\n",
       "    </tr>\n",
       "  </tbody>\n",
       "</table>\n",
       "</div>"
      ],
      "text/plain": [
       "      price      area  bedrooms  bathrooms   stories  mainroad  guestroom  \\\n",
       "0  4.562174  1.045766  1.402131   1.420507  1.376952  0.405251  -0.464888   \n",
       "1  4.000809  1.755397  1.402131   5.400847  2.529700  0.405251  -0.464888   \n",
       "2  4.000809  2.216196  0.047235   1.420507  0.224204  0.405251  -0.464888   \n",
       "3  3.982096  1.082630  1.402131   1.420507  0.224204  0.405251  -0.464888   \n",
       "4  3.551716  1.045766  1.402131  -0.569663  0.224204  0.405251   2.147110   \n",
       "\n",
       "   basement  hotwaterheating  airconditioning   parking  prefarea  \\\n",
       "0 -0.733865        -0.219063         1.471267  1.516299  1.803284   \n",
       "1 -0.733865        -0.219063         1.471267  2.676950 -0.553526   \n",
       "2  1.360148        -0.219063        -0.678439  1.516299  1.803284   \n",
       "3  1.360148        -0.219063         1.471267  2.676950  1.803284   \n",
       "4  1.360148        -0.219063         1.471267  1.516299 -0.553526   \n",
       "\n",
       "   semi-furnished  unfurnished  \n",
       "0       -0.844113     -0.69579  \n",
       "1       -0.844113     -0.69579  \n",
       "2        1.182502     -0.69579  \n",
       "3       -0.844113     -0.69579  \n",
       "4       -0.844113     -0.69579  "
      ]
     },
     "execution_count": 6,
     "metadata": {},
     "output_type": "execute_result"
    }
   ],
   "source": [
    "# Normalising Housing dataset using above formula\n",
    "housing = \n",
    "\n",
    "#print head \n"
   ]
  },
  {
   "cell_type": "markdown",
   "metadata": {},
   "source": [
    "## 1. Gradient Descent in Simple Linear Regression\n",
    "\n",
    "Reference video: https://www.youtube.com/watch?v=4PHI11lX11I\n",
    "\n",
    "Let us first make Simple linear regression. Fot this we will just take area as our feature and price as our predictor"
   ]
  },
  {
   "cell_type": "code",
   "execution_count": 7,
   "metadata": {},
   "outputs": [],
   "source": [
    "# Assign feature variable X\n",
    "X =\n",
    "\n",
    "# Assign response variable to y\n",
    "y ="
   ]
  },
  {
   "cell_type": "code",
   "execution_count": 8,
   "metadata": {},
   "outputs": [],
   "source": [
    "# import seaborn\n",
    "\n",
    "\n",
    "# Magic matplotlib inline for visualise in the notebook\n"
   ]
  },
  {
   "cell_type": "code",
   "execution_count": 9,
   "metadata": {},
   "outputs": [
    {
     "data": {
      "image/png": "[encoded data removed]",
      "text/plain": [
       "<Figure size 360x360 with 6 Axes>"
      ]
     },
     "metadata": {
      "needs_background": "light"
     },
     "output_type": "display_data"
    }
   ],
   "source": [
    "# Visualise the relationship between the features and the response using pairplots\n",
    "\n"
   ]
  },
  {
   "attachments": {
    "image.png": {
     "image/png": "[encoded data removed]"
    }
   },
   "cell_type": "markdown",
   "metadata": {},
   "source": [
    "### Steps to implement gradient Descent\n",
    "\n",
    "1. **We all know to define a linear relationship between these two variables as follows:**\n",
    "\n",
    "![image.png](attachment:image.png)\n",
    "\n",
    "This is the equation for a line that you studied in high school. m is the slope of the line and c is the y intercept. Today we will use this equation to train our model with a given dataset and predict the value of Y for any given value of X. Our challenge today is to determine the value of m and c, such that the line corresponding to those values is the best fitting line or gives the minimum error.\n",
    "\n",
    "\n",
    "2. **For linear regression we use a cost function known as the mean squared error or MSE.**"
   ]
  },
  {
   "cell_type": "markdown",
   "metadata": {},
   "source": [
    "<img src=\"gd1.png\"/>\n",
    "\n",
    "The loss/cost is the error in our predicted value of m and c. Our goal is to minimize this error to obtain the most accurate value of m and c.\n",
    "So we square the error and find the mean. hence the name Mean Squared Error. Now that we have defined the loss function, lets get into the interesting part — minimizing it and finding m and c.\n",
    "\n",
    "3. **Gradient Descent**\n",
    "\n",
    "Now that we have defined the loss function, lets get into the interesting part — minimizing it and finding m and c.\n",
    "\n",
    "Gradient descent is an iterative optimization algorithm to find the minimum of a function. Here that function is our Loss Function.\n",
    "\n",
    "    3.1 Initially let m = 0 and c = 0. Let L be our learning rate. This controls how much the value of m changes with each step. L could be a small value like 0.0001 for good accuracy.\n",
    "\n"
   ]
  },
  {
   "cell_type": "markdown",
   "metadata": {},
   "source": [
    "    3.2. Now we will apply partial derivative with respect to m and c and will equate it to zero to find the least value of m and c for which our cost function get the lowest value as possible.**"
   ]
  },
  {
   "attachments": {
    "image.png": {
     "image/png": "[encoded data removed]"
    }
   },
   "cell_type": "markdown",
   "metadata": {},
   "source": [
    "<img src=\"gd2.png\"/>\n",
    "\n",
    "    3.3  Now we update the current value of m and c using the following equation:\n",
    "\n",
    "![image.png](attachment:image.png)\n",
    "\n",
    "    3.4 We repeat this process until our loss function is a very small value or ideally 0 (which means 0 error or 100% accuracy). The value of m and c that we are left with now will be the optimum values."
   ]
  },
  {
   "cell_type": "markdown",
   "metadata": {},
   "source": [
    "Now to apply gradient descent from scratch in python we need our X and y variables as numpy arrays, Let's convert them."
   ]
  },
  {
   "cell_type": "code",
   "execution_count": 10,
   "metadata": {},
   "outputs": [],
   "source": [
    "# Convert X and y into numpy arrays\n",
    "X = \n",
    "y ="
   ]
  },
  {
   "cell_type": "code",
   "execution_count": 11,
   "metadata": {},
   "outputs": [],
   "source": [
    "# Initialising m=0\n",
    "m = \n",
    "\n",
    "#Initialising c=0\n",
    "c = \n",
    "\n",
    "# The learning Rate (here using 0.01)\n",
    "L = \n",
    "\n",
    "# The number of iterations to perform gradient descent (1000)\n",
    "epochs = \n",
    "\n",
    "# Number of elements in y ( y should be of float type)\n",
    "n = \n",
    "\n",
    "# Create an empty dataframe gd_df with columns 'm_current', 'c_current' and 'cost'\n",
    "gd_df = "
   ]
  },
  {
   "cell_type": "markdown",
   "metadata": {},
   "source": [
    "Performing Gradient Descent "
   ]
  },
  {
   "cell_type": "code",
   "execution_count": 12,
   "metadata": {},
   "outputs": [],
   "source": [
    "# iterate over range of epochs\n",
    "for i in range(epochs): \n",
    "    # The current predicted value of Y\n",
    "    Y_pred =\n",
    "    #Calculate cost according to formula \n",
    "    cost = \n",
    "    # Derivative w.r.t m\n",
    "    D_m = \n",
    "     # Derivative w.r.t c\n",
    "    D_c = \n",
    "    # Update m\n",
    "    m =  \n",
    "    # Update c\n",
    "    c = \n",
    "    #get m,c and cost value at each epochs in gd_df\n",
    "    gd_df.loc[i] =  \n",
    "    "
   ]
  },
  {
   "cell_type": "code",
   "execution_count": 13,
   "metadata": {},
   "outputs": [
    {
     "data": {
      "text/html": [
       "<div>\n",
       "<style scoped>\n",
       "    .dataframe tbody tr th:only-of-type {\n",
       "        vertical-align: middle;\n",
       "    }\n",
       "\n",
       "    .dataframe tbody tr th {\n",
       "        vertical-align: top;\n",
       "    }\n",
       "\n",
       "    .dataframe thead th {\n",
       "        text-align: right;\n",
       "    }\n",
       "</style>\n",
       "<table border=\"1\" class=\"dataframe\">\n",
       "  <thead>\n",
       "    <tr style=\"text-align: right;\">\n",
       "      <th></th>\n",
       "      <th>m_current</th>\n",
       "      <th>c_current</th>\n",
       "      <th>cost</th>\n",
       "    </tr>\n",
       "  </thead>\n",
       "  <tbody>\n",
       "    <tr>\n",
       "      <th>0</th>\n",
       "      <td>0.010700</td>\n",
       "      <td>3.731979e-18</td>\n",
       "      <td>0.998165</td>\n",
       "    </tr>\n",
       "    <tr>\n",
       "      <th>1</th>\n",
       "      <td>0.021187</td>\n",
       "      <td>1.981697e-17</td>\n",
       "      <td>0.986830</td>\n",
       "    </tr>\n",
       "    <tr>\n",
       "      <th>2</th>\n",
       "      <td>0.031464</td>\n",
       "      <td>2.998621e-17</td>\n",
       "      <td>0.975943</td>\n",
       "    </tr>\n",
       "    <tr>\n",
       "      <th>3</th>\n",
       "      <td>0.041536</td>\n",
       "      <td>2.656387e-17</td>\n",
       "      <td>0.965486</td>\n",
       "    </tr>\n",
       "    <tr>\n",
       "      <th>4</th>\n",
       "      <td>0.051407</td>\n",
       "      <td>2.433120e-17</td>\n",
       "      <td>0.955442</td>\n",
       "    </tr>\n",
       "    <tr>\n",
       "      <th>...</th>\n",
       "      <td>...</td>\n",
       "      <td>...</td>\n",
       "      <td>...</td>\n",
       "    </tr>\n",
       "    <tr>\n",
       "      <th>995</th>\n",
       "      <td>0.535997</td>\n",
       "      <td>2.741375e-16</td>\n",
       "      <td>0.711399</td>\n",
       "    </tr>\n",
       "    <tr>\n",
       "      <th>996</th>\n",
       "      <td>0.535997</td>\n",
       "      <td>2.679610e-16</td>\n",
       "      <td>0.711399</td>\n",
       "    </tr>\n",
       "    <tr>\n",
       "      <th>997</th>\n",
       "      <td>0.535997</td>\n",
       "      <td>2.660787e-16</td>\n",
       "      <td>0.711399</td>\n",
       "    </tr>\n",
       "    <tr>\n",
       "      <th>998</th>\n",
       "      <td>0.535997</td>\n",
       "      <td>2.639846e-16</td>\n",
       "      <td>0.711399</td>\n",
       "    </tr>\n",
       "    <tr>\n",
       "      <th>999</th>\n",
       "      <td>0.535997</td>\n",
       "      <td>2.666165e-16</td>\n",
       "      <td>0.711399</td>\n",
       "    </tr>\n",
       "  </tbody>\n",
       "</table>\n",
       "<p>1000 rows × 3 columns</p>\n",
       "</div>"
      ],
      "text/plain": [
       "     m_current     c_current      cost\n",
       "0     0.010700  3.731979e-18  0.998165\n",
       "1     0.021187  1.981697e-17  0.986830\n",
       "2     0.031464  2.998621e-17  0.975943\n",
       "3     0.041536  2.656387e-17  0.965486\n",
       "4     0.051407  2.433120e-17  0.955442\n",
       "..         ...           ...       ...\n",
       "995   0.535997  2.741375e-16  0.711399\n",
       "996   0.535997  2.679610e-16  0.711399\n",
       "997   0.535997  2.660787e-16  0.711399\n",
       "998   0.535997  2.639846e-16  0.711399\n",
       "999   0.535997  2.666165e-16  0.711399\n",
       "\n",
       "[1000 rows x 3 columns]"
      ]
     },
     "execution_count": 13,
     "metadata": {},
     "output_type": "execute_result"
    }
   ],
   "source": [
    "# print gd_df\n"
   ]
  },
  {
   "cell_type": "code",
   "execution_count": 14,
   "metadata": {},
   "outputs": [
    {
     "data": {
      "image/png": "[encoded data removed]",
      "text/plain": [
       "<Figure size 432x288 with 1 Axes>"
      ]
     },
     "metadata": {
      "needs_background": "light"
     },
     "output_type": "display_data"
    }
   ],
   "source": [
    "# Making predictions\n",
    "Y_pred = \n",
    "\n",
    "# Plotting parity plot as shown\n",
    "\n"
   ]
  },
  {
   "cell_type": "code",
   "execution_count": 15,
   "metadata": {},
   "outputs": [
    {
     "data": {
      "image/png": "[encoded data removed]",
      "text/plain": [
       "<Figure size 432x288 with 1 Axes>"
      ]
     },
     "metadata": {
      "needs_background": "light"
     },
     "output_type": "display_data"
    }
   ],
   "source": [
    "# plotting cost against num_iterations\n",
    "\n",
    "\n"
   ]
  },
  {
   "cell_type": "markdown",
   "metadata": {},
   "source": [
    "Above is a plot of all of the values for the cost function over the 1000 iterations that you should see. I think that 100 iterations or 100 epochs is a nice round number and a good place to stop, because in graph you can see that error becomes constant after 100th iteration. You could keep going if you wanted.\n",
    "\n"
   ]
  },
  {
   "cell_type": "code",
   "execution_count": 16,
   "metadata": {},
   "outputs": [
    {
     "name": "stdout",
     "output_type": "stream",
     "text": [
      "0.5359973448415949 2.66616494427413e-16\n"
     ]
    }
   ],
   "source": [
    "# print final m and c value\n",
    "\n",
    "\n"
   ]
  },
  {
   "cell_type": "markdown",
   "metadata": {},
   "source": [
    "Hence optimum slope/weight would be 0.53 and intercept/bias would be 2.66. This value would reduce the error and gives the best fit line for simple linear regression problem."
   ]
  },
  {
   "attachments": {
    "image.png": {
     "image/png": "[encoded data removed]"
    }
   },
   "cell_type": "markdown",
   "metadata": {},
   "source": [
    "### Multiple Regression: Applying Gradient Descent for Multiple (>1) Features\n",
    "\n",
    "Now you know how to optimize simple linear regression. Lets try it for multiple linear regression.\n",
    "\n",
    "If we have multiple independent variables, the formula for linear regression will look like:\n",
    "\n",
    "![image.png](attachment:image.png)\n",
    "\n",
    "Here, ‘h’ is called the hypothesis. This is the predicted output variable. Theta0 is the bias term and all the other theta values are coefficients. They are initiated randomly in the beginning, then optimized with the algorithm so that this formula can predict the dependent variable closely.\n",
    "\n",
    "We will first try with only 2 input variable i.e area and bedrooms"
   ]
  },
  {
   "cell_type": "code",
   "execution_count": 17,
   "metadata": {},
   "outputs": [],
   "source": [
    "# Assigning feature variable X (with area and bedroom)\n",
    "X = \n",
    "\n",
    "# Assigning response variable y (price)\n",
    "y ="
   ]
  },
  {
   "cell_type": "markdown",
   "metadata": {},
   "source": [
    "1. Add a column of ones for the bias term. I chose 1 because if you multiply one with any value, that value does not change.\n",
    "\n",
    "The intercept column is needed for convenient matrix representation of cost function\n"
   ]
  },
  {
   "cell_type": "code",
   "execution_count": 18,
   "metadata": {},
   "outputs": [
    {
     "name": "stderr",
     "output_type": "stream",
     "text": [
      "<ipython-input-18-b60023459232>:2: SettingWithCopyWarning: \n",
      "A value is trying to be set on a copy of a slice from a DataFrame.\n",
      "Try using .loc[row_indexer,col_indexer] = value instead\n",
      "\n",
      "See the caveats in the documentation: https://pandas.pydata.org/pandas-docs/stable/user_guide/indexing.html#returning-a-view-versus-a-copy\n",
      "  X['intercept'] = 1\n"
     ]
    },
    {
     "data": {
      "text/html": [
       "<div>\n",
       "<style scoped>\n",
       "    .dataframe tbody tr th:only-of-type {\n",
       "        vertical-align: middle;\n",
       "    }\n",
       "\n",
       "    .dataframe tbody tr th {\n",
       "        vertical-align: top;\n",
       "    }\n",
       "\n",
       "    .dataframe thead th {\n",
       "        text-align: right;\n",
       "    }\n",
       "</style>\n",
       "<table border=\"1\" class=\"dataframe\">\n",
       "  <thead>\n",
       "    <tr style=\"text-align: right;\">\n",
       "      <th></th>\n",
       "      <th>intercept</th>\n",
       "      <th>area</th>\n",
       "      <th>bedrooms</th>\n",
       "    </tr>\n",
       "  </thead>\n",
       "  <tbody>\n",
       "    <tr>\n",
       "      <th>0</th>\n",
       "      <td>1</td>\n",
       "      <td>1.045766</td>\n",
       "      <td>1.402131</td>\n",
       "    </tr>\n",
       "    <tr>\n",
       "      <th>1</th>\n",
       "      <td>1</td>\n",
       "      <td>1.755397</td>\n",
       "      <td>1.402131</td>\n",
       "    </tr>\n",
       "    <tr>\n",
       "      <th>2</th>\n",
       "      <td>1</td>\n",
       "      <td>2.216196</td>\n",
       "      <td>0.047235</td>\n",
       "    </tr>\n",
       "    <tr>\n",
       "      <th>3</th>\n",
       "      <td>1</td>\n",
       "      <td>1.082630</td>\n",
       "      <td>1.402131</td>\n",
       "    </tr>\n",
       "    <tr>\n",
       "      <th>4</th>\n",
       "      <td>1</td>\n",
       "      <td>1.045766</td>\n",
       "      <td>1.402131</td>\n",
       "    </tr>\n",
       "  </tbody>\n",
       "</table>\n",
       "</div>"
      ],
      "text/plain": [
       "   intercept      area  bedrooms\n",
       "0          1  1.045766  1.402131\n",
       "1          1  1.755397  1.402131\n",
       "2          1  2.216196  0.047235\n",
       "3          1  1.082630  1.402131\n",
       "4          1  1.045766  1.402131"
      ]
     },
     "execution_count": 18,
     "metadata": {},
     "output_type": "execute_result"
    }
   ],
   "source": [
    "# Add a column of ones as intercept\n",
    "X['intercept'] = \n",
    "\n",
    "#reindex columns in sequence:- 'intercept','area' and 'bedrooms'\n",
    "X = \n",
    "\n",
    "#print head of X\n"
   ]
  },
  {
   "cell_type": "code",
   "execution_count": 19,
   "metadata": {},
   "outputs": [],
   "source": [
    "# Convert X and y to numpy arrays\n",
    "X = \n",
    "y = "
   ]
  },
  {
   "cell_type": "markdown",
   "metadata": {},
   "source": [
    "4. Initiate the theta values. I am initiating them as zeros. But any other number should be alright."
   ]
  },
  {
   "cell_type": "code",
   "execution_count": 20,
   "metadata": {},
   "outputs": [],
   "source": [
    "# initiate theta values with array of zeroes equal to number of columns present in X\n",
    "theta = "
   ]
  },
  {
   "attachments": {
    "image.png": {
     "image/png": "[encoded data removed]"
    }
   },
   "cell_type": "markdown",
   "metadata": {},
   "source": [
    "2. Cost function in  Multiple linear regression\n",
    "\n",
    "![image.png](attachment:image.png)"
   ]
  },
  {
   "cell_type": "code",
   "execution_count": 21,
   "metadata": {},
   "outputs": [],
   "source": [
    "# Initialise m as no.of samples in X\n",
    "m=\n"
   ]
  },
  {
   "cell_type": "markdown",
   "metadata": {},
   "source": [
    "Note: \n",
    "You can make use matmul function https://numpy.org/doc/stable/reference/generated/numpy.matmul.html for multiplying all theta values with X to implement above cost function formula"
   ]
  },
  {
   "attachments": {
    "image-2.png": {
     "image/png": "[encoded data removed]"
    },
    "image.png": {
     "image/png": "[encoded data removed]"
    }
   },
   "cell_type": "markdown",
   "metadata": {},
   "source": [
    "Now our next part is to update the theta values. We take the partial differential of the cost function with respect to each theta value and deduct that value from the existing theta value,\n",
    "\n",
    "![image.png](attachment:image.png)\n",
    "\n",
    "Here, alpha is the learning rate and it is a constant. I am not showing the same formula for all the theta values. But It is the same formula for all the theta values. After the differentiation, the formula comes out to be:\n",
    "\n",
    "![image-2.png](attachment:image-2.png)\n",
    "This is how we are updating bias and intercept accordingly in order to minimize cost function. This is called gradient descent."
   ]
  },
  {
   "cell_type": "code",
   "execution_count": 23,
   "metadata": {},
   "outputs": [],
   "source": [
    "# Create an empty dataframe with columns theta and cost\n",
    "gdm_df2 = "
   ]
  },
  {
   "cell_type": "markdown",
   "metadata": {},
   "source": [
    "Now since you are aware of all formulas and method to implement gradient descent. Lets apply it here.\n",
    "\n",
    "Reference video: https://www.youtube.com/watch?v=xrPZbHrxrWo"
   ]
  },
  {
   "cell_type": "code",
   "execution_count": 24,
   "metadata": {},
   "outputs": [
    {
     "data": {
      "text/html": [
       "<div>\n",
       "<style scoped>\n",
       "    .dataframe tbody tr th:only-of-type {\n",
       "        vertical-align: middle;\n",
       "    }\n",
       "\n",
       "    .dataframe tbody tr th {\n",
       "        vertical-align: top;\n",
       "    }\n",
       "\n",
       "    .dataframe thead th {\n",
       "        text-align: right;\n",
       "    }\n",
       "</style>\n",
       "<table border=\"1\" class=\"dataframe\">\n",
       "  <thead>\n",
       "    <tr style=\"text-align: right;\">\n",
       "      <th></th>\n",
       "      <th>theta</th>\n",
       "      <th>cost</th>\n",
       "    </tr>\n",
       "  </thead>\n",
       "  <tbody>\n",
       "    <tr>\n",
       "      <th>0</th>\n",
       "      <td>[-2.281559243266377e-19, 0.005350138644096796,...</td>\n",
       "      <td>0.494906</td>\n",
       "    </tr>\n",
       "    <tr>\n",
       "      <th>1</th>\n",
       "      <td>[2.7786132212636947e-18, 0.010641328951860776,...</td>\n",
       "      <td>0.490824</td>\n",
       "    </tr>\n",
       "    <tr>\n",
       "      <th>2</th>\n",
       "      <td>[4.774977559121774e-18, 0.015874226967184053, ...</td>\n",
       "      <td>0.486834</td>\n",
       "    </tr>\n",
       "    <tr>\n",
       "      <th>3</th>\n",
       "      <td>[4.155697193092329e-18, 0.02104948137493462, 0...</td>\n",
       "      <td>0.482935</td>\n",
       "    </tr>\n",
       "    <tr>\n",
       "      <th>4</th>\n",
       "      <td>[6.8283808780615134e-18, 0.026167733584010255,...</td>\n",
       "      <td>0.479124</td>\n",
       "    </tr>\n",
       "    <tr>\n",
       "      <th>...</th>\n",
       "      <td>...</td>\n",
       "      <td>...</td>\n",
       "    </tr>\n",
       "    <tr>\n",
       "      <th>995</th>\n",
       "      <td>[3.2977901754948346e-16, 0.4916558741575691, 0...</td>\n",
       "      <td>0.314176</td>\n",
       "    </tr>\n",
       "    <tr>\n",
       "      <th>996</th>\n",
       "      <td>[3.3026792310161197e-16, 0.49165609672441285, ...</td>\n",
       "      <td>0.314176</td>\n",
       "    </tr>\n",
       "    <tr>\n",
       "      <th>997</th>\n",
       "      <td>[3.291108466282412e-16, 0.49165631727115394, 0...</td>\n",
       "      <td>0.314176</td>\n",
       "    </tr>\n",
       "    <tr>\n",
       "      <th>998</th>\n",
       "      <td>[3.293878931077807e-16, 0.49165653581645663, 0...</td>\n",
       "      <td>0.314176</td>\n",
       "    </tr>\n",
       "    <tr>\n",
       "      <th>999</th>\n",
       "      <td>[3.308057192089534e-16, 0.4916567523788092, 0....</td>\n",
       "      <td>0.314176</td>\n",
       "    </tr>\n",
       "  </tbody>\n",
       "</table>\n",
       "<p>1000 rows × 2 columns</p>\n",
       "</div>"
      ],
      "text/plain": [
       "                                                 theta      cost\n",
       "0    [-2.281559243266377e-19, 0.005350138644096796,...  0.494906\n",
       "1    [2.7786132212636947e-18, 0.010641328951860776,...  0.490824\n",
       "2    [4.774977559121774e-18, 0.015874226967184053, ...  0.486834\n",
       "3    [4.155697193092329e-18, 0.02104948137493462, 0...  0.482935\n",
       "4    [6.8283808780615134e-18, 0.026167733584010255,...  0.479124\n",
       "..                                                 ...       ...\n",
       "995  [3.2977901754948346e-16, 0.4916558741575691, 0...  0.314176\n",
       "996  [3.3026792310161197e-16, 0.49165609672441285, ...  0.314176\n",
       "997  [3.291108466282412e-16, 0.49165631727115394, 0...  0.314176\n",
       "998  [3.293878931077807e-16, 0.49165653581645663, 0...  0.314176\n",
       "999  [3.308057192089534e-16, 0.4916567523788092, 0....  0.314176\n",
       "\n",
       "[1000 rows x 2 columns]"
      ]
     },
     "execution_count": 24,
     "metadata": {},
     "output_type": "execute_result"
    }
   ],
   "source": [
    "# Define alpha/ learning rate (here 0.01)\n",
    "alpha = \n",
    "\n",
    "#intialise iterations to 1000\n",
    "iterations = \n",
    "\n",
    "# iterate over number of iterations\n",
    "for i in range(iterations):\n",
    "    #calculate the derivative of each theta value/ coefficients \n",
    "    gradient = \n",
    "    #update the theta value according to the formula after differentiation\n",
    "    theta = \n",
    "    #calculate the hypothesis by multiplying X with theta values (Hint: Use numpy matmul())\n",
    "    h=\n",
    "    #calculate cost function\n",
    "    cost = \n",
    "    #append rows in gdm_df with updated theta and cost value\n",
    "    gdm_df2.loc[i] = \n",
    "\n",
    "# print gdm_df\n"
   ]
  },
  {
   "cell_type": "code",
   "execution_count": 25,
   "metadata": {},
   "outputs": [
    {
     "data": {
      "image/png": "[encoded data removed]",
      "text/plain": [
       "<Figure size 432x288 with 1 Axes>"
      ]
     },
     "metadata": {
      "needs_background": "light"
     },
     "output_type": "display_data"
    }
   ],
   "source": [
    "# plotting cost against num_iterations\n",
    "\n",
    "\n"
   ]
  },
  {
   "cell_type": "markdown",
   "metadata": {},
   "source": [
    "Above is a plot of all of the values for the cost function over the 1000 iterations that you should see. I think that 100 iterations or 100 epochs is a nice round number and a good place to stop in case of multiple regression problem aswell, because in graph you can see that error becomes constant after 100th iteration. You could keep going if you wanted.\n",
    "\n",
    "\n",
    "Now you have just tried out gradient descent on just 1 to 2 input variables. You can also try on multiple linear regression with more than 2 variables as well. So what are you waiting for? explore more and have happy learning with us."
   ]
  },
  {
   "cell_type": "markdown",
   "metadata": {},
   "source": [
    "------------------------------\n",
    "\n",
    "# Awesome! Congratulations you have optimized your Regression problem!\n",
    "-------------------------------------\n",
    "\n",
    "# Its Feedback Time!\n",
    "\n",
    "We hope you’ve enjoyed this course so far. We’re committed to help you use \"AI for All\" course to its full potential, so that you have a great learning experience. And that’s why we need your help in form of a feedback here.\n",
    "\n",
    "**Please fill this feedback form**\n",
    " https://zfrmz.in/MtRG5oWXBdesm6rmSM7N"
   ]
  }
 ],
 "metadata": {
  "kernelspec": {
   "display_name": "Python 3",
   "language": "python",
   "name": "python3"
  },
  "language_info": {
   "codemirror_mode": {
    "name": "ipython",
    "version": 3
   },
   "file_extension": ".py",
   "mimetype": "text/x-python",
   "name": "python",
   "nbconvert_exporter": "python",
   "pygments_lexer": "ipython3",
   "version": "3.8.5"
  }
 },
 "nbformat": 4,
 "nbformat_minor": 2
}
