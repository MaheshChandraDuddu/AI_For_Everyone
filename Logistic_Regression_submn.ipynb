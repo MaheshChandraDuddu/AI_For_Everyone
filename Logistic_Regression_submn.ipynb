{
  "nbformat": 4,
  "nbformat_minor": 0,
  "metadata": {
    "kernelspec": {
      "display_name": "Python 3",
      "language": "python",
      "name": "python3"
    },
    "language_info": {
      "codemirror_mode": {
        "name": "ipython",
        "version": 3
      },
      "file_extension": ".py",
      "mimetype": "text/x-python",
      "name": "python",
      "nbconvert_exporter": "python",
      "pygments_lexer": "ipython3",
      "version": "3.8.5"
    },
    "colab": {
      "name": "Logistic Regression.ipynb",
      "provenance": []
    }
  },
  "cells": [
    {
      "cell_type": "markdown",
      "metadata": {
        "collapsed": true,
        "id": "OyIIoDQ22BJA"
      },
      "source": [
        "# <center><u>LOGISTIC REGRESSION</u></center>\n",
        "\n",
        "Hi aspirant, You have already learned simple, multiple and some advance regression techniques. Now lets jump to another hands-on assignment on Logistic regression.\n",
        "\n",
        "Logistic regression is a statistical model that in its basic form uses a logistic function to model a binary dependent variable, although many more complex extensions exist. In regression analysis, logistic regression (or logit regression) is estimating the parameters of a logistic model (a form of binary regression).\n",
        "\n",
        "Do watch this video for its indepth conceptual clarity: https://www.youtube.com/watch?v=L_xBe7MbPwk\n",
        "\n",
        "Also watch this video to know math behind logistic regression: https://www.youtube.com/watch?v=uFfsSgQgerw\n",
        "\n",
        "## Problem statement:\n",
        "\n",
        "#### Telecom Churn Case Study\n",
        "\n",
        "With 21 predictor variables we need to predict whether a particular customer will switch to another telecom provider or not. In telecom terminology, this is referred to as churning and not churning, respectively.\n",
        "\n",
        "\n",
        "So smile please and lets get started with this amazing assignment."
      ]
    },
    {
      "cell_type": "markdown",
      "metadata": {
        "id": "ecVQeDMI2BJF"
      },
      "source": [
        "### Importing and Merging Data\n",
        "<p style='text-align: right;'> 4 points</p>\n"
      ]
    },
    {
      "cell_type": "code",
      "metadata": {
        "id": "tHEJlnPB2BJG"
      },
      "source": [
        "# Importing Pandas and NumPy\n",
        "import pandas as pd\n",
        "import numpy as np\n"
      ],
      "execution_count": 902,
      "outputs": []
    },
    {
      "cell_type": "code",
      "metadata": {
        "id": "GN7DrAqX2BJH"
      },
      "source": [
        "# Importing all datasets\n",
        "churn_data = pd.read_csv('/content/churn_data.csv')\n",
        "customer_data = pd.read_csv('/content/customer_data.csv')\n",
        "internet_data = pd.read_csv('/content/internet_data.csv')"
      ],
      "execution_count": 903,
      "outputs": []
    },
    {
      "cell_type": "code",
      "metadata": {
        "id": "3A4V9ZYG2BJH"
      },
      "source": [
        "#Merging churn_data and customer_data on 'customerID' using inner join on customerID\n",
        "df_1 = pd.merge(churn_data, customer_data, how='inner', on = 'customerID')"
      ],
      "execution_count": 904,
      "outputs": []
    },
    {
      "cell_type": "code",
      "metadata": {
        "id": "CZABKMG42BJI"
      },
      "source": [
        "#Final dataframe with all predictor variables (merging df_1 and internet_data on 'customerID')\n",
        "telecom = pd.merge(df_1, internet_data, how = 'inner', on = 'customerID')"
      ],
      "execution_count": 905,
      "outputs": []
    },
    {
      "cell_type": "markdown",
      "metadata": {
        "id": "l6HPNtPs2BJI"
      },
      "source": [
        "### Let's understand the structure of our dataframe\n",
        "<p style='text-align: right;'> 3 points</p>\n"
      ]
    },
    {
      "cell_type": "code",
      "metadata": {
        "colab": {
          "base_uri": "https://localhost:8080/",
          "height": 0
        },
        "id": "tLryzJzw2BJJ",
        "outputId": "6187ded6-ad37-46b0-a6b2-27cfc3434b6c"
      },
      "source": [
        "# Let's see the head of our master dataset\n",
        "telecom.head()"
      ],
      "execution_count": 906,
      "outputs": [
        {
          "output_type": "execute_result",
          "data": {
            "text/html": [
              "<div>\n",
              "<style scoped>\n",
              "    .dataframe tbody tr th:only-of-type {\n",
              "        vertical-align: middle;\n",
              "    }\n",
              "\n",
              "    .dataframe tbody tr th {\n",
              "        vertical-align: top;\n",
              "    }\n",
              "\n",
              "    .dataframe thead th {\n",
              "        text-align: right;\n",
              "    }\n",
              "</style>\n",
              "<table border=\"1\" class=\"dataframe\">\n",
              "  <thead>\n",
              "    <tr style=\"text-align: right;\">\n",
              "      <th></th>\n",
              "      <th>customerID</th>\n",
              "      <th>tenure</th>\n",
              "      <th>PhoneService</th>\n",
              "      <th>Contract</th>\n",
              "      <th>PaperlessBilling</th>\n",
              "      <th>PaymentMethod</th>\n",
              "      <th>MonthlyCharges</th>\n",
              "      <th>TotalCharges</th>\n",
              "      <th>Churn</th>\n",
              "      <th>gender</th>\n",
              "      <th>SeniorCitizen</th>\n",
              "      <th>Partner</th>\n",
              "      <th>Dependents</th>\n",
              "      <th>MultipleLines</th>\n",
              "      <th>InternetService</th>\n",
              "      <th>OnlineSecurity</th>\n",
              "      <th>OnlineBackup</th>\n",
              "      <th>DeviceProtection</th>\n",
              "      <th>TechSupport</th>\n",
              "      <th>StreamingTV</th>\n",
              "      <th>StreamingMovies</th>\n",
              "    </tr>\n",
              "  </thead>\n",
              "  <tbody>\n",
              "    <tr>\n",
              "      <th>0</th>\n",
              "      <td>7590-VHVEG</td>\n",
              "      <td>1</td>\n",
              "      <td>No</td>\n",
              "      <td>Month-to-month</td>\n",
              "      <td>Yes</td>\n",
              "      <td>Electronic check</td>\n",
              "      <td>29.85</td>\n",
              "      <td>29.85</td>\n",
              "      <td>No</td>\n",
              "      <td>Female</td>\n",
              "      <td>0</td>\n",
              "      <td>Yes</td>\n",
              "      <td>No</td>\n",
              "      <td>No phone service</td>\n",
              "      <td>DSL</td>\n",
              "      <td>No</td>\n",
              "      <td>Yes</td>\n",
              "      <td>No</td>\n",
              "      <td>No</td>\n",
              "      <td>No</td>\n",
              "      <td>No</td>\n",
              "    </tr>\n",
              "    <tr>\n",
              "      <th>1</th>\n",
              "      <td>5575-GNVDE</td>\n",
              "      <td>34</td>\n",
              "      <td>Yes</td>\n",
              "      <td>One year</td>\n",
              "      <td>No</td>\n",
              "      <td>Mailed check</td>\n",
              "      <td>56.95</td>\n",
              "      <td>1889.5</td>\n",
              "      <td>No</td>\n",
              "      <td>Male</td>\n",
              "      <td>0</td>\n",
              "      <td>No</td>\n",
              "      <td>No</td>\n",
              "      <td>No</td>\n",
              "      <td>DSL</td>\n",
              "      <td>Yes</td>\n",
              "      <td>No</td>\n",
              "      <td>Yes</td>\n",
              "      <td>No</td>\n",
              "      <td>No</td>\n",
              "      <td>No</td>\n",
              "    </tr>\n",
              "    <tr>\n",
              "      <th>2</th>\n",
              "      <td>3668-QPYBK</td>\n",
              "      <td>2</td>\n",
              "      <td>Yes</td>\n",
              "      <td>Month-to-month</td>\n",
              "      <td>Yes</td>\n",
              "      <td>Mailed check</td>\n",
              "      <td>53.85</td>\n",
              "      <td>108.15</td>\n",
              "      <td>Yes</td>\n",
              "      <td>Male</td>\n",
              "      <td>0</td>\n",
              "      <td>No</td>\n",
              "      <td>No</td>\n",
              "      <td>No</td>\n",
              "      <td>DSL</td>\n",
              "      <td>Yes</td>\n",
              "      <td>Yes</td>\n",
              "      <td>No</td>\n",
              "      <td>No</td>\n",
              "      <td>No</td>\n",
              "      <td>No</td>\n",
              "    </tr>\n",
              "    <tr>\n",
              "      <th>3</th>\n",
              "      <td>7795-CFOCW</td>\n",
              "      <td>45</td>\n",
              "      <td>No</td>\n",
              "      <td>One year</td>\n",
              "      <td>No</td>\n",
              "      <td>Bank transfer (automatic)</td>\n",
              "      <td>42.30</td>\n",
              "      <td>1840.75</td>\n",
              "      <td>No</td>\n",
              "      <td>Male</td>\n",
              "      <td>0</td>\n",
              "      <td>No</td>\n",
              "      <td>No</td>\n",
              "      <td>No phone service</td>\n",
              "      <td>DSL</td>\n",
              "      <td>Yes</td>\n",
              "      <td>No</td>\n",
              "      <td>Yes</td>\n",
              "      <td>Yes</td>\n",
              "      <td>No</td>\n",
              "      <td>No</td>\n",
              "    </tr>\n",
              "    <tr>\n",
              "      <th>4</th>\n",
              "      <td>9237-HQITU</td>\n",
              "      <td>2</td>\n",
              "      <td>Yes</td>\n",
              "      <td>Month-to-month</td>\n",
              "      <td>Yes</td>\n",
              "      <td>Electronic check</td>\n",
              "      <td>70.70</td>\n",
              "      <td>151.65</td>\n",
              "      <td>Yes</td>\n",
              "      <td>Female</td>\n",
              "      <td>0</td>\n",
              "      <td>No</td>\n",
              "      <td>No</td>\n",
              "      <td>No</td>\n",
              "      <td>Fiber optic</td>\n",
              "      <td>No</td>\n",
              "      <td>No</td>\n",
              "      <td>No</td>\n",
              "      <td>No</td>\n",
              "      <td>No</td>\n",
              "      <td>No</td>\n",
              "    </tr>\n",
              "  </tbody>\n",
              "</table>\n",
              "</div>"
            ],
            "text/plain": [
              "   customerID  tenure PhoneService  ... TechSupport StreamingTV StreamingMovies\n",
              "0  7590-VHVEG       1           No  ...          No          No              No\n",
              "1  5575-GNVDE      34          Yes  ...          No          No              No\n",
              "2  3668-QPYBK       2          Yes  ...          No          No              No\n",
              "3  7795-CFOCW      45           No  ...         Yes          No              No\n",
              "4  9237-HQITU       2          Yes  ...          No          No              No\n",
              "\n",
              "[5 rows x 21 columns]"
            ]
          },
          "metadata": {},
          "execution_count": 906
        }
      ]
    },
    {
      "cell_type": "code",
      "metadata": {
        "colab": {
          "base_uri": "https://localhost:8080/",
          "height": 0
        },
        "id": "yhcFnjbE2BJL",
        "outputId": "ff22807b-9ca0-483f-e25d-9c01b31e1b02"
      },
      "source": [
        "#Lets see statistical description for our master data\n",
        "telecom.describe()"
      ],
      "execution_count": 907,
      "outputs": [
        {
          "output_type": "execute_result",
          "data": {
            "text/html": [
              "<div>\n",
              "<style scoped>\n",
              "    .dataframe tbody tr th:only-of-type {\n",
              "        vertical-align: middle;\n",
              "    }\n",
              "\n",
              "    .dataframe tbody tr th {\n",
              "        vertical-align: top;\n",
              "    }\n",
              "\n",
              "    .dataframe thead th {\n",
              "        text-align: right;\n",
              "    }\n",
              "</style>\n",
              "<table border=\"1\" class=\"dataframe\">\n",
              "  <thead>\n",
              "    <tr style=\"text-align: right;\">\n",
              "      <th></th>\n",
              "      <th>tenure</th>\n",
              "      <th>MonthlyCharges</th>\n",
              "      <th>SeniorCitizen</th>\n",
              "    </tr>\n",
              "  </thead>\n",
              "  <tbody>\n",
              "    <tr>\n",
              "      <th>count</th>\n",
              "      <td>7043.000000</td>\n",
              "      <td>7043.000000</td>\n",
              "      <td>7043.000000</td>\n",
              "    </tr>\n",
              "    <tr>\n",
              "      <th>mean</th>\n",
              "      <td>32.371149</td>\n",
              "      <td>64.761692</td>\n",
              "      <td>0.162147</td>\n",
              "    </tr>\n",
              "    <tr>\n",
              "      <th>std</th>\n",
              "      <td>24.559481</td>\n",
              "      <td>30.090047</td>\n",
              "      <td>0.368612</td>\n",
              "    </tr>\n",
              "    <tr>\n",
              "      <th>min</th>\n",
              "      <td>0.000000</td>\n",
              "      <td>18.250000</td>\n",
              "      <td>0.000000</td>\n",
              "    </tr>\n",
              "    <tr>\n",
              "      <th>25%</th>\n",
              "      <td>9.000000</td>\n",
              "      <td>35.500000</td>\n",
              "      <td>0.000000</td>\n",
              "    </tr>\n",
              "    <tr>\n",
              "      <th>50%</th>\n",
              "      <td>29.000000</td>\n",
              "      <td>70.350000</td>\n",
              "      <td>0.000000</td>\n",
              "    </tr>\n",
              "    <tr>\n",
              "      <th>75%</th>\n",
              "      <td>55.000000</td>\n",
              "      <td>89.850000</td>\n",
              "      <td>0.000000</td>\n",
              "    </tr>\n",
              "    <tr>\n",
              "      <th>max</th>\n",
              "      <td>72.000000</td>\n",
              "      <td>118.750000</td>\n",
              "      <td>1.000000</td>\n",
              "    </tr>\n",
              "  </tbody>\n",
              "</table>\n",
              "</div>"
            ],
            "text/plain": [
              "            tenure  MonthlyCharges  SeniorCitizen\n",
              "count  7043.000000     7043.000000    7043.000000\n",
              "mean     32.371149       64.761692       0.162147\n",
              "std      24.559481       30.090047       0.368612\n",
              "min       0.000000       18.250000       0.000000\n",
              "25%       9.000000       35.500000       0.000000\n",
              "50%      29.000000       70.350000       0.000000\n",
              "75%      55.000000       89.850000       0.000000\n",
              "max      72.000000      118.750000       1.000000"
            ]
          },
          "metadata": {},
          "execution_count": 907
        }
      ]
    },
    {
      "cell_type": "code",
      "metadata": {
        "colab": {
          "base_uri": "https://localhost:8080/"
        },
        "id": "ny6fg6cS2BJM",
        "outputId": "e58a5b89-0f0f-4d75-93c9-a62c810f5176"
      },
      "source": [
        "# Let's see the type of each column\n",
        "telecom.info()"
      ],
      "execution_count": 908,
      "outputs": [
        {
          "output_type": "stream",
          "text": [
            "<class 'pandas.core.frame.DataFrame'>\n",
            "Int64Index: 7043 entries, 0 to 7042\n",
            "Data columns (total 21 columns):\n",
            " #   Column            Non-Null Count  Dtype  \n",
            "---  ------            --------------  -----  \n",
            " 0   customerID        7043 non-null   object \n",
            " 1   tenure            7043 non-null   int64  \n",
            " 2   PhoneService      7043 non-null   object \n",
            " 3   Contract          7043 non-null   object \n",
            " 4   PaperlessBilling  7043 non-null   object \n",
            " 5   PaymentMethod     7043 non-null   object \n",
            " 6   MonthlyCharges    7043 non-null   float64\n",
            " 7   TotalCharges      7043 non-null   object \n",
            " 8   Churn             7043 non-null   object \n",
            " 9   gender            7043 non-null   object \n",
            " 10  SeniorCitizen     7043 non-null   int64  \n",
            " 11  Partner           7043 non-null   object \n",
            " 12  Dependents        7043 non-null   object \n",
            " 13  MultipleLines     7043 non-null   object \n",
            " 14  InternetService   7043 non-null   object \n",
            " 15  OnlineSecurity    7043 non-null   object \n",
            " 16  OnlineBackup      7043 non-null   object \n",
            " 17  DeviceProtection  7043 non-null   object \n",
            " 18  TechSupport       7043 non-null   object \n",
            " 19  StreamingTV       7043 non-null   object \n",
            " 20  StreamingMovies   7043 non-null   object \n",
            "dtypes: float64(1), int64(2), object(18)\n",
            "memory usage: 1.2+ MB\n"
          ],
          "name": "stdout"
        }
      ]
    },
    {
      "cell_type": "markdown",
      "metadata": {
        "id": "0O1eliX-2BJN"
      },
      "source": [
        "## Data Preparation\n",
        "<p style='text-align: right;'> 10 points</p>\n"
      ]
    },
    {
      "cell_type": "code",
      "metadata": {
        "colab": {
          "base_uri": "https://localhost:8080/",
          "height": 0
        },
        "id": "M4LCYD2T2BJN",
        "outputId": "1583bdf8-d195-42ae-a885-2b69d09bb5a9"
      },
      "source": [
        "# Converting Yes to 1 and No to 0 using map\n",
        "telecom['PhoneService'] = telecom['PhoneService'].map({'Yes' : 1, 'No': 0})\n",
        "telecom['PaperlessBilling'] = telecom['PaperlessBilling'].map({'Yes': 1, 'No': 0})\n",
        "telecom['Churn'] = telecom['Churn'].map({'Yes' : 1, 'No' : 0})\n",
        "telecom['Partner'] = telecom['Partner'].map({'Yes' : 1, 'No' : 0})\n",
        "telecom['Dependents'] = telecom['Dependents'].map({'Yes' : 1, 'No' : 0})\n",
        "telecom.head()"
      ],
      "execution_count": 909,
      "outputs": [
        {
          "output_type": "execute_result",
          "data": {
            "text/html": [
              "<div>\n",
              "<style scoped>\n",
              "    .dataframe tbody tr th:only-of-type {\n",
              "        vertical-align: middle;\n",
              "    }\n",
              "\n",
              "    .dataframe tbody tr th {\n",
              "        vertical-align: top;\n",
              "    }\n",
              "\n",
              "    .dataframe thead th {\n",
              "        text-align: right;\n",
              "    }\n",
              "</style>\n",
              "<table border=\"1\" class=\"dataframe\">\n",
              "  <thead>\n",
              "    <tr style=\"text-align: right;\">\n",
              "      <th></th>\n",
              "      <th>customerID</th>\n",
              "      <th>tenure</th>\n",
              "      <th>PhoneService</th>\n",
              "      <th>Contract</th>\n",
              "      <th>PaperlessBilling</th>\n",
              "      <th>PaymentMethod</th>\n",
              "      <th>MonthlyCharges</th>\n",
              "      <th>TotalCharges</th>\n",
              "      <th>Churn</th>\n",
              "      <th>gender</th>\n",
              "      <th>SeniorCitizen</th>\n",
              "      <th>Partner</th>\n",
              "      <th>Dependents</th>\n",
              "      <th>MultipleLines</th>\n",
              "      <th>InternetService</th>\n",
              "      <th>OnlineSecurity</th>\n",
              "      <th>OnlineBackup</th>\n",
              "      <th>DeviceProtection</th>\n",
              "      <th>TechSupport</th>\n",
              "      <th>StreamingTV</th>\n",
              "      <th>StreamingMovies</th>\n",
              "    </tr>\n",
              "  </thead>\n",
              "  <tbody>\n",
              "    <tr>\n",
              "      <th>0</th>\n",
              "      <td>7590-VHVEG</td>\n",
              "      <td>1</td>\n",
              "      <td>0</td>\n",
              "      <td>Month-to-month</td>\n",
              "      <td>1</td>\n",
              "      <td>Electronic check</td>\n",
              "      <td>29.85</td>\n",
              "      <td>29.85</td>\n",
              "      <td>0</td>\n",
              "      <td>Female</td>\n",
              "      <td>0</td>\n",
              "      <td>1</td>\n",
              "      <td>0</td>\n",
              "      <td>No phone service</td>\n",
              "      <td>DSL</td>\n",
              "      <td>No</td>\n",
              "      <td>Yes</td>\n",
              "      <td>No</td>\n",
              "      <td>No</td>\n",
              "      <td>No</td>\n",
              "      <td>No</td>\n",
              "    </tr>\n",
              "    <tr>\n",
              "      <th>1</th>\n",
              "      <td>5575-GNVDE</td>\n",
              "      <td>34</td>\n",
              "      <td>1</td>\n",
              "      <td>One year</td>\n",
              "      <td>0</td>\n",
              "      <td>Mailed check</td>\n",
              "      <td>56.95</td>\n",
              "      <td>1889.5</td>\n",
              "      <td>0</td>\n",
              "      <td>Male</td>\n",
              "      <td>0</td>\n",
              "      <td>0</td>\n",
              "      <td>0</td>\n",
              "      <td>No</td>\n",
              "      <td>DSL</td>\n",
              "      <td>Yes</td>\n",
              "      <td>No</td>\n",
              "      <td>Yes</td>\n",
              "      <td>No</td>\n",
              "      <td>No</td>\n",
              "      <td>No</td>\n",
              "    </tr>\n",
              "    <tr>\n",
              "      <th>2</th>\n",
              "      <td>3668-QPYBK</td>\n",
              "      <td>2</td>\n",
              "      <td>1</td>\n",
              "      <td>Month-to-month</td>\n",
              "      <td>1</td>\n",
              "      <td>Mailed check</td>\n",
              "      <td>53.85</td>\n",
              "      <td>108.15</td>\n",
              "      <td>1</td>\n",
              "      <td>Male</td>\n",
              "      <td>0</td>\n",
              "      <td>0</td>\n",
              "      <td>0</td>\n",
              "      <td>No</td>\n",
              "      <td>DSL</td>\n",
              "      <td>Yes</td>\n",
              "      <td>Yes</td>\n",
              "      <td>No</td>\n",
              "      <td>No</td>\n",
              "      <td>No</td>\n",
              "      <td>No</td>\n",
              "    </tr>\n",
              "    <tr>\n",
              "      <th>3</th>\n",
              "      <td>7795-CFOCW</td>\n",
              "      <td>45</td>\n",
              "      <td>0</td>\n",
              "      <td>One year</td>\n",
              "      <td>0</td>\n",
              "      <td>Bank transfer (automatic)</td>\n",
              "      <td>42.30</td>\n",
              "      <td>1840.75</td>\n",
              "      <td>0</td>\n",
              "      <td>Male</td>\n",
              "      <td>0</td>\n",
              "      <td>0</td>\n",
              "      <td>0</td>\n",
              "      <td>No phone service</td>\n",
              "      <td>DSL</td>\n",
              "      <td>Yes</td>\n",
              "      <td>No</td>\n",
              "      <td>Yes</td>\n",
              "      <td>Yes</td>\n",
              "      <td>No</td>\n",
              "      <td>No</td>\n",
              "    </tr>\n",
              "    <tr>\n",
              "      <th>4</th>\n",
              "      <td>9237-HQITU</td>\n",
              "      <td>2</td>\n",
              "      <td>1</td>\n",
              "      <td>Month-to-month</td>\n",
              "      <td>1</td>\n",
              "      <td>Electronic check</td>\n",
              "      <td>70.70</td>\n",
              "      <td>151.65</td>\n",
              "      <td>1</td>\n",
              "      <td>Female</td>\n",
              "      <td>0</td>\n",
              "      <td>0</td>\n",
              "      <td>0</td>\n",
              "      <td>No</td>\n",
              "      <td>Fiber optic</td>\n",
              "      <td>No</td>\n",
              "      <td>No</td>\n",
              "      <td>No</td>\n",
              "      <td>No</td>\n",
              "      <td>No</td>\n",
              "      <td>No</td>\n",
              "    </tr>\n",
              "  </tbody>\n",
              "</table>\n",
              "</div>"
            ],
            "text/plain": [
              "   customerID  tenure  PhoneService  ... TechSupport  StreamingTV StreamingMovies\n",
              "0  7590-VHVEG       1             0  ...          No           No              No\n",
              "1  5575-GNVDE      34             1  ...          No           No              No\n",
              "2  3668-QPYBK       2             1  ...          No           No              No\n",
              "3  7795-CFOCW      45             0  ...         Yes           No              No\n",
              "4  9237-HQITU       2             1  ...          No           No              No\n",
              "\n",
              "[5 rows x 21 columns]"
            ]
          },
          "metadata": {},
          "execution_count": 909
        }
      ]
    },
    {
      "cell_type": "markdown",
      "metadata": {
        "id": "CmRh8d_w2BJO"
      },
      "source": [
        "### Dummy Variable Creation\n",
        "\n",
        "As you can see there are many textual information in our data set. Lets do encoding for these classes using get_dummies() function.\n",
        "\n",
        "Note: use prefix='column_name' where column_name is the column whose encoding has to be done."
      ]
    },
    {
      "cell_type": "code",
      "metadata": {
        "id": "QwzEHj2s2BJO"
      },
      "source": [
        "# Creating a dummy variable for the variable 'Contract' and keeping drop_first=True\n",
        "cont = pd.get_dummies(telecom['Contract'], prefix = 'Contract', drop_first=True)\n",
        "#Adding the results to the master dataframe i.e telecom\n",
        "telecom = pd.concat([telecom, cont], axis = 1)\n",
        "\n",
        "# Creating a dummy variable for the variable 'PaymentMethod' and keeping drop_first=True\n",
        "pm = pd.get_dummies(telecom['PaymentMethod'], prefix = 'PaymentMethod', drop_first=True)\n",
        "#Adding the results to the master dataframe\n",
        "telecom = pd.concat([telecom, pm], axis = 1)\n",
        "\n",
        "# Creating a dummy variable for the variable 'gender' and keeping drop_first=True\n",
        "gen = pd.get_dummies(telecom['gender'], prefix = 'gender', drop_first=True)\n",
        "#Adding the results to the master dataframe\n",
        "telecom = pd.concat([telecom, gen], axis = 1)\n",
        "\n",
        "# Creating a dummy variable for the variable 'MultipleLines' and keeping drop_first=True\n",
        "ml = pd.get_dummies(telecom['MultipleLines'], prefix = 'MultipleLines')\n",
        "\n",
        "#  dropping MultipleLines_No phone service column from ml\n",
        "ml1 = ml.drop(['MultipleLines_No phone service'], axis = 1)\n",
        "#Adding the results to the master dataframe\n",
        "telecom = pd.concat([telecom, ml1], axis = 1)\n",
        "\n",
        "# Creating a dummy variable for the variable 'InternetService' and keeping drop_first=True\n",
        "iser = pd.get_dummies(telecom['InternetService'], prefix = 'InternetService', drop_first=True)\n",
        "#Adding the results to the master dataframe\n",
        "telecom = pd.concat([telecom, iser], axis = 1)\n",
        "\n",
        "# Creating a dummy variable for the variable 'OnlineSecurity'.\n",
        "os = pd.get_dummies(telecom['OnlineSecurity'], prefix = 'OnlineSecurity')\n",
        "#drop OnlineSecurity_No internet service column from os\n",
        "os1= os.drop(['OnlineSecurity_No internet service'], axis = 1)\n",
        "#Adding os1 to the master dataframe\n",
        "telecom = pd.concat([telecom, os1], axis = 1) \n",
        "\n",
        "# Creating a dummy variable for the variable 'OnlineBackup' and keeping drop_first=True\n",
        "ob = pd.get_dummies(telecom['OnlineBackup'], prefix = 'OnlineBackup')\n",
        "#dropping OnlineBackup_No internet service from ob\n",
        "ob1 = ob.drop(['OnlineBackup_No internet service'], axis = 1)\n",
        "#Adding the results(ob1) to the master dataframe\n",
        "telecom = pd.concat([telecom, ob1], axis = 1)\n",
        "\n",
        "# Creating a dummy variable for the variable 'DeviceProtection' and keeping drop_first=True\n",
        "dp = pd.get_dummies(telecom['DeviceProtection'], prefix = 'DeviceProtection')\n",
        "#dropping DeviceProtection_No internet service from dp\n",
        "dp1 = dp.drop(['DeviceProtection_No internet service'], axis = 1)\n",
        "#Adding the results(dp1) to the master dataframe\n",
        "telecom = pd.concat([telecom, dp1], axis = 1)\n",
        "\n",
        "# Creating a dummy variable for the variable 'TechSupport' and keeping drop_first=True\n",
        "ts = pd.get_dummies(telecom['TechSupport'], prefix = 'TechSupport')\n",
        "#dropping TechSupport_No internet service from ts\n",
        "ts1 = ts.drop(['TechSupport_No internet service'], axis = 1)\n",
        "#Adding the results(ts1) to the master dataframe\n",
        "telecom = pd.concat([telecom, ts1], axis = 1)\n",
        "\n",
        "# Creating a dummy variable for the variable 'StreamingTV' and keeping drop_first=True\n",
        "st = pd.get_dummies(telecom['StreamingTV'], prefix = 'StreamingTV')\n",
        "#dropping StreamingTV_No internet service from st\n",
        "st1 = st.drop(['StreamingTV_No internet service'], axis = 1)\n",
        "#Adding the results(st1) to the master dataframe\n",
        "telecom = pd.concat([telecom, st1], axis = 1)\n",
        "\n",
        "# Creating a dummy variable for the variable 'StreamingMovies' and keeping drop_first=True \n",
        "sm =pd.get_dummies(telecom['StreamingMovies'], prefix = 'StreamingMovies')\n",
        "#dropping StreamingMovies_No internet service from sm\n",
        "sm1 = sm.drop(['StreamingMovies_No internet service'], axis = 1)\n",
        "#Adding the results(sm1) to the master dataframe\n",
        "telecom = pd.concat([telecom, sm1], axis = 1)"
      ],
      "execution_count": 910,
      "outputs": []
    },
    {
      "cell_type": "markdown",
      "metadata": {
        "id": "hZ4JE5T72BJP"
      },
      "source": [
        "### Dropping the repeated variables\n",
        "\n",
        "Since We have already created dummies for the below variables\n",
        "    \n",
        "    'Contract',\n",
        "    'PaymentMethod',\n",
        "    'gender',\n",
        "    'MultipleLines',\n",
        "    'InternetService', \n",
        "    'OnlineSecurity', \n",
        "    'OnlineBackup', \n",
        "    'DeviceProtection',\n",
        "    'TechSupport', \n",
        "    'StreamingTV', \n",
        "    'StreamingMovies'\n",
        "so we can drop them off as they are now repeated in our master dataset\n"
      ]
    },
    {
      "cell_type": "code",
      "metadata": {
        "id": "ugiCTMAk2BJQ"
      },
      "source": [
        "# drop all duplicate columns\n",
        "telecom = telecom.drop(columns = ['Contract',\n",
        "'PaymentMethod',\n",
        "'gender',\n",
        "'MultipleLines',\n",
        "'InternetService', \n",
        "'OnlineSecurity', \n",
        "'OnlineBackup', \n",
        "'DeviceProtection',\n",
        "'TechSupport', \n",
        "'StreamingTV', \n",
        "'StreamingMovies'], axis = 1)"
      ],
      "execution_count": 911,
      "outputs": []
    },
    {
      "cell_type": "markdown",
      "metadata": {
        "id": "UOeFpvG-2BJR"
      },
      "source": [
        "The TotalCharges variable was imported as a string we need to convert it to numeric type<br>\n",
        "Hint: Use pandas.to_numeric() function. Refer:https://pandas.pydata.org/pandas-docs/stable/reference/api/pandas.to_numeric.html"
      ]
    },
    {
      "cell_type": "code",
      "metadata": {
        "id": "ynYcKEtP2BJR"
      },
      "source": [
        "\n",
        "# convert to numeric\n",
        "telecom['TotalCharges']=telecom['TotalCharges'].apply(pd.to_numeric, errors = 'coerce')"
      ],
      "execution_count": 912,
      "outputs": []
    },
    {
      "cell_type": "code",
      "metadata": {
        "colab": {
          "base_uri": "https://localhost:8080/"
        },
        "id": "bvQCn67E2BJS",
        "outputId": "5d1934cd-88b4-4ca1-ea70-c48a9cc3827a"
      },
      "source": [
        "# again check data type informationof our master dataset\n",
        "telecom.info()"
      ],
      "execution_count": 913,
      "outputs": [
        {
          "output_type": "stream",
          "text": [
            "<class 'pandas.core.frame.DataFrame'>\n",
            "Int64Index: 7043 entries, 0 to 7042\n",
            "Data columns (total 32 columns):\n",
            " #   Column                                 Non-Null Count  Dtype  \n",
            "---  ------                                 --------------  -----  \n",
            " 0   customerID                             7043 non-null   object \n",
            " 1   tenure                                 7043 non-null   int64  \n",
            " 2   PhoneService                           7043 non-null   int64  \n",
            " 3   PaperlessBilling                       7043 non-null   int64  \n",
            " 4   MonthlyCharges                         7043 non-null   float64\n",
            " 5   TotalCharges                           7032 non-null   float64\n",
            " 6   Churn                                  7043 non-null   int64  \n",
            " 7   SeniorCitizen                          7043 non-null   int64  \n",
            " 8   Partner                                7043 non-null   int64  \n",
            " 9   Dependents                             7043 non-null   int64  \n",
            " 10  Contract_One year                      7043 non-null   uint8  \n",
            " 11  Contract_Two year                      7043 non-null   uint8  \n",
            " 12  PaymentMethod_Credit card (automatic)  7043 non-null   uint8  \n",
            " 13  PaymentMethod_Electronic check         7043 non-null   uint8  \n",
            " 14  PaymentMethod_Mailed check             7043 non-null   uint8  \n",
            " 15  gender_Male                            7043 non-null   uint8  \n",
            " 16  MultipleLines_No                       7043 non-null   uint8  \n",
            " 17  MultipleLines_Yes                      7043 non-null   uint8  \n",
            " 18  InternetService_Fiber optic            7043 non-null   uint8  \n",
            " 19  InternetService_No                     7043 non-null   uint8  \n",
            " 20  OnlineSecurity_No                      7043 non-null   uint8  \n",
            " 21  OnlineSecurity_Yes                     7043 non-null   uint8  \n",
            " 22  OnlineBackup_No                        7043 non-null   uint8  \n",
            " 23  OnlineBackup_Yes                       7043 non-null   uint8  \n",
            " 24  DeviceProtection_No                    7043 non-null   uint8  \n",
            " 25  DeviceProtection_Yes                   7043 non-null   uint8  \n",
            " 26  TechSupport_No                         7043 non-null   uint8  \n",
            " 27  TechSupport_Yes                        7043 non-null   uint8  \n",
            " 28  StreamingTV_No                         7043 non-null   uint8  \n",
            " 29  StreamingTV_Yes                        7043 non-null   uint8  \n",
            " 30  StreamingMovies_No                     7043 non-null   uint8  \n",
            " 31  StreamingMovies_Yes                    7043 non-null   uint8  \n",
            "dtypes: float64(2), int64(7), object(1), uint8(22)\n",
            "memory usage: 756.6+ KB\n"
          ],
          "name": "stdout"
        }
      ]
    },
    {
      "cell_type": "markdown",
      "metadata": {
        "id": "o59Sq8fu2BJS"
      },
      "source": [
        "Now we can see we have all variables as integer."
      ]
    },
    {
      "cell_type": "markdown",
      "metadata": {
        "collapsed": true,
        "id": "wPVFOfRg2BJT"
      },
      "source": [
        "### Checking for Outliers\n",
        "<p style='text-align: right;'> 4 points</p>\n",
        "\n",
        "\n",
        "Checking for outliers in the continuous variables like 'tenure','MonthlyCharges','SeniorCitizen','TotalCharges'\n"
      ]
    },
    {
      "cell_type": "code",
      "metadata": {
        "id": "9jD40FYa2BJT"
      },
      "source": [
        "# Getting all continues variables in separate dataframe\n",
        "num_telecom = telecom[['tenure', 'MonthlyCharges', 'SeniorCitizen', 'TotalCharges']]"
      ],
      "execution_count": 914,
      "outputs": []
    },
    {
      "cell_type": "code",
      "metadata": {
        "colab": {
          "base_uri": "https://localhost:8080/",
          "height": 0
        },
        "id": "N8EHMhie2BJT",
        "outputId": "83509638-2e07-4a2a-855b-6f9279639c4e"
      },
      "source": [
        "# Checking outliers at 25%,50%,75%,90%,95% and 99%\n",
        "num_telecom.describe()"
      ],
      "execution_count": 915,
      "outputs": [
        {
          "output_type": "execute_result",
          "data": {
            "text/html": [
              "<div>\n",
              "<style scoped>\n",
              "    .dataframe tbody tr th:only-of-type {\n",
              "        vertical-align: middle;\n",
              "    }\n",
              "\n",
              "    .dataframe tbody tr th {\n",
              "        vertical-align: top;\n",
              "    }\n",
              "\n",
              "    .dataframe thead th {\n",
              "        text-align: right;\n",
              "    }\n",
              "</style>\n",
              "<table border=\"1\" class=\"dataframe\">\n",
              "  <thead>\n",
              "    <tr style=\"text-align: right;\">\n",
              "      <th></th>\n",
              "      <th>tenure</th>\n",
              "      <th>MonthlyCharges</th>\n",
              "      <th>SeniorCitizen</th>\n",
              "      <th>TotalCharges</th>\n",
              "    </tr>\n",
              "  </thead>\n",
              "  <tbody>\n",
              "    <tr>\n",
              "      <th>count</th>\n",
              "      <td>7043.000000</td>\n",
              "      <td>7043.000000</td>\n",
              "      <td>7043.000000</td>\n",
              "      <td>7032.000000</td>\n",
              "    </tr>\n",
              "    <tr>\n",
              "      <th>mean</th>\n",
              "      <td>32.371149</td>\n",
              "      <td>64.761692</td>\n",
              "      <td>0.162147</td>\n",
              "      <td>2283.300441</td>\n",
              "    </tr>\n",
              "    <tr>\n",
              "      <th>std</th>\n",
              "      <td>24.559481</td>\n",
              "      <td>30.090047</td>\n",
              "      <td>0.368612</td>\n",
              "      <td>2266.771362</td>\n",
              "    </tr>\n",
              "    <tr>\n",
              "      <th>min</th>\n",
              "      <td>0.000000</td>\n",
              "      <td>18.250000</td>\n",
              "      <td>0.000000</td>\n",
              "      <td>18.800000</td>\n",
              "    </tr>\n",
              "    <tr>\n",
              "      <th>25%</th>\n",
              "      <td>9.000000</td>\n",
              "      <td>35.500000</td>\n",
              "      <td>0.000000</td>\n",
              "      <td>401.450000</td>\n",
              "    </tr>\n",
              "    <tr>\n",
              "      <th>50%</th>\n",
              "      <td>29.000000</td>\n",
              "      <td>70.350000</td>\n",
              "      <td>0.000000</td>\n",
              "      <td>1397.475000</td>\n",
              "    </tr>\n",
              "    <tr>\n",
              "      <th>75%</th>\n",
              "      <td>55.000000</td>\n",
              "      <td>89.850000</td>\n",
              "      <td>0.000000</td>\n",
              "      <td>3794.737500</td>\n",
              "    </tr>\n",
              "    <tr>\n",
              "      <th>max</th>\n",
              "      <td>72.000000</td>\n",
              "      <td>118.750000</td>\n",
              "      <td>1.000000</td>\n",
              "      <td>8684.800000</td>\n",
              "    </tr>\n",
              "  </tbody>\n",
              "</table>\n",
              "</div>"
            ],
            "text/plain": [
              "            tenure  MonthlyCharges  SeniorCitizen  TotalCharges\n",
              "count  7043.000000     7043.000000    7043.000000   7032.000000\n",
              "mean     32.371149       64.761692       0.162147   2283.300441\n",
              "std      24.559481       30.090047       0.368612   2266.771362\n",
              "min       0.000000       18.250000       0.000000     18.800000\n",
              "25%       9.000000       35.500000       0.000000    401.450000\n",
              "50%      29.000000       70.350000       0.000000   1397.475000\n",
              "75%      55.000000       89.850000       0.000000   3794.737500\n",
              "max      72.000000      118.750000       1.000000   8684.800000"
            ]
          },
          "metadata": {},
          "execution_count": 915
        }
      ]
    },
    {
      "cell_type": "markdown",
      "metadata": {
        "id": "K4siF3uw2BJU"
      },
      "source": [
        "From the distribution shown above, you can see that there no outliner in your data as the numbers are gradually increasing."
      ]
    },
    {
      "cell_type": "markdown",
      "metadata": {
        "id": "B66NrJDV2BJU"
      },
      "source": [
        "### Checking for Missing Values and Inputing Them\n",
        "\n",
        "<p style='text-align: right;'> 5 points</p>\n"
      ]
    },
    {
      "cell_type": "code",
      "metadata": {
        "colab": {
          "base_uri": "https://localhost:8080/"
        },
        "id": "LgUe6c6z2BJU",
        "outputId": "7c0eb469-f251-4939-e10f-190cf7fcd1e9"
      },
      "source": [
        "# Checking total missing values (column-wise)\n",
        "telecom.isna().sum()"
      ],
      "execution_count": 916,
      "outputs": [
        {
          "output_type": "execute_result",
          "data": {
            "text/plain": [
              "customerID                                0\n",
              "tenure                                    0\n",
              "PhoneService                              0\n",
              "PaperlessBilling                          0\n",
              "MonthlyCharges                            0\n",
              "TotalCharges                             11\n",
              "Churn                                     0\n",
              "SeniorCitizen                             0\n",
              "Partner                                   0\n",
              "Dependents                                0\n",
              "Contract_One year                         0\n",
              "Contract_Two year                         0\n",
              "PaymentMethod_Credit card (automatic)     0\n",
              "PaymentMethod_Electronic check            0\n",
              "PaymentMethod_Mailed check                0\n",
              "gender_Male                               0\n",
              "MultipleLines_No                          0\n",
              "MultipleLines_Yes                         0\n",
              "InternetService_Fiber optic               0\n",
              "InternetService_No                        0\n",
              "OnlineSecurity_No                         0\n",
              "OnlineSecurity_Yes                        0\n",
              "OnlineBackup_No                           0\n",
              "OnlineBackup_Yes                          0\n",
              "DeviceProtection_No                       0\n",
              "DeviceProtection_Yes                      0\n",
              "TechSupport_No                            0\n",
              "TechSupport_Yes                           0\n",
              "StreamingTV_No                            0\n",
              "StreamingTV_Yes                           0\n",
              "StreamingMovies_No                        0\n",
              "StreamingMovies_Yes                       0\n",
              "dtype: int64"
            ]
          },
          "metadata": {},
          "execution_count": 916
        }
      ]
    },
    {
      "cell_type": "code",
      "metadata": {
        "colab": {
          "base_uri": "https://localhost:8080/"
        },
        "id": "Ey8zoqHy2BJX",
        "outputId": "1c027925-8bc6-4b98-c723-d616cd28e000"
      },
      "source": [
        "# Checking the percentage of missing values\n",
        "round(telecom.isna().sum()*100/len(telecom), 2)"
      ],
      "execution_count": 917,
      "outputs": [
        {
          "output_type": "execute_result",
          "data": {
            "text/plain": [
              "customerID                               0.00\n",
              "tenure                                   0.00\n",
              "PhoneService                             0.00\n",
              "PaperlessBilling                         0.00\n",
              "MonthlyCharges                           0.00\n",
              "TotalCharges                             0.16\n",
              "Churn                                    0.00\n",
              "SeniorCitizen                            0.00\n",
              "Partner                                  0.00\n",
              "Dependents                               0.00\n",
              "Contract_One year                        0.00\n",
              "Contract_Two year                        0.00\n",
              "PaymentMethod_Credit card (automatic)    0.00\n",
              "PaymentMethod_Electronic check           0.00\n",
              "PaymentMethod_Mailed check               0.00\n",
              "gender_Male                              0.00\n",
              "MultipleLines_No                         0.00\n",
              "MultipleLines_Yes                        0.00\n",
              "InternetService_Fiber optic              0.00\n",
              "InternetService_No                       0.00\n",
              "OnlineSecurity_No                        0.00\n",
              "OnlineSecurity_Yes                       0.00\n",
              "OnlineBackup_No                          0.00\n",
              "OnlineBackup_Yes                         0.00\n",
              "DeviceProtection_No                      0.00\n",
              "DeviceProtection_Yes                     0.00\n",
              "TechSupport_No                           0.00\n",
              "TechSupport_Yes                          0.00\n",
              "StreamingTV_No                           0.00\n",
              "StreamingTV_Yes                          0.00\n",
              "StreamingMovies_No                       0.00\n",
              "StreamingMovies_Yes                      0.00\n",
              "dtype: float64"
            ]
          },
          "metadata": {},
          "execution_count": 917
        }
      ]
    },
    {
      "cell_type": "markdown",
      "metadata": {
        "id": "KHbUMn9a2BJX"
      },
      "source": [
        "It means that 11/7043 = 0.001561834 i.e 0.15%, the best option to get rid of these null values in this scenario is to remove these observations from the analysis"
      ]
    },
    {
      "cell_type": "code",
      "metadata": {
        "id": "2oUfBImz2BJX"
      },
      "source": [
        "# Removing NaN form TotalCharges rows\n",
        "telecom = telecom.dropna(axis = 0, subset = telecom.columns.tolist())"
      ],
      "execution_count": 918,
      "outputs": []
    },
    {
      "cell_type": "code",
      "metadata": {
        "colab": {
          "base_uri": "https://localhost:8080/"
        },
        "id": "3fYWVuul2BJY",
        "outputId": "0ba4b50a-71c3-44d5-a446-ec83e27d248f"
      },
      "source": [
        "# Lets Check percentage of missing values after removing the missing values\n",
        "round(telecom.isna().sum()*100/len(telecom), 2)"
      ],
      "execution_count": 919,
      "outputs": [
        {
          "output_type": "execute_result",
          "data": {
            "text/plain": [
              "customerID                               0.0\n",
              "tenure                                   0.0\n",
              "PhoneService                             0.0\n",
              "PaperlessBilling                         0.0\n",
              "MonthlyCharges                           0.0\n",
              "TotalCharges                             0.0\n",
              "Churn                                    0.0\n",
              "SeniorCitizen                            0.0\n",
              "Partner                                  0.0\n",
              "Dependents                               0.0\n",
              "Contract_One year                        0.0\n",
              "Contract_Two year                        0.0\n",
              "PaymentMethod_Credit card (automatic)    0.0\n",
              "PaymentMethod_Electronic check           0.0\n",
              "PaymentMethod_Mailed check               0.0\n",
              "gender_Male                              0.0\n",
              "MultipleLines_No                         0.0\n",
              "MultipleLines_Yes                        0.0\n",
              "InternetService_Fiber optic              0.0\n",
              "InternetService_No                       0.0\n",
              "OnlineSecurity_No                        0.0\n",
              "OnlineSecurity_Yes                       0.0\n",
              "OnlineBackup_No                          0.0\n",
              "OnlineBackup_Yes                         0.0\n",
              "DeviceProtection_No                      0.0\n",
              "DeviceProtection_Yes                     0.0\n",
              "TechSupport_No                           0.0\n",
              "TechSupport_Yes                          0.0\n",
              "StreamingTV_No                           0.0\n",
              "StreamingTV_Yes                          0.0\n",
              "StreamingMovies_No                       0.0\n",
              "StreamingMovies_Yes                      0.0\n",
              "dtype: float64"
            ]
          },
          "metadata": {},
          "execution_count": 919
        }
      ]
    },
    {
      "cell_type": "markdown",
      "metadata": {
        "id": "qC-Bfe_K2BJY"
      },
      "source": [
        "Now we don't have any missing values"
      ]
    },
    {
      "cell_type": "markdown",
      "metadata": {
        "id": "Ot3WOLYb2BJY"
      },
      "source": [
        "### Feature Standardisation\n",
        "\n",
        "<p style='text-align: right;'> 6 points</p>\n",
        "\n",
        "\n",
        "Standardization is one of the scaling technique where the values are centered around the mean with a unit standard deviation. This means that the mean of the attribute becomes zero and the resultant distribution has a unit standard deviation.\n",
        "\n",
        "Here’s the formula for standardization:\n",
        "\n",
        "\n",
        "![image.png](attachment:image.png)\n",
        "\n",
        "![image-3.png](attachment:image-3.png)\n",
        "\n",
        "\n",
        "We are sure that you have got this Scaling concept clear from your previous assignements. But for the sake of your revision we\n",
        "provide you with following video. https://www.youtube.com/watch?v=mnKm3YP56PY"
      ]
    },
    {
      "cell_type": "code",
      "metadata": {
        "colab": {
          "base_uri": "https://localhost:8080/"
        },
        "id": "DmN8tf_z2BJY",
        "outputId": "f0542026-add1-40dc-8bd0-4b8c26f5493d"
      },
      "source": [
        "# Get telecom data type information\n",
        "telecom.info()"
      ],
      "execution_count": 920,
      "outputs": [
        {
          "output_type": "stream",
          "text": [
            "<class 'pandas.core.frame.DataFrame'>\n",
            "Int64Index: 7032 entries, 0 to 7042\n",
            "Data columns (total 32 columns):\n",
            " #   Column                                 Non-Null Count  Dtype  \n",
            "---  ------                                 --------------  -----  \n",
            " 0   customerID                             7032 non-null   object \n",
            " 1   tenure                                 7032 non-null   int64  \n",
            " 2   PhoneService                           7032 non-null   int64  \n",
            " 3   PaperlessBilling                       7032 non-null   int64  \n",
            " 4   MonthlyCharges                         7032 non-null   float64\n",
            " 5   TotalCharges                           7032 non-null   float64\n",
            " 6   Churn                                  7032 non-null   int64  \n",
            " 7   SeniorCitizen                          7032 non-null   int64  \n",
            " 8   Partner                                7032 non-null   int64  \n",
            " 9   Dependents                             7032 non-null   int64  \n",
            " 10  Contract_One year                      7032 non-null   uint8  \n",
            " 11  Contract_Two year                      7032 non-null   uint8  \n",
            " 12  PaymentMethod_Credit card (automatic)  7032 non-null   uint8  \n",
            " 13  PaymentMethod_Electronic check         7032 non-null   uint8  \n",
            " 14  PaymentMethod_Mailed check             7032 non-null   uint8  \n",
            " 15  gender_Male                            7032 non-null   uint8  \n",
            " 16  MultipleLines_No                       7032 non-null   uint8  \n",
            " 17  MultipleLines_Yes                      7032 non-null   uint8  \n",
            " 18  InternetService_Fiber optic            7032 non-null   uint8  \n",
            " 19  InternetService_No                     7032 non-null   uint8  \n",
            " 20  OnlineSecurity_No                      7032 non-null   uint8  \n",
            " 21  OnlineSecurity_Yes                     7032 non-null   uint8  \n",
            " 22  OnlineBackup_No                        7032 non-null   uint8  \n",
            " 23  OnlineBackup_Yes                       7032 non-null   uint8  \n",
            " 24  DeviceProtection_No                    7032 non-null   uint8  \n",
            " 25  DeviceProtection_Yes                   7032 non-null   uint8  \n",
            " 26  TechSupport_No                         7032 non-null   uint8  \n",
            " 27  TechSupport_Yes                        7032 non-null   uint8  \n",
            " 28  StreamingTV_No                         7032 non-null   uint8  \n",
            " 29  StreamingTV_Yes                        7032 non-null   uint8  \n",
            " 30  StreamingMovies_No                     7032 non-null   uint8  \n",
            " 31  StreamingMovies_Yes                    7032 non-null   uint8  \n",
            "dtypes: float64(2), int64(7), object(1), uint8(22)\n",
            "memory usage: 755.4+ KB\n"
          ],
          "name": "stdout"
        }
      ]
    },
    {
      "cell_type": "code",
      "metadata": {
        "id": "UopXIXhX2BJZ"
      },
      "source": [
        "# Getting all desired continues variables like 'tenure','MonthlyCharges' and 'TotalCharges' into one dataframe.\n",
        "df = telecom[['tenure', 'MonthlyCharges', 'TotalCharges']]"
      ],
      "execution_count": 921,
      "outputs": []
    },
    {
      "cell_type": "code",
      "metadata": {
        "colab": {
          "base_uri": "https://localhost:8080/",
          "height": 0
        },
        "id": "lytmQcWS2BJZ",
        "outputId": "a82eac06-124e-4c6b-88df-578fd81665a4"
      },
      "source": [
        "# Standardising above continuous features\n",
        "from sklearn.preprocessing import StandardScaler\n",
        "scaling = StandardScaler()\n",
        "std_df = pd.DataFrame(scaling.fit_transform(df), columns = df.columns.tolist())\n",
        "std_df"
      ],
      "execution_count": 922,
      "outputs": [
        {
          "output_type": "execute_result",
          "data": {
            "text/html": [
              "<div>\n",
              "<style scoped>\n",
              "    .dataframe tbody tr th:only-of-type {\n",
              "        vertical-align: middle;\n",
              "    }\n",
              "\n",
              "    .dataframe tbody tr th {\n",
              "        vertical-align: top;\n",
              "    }\n",
              "\n",
              "    .dataframe thead th {\n",
              "        text-align: right;\n",
              "    }\n",
              "</style>\n",
              "<table border=\"1\" class=\"dataframe\">\n",
              "  <thead>\n",
              "    <tr style=\"text-align: right;\">\n",
              "      <th></th>\n",
              "      <th>tenure</th>\n",
              "      <th>MonthlyCharges</th>\n",
              "      <th>TotalCharges</th>\n",
              "    </tr>\n",
              "  </thead>\n",
              "  <tbody>\n",
              "    <tr>\n",
              "      <th>0</th>\n",
              "      <td>-1.280248</td>\n",
              "      <td>-1.161694</td>\n",
              "      <td>-0.994194</td>\n",
              "    </tr>\n",
              "    <tr>\n",
              "      <th>1</th>\n",
              "      <td>0.064303</td>\n",
              "      <td>-0.260878</td>\n",
              "      <td>-0.173740</td>\n",
              "    </tr>\n",
              "    <tr>\n",
              "      <th>2</th>\n",
              "      <td>-1.239504</td>\n",
              "      <td>-0.363923</td>\n",
              "      <td>-0.959649</td>\n",
              "    </tr>\n",
              "    <tr>\n",
              "      <th>3</th>\n",
              "      <td>0.512486</td>\n",
              "      <td>-0.747850</td>\n",
              "      <td>-0.195248</td>\n",
              "    </tr>\n",
              "    <tr>\n",
              "      <th>4</th>\n",
              "      <td>-1.239504</td>\n",
              "      <td>0.196178</td>\n",
              "      <td>-0.940457</td>\n",
              "    </tr>\n",
              "    <tr>\n",
              "      <th>...</th>\n",
              "      <td>...</td>\n",
              "      <td>...</td>\n",
              "      <td>...</td>\n",
              "    </tr>\n",
              "    <tr>\n",
              "      <th>7027</th>\n",
              "      <td>-0.343137</td>\n",
              "      <td>0.664868</td>\n",
              "      <td>-0.129180</td>\n",
              "    </tr>\n",
              "    <tr>\n",
              "      <th>7028</th>\n",
              "      <td>1.612573</td>\n",
              "      <td>1.276493</td>\n",
              "      <td>2.241056</td>\n",
              "    </tr>\n",
              "    <tr>\n",
              "      <th>7029</th>\n",
              "      <td>-0.872808</td>\n",
              "      <td>-1.170004</td>\n",
              "      <td>-0.854514</td>\n",
              "    </tr>\n",
              "    <tr>\n",
              "      <th>7030</th>\n",
              "      <td>-1.158016</td>\n",
              "      <td>0.319168</td>\n",
              "      <td>-0.872095</td>\n",
              "    </tr>\n",
              "    <tr>\n",
              "      <th>7031</th>\n",
              "      <td>1.368109</td>\n",
              "      <td>1.357932</td>\n",
              "      <td>2.012344</td>\n",
              "    </tr>\n",
              "  </tbody>\n",
              "</table>\n",
              "<p>7032 rows × 3 columns</p>\n",
              "</div>"
            ],
            "text/plain": [
              "        tenure  MonthlyCharges  TotalCharges\n",
              "0    -1.280248       -1.161694     -0.994194\n",
              "1     0.064303       -0.260878     -0.173740\n",
              "2    -1.239504       -0.363923     -0.959649\n",
              "3     0.512486       -0.747850     -0.195248\n",
              "4    -1.239504        0.196178     -0.940457\n",
              "...        ...             ...           ...\n",
              "7027 -0.343137        0.664868     -0.129180\n",
              "7028  1.612573        1.276493      2.241056\n",
              "7029 -0.872808       -1.170004     -0.854514\n",
              "7030 -1.158016        0.319168     -0.872095\n",
              "7031  1.368109        1.357932      2.012344\n",
              "\n",
              "[7032 rows x 3 columns]"
            ]
          },
          "metadata": {},
          "execution_count": 922
        }
      ]
    },
    {
      "cell_type": "code",
      "metadata": {
        "id": "nNb8rAYS2BJZ"
      },
      "source": [
        "# Dropping 'tenure','MonthlyCharges' and 'TotalCharges' from telecom as we want to add the standardised fetaures \n",
        "telecom = telecom.drop(columns = ['tenure', 'MonthlyCharges', 'TotalCharges'], axis = 1)"
      ],
      "execution_count": 923,
      "outputs": []
    },
    {
      "cell_type": "code",
      "metadata": {
        "id": "kLpxvuqq2BJa"
      },
      "source": [
        "# Add std_df into telecom\n",
        "telecom = pd.concat([telecom.reset_index(drop=True), std_df.reset_index(drop = True)], axis = 1)"
      ],
      "execution_count": 924,
      "outputs": []
    },
    {
      "cell_type": "code",
      "metadata": {
        "colab": {
          "base_uri": "https://localhost:8080/",
          "height": 0
        },
        "id": "GH6FF6W72BJa",
        "outputId": "ae489792-2897-40f2-ee58-8b1436da5adc"
      },
      "source": [
        "# print telecom tail\n",
        "telecom.tail()"
      ],
      "execution_count": 925,
      "outputs": [
        {
          "output_type": "execute_result",
          "data": {
            "text/html": [
              "<div>\n",
              "<style scoped>\n",
              "    .dataframe tbody tr th:only-of-type {\n",
              "        vertical-align: middle;\n",
              "    }\n",
              "\n",
              "    .dataframe tbody tr th {\n",
              "        vertical-align: top;\n",
              "    }\n",
              "\n",
              "    .dataframe thead th {\n",
              "        text-align: right;\n",
              "    }\n",
              "</style>\n",
              "<table border=\"1\" class=\"dataframe\">\n",
              "  <thead>\n",
              "    <tr style=\"text-align: right;\">\n",
              "      <th></th>\n",
              "      <th>customerID</th>\n",
              "      <th>PhoneService</th>\n",
              "      <th>PaperlessBilling</th>\n",
              "      <th>Churn</th>\n",
              "      <th>SeniorCitizen</th>\n",
              "      <th>Partner</th>\n",
              "      <th>Dependents</th>\n",
              "      <th>Contract_One year</th>\n",
              "      <th>Contract_Two year</th>\n",
              "      <th>PaymentMethod_Credit card (automatic)</th>\n",
              "      <th>PaymentMethod_Electronic check</th>\n",
              "      <th>PaymentMethod_Mailed check</th>\n",
              "      <th>gender_Male</th>\n",
              "      <th>MultipleLines_No</th>\n",
              "      <th>MultipleLines_Yes</th>\n",
              "      <th>InternetService_Fiber optic</th>\n",
              "      <th>InternetService_No</th>\n",
              "      <th>OnlineSecurity_No</th>\n",
              "      <th>OnlineSecurity_Yes</th>\n",
              "      <th>OnlineBackup_No</th>\n",
              "      <th>OnlineBackup_Yes</th>\n",
              "      <th>DeviceProtection_No</th>\n",
              "      <th>DeviceProtection_Yes</th>\n",
              "      <th>TechSupport_No</th>\n",
              "      <th>TechSupport_Yes</th>\n",
              "      <th>StreamingTV_No</th>\n",
              "      <th>StreamingTV_Yes</th>\n",
              "      <th>StreamingMovies_No</th>\n",
              "      <th>StreamingMovies_Yes</th>\n",
              "      <th>tenure</th>\n",
              "      <th>MonthlyCharges</th>\n",
              "      <th>TotalCharges</th>\n",
              "    </tr>\n",
              "  </thead>\n",
              "  <tbody>\n",
              "    <tr>\n",
              "      <th>7027</th>\n",
              "      <td>6840-RESVB</td>\n",
              "      <td>1</td>\n",
              "      <td>1</td>\n",
              "      <td>0</td>\n",
              "      <td>0</td>\n",
              "      <td>1</td>\n",
              "      <td>1</td>\n",
              "      <td>1</td>\n",
              "      <td>0</td>\n",
              "      <td>0</td>\n",
              "      <td>0</td>\n",
              "      <td>1</td>\n",
              "      <td>1</td>\n",
              "      <td>0</td>\n",
              "      <td>1</td>\n",
              "      <td>0</td>\n",
              "      <td>0</td>\n",
              "      <td>0</td>\n",
              "      <td>1</td>\n",
              "      <td>1</td>\n",
              "      <td>0</td>\n",
              "      <td>0</td>\n",
              "      <td>1</td>\n",
              "      <td>0</td>\n",
              "      <td>1</td>\n",
              "      <td>0</td>\n",
              "      <td>1</td>\n",
              "      <td>0</td>\n",
              "      <td>1</td>\n",
              "      <td>-0.343137</td>\n",
              "      <td>0.664868</td>\n",
              "      <td>-0.129180</td>\n",
              "    </tr>\n",
              "    <tr>\n",
              "      <th>7028</th>\n",
              "      <td>2234-XADUH</td>\n",
              "      <td>1</td>\n",
              "      <td>1</td>\n",
              "      <td>0</td>\n",
              "      <td>0</td>\n",
              "      <td>1</td>\n",
              "      <td>1</td>\n",
              "      <td>1</td>\n",
              "      <td>0</td>\n",
              "      <td>1</td>\n",
              "      <td>0</td>\n",
              "      <td>0</td>\n",
              "      <td>0</td>\n",
              "      <td>0</td>\n",
              "      <td>1</td>\n",
              "      <td>1</td>\n",
              "      <td>0</td>\n",
              "      <td>1</td>\n",
              "      <td>0</td>\n",
              "      <td>0</td>\n",
              "      <td>1</td>\n",
              "      <td>0</td>\n",
              "      <td>1</td>\n",
              "      <td>1</td>\n",
              "      <td>0</td>\n",
              "      <td>0</td>\n",
              "      <td>1</td>\n",
              "      <td>0</td>\n",
              "      <td>1</td>\n",
              "      <td>1.612573</td>\n",
              "      <td>1.276493</td>\n",
              "      <td>2.241056</td>\n",
              "    </tr>\n",
              "    <tr>\n",
              "      <th>7029</th>\n",
              "      <td>4801-JZAZL</td>\n",
              "      <td>0</td>\n",
              "      <td>1</td>\n",
              "      <td>0</td>\n",
              "      <td>0</td>\n",
              "      <td>1</td>\n",
              "      <td>1</td>\n",
              "      <td>0</td>\n",
              "      <td>0</td>\n",
              "      <td>0</td>\n",
              "      <td>1</td>\n",
              "      <td>0</td>\n",
              "      <td>0</td>\n",
              "      <td>0</td>\n",
              "      <td>0</td>\n",
              "      <td>0</td>\n",
              "      <td>0</td>\n",
              "      <td>0</td>\n",
              "      <td>1</td>\n",
              "      <td>1</td>\n",
              "      <td>0</td>\n",
              "      <td>1</td>\n",
              "      <td>0</td>\n",
              "      <td>1</td>\n",
              "      <td>0</td>\n",
              "      <td>1</td>\n",
              "      <td>0</td>\n",
              "      <td>1</td>\n",
              "      <td>0</td>\n",
              "      <td>-0.872808</td>\n",
              "      <td>-1.170004</td>\n",
              "      <td>-0.854514</td>\n",
              "    </tr>\n",
              "    <tr>\n",
              "      <th>7030</th>\n",
              "      <td>8361-LTMKD</td>\n",
              "      <td>1</td>\n",
              "      <td>1</td>\n",
              "      <td>1</td>\n",
              "      <td>1</td>\n",
              "      <td>1</td>\n",
              "      <td>0</td>\n",
              "      <td>0</td>\n",
              "      <td>0</td>\n",
              "      <td>0</td>\n",
              "      <td>0</td>\n",
              "      <td>1</td>\n",
              "      <td>1</td>\n",
              "      <td>0</td>\n",
              "      <td>1</td>\n",
              "      <td>1</td>\n",
              "      <td>0</td>\n",
              "      <td>1</td>\n",
              "      <td>0</td>\n",
              "      <td>1</td>\n",
              "      <td>0</td>\n",
              "      <td>1</td>\n",
              "      <td>0</td>\n",
              "      <td>1</td>\n",
              "      <td>0</td>\n",
              "      <td>1</td>\n",
              "      <td>0</td>\n",
              "      <td>1</td>\n",
              "      <td>0</td>\n",
              "      <td>-1.158016</td>\n",
              "      <td>0.319168</td>\n",
              "      <td>-0.872095</td>\n",
              "    </tr>\n",
              "    <tr>\n",
              "      <th>7031</th>\n",
              "      <td>3186-AJIEK</td>\n",
              "      <td>1</td>\n",
              "      <td>1</td>\n",
              "      <td>0</td>\n",
              "      <td>0</td>\n",
              "      <td>0</td>\n",
              "      <td>0</td>\n",
              "      <td>0</td>\n",
              "      <td>1</td>\n",
              "      <td>0</td>\n",
              "      <td>0</td>\n",
              "      <td>0</td>\n",
              "      <td>1</td>\n",
              "      <td>1</td>\n",
              "      <td>0</td>\n",
              "      <td>1</td>\n",
              "      <td>0</td>\n",
              "      <td>0</td>\n",
              "      <td>1</td>\n",
              "      <td>1</td>\n",
              "      <td>0</td>\n",
              "      <td>0</td>\n",
              "      <td>1</td>\n",
              "      <td>0</td>\n",
              "      <td>1</td>\n",
              "      <td>0</td>\n",
              "      <td>1</td>\n",
              "      <td>0</td>\n",
              "      <td>1</td>\n",
              "      <td>1.368109</td>\n",
              "      <td>1.357932</td>\n",
              "      <td>2.012344</td>\n",
              "    </tr>\n",
              "  </tbody>\n",
              "</table>\n",
              "</div>"
            ],
            "text/plain": [
              "      customerID  PhoneService  ...  MonthlyCharges  TotalCharges\n",
              "7027  6840-RESVB             1  ...        0.664868     -0.129180\n",
              "7028  2234-XADUH             1  ...        1.276493      2.241056\n",
              "7029  4801-JZAZL             0  ...       -1.170004     -0.854514\n",
              "7030  8361-LTMKD             1  ...        0.319168     -0.872095\n",
              "7031  3186-AJIEK             1  ...        1.357932      2.012344\n",
              "\n",
              "[5 rows x 32 columns]"
            ]
          },
          "metadata": {},
          "execution_count": 925
        }
      ]
    },
    {
      "cell_type": "markdown",
      "metadata": {
        "id": "t5kUDyre2BJa"
      },
      "source": [
        "### Checking the Churn Rate\n",
        "\n",
        "<p style='text-align: right;'> 2 points</p>\n"
      ]
    },
    {
      "cell_type": "code",
      "metadata": {
        "id": "HvVwBfX72BJb"
      },
      "source": [
        "#caluclating total churn percentage in our master dataframe\n",
        "churn = telecom['Churn'].sum()/len(telecom)*100"
      ],
      "execution_count": 926,
      "outputs": []
    },
    {
      "cell_type": "code",
      "metadata": {
        "colab": {
          "base_uri": "https://localhost:8080/"
        },
        "id": "y0mkaj6V2BJb",
        "outputId": "f0b575bb-7601-444e-ddf3-031ac6199eca"
      },
      "source": [
        "# print churn\n",
        "churn"
      ],
      "execution_count": 927,
      "outputs": [
        {
          "output_type": "execute_result",
          "data": {
            "text/plain": [
              "26.578498293515356"
            ]
          },
          "metadata": {},
          "execution_count": 927
        }
      ]
    },
    {
      "cell_type": "markdown",
      "metadata": {
        "id": "6TVbs42Y2BJb"
      },
      "source": [
        "We have almost 27% churn rate"
      ]
    },
    {
      "cell_type": "markdown",
      "metadata": {
        "id": "_gpWYJoK2BJb"
      },
      "source": [
        "## Model Building\n",
        "\n",
        "<p style='text-align: right;'> 11 points</p>\n",
        "\n",
        "Let's start by splitting our data into a training set and a test set."
      ]
    },
    {
      "cell_type": "code",
      "metadata": {
        "id": "VjfWGHOk2BJb"
      },
      "source": [
        "# Putting feature variable to X. drop 'customerID' from features as its not informative for our prediction\n",
        "X = telecom.drop(['customerID','Churn'], axis = 1)\n",
        "\n",
        "# Putting response variable to y\n",
        "y = telecom['Churn']"
      ],
      "execution_count": 928,
      "outputs": []
    },
    {
      "cell_type": "code",
      "metadata": {
        "colab": {
          "base_uri": "https://localhost:8080/"
        },
        "id": "PiWD_vRI2BJc",
        "outputId": "9c83908f-e39a-4a64-d60c-b9785487cafd"
      },
      "source": [
        "# print y head\n",
        "y.head()"
      ],
      "execution_count": 929,
      "outputs": [
        {
          "output_type": "execute_result",
          "data": {
            "text/plain": [
              "0    0\n",
              "1    0\n",
              "2    1\n",
              "3    0\n",
              "4    1\n",
              "Name: Churn, dtype: int64"
            ]
          },
          "metadata": {},
          "execution_count": 929
        }
      ]
    },
    {
      "cell_type": "markdown",
      "metadata": {
        "id": "ik-nS6pq2BJc"
      },
      "source": [
        "### Running Your First Training Model"
      ]
    },
    {
      "cell_type": "code",
      "metadata": {
        "id": "_6UNJ_dE2BJc"
      },
      "source": [
        "# import statsmodels api as sm\n",
        "import statsmodels.api as sm"
      ],
      "execution_count": 930,
      "outputs": []
    },
    {
      "cell_type": "markdown",
      "metadata": {
        "id": "vKGC-xnw2BJc"
      },
      "source": [
        "Statsmodels provides a Logit() function for performing logistic regression. The Logit() function accepts y and X as parameters and returns the Logit object. The model is then fitted to the data.\n",
        "\n",
        "Reference: https://www.youtube.com/watch?v=JwUj5M8QY4U"
      ]
    },
    {
      "cell_type": "markdown",
      "metadata": {
        "id": "U0PrILFh2BJd"
      },
      "source": [
        "### Splitting Data into Training and Test Sets"
      ]
    },
    {
      "cell_type": "code",
      "metadata": {
        "id": "ab7jaAxa2BJd"
      },
      "source": [
        "# import train_test_split module\n",
        "from sklearn.model_selection import train_test_split"
      ],
      "execution_count": 931,
      "outputs": []
    },
    {
      "cell_type": "code",
      "metadata": {
        "id": "mYe9s0y12BJd"
      },
      "source": [
        "# adding constant to X\n",
        "X= sm.add_constant(X)\n",
        "\n",
        "# Splitting the data into train and test with train_size=0.7 and random_state=100\n",
        "X_train, X_test, y_train, y_test = train_test_split(X, y, train_size = 0.7, random_state = 100)\n"
      ],
      "execution_count": 932,
      "outputs": []
    },
    {
      "cell_type": "code",
      "metadata": {
        "scrolled": false,
        "colab": {
          "base_uri": "https://localhost:8080/"
        },
        "id": "qUt2oTM-2BJd",
        "outputId": "57b18fa7-4101-4ca9-d586-e695bbac4e7a"
      },
      "source": [
        "# Logistic regression model\n",
        "logm1 = sm.Logit(y_train, X_train)\n",
        "\n",
        "#fitting and printing summary\n",
        "res = logm1.fit()\n",
        "print(res.summary())"
      ],
      "execution_count": 933,
      "outputs": [
        {
          "output_type": "stream",
          "text": [
            "Optimization terminated successfully.\n",
            "         Current function value: 0.407291\n",
            "         Iterations 9\n",
            "                           Logit Regression Results                           \n",
            "==============================================================================\n",
            "Dep. Variable:                  Churn   No. Observations:                 4922\n",
            "Model:                          Logit   Df Residuals:                     4898\n",
            "Method:                           MLE   Df Model:                           23\n",
            "Date:                Mon, 23 Aug 2021   Pseudo R-squ.:                  0.2912\n",
            "Time:                        19:01:33   Log-Likelihood:                -2004.7\n",
            "converged:                       True   LL-Null:                       -2828.2\n",
            "Covariance Type:            nonrobust   LLR p-value:                     0.000\n",
            "=========================================================================================================\n",
            "                                            coef    std err          z      P>|z|      [0.025      0.975]\n",
            "---------------------------------------------------------------------------------------------------------\n",
            "const                                     0.5093   8.83e+05   5.77e-07      1.000   -1.73e+06    1.73e+06\n",
            "PhoneService                              0.9441        nan        nan        nan         nan         nan\n",
            "PaperlessBilling                          0.3254      0.090      3.614      0.000       0.149       0.502\n",
            "SeniorCitizen                             0.3984      0.102      3.924      0.000       0.199       0.597\n",
            "Partner                                   0.0374      0.094      0.399      0.690      -0.146       0.221\n",
            "Dependents                               -0.1430      0.107     -1.332      0.183      -0.353       0.067\n",
            "Contract_One year                        -0.6578      0.129     -5.106      0.000      -0.910      -0.405\n",
            "Contract_Two year                        -1.2455      0.212     -5.874      0.000      -1.661      -0.830\n",
            "PaymentMethod_Credit card (automatic)    -0.2577      0.137     -1.883      0.060      -0.526       0.011\n",
            "PaymentMethod_Electronic check            0.1615      0.113      1.434      0.152      -0.059       0.382\n",
            "PaymentMethod_Mailed check               -0.2536      0.137     -1.845      0.065      -0.523       0.016\n",
            "gender_Male                              -0.0346      0.078     -0.442      0.658      -0.188       0.119\n",
            "MultipleLines_No                          0.0066        nan        nan        nan         nan         nan\n",
            "MultipleLines_Yes                         0.5689        nan        nan        nan         nan         nan\n",
            "InternetService_Fiber optic               2.5124      0.967      2.599      0.009       0.618       4.407\n",
            "InternetService_No                       -7.2223   8.34e+05  -8.66e-06      1.000   -1.64e+06    1.64e+06\n",
            "OnlineSecurity_No                        -1.1505        nan        nan        nan         nan         nan\n",
            "OnlineSecurity_Yes                       -1.1750        nan        nan        nan         nan         nan\n",
            "OnlineBackup_No                          -1.0344        nan        nan        nan         nan         nan\n",
            "OnlineBackup_Yes                         -0.8604        nan        nan        nan         nan         nan\n",
            "DeviceProtection_No                      -1.0094   1.49e+06  -6.76e-07      1.000   -2.93e+06    2.93e+06\n",
            "DeviceProtection_Yes                     -0.6865   1.52e+06  -4.53e-07      1.000   -2.97e+06    2.97e+06\n",
            "TechSupport_No                            0.0328   1.65e+06   1.99e-08      1.000   -3.23e+06    3.23e+06\n",
            "TechSupport_Yes                           0.0024   1.79e+06   1.31e-09      1.000   -3.52e+06    3.52e+06\n",
            "StreamingTV_No                           -0.9356        nan        nan        nan         nan         nan\n",
            "StreamingTV_Yes                           0.0242        nan        nan        nan         nan         nan\n",
            "StreamingMovies_No                       -0.3459        nan        nan        nan         nan         nan\n",
            "StreamingMovies_Yes                       0.5024        nan        nan        nan         nan         nan\n",
            "tenure                                   -1.5197      0.190     -8.015      0.000      -1.891      -1.148\n",
            "MonthlyCharges                           -2.1815      1.160     -1.880      0.060      -4.455       0.092\n",
            "TotalCharges                              0.7328      0.198      3.705      0.000       0.345       1.120\n",
            "=========================================================================================================\n"
          ],
          "name": "stdout"
        },
        {
          "output_type": "stream",
          "text": [
            "/usr/local/lib/python3.7/dist-packages/statsmodels/base/model.py:1286: RuntimeWarning: invalid value encountered in sqrt\n",
            "  bse_ = np.sqrt(np.diag(self.cov_params()))\n"
          ],
          "name": "stderr"
        }
      ]
    },
    {
      "cell_type": "markdown",
      "metadata": {
        "id": "9_q24snC2BJd"
      },
      "source": [
        "Hey buddy, from above you can see that there few statistically insignificant variables present in our dataset. Lets drop them off.\n",
        "\n",
        "Here drop those variables which has less than 70% confidence to reject the null hyposthesis looking into P values.\n",
        "\n",
        "Few insignificant variables we can see from above stats summary are:\n",
        " \n",
        "    partner\n",
        "    Dependents\t\n",
        "    PaymentMethod_Electronic check\t\n",
        "    gender_Male\n",
        "    InternetService_No\n",
        "    DeviceProtection_no\n",
        "    DeviceProtection_Yes\n",
        "    \n",
        "So lets drop them off from X\n",
        "\n",
        "Note: We are not dropping const variable as it is required for OLS model building"
      ]
    },
    {
      "cell_type": "code",
      "metadata": {
        "id": "hXna7rOV2BJe"
      },
      "source": [
        "# drop above features from X\n",
        "X.drop(['Partner', 'Dependents', 'PaymentMethod_Electronic check', 'gender_Male', 'InternetService_No', 'DeviceProtection_No', 'DeviceProtection_Yes'], inplace = True, axis = 1)"
      ],
      "execution_count": 934,
      "outputs": []
    },
    {
      "cell_type": "markdown",
      "metadata": {
        "id": "MsuqUvwa2BJe"
      },
      "source": [
        "If you still not sure about what is statistically significant values then check uout this video:\n",
        "    https://www.youtube.com/watch?v=6psBul7K2gw"
      ]
    },
    {
      "cell_type": "markdown",
      "metadata": {
        "id": "sGnbRJiw2BJe"
      },
      "source": [
        "### Correlation Matrix\n",
        "\n",
        "<p style='text-align: right;'> 2 points</p>\n"
      ]
    },
    {
      "cell_type": "code",
      "metadata": {
        "id": "wmOCTLnK2BJf"
      },
      "source": [
        "# Importing matplotlib and seaborn\n",
        "import matplotlib.pyplot as plt\n",
        "import seaborn as sn\n",
        "\n"
      ],
      "execution_count": 935,
      "outputs": []
    },
    {
      "cell_type": "code",
      "metadata": {
        "id": "68qasEAE2BJf",
        "colab": {
          "base_uri": "https://localhost:8080/",
          "height": 0
        },
        "outputId": "596f6efa-f2b3-4dd8-d322-19b26c071f6d"
      },
      "source": [
        "# Let's see the correlation matrix \n",
        "plt.figure(figsize = (20,10))        # Size of the figure\n",
        "sn.heatmap(X.corr(), annot = True)\n",
        "plt.show()"
      ],
      "execution_count": 936,
      "outputs": [
        {
          "output_type": "display_data",
          "data": {
            "image/png": "[encoded data removed]",
            "text/plain": [
              "<Figure size 1440x720 with 2 Axes>"
            ]
          },
          "metadata": {
            "needs_background": "light"
          }
        }
      ]
    },
    {
      "cell_type": "markdown",
      "metadata": {
        "id": "_Jf-S3ad2BJg"
      },
      "source": [
        "### Dropping highly correlated variables.\n",
        "\n",
        "<p style='text-align: right;'> 4 points</p>\n",
        "\n",
        "\n",
        "Check video: https://www.youtube.com/watch?v=FndwYNcVe0U"
      ]
    },
    {
      "cell_type": "code",
      "metadata": {
        "id": "Dnp_qz_Q2BJg"
      },
      "source": [
        "# Write a correlation function to drop correllation function to remove highly correlated variables (>70%)\n",
        "def correlation(dataset, threshold):\n",
        "    col_corr = set()\n",
        "    corr_mat = dataset.corr()\n",
        "    for i in range(len(corr_mat.columns)):\n",
        "      for j in range(i):\n",
        "        if abs(corr_mat.iloc[i, j]) > threshold:\n",
        "          col_name = corr_mat.columns[i]\n",
        "          col_corr.add(col_name)\n",
        "\n",
        "    return col_corr"
      ],
      "execution_count": 937,
      "outputs": []
    },
    {
      "cell_type": "code",
      "metadata": {
        "id": "CXzJbMoE2BJg",
        "colab": {
          "base_uri": "https://localhost:8080/"
        },
        "outputId": "07a411a8-b57d-4c3f-82b1-393c869d9745"
      },
      "source": [
        "#get correlation function output with dataset as X and threshold as 0.7\n",
        "corr_features = correlation(X, 0.7)\n",
        "\n",
        "# print length of corr_features\n",
        "len(corr_features)"
      ],
      "execution_count": 938,
      "outputs": [
        {
          "output_type": "execute_result",
          "data": {
            "text/plain": [
              "3"
            ]
          },
          "metadata": {},
          "execution_count": 938
        }
      ]
    },
    {
      "cell_type": "code",
      "metadata": {
        "id": "bJT3wm_e2BJh",
        "colab": {
          "base_uri": "https://localhost:8080/"
        },
        "outputId": "20267878-80f6-4024-b3b2-ffd7cce62a33"
      },
      "source": [
        "#print corr_features\n",
        "print(corr_features)"
      ],
      "execution_count": 939,
      "outputs": [
        {
          "output_type": "stream",
          "text": [
            "{'MonthlyCharges', 'MultipleLines_Yes', 'TotalCharges'}\n"
          ],
          "name": "stdout"
        }
      ]
    },
    {
      "cell_type": "code",
      "metadata": {
        "id": "1B-oj33g2BJh"
      },
      "source": [
        "# Lets drop the above variables from X\n",
        "X.drop(columns=['MultipleLines_Yes', 'MonthlyCharges', 'TotalCharges'], axis = 1, inplace = True)\n"
      ],
      "execution_count": 940,
      "outputs": []
    },
    {
      "cell_type": "markdown",
      "metadata": {
        "id": "NXsqbTma2BJi"
      },
      "source": [
        "## Dropping Variable with high VIF\n",
        "\n",
        "<p style='text-align: right;'> 5 points</p>\n",
        "\n",
        "\n",
        "Lets check multicollinearity using Variance inflation factor too!\n",
        "\n",
        "Reference: https://www.youtube.com/watch?v=6JpmgzCAusI"
      ]
    },
    {
      "cell_type": "code",
      "metadata": {
        "id": "8YVs--jh2BJi",
        "colab": {
          "base_uri": "https://localhost:8080/"
        },
        "outputId": "6763c8b0-8bdf-4b9a-e15c-ddf074aa8cc7"
      },
      "source": [
        "# Import library for VIF\n",
        "from statsmodels.stats.outliers_influence import variance_inflation_factor\n",
        "\n",
        "# empty dataframe\n",
        "vif=pd.DataFrame()\n",
        "\n",
        "#variables names with all variables in column X\n",
        "vif[\"variables\"] = X.columns\n",
        "\n",
        "# Vif scores for corresponding features\n",
        "vif[\"VIF\"] = [variance_inflation_factor(X.values, i) for i in range(X.shape[1])]\n",
        "vif = vif.sort_values(by = 'VIF',ascending = True)\n"
      ],
      "execution_count": 941,
      "outputs": [
        {
          "output_type": "stream",
          "text": [
            "/usr/local/lib/python3.7/dist-packages/statsmodels/stats/outliers_influence.py:185: RuntimeWarning: divide by zero encountered in double_scalars\n",
            "  vif = 1. / (1. - r_squared_i)\n"
          ],
          "name": "stderr"
        }
      ]
    },
    {
      "cell_type": "code",
      "metadata": {
        "id": "GYVupyoD2BJi",
        "colab": {
          "base_uri": "https://localhost:8080/",
          "height": 700
        },
        "outputId": "d02934f2-f53c-4556-8a3a-9d569cdc36b2"
      },
      "source": [
        "# print vif\n",
        "vif"
      ],
      "execution_count": 942,
      "outputs": [
        {
          "output_type": "execute_result",
          "data": {
            "text/html": [
              "<div>\n",
              "<style scoped>\n",
              "    .dataframe tbody tr th:only-of-type {\n",
              "        vertical-align: middle;\n",
              "    }\n",
              "\n",
              "    .dataframe tbody tr th {\n",
              "        vertical-align: top;\n",
              "    }\n",
              "\n",
              "    .dataframe thead th {\n",
              "        text-align: right;\n",
              "    }\n",
              "</style>\n",
              "<table border=\"1\" class=\"dataframe\">\n",
              "  <thead>\n",
              "    <tr style=\"text-align: right;\">\n",
              "      <th></th>\n",
              "      <th>variables</th>\n",
              "      <th>VIF</th>\n",
              "    </tr>\n",
              "  </thead>\n",
              "  <tbody>\n",
              "    <tr>\n",
              "      <th>3</th>\n",
              "      <td>SeniorCitizen</td>\n",
              "      <td>1.111546</td>\n",
              "    </tr>\n",
              "    <tr>\n",
              "      <th>6</th>\n",
              "      <td>PaymentMethod_Credit card (automatic)</td>\n",
              "      <td>1.167402</td>\n",
              "    </tr>\n",
              "    <tr>\n",
              "      <th>2</th>\n",
              "      <td>PaperlessBilling</td>\n",
              "      <td>1.205664</td>\n",
              "    </tr>\n",
              "    <tr>\n",
              "      <th>7</th>\n",
              "      <td>PaymentMethod_Mailed check</td>\n",
              "      <td>1.368714</td>\n",
              "    </tr>\n",
              "    <tr>\n",
              "      <th>1</th>\n",
              "      <td>PhoneService</td>\n",
              "      <td>1.451676</td>\n",
              "    </tr>\n",
              "    <tr>\n",
              "      <th>8</th>\n",
              "      <td>MultipleLines_No</td>\n",
              "      <td>1.456002</td>\n",
              "    </tr>\n",
              "    <tr>\n",
              "      <th>4</th>\n",
              "      <td>Contract_One year</td>\n",
              "      <td>1.604685</td>\n",
              "    </tr>\n",
              "    <tr>\n",
              "      <th>9</th>\n",
              "      <td>InternetService_Fiber optic</td>\n",
              "      <td>1.988001</td>\n",
              "    </tr>\n",
              "    <tr>\n",
              "      <th>5</th>\n",
              "      <td>Contract_Two year</td>\n",
              "      <td>2.585350</td>\n",
              "    </tr>\n",
              "    <tr>\n",
              "      <th>20</th>\n",
              "      <td>tenure</td>\n",
              "      <td>2.631860</td>\n",
              "    </tr>\n",
              "    <tr>\n",
              "      <th>0</th>\n",
              "      <td>const</td>\n",
              "      <td>26.373113</td>\n",
              "    </tr>\n",
              "    <tr>\n",
              "      <th>11</th>\n",
              "      <td>OnlineSecurity_Yes</td>\n",
              "      <td>inf</td>\n",
              "    </tr>\n",
              "    <tr>\n",
              "      <th>12</th>\n",
              "      <td>OnlineBackup_No</td>\n",
              "      <td>inf</td>\n",
              "    </tr>\n",
              "    <tr>\n",
              "      <th>13</th>\n",
              "      <td>OnlineBackup_Yes</td>\n",
              "      <td>inf</td>\n",
              "    </tr>\n",
              "    <tr>\n",
              "      <th>14</th>\n",
              "      <td>TechSupport_No</td>\n",
              "      <td>inf</td>\n",
              "    </tr>\n",
              "    <tr>\n",
              "      <th>15</th>\n",
              "      <td>TechSupport_Yes</td>\n",
              "      <td>inf</td>\n",
              "    </tr>\n",
              "    <tr>\n",
              "      <th>16</th>\n",
              "      <td>StreamingTV_No</td>\n",
              "      <td>inf</td>\n",
              "    </tr>\n",
              "    <tr>\n",
              "      <th>17</th>\n",
              "      <td>StreamingTV_Yes</td>\n",
              "      <td>inf</td>\n",
              "    </tr>\n",
              "    <tr>\n",
              "      <th>18</th>\n",
              "      <td>StreamingMovies_No</td>\n",
              "      <td>inf</td>\n",
              "    </tr>\n",
              "    <tr>\n",
              "      <th>19</th>\n",
              "      <td>StreamingMovies_Yes</td>\n",
              "      <td>inf</td>\n",
              "    </tr>\n",
              "    <tr>\n",
              "      <th>10</th>\n",
              "      <td>OnlineSecurity_No</td>\n",
              "      <td>inf</td>\n",
              "    </tr>\n",
              "  </tbody>\n",
              "</table>\n",
              "</div>"
            ],
            "text/plain": [
              "                                variables        VIF\n",
              "3                           SeniorCitizen   1.111546\n",
              "6   PaymentMethod_Credit card (automatic)   1.167402\n",
              "2                        PaperlessBilling   1.205664\n",
              "7              PaymentMethod_Mailed check   1.368714\n",
              "1                            PhoneService   1.451676\n",
              "8                        MultipleLines_No   1.456002\n",
              "4                       Contract_One year   1.604685\n",
              "9             InternetService_Fiber optic   1.988001\n",
              "5                       Contract_Two year   2.585350\n",
              "20                                 tenure   2.631860\n",
              "0                                   const  26.373113\n",
              "11                     OnlineSecurity_Yes        inf\n",
              "12                        OnlineBackup_No        inf\n",
              "13                       OnlineBackup_Yes        inf\n",
              "14                         TechSupport_No        inf\n",
              "15                        TechSupport_Yes        inf\n",
              "16                         StreamingTV_No        inf\n",
              "17                        StreamingTV_Yes        inf\n",
              "18                     StreamingMovies_No        inf\n",
              "19                    StreamingMovies_Yes        inf\n",
              "10                      OnlineSecurity_No        inf"
            ]
          },
          "metadata": {},
          "execution_count": 942
        }
      ]
    },
    {
      "cell_type": "markdown",
      "metadata": {
        "id": "WT1Ubp7f2BJj"
      },
      "source": [
        "Lets drop variables which are having infinite vif scores.\n",
        "\n",
        "they are:\n",
        "    \n",
        "    OnlineSecurity_No\n",
        "    OnlineSecurity_Yes\n",
        "    OnlineBackup_No\n",
        "    OnlineBackup_Yes\n",
        "    TechSupport_No\n",
        "    TechSupport_Yes\n",
        "    StreamingTV_No\n",
        "    StreamingTV_Yes\n",
        "    StreamingMovies_No\n",
        "    StreamingMovies_Yes"
      ]
    },
    {
      "cell_type": "code",
      "metadata": {
        "id": "b_X1UWnH2BJj"
      },
      "source": [
        "# Lets drop above variables also from X\n",
        "X.drop(columns = ['OnlineSecurity_No','OnlineSecurity_Yes','OnlineBackup_No', 'OnlineBackup_Yes','TechSupport_No','TechSupport_Yes','StreamingTV_No', 'StreamingTV_Yes', 'StreamingMovies_No', 'StreamingMovies_Yes'], axis = 1, inplace = True)\n",
        "\n"
      ],
      "execution_count": 943,
      "outputs": []
    },
    {
      "cell_type": "markdown",
      "metadata": {
        "id": "bRYGX2jr2BJj"
      },
      "source": [
        "### Checking the Correlation Matrix again"
      ]
    },
    {
      "cell_type": "markdown",
      "metadata": {
        "id": "EixZjaWc2BJj"
      },
      "source": [
        "After dropping highly correlated variables now let's check the correlation matrix again."
      ]
    },
    {
      "cell_type": "code",
      "metadata": {
        "id": "fpf_vd7J2BJj",
        "colab": {
          "base_uri": "https://localhost:8080/",
          "height": 0
        },
        "outputId": "b18ec839-ce27-4fe6-d5fa-3af2cb4c2198"
      },
      "source": [
        "#plot heatmap\n",
        "plt.figure(figsize = (20,10))        # Size of the figure\n",
        "sn.heatmap(X.corr(), annot = True)\n",
        "plt.show()"
      ],
      "execution_count": 944,
      "outputs": [
        {
          "output_type": "display_data",
          "data": {
            "image/png": "[encoded data removed]",
            "text/plain": [
              "<Figure size 1440x720 with 2 Axes>"
            ]
          },
          "metadata": {
            "needs_background": "light"
          }
        }
      ]
    },
    {
      "cell_type": "markdown",
      "metadata": {
        "id": "mYZeJSEk2BJk"
      },
      "source": [
        "### Re-Running the Model\n",
        "\n",
        "<p style='text-align: right;'> 3 points</p>\n"
      ]
    },
    {
      "cell_type": "markdown",
      "metadata": {
        "id": "WDd9GDB32BJk"
      },
      "source": [
        "Now let's run our model again after dropping highly correlated variables"
      ]
    },
    {
      "cell_type": "code",
      "metadata": {
        "id": "kl7ZKcYd2BJk",
        "colab": {
          "base_uri": "https://localhost:8080/"
        },
        "outputId": "0340d96b-fd03-44bc-efa5-0f0cdad5ffef"
      },
      "source": [
        "# Splitting the data into train and test with train_size=0.7 and random_state=100 again\n",
        "X_train, X_test, y_train, y_test = train_test_split(X, y, train_size = 0.7, random_state = 100)\n",
        "\n",
        "# building model again\n",
        "logm2 = sm.Logit(y_train, X_train)\n",
        "res = logm2.fit()\n",
        "#fitting model and printing summary\n",
        "print(res.summary())\n"
      ],
      "execution_count": 945,
      "outputs": [
        {
          "output_type": "stream",
          "text": [
            "Optimization terminated successfully.\n",
            "         Current function value: 0.417905\n",
            "         Iterations 8\n",
            "                           Logit Regression Results                           \n",
            "==============================================================================\n",
            "Dep. Variable:                  Churn   No. Observations:                 4922\n",
            "Model:                          Logit   Df Residuals:                     4911\n",
            "Method:                           MLE   Df Model:                           10\n",
            "Date:                Mon, 23 Aug 2021   Pseudo R-squ.:                  0.2727\n",
            "Time:                        19:01:37   Log-Likelihood:                -2056.9\n",
            "converged:                       True   LL-Null:                       -2828.2\n",
            "Covariance Type:            nonrobust   LLR p-value:                     0.000\n",
            "=========================================================================================================\n",
            "                                            coef    std err          z      P>|z|      [0.025      0.975]\n",
            "---------------------------------------------------------------------------------------------------------\n",
            "const                                    -1.2686      0.151     -8.421      0.000      -1.564      -0.973\n",
            "PhoneService                             -0.4334      0.156     -2.771      0.006      -0.740      -0.127\n",
            "PaperlessBilling                          0.4239      0.088      4.831      0.000       0.252       0.596\n",
            "SeniorCitizen                             0.4801      0.099      4.830      0.000       0.285       0.675\n",
            "Contract_One year                        -0.7379      0.124     -5.973      0.000      -0.980      -0.496\n",
            "Contract_Two year                        -1.4344      0.203     -7.076      0.000      -1.832      -1.037\n",
            "PaymentMethod_Credit card (automatic)    -0.4385      0.112     -3.927      0.000      -0.657      -0.220\n",
            "PaymentMethod_Mailed check               -0.4864      0.107     -4.560      0.000      -0.695      -0.277\n",
            "MultipleLines_No                         -0.3268      0.094     -3.487      0.000      -0.511      -0.143\n",
            "InternetService_Fiber optic               1.2979      0.099     13.065      0.000       1.103       1.493\n",
            "tenure                                   -0.9133      0.063    -14.468      0.000      -1.037      -0.790\n",
            "=========================================================================================================\n"
          ],
          "name": "stdout"
        }
      ]
    },
    {
      "cell_type": "markdown",
      "metadata": {
        "id": "HgqEJDXV2BJk"
      },
      "source": [
        "Now you can see after removing all multicollinear features we got all P values to zero,  so now we can say that all features are statistically significant.\n",
        "\n",
        "### Feature Selection Using RFE\n",
        "\n",
        "<p style='text-align: right;'> 5 points</p>\n",
        "\n",
        "\n",
        "Lets do feature selection using LogisticRegression with RFE"
      ]
    },
    {
      "cell_type": "code",
      "metadata": {
        "id": "dcu8xLx12BJk",
        "colab": {
          "base_uri": "https://localhost:8080/"
        },
        "outputId": "870625e7-2f9a-467f-b9ee-a0ba3187af8f"
      },
      "source": [
        "# import RFE and LogisticRegression\n",
        "from sklearn.feature_selection import RFE\n",
        "from sklearn.linear_model import LogisticRegression\n",
        "\n",
        "\n",
        "# Initiate LogisticRegression()\n",
        "logreg = LogisticRegression()\n",
        "\n",
        " # Initialise RFE \n",
        "rfe = RFE(estimator=logreg)\n",
        "\n",
        "# fitting RFE \n",
        "rfe.fit(X_train, y_train)\n",
        "\n",
        "# Printing the boolean results\n",
        "print(rfe.support_)     \n",
        "# Printing the ranking\n",
        "print(rfe.ranking_)           "
      ],
      "execution_count": 946,
      "outputs": [
        {
          "output_type": "stream",
          "text": [
            "[False  True False False  True  True False False False  True  True]\n",
            "[7 1 3 2 1 1 5 4 6 1 1]\n"
          ],
          "name": "stdout"
        }
      ]
    },
    {
      "cell_type": "code",
      "metadata": {
        "id": "tZw82BhC2BJl",
        "colab": {
          "base_uri": "https://localhost:8080/"
        },
        "outputId": "982a6003-5ed1-4fbf-f83a-cd20405ad7ae"
      },
      "source": [
        "# printing column names which were suppported by RFE\n",
        "X_train.columns[rfe.support_]"
      ],
      "execution_count": 947,
      "outputs": [
        {
          "output_type": "execute_result",
          "data": {
            "text/plain": [
              "Index(['PhoneService', 'Contract_One year', 'Contract_Two year',\n",
              "       'InternetService_Fiber optic', 'tenure'],\n",
              "      dtype='object')"
            ]
          },
          "metadata": {},
          "execution_count": 947
        }
      ]
    },
    {
      "cell_type": "code",
      "metadata": {
        "id": "hmTgZdLR2BJl"
      },
      "source": [
        "# Variables selected by RFE \n",
        "col = X_train.columns[rfe.support_].tolist()"
      ],
      "execution_count": 948,
      "outputs": []
    },
    {
      "cell_type": "code",
      "metadata": {
        "id": "sRN4NZRm2BJl"
      },
      "source": [
        "# Let's run the model using the selected variables but this time we will use Logistic Regression\n",
        "\n",
        "#initialise Logistic Regression\n",
        "logsk = LogisticRegression()\n",
        "\n",
        "#fitting model using above columns as input\n",
        "logsk = logsk.fit(X_train[col], y_train)"
      ],
      "execution_count": 949,
      "outputs": []
    },
    {
      "cell_type": "code",
      "metadata": {
        "id": "IlfEZXeW2BJm",
        "colab": {
          "base_uri": "https://localhost:8080/"
        },
        "outputId": "42e1254a-5d3e-4456-fe84-2f1ec03381bc"
      },
      "source": [
        "#recreating the model with StatsModels with RFE selecte columns\n",
        "logm3 = sm.Logit(y_train, X_train[col])\n",
        "\n",
        "# Fitting and printing model summary\n",
        "res = logm3.fit()\n",
        "print(res.summary())"
      ],
      "execution_count": 950,
      "outputs": [
        {
          "output_type": "stream",
          "text": [
            "Optimization terminated successfully.\n",
            "         Current function value: 0.435736\n",
            "         Iterations 8\n",
            "                           Logit Regression Results                           \n",
            "==============================================================================\n",
            "Dep. Variable:                  Churn   No. Observations:                 4922\n",
            "Model:                          Logit   Df Residuals:                     4917\n",
            "Method:                           MLE   Df Model:                            4\n",
            "Date:                Mon, 23 Aug 2021   Pseudo R-squ.:                  0.2417\n",
            "Time:                        19:01:37   Log-Likelihood:                -2144.7\n",
            "converged:                       True   LL-Null:                       -2828.2\n",
            "Covariance Type:            nonrobust   LLR p-value:                1.009e-294\n",
            "===============================================================================================\n",
            "                                  coef    std err          z      P>|z|      [0.025      0.975]\n",
            "-----------------------------------------------------------------------------------------------\n",
            "PhoneService                   -1.6604      0.085    -19.428      0.000      -1.828      -1.493\n",
            "Contract_One year              -1.2033      0.115    -10.497      0.000      -1.428      -0.979\n",
            "Contract_Two year              -2.1243      0.192    -11.050      0.000      -2.501      -1.748\n",
            "InternetService_Fiber optic     1.6316      0.089     18.334      0.000       1.457       1.806\n",
            "tenure                         -0.6127      0.053    -11.648      0.000      -0.716      -0.510\n",
            "===============================================================================================\n"
          ],
          "name": "stdout"
        }
      ]
    },
    {
      "cell_type": "markdown",
      "metadata": {
        "id": "Xaw8vT2o2BJm"
      },
      "source": [
        "### Making Predictions\n",
        "\n",
        "<p style='text-align: right;'> 14 points</p>\n"
      ]
    },
    {
      "cell_type": "code",
      "metadata": {
        "id": "Y_e8NMA02BJm"
      },
      "source": [
        "# Predicted probabilities\n",
        "y_pred = logsk.predict_proba(X_test[col])"
      ],
      "execution_count": 951,
      "outputs": []
    },
    {
      "cell_type": "code",
      "metadata": {
        "id": "2ZsY0kJT2BJm",
        "colab": {
          "base_uri": "https://localhost:8080/",
          "height": 419
        },
        "outputId": "f7f57337-4e47-45cc-d8f5-1ea56eef825b"
      },
      "source": [
        "# Converting y_pred to a dataframe which is an array\n",
        "y_pred_df = pd.DataFrame(y_pred)\n",
        "y_pred_df"
      ],
      "execution_count": 952,
      "outputs": [
        {
          "output_type": "execute_result",
          "data": {
            "text/html": [
              "<div>\n",
              "<style scoped>\n",
              "    .dataframe tbody tr th:only-of-type {\n",
              "        vertical-align: middle;\n",
              "    }\n",
              "\n",
              "    .dataframe tbody tr th {\n",
              "        vertical-align: top;\n",
              "    }\n",
              "\n",
              "    .dataframe thead th {\n",
              "        text-align: right;\n",
              "    }\n",
              "</style>\n",
              "<table border=\"1\" class=\"dataframe\">\n",
              "  <thead>\n",
              "    <tr style=\"text-align: right;\">\n",
              "      <th></th>\n",
              "      <th>0</th>\n",
              "      <th>1</th>\n",
              "    </tr>\n",
              "  </thead>\n",
              "  <tbody>\n",
              "    <tr>\n",
              "      <th>0</th>\n",
              "      <td>0.465497</td>\n",
              "      <td>0.534503</td>\n",
              "    </tr>\n",
              "    <tr>\n",
              "      <th>1</th>\n",
              "      <td>0.707265</td>\n",
              "      <td>0.292735</td>\n",
              "    </tr>\n",
              "    <tr>\n",
              "      <th>2</th>\n",
              "      <td>0.986537</td>\n",
              "      <td>0.013463</td>\n",
              "    </tr>\n",
              "    <tr>\n",
              "      <th>3</th>\n",
              "      <td>0.299559</td>\n",
              "      <td>0.700441</td>\n",
              "    </tr>\n",
              "    <tr>\n",
              "      <th>4</th>\n",
              "      <td>0.977437</td>\n",
              "      <td>0.022563</td>\n",
              "    </tr>\n",
              "    <tr>\n",
              "      <th>...</th>\n",
              "      <td>...</td>\n",
              "      <td>...</td>\n",
              "    </tr>\n",
              "    <tr>\n",
              "      <th>2105</th>\n",
              "      <td>0.975264</td>\n",
              "      <td>0.024736</td>\n",
              "    </tr>\n",
              "    <tr>\n",
              "      <th>2106</th>\n",
              "      <td>0.950746</td>\n",
              "      <td>0.049254</td>\n",
              "    </tr>\n",
              "    <tr>\n",
              "      <th>2107</th>\n",
              "      <td>0.990381</td>\n",
              "      <td>0.009619</td>\n",
              "    </tr>\n",
              "    <tr>\n",
              "      <th>2108</th>\n",
              "      <td>0.701747</td>\n",
              "      <td>0.298253</td>\n",
              "    </tr>\n",
              "    <tr>\n",
              "      <th>2109</th>\n",
              "      <td>0.990953</td>\n",
              "      <td>0.009047</td>\n",
              "    </tr>\n",
              "  </tbody>\n",
              "</table>\n",
              "<p>2110 rows × 2 columns</p>\n",
              "</div>"
            ],
            "text/plain": [
              "             0         1\n",
              "0     0.465497  0.534503\n",
              "1     0.707265  0.292735\n",
              "2     0.986537  0.013463\n",
              "3     0.299559  0.700441\n",
              "4     0.977437  0.022563\n",
              "...        ...       ...\n",
              "2105  0.975264  0.024736\n",
              "2106  0.950746  0.049254\n",
              "2107  0.990381  0.009619\n",
              "2108  0.701747  0.298253\n",
              "2109  0.990953  0.009047\n",
              "\n",
              "[2110 rows x 2 columns]"
            ]
          },
          "metadata": {},
          "execution_count": 952
        }
      ]
    },
    {
      "cell_type": "code",
      "metadata": {
        "id": "V13cIXRk2BJm"
      },
      "source": [
        "# Converting to column dataframe\n",
        "y_pred_1 = pd.DataFrame(y_pred_df[1].values)"
      ],
      "execution_count": 953,
      "outputs": []
    },
    {
      "cell_type": "code",
      "metadata": {
        "id": "yKvL_LgG2BJn",
        "colab": {
          "base_uri": "https://localhost:8080/",
          "height": 204
        },
        "outputId": "672dc3d5-98f7-400d-f50f-26520fcd9e95"
      },
      "source": [
        "# Let's see the head\n",
        "y_pred_1.head()"
      ],
      "execution_count": 954,
      "outputs": [
        {
          "output_type": "execute_result",
          "data": {
            "text/html": [
              "<div>\n",
              "<style scoped>\n",
              "    .dataframe tbody tr th:only-of-type {\n",
              "        vertical-align: middle;\n",
              "    }\n",
              "\n",
              "    .dataframe tbody tr th {\n",
              "        vertical-align: top;\n",
              "    }\n",
              "\n",
              "    .dataframe thead th {\n",
              "        text-align: right;\n",
              "    }\n",
              "</style>\n",
              "<table border=\"1\" class=\"dataframe\">\n",
              "  <thead>\n",
              "    <tr style=\"text-align: right;\">\n",
              "      <th></th>\n",
              "      <th>0</th>\n",
              "    </tr>\n",
              "  </thead>\n",
              "  <tbody>\n",
              "    <tr>\n",
              "      <th>0</th>\n",
              "      <td>0.534503</td>\n",
              "    </tr>\n",
              "    <tr>\n",
              "      <th>1</th>\n",
              "      <td>0.292735</td>\n",
              "    </tr>\n",
              "    <tr>\n",
              "      <th>2</th>\n",
              "      <td>0.013463</td>\n",
              "    </tr>\n",
              "    <tr>\n",
              "      <th>3</th>\n",
              "      <td>0.700441</td>\n",
              "    </tr>\n",
              "    <tr>\n",
              "      <th>4</th>\n",
              "      <td>0.022563</td>\n",
              "    </tr>\n",
              "  </tbody>\n",
              "</table>\n",
              "</div>"
            ],
            "text/plain": [
              "          0\n",
              "0  0.534503\n",
              "1  0.292735\n",
              "2  0.013463\n",
              "3  0.700441\n",
              "4  0.022563"
            ]
          },
          "metadata": {},
          "execution_count": 954
        }
      ]
    },
    {
      "cell_type": "code",
      "metadata": {
        "id": "8fsT_bAW2BJn"
      },
      "source": [
        "# Converting y_test to dataframe\n",
        "y_test_df = pd.DataFrame(y_test)"
      ],
      "execution_count": 955,
      "outputs": []
    },
    {
      "cell_type": "code",
      "metadata": {
        "id": "zMXWdRfG2BJn",
        "colab": {
          "base_uri": "https://localhost:8080/",
          "height": 419
        },
        "outputId": "c5484fe2-0c53-40c3-8ec9-84fbfa04da70"
      },
      "source": [
        "# Putting CustID to index\n",
        "y_test_df['CustID'] = y_test_df.index\n",
        "y_test_df"
      ],
      "execution_count": 956,
      "outputs": [
        {
          "output_type": "execute_result",
          "data": {
            "text/html": [
              "<div>\n",
              "<style scoped>\n",
              "    .dataframe tbody tr th:only-of-type {\n",
              "        vertical-align: middle;\n",
              "    }\n",
              "\n",
              "    .dataframe tbody tr th {\n",
              "        vertical-align: top;\n",
              "    }\n",
              "\n",
              "    .dataframe thead th {\n",
              "        text-align: right;\n",
              "    }\n",
              "</style>\n",
              "<table border=\"1\" class=\"dataframe\">\n",
              "  <thead>\n",
              "    <tr style=\"text-align: right;\">\n",
              "      <th></th>\n",
              "      <th>Churn</th>\n",
              "      <th>CustID</th>\n",
              "    </tr>\n",
              "  </thead>\n",
              "  <tbody>\n",
              "    <tr>\n",
              "      <th>939</th>\n",
              "      <td>0</td>\n",
              "      <td>939</td>\n",
              "    </tr>\n",
              "    <tr>\n",
              "      <th>3724</th>\n",
              "      <td>1</td>\n",
              "      <td>3724</td>\n",
              "    </tr>\n",
              "    <tr>\n",
              "      <th>1756</th>\n",
              "      <td>0</td>\n",
              "      <td>1756</td>\n",
              "    </tr>\n",
              "    <tr>\n",
              "      <th>2278</th>\n",
              "      <td>1</td>\n",
              "      <td>2278</td>\n",
              "    </tr>\n",
              "    <tr>\n",
              "      <th>1867</th>\n",
              "      <td>0</td>\n",
              "      <td>1867</td>\n",
              "    </tr>\n",
              "    <tr>\n",
              "      <th>...</th>\n",
              "      <td>...</td>\n",
              "      <td>...</td>\n",
              "    </tr>\n",
              "    <tr>\n",
              "      <th>1285</th>\n",
              "      <td>0</td>\n",
              "      <td>1285</td>\n",
              "    </tr>\n",
              "    <tr>\n",
              "      <th>3502</th>\n",
              "      <td>0</td>\n",
              "      <td>3502</td>\n",
              "    </tr>\n",
              "    <tr>\n",
              "      <th>6754</th>\n",
              "      <td>0</td>\n",
              "      <td>6754</td>\n",
              "    </tr>\n",
              "    <tr>\n",
              "      <th>3592</th>\n",
              "      <td>0</td>\n",
              "      <td>3592</td>\n",
              "    </tr>\n",
              "    <tr>\n",
              "      <th>4979</th>\n",
              "      <td>0</td>\n",
              "      <td>4979</td>\n",
              "    </tr>\n",
              "  </tbody>\n",
              "</table>\n",
              "<p>2110 rows × 2 columns</p>\n",
              "</div>"
            ],
            "text/plain": [
              "      Churn  CustID\n",
              "939       0     939\n",
              "3724      1    3724\n",
              "1756      0    1756\n",
              "2278      1    2278\n",
              "1867      0    1867\n",
              "...     ...     ...\n",
              "1285      0    1285\n",
              "3502      0    3502\n",
              "6754      0    6754\n",
              "3592      0    3592\n",
              "4979      0    4979\n",
              "\n",
              "[2110 rows x 2 columns]"
            ]
          },
          "metadata": {},
          "execution_count": 956
        }
      ]
    },
    {
      "cell_type": "code",
      "metadata": {
        "id": "p-eaplS22BJn"
      },
      "source": [
        "# Removing index for both dataframes to append them side by side \n",
        "y_test_df.reset_index(drop = True, inplace = True)\n",
        "y_pred_1.reset_index(drop = True, inplace = True)"
      ],
      "execution_count": 957,
      "outputs": []
    },
    {
      "cell_type": "code",
      "metadata": {
        "id": "kIXfWj-l2BJn",
        "colab": {
          "base_uri": "https://localhost:8080/",
          "height": 419
        },
        "outputId": "5a7d13ff-f37c-462c-e14a-d166bc205bbb"
      },
      "source": [
        "# Appending y_test_df and y_pred_1\n",
        "y_pred_final = pd.concat([y_test_df, y_pred_1], axis = 1)\n",
        "y_pred_final"
      ],
      "execution_count": 958,
      "outputs": [
        {
          "output_type": "execute_result",
          "data": {
            "text/html": [
              "<div>\n",
              "<style scoped>\n",
              "    .dataframe tbody tr th:only-of-type {\n",
              "        vertical-align: middle;\n",
              "    }\n",
              "\n",
              "    .dataframe tbody tr th {\n",
              "        vertical-align: top;\n",
              "    }\n",
              "\n",
              "    .dataframe thead th {\n",
              "        text-align: right;\n",
              "    }\n",
              "</style>\n",
              "<table border=\"1\" class=\"dataframe\">\n",
              "  <thead>\n",
              "    <tr style=\"text-align: right;\">\n",
              "      <th></th>\n",
              "      <th>Churn</th>\n",
              "      <th>CustID</th>\n",
              "      <th>0</th>\n",
              "    </tr>\n",
              "  </thead>\n",
              "  <tbody>\n",
              "    <tr>\n",
              "      <th>0</th>\n",
              "      <td>0</td>\n",
              "      <td>939</td>\n",
              "      <td>0.534503</td>\n",
              "    </tr>\n",
              "    <tr>\n",
              "      <th>1</th>\n",
              "      <td>1</td>\n",
              "      <td>3724</td>\n",
              "      <td>0.292735</td>\n",
              "    </tr>\n",
              "    <tr>\n",
              "      <th>2</th>\n",
              "      <td>0</td>\n",
              "      <td>1756</td>\n",
              "      <td>0.013463</td>\n",
              "    </tr>\n",
              "    <tr>\n",
              "      <th>3</th>\n",
              "      <td>1</td>\n",
              "      <td>2278</td>\n",
              "      <td>0.700441</td>\n",
              "    </tr>\n",
              "    <tr>\n",
              "      <th>4</th>\n",
              "      <td>0</td>\n",
              "      <td>1867</td>\n",
              "      <td>0.022563</td>\n",
              "    </tr>\n",
              "    <tr>\n",
              "      <th>...</th>\n",
              "      <td>...</td>\n",
              "      <td>...</td>\n",
              "      <td>...</td>\n",
              "    </tr>\n",
              "    <tr>\n",
              "      <th>2105</th>\n",
              "      <td>0</td>\n",
              "      <td>1285</td>\n",
              "      <td>0.024736</td>\n",
              "    </tr>\n",
              "    <tr>\n",
              "      <th>2106</th>\n",
              "      <td>0</td>\n",
              "      <td>3502</td>\n",
              "      <td>0.049254</td>\n",
              "    </tr>\n",
              "    <tr>\n",
              "      <th>2107</th>\n",
              "      <td>0</td>\n",
              "      <td>6754</td>\n",
              "      <td>0.009619</td>\n",
              "    </tr>\n",
              "    <tr>\n",
              "      <th>2108</th>\n",
              "      <td>0</td>\n",
              "      <td>3592</td>\n",
              "      <td>0.298253</td>\n",
              "    </tr>\n",
              "    <tr>\n",
              "      <th>2109</th>\n",
              "      <td>0</td>\n",
              "      <td>4979</td>\n",
              "      <td>0.009047</td>\n",
              "    </tr>\n",
              "  </tbody>\n",
              "</table>\n",
              "<p>2110 rows × 3 columns</p>\n",
              "</div>"
            ],
            "text/plain": [
              "      Churn  CustID         0\n",
              "0         0     939  0.534503\n",
              "1         1    3724  0.292735\n",
              "2         0    1756  0.013463\n",
              "3         1    2278  0.700441\n",
              "4         0    1867  0.022563\n",
              "...     ...     ...       ...\n",
              "2105      0    1285  0.024736\n",
              "2106      0    3502  0.049254\n",
              "2107      0    6754  0.009619\n",
              "2108      0    3592  0.298253\n",
              "2109      0    4979  0.009047\n",
              "\n",
              "[2110 rows x 3 columns]"
            ]
          },
          "metadata": {},
          "execution_count": 958
        }
      ]
    },
    {
      "cell_type": "code",
      "metadata": {
        "id": "RS7Ii2ze2BJo"
      },
      "source": [
        "# Renaming the column \n",
        "y_pred_final = y_pred_final.rename(columns={0: \"Churn_Probability\"})"
      ],
      "execution_count": 959,
      "outputs": []
    },
    {
      "cell_type": "code",
      "metadata": {
        "id": "b35gjeC22BJo",
        "colab": {
          "base_uri": "https://localhost:8080/",
          "height": 419
        },
        "outputId": "bc1dc175-d812-4a26-983b-d4806e544fd7"
      },
      "source": [
        "#printing y_pred_final\n",
        "y_pred_final"
      ],
      "execution_count": 960,
      "outputs": [
        {
          "output_type": "execute_result",
          "data": {
            "text/html": [
              "<div>\n",
              "<style scoped>\n",
              "    .dataframe tbody tr th:only-of-type {\n",
              "        vertical-align: middle;\n",
              "    }\n",
              "\n",
              "    .dataframe tbody tr th {\n",
              "        vertical-align: top;\n",
              "    }\n",
              "\n",
              "    .dataframe thead th {\n",
              "        text-align: right;\n",
              "    }\n",
              "</style>\n",
              "<table border=\"1\" class=\"dataframe\">\n",
              "  <thead>\n",
              "    <tr style=\"text-align: right;\">\n",
              "      <th></th>\n",
              "      <th>Churn</th>\n",
              "      <th>CustID</th>\n",
              "      <th>Churn_Probability</th>\n",
              "    </tr>\n",
              "  </thead>\n",
              "  <tbody>\n",
              "    <tr>\n",
              "      <th>0</th>\n",
              "      <td>0</td>\n",
              "      <td>939</td>\n",
              "      <td>0.534503</td>\n",
              "    </tr>\n",
              "    <tr>\n",
              "      <th>1</th>\n",
              "      <td>1</td>\n",
              "      <td>3724</td>\n",
              "      <td>0.292735</td>\n",
              "    </tr>\n",
              "    <tr>\n",
              "      <th>2</th>\n",
              "      <td>0</td>\n",
              "      <td>1756</td>\n",
              "      <td>0.013463</td>\n",
              "    </tr>\n",
              "    <tr>\n",
              "      <th>3</th>\n",
              "      <td>1</td>\n",
              "      <td>2278</td>\n",
              "      <td>0.700441</td>\n",
              "    </tr>\n",
              "    <tr>\n",
              "      <th>4</th>\n",
              "      <td>0</td>\n",
              "      <td>1867</td>\n",
              "      <td>0.022563</td>\n",
              "    </tr>\n",
              "    <tr>\n",
              "      <th>...</th>\n",
              "      <td>...</td>\n",
              "      <td>...</td>\n",
              "      <td>...</td>\n",
              "    </tr>\n",
              "    <tr>\n",
              "      <th>2105</th>\n",
              "      <td>0</td>\n",
              "      <td>1285</td>\n",
              "      <td>0.024736</td>\n",
              "    </tr>\n",
              "    <tr>\n",
              "      <th>2106</th>\n",
              "      <td>0</td>\n",
              "      <td>3502</td>\n",
              "      <td>0.049254</td>\n",
              "    </tr>\n",
              "    <tr>\n",
              "      <th>2107</th>\n",
              "      <td>0</td>\n",
              "      <td>6754</td>\n",
              "      <td>0.009619</td>\n",
              "    </tr>\n",
              "    <tr>\n",
              "      <th>2108</th>\n",
              "      <td>0</td>\n",
              "      <td>3592</td>\n",
              "      <td>0.298253</td>\n",
              "    </tr>\n",
              "    <tr>\n",
              "      <th>2109</th>\n",
              "      <td>0</td>\n",
              "      <td>4979</td>\n",
              "      <td>0.009047</td>\n",
              "    </tr>\n",
              "  </tbody>\n",
              "</table>\n",
              "<p>2110 rows × 3 columns</p>\n",
              "</div>"
            ],
            "text/plain": [
              "      Churn  CustID  Churn_Probability\n",
              "0         0     939           0.534503\n",
              "1         1    3724           0.292735\n",
              "2         0    1756           0.013463\n",
              "3         1    2278           0.700441\n",
              "4         0    1867           0.022563\n",
              "...     ...     ...                ...\n",
              "2105      0    1285           0.024736\n",
              "2106      0    3502           0.049254\n",
              "2107      0    6754           0.009619\n",
              "2108      0    3592           0.298253\n",
              "2109      0    4979           0.009047\n",
              "\n",
              "[2110 rows x 3 columns]"
            ]
          },
          "metadata": {},
          "execution_count": 960
        }
      ]
    },
    {
      "cell_type": "code",
      "metadata": {
        "id": "SkpMHY-o2BJo"
      },
      "source": [
        "# Rearranging the columns\n",
        "y_pred_final = y_pred_final[['CustID', 'Churn', 'Churn_Probability']]"
      ],
      "execution_count": 961,
      "outputs": []
    },
    {
      "cell_type": "code",
      "metadata": {
        "id": "vvSLVjC02BJo",
        "colab": {
          "base_uri": "https://localhost:8080/",
          "height": 204
        },
        "outputId": "6d04c346-3b5b-44a1-e28e-837b5939c67f"
      },
      "source": [
        "# Let's see the head of y_pred_final\n",
        "y_pred_final.head()"
      ],
      "execution_count": 962,
      "outputs": [
        {
          "output_type": "execute_result",
          "data": {
            "text/html": [
              "<div>\n",
              "<style scoped>\n",
              "    .dataframe tbody tr th:only-of-type {\n",
              "        vertical-align: middle;\n",
              "    }\n",
              "\n",
              "    .dataframe tbody tr th {\n",
              "        vertical-align: top;\n",
              "    }\n",
              "\n",
              "    .dataframe thead th {\n",
              "        text-align: right;\n",
              "    }\n",
              "</style>\n",
              "<table border=\"1\" class=\"dataframe\">\n",
              "  <thead>\n",
              "    <tr style=\"text-align: right;\">\n",
              "      <th></th>\n",
              "      <th>CustID</th>\n",
              "      <th>Churn</th>\n",
              "      <th>Churn_Probability</th>\n",
              "    </tr>\n",
              "  </thead>\n",
              "  <tbody>\n",
              "    <tr>\n",
              "      <th>0</th>\n",
              "      <td>939</td>\n",
              "      <td>0</td>\n",
              "      <td>0.534503</td>\n",
              "    </tr>\n",
              "    <tr>\n",
              "      <th>1</th>\n",
              "      <td>3724</td>\n",
              "      <td>1</td>\n",
              "      <td>0.292735</td>\n",
              "    </tr>\n",
              "    <tr>\n",
              "      <th>2</th>\n",
              "      <td>1756</td>\n",
              "      <td>0</td>\n",
              "      <td>0.013463</td>\n",
              "    </tr>\n",
              "    <tr>\n",
              "      <th>3</th>\n",
              "      <td>2278</td>\n",
              "      <td>1</td>\n",
              "      <td>0.700441</td>\n",
              "    </tr>\n",
              "    <tr>\n",
              "      <th>4</th>\n",
              "      <td>1867</td>\n",
              "      <td>0</td>\n",
              "      <td>0.022563</td>\n",
              "    </tr>\n",
              "  </tbody>\n",
              "</table>\n",
              "</div>"
            ],
            "text/plain": [
              "   CustID  Churn  Churn_Probability\n",
              "0     939      0           0.534503\n",
              "1    3724      1           0.292735\n",
              "2    1756      0           0.013463\n",
              "3    2278      1           0.700441\n",
              "4    1867      0           0.022563"
            ]
          },
          "metadata": {},
          "execution_count": 962
        }
      ]
    },
    {
      "cell_type": "code",
      "metadata": {
        "id": "2woHy7JG2BJo",
        "colab": {
          "base_uri": "https://localhost:8080/"
        },
        "outputId": "d93d7641-cbe1-4f2b-deab-9b9e25340b6d"
      },
      "source": [
        "# Creating new column 'predicted' with 1 if Churn_Prob>0.5 else 0\n",
        "y_pred_final['predicted'] = y_pred_final['Churn_Probability'].map(lambda x: 1 if x > 0.5 else 0)"
      ],
      "execution_count": 963,
      "outputs": [
        {
          "output_type": "stream",
          "text": [
            "/usr/local/lib/python3.7/dist-packages/ipykernel_launcher.py:2: SettingWithCopyWarning: \n",
            "A value is trying to be set on a copy of a slice from a DataFrame.\n",
            "Try using .loc[row_indexer,col_indexer] = value instead\n",
            "\n",
            "See the caveats in the documentation: https://pandas.pydata.org/pandas-docs/stable/user_guide/indexing.html#returning-a-view-versus-a-copy\n",
            "  \n"
          ],
          "name": "stderr"
        }
      ]
    },
    {
      "cell_type": "code",
      "metadata": {
        "id": "Kh2xGWkF2BJp",
        "colab": {
          "base_uri": "https://localhost:8080/",
          "height": 204
        },
        "outputId": "cce0fc2a-c683-456d-dbd5-14415dcaffd4"
      },
      "source": [
        "# Let's see the head\n",
        "y_pred_final.head()\n"
      ],
      "execution_count": 964,
      "outputs": [
        {
          "output_type": "execute_result",
          "data": {
            "text/html": [
              "<div>\n",
              "<style scoped>\n",
              "    .dataframe tbody tr th:only-of-type {\n",
              "        vertical-align: middle;\n",
              "    }\n",
              "\n",
              "    .dataframe tbody tr th {\n",
              "        vertical-align: top;\n",
              "    }\n",
              "\n",
              "    .dataframe thead th {\n",
              "        text-align: right;\n",
              "    }\n",
              "</style>\n",
              "<table border=\"1\" class=\"dataframe\">\n",
              "  <thead>\n",
              "    <tr style=\"text-align: right;\">\n",
              "      <th></th>\n",
              "      <th>CustID</th>\n",
              "      <th>Churn</th>\n",
              "      <th>Churn_Probability</th>\n",
              "      <th>predicted</th>\n",
              "    </tr>\n",
              "  </thead>\n",
              "  <tbody>\n",
              "    <tr>\n",
              "      <th>0</th>\n",
              "      <td>939</td>\n",
              "      <td>0</td>\n",
              "      <td>0.534503</td>\n",
              "      <td>1</td>\n",
              "    </tr>\n",
              "    <tr>\n",
              "      <th>1</th>\n",
              "      <td>3724</td>\n",
              "      <td>1</td>\n",
              "      <td>0.292735</td>\n",
              "      <td>0</td>\n",
              "    </tr>\n",
              "    <tr>\n",
              "      <th>2</th>\n",
              "      <td>1756</td>\n",
              "      <td>0</td>\n",
              "      <td>0.013463</td>\n",
              "      <td>0</td>\n",
              "    </tr>\n",
              "    <tr>\n",
              "      <th>3</th>\n",
              "      <td>2278</td>\n",
              "      <td>1</td>\n",
              "      <td>0.700441</td>\n",
              "      <td>1</td>\n",
              "    </tr>\n",
              "    <tr>\n",
              "      <th>4</th>\n",
              "      <td>1867</td>\n",
              "      <td>0</td>\n",
              "      <td>0.022563</td>\n",
              "      <td>0</td>\n",
              "    </tr>\n",
              "  </tbody>\n",
              "</table>\n",
              "</div>"
            ],
            "text/plain": [
              "   CustID  Churn  Churn_Probability  predicted\n",
              "0     939      0           0.534503          1\n",
              "1    3724      1           0.292735          0\n",
              "2    1756      0           0.013463          0\n",
              "3    2278      1           0.700441          1\n",
              "4    1867      0           0.022563          0"
            ]
          },
          "metadata": {},
          "execution_count": 964
        }
      ]
    },
    {
      "cell_type": "markdown",
      "metadata": {
        "id": "Hi__5zT82BJp"
      },
      "source": [
        "### Model Evaluation\n",
        "\n",
        "<p style='text-align: right;'> 11 points</p>\n",
        "\n",
        "\n",
        "Choosing the right metric is very important in any classification problem.\n",
        "To know about various metrics for classification model evaluation refer: https://www.youtube.com/watch?v=aWAnNHXIKww\n",
        "and https://www.youtube.com/watch?v=A_ZKMsZ3f3o\n",
        "\n",
        "\n",
        "Lets check Confusion matrix for model evaluation\n"
      ]
    },
    {
      "cell_type": "code",
      "metadata": {
        "id": "pIRE8Pcj2BJp"
      },
      "source": [
        "# import metrics \n",
        "from sklearn import metrics"
      ],
      "execution_count": 965,
      "outputs": []
    },
    {
      "cell_type": "code",
      "metadata": {
        "id": "-RC15COU2BJp",
        "colab": {
          "base_uri": "https://localhost:8080/"
        },
        "outputId": "ba855b0d-5d4a-489f-83a1-5968f0be1741"
      },
      "source": [
        "# Lets check what all things python provides us in confusion matrix using help function.\n",
        "help(metrics.confusion_matrix)\n"
      ],
      "execution_count": 966,
      "outputs": [
        {
          "output_type": "stream",
          "text": [
            "Help on function confusion_matrix in module sklearn.metrics._classification:\n",
            "\n",
            "confusion_matrix(y_true, y_pred, labels=None, sample_weight=None, normalize=None)\n",
            "    Compute confusion matrix to evaluate the accuracy of a classification.\n",
            "    \n",
            "    By definition a confusion matrix :math:`C` is such that :math:`C_{i, j}`\n",
            "    is equal to the number of observations known to be in group :math:`i` and\n",
            "    predicted to be in group :math:`j`.\n",
            "    \n",
            "    Thus in binary classification, the count of true negatives is\n",
            "    :math:`C_{0,0}`, false negatives is :math:`C_{1,0}`, true positives is\n",
            "    :math:`C_{1,1}` and false positives is :math:`C_{0,1}`.\n",
            "    \n",
            "    Read more in the :ref:`User Guide <confusion_matrix>`.\n",
            "    \n",
            "    Parameters\n",
            "    ----------\n",
            "    y_true : array-like of shape (n_samples,)\n",
            "        Ground truth (correct) target values.\n",
            "    \n",
            "    y_pred : array-like of shape (n_samples,)\n",
            "        Estimated targets as returned by a classifier.\n",
            "    \n",
            "    labels : array-like of shape (n_classes), default=None\n",
            "        List of labels to index the matrix. This may be used to reorder\n",
            "        or select a subset of labels.\n",
            "        If ``None`` is given, those that appear at least once\n",
            "        in ``y_true`` or ``y_pred`` are used in sorted order.\n",
            "    \n",
            "    sample_weight : array-like of shape (n_samples,), default=None\n",
            "        Sample weights.\n",
            "    \n",
            "    normalize : {'true', 'pred', 'all'}, default=None\n",
            "        Normalizes confusion matrix over the true (rows), predicted (columns)\n",
            "        conditions or all the population. If None, confusion matrix will not be\n",
            "        normalized.\n",
            "    \n",
            "    Returns\n",
            "    -------\n",
            "    C : ndarray of shape (n_classes, n_classes)\n",
            "        Confusion matrix.\n",
            "    \n",
            "    References\n",
            "    ----------\n",
            "    .. [1] `Wikipedia entry for the Confusion matrix\n",
            "           <https://en.wikipedia.org/wiki/Confusion_matrix>`_\n",
            "           (Wikipedia and other references may use a different\n",
            "           convention for axes)\n",
            "    \n",
            "    Examples\n",
            "    --------\n",
            "    >>> from sklearn.metrics import confusion_matrix\n",
            "    >>> y_true = [2, 0, 2, 2, 0, 1]\n",
            "    >>> y_pred = [0, 0, 2, 2, 0, 2]\n",
            "    >>> confusion_matrix(y_true, y_pred)\n",
            "    array([[2, 0, 0],\n",
            "           [0, 0, 1],\n",
            "           [1, 0, 2]])\n",
            "    \n",
            "    >>> y_true = [\"cat\", \"ant\", \"cat\", \"cat\", \"ant\", \"bird\"]\n",
            "    >>> y_pred = [\"ant\", \"ant\", \"cat\", \"cat\", \"ant\", \"cat\"]\n",
            "    >>> confusion_matrix(y_true, y_pred, labels=[\"ant\", \"bird\", \"cat\"])\n",
            "    array([[2, 0, 0],\n",
            "           [0, 0, 1],\n",
            "           [1, 0, 2]])\n",
            "    \n",
            "    In the binary case, we can extract true positives, etc as follows:\n",
            "    \n",
            "    >>> tn, fp, fn, tp = confusion_matrix([0, 1, 0, 1], [1, 1, 1, 0]).ravel()\n",
            "    >>> (tn, fp, fn, tp)\n",
            "    (0, 2, 1, 1)\n",
            "\n"
          ],
          "name": "stdout"
        }
      ]
    },
    {
      "cell_type": "markdown",
      "metadata": {
        "id": "dgU3LwPP2BJq"
      },
      "source": [
        "You can also refer this short video to undertand confusion metrics https://www.youtube.com/watch?v=Kdsp6soqA7o\n",
        "\n",
        "Also its practical approach using python given in https://www.youtube.com/watch?v=TtIjAiSojFE"
      ]
    },
    {
      "cell_type": "code",
      "metadata": {
        "id": "q9dd6BFf2BJq",
        "colab": {
          "base_uri": "https://localhost:8080/"
        },
        "outputId": "8bcb9b2b-12ee-482c-9dc3-094769c608d0"
      },
      "source": [
        "# get Confusion matrix \n",
        "confusion = metrics.confusion_matrix(y_pred_final['Churn'], y_pred_final['predicted'])\n",
        "\n",
        "#print confusion matrix\n",
        "confusion"
      ],
      "execution_count": 967,
      "outputs": [
        {
          "output_type": "execute_result",
          "data": {
            "text/plain": [
              "array([[1363,  165],\n",
              "       [ 303,  279]])"
            ]
          },
          "metadata": {},
          "execution_count": 967
        }
      ]
    },
    {
      "cell_type": "code",
      "metadata": {
        "id": "NbyNy6fQ2BJq"
      },
      "source": [
        "# meaning of above confusion matrix is\n",
        "\n",
        "# Predicted     not_churn    churn\n",
        "# Actual\n",
        "# not_churn        1363      165\n",
        "# churn            273       309"
      ],
      "execution_count": 968,
      "outputs": []
    },
    {
      "cell_type": "code",
      "metadata": {
        "id": "VOQziUVL2BJq",
        "colab": {
          "base_uri": "https://localhost:8080/"
        },
        "outputId": "1ac3d65a-647b-4d62-b8a1-7410a9448a81"
      },
      "source": [
        "#Let's check the overall accuracy.\n",
        "print(metrics.accuracy_score(y_pred_final['Churn'], y_pred_final['predicted']))"
      ],
      "execution_count": 969,
      "outputs": [
        {
          "output_type": "stream",
          "text": [
            "0.7781990521327015\n"
          ],
          "name": "stdout"
        }
      ]
    },
    {
      "cell_type": "code",
      "metadata": {
        "id": "K3F_6vis2BJr"
      },
      "source": [
        "# Lets check true positive ,true negatives,false positives and false negatives\n",
        "\n",
        "TP = confusion[1][1]# true positive \n",
        "TN = confusion[0][0]# true negatives\n",
        "FP = confusion[0][1]# false positives\n",
        "FN = confusion[1][0]# false negatives"
      ],
      "execution_count": 970,
      "outputs": []
    },
    {
      "cell_type": "code",
      "metadata": {
        "id": "bhMu54mF2BJr",
        "colab": {
          "base_uri": "https://localhost:8080/"
        },
        "outputId": "b254f912-6386-423f-b285-6057682e8887"
      },
      "source": [
        "# Let's see the sensitivity of our logistic regression model\n",
        "print(TP/(TP+FN))"
      ],
      "execution_count": 971,
      "outputs": [
        {
          "output_type": "stream",
          "text": [
            "0.4793814432989691\n"
          ],
          "name": "stdout"
        }
      ]
    },
    {
      "cell_type": "code",
      "metadata": {
        "id": "RMi6vJ0Y2BJr",
        "colab": {
          "base_uri": "https://localhost:8080/"
        },
        "outputId": "847847de-1244-4c93-d9cf-8c4cb0bffe8d"
      },
      "source": [
        "# Let us calculate specificity\n",
        "print(TN/(TN+FP))"
      ],
      "execution_count": 972,
      "outputs": [
        {
          "output_type": "stream",
          "text": [
            "0.8920157068062827\n"
          ],
          "name": "stdout"
        }
      ]
    },
    {
      "cell_type": "code",
      "metadata": {
        "id": "764CRA1c2BJr",
        "colab": {
          "base_uri": "https://localhost:8080/"
        },
        "outputId": "44f0f6cd-c4b3-4d18-fa6f-e86246e51940"
      },
      "source": [
        "# Calculate false postive rate - predicting churn when customer does not have churned\n",
        "print(FP/(TN+FP))"
      ],
      "execution_count": 973,
      "outputs": [
        {
          "output_type": "stream",
          "text": [
            "0.10798429319371727\n"
          ],
          "name": "stdout"
        }
      ]
    },
    {
      "cell_type": "code",
      "metadata": {
        "id": "Zh79XXOo2BJs",
        "colab": {
          "base_uri": "https://localhost:8080/"
        },
        "outputId": "e46558f9-6ae4-4b26-f27c-772613566341"
      },
      "source": [
        "# positive predictive value \n",
        "print(TP/(TP+FP))"
      ],
      "execution_count": 974,
      "outputs": [
        {
          "output_type": "stream",
          "text": [
            "0.6283783783783784\n"
          ],
          "name": "stdout"
        }
      ]
    },
    {
      "cell_type": "code",
      "metadata": {
        "id": "5fMNDmHv2BJs",
        "colab": {
          "base_uri": "https://localhost:8080/"
        },
        "outputId": "fa1e35b1-c879-40df-bcf2-c2701c98d3e8"
      },
      "source": [
        "# Negative predictive value\n",
        "print(TN/(TN+FN))"
      ],
      "execution_count": 975,
      "outputs": [
        {
          "output_type": "stream",
          "text": [
            "0.8181272509003601\n"
          ],
          "name": "stdout"
        }
      ]
    },
    {
      "cell_type": "markdown",
      "metadata": {
        "id": "BZtBC5cz2BJs"
      },
      "source": [
        "You can also use classification_report to get precision, recall, f1-score, support"
      ]
    },
    {
      "cell_type": "code",
      "metadata": {
        "id": "OWmTD-tr2BJs",
        "colab": {
          "base_uri": "https://localhost:8080/"
        },
        "outputId": "fb2269f7-398a-4900-8a5f-6dc1be18e006"
      },
      "source": [
        "# import classification report\n",
        "from sklearn.metrics import classification_report\n",
        "# print classification_report\n",
        "print(classification_report(y_pred_final['Churn'], y_pred_final['predicted']))"
      ],
      "execution_count": 976,
      "outputs": [
        {
          "output_type": "stream",
          "text": [
            "              precision    recall  f1-score   support\n",
            "\n",
            "           0       0.82      0.89      0.85      1528\n",
            "           1       0.63      0.48      0.54       582\n",
            "\n",
            "    accuracy                           0.78      2110\n",
            "   macro avg       0.72      0.69      0.70      2110\n",
            "weighted avg       0.77      0.78      0.77      2110\n",
            "\n"
          ],
          "name": "stdout"
        }
      ]
    },
    {
      "cell_type": "markdown",
      "metadata": {
        "collapsed": true,
        "id": "ocMTh6122BJt"
      },
      "source": [
        "### ROC Curve\n",
        "\n",
        "<p style='text-align: right;'> 1 points</p>\n"
      ]
    },
    {
      "cell_type": "markdown",
      "metadata": {
        "collapsed": true,
        "id": "VMxu5CEo2BJv"
      },
      "source": [
        "An ROC curve demonstrates several things:\n",
        "\n",
        "- It shows the tradeoff between sensitivity and specificity (any increase in sensitivity will be accompanied by a decrease in specificity).\n",
        "- The closer the curve follows the left-hand border and then the top border of the ROC space, the more accurate the test.\n",
        "- The closer the curve comes to the 45-degree diagonal of the ROC space, the less accurate the test."
      ]
    },
    {
      "cell_type": "code",
      "metadata": {
        "id": "gpEy4AkA2BJw"
      },
      "source": [
        "# Here we have given you a function to plot ROC curve\n",
        "\n",
        "def draw_roc( actual, probs ):\n",
        "    fpr, tpr, thresholds = metrics.roc_curve( actual, probs,\n",
        "                                              drop_intermediate = False )\n",
        "    auc_score = metrics.roc_auc_score( actual, probs )\n",
        "    plt.figure(figsize=(6, 4))\n",
        "    plt.plot( fpr, tpr, label='ROC curve (area = %0.2f)' % auc_score )\n",
        "    plt.plot([0, 1], [0, 1], 'k--')\n",
        "    plt.xlim([0.0, 1.0])\n",
        "    plt.ylim([0.0, 1.05])\n",
        "    plt.xlabel('False Positive Rate or [1 - True Negative Rate]')\n",
        "    plt.ylabel('True Positive Rate')\n",
        "    plt.title('Receiver operating characteristic example')\n",
        "    plt.legend(loc=\"lower right\")\n",
        "    plt.show()\n",
        "\n",
        "    return fpr, tpr, thresholds"
      ],
      "execution_count": 977,
      "outputs": []
    },
    {
      "cell_type": "code",
      "metadata": {
        "id": "idVOklxh2BJw",
        "colab": {
          "base_uri": "https://localhost:8080/",
          "height": 346
        },
        "outputId": "859759b8-816f-4f54-bb67-b0f64e313382"
      },
      "source": [
        "# Use above function to plot ROC curve\n",
        "fpr, tpr, thres = draw_roc(y_pred_final['Churn'], y_pred_final['predicted'])\n",
        "print(fpr)\n",
        "print(tpr)\n",
        "print(thres)"
      ],
      "execution_count": 978,
      "outputs": [
        {
          "output_type": "display_data",
          "data": {
            "image/png": "[encoded data removed]",
            "text/plain": [
              "<Figure size 432x288 with 1 Axes>"
            ]
          },
          "metadata": {
            "needs_background": "light"
          }
        },
        {
          "output_type": "stream",
          "text": [
            "[0.         0.10798429 1.        ]\n",
            "[0.         0.47938144 1.        ]\n",
            "[2 1 0]\n"
          ],
          "name": "stdout"
        }
      ]
    },
    {
      "cell_type": "markdown",
      "metadata": {
        "id": "1lWpOXqc2BJw"
      },
      "source": [
        "### Finding Optimal Cutoff Point'\n",
        "\n",
        "<p style='text-align: right;'> 6 points</p>\n"
      ]
    },
    {
      "cell_type": "markdown",
      "metadata": {
        "id": "OjBUZCls2BJw"
      },
      "source": [
        "Optimal cutoff probability is that probability where we get balanced sensitivity and specificity"
      ]
    },
    {
      "cell_type": "code",
      "metadata": {
        "id": "oAfpkL022BJw",
        "colab": {
          "base_uri": "https://localhost:8080/",
          "height": 306
        },
        "outputId": "2595cba6-9050-4b43-e65c-e1857beb6e6e"
      },
      "source": [
        "# Let's create columns with different probability cutoffs \n",
        "\n",
        "numbers = [float(x)/10 for x in range(10)]\n",
        "\n",
        "# loop numbers and append churn probability to y_pred_final for different prob cutoff \n",
        "for i in numbers:\n",
        "    y_pred_final[i]= y_pred_final['Churn_Probability'].map(lambda x: 0 if x < i else 1)\n",
        "\n",
        "    \n",
        "# print  y_pred_final head\n",
        "y_pred_final.head()"
      ],
      "execution_count": 979,
      "outputs": [
        {
          "output_type": "stream",
          "text": [
            "/usr/local/lib/python3.7/dist-packages/ipykernel_launcher.py:7: SettingWithCopyWarning: \n",
            "A value is trying to be set on a copy of a slice from a DataFrame.\n",
            "Try using .loc[row_indexer,col_indexer] = value instead\n",
            "\n",
            "See the caveats in the documentation: https://pandas.pydata.org/pandas-docs/stable/user_guide/indexing.html#returning-a-view-versus-a-copy\n",
            "  import sys\n"
          ],
          "name": "stderr"
        },
        {
          "output_type": "execute_result",
          "data": {
            "text/html": [
              "<div>\n",
              "<style scoped>\n",
              "    .dataframe tbody tr th:only-of-type {\n",
              "        vertical-align: middle;\n",
              "    }\n",
              "\n",
              "    .dataframe tbody tr th {\n",
              "        vertical-align: top;\n",
              "    }\n",
              "\n",
              "    .dataframe thead th {\n",
              "        text-align: right;\n",
              "    }\n",
              "</style>\n",
              "<table border=\"1\" class=\"dataframe\">\n",
              "  <thead>\n",
              "    <tr style=\"text-align: right;\">\n",
              "      <th></th>\n",
              "      <th>CustID</th>\n",
              "      <th>Churn</th>\n",
              "      <th>Churn_Probability</th>\n",
              "      <th>predicted</th>\n",
              "      <th>0.0</th>\n",
              "      <th>0.1</th>\n",
              "      <th>0.2</th>\n",
              "      <th>0.3</th>\n",
              "      <th>0.4</th>\n",
              "      <th>0.5</th>\n",
              "      <th>0.6</th>\n",
              "      <th>0.7</th>\n",
              "      <th>0.8</th>\n",
              "      <th>0.9</th>\n",
              "    </tr>\n",
              "  </thead>\n",
              "  <tbody>\n",
              "    <tr>\n",
              "      <th>0</th>\n",
              "      <td>939</td>\n",
              "      <td>0</td>\n",
              "      <td>0.534503</td>\n",
              "      <td>1</td>\n",
              "      <td>1</td>\n",
              "      <td>1</td>\n",
              "      <td>1</td>\n",
              "      <td>1</td>\n",
              "      <td>1</td>\n",
              "      <td>1</td>\n",
              "      <td>0</td>\n",
              "      <td>0</td>\n",
              "      <td>0</td>\n",
              "      <td>0</td>\n",
              "    </tr>\n",
              "    <tr>\n",
              "      <th>1</th>\n",
              "      <td>3724</td>\n",
              "      <td>1</td>\n",
              "      <td>0.292735</td>\n",
              "      <td>0</td>\n",
              "      <td>1</td>\n",
              "      <td>1</td>\n",
              "      <td>1</td>\n",
              "      <td>0</td>\n",
              "      <td>0</td>\n",
              "      <td>0</td>\n",
              "      <td>0</td>\n",
              "      <td>0</td>\n",
              "      <td>0</td>\n",
              "      <td>0</td>\n",
              "    </tr>\n",
              "    <tr>\n",
              "      <th>2</th>\n",
              "      <td>1756</td>\n",
              "      <td>0</td>\n",
              "      <td>0.013463</td>\n",
              "      <td>0</td>\n",
              "      <td>1</td>\n",
              "      <td>0</td>\n",
              "      <td>0</td>\n",
              "      <td>0</td>\n",
              "      <td>0</td>\n",
              "      <td>0</td>\n",
              "      <td>0</td>\n",
              "      <td>0</td>\n",
              "      <td>0</td>\n",
              "      <td>0</td>\n",
              "    </tr>\n",
              "    <tr>\n",
              "      <th>3</th>\n",
              "      <td>2278</td>\n",
              "      <td>1</td>\n",
              "      <td>0.700441</td>\n",
              "      <td>1</td>\n",
              "      <td>1</td>\n",
              "      <td>1</td>\n",
              "      <td>1</td>\n",
              "      <td>1</td>\n",
              "      <td>1</td>\n",
              "      <td>1</td>\n",
              "      <td>1</td>\n",
              "      <td>1</td>\n",
              "      <td>0</td>\n",
              "      <td>0</td>\n",
              "    </tr>\n",
              "    <tr>\n",
              "      <th>4</th>\n",
              "      <td>1867</td>\n",
              "      <td>0</td>\n",
              "      <td>0.022563</td>\n",
              "      <td>0</td>\n",
              "      <td>1</td>\n",
              "      <td>0</td>\n",
              "      <td>0</td>\n",
              "      <td>0</td>\n",
              "      <td>0</td>\n",
              "      <td>0</td>\n",
              "      <td>0</td>\n",
              "      <td>0</td>\n",
              "      <td>0</td>\n",
              "      <td>0</td>\n",
              "    </tr>\n",
              "  </tbody>\n",
              "</table>\n",
              "</div>"
            ],
            "text/plain": [
              "   CustID  Churn  Churn_Probability  predicted  0.0  ...  0.5  0.6  0.7  0.8  0.9\n",
              "0     939      0           0.534503          1    1  ...    1    0    0    0    0\n",
              "1    3724      1           0.292735          0    1  ...    0    0    0    0    0\n",
              "2    1756      0           0.013463          0    1  ...    0    0    0    0    0\n",
              "3    2278      1           0.700441          1    1  ...    1    1    1    0    0\n",
              "4    1867      0           0.022563          0    1  ...    0    0    0    0    0\n",
              "\n",
              "[5 rows x 14 columns]"
            ]
          },
          "metadata": {},
          "execution_count": 979
        }
      ]
    },
    {
      "cell_type": "markdown",
      "metadata": {
        "id": "qhMqOlPz2BJx"
      },
      "source": [
        "Now let's calculate accuracy sensitivity and specificity for various probability cutoffs.\n"
      ]
    },
    {
      "cell_type": "code",
      "metadata": {
        "id": "VDJr853I2BJx",
        "colab": {
          "base_uri": "https://localhost:8080/",
          "height": 359
        },
        "outputId": "eb6f6bc8-73c8-479b-dca6-2388f994c169"
      },
      "source": [
        "# Create an empty dataframe with columns 'prob','accuracy','sensi' and 'speci'\n",
        "cutoff_df = pd.DataFrame(columns=['prob', 'accuracy', 'sensi', 'speci'])\n",
        "\n",
        "num = [0.0,0.1,0.2,0.3,0.4,0.5,0.6,0.7,0.8,0.9]\n",
        "\n",
        "#iterate through num\n",
        "for i in num:\n",
        "    #calculate confusion metrics\n",
        "    cm1 = metrics.confusion_matrix(y_pred_final['Churn'], y_pred_final[i])\n",
        "    \n",
        "    #total in cm1\n",
        "    total1= len(cm1)\n",
        "    \n",
        "    #Calculate accuracy\n",
        "    accuracy = metrics.accuracy_score(y_pred_final['Churn'], y_pred_final[i])\n",
        "    \n",
        "    #calculate specificity\n",
        "    speci = cm1[0][0]/(cm1[0][0] + cm1[0][1])\n",
        "    \n",
        "    #calculate sensitivity\n",
        "    sensi = cm1[1][1]/(cm1[1][0] + cm1[1][1])\n",
        "    \n",
        "    #append rows in cutoff_df with cutoff values, accuracy, sensitivity and specificity\n",
        "\n",
        "    cutoff_df.loc[i] = {'prob': i, 'accuracy':accuracy, 'sensi':sensi, 'speci':speci}\n",
        "\n",
        "# print cutoff_df \n",
        "cutoff_df"
      ],
      "execution_count": 980,
      "outputs": [
        {
          "output_type": "execute_result",
          "data": {
            "text/html": [
              "<div>\n",
              "<style scoped>\n",
              "    .dataframe tbody tr th:only-of-type {\n",
              "        vertical-align: middle;\n",
              "    }\n",
              "\n",
              "    .dataframe tbody tr th {\n",
              "        vertical-align: top;\n",
              "    }\n",
              "\n",
              "    .dataframe thead th {\n",
              "        text-align: right;\n",
              "    }\n",
              "</style>\n",
              "<table border=\"1\" class=\"dataframe\">\n",
              "  <thead>\n",
              "    <tr style=\"text-align: right;\">\n",
              "      <th></th>\n",
              "      <th>prob</th>\n",
              "      <th>accuracy</th>\n",
              "      <th>sensi</th>\n",
              "      <th>speci</th>\n",
              "    </tr>\n",
              "  </thead>\n",
              "  <tbody>\n",
              "    <tr>\n",
              "      <th>0.0</th>\n",
              "      <td>0.0</td>\n",
              "      <td>0.275829</td>\n",
              "      <td>1.000000</td>\n",
              "      <td>0.000000</td>\n",
              "    </tr>\n",
              "    <tr>\n",
              "      <th>0.1</th>\n",
              "      <td>0.1</td>\n",
              "      <td>0.596209</td>\n",
              "      <td>0.951890</td>\n",
              "      <td>0.460733</td>\n",
              "    </tr>\n",
              "    <tr>\n",
              "      <th>0.2</th>\n",
              "      <td>0.2</td>\n",
              "      <td>0.681991</td>\n",
              "      <td>0.878007</td>\n",
              "      <td>0.607330</td>\n",
              "    </tr>\n",
              "    <tr>\n",
              "      <th>0.3</th>\n",
              "      <td>0.3</td>\n",
              "      <td>0.760190</td>\n",
              "      <td>0.661512</td>\n",
              "      <td>0.797775</td>\n",
              "    </tr>\n",
              "    <tr>\n",
              "      <th>0.4</th>\n",
              "      <td>0.4</td>\n",
              "      <td>0.768720</td>\n",
              "      <td>0.594502</td>\n",
              "      <td>0.835079</td>\n",
              "    </tr>\n",
              "    <tr>\n",
              "      <th>0.5</th>\n",
              "      <td>0.5</td>\n",
              "      <td>0.778199</td>\n",
              "      <td>0.479381</td>\n",
              "      <td>0.892016</td>\n",
              "    </tr>\n",
              "    <tr>\n",
              "      <th>0.6</th>\n",
              "      <td>0.6</td>\n",
              "      <td>0.782938</td>\n",
              "      <td>0.384880</td>\n",
              "      <td>0.934555</td>\n",
              "    </tr>\n",
              "    <tr>\n",
              "      <th>0.7</th>\n",
              "      <td>0.7</td>\n",
              "      <td>0.749763</td>\n",
              "      <td>0.108247</td>\n",
              "      <td>0.994110</td>\n",
              "    </tr>\n",
              "    <tr>\n",
              "      <th>0.8</th>\n",
              "      <td>0.8</td>\n",
              "      <td>0.724171</td>\n",
              "      <td>0.000000</td>\n",
              "      <td>1.000000</td>\n",
              "    </tr>\n",
              "    <tr>\n",
              "      <th>0.9</th>\n",
              "      <td>0.9</td>\n",
              "      <td>0.724171</td>\n",
              "      <td>0.000000</td>\n",
              "      <td>1.000000</td>\n",
              "    </tr>\n",
              "  </tbody>\n",
              "</table>\n",
              "</div>"
            ],
            "text/plain": [
              "     prob  accuracy     sensi     speci\n",
              "0.0   0.0  0.275829  1.000000  0.000000\n",
              "0.1   0.1  0.596209  0.951890  0.460733\n",
              "0.2   0.2  0.681991  0.878007  0.607330\n",
              "0.3   0.3  0.760190  0.661512  0.797775\n",
              "0.4   0.4  0.768720  0.594502  0.835079\n",
              "0.5   0.5  0.778199  0.479381  0.892016\n",
              "0.6   0.6  0.782938  0.384880  0.934555\n",
              "0.7   0.7  0.749763  0.108247  0.994110\n",
              "0.8   0.8  0.724171  0.000000  1.000000\n",
              "0.9   0.9  0.724171  0.000000  1.000000"
            ]
          },
          "metadata": {},
          "execution_count": 980
        }
      ]
    },
    {
      "cell_type": "code",
      "metadata": {
        "id": "2CbsuW-U2BJx",
        "colab": {
          "base_uri": "https://localhost:8080/",
          "height": 279
        },
        "outputId": "e6b07eeb-d323-441a-dd87-ecf118092be6"
      },
      "source": [
        "# Let's plot accuracy sensitivity and specificity for various probabilities.\n",
        "plt.plot(cutoff_df['prob'], cutoff_df['accuracy'])\n",
        "plt.plot(cutoff_df['prob'], cutoff_df['sensi'])\n",
        "plt.plot(cutoff_df['prob'], cutoff_df['speci'])\n",
        "plt.xlabel('prob')\n",
        "plt.legend(['accuracy', 'sensi', 'speci'])\n",
        "plt.show()"
      ],
      "execution_count": 981,
      "outputs": [
        {
          "output_type": "display_data",
          "data": {
            "image/png": "[encoded data removed]",
            "text/plain": [
              "<Figure size 432x288 with 1 Axes>"
            ]
          },
          "metadata": {
            "needs_background": "light"
          }
        }
      ]
    },
    {
      "cell_type": "markdown",
      "metadata": {
        "id": "s64l_FkB2BJy"
      },
      "source": [
        "### From the curve above, 0.3 is the optimum point to take it as a cutoff probability.\n",
        "\n",
        "<p style='text-align: right;'> 4 points</p>\n"
      ]
    },
    {
      "cell_type": "code",
      "metadata": {
        "id": "qY3FfmfJ2BJy",
        "colab": {
          "base_uri": "https://localhost:8080/"
        },
        "outputId": "06171735-2558-4d88-f7f6-e57daf183e71"
      },
      "source": [
        "# Now lets get another column with final_predicted which has 0.3 cutoff probability\n",
        "\n",
        "y_pred_final['final_predicted'] = y_pred_final['Churn_Probability'].map(lambda x: 0 if x < 0.3 else 1)"
      ],
      "execution_count": 982,
      "outputs": [
        {
          "output_type": "stream",
          "text": [
            "/usr/local/lib/python3.7/dist-packages/ipykernel_launcher.py:3: SettingWithCopyWarning: \n",
            "A value is trying to be set on a copy of a slice from a DataFrame.\n",
            "Try using .loc[row_indexer,col_indexer] = value instead\n",
            "\n",
            "See the caveats in the documentation: https://pandas.pydata.org/pandas-docs/stable/user_guide/indexing.html#returning-a-view-versus-a-copy\n",
            "  This is separate from the ipykernel package so we can avoid doing imports until\n"
          ],
          "name": "stderr"
        }
      ]
    },
    {
      "cell_type": "code",
      "metadata": {
        "id": "jCgzIrNp2BJy",
        "colab": {
          "base_uri": "https://localhost:8080/",
          "height": 204
        },
        "outputId": "2bd12342-463a-47b3-d11c-22b46dedcace"
      },
      "source": [
        "# print y_pred_final head\n",
        "y_pred_final.head()"
      ],
      "execution_count": 983,
      "outputs": [
        {
          "output_type": "execute_result",
          "data": {
            "text/html": [
              "<div>\n",
              "<style scoped>\n",
              "    .dataframe tbody tr th:only-of-type {\n",
              "        vertical-align: middle;\n",
              "    }\n",
              "\n",
              "    .dataframe tbody tr th {\n",
              "        vertical-align: top;\n",
              "    }\n",
              "\n",
              "    .dataframe thead th {\n",
              "        text-align: right;\n",
              "    }\n",
              "</style>\n",
              "<table border=\"1\" class=\"dataframe\">\n",
              "  <thead>\n",
              "    <tr style=\"text-align: right;\">\n",
              "      <th></th>\n",
              "      <th>CustID</th>\n",
              "      <th>Churn</th>\n",
              "      <th>Churn_Probability</th>\n",
              "      <th>predicted</th>\n",
              "      <th>0.0</th>\n",
              "      <th>0.1</th>\n",
              "      <th>0.2</th>\n",
              "      <th>0.3</th>\n",
              "      <th>0.4</th>\n",
              "      <th>0.5</th>\n",
              "      <th>0.6</th>\n",
              "      <th>0.7</th>\n",
              "      <th>0.8</th>\n",
              "      <th>0.9</th>\n",
              "      <th>final_predicted</th>\n",
              "    </tr>\n",
              "  </thead>\n",
              "  <tbody>\n",
              "    <tr>\n",
              "      <th>0</th>\n",
              "      <td>939</td>\n",
              "      <td>0</td>\n",
              "      <td>0.534503</td>\n",
              "      <td>1</td>\n",
              "      <td>1</td>\n",
              "      <td>1</td>\n",
              "      <td>1</td>\n",
              "      <td>1</td>\n",
              "      <td>1</td>\n",
              "      <td>1</td>\n",
              "      <td>0</td>\n",
              "      <td>0</td>\n",
              "      <td>0</td>\n",
              "      <td>0</td>\n",
              "      <td>1</td>\n",
              "    </tr>\n",
              "    <tr>\n",
              "      <th>1</th>\n",
              "      <td>3724</td>\n",
              "      <td>1</td>\n",
              "      <td>0.292735</td>\n",
              "      <td>0</td>\n",
              "      <td>1</td>\n",
              "      <td>1</td>\n",
              "      <td>1</td>\n",
              "      <td>0</td>\n",
              "      <td>0</td>\n",
              "      <td>0</td>\n",
              "      <td>0</td>\n",
              "      <td>0</td>\n",
              "      <td>0</td>\n",
              "      <td>0</td>\n",
              "      <td>0</td>\n",
              "    </tr>\n",
              "    <tr>\n",
              "      <th>2</th>\n",
              "      <td>1756</td>\n",
              "      <td>0</td>\n",
              "      <td>0.013463</td>\n",
              "      <td>0</td>\n",
              "      <td>1</td>\n",
              "      <td>0</td>\n",
              "      <td>0</td>\n",
              "      <td>0</td>\n",
              "      <td>0</td>\n",
              "      <td>0</td>\n",
              "      <td>0</td>\n",
              "      <td>0</td>\n",
              "      <td>0</td>\n",
              "      <td>0</td>\n",
              "      <td>0</td>\n",
              "    </tr>\n",
              "    <tr>\n",
              "      <th>3</th>\n",
              "      <td>2278</td>\n",
              "      <td>1</td>\n",
              "      <td>0.700441</td>\n",
              "      <td>1</td>\n",
              "      <td>1</td>\n",
              "      <td>1</td>\n",
              "      <td>1</td>\n",
              "      <td>1</td>\n",
              "      <td>1</td>\n",
              "      <td>1</td>\n",
              "      <td>1</td>\n",
              "      <td>1</td>\n",
              "      <td>0</td>\n",
              "      <td>0</td>\n",
              "      <td>1</td>\n",
              "    </tr>\n",
              "    <tr>\n",
              "      <th>4</th>\n",
              "      <td>1867</td>\n",
              "      <td>0</td>\n",
              "      <td>0.022563</td>\n",
              "      <td>0</td>\n",
              "      <td>1</td>\n",
              "      <td>0</td>\n",
              "      <td>0</td>\n",
              "      <td>0</td>\n",
              "      <td>0</td>\n",
              "      <td>0</td>\n",
              "      <td>0</td>\n",
              "      <td>0</td>\n",
              "      <td>0</td>\n",
              "      <td>0</td>\n",
              "      <td>0</td>\n",
              "    </tr>\n",
              "  </tbody>\n",
              "</table>\n",
              "</div>"
            ],
            "text/plain": [
              "   CustID  Churn  Churn_Probability  predicted  ...  0.7  0.8  0.9  final_predicted\n",
              "0     939      0           0.534503          1  ...    0    0    0                1\n",
              "1    3724      1           0.292735          0  ...    0    0    0                0\n",
              "2    1756      0           0.013463          0  ...    0    0    0                0\n",
              "3    2278      1           0.700441          1  ...    1    0    0                1\n",
              "4    1867      0           0.022563          0  ...    0    0    0                0\n",
              "\n",
              "[5 rows x 15 columns]"
            ]
          },
          "metadata": {},
          "execution_count": 983
        }
      ]
    },
    {
      "cell_type": "code",
      "metadata": {
        "id": "dNPS55kq2BJy",
        "colab": {
          "base_uri": "https://localhost:8080/"
        },
        "outputId": "3dedc163-ac62-4a31-c052-cb576e346a3a"
      },
      "source": [
        "#Let's check the overall accuracy now again\n",
        "print(metrics.accuracy_score(y_pred_final['Churn'], y_pred_final['final_predicted']))"
      ],
      "execution_count": 984,
      "outputs": [
        {
          "output_type": "stream",
          "text": [
            "0.7601895734597156\n"
          ],
          "name": "stdout"
        }
      ]
    },
    {
      "cell_type": "code",
      "metadata": {
        "id": "CIsPfKeL2BJy",
        "colab": {
          "base_uri": "https://localhost:8080/"
        },
        "outputId": "d27108be-7014-4830-8c01-095794a5fdd7"
      },
      "source": [
        "#Let's check the overall accuracy now again\n",
        "print(metrics.confusion_matrix(y_pred_final['Churn'], y_pred_final['final_predicted']))"
      ],
      "execution_count": 985,
      "outputs": [
        {
          "output_type": "stream",
          "text": [
            "[[1219  309]\n",
            " [ 197  385]]\n"
          ],
          "name": "stdout"
        }
      ]
    },
    {
      "cell_type": "markdown",
      "metadata": {
        "id": "os1P2XDo2BJz"
      },
      "source": [
        "Though this approach of finding best cutoff probability is perfectly fine, but as you can see our error got increased when cutoff is 0.3. \n",
        "\n",
        "\n",
        "The reason may be the features which we used to predict. We need go back and check them again. Else we can even try out different classification problems. \n",
        "\n",
        "\n",
        "Lets try using all the features available before doing RFE. i.e consider all features in X\n",
        "\n",
        "\n"
      ]
    },
    {
      "cell_type": "code",
      "metadata": {
        "id": "17Fkt6sZ2BJz"
      },
      "source": [
        "# Splitting the data into train and test with train_size=0.7 and random_state=100 again\n",
        "\n",
        "X_train, X_test, y_train, y_test = train_test_split(X, y, train_size = 0.7, random_state = 100)\n"
      ],
      "execution_count": 986,
      "outputs": []
    },
    {
      "cell_type": "code",
      "metadata": {
        "id": "f3V-A7dy2BJz"
      },
      "source": [
        "#initialise Logistic Regression\n",
        "logs2 = LogisticRegression()\n",
        "\n",
        "#fitting model using above columns as input\n",
        "logs2.fit(X_train, y_train)\n",
        "#prediction on test data\n",
        "y_pred= logs2.predict(X_test)"
      ],
      "execution_count": 987,
      "outputs": []
    },
    {
      "cell_type": "code",
      "metadata": {
        "id": "lxJvuV7i2BJz",
        "colab": {
          "base_uri": "https://localhost:8080/"
        },
        "outputId": "26358e57-3a0c-4d48-8985-af61f6d0e229"
      },
      "source": [
        "# print classification_report\n",
        "print(metrics.classification_report(y_test, y_pred))"
      ],
      "execution_count": 988,
      "outputs": [
        {
          "output_type": "stream",
          "text": [
            "              precision    recall  f1-score   support\n",
            "\n",
            "           0       0.83      0.90      0.86      1528\n",
            "           1       0.66      0.52      0.58       582\n",
            "\n",
            "    accuracy                           0.79      2110\n",
            "   macro avg       0.74      0.71      0.72      2110\n",
            "weighted avg       0.78      0.79      0.78      2110\n",
            "\n"
          ],
          "name": "stdout"
        }
      ]
    },
    {
      "cell_type": "code",
      "metadata": {
        "id": "-pLrr4Pn2BJz",
        "colab": {
          "base_uri": "https://localhost:8080/"
        },
        "outputId": "4934ff18-fe16-4287-a5f1-b542165555e2"
      },
      "source": [
        "#print confusion metrix\n",
        "print(metrics.confusion_matrix(y_test, y_pred))"
      ],
      "execution_count": 989,
      "outputs": [
        {
          "output_type": "stream",
          "text": [
            "[[1370  158]\n",
            " [ 281  301]]\n"
          ],
          "name": "stdout"
        }
      ]
    },
    {
      "cell_type": "markdown",
      "metadata": {
        "id": "ZOwJ-Flg2BJ0"
      },
      "source": [
        "So from above result we can see that our results are improved slightly after using all the features in X"
      ]
    },
    {
      "cell_type": "markdown",
      "metadata": {
        "id": "5hgxtdMk2BJ0"
      },
      "source": [
        "So in this assignment you learned when to use and how to use logistic regression and what all important metrics we can look for.\n",
        "\n",
        "Well done buddy. So far so good.!\n",
        "\n",
        "------------------------------\n",
        "\n",
        "# Oh yeah! Congratulations you have made your first classification alogorithm! Very well done.\n",
        "\n",
        "-------------------------------------\n",
        "\n",
        "# Its Feedback Time!\n",
        "\n",
        "We hope you’ve enjoyed this course so far. We’re committed to help you use \"AI for All\" course to its full potential, so that you have a great learning experience. And that’s why we need your help in form of a feedback here.\n",
        "\n",
        "**Please fill this feedback form**\n",
        " https://zfrmz.in/MtRG5oWXBdesm6rmSM7N"
      ]
    },
    {
      "cell_type": "markdown",
      "metadata": {
        "id": "FKkXYHDb2BJ0"
      },
      "source": [
        "_______________________________"
      ]
    }
  ]
}