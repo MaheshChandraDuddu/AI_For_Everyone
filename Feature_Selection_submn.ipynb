{
  "nbformat": 4,
  "nbformat_minor": 0,
  "metadata": {
    "colab": {
      "name": "Feature Selection.ipynb",
      "provenance": []
    },
    "kernelspec": {
      "display_name": "Python 3",
      "language": "python",
      "name": "python3"
    },
    "language_info": {
      "codemirror_mode": {
        "name": "ipython",
        "version": 3
      },
      "file_extension": ".py",
      "mimetype": "text/x-python",
      "name": "python",
      "nbconvert_exporter": "python",
      "pygments_lexer": "ipython3",
      "version": "3.8.5"
    }
  },
  "cells": [
    {
      "cell_type": "markdown",
      "metadata": {
        "id": "NQpVgl_dUfUF"
      },
      "source": [
        "# <center> <u> Feature Selection </u> </center>"
      ]
    },
    {
      "cell_type": "markdown",
      "metadata": {
        "id": "Je2P4xFtFchy"
      },
      "source": [
        "<h2>What's the Purpose of Feature Selection</h2>\n",
        "<p>Many learning algorithms perform poorly on high-dimensional data. This is known as the <b>curse of dimensionality</b>\n",
        "    <p>There are other reasons we may wish to reduce the number of features including:\n",
        "        <p>1. Reducing computational cost\n",
        "            <p>2. Reducing the cost associated with data collection\n",
        "                <p>3. Improving Interpretability\n",
        "                    \n",
        "Reference for entire topic-\n",
        "\n",
        "https://www.youtube.com/watch?v=EqLBAmtKMnQ"
      ]
    },
    {
      "cell_type": "markdown",
      "metadata": {
        "id": "87L0nyqjFchz"
      },
      "source": [
        "![image.png](attachment:image.png)"
      ]
    },
    {
      "cell_type": "code",
      "metadata": {
        "id": "mB1NgSVBFch0"
      },
      "source": [
        "#import these libraries as we are going to use them. \n",
        "# Note: just have a look what all libraries you have imported\n",
        "import pandas as pd\n",
        "import numpy as np\n",
        "\n",
        "from sklearn.feature_selection import SelectFromModel\n",
        "from sklearn.model_selection import train_test_split\n",
        "\n",
        "from sklearn.tree import DecisionTreeClassifier\n",
        "from sklearn.preprocessing import StandardScaler\n",
        "from sklearn.ensemble import RandomForestClassifier\n",
        "from sklearn.metrics import roc_auc_score\n",
        "from sklearn.preprocessing import StandardScaler\n",
        "from sklearn.pipeline import make_pipeline\n",
        "from sklearn.model_selection import KFold\n",
        "from sklearn.neighbors import KNeighborsRegressor\n",
        "from sklearn.metrics import mean_squared_error, r2_score\n",
        "from sklearn.model_selection import cross_val_predict\n",
        "from sklearn.linear_model import LinearRegression\n",
        "from math import sqrt"
      ],
      "execution_count": 2,
      "outputs": []
    },
    {
      "cell_type": "markdown",
      "metadata": {
        "id": "jFC8uri2Fch2"
      },
      "source": [
        "## 1.Filter Methods:\n",
        "\n",
        "\n",
        "\n",
        "Filter method applies a statistical measure to assign a scoring to each feature.Then we can decide to keep or remove those features based on those scores. The methods are often univariate and consider the feature independently, or with regard to the dependent variable.\n",
        "\n",
        "In this section we will cover below approaches:\n",
        "\n",
        "1. Missing Value Ratio Threshold\n",
        "2. Variance Threshold\n",
        "3. $Chi^2$ Test\n",
        "4. Anova Test"
      ]
    },
    {
      "cell_type": "markdown",
      "metadata": {
        "id": "MLsc-CtNFch3"
      },
      "source": [
        "Download the dataset from https://github.com/arupbhunia/Data-Pre-processing/blob/master/datasets/diabetes.csv\n",
        "\n",
        "Dataset used - diabetes.csv\n",
        "\n",
        "Download instruction: go to the given link--->click raw button on top right corner---->Press Ctrl+S -->save it as .csv file."
      ]
    },
    {
      "cell_type": "markdown",
      "metadata": {
        "id": "MvQNtjy9Fch3"
      },
      "source": [
        "## (a) Missing Value Ratio Threshold\n",
        "\n",
        "<p style='text-align: right;'> 20 points</p>\n",
        "\n",
        "\n"
      ]
    },
    {
      "cell_type": "code",
      "metadata": {
        "colab": {
          "base_uri": "https://localhost:8080/",
          "height": 204
        },
        "id": "aUCLYknGFch4",
        "outputId": "9b44934c-e648-4b92-e87e-0c065293a408"
      },
      "source": [
        "# create a data frame named diabetes and load the csv file\n",
        "diabetes = pd.read_csv('diabetes.csv')\n",
        "#print the head \n",
        "diabetes.head()"
      ],
      "execution_count": 3,
      "outputs": [
        {
          "output_type": "execute_result",
          "data": {
            "text/html": [
              "<div>\n",
              "<style scoped>\n",
              "    .dataframe tbody tr th:only-of-type {\n",
              "        vertical-align: middle;\n",
              "    }\n",
              "\n",
              "    .dataframe tbody tr th {\n",
              "        vertical-align: top;\n",
              "    }\n",
              "\n",
              "    .dataframe thead th {\n",
              "        text-align: right;\n",
              "    }\n",
              "</style>\n",
              "<table border=\"1\" class=\"dataframe\">\n",
              "  <thead>\n",
              "    <tr style=\"text-align: right;\">\n",
              "      <th></th>\n",
              "      <th>Pregnancies</th>\n",
              "      <th>Glucose</th>\n",
              "      <th>BloodPressure</th>\n",
              "      <th>SkinThickness</th>\n",
              "      <th>Insulin</th>\n",
              "      <th>BMI</th>\n",
              "      <th>DiabetesPedigreeFunction</th>\n",
              "      <th>Age</th>\n",
              "      <th>Outcome</th>\n",
              "    </tr>\n",
              "  </thead>\n",
              "  <tbody>\n",
              "    <tr>\n",
              "      <th>0</th>\n",
              "      <td>6</td>\n",
              "      <td>148</td>\n",
              "      <td>72</td>\n",
              "      <td>35</td>\n",
              "      <td>0</td>\n",
              "      <td>33.6</td>\n",
              "      <td>0.627</td>\n",
              "      <td>50</td>\n",
              "      <td>1</td>\n",
              "    </tr>\n",
              "    <tr>\n",
              "      <th>1</th>\n",
              "      <td>1</td>\n",
              "      <td>85</td>\n",
              "      <td>66</td>\n",
              "      <td>29</td>\n",
              "      <td>0</td>\n",
              "      <td>26.6</td>\n",
              "      <td>0.351</td>\n",
              "      <td>31</td>\n",
              "      <td>0</td>\n",
              "    </tr>\n",
              "    <tr>\n",
              "      <th>2</th>\n",
              "      <td>8</td>\n",
              "      <td>183</td>\n",
              "      <td>64</td>\n",
              "      <td>0</td>\n",
              "      <td>0</td>\n",
              "      <td>23.3</td>\n",
              "      <td>0.672</td>\n",
              "      <td>32</td>\n",
              "      <td>1</td>\n",
              "    </tr>\n",
              "    <tr>\n",
              "      <th>3</th>\n",
              "      <td>1</td>\n",
              "      <td>89</td>\n",
              "      <td>66</td>\n",
              "      <td>23</td>\n",
              "      <td>94</td>\n",
              "      <td>28.1</td>\n",
              "      <td>0.167</td>\n",
              "      <td>21</td>\n",
              "      <td>0</td>\n",
              "    </tr>\n",
              "    <tr>\n",
              "      <th>4</th>\n",
              "      <td>0</td>\n",
              "      <td>137</td>\n",
              "      <td>40</td>\n",
              "      <td>35</td>\n",
              "      <td>168</td>\n",
              "      <td>43.1</td>\n",
              "      <td>2.288</td>\n",
              "      <td>33</td>\n",
              "      <td>1</td>\n",
              "    </tr>\n",
              "  </tbody>\n",
              "</table>\n",
              "</div>"
            ],
            "text/plain": [
              "   Pregnancies  Glucose  BloodPressure  ...  DiabetesPedigreeFunction  Age  Outcome\n",
              "0            6      148             72  ...                     0.627   50        1\n",
              "1            1       85             66  ...                     0.351   31        0\n",
              "2            8      183             64  ...                     0.672   32        1\n",
              "3            1       89             66  ...                     0.167   21        0\n",
              "4            0      137             40  ...                     2.288   33        1\n",
              "\n",
              "[5 rows x 9 columns]"
            ]
          },
          "metadata": {
            "tags": []
          },
          "execution_count": 3
        }
      ]
    },
    {
      "cell_type": "markdown",
      "metadata": {
        "id": "36l_CbCQFch6"
      },
      "source": [
        "We know that some features can not be zero(e.g. a person's blood pressure can not be 0) hence we will impute zeros with nan value in these features.\n",
        "\n",
        "Reference to impute: https://pandas.pydata.org/pandas-docs/version/0.23/generated/pandas.DataFrame.replace.html"
      ]
    },
    {
      "cell_type": "code",
      "metadata": {
        "colab": {
          "base_uri": "https://localhost:8080/",
          "height": 204
        },
        "id": "djQUnbuXFch6",
        "outputId": "5b7bfb93-0351-4215-c438-f6ba0b07cd4d"
      },
      "source": [
        "#Glucose BloodPressure, SkinThickness, Insulin, and BMI features cannot be zero ,we will impute zeros with nan value in these features.\n",
        "f = ['Glucose', 'BloodPressure', 'SkinThickness', 'Insulin', 'BMI']\n",
        "for i in f:\n",
        "  diabetes[i].replace(0, np.nan, inplace = True)\n",
        "diabetes.head()"
      ],
      "execution_count": 4,
      "outputs": [
        {
          "output_type": "execute_result",
          "data": {
            "text/html": [
              "<div>\n",
              "<style scoped>\n",
              "    .dataframe tbody tr th:only-of-type {\n",
              "        vertical-align: middle;\n",
              "    }\n",
              "\n",
              "    .dataframe tbody tr th {\n",
              "        vertical-align: top;\n",
              "    }\n",
              "\n",
              "    .dataframe thead th {\n",
              "        text-align: right;\n",
              "    }\n",
              "</style>\n",
              "<table border=\"1\" class=\"dataframe\">\n",
              "  <thead>\n",
              "    <tr style=\"text-align: right;\">\n",
              "      <th></th>\n",
              "      <th>Pregnancies</th>\n",
              "      <th>Glucose</th>\n",
              "      <th>BloodPressure</th>\n",
              "      <th>SkinThickness</th>\n",
              "      <th>Insulin</th>\n",
              "      <th>BMI</th>\n",
              "      <th>DiabetesPedigreeFunction</th>\n",
              "      <th>Age</th>\n",
              "      <th>Outcome</th>\n",
              "    </tr>\n",
              "  </thead>\n",
              "  <tbody>\n",
              "    <tr>\n",
              "      <th>0</th>\n",
              "      <td>6</td>\n",
              "      <td>148.0</td>\n",
              "      <td>72.0</td>\n",
              "      <td>35.0</td>\n",
              "      <td>NaN</td>\n",
              "      <td>33.6</td>\n",
              "      <td>0.627</td>\n",
              "      <td>50</td>\n",
              "      <td>1</td>\n",
              "    </tr>\n",
              "    <tr>\n",
              "      <th>1</th>\n",
              "      <td>1</td>\n",
              "      <td>85.0</td>\n",
              "      <td>66.0</td>\n",
              "      <td>29.0</td>\n",
              "      <td>NaN</td>\n",
              "      <td>26.6</td>\n",
              "      <td>0.351</td>\n",
              "      <td>31</td>\n",
              "      <td>0</td>\n",
              "    </tr>\n",
              "    <tr>\n",
              "      <th>2</th>\n",
              "      <td>8</td>\n",
              "      <td>183.0</td>\n",
              "      <td>64.0</td>\n",
              "      <td>NaN</td>\n",
              "      <td>NaN</td>\n",
              "      <td>23.3</td>\n",
              "      <td>0.672</td>\n",
              "      <td>32</td>\n",
              "      <td>1</td>\n",
              "    </tr>\n",
              "    <tr>\n",
              "      <th>3</th>\n",
              "      <td>1</td>\n",
              "      <td>89.0</td>\n",
              "      <td>66.0</td>\n",
              "      <td>23.0</td>\n",
              "      <td>94.0</td>\n",
              "      <td>28.1</td>\n",
              "      <td>0.167</td>\n",
              "      <td>21</td>\n",
              "      <td>0</td>\n",
              "    </tr>\n",
              "    <tr>\n",
              "      <th>4</th>\n",
              "      <td>0</td>\n",
              "      <td>137.0</td>\n",
              "      <td>40.0</td>\n",
              "      <td>35.0</td>\n",
              "      <td>168.0</td>\n",
              "      <td>43.1</td>\n",
              "      <td>2.288</td>\n",
              "      <td>33</td>\n",
              "      <td>1</td>\n",
              "    </tr>\n",
              "  </tbody>\n",
              "</table>\n",
              "</div>"
            ],
            "text/plain": [
              "   Pregnancies  Glucose  BloodPressure  ...  DiabetesPedigreeFunction  Age  Outcome\n",
              "0            6    148.0           72.0  ...                     0.627   50        1\n",
              "1            1     85.0           66.0  ...                     0.351   31        0\n",
              "2            8    183.0           64.0  ...                     0.672   32        1\n",
              "3            1     89.0           66.0  ...                     0.167   21        0\n",
              "4            0    137.0           40.0  ...                     2.288   33        1\n",
              "\n",
              "[5 rows x 9 columns]"
            ]
          },
          "metadata": {
            "tags": []
          },
          "execution_count": 4
        }
      ]
    },
    {
      "cell_type": "code",
      "metadata": {
        "colab": {
          "base_uri": "https://localhost:8080/"
        },
        "id": "4wmK0WKsFch7",
        "outputId": "007c35e1-7022-4935-8868-1e3e9e9cd11d"
      },
      "source": [
        "#display the no of null values in each feature\n",
        "diabetes.isnull().sum()"
      ],
      "execution_count": 5,
      "outputs": [
        {
          "output_type": "execute_result",
          "data": {
            "text/plain": [
              "Pregnancies                   0\n",
              "Glucose                       5\n",
              "BloodPressure                35\n",
              "SkinThickness               227\n",
              "Insulin                     374\n",
              "BMI                          11\n",
              "DiabetesPedigreeFunction      0\n",
              "Age                           0\n",
              "Outcome                       0\n",
              "dtype: int64"
            ]
          },
          "metadata": {
            "tags": []
          },
          "execution_count": 5
        }
      ]
    },
    {
      "cell_type": "markdown",
      "metadata": {
        "id": "igoum-h1Fch8"
      },
      "source": [
        "Now let's see for each feature what is the percentage of having missing values."
      ]
    },
    {
      "cell_type": "code",
      "metadata": {
        "colab": {
          "base_uri": "https://localhost:8080/"
        },
        "id": "pPn0H7HFFch9",
        "outputId": "02c403a3-a596-4458-db4a-4034d627086f"
      },
      "source": [
        "#percentage of missing values for Glucose\n",
        "diabetes['Glucose'].isnull().sum()*100/len(diabetes)"
      ],
      "execution_count": 6,
      "outputs": [
        {
          "output_type": "execute_result",
          "data": {
            "text/plain": [
              "0.6510416666666666"
            ]
          },
          "metadata": {
            "tags": []
          },
          "execution_count": 6
        }
      ]
    },
    {
      "cell_type": "code",
      "metadata": {
        "colab": {
          "base_uri": "https://localhost:8080/"
        },
        "id": "dBMNayvTFch9",
        "outputId": "3f6d83ec-4ffe-4a8c-b466-494b328310f4"
      },
      "source": [
        "# calculate the percentage for Bloodpressure\n",
        "diabetes['BloodPressure'].isnull().sum()*100/len(diabetes)"
      ],
      "execution_count": 7,
      "outputs": [
        {
          "output_type": "execute_result",
          "data": {
            "text/plain": [
              "4.557291666666667"
            ]
          },
          "metadata": {
            "tags": []
          },
          "execution_count": 7
        }
      ]
    },
    {
      "cell_type": "code",
      "metadata": {
        "colab": {
          "base_uri": "https://localhost:8080/"
        },
        "id": "pCcDHmMRFch-",
        "outputId": "6a2b88d6-7767-4fe9-a18c-7813501b6612"
      },
      "source": [
        "# calculate the percentage for SkinThickness\n",
        "diabetes['SkinThickness'].isnull().sum()*100/len(diabetes)"
      ],
      "execution_count": 8,
      "outputs": [
        {
          "output_type": "execute_result",
          "data": {
            "text/plain": [
              "29.557291666666668"
            ]
          },
          "metadata": {
            "tags": []
          },
          "execution_count": 8
        }
      ]
    },
    {
      "cell_type": "code",
      "metadata": {
        "colab": {
          "base_uri": "https://localhost:8080/"
        },
        "id": "scFFuAPRFch_",
        "outputId": "2890ef61-dfc7-4790-911b-43e765f76306"
      },
      "source": [
        "# calculate the percentage for Insulin\n",
        "diabetes['Insulin'].isnull().sum()*100/len(diabetes)"
      ],
      "execution_count": 9,
      "outputs": [
        {
          "output_type": "execute_result",
          "data": {
            "text/plain": [
              "48.697916666666664"
            ]
          },
          "metadata": {
            "tags": []
          },
          "execution_count": 9
        }
      ]
    },
    {
      "cell_type": "code",
      "metadata": {
        "colab": {
          "base_uri": "https://localhost:8080/"
        },
        "id": "HTq5rrg-Fch_",
        "outputId": "2b572a7f-7d3e-45d6-9392-fcb3ef808de2"
      },
      "source": [
        "# calculate the percentage for BMI\n",
        "diabetes['BMI'].isnull().sum()*100/len(diabetes)"
      ],
      "execution_count": 10,
      "outputs": [
        {
          "output_type": "execute_result",
          "data": {
            "text/plain": [
              "1.4322916666666667"
            ]
          },
          "metadata": {
            "tags": []
          },
          "execution_count": 10
        }
      ]
    },
    {
      "cell_type": "markdown",
      "metadata": {
        "id": "-5vNvRGzFciB"
      },
      "source": [
        "Hey can you see that a large number of data missing in SkinThickness and Insulin."
      ]
    },
    {
      "cell_type": "markdown",
      "metadata": {
        "id": "c2N_CZp0FciC"
      },
      "source": [
        "Here we will keep only those features which are having missing data less than 10% as our threshold.\n",
        "\n",
        "Reference to check methods for dropping nan in pandas- https://www.youtube.com/watch?v=57vFbsiZYHg\n",
        "\n",
        "You can also check its document official: https://pandas.pydata.org/pandas-docs/stable/reference/api/pandas.DataFrame.dropna.html"
      ]
    },
    {
      "cell_type": "code",
      "metadata": {
        "colab": {
          "base_uri": "https://localhost:8080/",
          "height": 419
        },
        "id": "bU3ADJF5FciC",
        "outputId": "948673cb-d369-458b-fec8-ab230254febe"
      },
      "source": [
        "#we are keep only those features which are having missing data less than 10% \n",
        "diabetes_missing_value_threshold= diabetes.dropna(axis = 'columns', how = 'any', thresh=(10*diabetes.shape[0] *diabetes.shape[1])/100)#code\n",
        "\n",
        "# print diabetes_missing_value_threshold\n",
        "diabetes_missing_value_threshold"
      ],
      "execution_count": 11,
      "outputs": [
        {
          "output_type": "execute_result",
          "data": {
            "text/html": [
              "<div>\n",
              "<style scoped>\n",
              "    .dataframe tbody tr th:only-of-type {\n",
              "        vertical-align: middle;\n",
              "    }\n",
              "\n",
              "    .dataframe tbody tr th {\n",
              "        vertical-align: top;\n",
              "    }\n",
              "\n",
              "    .dataframe thead th {\n",
              "        text-align: right;\n",
              "    }\n",
              "</style>\n",
              "<table border=\"1\" class=\"dataframe\">\n",
              "  <thead>\n",
              "    <tr style=\"text-align: right;\">\n",
              "      <th></th>\n",
              "      <th>Pregnancies</th>\n",
              "      <th>Glucose</th>\n",
              "      <th>BloodPressure</th>\n",
              "      <th>BMI</th>\n",
              "      <th>DiabetesPedigreeFunction</th>\n",
              "      <th>Age</th>\n",
              "      <th>Outcome</th>\n",
              "    </tr>\n",
              "  </thead>\n",
              "  <tbody>\n",
              "    <tr>\n",
              "      <th>0</th>\n",
              "      <td>6</td>\n",
              "      <td>148.0</td>\n",
              "      <td>72.0</td>\n",
              "      <td>33.6</td>\n",
              "      <td>0.627</td>\n",
              "      <td>50</td>\n",
              "      <td>1</td>\n",
              "    </tr>\n",
              "    <tr>\n",
              "      <th>1</th>\n",
              "      <td>1</td>\n",
              "      <td>85.0</td>\n",
              "      <td>66.0</td>\n",
              "      <td>26.6</td>\n",
              "      <td>0.351</td>\n",
              "      <td>31</td>\n",
              "      <td>0</td>\n",
              "    </tr>\n",
              "    <tr>\n",
              "      <th>2</th>\n",
              "      <td>8</td>\n",
              "      <td>183.0</td>\n",
              "      <td>64.0</td>\n",
              "      <td>23.3</td>\n",
              "      <td>0.672</td>\n",
              "      <td>32</td>\n",
              "      <td>1</td>\n",
              "    </tr>\n",
              "    <tr>\n",
              "      <th>3</th>\n",
              "      <td>1</td>\n",
              "      <td>89.0</td>\n",
              "      <td>66.0</td>\n",
              "      <td>28.1</td>\n",
              "      <td>0.167</td>\n",
              "      <td>21</td>\n",
              "      <td>0</td>\n",
              "    </tr>\n",
              "    <tr>\n",
              "      <th>4</th>\n",
              "      <td>0</td>\n",
              "      <td>137.0</td>\n",
              "      <td>40.0</td>\n",
              "      <td>43.1</td>\n",
              "      <td>2.288</td>\n",
              "      <td>33</td>\n",
              "      <td>1</td>\n",
              "    </tr>\n",
              "    <tr>\n",
              "      <th>...</th>\n",
              "      <td>...</td>\n",
              "      <td>...</td>\n",
              "      <td>...</td>\n",
              "      <td>...</td>\n",
              "      <td>...</td>\n",
              "      <td>...</td>\n",
              "      <td>...</td>\n",
              "    </tr>\n",
              "    <tr>\n",
              "      <th>763</th>\n",
              "      <td>10</td>\n",
              "      <td>101.0</td>\n",
              "      <td>76.0</td>\n",
              "      <td>32.9</td>\n",
              "      <td>0.171</td>\n",
              "      <td>63</td>\n",
              "      <td>0</td>\n",
              "    </tr>\n",
              "    <tr>\n",
              "      <th>764</th>\n",
              "      <td>2</td>\n",
              "      <td>122.0</td>\n",
              "      <td>70.0</td>\n",
              "      <td>36.8</td>\n",
              "      <td>0.340</td>\n",
              "      <td>27</td>\n",
              "      <td>0</td>\n",
              "    </tr>\n",
              "    <tr>\n",
              "      <th>765</th>\n",
              "      <td>5</td>\n",
              "      <td>121.0</td>\n",
              "      <td>72.0</td>\n",
              "      <td>26.2</td>\n",
              "      <td>0.245</td>\n",
              "      <td>30</td>\n",
              "      <td>0</td>\n",
              "    </tr>\n",
              "    <tr>\n",
              "      <th>766</th>\n",
              "      <td>1</td>\n",
              "      <td>126.0</td>\n",
              "      <td>60.0</td>\n",
              "      <td>30.1</td>\n",
              "      <td>0.349</td>\n",
              "      <td>47</td>\n",
              "      <td>1</td>\n",
              "    </tr>\n",
              "    <tr>\n",
              "      <th>767</th>\n",
              "      <td>1</td>\n",
              "      <td>93.0</td>\n",
              "      <td>70.0</td>\n",
              "      <td>30.4</td>\n",
              "      <td>0.315</td>\n",
              "      <td>23</td>\n",
              "      <td>0</td>\n",
              "    </tr>\n",
              "  </tbody>\n",
              "</table>\n",
              "<p>768 rows × 7 columns</p>\n",
              "</div>"
            ],
            "text/plain": [
              "     Pregnancies  Glucose  ...  Age  Outcome\n",
              "0              6    148.0  ...   50        1\n",
              "1              1     85.0  ...   31        0\n",
              "2              8    183.0  ...   32        1\n",
              "3              1     89.0  ...   21        0\n",
              "4              0    137.0  ...   33        1\n",
              "..           ...      ...  ...  ...      ...\n",
              "763           10    101.0  ...   63        0\n",
              "764            2    122.0  ...   27        0\n",
              "765            5    121.0  ...   30        0\n",
              "766            1    126.0  ...   47        1\n",
              "767            1     93.0  ...   23        0\n",
              "\n",
              "[768 rows x 7 columns]"
            ]
          },
          "metadata": {
            "tags": []
          },
          "execution_count": 11
        }
      ]
    },
    {
      "cell_type": "markdown",
      "metadata": {
        "id": "VvpMls5zFciD"
      },
      "source": [
        "Let's now Seperate the data diabetes_missing_value_threshold into features and labels \n",
        "\n",
        "Hey buddy! label is something which is dependent on other features for its outcome. You can also called it as our Target variable which we predict using ML algorithms.\n",
        "\n",
        "Can you think which column would be considered as label.\n"
      ]
    },
    {
      "cell_type": "code",
      "metadata": {
        "id": "ta01QXy5FciD"
      },
      "source": [
        "\n",
        "diabetes_missing_value_threshold_features = diabetes_missing_value_threshold.iloc[:, :-1]#code\n",
        "\n",
        "diabetes_missing_value_threshold_label= diabetes_missing_value_threshold['Outcome']#code\n"
      ],
      "execution_count": 12,
      "outputs": []
    },
    {
      "cell_type": "code",
      "metadata": {
        "id": "b2Slxcc2FciE",
        "colab": {
          "base_uri": "https://localhost:8080/",
          "height": 419
        },
        "outputId": "5c59638d-c10b-49a8-832e-ec2130246441"
      },
      "source": [
        "#print diabetes_missing_value_threshold_features\n",
        "diabetes_missing_value_threshold_features"
      ],
      "execution_count": 13,
      "outputs": [
        {
          "output_type": "execute_result",
          "data": {
            "text/html": [
              "<div>\n",
              "<style scoped>\n",
              "    .dataframe tbody tr th:only-of-type {\n",
              "        vertical-align: middle;\n",
              "    }\n",
              "\n",
              "    .dataframe tbody tr th {\n",
              "        vertical-align: top;\n",
              "    }\n",
              "\n",
              "    .dataframe thead th {\n",
              "        text-align: right;\n",
              "    }\n",
              "</style>\n",
              "<table border=\"1\" class=\"dataframe\">\n",
              "  <thead>\n",
              "    <tr style=\"text-align: right;\">\n",
              "      <th></th>\n",
              "      <th>Pregnancies</th>\n",
              "      <th>Glucose</th>\n",
              "      <th>BloodPressure</th>\n",
              "      <th>BMI</th>\n",
              "      <th>DiabetesPedigreeFunction</th>\n",
              "      <th>Age</th>\n",
              "    </tr>\n",
              "  </thead>\n",
              "  <tbody>\n",
              "    <tr>\n",
              "      <th>0</th>\n",
              "      <td>6</td>\n",
              "      <td>148.0</td>\n",
              "      <td>72.0</td>\n",
              "      <td>33.6</td>\n",
              "      <td>0.627</td>\n",
              "      <td>50</td>\n",
              "    </tr>\n",
              "    <tr>\n",
              "      <th>1</th>\n",
              "      <td>1</td>\n",
              "      <td>85.0</td>\n",
              "      <td>66.0</td>\n",
              "      <td>26.6</td>\n",
              "      <td>0.351</td>\n",
              "      <td>31</td>\n",
              "    </tr>\n",
              "    <tr>\n",
              "      <th>2</th>\n",
              "      <td>8</td>\n",
              "      <td>183.0</td>\n",
              "      <td>64.0</td>\n",
              "      <td>23.3</td>\n",
              "      <td>0.672</td>\n",
              "      <td>32</td>\n",
              "    </tr>\n",
              "    <tr>\n",
              "      <th>3</th>\n",
              "      <td>1</td>\n",
              "      <td>89.0</td>\n",
              "      <td>66.0</td>\n",
              "      <td>28.1</td>\n",
              "      <td>0.167</td>\n",
              "      <td>21</td>\n",
              "    </tr>\n",
              "    <tr>\n",
              "      <th>4</th>\n",
              "      <td>0</td>\n",
              "      <td>137.0</td>\n",
              "      <td>40.0</td>\n",
              "      <td>43.1</td>\n",
              "      <td>2.288</td>\n",
              "      <td>33</td>\n",
              "    </tr>\n",
              "    <tr>\n",
              "      <th>...</th>\n",
              "      <td>...</td>\n",
              "      <td>...</td>\n",
              "      <td>...</td>\n",
              "      <td>...</td>\n",
              "      <td>...</td>\n",
              "      <td>...</td>\n",
              "    </tr>\n",
              "    <tr>\n",
              "      <th>763</th>\n",
              "      <td>10</td>\n",
              "      <td>101.0</td>\n",
              "      <td>76.0</td>\n",
              "      <td>32.9</td>\n",
              "      <td>0.171</td>\n",
              "      <td>63</td>\n",
              "    </tr>\n",
              "    <tr>\n",
              "      <th>764</th>\n",
              "      <td>2</td>\n",
              "      <td>122.0</td>\n",
              "      <td>70.0</td>\n",
              "      <td>36.8</td>\n",
              "      <td>0.340</td>\n",
              "      <td>27</td>\n",
              "    </tr>\n",
              "    <tr>\n",
              "      <th>765</th>\n",
              "      <td>5</td>\n",
              "      <td>121.0</td>\n",
              "      <td>72.0</td>\n",
              "      <td>26.2</td>\n",
              "      <td>0.245</td>\n",
              "      <td>30</td>\n",
              "    </tr>\n",
              "    <tr>\n",
              "      <th>766</th>\n",
              "      <td>1</td>\n",
              "      <td>126.0</td>\n",
              "      <td>60.0</td>\n",
              "      <td>30.1</td>\n",
              "      <td>0.349</td>\n",
              "      <td>47</td>\n",
              "    </tr>\n",
              "    <tr>\n",
              "      <th>767</th>\n",
              "      <td>1</td>\n",
              "      <td>93.0</td>\n",
              "      <td>70.0</td>\n",
              "      <td>30.4</td>\n",
              "      <td>0.315</td>\n",
              "      <td>23</td>\n",
              "    </tr>\n",
              "  </tbody>\n",
              "</table>\n",
              "<p>768 rows × 6 columns</p>\n",
              "</div>"
            ],
            "text/plain": [
              "     Pregnancies  Glucose  BloodPressure   BMI  DiabetesPedigreeFunction  Age\n",
              "0              6    148.0           72.0  33.6                     0.627   50\n",
              "1              1     85.0           66.0  26.6                     0.351   31\n",
              "2              8    183.0           64.0  23.3                     0.672   32\n",
              "3              1     89.0           66.0  28.1                     0.167   21\n",
              "4              0    137.0           40.0  43.1                     2.288   33\n",
              "..           ...      ...            ...   ...                       ...  ...\n",
              "763           10    101.0           76.0  32.9                     0.171   63\n",
              "764            2    122.0           70.0  36.8                     0.340   27\n",
              "765            5    121.0           72.0  26.2                     0.245   30\n",
              "766            1    126.0           60.0  30.1                     0.349   47\n",
              "767            1     93.0           70.0  30.4                     0.315   23\n",
              "\n",
              "[768 rows x 6 columns]"
            ]
          },
          "metadata": {
            "tags": []
          },
          "execution_count": 13
        }
      ]
    },
    {
      "cell_type": "code",
      "metadata": {
        "id": "XH-wtuHWFciF",
        "colab": {
          "base_uri": "https://localhost:8080/"
        },
        "outputId": "62fcd2a1-4910-41e8-ed89-b8de5687f7bd"
      },
      "source": [
        "#print diabetes_missing_value_threshold_label\n",
        "print(diabetes_missing_value_threshold_label)"
      ],
      "execution_count": 14,
      "outputs": [
        {
          "output_type": "stream",
          "text": [
            "0      1\n",
            "1      0\n",
            "2      1\n",
            "3      0\n",
            "4      1\n",
            "      ..\n",
            "763    0\n",
            "764    0\n",
            "765    0\n",
            "766    1\n",
            "767    0\n",
            "Name: Outcome, Length: 768, dtype: int64\n"
          ],
          "name": "stdout"
        }
      ]
    },
    {
      "cell_type": "markdown",
      "metadata": {
        "id": "PvwdQUkbFciG"
      },
      "source": [
        "## (b) Variance Threshold\n",
        "\n",
        "<p style='text-align: right;'> 20 points</p>\n",
        "\n",
        "If the variance is low or close to zero, then a feature is approximately constant and will not improve the performance of the model. In that case, it should be removed.\n",
        "\n",
        "Variance will also be very low for a feature if only a handful of observations of that feature differ from a constant value.\n"
      ]
    },
    {
      "cell_type": "markdown",
      "metadata": {
        "id": "z3Weh-XeFciG"
      },
      "source": [
        "Reference-\n",
        "https://www.youtube.com/watch?v=uMlU2JaiOd8"
      ]
    },
    {
      "cell_type": "markdown",
      "metadata": {
        "id": "zwu9dRgjFciH"
      },
      "source": [
        "Are you ready to implement feature selection using variance threshold? Smile and download the dataset diabetes_cleaned.csv from https://github.com/arupbhunia/Data-Pre-processing/blob/master/datasets/diabetes_cleaned.csv\n",
        "\n",
        "Dataset used - diabetes_cleaned.csv"
      ]
    },
    {
      "cell_type": "code",
      "metadata": {
        "id": "4zatKcLCFciI",
        "colab": {
          "base_uri": "https://localhost:8080/",
          "height": 204
        },
        "outputId": "79fe1c6f-11dc-46bb-f018-719d2c904373"
      },
      "source": [
        "# load the csv to dataframe name \"diabetes\" and print the head values\n",
        "diabetes = pd.read_csv('diabetes_cleaned.csv')\n",
        "# display diabetes.head()\n",
        "diabetes.head()"
      ],
      "execution_count": 15,
      "outputs": [
        {
          "output_type": "execute_result",
          "data": {
            "text/html": [
              "<div>\n",
              "<style scoped>\n",
              "    .dataframe tbody tr th:only-of-type {\n",
              "        vertical-align: middle;\n",
              "    }\n",
              "\n",
              "    .dataframe tbody tr th {\n",
              "        vertical-align: top;\n",
              "    }\n",
              "\n",
              "    .dataframe thead th {\n",
              "        text-align: right;\n",
              "    }\n",
              "</style>\n",
              "<table border=\"1\" class=\"dataframe\">\n",
              "  <thead>\n",
              "    <tr style=\"text-align: right;\">\n",
              "      <th></th>\n",
              "      <th>Pregnancies</th>\n",
              "      <th>Glucose</th>\n",
              "      <th>BloodPressure</th>\n",
              "      <th>SkinThickness</th>\n",
              "      <th>Insulin</th>\n",
              "      <th>BMI</th>\n",
              "      <th>DiabetesPedigreeFunction</th>\n",
              "      <th>Age</th>\n",
              "      <th>Outcome</th>\n",
              "    </tr>\n",
              "  </thead>\n",
              "  <tbody>\n",
              "    <tr>\n",
              "      <th>0</th>\n",
              "      <td>6.0</td>\n",
              "      <td>148.0</td>\n",
              "      <td>72.0</td>\n",
              "      <td>35.0</td>\n",
              "      <td>218.937760</td>\n",
              "      <td>33.6</td>\n",
              "      <td>0.627</td>\n",
              "      <td>50.0</td>\n",
              "      <td>1</td>\n",
              "    </tr>\n",
              "    <tr>\n",
              "      <th>1</th>\n",
              "      <td>1.0</td>\n",
              "      <td>85.0</td>\n",
              "      <td>66.0</td>\n",
              "      <td>29.0</td>\n",
              "      <td>70.189298</td>\n",
              "      <td>26.6</td>\n",
              "      <td>0.351</td>\n",
              "      <td>31.0</td>\n",
              "      <td>0</td>\n",
              "    </tr>\n",
              "    <tr>\n",
              "      <th>2</th>\n",
              "      <td>8.0</td>\n",
              "      <td>183.0</td>\n",
              "      <td>64.0</td>\n",
              "      <td>29.0</td>\n",
              "      <td>269.968908</td>\n",
              "      <td>23.3</td>\n",
              "      <td>0.672</td>\n",
              "      <td>32.0</td>\n",
              "      <td>1</td>\n",
              "    </tr>\n",
              "    <tr>\n",
              "      <th>3</th>\n",
              "      <td>1.0</td>\n",
              "      <td>89.0</td>\n",
              "      <td>66.0</td>\n",
              "      <td>23.0</td>\n",
              "      <td>94.000000</td>\n",
              "      <td>28.1</td>\n",
              "      <td>0.167</td>\n",
              "      <td>21.0</td>\n",
              "      <td>0</td>\n",
              "    </tr>\n",
              "    <tr>\n",
              "      <th>4</th>\n",
              "      <td>0.0</td>\n",
              "      <td>137.0</td>\n",
              "      <td>40.0</td>\n",
              "      <td>35.0</td>\n",
              "      <td>168.000000</td>\n",
              "      <td>43.1</td>\n",
              "      <td>2.288</td>\n",
              "      <td>33.0</td>\n",
              "      <td>1</td>\n",
              "    </tr>\n",
              "  </tbody>\n",
              "</table>\n",
              "</div>"
            ],
            "text/plain": [
              "   Pregnancies  Glucose  BloodPressure  ...  DiabetesPedigreeFunction   Age  Outcome\n",
              "0          6.0    148.0           72.0  ...                     0.627  50.0        1\n",
              "1          1.0     85.0           66.0  ...                     0.351  31.0        0\n",
              "2          8.0    183.0           64.0  ...                     0.672  32.0        1\n",
              "3          1.0     89.0           66.0  ...                     0.167  21.0        0\n",
              "4          0.0    137.0           40.0  ...                     2.288  33.0        1\n",
              "\n",
              "[5 rows x 9 columns]"
            ]
          },
          "metadata": {
            "tags": []
          },
          "execution_count": 15
        }
      ]
    },
    {
      "cell_type": "code",
      "metadata": {
        "id": "KaUVUYkoFciI"
      },
      "source": [
        "# seperate the features and the target as x and y \n",
        "X, y = diabetes.iloc[:, :-1], diabetes['Outcome']"
      ],
      "execution_count": 16,
      "outputs": []
    },
    {
      "cell_type": "markdown",
      "metadata": {
        "id": "JT6B_kfvFciJ"
      },
      "source": [
        "If you have seen the video then Krish must have told you to use sklearn library to calculate variance threshold. But we will use var function to calculate our variance so that you understand the concept from base. "
      ]
    },
    {
      "cell_type": "code",
      "metadata": {
        "id": "7CNGOf-aFciJ",
        "colab": {
          "base_uri": "https://localhost:8080/"
        },
        "outputId": "1d992878-e39e-4880-8d7d-c3aac01f969a"
      },
      "source": [
        "# Return  the variance for X along the specified axis=0.\n",
        "np.var(X, axis = 0)"
      ],
      "execution_count": 17,
      "outputs": [
        {
          "output_type": "execute_result",
          "data": {
            "text/plain": [
              "Pregnancies                   11.339272\n",
              "Glucose                      928.469828\n",
              "BloodPressure                146.131068\n",
              "SkinThickness                 77.184935\n",
              "Insulin                     9471.909972\n",
              "BMI                           48.750058\n",
              "DiabetesPedigreeFunction       0.109636\n",
              "Age                          138.122964\n",
              "dtype: float64"
            ]
          },
          "metadata": {
            "tags": []
          },
          "execution_count": 17
        }
      ]
    },
    {
      "cell_type": "markdown",
      "metadata": {
        "id": "U1EC4vWPFciJ"
      },
      "source": [
        "    Hey smarty! did you see that DiabetesPedigreeFunction variance is less so it brings almost no information because it is (almost) constant , this can be a justification to remove DiabetesPedigreeFunction column but before considering this we should scale these features because they are of different scales.\n",
        "    \n",
        "Reference for minmax scaling: https://scikit-learn.org/stable/modules/generated/sklearn.preprocessing.MinMaxScaler.html\n",
        "\n",
        "Lets use sklearn minmax scaler here.\n"
      ]
    },
    {
      "cell_type": "code",
      "metadata": {
        "id": "qfRon7Y-FciK"
      },
      "source": [
        "# import minmax_scale\n",
        "from sklearn.preprocessing import minmax_scale\n",
        "# use minmax scale with feature_range=(0,10) and columns=X.columns,to scale the features of dataframe and store them into X_scaled_df \n",
        "X_scaled_df = pd.DataFrame(minmax_scale(X, feature_range=(0,10)), columns=X.columns)"
      ],
      "execution_count": 18,
      "outputs": []
    },
    {
      "cell_type": "markdown",
      "metadata": {
        "id": "7fTDwIJWFciK"
      },
      "source": [
        "\n",
        "Wait a minute! whats minmax scaling?\n",
        "\n",
        "It is the simplest method and consists in rescaling the range of features to scale the range in [0, 1] or [−1, 1]\n",
        "\n",
        "hey hey heyieeee! Fun fact time:\n",
        "\n",
        "There is another scaling method called StandardScaler which follows Standard Normal Distribution (SND). Therefore, it makes mean = 0 and scales the data to unit variance. \n",
        "\n",
        "Cool right? :)"
      ]
    },
    {
      "cell_type": "code",
      "metadata": {
        "id": "H0L_kDVwFciL",
        "colab": {
          "base_uri": "https://localhost:8080/",
          "height": 419
        },
        "outputId": "3b00a823-6bd1-4082-b2e9-0582a5b315b9"
      },
      "source": [
        "# return X_scaled_df\n",
        "X_scaled_df"
      ],
      "execution_count": 19,
      "outputs": [
        {
          "output_type": "execute_result",
          "data": {
            "text/html": [
              "<div>\n",
              "<style scoped>\n",
              "    .dataframe tbody tr th:only-of-type {\n",
              "        vertical-align: middle;\n",
              "    }\n",
              "\n",
              "    .dataframe tbody tr th {\n",
              "        vertical-align: top;\n",
              "    }\n",
              "\n",
              "    .dataframe thead th {\n",
              "        text-align: right;\n",
              "    }\n",
              "</style>\n",
              "<table border=\"1\" class=\"dataframe\">\n",
              "  <thead>\n",
              "    <tr style=\"text-align: right;\">\n",
              "      <th></th>\n",
              "      <th>Pregnancies</th>\n",
              "      <th>Glucose</th>\n",
              "      <th>BloodPressure</th>\n",
              "      <th>SkinThickness</th>\n",
              "      <th>Insulin</th>\n",
              "      <th>BMI</th>\n",
              "      <th>DiabetesPedigreeFunction</th>\n",
              "      <th>Age</th>\n",
              "    </tr>\n",
              "  </thead>\n",
              "  <tbody>\n",
              "    <tr>\n",
              "      <th>0</th>\n",
              "      <td>3.529412</td>\n",
              "      <td>6.709677</td>\n",
              "      <td>4.897959</td>\n",
              "      <td>3.043478</td>\n",
              "      <td>2.740295</td>\n",
              "      <td>3.149284</td>\n",
              "      <td>2.344150</td>\n",
              "      <td>4.833333</td>\n",
              "    </tr>\n",
              "    <tr>\n",
              "      <th>1</th>\n",
              "      <td>0.588235</td>\n",
              "      <td>2.645161</td>\n",
              "      <td>4.285714</td>\n",
              "      <td>2.391304</td>\n",
              "      <td>1.018185</td>\n",
              "      <td>1.717791</td>\n",
              "      <td>1.165670</td>\n",
              "      <td>1.666667</td>\n",
              "    </tr>\n",
              "    <tr>\n",
              "      <th>2</th>\n",
              "      <td>4.705882</td>\n",
              "      <td>8.967742</td>\n",
              "      <td>4.081633</td>\n",
              "      <td>2.391304</td>\n",
              "      <td>3.331099</td>\n",
              "      <td>1.042945</td>\n",
              "      <td>2.536294</td>\n",
              "      <td>1.833333</td>\n",
              "    </tr>\n",
              "    <tr>\n",
              "      <th>3</th>\n",
              "      <td>0.588235</td>\n",
              "      <td>2.903226</td>\n",
              "      <td>4.285714</td>\n",
              "      <td>1.739130</td>\n",
              "      <td>1.293850</td>\n",
              "      <td>2.024540</td>\n",
              "      <td>0.380017</td>\n",
              "      <td>0.000000</td>\n",
              "    </tr>\n",
              "    <tr>\n",
              "      <th>4</th>\n",
              "      <td>0.000000</td>\n",
              "      <td>6.000000</td>\n",
              "      <td>1.632653</td>\n",
              "      <td>3.043478</td>\n",
              "      <td>2.150572</td>\n",
              "      <td>5.092025</td>\n",
              "      <td>9.436379</td>\n",
              "      <td>2.000000</td>\n",
              "    </tr>\n",
              "    <tr>\n",
              "      <th>...</th>\n",
              "      <td>...</td>\n",
              "      <td>...</td>\n",
              "      <td>...</td>\n",
              "      <td>...</td>\n",
              "      <td>...</td>\n",
              "      <td>...</td>\n",
              "      <td>...</td>\n",
              "      <td>...</td>\n",
              "    </tr>\n",
              "    <tr>\n",
              "      <th>763</th>\n",
              "      <td>5.882353</td>\n",
              "      <td>3.677419</td>\n",
              "      <td>5.306122</td>\n",
              "      <td>4.456522</td>\n",
              "      <td>2.289500</td>\n",
              "      <td>3.006135</td>\n",
              "      <td>0.397096</td>\n",
              "      <td>7.000000</td>\n",
              "    </tr>\n",
              "    <tr>\n",
              "      <th>764</th>\n",
              "      <td>1.176471</td>\n",
              "      <td>5.032258</td>\n",
              "      <td>4.693878</td>\n",
              "      <td>2.173913</td>\n",
              "      <td>2.044244</td>\n",
              "      <td>3.803681</td>\n",
              "      <td>1.118702</td>\n",
              "      <td>1.000000</td>\n",
              "    </tr>\n",
              "    <tr>\n",
              "      <th>765</th>\n",
              "      <td>2.941176</td>\n",
              "      <td>4.967742</td>\n",
              "      <td>4.897959</td>\n",
              "      <td>1.739130</td>\n",
              "      <td>1.502241</td>\n",
              "      <td>1.635992</td>\n",
              "      <td>0.713066</td>\n",
              "      <td>1.500000</td>\n",
              "    </tr>\n",
              "    <tr>\n",
              "      <th>766</th>\n",
              "      <td>0.588235</td>\n",
              "      <td>5.290323</td>\n",
              "      <td>3.673469</td>\n",
              "      <td>2.391304</td>\n",
              "      <td>2.217956</td>\n",
              "      <td>2.433538</td>\n",
              "      <td>1.157131</td>\n",
              "      <td>4.333333</td>\n",
              "    </tr>\n",
              "    <tr>\n",
              "      <th>767</th>\n",
              "      <td>0.588235</td>\n",
              "      <td>3.161290</td>\n",
              "      <td>4.693878</td>\n",
              "      <td>2.608696</td>\n",
              "      <td>1.215086</td>\n",
              "      <td>2.494888</td>\n",
              "      <td>1.011956</td>\n",
              "      <td>0.333333</td>\n",
              "    </tr>\n",
              "  </tbody>\n",
              "</table>\n",
              "<p>768 rows × 8 columns</p>\n",
              "</div>"
            ],
            "text/plain": [
              "     Pregnancies   Glucose  ...  DiabetesPedigreeFunction       Age\n",
              "0       3.529412  6.709677  ...                  2.344150  4.833333\n",
              "1       0.588235  2.645161  ...                  1.165670  1.666667\n",
              "2       4.705882  8.967742  ...                  2.536294  1.833333\n",
              "3       0.588235  2.903226  ...                  0.380017  0.000000\n",
              "4       0.000000  6.000000  ...                  9.436379  2.000000\n",
              "..           ...       ...  ...                       ...       ...\n",
              "763     5.882353  3.677419  ...                  0.397096  7.000000\n",
              "764     1.176471  5.032258  ...                  1.118702  1.000000\n",
              "765     2.941176  4.967742  ...                  0.713066  1.500000\n",
              "766     0.588235  5.290323  ...                  1.157131  4.333333\n",
              "767     0.588235  3.161290  ...                  1.011956  0.333333\n",
              "\n",
              "[768 rows x 8 columns]"
            ]
          },
          "metadata": {
            "tags": []
          },
          "execution_count": 19
        }
      ]
    },
    {
      "cell_type": "code",
      "metadata": {
        "id": "9EASfsMDFciL",
        "colab": {
          "base_uri": "https://localhost:8080/"
        },
        "outputId": "07704161-32ef-4e88-9478-e63a47e3a7cb"
      },
      "source": [
        "# Again return  the variance for X along the specified axis=0 to check the scales after using minmax scaler.\n",
        "np.var(X_scaled_df, axis = 0)"
      ],
      "execution_count": 20,
      "outputs": [
        {
          "output_type": "execute_result",
          "data": {
            "text/plain": [
              "Pregnancies                 3.923624\n",
              "Glucose                     3.864599\n",
              "BloodPressure               1.521565\n",
              "SkinThickness               0.911920\n",
              "Insulin                     1.269563\n",
              "BMI                         2.038719\n",
              "DiabetesPedigreeFunction    1.998841\n",
              "Age                         3.836749\n",
              "dtype: float64"
            ]
          },
          "metadata": {
            "tags": []
          },
          "execution_count": 20
        }
      ]
    },
    {
      "cell_type": "markdown",
      "metadata": {
        "id": "R9_7fyxEFciM"
      },
      "source": [
        "Now again you can check the previous video:https://www.youtube.com/watch?v=uMlU2JaiOd8"
      ]
    },
    {
      "cell_type": "code",
      "metadata": {
        "id": "87gBhk7WFciM"
      },
      "source": [
        "# import variancethreshold\n",
        "from sklearn.feature_selection import VarianceThreshold\n",
        "# set threshold=1 and define it to variable select_features\n",
        "select_features = VarianceThreshold(threshold = 1)"
      ],
      "execution_count": 21,
      "outputs": []
    },
    {
      "cell_type": "markdown",
      "metadata": {
        "id": "_YaNsPN3FciM"
      },
      "source": [
        "   Impliment fit_transform on select_features passing X_scaled_df into it and save this result in variable X_variance_threshold_df\n"
      ]
    },
    {
      "cell_type": "code",
      "metadata": {
        "id": "inxUiR7FFciN"
      },
      "source": [
        "X_variance_threshold_df= select_features.fit_transform(X_scaled_df)#code\n"
      ],
      "execution_count": 22,
      "outputs": []
    },
    {
      "cell_type": "markdown",
      "metadata": {
        "id": "KdpuNLGDFciN"
      },
      "source": [
        "Were you thinking of fit_transform? We are here to help you understand\n",
        "\n",
        "fit_transform() is used on the training data so that we can scale the training data and also learn the scaling parameters of that data. Here, the model built by us will learn the mean and variance of the features of the training set. These learned parameters are then used to scale our test data\n",
        "\n",
        "Don't worry you will get lot of challenges to use these things in our other assignments"
      ]
    },
    {
      "cell_type": "code",
      "metadata": {
        "id": "3RzOs4h-FciN",
        "colab": {
          "base_uri": "https://localhost:8080/"
        },
        "outputId": "62eadeba-69d0-4bb1-e0f5-8ff5e70fedfa"
      },
      "source": [
        "#print X_variance_threshold_df\n",
        "X_variance_threshold_df"
      ],
      "execution_count": 23,
      "outputs": [
        {
          "output_type": "execute_result",
          "data": {
            "text/plain": [
              "array([[3.52941176, 6.70967742, 4.89795918, ..., 3.14928425, 2.3441503 ,\n",
              "        4.83333333],\n",
              "       [0.58823529, 2.64516129, 4.28571429, ..., 1.71779141, 1.16567037,\n",
              "        1.66666667],\n",
              "       [4.70588235, 8.96774194, 4.08163265, ..., 1.04294479, 2.53629377,\n",
              "        1.83333333],\n",
              "       ...,\n",
              "       [2.94117647, 4.96774194, 4.89795918, ..., 1.63599182, 0.71306576,\n",
              "        1.5       ],\n",
              "       [0.58823529, 5.29032258, 3.67346939, ..., 2.43353783, 1.15713066,\n",
              "        4.33333333],\n",
              "       [0.58823529, 3.16129032, 4.69387755, ..., 2.49488753, 1.01195559,\n",
              "        0.33333333]])"
            ]
          },
          "metadata": {
            "tags": []
          },
          "execution_count": 23
        }
      ]
    },
    {
      "cell_type": "code",
      "metadata": {
        "id": "BrKIgxYJFciO"
      },
      "source": [
        "#Convert X_variance_threshold_df into dataframe\n",
        "X_variance_threshold_df = pd.DataFrame(X_variance_threshold_df)"
      ],
      "execution_count": 24,
      "outputs": []
    },
    {
      "cell_type": "code",
      "metadata": {
        "id": "1sh1P0kmFciO",
        "colab": {
          "base_uri": "https://localhost:8080/",
          "height": 204
        },
        "outputId": "75857049-63e9-4aa2-b68b-440263b7852f"
      },
      "source": [
        "# print of head values of X_variance_threshold_df \n",
        "X_variance_threshold_df.head()"
      ],
      "execution_count": 25,
      "outputs": [
        {
          "output_type": "execute_result",
          "data": {
            "text/html": [
              "<div>\n",
              "<style scoped>\n",
              "    .dataframe tbody tr th:only-of-type {\n",
              "        vertical-align: middle;\n",
              "    }\n",
              "\n",
              "    .dataframe tbody tr th {\n",
              "        vertical-align: top;\n",
              "    }\n",
              "\n",
              "    .dataframe thead th {\n",
              "        text-align: right;\n",
              "    }\n",
              "</style>\n",
              "<table border=\"1\" class=\"dataframe\">\n",
              "  <thead>\n",
              "    <tr style=\"text-align: right;\">\n",
              "      <th></th>\n",
              "      <th>0</th>\n",
              "      <th>1</th>\n",
              "      <th>2</th>\n",
              "      <th>3</th>\n",
              "      <th>4</th>\n",
              "      <th>5</th>\n",
              "      <th>6</th>\n",
              "    </tr>\n",
              "  </thead>\n",
              "  <tbody>\n",
              "    <tr>\n",
              "      <th>0</th>\n",
              "      <td>3.529412</td>\n",
              "      <td>6.709677</td>\n",
              "      <td>4.897959</td>\n",
              "      <td>2.740295</td>\n",
              "      <td>3.149284</td>\n",
              "      <td>2.344150</td>\n",
              "      <td>4.833333</td>\n",
              "    </tr>\n",
              "    <tr>\n",
              "      <th>1</th>\n",
              "      <td>0.588235</td>\n",
              "      <td>2.645161</td>\n",
              "      <td>4.285714</td>\n",
              "      <td>1.018185</td>\n",
              "      <td>1.717791</td>\n",
              "      <td>1.165670</td>\n",
              "      <td>1.666667</td>\n",
              "    </tr>\n",
              "    <tr>\n",
              "      <th>2</th>\n",
              "      <td>4.705882</td>\n",
              "      <td>8.967742</td>\n",
              "      <td>4.081633</td>\n",
              "      <td>3.331099</td>\n",
              "      <td>1.042945</td>\n",
              "      <td>2.536294</td>\n",
              "      <td>1.833333</td>\n",
              "    </tr>\n",
              "    <tr>\n",
              "      <th>3</th>\n",
              "      <td>0.588235</td>\n",
              "      <td>2.903226</td>\n",
              "      <td>4.285714</td>\n",
              "      <td>1.293850</td>\n",
              "      <td>2.024540</td>\n",
              "      <td>0.380017</td>\n",
              "      <td>0.000000</td>\n",
              "    </tr>\n",
              "    <tr>\n",
              "      <th>4</th>\n",
              "      <td>0.000000</td>\n",
              "      <td>6.000000</td>\n",
              "      <td>1.632653</td>\n",
              "      <td>2.150572</td>\n",
              "      <td>5.092025</td>\n",
              "      <td>9.436379</td>\n",
              "      <td>2.000000</td>\n",
              "    </tr>\n",
              "  </tbody>\n",
              "</table>\n",
              "</div>"
            ],
            "text/plain": [
              "          0         1         2         3         4         5         6\n",
              "0  3.529412  6.709677  4.897959  2.740295  3.149284  2.344150  4.833333\n",
              "1  0.588235  2.645161  4.285714  1.018185  1.717791  1.165670  1.666667\n",
              "2  4.705882  8.967742  4.081633  3.331099  1.042945  2.536294  1.833333\n",
              "3  0.588235  2.903226  4.285714  1.293850  2.024540  0.380017  0.000000\n",
              "4  0.000000  6.000000  1.632653  2.150572  5.092025  9.436379  2.000000"
            ]
          },
          "metadata": {
            "tags": []
          },
          "execution_count": 25
        }
      ]
    },
    {
      "cell_type": "markdown",
      "metadata": {
        "id": "r0_SyBGNFciO"
      },
      "source": [
        "Below mentioned is the function get_selected_features for returning selected_features to be used further.\n",
        "\n",
        "Warning ;)\n",
        "If we have provided you a readymade function, don't just use it but understand it too."
      ]
    },
    {
      "cell_type": "code",
      "metadata": {
        "id": "V1vmv7THFciP"
      },
      "source": [
        "def get_selected_features(raw_df,processed_df):\n",
        "    selected_features=[]\n",
        "    for i in range(len(processed_df.columns)):\n",
        "        for j in range(len(raw_df.columns)):\n",
        "            if (processed_df.iloc[:,i].equals(raw_df.iloc[:,j])):\n",
        "                selected_features.append(raw_df.columns[j])\n",
        "    return selected_features"
      ],
      "execution_count": 26,
      "outputs": []
    },
    {
      "cell_type": "code",
      "metadata": {
        "id": "MUzvLMzJFciP",
        "colab": {
          "base_uri": "https://localhost:8080/"
        },
        "outputId": "1a6ab43a-e413-4cb0-f246-1c38f66d9171"
      },
      "source": [
        "# pass the X_scaled_df as raw_df and X_variance_threshold_df as processed_df inside get_selected_features function\n",
        "selected_features= get_selected_features(X_scaled_df, X_variance_threshold_df)# code\n",
        "\n",
        "# print selected_features\n",
        "selected_features"
      ],
      "execution_count": 27,
      "outputs": [
        {
          "output_type": "execute_result",
          "data": {
            "text/plain": [
              "['Pregnancies',\n",
              " 'Glucose',\n",
              " 'BloodPressure',\n",
              " 'Insulin',\n",
              " 'BMI',\n",
              " 'DiabetesPedigreeFunction',\n",
              " 'Age']"
            ]
          },
          "metadata": {
            "tags": []
          },
          "execution_count": 27
        }
      ]
    },
    {
      "cell_type": "markdown",
      "metadata": {
        "id": "2hGr8CFFFciQ"
      },
      "source": [
        "Super! you can see SkinThickness feature is not selected as its variance is less.\n",
        "\n",
        "Lets give column names to our X_variance_threshold_df"
      ]
    },
    {
      "cell_type": "code",
      "metadata": {
        "id": "jNQWNMOuFciQ",
        "colab": {
          "base_uri": "https://localhost:8080/",
          "height": 419
        },
        "outputId": "860c03b9-2ea0-4fef-caca-1c0e20ada2df"
      },
      "source": [
        "# define selected_features as columns and save it in variabe named X_variance_threshold_df\n",
        "X_variance_threshold_df.columns = selected_features\n",
        "#print X_variance_threshold_df\n",
        "X_variance_threshold_df"
      ],
      "execution_count": 28,
      "outputs": [
        {
          "output_type": "execute_result",
          "data": {
            "text/html": [
              "<div>\n",
              "<style scoped>\n",
              "    .dataframe tbody tr th:only-of-type {\n",
              "        vertical-align: middle;\n",
              "    }\n",
              "\n",
              "    .dataframe tbody tr th {\n",
              "        vertical-align: top;\n",
              "    }\n",
              "\n",
              "    .dataframe thead th {\n",
              "        text-align: right;\n",
              "    }\n",
              "</style>\n",
              "<table border=\"1\" class=\"dataframe\">\n",
              "  <thead>\n",
              "    <tr style=\"text-align: right;\">\n",
              "      <th></th>\n",
              "      <th>Pregnancies</th>\n",
              "      <th>Glucose</th>\n",
              "      <th>BloodPressure</th>\n",
              "      <th>Insulin</th>\n",
              "      <th>BMI</th>\n",
              "      <th>DiabetesPedigreeFunction</th>\n",
              "      <th>Age</th>\n",
              "    </tr>\n",
              "  </thead>\n",
              "  <tbody>\n",
              "    <tr>\n",
              "      <th>0</th>\n",
              "      <td>3.529412</td>\n",
              "      <td>6.709677</td>\n",
              "      <td>4.897959</td>\n",
              "      <td>2.740295</td>\n",
              "      <td>3.149284</td>\n",
              "      <td>2.344150</td>\n",
              "      <td>4.833333</td>\n",
              "    </tr>\n",
              "    <tr>\n",
              "      <th>1</th>\n",
              "      <td>0.588235</td>\n",
              "      <td>2.645161</td>\n",
              "      <td>4.285714</td>\n",
              "      <td>1.018185</td>\n",
              "      <td>1.717791</td>\n",
              "      <td>1.165670</td>\n",
              "      <td>1.666667</td>\n",
              "    </tr>\n",
              "    <tr>\n",
              "      <th>2</th>\n",
              "      <td>4.705882</td>\n",
              "      <td>8.967742</td>\n",
              "      <td>4.081633</td>\n",
              "      <td>3.331099</td>\n",
              "      <td>1.042945</td>\n",
              "      <td>2.536294</td>\n",
              "      <td>1.833333</td>\n",
              "    </tr>\n",
              "    <tr>\n",
              "      <th>3</th>\n",
              "      <td>0.588235</td>\n",
              "      <td>2.903226</td>\n",
              "      <td>4.285714</td>\n",
              "      <td>1.293850</td>\n",
              "      <td>2.024540</td>\n",
              "      <td>0.380017</td>\n",
              "      <td>0.000000</td>\n",
              "    </tr>\n",
              "    <tr>\n",
              "      <th>4</th>\n",
              "      <td>0.000000</td>\n",
              "      <td>6.000000</td>\n",
              "      <td>1.632653</td>\n",
              "      <td>2.150572</td>\n",
              "      <td>5.092025</td>\n",
              "      <td>9.436379</td>\n",
              "      <td>2.000000</td>\n",
              "    </tr>\n",
              "    <tr>\n",
              "      <th>...</th>\n",
              "      <td>...</td>\n",
              "      <td>...</td>\n",
              "      <td>...</td>\n",
              "      <td>...</td>\n",
              "      <td>...</td>\n",
              "      <td>...</td>\n",
              "      <td>...</td>\n",
              "    </tr>\n",
              "    <tr>\n",
              "      <th>763</th>\n",
              "      <td>5.882353</td>\n",
              "      <td>3.677419</td>\n",
              "      <td>5.306122</td>\n",
              "      <td>2.289500</td>\n",
              "      <td>3.006135</td>\n",
              "      <td>0.397096</td>\n",
              "      <td>7.000000</td>\n",
              "    </tr>\n",
              "    <tr>\n",
              "      <th>764</th>\n",
              "      <td>1.176471</td>\n",
              "      <td>5.032258</td>\n",
              "      <td>4.693878</td>\n",
              "      <td>2.044244</td>\n",
              "      <td>3.803681</td>\n",
              "      <td>1.118702</td>\n",
              "      <td>1.000000</td>\n",
              "    </tr>\n",
              "    <tr>\n",
              "      <th>765</th>\n",
              "      <td>2.941176</td>\n",
              "      <td>4.967742</td>\n",
              "      <td>4.897959</td>\n",
              "      <td>1.502241</td>\n",
              "      <td>1.635992</td>\n",
              "      <td>0.713066</td>\n",
              "      <td>1.500000</td>\n",
              "    </tr>\n",
              "    <tr>\n",
              "      <th>766</th>\n",
              "      <td>0.588235</td>\n",
              "      <td>5.290323</td>\n",
              "      <td>3.673469</td>\n",
              "      <td>2.217956</td>\n",
              "      <td>2.433538</td>\n",
              "      <td>1.157131</td>\n",
              "      <td>4.333333</td>\n",
              "    </tr>\n",
              "    <tr>\n",
              "      <th>767</th>\n",
              "      <td>0.588235</td>\n",
              "      <td>3.161290</td>\n",
              "      <td>4.693878</td>\n",
              "      <td>1.215086</td>\n",
              "      <td>2.494888</td>\n",
              "      <td>1.011956</td>\n",
              "      <td>0.333333</td>\n",
              "    </tr>\n",
              "  </tbody>\n",
              "</table>\n",
              "<p>768 rows × 7 columns</p>\n",
              "</div>"
            ],
            "text/plain": [
              "     Pregnancies   Glucose  ...  DiabetesPedigreeFunction       Age\n",
              "0       3.529412  6.709677  ...                  2.344150  4.833333\n",
              "1       0.588235  2.645161  ...                  1.165670  1.666667\n",
              "2       4.705882  8.967742  ...                  2.536294  1.833333\n",
              "3       0.588235  2.903226  ...                  0.380017  0.000000\n",
              "4       0.000000  6.000000  ...                  9.436379  2.000000\n",
              "..           ...       ...  ...                       ...       ...\n",
              "763     5.882353  3.677419  ...                  0.397096  7.000000\n",
              "764     1.176471  5.032258  ...                  1.118702  1.000000\n",
              "765     2.941176  4.967742  ...                  0.713066  1.500000\n",
              "766     0.588235  5.290323  ...                  1.157131  4.333333\n",
              "767     0.588235  3.161290  ...                  1.011956  0.333333\n",
              "\n",
              "[768 rows x 7 columns]"
            ]
          },
          "metadata": {
            "tags": []
          },
          "execution_count": 28
        }
      ]
    },
    {
      "cell_type": "markdown",
      "metadata": {
        "id": "fZeDEthwFciR"
      },
      "source": [
        "## (c) Chi-Squared statistical test (SelectKBest)\n",
        "\n",
        "<p style='text-align: right;'> 20 points</p>\n",
        "\n",
        "Chi2 is a measure of dependency between two variables. It gives us a goodness of fit measure because it measures how well an observed distribution of a particular feature fits with the distribution that is expected if two features are independent.\n",
        "\n",
        "Scikit-Learn offers a feature selection estimator named SelectKBest which select K numbers of features based on the statistical analysis.\n",
        "\n",
        "Reference link: https://chrisalbon.com/machine_learning/feature_selection/chi-squared_for_feature_selection/"
      ]
    },
    {
      "cell_type": "markdown",
      "metadata": {
        "id": "5qSxkJ2uFciS"
      },
      "source": [
        "The below mentioned function generate_feature_scores_df is used to get feature score for using it in  Chi-Squared statistical test explained below"
      ]
    },
    {
      "cell_type": "code",
      "metadata": {
        "id": "YAVfTFPBFciS"
      },
      "source": [
        "def generate_feature_scores_df(X,Score):\n",
        "    feature_score=pd.DataFrame()\n",
        "    for i in range(X.shape[1]):\n",
        "        new =pd.DataFrame({\"Features\":X.columns[i],\"Score\":Score[i]},index=[i])\n",
        "        feature_score=pd.concat([feature_score,new])\n",
        "    return feature_score"
      ],
      "execution_count": 29,
      "outputs": []
    },
    {
      "cell_type": "markdown",
      "metadata": {
        "id": "DKKfLNdVFciT"
      },
      "source": [
        "Hey coder! lets use dataset - diabetes.csv from below link\n",
        "\n",
        "https://github.com/arupbhunia/Data-Pre-processing/blob/master/datasets/diabetes.csv"
      ]
    },
    {
      "cell_type": "code",
      "metadata": {
        "id": "1AGHk0urFciT"
      },
      "source": [
        "# create a data frame named diabetes and load the csv file again\n",
        "diabetes = pd.read_csv('diabetes.csv')"
      ],
      "execution_count": 30,
      "outputs": []
    },
    {
      "cell_type": "code",
      "metadata": {
        "id": "v8KDnxUVFciT",
        "colab": {
          "base_uri": "https://localhost:8080/"
        },
        "outputId": "1605a83b-b79f-49bf-ab81-6c277aeea761"
      },
      "source": [
        "# assign features to X variable and 'outcome' to y variable from the dataframe diabetes\n",
        "X, y = diabetes.iloc[:,:-1], diabetes['Outcome']"
      ],
      "execution_count": 31,
      "outputs": [
        {
          "output_type": "execute_result",
          "data": {
            "text/plain": [
              "0      1\n",
              "1      0\n",
              "2      1\n",
              "3      0\n",
              "4      1\n",
              "      ..\n",
              "763    0\n",
              "764    0\n",
              "765    0\n",
              "766    1\n",
              "767    0\n",
              "Name: Outcome, Length: 768, dtype: int64"
            ]
          },
          "metadata": {
            "tags": []
          },
          "execution_count": 31
        }
      ]
    },
    {
      "cell_type": "code",
      "metadata": {
        "id": "9n2-kO1DFciU"
      },
      "source": [
        "#import chi2 and SelectKBest\n",
        "from sklearn.feature_selection import SelectKBest\n",
        "from sklearn.feature_selection import chi2"
      ],
      "execution_count": 32,
      "outputs": []
    },
    {
      "cell_type": "code",
      "metadata": {
        "id": "PsyyJCriFciU"
      },
      "source": [
        "# converting data cast to a float type.\n",
        "X = X.astype(float)"
      ],
      "execution_count": 33,
      "outputs": []
    },
    {
      "cell_type": "markdown",
      "metadata": {
        "id": "ef5gVStOFciU"
      },
      "source": [
        "Lets use SelectKBest to calculate the best feature score. Use Chi2 as Score Function and no.of feature i.e. k as 4\n"
      ]
    },
    {
      "cell_type": "code",
      "metadata": {
        "id": "Kxsvks6YFciV"
      },
      "source": [
        "# Initialise SelectKBest with above parameters \n",
        "chi2_test= SelectKBest(chi2, k = 4)#\n",
        "\n",
        "# fit it with X and Y\n",
        "chi2_model= chi2_test.fit(X, y)#\n",
        "\n"
      ],
      "execution_count": 34,
      "outputs": []
    },
    {
      "cell_type": "code",
      "metadata": {
        "id": "83qiXrEGFciV",
        "colab": {
          "base_uri": "https://localhost:8080/"
        },
        "outputId": "557b2b1b-af42-47da-c480-6cbc2d037bb7"
      },
      "source": [
        "#print the scores of chi2_model\n",
        "chi2_model.scores_"
      ],
      "execution_count": 35,
      "outputs": [
        {
          "output_type": "execute_result",
          "data": {
            "text/plain": [
              "array([ 111.51969064, 1411.88704064,   17.60537322,   53.10803984,\n",
              "       2175.56527292,  127.66934333,    5.39268155,  181.30368904])"
            ]
          },
          "metadata": {
            "tags": []
          },
          "execution_count": 35
        }
      ]
    },
    {
      "cell_type": "code",
      "metadata": {
        "id": "wHJGrC86FciV",
        "colab": {
          "base_uri": "https://localhost:8080/",
          "height": 297
        },
        "outputId": "43f49d58-3e5b-4429-fff1-83f1a4951e23"
      },
      "source": [
        "# use generate_feature_scores_df function to get features and their respective scores passing X and chi2_model.scores_ as paramter\n",
        "feature_score_df= generate_feature_scores_df(X, chi2_model.scores_)#\n",
        "\n",
        "\n",
        "# return feature_score_df\n",
        "feature_score_df\n"
      ],
      "execution_count": 36,
      "outputs": [
        {
          "output_type": "execute_result",
          "data": {
            "text/html": [
              "<div>\n",
              "<style scoped>\n",
              "    .dataframe tbody tr th:only-of-type {\n",
              "        vertical-align: middle;\n",
              "    }\n",
              "\n",
              "    .dataframe tbody tr th {\n",
              "        vertical-align: top;\n",
              "    }\n",
              "\n",
              "    .dataframe thead th {\n",
              "        text-align: right;\n",
              "    }\n",
              "</style>\n",
              "<table border=\"1\" class=\"dataframe\">\n",
              "  <thead>\n",
              "    <tr style=\"text-align: right;\">\n",
              "      <th></th>\n",
              "      <th>Features</th>\n",
              "      <th>Score</th>\n",
              "    </tr>\n",
              "  </thead>\n",
              "  <tbody>\n",
              "    <tr>\n",
              "      <th>0</th>\n",
              "      <td>Pregnancies</td>\n",
              "      <td>111.519691</td>\n",
              "    </tr>\n",
              "    <tr>\n",
              "      <th>1</th>\n",
              "      <td>Glucose</td>\n",
              "      <td>1411.887041</td>\n",
              "    </tr>\n",
              "    <tr>\n",
              "      <th>2</th>\n",
              "      <td>BloodPressure</td>\n",
              "      <td>17.605373</td>\n",
              "    </tr>\n",
              "    <tr>\n",
              "      <th>3</th>\n",
              "      <td>SkinThickness</td>\n",
              "      <td>53.108040</td>\n",
              "    </tr>\n",
              "    <tr>\n",
              "      <th>4</th>\n",
              "      <td>Insulin</td>\n",
              "      <td>2175.565273</td>\n",
              "    </tr>\n",
              "    <tr>\n",
              "      <th>5</th>\n",
              "      <td>BMI</td>\n",
              "      <td>127.669343</td>\n",
              "    </tr>\n",
              "    <tr>\n",
              "      <th>6</th>\n",
              "      <td>DiabetesPedigreeFunction</td>\n",
              "      <td>5.392682</td>\n",
              "    </tr>\n",
              "    <tr>\n",
              "      <th>7</th>\n",
              "      <td>Age</td>\n",
              "      <td>181.303689</td>\n",
              "    </tr>\n",
              "  </tbody>\n",
              "</table>\n",
              "</div>"
            ],
            "text/plain": [
              "                   Features        Score\n",
              "0               Pregnancies   111.519691\n",
              "1                   Glucose  1411.887041\n",
              "2             BloodPressure    17.605373\n",
              "3             SkinThickness    53.108040\n",
              "4                   Insulin  2175.565273\n",
              "5                       BMI   127.669343\n",
              "6  DiabetesPedigreeFunction     5.392682\n",
              "7                       Age   181.303689"
            ]
          },
          "metadata": {
            "tags": []
          },
          "execution_count": 36
        }
      ]
    },
    {
      "cell_type": "markdown",
      "metadata": {
        "id": "xaI2WcOMFciW"
      },
      "source": [
        "Did you see the features and corresponding chi square scores? This is so easy right, higher the score better the feature. Just like higher the marks in assignment better the student of ours. "
      ]
    },
    {
      "cell_type": "code",
      "metadata": {
        "id": "iLtVSpiiFciW"
      },
      "source": [
        "#Lets get X with selected features of chi2_model using tranform function so we will have X_new\n",
        "X_new=chi2_model.transform(X)#"
      ],
      "execution_count": 37,
      "outputs": []
    },
    {
      "cell_type": "markdown",
      "metadata": {
        "id": "RklIuJN9FciW"
      },
      "source": [
        "whaaaat! tranform()? , how is it different from fit_transform.You know buddy fit() can also confuse you. Hey you inquisitive learner we will tell you the difference.\n",
        "\n",
        "The fit() function calculates the values of these parameters. The transform function applies the values of the parameters on the actual data and gives the normalized value. The fit_transform() function performs both in the same step. Note that the same value is got whether we perform in 2 steps or in a single step.\n",
        "\n",
        "for more info on this refer: https://www.youtube.com/watch?v=BotYLBQfd5M"
      ]
    },
    {
      "cell_type": "code",
      "metadata": {
        "id": "Uq-IpQm2FciX"
      },
      "source": [
        "# Convert X_new into a dataframe\n",
        "\n",
        "X_new=pd.DataFrame(X_new)#"
      ],
      "execution_count": 38,
      "outputs": []
    },
    {
      "cell_type": "code",
      "metadata": {
        "id": "kUG3cMlPFciX",
        "colab": {
          "base_uri": "https://localhost:8080/"
        },
        "outputId": "ce19b234-20de-443f-a589-8278303cb071"
      },
      "source": [
        "#repeat the previous steps of calling get_selected_features function( pass X and X_new as score in the function)\n",
        "selected_features=get_selected_features(X, X_new)#\n",
        "\n",
        "# return selected_features\n",
        "selected_features"
      ],
      "execution_count": 39,
      "outputs": [
        {
          "output_type": "execute_result",
          "data": {
            "text/plain": [
              "['Glucose', 'Insulin', 'BMI', 'Age']"
            ]
          },
          "metadata": {
            "tags": []
          },
          "execution_count": 39
        }
      ]
    },
    {
      "cell_type": "markdown",
      "metadata": {
        "id": "_aVzP0YtFciY"
      },
      "source": [
        "Let have X with all features given in list selected_features and save this dataframe in variable chi2_best_features"
      ]
    },
    {
      "cell_type": "code",
      "metadata": {
        "id": "XIhguJXqFciY",
        "colab": {
          "base_uri": "https://localhost:8080/",
          "height": 204
        },
        "outputId": "932ff2ba-5243-44b2-d5ac-c877e227847f"
      },
      "source": [
        "chi2_best_features = X[selected_features]\n",
        "\n",
        "# print chi2_best_features.head()\n",
        "chi2_best_features.head()"
      ],
      "execution_count": 40,
      "outputs": [
        {
          "output_type": "execute_result",
          "data": {
            "text/html": [
              "<div>\n",
              "<style scoped>\n",
              "    .dataframe tbody tr th:only-of-type {\n",
              "        vertical-align: middle;\n",
              "    }\n",
              "\n",
              "    .dataframe tbody tr th {\n",
              "        vertical-align: top;\n",
              "    }\n",
              "\n",
              "    .dataframe thead th {\n",
              "        text-align: right;\n",
              "    }\n",
              "</style>\n",
              "<table border=\"1\" class=\"dataframe\">\n",
              "  <thead>\n",
              "    <tr style=\"text-align: right;\">\n",
              "      <th></th>\n",
              "      <th>Glucose</th>\n",
              "      <th>Insulin</th>\n",
              "      <th>BMI</th>\n",
              "      <th>Age</th>\n",
              "    </tr>\n",
              "  </thead>\n",
              "  <tbody>\n",
              "    <tr>\n",
              "      <th>0</th>\n",
              "      <td>148.0</td>\n",
              "      <td>0.0</td>\n",
              "      <td>33.6</td>\n",
              "      <td>50.0</td>\n",
              "    </tr>\n",
              "    <tr>\n",
              "      <th>1</th>\n",
              "      <td>85.0</td>\n",
              "      <td>0.0</td>\n",
              "      <td>26.6</td>\n",
              "      <td>31.0</td>\n",
              "    </tr>\n",
              "    <tr>\n",
              "      <th>2</th>\n",
              "      <td>183.0</td>\n",
              "      <td>0.0</td>\n",
              "      <td>23.3</td>\n",
              "      <td>32.0</td>\n",
              "    </tr>\n",
              "    <tr>\n",
              "      <th>3</th>\n",
              "      <td>89.0</td>\n",
              "      <td>94.0</td>\n",
              "      <td>28.1</td>\n",
              "      <td>21.0</td>\n",
              "    </tr>\n",
              "    <tr>\n",
              "      <th>4</th>\n",
              "      <td>137.0</td>\n",
              "      <td>168.0</td>\n",
              "      <td>43.1</td>\n",
              "      <td>33.0</td>\n",
              "    </tr>\n",
              "  </tbody>\n",
              "</table>\n",
              "</div>"
            ],
            "text/plain": [
              "   Glucose  Insulin   BMI   Age\n",
              "0    148.0      0.0  33.6  50.0\n",
              "1     85.0      0.0  26.6  31.0\n",
              "2    183.0      0.0  23.3  32.0\n",
              "3     89.0     94.0  28.1  21.0\n",
              "4    137.0    168.0  43.1  33.0"
            ]
          },
          "metadata": {
            "tags": []
          },
          "execution_count": 40
        }
      ]
    },
    {
      "cell_type": "markdown",
      "metadata": {
        "id": "l5uR9oznFciY"
      },
      "source": [
        "As you can see chi-squared test helps us to select  important independent features out of the original features that have the strongest relationship with the target feature.\n",
        "\n",
        "You did it well!"
      ]
    },
    {
      "cell_type": "markdown",
      "metadata": {
        "id": "zMiMiwDTFciZ"
      },
      "source": [
        "## (d) Anova-F Test\n",
        "\n",
        "<p style='text-align: right;'> 20 points</p>\n",
        "\n",
        "The F-value scores examine the varaiance by grouping the numerical feature by the target vector, the means for each group are significantly different."
      ]
    },
    {
      "cell_type": "markdown",
      "metadata": {
        "id": "2m4ZjKkPFciZ"
      },
      "source": [
        "References:\n",
        "1. https://www.youtube.com/watch?v=9zrQ_c5RZkI\n"
      ]
    },
    {
      "cell_type": "code",
      "metadata": {
        "id": "epIiUmGGFciZ"
      },
      "source": [
        "#import libraries\n",
        "from sklearn.feature_selection import f_classif,SelectPercentile\n",
        "\n",
        "\n",
        "# Initialise SelectPercentile function with parameters f_classif and percentile as 80\n",
        "Anova_test=SelectPercentile(f_classif, percentile = 80)#\n",
        "\n",
        "\n",
        "\n",
        "#Fit the above object to the features and target i.e X and Y\n",
        "Anova_model=Anova_test.fit(X,y)#"
      ],
      "execution_count": 41,
      "outputs": []
    },
    {
      "cell_type": "markdown",
      "metadata": {
        "id": "iZlikRVUFcia"
      },
      "source": [
        "here you have used f_classif for Anova-F test. To know more about this test you can check this artical.\n",
        "\n",
        "https://towardsdatascience.com/anova-for-feature-selection-in-machine-learning-d9305e228476\n",
        "\n"
      ]
    },
    {
      "cell_type": "code",
      "metadata": {
        "id": "MCGoaALBFcia",
        "colab": {
          "base_uri": "https://localhost:8080/"
        },
        "outputId": "8d0717d3-9884-4312-a27c-78f049fb1d64"
      },
      "source": [
        "# return scores of anova model\n",
        "Anova_model.scores_"
      ],
      "execution_count": 42,
      "outputs": [
        {
          "output_type": "execute_result",
          "data": {
            "text/plain": [
              "array([ 39.67022739, 213.16175218,   3.2569504 ,   4.30438091,\n",
              "        13.28110753,  71.7720721 ,  23.8713002 ,  46.14061124])"
            ]
          },
          "metadata": {
            "tags": []
          },
          "execution_count": 42
        }
      ]
    },
    {
      "cell_type": "code",
      "metadata": {
        "id": "3ZraA-s6Fcib",
        "colab": {
          "base_uri": "https://localhost:8080/",
          "height": 297
        },
        "outputId": "98fb8142-8ba1-4477-fd8f-f2f71b571be2"
      },
      "source": [
        "# use generate_feature_scores_df function to get features and their respective scores by passing X and Anova_model.scores_ as score in function \n",
        "\n",
        "feature_scores_df=generate_feature_scores_df(X, Anova_model.scores_)#code\n",
        "\n",
        "# print feature_scores_df\n",
        "feature_scores_df"
      ],
      "execution_count": 43,
      "outputs": [
        {
          "output_type": "execute_result",
          "data": {
            "text/html": [
              "<div>\n",
              "<style scoped>\n",
              "    .dataframe tbody tr th:only-of-type {\n",
              "        vertical-align: middle;\n",
              "    }\n",
              "\n",
              "    .dataframe tbody tr th {\n",
              "        vertical-align: top;\n",
              "    }\n",
              "\n",
              "    .dataframe thead th {\n",
              "        text-align: right;\n",
              "    }\n",
              "</style>\n",
              "<table border=\"1\" class=\"dataframe\">\n",
              "  <thead>\n",
              "    <tr style=\"text-align: right;\">\n",
              "      <th></th>\n",
              "      <th>Features</th>\n",
              "      <th>Score</th>\n",
              "    </tr>\n",
              "  </thead>\n",
              "  <tbody>\n",
              "    <tr>\n",
              "      <th>0</th>\n",
              "      <td>Pregnancies</td>\n",
              "      <td>39.670227</td>\n",
              "    </tr>\n",
              "    <tr>\n",
              "      <th>1</th>\n",
              "      <td>Glucose</td>\n",
              "      <td>213.161752</td>\n",
              "    </tr>\n",
              "    <tr>\n",
              "      <th>2</th>\n",
              "      <td>BloodPressure</td>\n",
              "      <td>3.256950</td>\n",
              "    </tr>\n",
              "    <tr>\n",
              "      <th>3</th>\n",
              "      <td>SkinThickness</td>\n",
              "      <td>4.304381</td>\n",
              "    </tr>\n",
              "    <tr>\n",
              "      <th>4</th>\n",
              "      <td>Insulin</td>\n",
              "      <td>13.281108</td>\n",
              "    </tr>\n",
              "    <tr>\n",
              "      <th>5</th>\n",
              "      <td>BMI</td>\n",
              "      <td>71.772072</td>\n",
              "    </tr>\n",
              "    <tr>\n",
              "      <th>6</th>\n",
              "      <td>DiabetesPedigreeFunction</td>\n",
              "      <td>23.871300</td>\n",
              "    </tr>\n",
              "    <tr>\n",
              "      <th>7</th>\n",
              "      <td>Age</td>\n",
              "      <td>46.140611</td>\n",
              "    </tr>\n",
              "  </tbody>\n",
              "</table>\n",
              "</div>"
            ],
            "text/plain": [
              "                   Features       Score\n",
              "0               Pregnancies   39.670227\n",
              "1                   Glucose  213.161752\n",
              "2             BloodPressure    3.256950\n",
              "3             SkinThickness    4.304381\n",
              "4                   Insulin   13.281108\n",
              "5                       BMI   71.772072\n",
              "6  DiabetesPedigreeFunction   23.871300\n",
              "7                       Age   46.140611"
            ]
          },
          "metadata": {
            "tags": []
          },
          "execution_count": 43
        }
      ]
    },
    {
      "cell_type": "code",
      "metadata": {
        "id": "2CiDbjgkFcib"
      },
      "source": [
        "# Get all supported columns values in Anova_model with indices=True\n",
        "cols = Anova_model.get_support(indices = True)#\n",
        "col = []\n",
        "for i in cols:\n",
        "  col.append(X.columns[i])\n",
        "# Reduce X to the selected features of anova model using tranform \n",
        "\n",
        "X_new = Anova_model.transform(X)#"
      ],
      "execution_count": 56,
      "outputs": []
    },
    {
      "cell_type": "code",
      "metadata": {
        "id": "PUXTqXL3Fcic",
        "colab": {
          "base_uri": "https://localhost:8080/",
          "height": 204
        },
        "outputId": "49f5462d-df87-4e67-bf96-b148a17b13ae"
      },
      "source": [
        "#print X_new.head()\n",
        "X_new = pd.DataFrame(X_new)\n",
        "X_new.columns = col\n",
        "X_new.head()"
      ],
      "execution_count": 57,
      "outputs": [
        {
          "output_type": "execute_result",
          "data": {
            "text/html": [
              "<div>\n",
              "<style scoped>\n",
              "    .dataframe tbody tr th:only-of-type {\n",
              "        vertical-align: middle;\n",
              "    }\n",
              "\n",
              "    .dataframe tbody tr th {\n",
              "        vertical-align: top;\n",
              "    }\n",
              "\n",
              "    .dataframe thead th {\n",
              "        text-align: right;\n",
              "    }\n",
              "</style>\n",
              "<table border=\"1\" class=\"dataframe\">\n",
              "  <thead>\n",
              "    <tr style=\"text-align: right;\">\n",
              "      <th></th>\n",
              "      <th>Pregnancies</th>\n",
              "      <th>Glucose</th>\n",
              "      <th>Insulin</th>\n",
              "      <th>BMI</th>\n",
              "      <th>DiabetesPedigreeFunction</th>\n",
              "      <th>Age</th>\n",
              "    </tr>\n",
              "  </thead>\n",
              "  <tbody>\n",
              "    <tr>\n",
              "      <th>0</th>\n",
              "      <td>6.0</td>\n",
              "      <td>148.0</td>\n",
              "      <td>0.0</td>\n",
              "      <td>33.6</td>\n",
              "      <td>0.627</td>\n",
              "      <td>50.0</td>\n",
              "    </tr>\n",
              "    <tr>\n",
              "      <th>1</th>\n",
              "      <td>1.0</td>\n",
              "      <td>85.0</td>\n",
              "      <td>0.0</td>\n",
              "      <td>26.6</td>\n",
              "      <td>0.351</td>\n",
              "      <td>31.0</td>\n",
              "    </tr>\n",
              "    <tr>\n",
              "      <th>2</th>\n",
              "      <td>8.0</td>\n",
              "      <td>183.0</td>\n",
              "      <td>0.0</td>\n",
              "      <td>23.3</td>\n",
              "      <td>0.672</td>\n",
              "      <td>32.0</td>\n",
              "    </tr>\n",
              "    <tr>\n",
              "      <th>3</th>\n",
              "      <td>1.0</td>\n",
              "      <td>89.0</td>\n",
              "      <td>94.0</td>\n",
              "      <td>28.1</td>\n",
              "      <td>0.167</td>\n",
              "      <td>21.0</td>\n",
              "    </tr>\n",
              "    <tr>\n",
              "      <th>4</th>\n",
              "      <td>0.0</td>\n",
              "      <td>137.0</td>\n",
              "      <td>168.0</td>\n",
              "      <td>43.1</td>\n",
              "      <td>2.288</td>\n",
              "      <td>33.0</td>\n",
              "    </tr>\n",
              "  </tbody>\n",
              "</table>\n",
              "</div>"
            ],
            "text/plain": [
              "   Pregnancies  Glucose  Insulin   BMI  DiabetesPedigreeFunction   Age\n",
              "0          6.0    148.0      0.0  33.6                     0.627  50.0\n",
              "1          1.0     85.0      0.0  26.6                     0.351  31.0\n",
              "2          8.0    183.0      0.0  23.3                     0.672  32.0\n",
              "3          1.0     89.0     94.0  28.1                     0.167  21.0\n",
              "4          0.0    137.0    168.0  43.1                     2.288  33.0"
            ]
          },
          "metadata": {
            "tags": []
          },
          "execution_count": 57
        }
      ]
    },
    {
      "cell_type": "markdown",
      "metadata": {
        "id": "dHvkWMweFcic"
      },
      "source": [
        "Hey brighty! Hope you learned to implement Anova F-test method for feature selection. It has selected 6 best features as you can see in above output"
      ]
    },
    {
      "cell_type": "markdown",
      "metadata": {
        "id": "0rG-RhDKFcic"
      },
      "source": [
        "# 2. Wrapper Methods\n",
        "\n",
        "<p style='text-align: right;'> 30 points</p>\n"
      ]
    },
    {
      "cell_type": "markdown",
      "metadata": {
        "id": "FOLM-FDcFcid"
      },
      "source": [
        "Wrapper methods are used to select a set of features by preparing where different combinations of features, then each combination is evaluated and compared to other combinations.Next a predictive model is used to assign a score based on model accuracy and to evaluate the combinations of these features."
      ]
    },
    {
      "cell_type": "code",
      "metadata": {
        "id": "m1t92bcDFcid",
        "colab": {
          "base_uri": "https://localhost:8080/",
          "height": 204
        },
        "outputId": "0f52c0eb-7851-4144-a20c-ed8502cd4b4d"
      },
      "source": [
        "# load and read the diabetes.csv using pandas and print the head values\n",
        "diabetes = pd.read_csv('diabetes.csv')\n",
        "diabetes.head()\n"
      ],
      "execution_count": 58,
      "outputs": [
        {
          "output_type": "execute_result",
          "data": {
            "text/html": [
              "<div>\n",
              "<style scoped>\n",
              "    .dataframe tbody tr th:only-of-type {\n",
              "        vertical-align: middle;\n",
              "    }\n",
              "\n",
              "    .dataframe tbody tr th {\n",
              "        vertical-align: top;\n",
              "    }\n",
              "\n",
              "    .dataframe thead th {\n",
              "        text-align: right;\n",
              "    }\n",
              "</style>\n",
              "<table border=\"1\" class=\"dataframe\">\n",
              "  <thead>\n",
              "    <tr style=\"text-align: right;\">\n",
              "      <th></th>\n",
              "      <th>Pregnancies</th>\n",
              "      <th>Glucose</th>\n",
              "      <th>BloodPressure</th>\n",
              "      <th>SkinThickness</th>\n",
              "      <th>Insulin</th>\n",
              "      <th>BMI</th>\n",
              "      <th>DiabetesPedigreeFunction</th>\n",
              "      <th>Age</th>\n",
              "      <th>Outcome</th>\n",
              "    </tr>\n",
              "  </thead>\n",
              "  <tbody>\n",
              "    <tr>\n",
              "      <th>0</th>\n",
              "      <td>6</td>\n",
              "      <td>148</td>\n",
              "      <td>72</td>\n",
              "      <td>35</td>\n",
              "      <td>0</td>\n",
              "      <td>33.6</td>\n",
              "      <td>0.627</td>\n",
              "      <td>50</td>\n",
              "      <td>1</td>\n",
              "    </tr>\n",
              "    <tr>\n",
              "      <th>1</th>\n",
              "      <td>1</td>\n",
              "      <td>85</td>\n",
              "      <td>66</td>\n",
              "      <td>29</td>\n",
              "      <td>0</td>\n",
              "      <td>26.6</td>\n",
              "      <td>0.351</td>\n",
              "      <td>31</td>\n",
              "      <td>0</td>\n",
              "    </tr>\n",
              "    <tr>\n",
              "      <th>2</th>\n",
              "      <td>8</td>\n",
              "      <td>183</td>\n",
              "      <td>64</td>\n",
              "      <td>0</td>\n",
              "      <td>0</td>\n",
              "      <td>23.3</td>\n",
              "      <td>0.672</td>\n",
              "      <td>32</td>\n",
              "      <td>1</td>\n",
              "    </tr>\n",
              "    <tr>\n",
              "      <th>3</th>\n",
              "      <td>1</td>\n",
              "      <td>89</td>\n",
              "      <td>66</td>\n",
              "      <td>23</td>\n",
              "      <td>94</td>\n",
              "      <td>28.1</td>\n",
              "      <td>0.167</td>\n",
              "      <td>21</td>\n",
              "      <td>0</td>\n",
              "    </tr>\n",
              "    <tr>\n",
              "      <th>4</th>\n",
              "      <td>0</td>\n",
              "      <td>137</td>\n",
              "      <td>40</td>\n",
              "      <td>35</td>\n",
              "      <td>168</td>\n",
              "      <td>43.1</td>\n",
              "      <td>2.288</td>\n",
              "      <td>33</td>\n",
              "      <td>1</td>\n",
              "    </tr>\n",
              "  </tbody>\n",
              "</table>\n",
              "</div>"
            ],
            "text/plain": [
              "   Pregnancies  Glucose  BloodPressure  ...  DiabetesPedigreeFunction  Age  Outcome\n",
              "0            6      148             72  ...                     0.627   50        1\n",
              "1            1       85             66  ...                     0.351   31        0\n",
              "2            8      183             64  ...                     0.672   32        1\n",
              "3            1       89             66  ...                     0.167   21        0\n",
              "4            0      137             40  ...                     2.288   33        1\n",
              "\n",
              "[5 rows x 9 columns]"
            ]
          },
          "metadata": {
            "tags": []
          },
          "execution_count": 58
        }
      ]
    },
    {
      "cell_type": "code",
      "metadata": {
        "id": "YtcIpFZnFcid",
        "colab": {
          "base_uri": "https://localhost:8080/"
        },
        "outputId": "0ed4c89c-56f3-4c61-f2a3-615437a528e8"
      },
      "source": [
        "# assign features to X and target 'outcome' to Y variable(Think why the 'outcome' column is taken as the target)\n",
        "X=diabetes.iloc[:,:-1]#\n",
        "Y=diabetes['Outcome']#\n",
        "\n",
        "#return X,Y\n",
        "print(X)\n",
        "print(Y)\n"
      ],
      "execution_count": 61,
      "outputs": [
        {
          "output_type": "stream",
          "text": [
            "     Pregnancies  Glucose  BloodPressure  ...   BMI  DiabetesPedigreeFunction  Age\n",
            "0              6      148             72  ...  33.6                     0.627   50\n",
            "1              1       85             66  ...  26.6                     0.351   31\n",
            "2              8      183             64  ...  23.3                     0.672   32\n",
            "3              1       89             66  ...  28.1                     0.167   21\n",
            "4              0      137             40  ...  43.1                     2.288   33\n",
            "..           ...      ...            ...  ...   ...                       ...  ...\n",
            "763           10      101             76  ...  32.9                     0.171   63\n",
            "764            2      122             70  ...  36.8                     0.340   27\n",
            "765            5      121             72  ...  26.2                     0.245   30\n",
            "766            1      126             60  ...  30.1                     0.349   47\n",
            "767            1       93             70  ...  30.4                     0.315   23\n",
            "\n",
            "[768 rows x 8 columns]\n",
            "0      1\n",
            "1      0\n",
            "2      1\n",
            "3      0\n",
            "4      1\n",
            "      ..\n",
            "763    0\n",
            "764    0\n",
            "765    0\n",
            "766    1\n",
            "767    0\n",
            "Name: Outcome, Length: 768, dtype: int64\n"
          ],
          "name": "stdout"
        }
      ]
    },
    {
      "cell_type": "markdown",
      "metadata": {
        "id": "Fu5pmkVQFcie"
      },
      "source": [
        "## (a) Recursive Feature Elemination\n",
        "\n",
        "<p style='text-align: right;'> 25 points</p>\n",
        "\n",
        "Recursive Feature Elimination selects features by recursively considering smaller subsets of features by pruning the least important feature at each step. Here models are created iteartively and in each iteration it determines the best and worst performing features and this process continues until all the features are explored.Next ranking is given on eah feature based on their elimination orde. In the worst case, if a dataset contains N number of features RFE will do a greedy search for $N^2$ combinations of features."
      ]
    },
    {
      "cell_type": "markdown",
      "metadata": {
        "id": "x1A9WXsjFcie"
      },
      "source": [
        "\n",
        "reference video: https://www.youtube.com/watch?v=MYnxxRoPiwI\n",
        "\n",
        "Note: the video is using random forest classifier, but we are going to use logistic regression as our model."
      ]
    },
    {
      "cell_type": "code",
      "metadata": {
        "id": "PmbE-lbzFcif"
      },
      "source": [
        "# import RFE and LogisticRegression\n",
        "from sklearn.feature_selection import RFE\n",
        "from sklearn.linear_model import LogisticRegression\n"
      ],
      "execution_count": 63,
      "outputs": []
    },
    {
      "cell_type": "code",
      "metadata": {
        "id": "cFTcNzkCFcif"
      },
      "source": [
        "# Initialise model variable with LogisticRegression function with solver = 'liblinear'\n",
        "model= LogisticRegression(solver='liblinear')#\n",
        "\n",
        "# rfe variable has RFE instance with should have model and n_features_to_select=4 as parameters\n",
        "\n",
        "rfe= RFE(model, n_features_to_select=4)#"
      ],
      "execution_count": 64,
      "outputs": []
    },
    {
      "cell_type": "code",
      "metadata": {
        "id": "TUSFNgYeFcif"
      },
      "source": [
        "# fit rfe with X and Y\n",
        "\n",
        "fit=rfe.fit(X,Y)#\n",
        "\n"
      ],
      "execution_count": 65,
      "outputs": []
    },
    {
      "cell_type": "code",
      "metadata": {
        "id": "x0gBcXtbFcif",
        "colab": {
          "base_uri": "https://localhost:8080/"
        },
        "outputId": "8e1adea2-898b-438e-bc37-2e0d0dfaaa75"
      },
      "source": [
        "print('Number of selected features',fit.n_features_)\n",
        "print('Selected Features',fit.support_)\n",
        "print('Feature rankings',fit.ranking_)"
      ],
      "execution_count": 66,
      "outputs": [
        {
          "output_type": "stream",
          "text": [
            "Number of selected features 4\n",
            "Selected Features [ True  True False False False  True  True False]\n",
            "Feature rankings [1 1 2 4 5 1 1 3]\n"
          ],
          "name": "stdout"
        }
      ]
    },
    {
      "cell_type": "code",
      "metadata": {
        "id": "lQIJz30BFcig"
      },
      "source": [
        "# use below function to get ranks of all the features\n",
        "def feature_ranks(X,Rank,Support):\n",
        "    feature_rank=pd.DataFrame()\n",
        "    for i in range(X.shape[1]):\n",
        "        new =pd.DataFrame({\"Features\":X.columns[i],\"Rank\":Rank[i],'Selected':Support[i]},index=[i])\n",
        "        feature_rank=pd.concat([feature_rank,new])\n",
        "    return feature_rank\n"
      ],
      "execution_count": 67,
      "outputs": []
    },
    {
      "cell_type": "code",
      "metadata": {
        "id": "68B99H9EFcig",
        "colab": {
          "base_uri": "https://localhost:8080/",
          "height": 297
        },
        "outputId": "419bd0bb-3ce7-4126-cf41-6a91e7a406a3"
      },
      "source": [
        "#Get all feature's ranks using feature_ranks function with suitable parameters. Sotre it in variable called feature_rank_df\n",
        "feature_rank_df=feature_ranks(X, fit.ranking_, fit.support_)#\n",
        "\n",
        "# print feature_rank_df\n",
        "feature_rank_df"
      ],
      "execution_count": 68,
      "outputs": [
        {
          "output_type": "execute_result",
          "data": {
            "text/html": [
              "<div>\n",
              "<style scoped>\n",
              "    .dataframe tbody tr th:only-of-type {\n",
              "        vertical-align: middle;\n",
              "    }\n",
              "\n",
              "    .dataframe tbody tr th {\n",
              "        vertical-align: top;\n",
              "    }\n",
              "\n",
              "    .dataframe thead th {\n",
              "        text-align: right;\n",
              "    }\n",
              "</style>\n",
              "<table border=\"1\" class=\"dataframe\">\n",
              "  <thead>\n",
              "    <tr style=\"text-align: right;\">\n",
              "      <th></th>\n",
              "      <th>Features</th>\n",
              "      <th>Rank</th>\n",
              "      <th>Selected</th>\n",
              "    </tr>\n",
              "  </thead>\n",
              "  <tbody>\n",
              "    <tr>\n",
              "      <th>0</th>\n",
              "      <td>Pregnancies</td>\n",
              "      <td>1</td>\n",
              "      <td>True</td>\n",
              "    </tr>\n",
              "    <tr>\n",
              "      <th>1</th>\n",
              "      <td>Glucose</td>\n",
              "      <td>1</td>\n",
              "      <td>True</td>\n",
              "    </tr>\n",
              "    <tr>\n",
              "      <th>2</th>\n",
              "      <td>BloodPressure</td>\n",
              "      <td>2</td>\n",
              "      <td>False</td>\n",
              "    </tr>\n",
              "    <tr>\n",
              "      <th>3</th>\n",
              "      <td>SkinThickness</td>\n",
              "      <td>4</td>\n",
              "      <td>False</td>\n",
              "    </tr>\n",
              "    <tr>\n",
              "      <th>4</th>\n",
              "      <td>Insulin</td>\n",
              "      <td>5</td>\n",
              "      <td>False</td>\n",
              "    </tr>\n",
              "    <tr>\n",
              "      <th>5</th>\n",
              "      <td>BMI</td>\n",
              "      <td>1</td>\n",
              "      <td>True</td>\n",
              "    </tr>\n",
              "    <tr>\n",
              "      <th>6</th>\n",
              "      <td>DiabetesPedigreeFunction</td>\n",
              "      <td>1</td>\n",
              "      <td>True</td>\n",
              "    </tr>\n",
              "    <tr>\n",
              "      <th>7</th>\n",
              "      <td>Age</td>\n",
              "      <td>3</td>\n",
              "      <td>False</td>\n",
              "    </tr>\n",
              "  </tbody>\n",
              "</table>\n",
              "</div>"
            ],
            "text/plain": [
              "                   Features  Rank  Selected\n",
              "0               Pregnancies     1      True\n",
              "1                   Glucose     1      True\n",
              "2             BloodPressure     2     False\n",
              "3             SkinThickness     4     False\n",
              "4                   Insulin     5     False\n",
              "5                       BMI     1      True\n",
              "6  DiabetesPedigreeFunction     1      True\n",
              "7                       Age     3     False"
            ]
          },
          "metadata": {
            "tags": []
          },
          "execution_count": 68
        }
      ]
    },
    {
      "cell_type": "markdown",
      "metadata": {
        "id": "WsPDDweVFcih"
      },
      "source": [
        "We can see there are four features with rank 1 ,RFE states that these are the most significant features."
      ]
    },
    {
      "cell_type": "code",
      "metadata": {
        "id": "bcU-BXXoFcih",
        "colab": {
          "base_uri": "https://localhost:8080/",
          "height": 173
        },
        "outputId": "de970246-fccb-4dfa-f583-10e5e9ed4fd0"
      },
      "source": [
        "# filter feature_rank_df  with selected column values as True and save result in variable called recursive_feature_names \n",
        "recursive_feature_names=feature_rank_df[fit.support_ == True]#\n",
        "\n",
        "# print recursive_feature_names\n",
        "recursive_feature_names\n"
      ],
      "execution_count": 69,
      "outputs": [
        {
          "output_type": "execute_result",
          "data": {
            "text/html": [
              "<div>\n",
              "<style scoped>\n",
              "    .dataframe tbody tr th:only-of-type {\n",
              "        vertical-align: middle;\n",
              "    }\n",
              "\n",
              "    .dataframe tbody tr th {\n",
              "        vertical-align: top;\n",
              "    }\n",
              "\n",
              "    .dataframe thead th {\n",
              "        text-align: right;\n",
              "    }\n",
              "</style>\n",
              "<table border=\"1\" class=\"dataframe\">\n",
              "  <thead>\n",
              "    <tr style=\"text-align: right;\">\n",
              "      <th></th>\n",
              "      <th>Features</th>\n",
              "      <th>Rank</th>\n",
              "      <th>Selected</th>\n",
              "    </tr>\n",
              "  </thead>\n",
              "  <tbody>\n",
              "    <tr>\n",
              "      <th>0</th>\n",
              "      <td>Pregnancies</td>\n",
              "      <td>1</td>\n",
              "      <td>True</td>\n",
              "    </tr>\n",
              "    <tr>\n",
              "      <th>1</th>\n",
              "      <td>Glucose</td>\n",
              "      <td>1</td>\n",
              "      <td>True</td>\n",
              "    </tr>\n",
              "    <tr>\n",
              "      <th>5</th>\n",
              "      <td>BMI</td>\n",
              "      <td>1</td>\n",
              "      <td>True</td>\n",
              "    </tr>\n",
              "    <tr>\n",
              "      <th>6</th>\n",
              "      <td>DiabetesPedigreeFunction</td>\n",
              "      <td>1</td>\n",
              "      <td>True</td>\n",
              "    </tr>\n",
              "  </tbody>\n",
              "</table>\n",
              "</div>"
            ],
            "text/plain": [
              "                   Features  Rank  Selected\n",
              "0               Pregnancies     1      True\n",
              "1                   Glucose     1      True\n",
              "5                       BMI     1      True\n",
              "6  DiabetesPedigreeFunction     1      True"
            ]
          },
          "metadata": {
            "tags": []
          },
          "execution_count": 69
        }
      ]
    },
    {
      "cell_type": "code",
      "metadata": {
        "id": "68LtOk73Fcij",
        "colab": {
          "base_uri": "https://localhost:8080/",
          "height": 204
        },
        "outputId": "a5555dbe-34e5-4006-fe46-0bc1bb3f09f7"
      },
      "source": [
        "# finally get dataframe X with all the features selected by RFE and store this result in variable called RFE_selected_features\n",
        "RFE_selected_features=X[recursive_feature_names['Features']]#\n",
        "\n",
        "# print RFE head()\n",
        "RFE_selected_features.head()\n"
      ],
      "execution_count": 71,
      "outputs": [
        {
          "output_type": "execute_result",
          "data": {
            "text/html": [
              "<div>\n",
              "<style scoped>\n",
              "    .dataframe tbody tr th:only-of-type {\n",
              "        vertical-align: middle;\n",
              "    }\n",
              "\n",
              "    .dataframe tbody tr th {\n",
              "        vertical-align: top;\n",
              "    }\n",
              "\n",
              "    .dataframe thead th {\n",
              "        text-align: right;\n",
              "    }\n",
              "</style>\n",
              "<table border=\"1\" class=\"dataframe\">\n",
              "  <thead>\n",
              "    <tr style=\"text-align: right;\">\n",
              "      <th></th>\n",
              "      <th>Pregnancies</th>\n",
              "      <th>Glucose</th>\n",
              "      <th>BMI</th>\n",
              "      <th>DiabetesPedigreeFunction</th>\n",
              "    </tr>\n",
              "  </thead>\n",
              "  <tbody>\n",
              "    <tr>\n",
              "      <th>0</th>\n",
              "      <td>6</td>\n",
              "      <td>148</td>\n",
              "      <td>33.6</td>\n",
              "      <td>0.627</td>\n",
              "    </tr>\n",
              "    <tr>\n",
              "      <th>1</th>\n",
              "      <td>1</td>\n",
              "      <td>85</td>\n",
              "      <td>26.6</td>\n",
              "      <td>0.351</td>\n",
              "    </tr>\n",
              "    <tr>\n",
              "      <th>2</th>\n",
              "      <td>8</td>\n",
              "      <td>183</td>\n",
              "      <td>23.3</td>\n",
              "      <td>0.672</td>\n",
              "    </tr>\n",
              "    <tr>\n",
              "      <th>3</th>\n",
              "      <td>1</td>\n",
              "      <td>89</td>\n",
              "      <td>28.1</td>\n",
              "      <td>0.167</td>\n",
              "    </tr>\n",
              "    <tr>\n",
              "      <th>4</th>\n",
              "      <td>0</td>\n",
              "      <td>137</td>\n",
              "      <td>43.1</td>\n",
              "      <td>2.288</td>\n",
              "    </tr>\n",
              "  </tbody>\n",
              "</table>\n",
              "</div>"
            ],
            "text/plain": [
              "   Pregnancies  Glucose   BMI  DiabetesPedigreeFunction\n",
              "0            6      148  33.6                     0.627\n",
              "1            1       85  26.6                     0.351\n",
              "2            8      183  23.3                     0.672\n",
              "3            1       89  28.1                     0.167\n",
              "4            0      137  43.1                     2.288"
            ]
          },
          "metadata": {
            "tags": []
          },
          "execution_count": 71
        }
      ]
    },
    {
      "cell_type": "markdown",
      "metadata": {
        "id": "K9u7xme0Fcik"
      },
      "source": [
        "We recommend you to watch this video to know about working of RFE:  https://www.youtube.com/watch?v=Yo1vYRdJ95k"
      ]
    },
    {
      "cell_type": "markdown",
      "metadata": {
        "id": "5Tc6G-dnFcik"
      },
      "source": [
        "# 3. Embedded Method using random forest\n",
        "\n",
        "<p style='text-align: right;'> 25 points</p>\n"
      ]
    },
    {
      "cell_type": "markdown",
      "metadata": {
        "id": "_krB3wRmFcik"
      },
      "source": [
        "Reference: https://www.youtube.com/watch?v=em4OFr-4C34"
      ]
    },
    {
      "cell_type": "markdown",
      "metadata": {
        "id": "dveFuhvaFcil"
      },
      "source": [
        "Feature selection using Random forest comes under the category of Embedded methods. Embedded methods combine the qualities of filter and wrapper methods. They are implemented by algorithms that have their own built-in feature selection methods. Some of the benefits of embedded methods are :\n",
        "1. They are highly accurate.\n",
        "2. They generalize better.\n",
        "3. They are interpretable"
      ]
    },
    {
      "cell_type": "code",
      "metadata": {
        "id": "EPdmz6T-Fcil"
      },
      "source": [
        "#Importing libraries RandomForestClassifier and SelectFromModel\n",
        "from sklearn.feature_selection import SelectFromModel\n",
        "from sklearn.ensemble import RandomForestClassifier\n"
      ],
      "execution_count": 72,
      "outputs": []
    },
    {
      "cell_type": "code",
      "metadata": {
        "id": "QyilcuyrFcim",
        "colab": {
          "base_uri": "https://localhost:8080/",
          "height": 204
        },
        "outputId": "36b4b4f6-c847-4d7f-dd32-2a8aac1df61d"
      },
      "source": [
        "# load the csv file using pandas and print the head values\n",
        "diabetes = pd.read_csv('diabetes.csv')\n",
        "# print diabetes.head()\n",
        "diabetes.head()"
      ],
      "execution_count": 73,
      "outputs": [
        {
          "output_type": "execute_result",
          "data": {
            "text/html": [
              "<div>\n",
              "<style scoped>\n",
              "    .dataframe tbody tr th:only-of-type {\n",
              "        vertical-align: middle;\n",
              "    }\n",
              "\n",
              "    .dataframe tbody tr th {\n",
              "        vertical-align: top;\n",
              "    }\n",
              "\n",
              "    .dataframe thead th {\n",
              "        text-align: right;\n",
              "    }\n",
              "</style>\n",
              "<table border=\"1\" class=\"dataframe\">\n",
              "  <thead>\n",
              "    <tr style=\"text-align: right;\">\n",
              "      <th></th>\n",
              "      <th>Pregnancies</th>\n",
              "      <th>Glucose</th>\n",
              "      <th>BloodPressure</th>\n",
              "      <th>SkinThickness</th>\n",
              "      <th>Insulin</th>\n",
              "      <th>BMI</th>\n",
              "      <th>DiabetesPedigreeFunction</th>\n",
              "      <th>Age</th>\n",
              "      <th>Outcome</th>\n",
              "    </tr>\n",
              "  </thead>\n",
              "  <tbody>\n",
              "    <tr>\n",
              "      <th>0</th>\n",
              "      <td>6</td>\n",
              "      <td>148</td>\n",
              "      <td>72</td>\n",
              "      <td>35</td>\n",
              "      <td>0</td>\n",
              "      <td>33.6</td>\n",
              "      <td>0.627</td>\n",
              "      <td>50</td>\n",
              "      <td>1</td>\n",
              "    </tr>\n",
              "    <tr>\n",
              "      <th>1</th>\n",
              "      <td>1</td>\n",
              "      <td>85</td>\n",
              "      <td>66</td>\n",
              "      <td>29</td>\n",
              "      <td>0</td>\n",
              "      <td>26.6</td>\n",
              "      <td>0.351</td>\n",
              "      <td>31</td>\n",
              "      <td>0</td>\n",
              "    </tr>\n",
              "    <tr>\n",
              "      <th>2</th>\n",
              "      <td>8</td>\n",
              "      <td>183</td>\n",
              "      <td>64</td>\n",
              "      <td>0</td>\n",
              "      <td>0</td>\n",
              "      <td>23.3</td>\n",
              "      <td>0.672</td>\n",
              "      <td>32</td>\n",
              "      <td>1</td>\n",
              "    </tr>\n",
              "    <tr>\n",
              "      <th>3</th>\n",
              "      <td>1</td>\n",
              "      <td>89</td>\n",
              "      <td>66</td>\n",
              "      <td>23</td>\n",
              "      <td>94</td>\n",
              "      <td>28.1</td>\n",
              "      <td>0.167</td>\n",
              "      <td>21</td>\n",
              "      <td>0</td>\n",
              "    </tr>\n",
              "    <tr>\n",
              "      <th>4</th>\n",
              "      <td>0</td>\n",
              "      <td>137</td>\n",
              "      <td>40</td>\n",
              "      <td>35</td>\n",
              "      <td>168</td>\n",
              "      <td>43.1</td>\n",
              "      <td>2.288</td>\n",
              "      <td>33</td>\n",
              "      <td>1</td>\n",
              "    </tr>\n",
              "  </tbody>\n",
              "</table>\n",
              "</div>"
            ],
            "text/plain": [
              "   Pregnancies  Glucose  BloodPressure  ...  DiabetesPedigreeFunction  Age  Outcome\n",
              "0            6      148             72  ...                     0.627   50        1\n",
              "1            1       85             66  ...                     0.351   31        0\n",
              "2            8      183             64  ...                     0.672   32        1\n",
              "3            1       89             66  ...                     0.167   21        0\n",
              "4            0      137             40  ...                     2.288   33        1\n",
              "\n",
              "[5 rows x 9 columns]"
            ]
          },
          "metadata": {
            "tags": []
          },
          "execution_count": 73
        }
      ]
    },
    {
      "cell_type": "markdown",
      "metadata": {
        "id": "V_0TFzIvFcim"
      },
      "source": [
        "In all feature selection procedures, it is a good practice to select the features by examining only the training set. This is to avoid overfitting.\n",
        "So considering we have a train and a test dataset. We select the features from the train set and then transfer the changes to the test set later"
      ]
    },
    {
      "cell_type": "code",
      "metadata": {
        "id": "9UkORBHiFcin"
      },
      "source": [
        "# assign features to X and target 'outcome' to Y(Think why the 'outcome' column is taken as the target)\n",
        "X = diabetes.iloc[:, :-1]\n",
        "y = diabetes['Outcome']"
      ],
      "execution_count": 74,
      "outputs": []
    },
    {
      "cell_type": "code",
      "metadata": {
        "id": "v2ss0iz1Fcin"
      },
      "source": [
        "# import test_train_split module\n",
        "from sklearn.model_selection import train_test_split\n",
        "# splitting of dataset(test_size=0.3)\n",
        "X_train, X_test, y_train, y_test = train_test_split(X,y,test_size=0.3)"
      ],
      "execution_count": 79,
      "outputs": []
    },
    {
      "cell_type": "markdown",
      "metadata": {
        "id": "fRVjx4eiFcio"
      },
      "source": [
        "Here We will do the model fitting and feature selection altogether in one line of code.\n",
        "\n",
        "Firstly, specify the random forest instance, indicating the number of trees.\n",
        "\n",
        "Then use selectFromModel object from sklearn to automatically select the features. Simple right?. Don't worry trust your code. It helps.\n",
        "\n",
        "Reference link to use selectFromModel: https://scikit-learn.org/stable/modules/generated/sklearn.feature_selection.SelectFromModel.html"
      ]
    },
    {
      "cell_type": "code",
      "metadata": {
        "id": "cMSY4WREFcio",
        "colab": {
          "base_uri": "https://localhost:8080/"
        },
        "outputId": "663a832b-f710-4496-9b59-42d2dbad6fde"
      },
      "source": [
        "#create an instance of Select from Model. Pass an object of Random Forest Classifier with n_estimators=100 as argument. \n",
        "sel = SelectFromModel(RandomForestClassifier(n_estimators=100))#code\n",
        "\n",
        "\n",
        "# fit sel on training data\n",
        "sel.fit(X_train, y_train)\n"
      ],
      "execution_count": 80,
      "outputs": [
        {
          "output_type": "execute_result",
          "data": {
            "text/plain": [
              "SelectFromModel(estimator=RandomForestClassifier(bootstrap=True, ccp_alpha=0.0,\n",
              "                                                 class_weight=None,\n",
              "                                                 criterion='gini',\n",
              "                                                 max_depth=None,\n",
              "                                                 max_features='auto',\n",
              "                                                 max_leaf_nodes=None,\n",
              "                                                 max_samples=None,\n",
              "                                                 min_impurity_decrease=0.0,\n",
              "                                                 min_impurity_split=None,\n",
              "                                                 min_samples_leaf=1,\n",
              "                                                 min_samples_split=2,\n",
              "                                                 min_weight_fraction_leaf=0.0,\n",
              "                                                 n_estimators=100, n_jobs=None,\n",
              "                                                 oob_score=False,\n",
              "                                                 random_state=None, verbose=0,\n",
              "                                                 warm_start=False),\n",
              "                max_features=None, norm_order=1, prefit=False, threshold=None)"
            ]
          },
          "metadata": {
            "tags": []
          },
          "execution_count": 80
        }
      ]
    },
    {
      "cell_type": "markdown",
      "metadata": {
        "id": "HvS9NIH2Fcip"
      },
      "source": [
        "SelectFromModel will select those features which importance is greater than the mean importance of all the features by default, but we can alter this threshold if we want.\n",
        "\n",
        " To see which features are important we can use get_support method on the fitted model."
      ]
    },
    {
      "cell_type": "code",
      "metadata": {
        "id": "facqdQZZFcip",
        "colab": {
          "base_uri": "https://localhost:8080/"
        },
        "outputId": "d3ac322b-8670-45fa-c7e0-49823095ba17"
      },
      "source": [
        "# Using sel.get_support() print the boolean values for the features selected. \n",
        "cols = sel.get_support()\n",
        "cols"
      ],
      "execution_count": 93,
      "outputs": [
        {
          "output_type": "execute_result",
          "data": {
            "text/plain": [
              "array([False,  True, False, False, False,  True, False,  True])"
            ]
          },
          "metadata": {
            "tags": []
          },
          "execution_count": 93
        }
      ]
    },
    {
      "cell_type": "code",
      "metadata": {
        "id": "yFFlhlvLFcip",
        "colab": {
          "base_uri": "https://localhost:8080/"
        },
        "outputId": "847afe30-495a-4944-92a7-5b9bd5814414"
      },
      "source": [
        "#make a list named selected_feat with all columns which are True\n",
        "'''selected_feat=[]\n",
        "for i in range(len(cols)):\n",
        "  if cols[i] == True:\n",
        "    selected_feat.append(X.columns[i])'''\n",
        " #code\n",
        "selected_feat = X.columns[np.where(cols == True)]\n",
        "# print length of selected_feat\n",
        "len(selected_feat)"
      ],
      "execution_count": 94,
      "outputs": [
        {
          "output_type": "execute_result",
          "data": {
            "text/plain": [
              "3"
            ]
          },
          "metadata": {
            "tags": []
          },
          "execution_count": 94
        }
      ]
    },
    {
      "cell_type": "code",
      "metadata": {
        "id": "0-i5TfI4Fciq",
        "colab": {
          "base_uri": "https://localhost:8080/"
        },
        "outputId": "0507825d-1506-4871-aa8c-961eb5d4e0f0"
      },
      "source": [
        "# Print selected_feat\n",
        "print(selected_feat)"
      ],
      "execution_count": 95,
      "outputs": [
        {
          "output_type": "stream",
          "text": [
            "Index(['Glucose', 'BMI', 'Age'], dtype='object')\n"
          ],
          "name": "stdout"
        }
      ]
    },
    {
      "cell_type": "markdown",
      "metadata": {
        "id": "L-ydv6nDFciq"
      },
      "source": [
        "Well done Champ!. Let us impliment SelectFromModel using LinearSVC model also"
      ]
    },
    {
      "cell_type": "markdown",
      "metadata": {
        "id": "2joXT_UUFciq"
      },
      "source": [
        "## Feature selection using SelectFromModel\n",
        "\n",
        "<p style='text-align: right;'> 25 points</p>\n",
        "\n",
        "\n",
        "SelectFromModel is a meta-transformer that can be used along with any estimator that has a coef_ or featureimportances attribute after fitting. The features are considered unimportant and removed, if the corresponding coef_ or featureimportances values are below the provided threshold parameter. Apart from specifying the threshold numerically, there are built-in heuristics for finding a threshold using a string argument. Available heuristics are “mean”, “median” and float multiples of these like “0.1*mean”.\n",
        "\n",
        "Lets use selectfrommodel again with LinearSVC"
      ]
    },
    {
      "cell_type": "code",
      "metadata": {
        "id": "2Sm6nG6qFcir"
      },
      "source": [
        "# import LinearSVC \n",
        "from sklearn.svm import LinearSVC"
      ],
      "execution_count": 88,
      "outputs": []
    },
    {
      "cell_type": "code",
      "metadata": {
        "id": "acSd3Qu-Fcir",
        "colab": {
          "base_uri": "https://localhost:8080/"
        },
        "outputId": "e25c579d-496b-4e9b-d7f2-ab7210fb0fc2"
      },
      "source": [
        "#Use SelectFromModel with LinearSVC() as its parameter and save it in variable 'm'\n",
        "\n",
        "m = SelectFromModel(LinearSVC())#code\n",
        "\n",
        "#fit m with X and Y\n",
        "m.fit(X,y)\n"
      ],
      "execution_count": 89,
      "outputs": [
        {
          "output_type": "stream",
          "text": [
            "/usr/local/lib/python3.7/dist-packages/sklearn/svm/_base.py:947: ConvergenceWarning: Liblinear failed to converge, increase the number of iterations.\n",
            "  \"the number of iterations.\", ConvergenceWarning)\n"
          ],
          "name": "stderr"
        },
        {
          "output_type": "execute_result",
          "data": {
            "text/plain": [
              "SelectFromModel(estimator=LinearSVC(C=1.0, class_weight=None, dual=True,\n",
              "                                    fit_intercept=True, intercept_scaling=1,\n",
              "                                    loss='squared_hinge', max_iter=1000,\n",
              "                                    multi_class='ovr', penalty='l2',\n",
              "                                    random_state=None, tol=0.0001, verbose=0),\n",
              "                max_features=None, norm_order=1, prefit=False, threshold=None)"
            ]
          },
          "metadata": {
            "tags": []
          },
          "execution_count": 89
        }
      ]
    },
    {
      "cell_type": "code",
      "metadata": {
        "id": "-6QpxX5RFcir",
        "colab": {
          "base_uri": "https://localhost:8080/"
        },
        "outputId": "3044e6d4-0316-4584-c61b-7f6067af07b5"
      },
      "source": [
        "#make a list named selected_feat with all columns which are supported\n",
        "\n",
        "selected_feat=X.columns[np.where(m.get_support() == True)]#\n",
        "\n",
        "print(selected_feat)"
      ],
      "execution_count": 91,
      "outputs": [
        {
          "output_type": "stream",
          "text": [
            "Index(['Pregnancies', 'DiabetesPedigreeFunction'], dtype='object')\n"
          ],
          "name": "stdout"
        }
      ]
    },
    {
      "cell_type": "markdown",
      "metadata": {
        "id": "lcF0mfLnFcis"
      },
      "source": [
        " # 4. Handling Multicollinearity with VIF\n",
        " \n",
        " <p style='text-align: right;'> 15 points</p>\n"
      ]
    },
    {
      "cell_type": "markdown",
      "metadata": {
        "id": "D0PvpZYlFcis"
      },
      "source": [
        "Multicollinearity refers to a situation in which more than two explanatory variables in a multiple regression model are highly linearly related. We have perfect multicollinearity if, for example as in the equation above, the correlation between two independent variables is equal to 1 or −1."
      ]
    },
    {
      "cell_type": "markdown",
      "metadata": {
        "id": "Kc6tBDysFcis"
      },
      "source": [
        "Variance inflation factor measures how much the behavior (variance) of an independent variable is influenced, or inflated, by its interaction/correlation with the other independent variables.\n",
        "\n",
        "VIF has big defination but for now understand that:-\n",
        "Variance inflation factor (VIF) is a measure of the amount of multicollinearity in a set of multiple regression variables"
      ]
    },
    {
      "cell_type": "markdown",
      "metadata": {
        "id": "mIGkQ1d0Fcit"
      },
      "source": [
        "Reference: https://www.youtube.com/watch?v=6JpmgzCAusI"
      ]
    },
    {
      "cell_type": "code",
      "metadata": {
        "id": "QGplMZUIFcit",
        "colab": {
          "base_uri": "https://localhost:8080/",
          "height": 204
        },
        "outputId": "3124fd5b-7a86-45a8-9d42-07155969f342"
      },
      "source": [
        "#load and read the diabetes_cleaned.csv file using pandas and print the head values\n",
        "\n",
        "dia_df=pd.read_csv('diabetes_cleaned.csv')\n",
        "dia_df.head()"
      ],
      "execution_count": 96,
      "outputs": [
        {
          "output_type": "execute_result",
          "data": {
            "text/html": [
              "<div>\n",
              "<style scoped>\n",
              "    .dataframe tbody tr th:only-of-type {\n",
              "        vertical-align: middle;\n",
              "    }\n",
              "\n",
              "    .dataframe tbody tr th {\n",
              "        vertical-align: top;\n",
              "    }\n",
              "\n",
              "    .dataframe thead th {\n",
              "        text-align: right;\n",
              "    }\n",
              "</style>\n",
              "<table border=\"1\" class=\"dataframe\">\n",
              "  <thead>\n",
              "    <tr style=\"text-align: right;\">\n",
              "      <th></th>\n",
              "      <th>Pregnancies</th>\n",
              "      <th>Glucose</th>\n",
              "      <th>BloodPressure</th>\n",
              "      <th>SkinThickness</th>\n",
              "      <th>Insulin</th>\n",
              "      <th>BMI</th>\n",
              "      <th>DiabetesPedigreeFunction</th>\n",
              "      <th>Age</th>\n",
              "      <th>Outcome</th>\n",
              "    </tr>\n",
              "  </thead>\n",
              "  <tbody>\n",
              "    <tr>\n",
              "      <th>0</th>\n",
              "      <td>6.0</td>\n",
              "      <td>148.0</td>\n",
              "      <td>72.0</td>\n",
              "      <td>35.0</td>\n",
              "      <td>218.937760</td>\n",
              "      <td>33.6</td>\n",
              "      <td>0.627</td>\n",
              "      <td>50.0</td>\n",
              "      <td>1</td>\n",
              "    </tr>\n",
              "    <tr>\n",
              "      <th>1</th>\n",
              "      <td>1.0</td>\n",
              "      <td>85.0</td>\n",
              "      <td>66.0</td>\n",
              "      <td>29.0</td>\n",
              "      <td>70.189298</td>\n",
              "      <td>26.6</td>\n",
              "      <td>0.351</td>\n",
              "      <td>31.0</td>\n",
              "      <td>0</td>\n",
              "    </tr>\n",
              "    <tr>\n",
              "      <th>2</th>\n",
              "      <td>8.0</td>\n",
              "      <td>183.0</td>\n",
              "      <td>64.0</td>\n",
              "      <td>29.0</td>\n",
              "      <td>269.968908</td>\n",
              "      <td>23.3</td>\n",
              "      <td>0.672</td>\n",
              "      <td>32.0</td>\n",
              "      <td>1</td>\n",
              "    </tr>\n",
              "    <tr>\n",
              "      <th>3</th>\n",
              "      <td>1.0</td>\n",
              "      <td>89.0</td>\n",
              "      <td>66.0</td>\n",
              "      <td>23.0</td>\n",
              "      <td>94.000000</td>\n",
              "      <td>28.1</td>\n",
              "      <td>0.167</td>\n",
              "      <td>21.0</td>\n",
              "      <td>0</td>\n",
              "    </tr>\n",
              "    <tr>\n",
              "      <th>4</th>\n",
              "      <td>0.0</td>\n",
              "      <td>137.0</td>\n",
              "      <td>40.0</td>\n",
              "      <td>35.0</td>\n",
              "      <td>168.000000</td>\n",
              "      <td>43.1</td>\n",
              "      <td>2.288</td>\n",
              "      <td>33.0</td>\n",
              "      <td>1</td>\n",
              "    </tr>\n",
              "  </tbody>\n",
              "</table>\n",
              "</div>"
            ],
            "text/plain": [
              "   Pregnancies  Glucose  BloodPressure  ...  DiabetesPedigreeFunction   Age  Outcome\n",
              "0          6.0    148.0           72.0  ...                     0.627  50.0        1\n",
              "1          1.0     85.0           66.0  ...                     0.351  31.0        0\n",
              "2          8.0    183.0           64.0  ...                     0.672  32.0        1\n",
              "3          1.0     89.0           66.0  ...                     0.167  21.0        0\n",
              "4          0.0    137.0           40.0  ...                     2.288  33.0        1\n",
              "\n",
              "[5 rows x 9 columns]"
            ]
          },
          "metadata": {
            "tags": []
          },
          "execution_count": 96
        }
      ]
    },
    {
      "cell_type": "code",
      "metadata": {
        "id": "l1V2wcC9Fciu",
        "colab": {
          "base_uri": "https://localhost:8080/",
          "height": 297
        },
        "outputId": "08a0e929-283d-4441-83e9-6e228736e805"
      },
      "source": [
        "# describe the dataframe using .describe()\n",
        "dia_df.describe()"
      ],
      "execution_count": 97,
      "outputs": [
        {
          "output_type": "execute_result",
          "data": {
            "text/html": [
              "<div>\n",
              "<style scoped>\n",
              "    .dataframe tbody tr th:only-of-type {\n",
              "        vertical-align: middle;\n",
              "    }\n",
              "\n",
              "    .dataframe tbody tr th {\n",
              "        vertical-align: top;\n",
              "    }\n",
              "\n",
              "    .dataframe thead th {\n",
              "        text-align: right;\n",
              "    }\n",
              "</style>\n",
              "<table border=\"1\" class=\"dataframe\">\n",
              "  <thead>\n",
              "    <tr style=\"text-align: right;\">\n",
              "      <th></th>\n",
              "      <th>Pregnancies</th>\n",
              "      <th>Glucose</th>\n",
              "      <th>BloodPressure</th>\n",
              "      <th>SkinThickness</th>\n",
              "      <th>Insulin</th>\n",
              "      <th>BMI</th>\n",
              "      <th>DiabetesPedigreeFunction</th>\n",
              "      <th>Age</th>\n",
              "      <th>Outcome</th>\n",
              "    </tr>\n",
              "  </thead>\n",
              "  <tbody>\n",
              "    <tr>\n",
              "      <th>count</th>\n",
              "      <td>768.000000</td>\n",
              "      <td>768.000000</td>\n",
              "      <td>768.000000</td>\n",
              "      <td>768.000000</td>\n",
              "      <td>768.000000</td>\n",
              "      <td>768.000000</td>\n",
              "      <td>768.000000</td>\n",
              "      <td>768.000000</td>\n",
              "      <td>768.000000</td>\n",
              "    </tr>\n",
              "    <tr>\n",
              "      <th>mean</th>\n",
              "      <td>3.845052</td>\n",
              "      <td>121.539062</td>\n",
              "      <td>72.405184</td>\n",
              "      <td>29.108073</td>\n",
              "      <td>152.222767</td>\n",
              "      <td>32.307682</td>\n",
              "      <td>0.471876</td>\n",
              "      <td>33.240885</td>\n",
              "      <td>0.348958</td>\n",
              "    </tr>\n",
              "    <tr>\n",
              "      <th>std</th>\n",
              "      <td>3.369578</td>\n",
              "      <td>30.490660</td>\n",
              "      <td>12.096346</td>\n",
              "      <td>8.791221</td>\n",
              "      <td>97.387162</td>\n",
              "      <td>6.986674</td>\n",
              "      <td>0.331329</td>\n",
              "      <td>11.760232</td>\n",
              "      <td>0.476951</td>\n",
              "    </tr>\n",
              "    <tr>\n",
              "      <th>min</th>\n",
              "      <td>0.000000</td>\n",
              "      <td>44.000000</td>\n",
              "      <td>24.000000</td>\n",
              "      <td>7.000000</td>\n",
              "      <td>-17.757186</td>\n",
              "      <td>18.200000</td>\n",
              "      <td>0.078000</td>\n",
              "      <td>21.000000</td>\n",
              "      <td>0.000000</td>\n",
              "    </tr>\n",
              "    <tr>\n",
              "      <th>25%</th>\n",
              "      <td>1.000000</td>\n",
              "      <td>99.000000</td>\n",
              "      <td>64.000000</td>\n",
              "      <td>25.000000</td>\n",
              "      <td>89.647494</td>\n",
              "      <td>27.300000</td>\n",
              "      <td>0.243750</td>\n",
              "      <td>24.000000</td>\n",
              "      <td>0.000000</td>\n",
              "    </tr>\n",
              "    <tr>\n",
              "      <th>50%</th>\n",
              "      <td>3.000000</td>\n",
              "      <td>117.000000</td>\n",
              "      <td>72.202592</td>\n",
              "      <td>29.000000</td>\n",
              "      <td>130.000000</td>\n",
              "      <td>32.000000</td>\n",
              "      <td>0.372500</td>\n",
              "      <td>29.000000</td>\n",
              "      <td>0.000000</td>\n",
              "    </tr>\n",
              "    <tr>\n",
              "      <th>75%</th>\n",
              "      <td>6.000000</td>\n",
              "      <td>140.250000</td>\n",
              "      <td>80.000000</td>\n",
              "      <td>32.000000</td>\n",
              "      <td>188.448695</td>\n",
              "      <td>36.600000</td>\n",
              "      <td>0.626250</td>\n",
              "      <td>41.000000</td>\n",
              "      <td>1.000000</td>\n",
              "    </tr>\n",
              "    <tr>\n",
              "      <th>max</th>\n",
              "      <td>17.000000</td>\n",
              "      <td>199.000000</td>\n",
              "      <td>122.000000</td>\n",
              "      <td>99.000000</td>\n",
              "      <td>846.000000</td>\n",
              "      <td>67.100000</td>\n",
              "      <td>2.420000</td>\n",
              "      <td>81.000000</td>\n",
              "      <td>1.000000</td>\n",
              "    </tr>\n",
              "  </tbody>\n",
              "</table>\n",
              "</div>"
            ],
            "text/plain": [
              "       Pregnancies     Glucose  ...         Age     Outcome\n",
              "count   768.000000  768.000000  ...  768.000000  768.000000\n",
              "mean      3.845052  121.539062  ...   33.240885    0.348958\n",
              "std       3.369578   30.490660  ...   11.760232    0.476951\n",
              "min       0.000000   44.000000  ...   21.000000    0.000000\n",
              "25%       1.000000   99.000000  ...   24.000000    0.000000\n",
              "50%       3.000000  117.000000  ...   29.000000    0.000000\n",
              "75%       6.000000  140.250000  ...   41.000000    1.000000\n",
              "max      17.000000  199.000000  ...   81.000000    1.000000\n",
              "\n",
              "[8 rows x 9 columns]"
            ]
          },
          "metadata": {
            "tags": []
          },
          "execution_count": 97
        }
      ]
    },
    {
      "cell_type": "markdown",
      "metadata": {
        "id": "Z4q9fViGFciu"
      },
      "source": [
        "As we can see range of these features are very different that means they all are in different scales so lets standardize the features using sklearn's preprocessing scale function.\n",
        "\n",
        "Reference doc: https://scikit-learn.org/stable/modules/generated/sklearn.preprocessing.scale.html"
      ]
    },
    {
      "cell_type": "code",
      "metadata": {
        "id": "ef4SQPh_Fciu"
      },
      "source": [
        "from sklearn import preprocessing\n",
        "\n",
        "#iterate over all features in dia_df and scale\n",
        "for i in dia_df.columns:\n",
        "  preprocessing.scale(dia_df[i], copy = False)"
      ],
      "execution_count": 106,
      "outputs": []
    },
    {
      "cell_type": "code",
      "metadata": {
        "id": "18R6om4WFciv",
        "colab": {
          "base_uri": "https://localhost:8080/",
          "height": 297
        },
        "outputId": "cc6fb728-26c7-4648-ee70-c06415517426"
      },
      "source": [
        "# describe dataframe using .describe()\n",
        "dia_df.describe()"
      ],
      "execution_count": 107,
      "outputs": [
        {
          "output_type": "execute_result",
          "data": {
            "text/html": [
              "<div>\n",
              "<style scoped>\n",
              "    .dataframe tbody tr th:only-of-type {\n",
              "        vertical-align: middle;\n",
              "    }\n",
              "\n",
              "    .dataframe tbody tr th {\n",
              "        vertical-align: top;\n",
              "    }\n",
              "\n",
              "    .dataframe thead th {\n",
              "        text-align: right;\n",
              "    }\n",
              "</style>\n",
              "<table border=\"1\" class=\"dataframe\">\n",
              "  <thead>\n",
              "    <tr style=\"text-align: right;\">\n",
              "      <th></th>\n",
              "      <th>Pregnancies</th>\n",
              "      <th>Glucose</th>\n",
              "      <th>BloodPressure</th>\n",
              "      <th>SkinThickness</th>\n",
              "      <th>Insulin</th>\n",
              "      <th>BMI</th>\n",
              "      <th>DiabetesPedigreeFunction</th>\n",
              "      <th>Age</th>\n",
              "      <th>Outcome</th>\n",
              "    </tr>\n",
              "  </thead>\n",
              "  <tbody>\n",
              "    <tr>\n",
              "      <th>count</th>\n",
              "      <td>7.680000e+02</td>\n",
              "      <td>7.680000e+02</td>\n",
              "      <td>7.680000e+02</td>\n",
              "      <td>7.680000e+02</td>\n",
              "      <td>7.680000e+02</td>\n",
              "      <td>7.680000e+02</td>\n",
              "      <td>7.680000e+02</td>\n",
              "      <td>7.680000e+02</td>\n",
              "      <td>768.000000</td>\n",
              "    </tr>\n",
              "    <tr>\n",
              "      <th>mean</th>\n",
              "      <td>2.544261e-17</td>\n",
              "      <td>-7.661695e-18</td>\n",
              "      <td>-4.474864e-16</td>\n",
              "      <td>-1.795800e-16</td>\n",
              "      <td>-2.428613e-17</td>\n",
              "      <td>9.880696e-17</td>\n",
              "      <td>2.612927e-16</td>\n",
              "      <td>1.857600e-16</td>\n",
              "      <td>0.348958</td>\n",
              "    </tr>\n",
              "    <tr>\n",
              "      <th>std</th>\n",
              "      <td>1.000652e+00</td>\n",
              "      <td>1.000652e+00</td>\n",
              "      <td>1.000652e+00</td>\n",
              "      <td>1.000652e+00</td>\n",
              "      <td>1.000652e+00</td>\n",
              "      <td>1.000652e+00</td>\n",
              "      <td>1.000652e+00</td>\n",
              "      <td>1.000652e+00</td>\n",
              "      <td>0.476951</td>\n",
              "    </tr>\n",
              "    <tr>\n",
              "      <th>min</th>\n",
              "      <td>-1.141852e+00</td>\n",
              "      <td>-2.544700e+00</td>\n",
              "      <td>-4.004245e+00</td>\n",
              "      <td>-2.516429e+00</td>\n",
              "      <td>-1.746542e+00</td>\n",
              "      <td>-2.020543e+00</td>\n",
              "      <td>-1.189553e+00</td>\n",
              "      <td>-1.041549e+00</td>\n",
              "      <td>0.000000</td>\n",
              "    </tr>\n",
              "    <tr>\n",
              "      <th>25%</th>\n",
              "      <td>-8.448851e-01</td>\n",
              "      <td>-7.396938e-01</td>\n",
              "      <td>-6.953060e-01</td>\n",
              "      <td>-4.675972e-01</td>\n",
              "      <td>-6.429600e-01</td>\n",
              "      <td>-7.172147e-01</td>\n",
              "      <td>-6.889685e-01</td>\n",
              "      <td>-7.862862e-01</td>\n",
              "      <td>0.000000</td>\n",
              "    </tr>\n",
              "    <tr>\n",
              "      <th>50%</th>\n",
              "      <td>-2.509521e-01</td>\n",
              "      <td>-1.489643e-01</td>\n",
              "      <td>-1.675912e-02</td>\n",
              "      <td>-1.230129e-02</td>\n",
              "      <td>-2.283386e-01</td>\n",
              "      <td>-4.406715e-02</td>\n",
              "      <td>-3.001282e-01</td>\n",
              "      <td>-3.608474e-01</td>\n",
              "      <td>0.000000</td>\n",
              "    </tr>\n",
              "    <tr>\n",
              "      <th>75%</th>\n",
              "      <td>6.399473e-01</td>\n",
              "      <td>6.140612e-01</td>\n",
              "      <td>6.282695e-01</td>\n",
              "      <td>3.291706e-01</td>\n",
              "      <td>3.722209e-01</td>\n",
              "      <td>6.147581e-01</td>\n",
              "      <td>4.662269e-01</td>\n",
              "      <td>6.602056e-01</td>\n",
              "      <td>1.000000</td>\n",
              "    </tr>\n",
              "    <tr>\n",
              "      <th>max</th>\n",
              "      <td>3.906578e+00</td>\n",
              "      <td>2.542136e+00</td>\n",
              "      <td>4.102655e+00</td>\n",
              "      <td>7.955377e+00</td>\n",
              "      <td>7.128551e+00</td>\n",
              "      <td>4.983056e+00</td>\n",
              "      <td>5.883565e+00</td>\n",
              "      <td>4.063716e+00</td>\n",
              "      <td>1.000000</td>\n",
              "    </tr>\n",
              "  </tbody>\n",
              "</table>\n",
              "</div>"
            ],
            "text/plain": [
              "        Pregnancies       Glucose  ...           Age     Outcome\n",
              "count  7.680000e+02  7.680000e+02  ...  7.680000e+02  768.000000\n",
              "mean   2.544261e-17 -7.661695e-18  ...  1.857600e-16    0.348958\n",
              "std    1.000652e+00  1.000652e+00  ...  1.000652e+00    0.476951\n",
              "min   -1.141852e+00 -2.544700e+00  ... -1.041549e+00    0.000000\n",
              "25%   -8.448851e-01 -7.396938e-01  ... -7.862862e-01    0.000000\n",
              "50%   -2.509521e-01 -1.489643e-01  ... -3.608474e-01    0.000000\n",
              "75%    6.399473e-01  6.140612e-01  ...  6.602056e-01    1.000000\n",
              "max    3.906578e+00  2.542136e+00  ...  4.063716e+00    1.000000\n",
              "\n",
              "[8 rows x 9 columns]"
            ]
          },
          "metadata": {
            "tags": []
          },
          "execution_count": 107
        }
      ]
    },
    {
      "cell_type": "code",
      "metadata": {
        "id": "Up1_wZH3Fciv"
      },
      "source": [
        "#import variance inflation factor\n",
        "from statsmodels.stats.outliers_influence import variance_inflation_factor"
      ],
      "execution_count": 108,
      "outputs": []
    },
    {
      "cell_type": "code",
      "metadata": {
        "id": "5mAFH9mIFciv"
      },
      "source": [
        "# assign features to X and target to Y \n",
        "X = dia_df.iloc[:, :-1]\n",
        "y = dia_df['Outcome']\n",
        "\n",
        "\n",
        "# split the data to test and train with test_size=0.2\n",
        "from sklearn.model_selection import train_test_split\n",
        "X_train, X_test, y_train, y_test = train_test_split(X, y, test_size = 0.2)"
      ],
      "execution_count": 109,
      "outputs": []
    },
    {
      "cell_type": "code",
      "metadata": {
        "id": "KduxDXGRFciw"
      },
      "source": [
        "#assign an empty dataframe to variable vif\n",
        "vif=pd.DataFrame()#\n",
        "\n",
        "# make a new column 'VIF Factor' in vif dataframe and calculate the variance_inflation_factor for each X \n",
        "vif['VIF Factor']=[variance_inflation_factor(X.values, i) for i in range(X.shape[1])]#"
      ],
      "execution_count": 111,
      "outputs": []
    },
    {
      "cell_type": "code",
      "metadata": {
        "id": "HsYe7PxzFciw"
      },
      "source": [
        "# define vif['Features'] with columns names in X\n",
        "\n",
        "vif['Features']=X.columns"
      ],
      "execution_count": 112,
      "outputs": []
    },
    {
      "cell_type": "code",
      "metadata": {
        "id": "3azpV0NMFciw",
        "colab": {
          "base_uri": "https://localhost:8080/",
          "height": 297
        },
        "outputId": "89a569d5-ffa3-4d12-85a2-fda9c6a879ef"
      },
      "source": [
        "#  round off all the decimal values in the dataframe to 2 decimal places for VIF dataframe and print it.\n",
        "vif['VIF Factor'] = vif['VIF Factor'].round(2)\n",
        "vif"
      ],
      "execution_count": 114,
      "outputs": [
        {
          "output_type": "execute_result",
          "data": {
            "text/html": [
              "<div>\n",
              "<style scoped>\n",
              "    .dataframe tbody tr th:only-of-type {\n",
              "        vertical-align: middle;\n",
              "    }\n",
              "\n",
              "    .dataframe tbody tr th {\n",
              "        vertical-align: top;\n",
              "    }\n",
              "\n",
              "    .dataframe thead th {\n",
              "        text-align: right;\n",
              "    }\n",
              "</style>\n",
              "<table border=\"1\" class=\"dataframe\">\n",
              "  <thead>\n",
              "    <tr style=\"text-align: right;\">\n",
              "      <th></th>\n",
              "      <th>VIF Factor</th>\n",
              "      <th>Features</th>\n",
              "    </tr>\n",
              "  </thead>\n",
              "  <tbody>\n",
              "    <tr>\n",
              "      <th>0</th>\n",
              "      <td>1.43</td>\n",
              "      <td>Pregnancies</td>\n",
              "    </tr>\n",
              "    <tr>\n",
              "      <th>1</th>\n",
              "      <td>2.07</td>\n",
              "      <td>Glucose</td>\n",
              "    </tr>\n",
              "    <tr>\n",
              "      <th>2</th>\n",
              "      <td>1.24</td>\n",
              "      <td>BloodPressure</td>\n",
              "    </tr>\n",
              "    <tr>\n",
              "      <th>3</th>\n",
              "      <td>1.43</td>\n",
              "      <td>SkinThickness</td>\n",
              "    </tr>\n",
              "    <tr>\n",
              "      <th>4</th>\n",
              "      <td>2.04</td>\n",
              "      <td>Insulin</td>\n",
              "    </tr>\n",
              "    <tr>\n",
              "      <th>5</th>\n",
              "      <td>1.58</td>\n",
              "      <td>BMI</td>\n",
              "    </tr>\n",
              "    <tr>\n",
              "      <th>6</th>\n",
              "      <td>1.05</td>\n",
              "      <td>DiabetesPedigreeFunction</td>\n",
              "    </tr>\n",
              "    <tr>\n",
              "      <th>7</th>\n",
              "      <td>1.62</td>\n",
              "      <td>Age</td>\n",
              "    </tr>\n",
              "  </tbody>\n",
              "</table>\n",
              "</div>"
            ],
            "text/plain": [
              "   VIF Factor                  Features\n",
              "0        1.43               Pregnancies\n",
              "1        2.07                   Glucose\n",
              "2        1.24             BloodPressure\n",
              "3        1.43             SkinThickness\n",
              "4        2.04                   Insulin\n",
              "5        1.58                       BMI\n",
              "6        1.05  DiabetesPedigreeFunction\n",
              "7        1.62                       Age"
            ]
          },
          "metadata": {
            "tags": []
          },
          "execution_count": 114
        }
      ]
    },
    {
      "cell_type": "markdown",
      "metadata": {
        "id": "taqDkKnoFcix"
      },
      "source": [
        "* VIF = 1: Not correlated\n",
        "* VIF =1-5: Moderately correlated\n",
        "* VIF >5: Highly correlated\n",
        "\n",
        "Glucose, Insulin, and Age are having large VIF scores, so lets drop it.\n",
        "\n"
      ]
    },
    {
      "cell_type": "code",
      "metadata": {
        "id": "Mw6WlwN-Fcix"
      },
      "source": [
        "# according to above observation , drop  'Glucose', 'Insulin' and 'Age' from X\n",
        "\n",
        "X=X.drop(columns=  ['Glucose', 'Insulin', 'Age'])"
      ],
      "execution_count": 116,
      "outputs": []
    },
    {
      "cell_type": "markdown",
      "metadata": {
        "id": "eaFLDUOWFcix"
      },
      "source": [
        "Now again we calculate the VIF for the rest of the features\n",
        "\n",
        "Again repeat the previous steps to assign an empty dataframe() to vif and make a new column 'VIF Factor' and calculate the variance_inflation_factorfor each X \n"
      ]
    },
    {
      "cell_type": "code",
      "metadata": {
        "id": "0jhuT7taFciy"
      },
      "source": [
        "#code here\n",
        "vif = pd.DataFrame()\n",
        "vif['VIF Factor'] = [variance_inflation_factor(X.values, i) for i in range(X.shape[1])]\n"
      ],
      "execution_count": 117,
      "outputs": []
    },
    {
      "cell_type": "code",
      "metadata": {
        "id": "vGjJJTgcFciy",
        "colab": {
          "base_uri": "https://localhost:8080/",
          "height": 204
        },
        "outputId": "53e0fe05-bd32-4975-cc5c-e1baffae53ee"
      },
      "source": [
        "#define vif['Features'] as columns of X and return vif with round off to 2 decimal places\n",
        "vif['Features'] = X.columns\n",
        "vif['VIF Factor'] = vif['VIF Factor'].round(2)\n",
        "vif"
      ],
      "execution_count": 119,
      "outputs": [
        {
          "output_type": "execute_result",
          "data": {
            "text/html": [
              "<div>\n",
              "<style scoped>\n",
              "    .dataframe tbody tr th:only-of-type {\n",
              "        vertical-align: middle;\n",
              "    }\n",
              "\n",
              "    .dataframe tbody tr th {\n",
              "        vertical-align: top;\n",
              "    }\n",
              "\n",
              "    .dataframe thead th {\n",
              "        text-align: right;\n",
              "    }\n",
              "</style>\n",
              "<table border=\"1\" class=\"dataframe\">\n",
              "  <thead>\n",
              "    <tr style=\"text-align: right;\">\n",
              "      <th></th>\n",
              "      <th>VIF Factor</th>\n",
              "      <th>Features</th>\n",
              "    </tr>\n",
              "  </thead>\n",
              "  <tbody>\n",
              "    <tr>\n",
              "      <th>0</th>\n",
              "      <td>1.05</td>\n",
              "      <td>Pregnancies</td>\n",
              "    </tr>\n",
              "    <tr>\n",
              "      <th>1</th>\n",
              "      <td>1.13</td>\n",
              "      <td>BloodPressure</td>\n",
              "    </tr>\n",
              "    <tr>\n",
              "      <th>2</th>\n",
              "      <td>1.42</td>\n",
              "      <td>SkinThickness</td>\n",
              "    </tr>\n",
              "    <tr>\n",
              "      <th>3</th>\n",
              "      <td>1.50</td>\n",
              "      <td>BMI</td>\n",
              "    </tr>\n",
              "    <tr>\n",
              "      <th>4</th>\n",
              "      <td>1.03</td>\n",
              "      <td>DiabetesPedigreeFunction</td>\n",
              "    </tr>\n",
              "  </tbody>\n",
              "</table>\n",
              "</div>"
            ],
            "text/plain": [
              "   VIF Factor                  Features\n",
              "0        1.05               Pregnancies\n",
              "1        1.13             BloodPressure\n",
              "2        1.42             SkinThickness\n",
              "3        1.50                       BMI\n",
              "4        1.03  DiabetesPedigreeFunction"
            ]
          },
          "metadata": {
            "tags": []
          },
          "execution_count": 119
        }
      ]
    },
    {
      "cell_type": "markdown",
      "metadata": {
        "id": "bRklMnGIFciz"
      },
      "source": [
        "So now colinearity of features has been reduced using VIF."
      ]
    },
    {
      "cell_type": "markdown",
      "metadata": {
        "id": "Sg17aOpSFciz"
      },
      "source": [
        "The need to fix multicollinearity depends primarily on the below reasons:\n",
        "\n",
        "1. When you care more about how much each individual feature rather than a group of features affects the target variable, then removing multicollinearity may be a good option\n",
        "2. If multicollinearity is not present in the features you are interested in, then multicollinearity may not be a problem."
      ]
    },
    {
      "cell_type": "markdown",
      "metadata": {
        "id": "J4lMbZDZFciz"
      },
      "source": [
        "------------------------------\n",
        "\n",
        "# Hip Hip Hurray! Congratulations you have completed the 7th assignment too! Very well done.\n",
        "\n",
        "-------------------------------------"
      ]
    },
    {
      "cell_type": "markdown",
      "metadata": {
        "id": "RfcfFxiFFci0"
      },
      "source": [
        "# Its Feedback Time!\n",
        "\n",
        "We hope you’ve enjoyed this course so far. We’re committed to help you use \"AI for All\" course to its full potential, so that you have a great learning experience. And that’s why we need your help in form of a feedback here.\n",
        "\n",
        "**Please fill this feedback form**\n",
        " https://zfrmz.in/MtRG5oWXBdesm6rmSM7N"
      ]
    },
    {
      "cell_type": "markdown",
      "metadata": {
        "id": "_ILfgW1LFci0"
      },
      "source": [
        "------------------------------"
      ]
    }
  ]
}