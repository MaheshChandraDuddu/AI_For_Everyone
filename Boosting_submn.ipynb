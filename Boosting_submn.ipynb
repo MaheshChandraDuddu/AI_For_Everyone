{
  "nbformat": 4,
  "nbformat_minor": 0,
  "metadata": {
    "colab": {
      "name": "Boosting.ipynb",
      "provenance": [],
      "collapsed_sections": []
    },
    "kernelspec": {
      "display_name": "Python 3",
      "language": "python",
      "name": "python3"
    },
    "language_info": {
      "codemirror_mode": {
        "name": "ipython",
        "version": 3
      },
      "file_extension": ".py",
      "mimetype": "text/x-python",
      "name": "python",
      "nbconvert_exporter": "python",
      "pygments_lexer": "ipython3",
      "version": "3.8.5"
    }
  },
  "cells": [
    {
      "cell_type": "markdown",
      "metadata": {
        "collapsed": true,
        "id": "u93kzhf1D3UX"
      },
      "source": [
        "\n",
        "# <center><u>Ensemble ML Algorithms - Boosting</u></center>\n",
        "\n",
        "\n",
        "\n",
        "\n",
        "## TalkingData: Fraudulent Click Prediction\n",
        "\n",
        "\n",
        "\n",
        "\n"
      ]
    },
    {
      "cell_type": "markdown",
      "metadata": {
        "id": "DThpWOx6D3UZ"
      },
      "source": [
        "In this assignment, we will apply various boosting algorithms to solve an interesting classification problem from the domain of 'digital fraud'.\n",
        "\n",
        "The analysis is divided into the following sections:\n",
        "- Understanding the business problem\n",
        "- Understanding and exploring the data\n",
        "- Feature engineering: Creating new features\n",
        "- Model building and evaluation: AdaBoost\n",
        "- Modelling building and evaluation: Gradient Boosting\n",
        "- Modelling building and evaluation: XGBoost\n",
        "- Modelling building and evaluation: LightGBM\n",
        "- Modelling building and evaluation: CatBoost\n",
        "\n",
        "\n"
      ]
    },
    {
      "cell_type": "markdown",
      "metadata": {
        "id": "AZvCLMIhD3Ua"
      },
      "source": [
        "## Understanding the Business Problem\n",
        "\n",
        "<p style='text-align: right;'> 5 points</p>\n",
        "\n",
        "\n",
        "<a href=\"https://www.talkingdata.com/\">TalkingData</a> is a Chinese big data company, and one of their areas of expertise is mobile advertisements.\n",
        "\n",
        "In mobile advertisements, **click fraud** is a major source of losses. Click fraud is the practice of repeatedly clicking on an advertisement hosted on a website with the intention of generating revenue for the host website or draining revenue from the advertiser.\n",
        "\n",
        "In this case, TalkingData happens to be serving the advertisers (their clients). TalkingData cover a whopping **approx. 70% of the active mobile devices in China**, of which 90% are potentially fraudulent (i.e. the user is actually not going to download the app after clicking).\n",
        "\n",
        "You can imagine the amount of money they can help clients save if they are able to predict whether a given click is fraudulent (or equivalently, whether a given click will result in a download). \n",
        "\n",
        "Their current approach to solve this problem is that they've generated a blacklist of IP addresses - those IPs which produce lots of clicks, but never install any apps. Now, they want to try some advanced techniques to predict the probability of a click being genuine/fraud.\n",
        "\n",
        "In this problem, we will use the features associated with clicks, such as IP address, operating system, device type, time of click etc. to predict the probability of a click being fraud.\n",
        "\n",
        "They have released <a href=\"https://www.kaggle.com/c/talkingdata-adtracking-fraud-detection\">the problem on Kaggle here.</a>."
      ]
    },
    {
      "cell_type": "markdown",
      "metadata": {
        "id": "mOroROEND3Ub"
      },
      "source": [
        "## Understanding and Exploring the Data\n",
        "\n",
        "The data contains observations of about 240 million clicks, and whether a given click resulted in a download or not (1/0). \n",
        "\n",
        "On Kaggle, the data is split into train.csv and train_sample.csv (100,000 observations). We'll use the smaller train_sample.csv in this notebook for speed, though while training the model for Kaggle submissions, the full training data will obviously produce better results.\n",
        "\n",
        "The detailed data dictionary is mentioned here:\n",
        "- ```ip```: ip address of click.\n",
        "- ```app```: app id for marketing.\n",
        "- ```device```: device type id of user mobile phone (e.g., iphone 6 plus, iphone 7, huawei mate 7, etc.)\n",
        "- ```os```: os version id of user mobile phone\n",
        "- ```channel```: channel id of mobile ad publisher\n",
        "- ```click_time```: timestamp of click (UTC)\n",
        "- ```attributed_time```: if user download the app for after clicking an ad, this is the time of the app download\n",
        "- ```is_attributed```: the target that is to be predicted, indicating the app was downloaded\n",
        "\n",
        "Let's try finding some useful trends in the data."
      ]
    },
    {
      "cell_type": "code",
      "metadata": {
        "id": "wEs3rPsoD3Uc"
      },
      "source": [
        "#importing important libraries which are going to be used\n",
        "\n",
        "import numpy as np \n",
        "import pandas as pd \n",
        "import sklearn\n",
        "import matplotlib.pyplot as plt\n",
        "import seaborn as sns\n",
        "\n",
        "from sklearn.model_selection import train_test_split\n",
        "from sklearn.model_selection import KFold\n",
        "from sklearn.model_selection import GridSearchCV\n",
        "from sklearn.model_selection import RandomizedSearchCV\n",
        "\n",
        "from sklearn.model_selection import cross_val_score\n",
        "from sklearn.preprocessing import LabelEncoder\n",
        "from sklearn.tree import DecisionTreeClassifier\n",
        "from sklearn.ensemble import AdaBoostClassifier\n",
        "from sklearn.ensemble import GradientBoostingClassifier\n",
        "from sklearn import metrics\n",
        "import xgboost as xgb\n",
        "from xgboost import XGBClassifier\n",
        "from xgboost import plot_importance\n",
        "import gc # for deleting unused variables\n",
        "%matplotlib inline\n",
        "\n",
        "import os\n",
        "import warnings\n",
        "warnings.filterwarnings('ignore')"
      ],
      "execution_count": 1,
      "outputs": []
    },
    {
      "cell_type": "markdown",
      "metadata": {
        "id": "4rn6B52SD3Ud"
      },
      "source": [
        "#### Reading the Data  \n",
        "\n",
        "The code below reads the train_sample.csv file if you set testing = True, else reads the full train.csv file. You can read the sample while tuning the model etc., and then run the model on the full data once done.\n",
        "\n",
        "#### Important Note: Save memory when the data is huge\n",
        "\n",
        "Since the training data is quite huge, the program will be quite slow if you don't consciously follow some best practices to save memory. This notebook demonstrates some of those practices. \n",
        "\n",
        "We will provide you the code this time. But rember that you need to learn these best practices to optimize any ML project."
      ]
    },
    {
      "cell_type": "code",
      "metadata": {
        "id": "ylU947HvD3Ue",
        "scrolled": false
      },
      "source": [
        "# reading training data\n",
        "\n",
        "# specify column dtypes to save memory (by default pandas reads some columns as floats)\n",
        "# note that click_id is only in test data, not training data\n",
        "dtypes = {\n",
        "        'ip'            : 'uint16',\n",
        "        'app'           : 'uint16',\n",
        "        'device'        : 'uint16',\n",
        "        'os'            : 'uint16',\n",
        "        'channel'       : 'uint16',\n",
        "        'is_attributed' : 'uint8',\n",
        "        'click_id'      : 'uint32' \n",
        "        }\n",
        "\n",
        "# read training_sample.csv for quick testing/debug, else read the full train.csv\n",
        "testing = True\n",
        "if testing:\n",
        "    train_path = \"train_sample.csv\"\n",
        "    skiprows = None\n",
        "    nrows = None\n",
        "    colnames=['ip','app','device','os', 'channel', 'click_time', 'is_attributed']\n",
        "else:\n",
        "    train_path = \"train.csv\"\n",
        "    skiprows = range(1, 144903891)\n",
        "    nrows = 10000000\n",
        "    colnames=['ip','app','device','os', 'channel', 'click_time', 'is_attributed']\n",
        "\n",
        "# read training data (train_sample.csv)\n",
        "train_sample = pd.read_csv(train_path, skiprows=skiprows, nrows=nrows, dtype=dtypes, usecols=colnames)\n"
      ],
      "execution_count": 2,
      "outputs": []
    },
    {
      "cell_type": "code",
      "metadata": {
        "id": "__DK7dKCD3Ug",
        "colab": {
          "base_uri": "https://localhost:8080/"
        },
        "outputId": "caf862df-cc46-470b-98b6-2083b9035008"
      },
      "source": [
        "# Printing length of training data\n",
        "len(train_sample)"
      ],
      "execution_count": 3,
      "outputs": [
        {
          "output_type": "execute_result",
          "data": {
            "text/plain": [
              "100000"
            ]
          },
          "metadata": {},
          "execution_count": 3
        }
      ]
    },
    {
      "cell_type": "markdown",
      "metadata": {
        "id": "MCt2oiT6D3Uj"
      },
      "source": [
        "To get memory consumed by each column use memory_usage() function on train_sample\n",
        "\n",
        "Refer: https://www.w3resource.com/pandas/dataframe/dataframe-memory_usage.php"
      ]
    },
    {
      "cell_type": "code",
      "metadata": {
        "id": "pqrdhOIyD3Uk",
        "scrolled": true,
        "colab": {
          "base_uri": "https://localhost:8080/"
        },
        "outputId": "214529ff-525d-463a-b6f7-6f949345d01b"
      },
      "source": [
        "# Displays memory consumed by each column ---\n",
        "print(train_sample.memory_usage())"
      ],
      "execution_count": 4,
      "outputs": [
        {
          "output_type": "stream",
          "name": "stdout",
          "text": [
            "Index               128\n",
            "ip               200000\n",
            "app              200000\n",
            "device           200000\n",
            "os               200000\n",
            "channel          200000\n",
            "click_time       800000\n",
            "is_attributed    100000\n",
            "dtype: int64\n"
          ]
        }
      ]
    },
    {
      "cell_type": "markdown",
      "metadata": {
        "id": "2oETlzPKD3Ul"
      },
      "source": [
        "To get space used by training data then use sum of memory consumed by each variable divided by 1024**2\n"
      ]
    },
    {
      "cell_type": "code",
      "metadata": {
        "id": "BW05Lt3DD3Ul",
        "colab": {
          "base_uri": "https://localhost:8080/"
        },
        "outputId": "bf43c958-fc72-4dd6-c44c-5adf490351db"
      },
      "source": [
        "# space used by training data\n",
        "print(\"Training data uses : \", train_sample.memory_usage().sum()/1024**2)"
      ],
      "execution_count": 5,
      "outputs": [
        {
          "output_type": "stream",
          "name": "stdout",
          "text": [
            "Training data uses :  1.812103271484375\n"
          ]
        }
      ]
    },
    {
      "cell_type": "code",
      "metadata": {
        "id": "tAPg-EDgD3Um",
        "scrolled": true,
        "colab": {
          "base_uri": "https://localhost:8080/",
          "height": 204
        },
        "outputId": "e9a61011-3371-49f6-9ec0-a5e290d663df"
      },
      "source": [
        "# training data top rows\n",
        "train_sample.head()"
      ],
      "execution_count": 6,
      "outputs": [
        {
          "output_type": "execute_result",
          "data": {
            "text/html": [
              "<div>\n",
              "<style scoped>\n",
              "    .dataframe tbody tr th:only-of-type {\n",
              "        vertical-align: middle;\n",
              "    }\n",
              "\n",
              "    .dataframe tbody tr th {\n",
              "        vertical-align: top;\n",
              "    }\n",
              "\n",
              "    .dataframe thead th {\n",
              "        text-align: right;\n",
              "    }\n",
              "</style>\n",
              "<table border=\"1\" class=\"dataframe\">\n",
              "  <thead>\n",
              "    <tr style=\"text-align: right;\">\n",
              "      <th></th>\n",
              "      <th>ip</th>\n",
              "      <th>app</th>\n",
              "      <th>device</th>\n",
              "      <th>os</th>\n",
              "      <th>channel</th>\n",
              "      <th>click_time</th>\n",
              "      <th>is_attributed</th>\n",
              "    </tr>\n",
              "  </thead>\n",
              "  <tbody>\n",
              "    <tr>\n",
              "      <th>0</th>\n",
              "      <td>22004</td>\n",
              "      <td>12</td>\n",
              "      <td>1</td>\n",
              "      <td>13</td>\n",
              "      <td>497</td>\n",
              "      <td>2017-11-07 09:30:38</td>\n",
              "      <td>0</td>\n",
              "    </tr>\n",
              "    <tr>\n",
              "      <th>1</th>\n",
              "      <td>40024</td>\n",
              "      <td>25</td>\n",
              "      <td>1</td>\n",
              "      <td>17</td>\n",
              "      <td>259</td>\n",
              "      <td>2017-11-07 13:40:27</td>\n",
              "      <td>0</td>\n",
              "    </tr>\n",
              "    <tr>\n",
              "      <th>2</th>\n",
              "      <td>35888</td>\n",
              "      <td>12</td>\n",
              "      <td>1</td>\n",
              "      <td>19</td>\n",
              "      <td>212</td>\n",
              "      <td>2017-11-07 18:05:24</td>\n",
              "      <td>0</td>\n",
              "    </tr>\n",
              "    <tr>\n",
              "      <th>3</th>\n",
              "      <td>29048</td>\n",
              "      <td>13</td>\n",
              "      <td>1</td>\n",
              "      <td>13</td>\n",
              "      <td>477</td>\n",
              "      <td>2017-11-07 04:58:08</td>\n",
              "      <td>0</td>\n",
              "    </tr>\n",
              "    <tr>\n",
              "      <th>4</th>\n",
              "      <td>2877</td>\n",
              "      <td>12</td>\n",
              "      <td>1</td>\n",
              "      <td>1</td>\n",
              "      <td>178</td>\n",
              "      <td>2017-11-09 09:00:09</td>\n",
              "      <td>0</td>\n",
              "    </tr>\n",
              "  </tbody>\n",
              "</table>\n",
              "</div>"
            ],
            "text/plain": [
              "      ip  app  device  os  channel           click_time  is_attributed\n",
              "0  22004   12       1  13      497  2017-11-07 09:30:38              0\n",
              "1  40024   25       1  17      259  2017-11-07 13:40:27              0\n",
              "2  35888   12       1  19      212  2017-11-07 18:05:24              0\n",
              "3  29048   13       1  13      477  2017-11-07 04:58:08              0\n",
              "4   2877   12       1   1      178  2017-11-09 09:00:09              0"
            ]
          },
          "metadata": {},
          "execution_count": 6
        }
      ]
    },
    {
      "cell_type": "markdown",
      "metadata": {
        "id": "r_u94Wa8D3Un"
      },
      "source": [
        "### Exploring the Data - Univariate Analysis\n"
      ]
    },
    {
      "cell_type": "markdown",
      "metadata": {
        "id": "RAONtm2kD3Un"
      },
      "source": [
        "Let's now understand and explore the data. Let's start with understanding the size and data types of the train_sample data."
      ]
    },
    {
      "cell_type": "code",
      "metadata": {
        "id": "VFe2i-5fD3Un",
        "colab": {
          "base_uri": "https://localhost:8080/"
        },
        "outputId": "3f046b82-03db-493e-8fd6-597fe31de599"
      },
      "source": [
        "# look at non-null values, null values, number of entries etc.\n",
        "train_sample.info()"
      ],
      "execution_count": 7,
      "outputs": [
        {
          "output_type": "stream",
          "name": "stdout",
          "text": [
            "<class 'pandas.core.frame.DataFrame'>\n",
            "RangeIndex: 100000 entries, 0 to 99999\n",
            "Data columns (total 7 columns):\n",
            " #   Column         Non-Null Count   Dtype \n",
            "---  ------         --------------   ----- \n",
            " 0   ip             100000 non-null  uint16\n",
            " 1   app            100000 non-null  uint16\n",
            " 2   device         100000 non-null  uint16\n",
            " 3   os             100000 non-null  uint16\n",
            " 4   channel        100000 non-null  uint16\n",
            " 5   click_time     100000 non-null  object\n",
            " 6   is_attributed  100000 non-null  uint8 \n",
            "dtypes: object(1), uint16(5), uint8(1)\n",
            "memory usage: 1.8+ MB\n"
          ]
        }
      ]
    },
    {
      "cell_type": "markdown",
      "metadata": {
        "id": "AiyvMM1rD3Uo"
      },
      "source": [
        "You can see that there is no missing values\n",
        "\n",
        "## Basic exploratory analysis \n",
        "\n",
        "<p style='text-align: right;'> 10 points</p>\n",
        "\n",
        "\n",
        "1. Number of unique values in each column\n"
      ]
    },
    {
      "cell_type": "code",
      "metadata": {
        "id": "DD8nAsb-D3Uo",
        "scrolled": false,
        "colab": {
          "base_uri": "https://localhost:8080/"
        },
        "outputId": "346b4bf9-2dd9-4285-934f-640baf47bc0f"
      },
      "source": [
        "# Define a function to fetch unique values in each column\n",
        "def fraction_unique(x):\n",
        "    return len(train_sample[x].unique())\n",
        "\n",
        "# one line code to use above function and creating a dictionary\n",
        "number_unique_vals = {x: fraction_unique(x) for x in train_sample.columns}\n",
        "\n",
        "#print dictionary of Unique values\n",
        "print(number_unique_vals)"
      ],
      "execution_count": 8,
      "outputs": [
        {
          "output_type": "stream",
          "name": "stdout",
          "text": [
            "{'ip': 28470, 'app': 161, 'device': 100, 'os': 130, 'channel': 161, 'click_time': 80350, 'is_attributed': 2}\n"
          ]
        }
      ]
    },
    {
      "cell_type": "markdown",
      "metadata": {
        "id": "ZNc24VdED3Uo"
      },
      "source": [
        "2. Checking data type of each columns"
      ]
    },
    {
      "cell_type": "code",
      "metadata": {
        "id": "TIBrWcz8D3Up",
        "colab": {
          "base_uri": "https://localhost:8080/"
        },
        "outputId": "de6bd97d-5ad5-4978-f836-bcedcdb19d42"
      },
      "source": [
        "# each column data type\n",
        "train_sample.dtypes"
      ],
      "execution_count": 9,
      "outputs": [
        {
          "output_type": "execute_result",
          "data": {
            "text/plain": [
              "ip               uint16\n",
              "app              uint16\n",
              "device           uint16\n",
              "os               uint16\n",
              "channel          uint16\n",
              "click_time       object\n",
              "is_attributed     uint8\n",
              "dtype: object"
            ]
          },
          "metadata": {},
          "execution_count": 9
        }
      ]
    },
    {
      "cell_type": "markdown",
      "metadata": {
        "id": "2T3DGwEID3Up"
      },
      "source": [
        "You will see that all columns apart from click time are originally int type, though note that they are all actually categorical "
      ]
    },
    {
      "cell_type": "markdown",
      "metadata": {
        "id": "oiX69GjLD3Uq"
      },
      "source": [
        "There are certain 'apps' which have quite high number of instances/rows (each row is a click). So lets plot it below "
      ]
    },
    {
      "cell_type": "code",
      "metadata": {
        "id": "CLmSle3kD3Uq",
        "scrolled": false,
        "colab": {
          "base_uri": "https://localhost:8080/",
          "height": 334
        },
        "outputId": "1b15b223-bcfc-4436-a452-d34106964f0e"
      },
      "source": [
        "# count distribution of 'app' \n",
        "plt.figure(figsize = (10,5))\n",
        "sns.countplot(x = 'app', data = train_sample)\n",
        "plt.show()"
      ],
      "execution_count": 10,
      "outputs": [
        {
          "output_type": "display_data",
          "data": {
            "image/png": "[encoded data removed]",
            "text/plain": [
              "<Figure size 720x360 with 1 Axes>"
            ]
          },
          "metadata": {
            "needs_background": "light"
          }
        }
      ]
    },
    {
      "cell_type": "markdown",
      "metadata": {
        "id": "6Tb5ICFGD3Ur"
      },
      "source": [
        "some 'apps' have a disproportionately high number of clicks (>15k), and some are very rare (3-4)\n",
        "\n",
        "Let us now plot device distribution below "
      ]
    },
    {
      "cell_type": "code",
      "metadata": {
        "id": "ljelEux4D3Ur",
        "colab": {
          "base_uri": "https://localhost:8080/",
          "height": 334
        },
        "outputId": "1f81859f-199e-4e25-a043-8d0f111b5805"
      },
      "source": [
        "# distribution count of 'device' \n",
        "plt.figure(figsize = (10,5))\n",
        "sns.countplot(x = 'device', data = train_sample)\n",
        "plt.show()\n",
        "\n"
      ],
      "execution_count": 11,
      "outputs": [
        {
          "output_type": "display_data",
          "data": {
            "image/png": "[encoded data removed]",
            "text/plain": [
              "<Figure size 720x360 with 1 Axes>"
            ]
          },
          "metadata": {
            "needs_background": "light"
          }
        }
      ]
    },
    {
      "cell_type": "markdown",
      "metadata": {
        "id": "BhKCORYWD3Ur"
      },
      "source": [
        "The above result is expected because a few popular devices are used heavily\n",
        "\n",
        "Let us now plot channel below"
      ]
    },
    {
      "cell_type": "code",
      "metadata": {
        "id": "e23wBoTRD3Us",
        "colab": {
          "base_uri": "https://localhost:8080/",
          "height": 334
        },
        "outputId": "60a2071c-740b-47ae-f0f8-7d0efbe3db36"
      },
      "source": [
        "# distribution count of 'channel' \n",
        "plt.figure(figsize = (10,5))\n",
        "sns.countplot(x = 'channel', data = train_sample)\n",
        "plt.show()\n"
      ],
      "execution_count": 12,
      "outputs": [
        {
          "output_type": "display_data",
          "data": {
            "image/png": "[encoded data removed]",
            "text/plain": [
              "<Figure size 720x360 with 1 Axes>"
            ]
          },
          "metadata": {
            "needs_background": "light"
          }
        }
      ]
    },
    {
      "cell_type": "markdown",
      "metadata": {
        "id": "rdMi9jwED3Us"
      },
      "source": [
        "you can see abobe that various channels get clicks in comparable quantities\n",
        "\n",
        "Lets see distribution of 'os' now "
      ]
    },
    {
      "cell_type": "code",
      "metadata": {
        "id": "HTxIlxxND3Us",
        "scrolled": false,
        "colab": {
          "base_uri": "https://localhost:8080/",
          "height": 337
        },
        "outputId": "ab44f5d4-b4c9-4d33-8d50-31a18ad98d98"
      },
      "source": [
        "# distribution count of 'os' \n",
        "plt.figure(figsize = (10,5))\n",
        "sns.countplot(x = 'os', data = train_sample)\n",
        "plt.show()\n"
      ],
      "execution_count": 13,
      "outputs": [
        {
          "output_type": "display_data",
          "data": {
            "image/png": "[encoded data removed]",
            "text/plain": [
              "<Figure size 720x360 with 1 Axes>"
            ]
          },
          "metadata": {
            "needs_background": "light"
          }
        }
      ]
    },
    {
      "cell_type": "markdown",
      "metadata": {
        "id": "EhwMZakkD3Ut"
      },
      "source": [
        "there are a couple commos OSes (android and ios?), though some are rare and can indicate suspicion \n"
      ]
    },
    {
      "cell_type": "markdown",
      "metadata": {
        "id": "G6082JlGD3Ut"
      },
      "source": [
        "Let's now look at the distribution of the target  variable 'is_attributed'."
      ]
    },
    {
      "cell_type": "code",
      "metadata": {
        "id": "--eILMxTD3Ut",
        "scrolled": true,
        "colab": {
          "base_uri": "https://localhost:8080/"
        },
        "outputId": "8113c49f-a092-43ce-b9f0-47637f97c0e1"
      },
      "source": [
        "# target variable distribution count\n",
        "train_sample['is_attributed'].value_counts()/len(train_sample) * 100\n"
      ],
      "execution_count": 14,
      "outputs": [
        {
          "output_type": "execute_result",
          "data": {
            "text/plain": [
              "0    99.773\n",
              "1     0.227\n",
              "Name: is_attributed, dtype: float64"
            ]
          },
          "metadata": {},
          "execution_count": 14
        }
      ]
    },
    {
      "cell_type": "markdown",
      "metadata": {
        "id": "c9tYYBg1D3Ut"
      },
      "source": [
        "Only **about 0.2% of clicks are 'fraudulent'**, which is expected in a fraud detection problem. Such high class imbalance is probably going to be the toughest challenge of this problem."
      ]
    },
    {
      "cell_type": "markdown",
      "metadata": {
        "id": "6jEZyNtED3Uu"
      },
      "source": [
        "### Exploring the Data - Segmented Univariate Analysis\n",
        "\n",
        "Let's now look at how the target variable varies with the various predictors."
      ]
    },
    {
      "cell_type": "code",
      "metadata": {
        "id": "JGkQoYTSD3Uu",
        "scrolled": true,
        "colab": {
          "base_uri": "https://localhost:8080/",
          "height": 450
        },
        "outputId": "214e14f6-0bcf-4c60-fbed-e820819d7578"
      },
      "source": [
        "# Get average of 'is_attributed', or 'download rate' grouped with app\n",
        "app_target = train_sample.groupby('app').is_attributed.agg(['mean', 'count'])\n",
        "\n",
        "# print app_target\n",
        "app_target"
      ],
      "execution_count": 15,
      "outputs": [
        {
          "output_type": "execute_result",
          "data": {
            "text/html": [
              "<div>\n",
              "<style scoped>\n",
              "    .dataframe tbody tr th:only-of-type {\n",
              "        vertical-align: middle;\n",
              "    }\n",
              "\n",
              "    .dataframe tbody tr th {\n",
              "        vertical-align: top;\n",
              "    }\n",
              "\n",
              "    .dataframe thead th {\n",
              "        text-align: right;\n",
              "    }\n",
              "</style>\n",
              "<table border=\"1\" class=\"dataframe\">\n",
              "  <thead>\n",
              "    <tr style=\"text-align: right;\">\n",
              "      <th></th>\n",
              "      <th>mean</th>\n",
              "      <th>count</th>\n",
              "    </tr>\n",
              "    <tr>\n",
              "      <th>app</th>\n",
              "      <th></th>\n",
              "      <th></th>\n",
              "    </tr>\n",
              "  </thead>\n",
              "  <tbody>\n",
              "    <tr>\n",
              "      <th>1</th>\n",
              "      <td>0.000000</td>\n",
              "      <td>3135</td>\n",
              "    </tr>\n",
              "    <tr>\n",
              "      <th>2</th>\n",
              "      <td>0.000000</td>\n",
              "      <td>11737</td>\n",
              "    </tr>\n",
              "    <tr>\n",
              "      <th>3</th>\n",
              "      <td>0.000219</td>\n",
              "      <td>18279</td>\n",
              "    </tr>\n",
              "    <tr>\n",
              "      <th>4</th>\n",
              "      <td>0.000000</td>\n",
              "      <td>58</td>\n",
              "    </tr>\n",
              "    <tr>\n",
              "      <th>5</th>\n",
              "      <td>0.074468</td>\n",
              "      <td>188</td>\n",
              "    </tr>\n",
              "    <tr>\n",
              "      <th>...</th>\n",
              "      <td>...</td>\n",
              "      <td>...</td>\n",
              "    </tr>\n",
              "    <tr>\n",
              "      <th>486</th>\n",
              "      <td>0.000000</td>\n",
              "      <td>1</td>\n",
              "    </tr>\n",
              "    <tr>\n",
              "      <th>536</th>\n",
              "      <td>0.000000</td>\n",
              "      <td>1</td>\n",
              "    </tr>\n",
              "    <tr>\n",
              "      <th>538</th>\n",
              "      <td>0.000000</td>\n",
              "      <td>1</td>\n",
              "    </tr>\n",
              "    <tr>\n",
              "      <th>548</th>\n",
              "      <td>0.000000</td>\n",
              "      <td>1</td>\n",
              "    </tr>\n",
              "    <tr>\n",
              "      <th>551</th>\n",
              "      <td>0.000000</td>\n",
              "      <td>1</td>\n",
              "    </tr>\n",
              "  </tbody>\n",
              "</table>\n",
              "<p>161 rows × 2 columns</p>\n",
              "</div>"
            ],
            "text/plain": [
              "         mean  count\n",
              "app                 \n",
              "1    0.000000   3135\n",
              "2    0.000000  11737\n",
              "3    0.000219  18279\n",
              "4    0.000000     58\n",
              "5    0.074468    188\n",
              "..        ...    ...\n",
              "486  0.000000      1\n",
              "536  0.000000      1\n",
              "538  0.000000      1\n",
              "548  0.000000      1\n",
              "551  0.000000      1\n",
              "\n",
              "[161 rows x 2 columns]"
            ]
          },
          "metadata": {},
          "execution_count": 15
        }
      ]
    },
    {
      "cell_type": "markdown",
      "metadata": {
        "id": "-9re9UfeD3Uu"
      },
      "source": [
        "This is clearly non-readable, so let's first get rid of all the apps that are very rare (say which comprise of less than 20% clicks) and plot the rest."
      ]
    },
    {
      "cell_type": "code",
      "metadata": {
        "id": "tpClVS04D3Uu",
        "scrolled": true,
        "colab": {
          "base_uri": "https://localhost:8080/",
          "height": 204
        },
        "outputId": "1be0649e-a74b-47c1-ec07-14c90c64ff32"
      },
      "source": [
        "# Make a 'count' column based on app size and reset index on count\n",
        "frequent_apps = train_sample.groupby('app').size().reset_index(name = 'count')\n",
        "\n",
        "# filter count greater than count above 80% quantile range\n",
        "frequent_apps = frequent_apps[frequent_apps['count'] > frequent_apps['count'].quantile(0.80)]\n",
        "\n",
        "#inner join frequent_apps with train_sample on 'app'\n",
        "frequent_apps = frequent_apps.merge(train_sample, how = 'inner', on = 'app')\n",
        "\n",
        "\n",
        "#print head of frequent_apps\n",
        "frequent_apps.head()"
      ],
      "execution_count": 16,
      "outputs": [
        {
          "output_type": "execute_result",
          "data": {
            "text/html": [
              "<div>\n",
              "<style scoped>\n",
              "    .dataframe tbody tr th:only-of-type {\n",
              "        vertical-align: middle;\n",
              "    }\n",
              "\n",
              "    .dataframe tbody tr th {\n",
              "        vertical-align: top;\n",
              "    }\n",
              "\n",
              "    .dataframe thead th {\n",
              "        text-align: right;\n",
              "    }\n",
              "</style>\n",
              "<table border=\"1\" class=\"dataframe\">\n",
              "  <thead>\n",
              "    <tr style=\"text-align: right;\">\n",
              "      <th></th>\n",
              "      <th>app</th>\n",
              "      <th>count</th>\n",
              "      <th>ip</th>\n",
              "      <th>device</th>\n",
              "      <th>os</th>\n",
              "      <th>channel</th>\n",
              "      <th>click_time</th>\n",
              "      <th>is_attributed</th>\n",
              "    </tr>\n",
              "  </thead>\n",
              "  <tbody>\n",
              "    <tr>\n",
              "      <th>0</th>\n",
              "      <td>1</td>\n",
              "      <td>3135</td>\n",
              "      <td>17059</td>\n",
              "      <td>1</td>\n",
              "      <td>17</td>\n",
              "      <td>135</td>\n",
              "      <td>2017-11-09 01:17:58</td>\n",
              "      <td>0</td>\n",
              "    </tr>\n",
              "    <tr>\n",
              "      <th>1</th>\n",
              "      <td>1</td>\n",
              "      <td>3135</td>\n",
              "      <td>52432</td>\n",
              "      <td>1</td>\n",
              "      <td>13</td>\n",
              "      <td>115</td>\n",
              "      <td>2017-11-07 17:22:52</td>\n",
              "      <td>0</td>\n",
              "    </tr>\n",
              "    <tr>\n",
              "      <th>2</th>\n",
              "      <td>1</td>\n",
              "      <td>3135</td>\n",
              "      <td>23706</td>\n",
              "      <td>1</td>\n",
              "      <td>27</td>\n",
              "      <td>124</td>\n",
              "      <td>2017-11-07 09:37:21</td>\n",
              "      <td>0</td>\n",
              "    </tr>\n",
              "    <tr>\n",
              "      <th>3</th>\n",
              "      <td>1</td>\n",
              "      <td>3135</td>\n",
              "      <td>58458</td>\n",
              "      <td>1</td>\n",
              "      <td>19</td>\n",
              "      <td>101</td>\n",
              "      <td>2017-11-09 14:27:57</td>\n",
              "      <td>0</td>\n",
              "    </tr>\n",
              "    <tr>\n",
              "      <th>4</th>\n",
              "      <td>1</td>\n",
              "      <td>3135</td>\n",
              "      <td>34067</td>\n",
              "      <td>1</td>\n",
              "      <td>15</td>\n",
              "      <td>134</td>\n",
              "      <td>2017-11-07 15:06:06</td>\n",
              "      <td>0</td>\n",
              "    </tr>\n",
              "  </tbody>\n",
              "</table>\n",
              "</div>"
            ],
            "text/plain": [
              "   app  count     ip  device  os  channel           click_time  is_attributed\n",
              "0    1   3135  17059       1  17      135  2017-11-09 01:17:58              0\n",
              "1    1   3135  52432       1  13      115  2017-11-07 17:22:52              0\n",
              "2    1   3135  23706       1  27      124  2017-11-07 09:37:21              0\n",
              "3    1   3135  58458       1  19      101  2017-11-09 14:27:57              0\n",
              "4    1   3135  34067       1  15      134  2017-11-07 15:06:06              0"
            ]
          },
          "metadata": {},
          "execution_count": 16
        }
      ]
    },
    {
      "cell_type": "code",
      "metadata": {
        "id": "_2xSWynTD3Uv",
        "colab": {
          "base_uri": "https://localhost:8080/",
          "height": 877
        },
        "outputId": "8c18ebaa-afc4-4879-84c7-907d247dacdb"
      },
      "source": [
        "#plot count distribution of 'app' hued with 'is_attributed'\n",
        "plt.figure(figsize = (10,15))\n",
        "sns.countplot(y = 'app', data = frequent_apps, hue='is_attributed')\n",
        "plt.show()\n",
        "\n"
      ],
      "execution_count": 17,
      "outputs": [
        {
          "output_type": "display_data",
          "data": {
            "image/png": "[encoded data removed]",
            "text/plain": [
              "<Figure size 720x1080 with 1 Axes>"
            ]
          },
          "metadata": {
            "needs_background": "light"
          }
        }
      ]
    },
    {
      "cell_type": "markdown",
      "metadata": {
        "id": "slP7NO3rD3Uv"
      },
      "source": [
        "You can do lots of other interesting ananlysis with the existing features. For now, let's create some new features which will probably improve the model."
      ]
    },
    {
      "cell_type": "markdown",
      "metadata": {
        "id": "x8O9K64TD3Uv"
      },
      "source": [
        "## Feature Engineering\n",
        "\n",
        "<p style='text-align: right;'> 10 points</p>\n"
      ]
    },
    {
      "cell_type": "markdown",
      "metadata": {
        "id": "cMwV3jpuD3Uv"
      },
      "source": [
        "Let's now derive some new features from the existing ones. There are a number of features one can extract from ```click_time``` itself, and by grouping combinations of IP with other features."
      ]
    },
    {
      "cell_type": "markdown",
      "metadata": {
        "id": "u8txepiAD3Uw"
      },
      "source": [
        "### Datetime Based Features\n"
      ]
    },
    {
      "cell_type": "code",
      "metadata": {
        "id": "4IdMw79vD3Uw"
      },
      "source": [
        "# Create a function which takes in a df, adds date/time based columns to it and returns the modified df\n",
        "\n",
        "def timeFeatures(df):\n",
        "    # Creating datetime variables using the click_time column \n",
        "    df['datetime'] = pd.to_datetime(df['click_time'])\n",
        "    \n",
        "    #Creating day_of_week variables extracting week from the datetime column \n",
        "\n",
        "    df['day_of_week'] = df['datetime'].dt.dayofweek\n",
        "    \n",
        "     #Creating day_of_year variables extracting day from the datetime column \n",
        "\n",
        "    df[\"day_of_year\"] = df['datetime'].dt.dayofyear\n",
        "    \n",
        "    #Creating month variables extracting month from the datetime column \n",
        "\n",
        "    df[\"month\"] = df['datetime'].dt.month\n",
        "    \n",
        "    #Creating hour variables extracting hour from the datetime column \n",
        "\n",
        "    df[\"hour\"] = df['datetime'].dt.hour\n",
        "    \n",
        "    #return df\n",
        "    return df"
      ],
      "execution_count": 18,
      "outputs": []
    },
    {
      "cell_type": "code",
      "metadata": {
        "id": "k4H_zncvD3Uw",
        "scrolled": true,
        "colab": {
          "base_uri": "https://localhost:8080/",
          "height": 204
        },
        "outputId": "ce7bb244-1496-4da3-abcc-e54b8dfc4f18"
      },
      "source": [
        "# creating new variables using above function with df as train_sample \n",
        "train_sample = timeFeatures(train_sample)\n",
        "\n",
        "# dropping the click_time and datetime variables from train_sample\n",
        "train_sample.drop(['click_time', 'datetime'], axis = 1, inplace = True)\n",
        "\n",
        "#print train_sample head\n",
        "train_sample.head()"
      ],
      "execution_count": 19,
      "outputs": [
        {
          "output_type": "execute_result",
          "data": {
            "text/html": [
              "<div>\n",
              "<style scoped>\n",
              "    .dataframe tbody tr th:only-of-type {\n",
              "        vertical-align: middle;\n",
              "    }\n",
              "\n",
              "    .dataframe tbody tr th {\n",
              "        vertical-align: top;\n",
              "    }\n",
              "\n",
              "    .dataframe thead th {\n",
              "        text-align: right;\n",
              "    }\n",
              "</style>\n",
              "<table border=\"1\" class=\"dataframe\">\n",
              "  <thead>\n",
              "    <tr style=\"text-align: right;\">\n",
              "      <th></th>\n",
              "      <th>ip</th>\n",
              "      <th>app</th>\n",
              "      <th>device</th>\n",
              "      <th>os</th>\n",
              "      <th>channel</th>\n",
              "      <th>is_attributed</th>\n",
              "      <th>day_of_week</th>\n",
              "      <th>day_of_year</th>\n",
              "      <th>month</th>\n",
              "      <th>hour</th>\n",
              "    </tr>\n",
              "  </thead>\n",
              "  <tbody>\n",
              "    <tr>\n",
              "      <th>0</th>\n",
              "      <td>22004</td>\n",
              "      <td>12</td>\n",
              "      <td>1</td>\n",
              "      <td>13</td>\n",
              "      <td>497</td>\n",
              "      <td>0</td>\n",
              "      <td>1</td>\n",
              "      <td>311</td>\n",
              "      <td>11</td>\n",
              "      <td>9</td>\n",
              "    </tr>\n",
              "    <tr>\n",
              "      <th>1</th>\n",
              "      <td>40024</td>\n",
              "      <td>25</td>\n",
              "      <td>1</td>\n",
              "      <td>17</td>\n",
              "      <td>259</td>\n",
              "      <td>0</td>\n",
              "      <td>1</td>\n",
              "      <td>311</td>\n",
              "      <td>11</td>\n",
              "      <td>13</td>\n",
              "    </tr>\n",
              "    <tr>\n",
              "      <th>2</th>\n",
              "      <td>35888</td>\n",
              "      <td>12</td>\n",
              "      <td>1</td>\n",
              "      <td>19</td>\n",
              "      <td>212</td>\n",
              "      <td>0</td>\n",
              "      <td>1</td>\n",
              "      <td>311</td>\n",
              "      <td>11</td>\n",
              "      <td>18</td>\n",
              "    </tr>\n",
              "    <tr>\n",
              "      <th>3</th>\n",
              "      <td>29048</td>\n",
              "      <td>13</td>\n",
              "      <td>1</td>\n",
              "      <td>13</td>\n",
              "      <td>477</td>\n",
              "      <td>0</td>\n",
              "      <td>1</td>\n",
              "      <td>311</td>\n",
              "      <td>11</td>\n",
              "      <td>4</td>\n",
              "    </tr>\n",
              "    <tr>\n",
              "      <th>4</th>\n",
              "      <td>2877</td>\n",
              "      <td>12</td>\n",
              "      <td>1</td>\n",
              "      <td>1</td>\n",
              "      <td>178</td>\n",
              "      <td>0</td>\n",
              "      <td>3</td>\n",
              "      <td>313</td>\n",
              "      <td>11</td>\n",
              "      <td>9</td>\n",
              "    </tr>\n",
              "  </tbody>\n",
              "</table>\n",
              "</div>"
            ],
            "text/plain": [
              "      ip  app  device  os  ...  day_of_week  day_of_year  month  hour\n",
              "0  22004   12       1  13  ...            1          311     11     9\n",
              "1  40024   25       1  17  ...            1          311     11    13\n",
              "2  35888   12       1  19  ...            1          311     11    18\n",
              "3  29048   13       1  13  ...            1          311     11     4\n",
              "4   2877   12       1   1  ...            3          313     11     9\n",
              "\n",
              "[5 rows x 10 columns]"
            ]
          },
          "metadata": {},
          "execution_count": 19
        }
      ]
    },
    {
      "cell_type": "code",
      "metadata": {
        "id": "ii_XjPN6D3Uw",
        "colab": {
          "base_uri": "https://localhost:8080/"
        },
        "outputId": "86708e68-5dfb-4351-c544-3bc836b96c9c"
      },
      "source": [
        "# datatypes  of all variables in train_sample\n",
        "train_sample.dtypes"
      ],
      "execution_count": 20,
      "outputs": [
        {
          "output_type": "execute_result",
          "data": {
            "text/plain": [
              "ip               uint16\n",
              "app              uint16\n",
              "device           uint16\n",
              "os               uint16\n",
              "channel          uint16\n",
              "is_attributed     uint8\n",
              "day_of_week       int64\n",
              "day_of_year       int64\n",
              "month             int64\n",
              "hour              int64\n",
              "dtype: object"
            ]
          },
          "metadata": {},
          "execution_count": 20
        }
      ]
    },
    {
      "cell_type": "markdown",
      "metadata": {
        "id": "X7T47X_5D3Ux"
      },
      "source": [
        "note that by default the new datetime variables are int64\n"
      ]
    },
    {
      "cell_type": "code",
      "metadata": {
        "id": "pZlihUcqD3Ux",
        "colab": {
          "base_uri": "https://localhost:8080/"
        },
        "outputId": "0d442ff5-60c0-46ce-bae3-fe1fc281f033"
      },
      "source": [
        "# check memory/space used by training data\n",
        "print(\"Training data uses : \", train_sample.memory_usage().sum()/1024**2)"
      ],
      "execution_count": 21,
      "outputs": [
        {
          "output_type": "stream",
          "name": "stdout",
          "text": [
            "Training data uses :  4.100921630859375\n"
          ]
        }
      ]
    },
    {
      "cell_type": "markdown",
      "metadata": {
        "id": "b0pfN189D3Ux"
      },
      "source": [
        "Lets convert the variables back to lower dtype again\n"
      ]
    },
    {
      "cell_type": "code",
      "metadata": {
        "id": "pLGQLqTzD3Ux"
      },
      "source": [
        "# get all int variables in a list\n",
        "int_vars = ['day_of_week', 'day_of_year', 'month', 'hour']\n",
        "\n",
        "# convert all above variables into uint16 type\n",
        "train_sample[int_vars] = train_sample[int_vars].astype('uint16')"
      ],
      "execution_count": 22,
      "outputs": []
    },
    {
      "cell_type": "code",
      "metadata": {
        "id": "q91YeRMND3Ux",
        "scrolled": true,
        "colab": {
          "base_uri": "https://localhost:8080/"
        },
        "outputId": "0b788e02-2889-4466-a965-d5894f49ae94"
      },
      "source": [
        "#print datatype of all variables in train_sample\n",
        "train_sample.dtypes"
      ],
      "execution_count": 23,
      "outputs": [
        {
          "output_type": "execute_result",
          "data": {
            "text/plain": [
              "ip               uint16\n",
              "app              uint16\n",
              "device           uint16\n",
              "os               uint16\n",
              "channel          uint16\n",
              "is_attributed     uint8\n",
              "day_of_week      uint16\n",
              "day_of_year      uint16\n",
              "month            uint16\n",
              "hour             uint16\n",
              "dtype: object"
            ]
          },
          "metadata": {},
          "execution_count": 23
        }
      ]
    },
    {
      "cell_type": "code",
      "metadata": {
        "id": "tH3IujidD3Uy",
        "scrolled": true,
        "colab": {
          "base_uri": "https://localhost:8080/"
        },
        "outputId": "63018e2d-330b-43b2-931b-334518ff6895"
      },
      "source": [
        "# space used by training data\n",
        "print(\"Training data uses : \", train_sample.memory_usage().sum()/1024**2)"
      ],
      "execution_count": 24,
      "outputs": [
        {
          "output_type": "stream",
          "name": "stdout",
          "text": [
            "Training data uses :  1.812103271484375\n"
          ]
        }
      ]
    },
    {
      "cell_type": "markdown",
      "metadata": {
        "id": "YhU-mXtLD3Uy"
      },
      "source": [
        "Hope you undertood why we converted variables into uint16 datatype\n",
        "\n",
        "Yes, you are right:) The primitive data types prefixed with \"u\" are unsigned versions with the same bit sizes. Effectively, this means they cannot store negative numbers, but on the other hand they can store positive numbers twice as large as their signed counterparts. \n",
        "\n",
        "This is why it saves memory usage."
      ]
    },
    {
      "cell_type": "markdown",
      "metadata": {
        "id": "nc9Y8lyKD3Uy"
      },
      "source": [
        "### IP Grouping Based Features"
      ]
    },
    {
      "cell_type": "markdown",
      "metadata": {
        "id": "rYPRHb3ID3Uy"
      },
      "source": [
        "Let's now create some important features by grouping IP addresses with features such as os, channel, hour, day etc. Also, count of each IP address will also be a feature.\n",
        "\n",
        "Note that though we are deriving new features by grouping IP addresses, using IP adress itself as a features is not a good idea. This is because (in the test data) if a new IP address is seen, the model will see a new 'category' and will not be able to make predictions (IP is a categorical variable, it has just been encoded with numbers).\n",
        "\n",
        "`number of clicks by count of IP address\n",
        "Note that we are explicitly asking pandas to re-encode the aggregated features as 'int16' to save memory`"
      ]
    },
    {
      "cell_type": "code",
      "metadata": {
        "id": "PxvwoC5yD3Uy",
        "scrolled": false,
        "colab": {
          "base_uri": "https://localhost:8080/",
          "height": 204
        },
        "outputId": "0c504612-9403-4b43-b330-6e3dfeb31089"
      },
      "source": [
        "# Create a column 'ip_count' using number of clicks by count of IP address \n",
        "ip_count = train_sample.groupby('ip').size().reset_index(name = 'ip_count').astype('int16')\n",
        "\n",
        "#print head of ip_count \n",
        "ip_count.head()"
      ],
      "execution_count": 25,
      "outputs": [
        {
          "output_type": "execute_result",
          "data": {
            "text/html": [
              "<div>\n",
              "<style scoped>\n",
              "    .dataframe tbody tr th:only-of-type {\n",
              "        vertical-align: middle;\n",
              "    }\n",
              "\n",
              "    .dataframe tbody tr th {\n",
              "        vertical-align: top;\n",
              "    }\n",
              "\n",
              "    .dataframe thead th {\n",
              "        text-align: right;\n",
              "    }\n",
              "</style>\n",
              "<table border=\"1\" class=\"dataframe\">\n",
              "  <thead>\n",
              "    <tr style=\"text-align: right;\">\n",
              "      <th></th>\n",
              "      <th>ip</th>\n",
              "      <th>ip_count</th>\n",
              "    </tr>\n",
              "  </thead>\n",
              "  <tbody>\n",
              "    <tr>\n",
              "      <th>0</th>\n",
              "      <td>8</td>\n",
              "      <td>1</td>\n",
              "    </tr>\n",
              "    <tr>\n",
              "      <th>1</th>\n",
              "      <td>9</td>\n",
              "      <td>1</td>\n",
              "    </tr>\n",
              "    <tr>\n",
              "      <th>2</th>\n",
              "      <td>10</td>\n",
              "      <td>3</td>\n",
              "    </tr>\n",
              "    <tr>\n",
              "      <th>3</th>\n",
              "      <td>14</td>\n",
              "      <td>1</td>\n",
              "    </tr>\n",
              "    <tr>\n",
              "      <th>4</th>\n",
              "      <td>16</td>\n",
              "      <td>6</td>\n",
              "    </tr>\n",
              "  </tbody>\n",
              "</table>\n",
              "</div>"
            ],
            "text/plain": [
              "   ip  ip_count\n",
              "0   8         1\n",
              "1   9         1\n",
              "2  10         3\n",
              "3  14         1\n",
              "4  16         6"
            ]
          },
          "metadata": {},
          "execution_count": 25
        }
      ]
    },
    {
      "cell_type": "markdown",
      "metadata": {
        "id": "7BxrNr9DD3Uz"
      },
      "source": [
        "We can now merge this dataframe with the original training df. Similarly, we can create combinations of various features such as ip_day_hour (count of ip-day-hour combinations), ip_hour_channel, ip_hour_app, etc. \n",
        "\n",
        "The following function takes in a dataframe and creates these features."
      ]
    },
    {
      "cell_type": "code",
      "metadata": {
        "id": "_Ui3nAEPD3Uz"
      },
      "source": [
        "'''creates groupings of IP addresses with other features and appends the new features to the df'''\n",
        "\n",
        "def grouped_features(df):\n",
        "    # ip_count\n",
        "    ip_count = df.groupby('ip').size().reset_index(name = 'ip_count').astype('uint16')\n",
        "    # ip_day_hour\n",
        "    ip_day_hour = df.groupby(['ip', 'day_of_week', 'hour']).size().reset_index(name = 'ip_day_hour').astype('uint16')\n",
        "#   ip_hour_channel\n",
        "    ip_hour_channel = df[['ip', 'hour', 'channel']].groupby(['ip', 'hour', 'channel']).size().reset_index(name = 'ip_hour_channel').astype('uint16')\n",
        "#   ip_hour_os\n",
        "    ip_hour_os = df.groupby(['ip', 'hour', 'os']).channel.count().reset_index(name = 'ip_hour_os').astype('uint16')\n",
        "#   ip_hour_app\n",
        "    ip_hour_app = df.groupby(['ip', 'hour', 'app']).channel.count().reset_index(name = 'ip_hour_app').astype('uint16')\n",
        "#   ip_hour_device\n",
        "    ip_hour_device = df.groupby(['ip', 'hour', 'device']).channel.count().reset_index(name = 'ip_hour_device').astype('uint16')\n",
        "    \n",
        "    '''merge the new aggregated features with the df'''\n",
        "    \n",
        "#   left join ip_count to df on ip\n",
        "    df = pd.merge(df, ip_count, on = 'ip', how = 'left')\n",
        "    \n",
        "#   delete ip_count\n",
        "    del ip_count\n",
        "    #left join ip_day_hour to df on ip, day_of_week and hour\n",
        "    df = pd.merge(df, ip_day_hour, on = ['ip', 'day_of_week', 'hour'], how = 'left')\n",
        "    \n",
        "    #delete ip_day_hour\n",
        "    del ip_day_hour\n",
        "    \n",
        "#   left join ip_hour_channel to df on ip, hour, channel\n",
        "    df = pd.merge(df, ip_hour_channel, on = ['ip', 'hour', 'channel'], how = 'left')\n",
        "\n",
        "    #   delete ip_hour_channel\n",
        "    del ip_hour_channel\n",
        "    #left join ip_hour_os to df on ip, hour and os\n",
        "    df = pd.merge(df, ip_hour_os, on = ['ip', 'hour', 'os'], how = 'left')\n",
        "\n",
        "    #   delete ip_hour_os\n",
        "    del ip_hour_os\n",
        "    \n",
        "    #    left join ip_hour_app to df on ip, hour and app\n",
        "    df = pd.merge(df, ip_hour_app, on = ['ip', 'hour', 'app'], how = 'left')\n",
        "    \n",
        "#     delete ip_hour_app \n",
        "    del ip_hour_app\n",
        "    #left join ip_hour_device to df on ip , hour and device\n",
        "    df = pd.merge(df, ip_hour_device, on = ['ip', 'hour', 'device'], how = 'left')\n",
        "\n",
        "    #   delete ip_hour_device \n",
        "    del ip_hour_device\n",
        "#  return df\n",
        "    return df"
      ],
      "execution_count": 26,
      "outputs": []
    },
    {
      "cell_type": "code",
      "metadata": {
        "id": "K4zweDWED3Uz"
      },
      "source": [
        "#Use above grouped_features() function with train_sample as parameter to create your new train_sample data \n",
        "train_sample = grouped_features(train_sample)"
      ],
      "execution_count": 27,
      "outputs": []
    },
    {
      "cell_type": "code",
      "metadata": {
        "id": "kiGA5NwLD3U0",
        "scrolled": true,
        "colab": {
          "base_uri": "https://localhost:8080/",
          "height": 204
        },
        "outputId": "5ac255bd-a0d4-4120-bf03-13bc402df7fd"
      },
      "source": [
        "#print head of train_sample\n",
        "train_sample.head()"
      ],
      "execution_count": 28,
      "outputs": [
        {
          "output_type": "execute_result",
          "data": {
            "text/html": [
              "<div>\n",
              "<style scoped>\n",
              "    .dataframe tbody tr th:only-of-type {\n",
              "        vertical-align: middle;\n",
              "    }\n",
              "\n",
              "    .dataframe tbody tr th {\n",
              "        vertical-align: top;\n",
              "    }\n",
              "\n",
              "    .dataframe thead th {\n",
              "        text-align: right;\n",
              "    }\n",
              "</style>\n",
              "<table border=\"1\" class=\"dataframe\">\n",
              "  <thead>\n",
              "    <tr style=\"text-align: right;\">\n",
              "      <th></th>\n",
              "      <th>ip</th>\n",
              "      <th>app</th>\n",
              "      <th>device</th>\n",
              "      <th>os</th>\n",
              "      <th>channel</th>\n",
              "      <th>is_attributed</th>\n",
              "      <th>day_of_week</th>\n",
              "      <th>day_of_year</th>\n",
              "      <th>month</th>\n",
              "      <th>hour</th>\n",
              "      <th>ip_count</th>\n",
              "      <th>ip_day_hour</th>\n",
              "      <th>ip_hour_channel</th>\n",
              "      <th>ip_hour_os</th>\n",
              "      <th>ip_hour_app</th>\n",
              "      <th>ip_hour_device</th>\n",
              "    </tr>\n",
              "  </thead>\n",
              "  <tbody>\n",
              "    <tr>\n",
              "      <th>0</th>\n",
              "      <td>22004</td>\n",
              "      <td>12</td>\n",
              "      <td>1</td>\n",
              "      <td>13</td>\n",
              "      <td>497</td>\n",
              "      <td>0</td>\n",
              "      <td>1</td>\n",
              "      <td>311</td>\n",
              "      <td>11</td>\n",
              "      <td>9</td>\n",
              "      <td>8</td>\n",
              "      <td>1</td>\n",
              "      <td>1</td>\n",
              "      <td>1</td>\n",
              "      <td>1</td>\n",
              "      <td>1</td>\n",
              "    </tr>\n",
              "    <tr>\n",
              "      <th>1</th>\n",
              "      <td>40024</td>\n",
              "      <td>25</td>\n",
              "      <td>1</td>\n",
              "      <td>17</td>\n",
              "      <td>259</td>\n",
              "      <td>0</td>\n",
              "      <td>1</td>\n",
              "      <td>311</td>\n",
              "      <td>11</td>\n",
              "      <td>13</td>\n",
              "      <td>149</td>\n",
              "      <td>4</td>\n",
              "      <td>1</td>\n",
              "      <td>1</td>\n",
              "      <td>1</td>\n",
              "      <td>8</td>\n",
              "    </tr>\n",
              "    <tr>\n",
              "      <th>2</th>\n",
              "      <td>35888</td>\n",
              "      <td>12</td>\n",
              "      <td>1</td>\n",
              "      <td>19</td>\n",
              "      <td>212</td>\n",
              "      <td>0</td>\n",
              "      <td>1</td>\n",
              "      <td>311</td>\n",
              "      <td>11</td>\n",
              "      <td>18</td>\n",
              "      <td>2</td>\n",
              "      <td>1</td>\n",
              "      <td>1</td>\n",
              "      <td>1</td>\n",
              "      <td>1</td>\n",
              "      <td>1</td>\n",
              "    </tr>\n",
              "    <tr>\n",
              "      <th>3</th>\n",
              "      <td>29048</td>\n",
              "      <td>13</td>\n",
              "      <td>1</td>\n",
              "      <td>13</td>\n",
              "      <td>477</td>\n",
              "      <td>0</td>\n",
              "      <td>1</td>\n",
              "      <td>311</td>\n",
              "      <td>11</td>\n",
              "      <td>4</td>\n",
              "      <td>3</td>\n",
              "      <td>1</td>\n",
              "      <td>1</td>\n",
              "      <td>1</td>\n",
              "      <td>1</td>\n",
              "      <td>1</td>\n",
              "    </tr>\n",
              "    <tr>\n",
              "      <th>4</th>\n",
              "      <td>2877</td>\n",
              "      <td>12</td>\n",
              "      <td>1</td>\n",
              "      <td>1</td>\n",
              "      <td>178</td>\n",
              "      <td>0</td>\n",
              "      <td>3</td>\n",
              "      <td>313</td>\n",
              "      <td>11</td>\n",
              "      <td>9</td>\n",
              "      <td>4</td>\n",
              "      <td>1</td>\n",
              "      <td>1</td>\n",
              "      <td>1</td>\n",
              "      <td>1</td>\n",
              "      <td>1</td>\n",
              "    </tr>\n",
              "  </tbody>\n",
              "</table>\n",
              "</div>"
            ],
            "text/plain": [
              "      ip  app  device  ...  ip_hour_os  ip_hour_app  ip_hour_device\n",
              "0  22004   12       1  ...           1            1               1\n",
              "1  40024   25       1  ...           1            1               8\n",
              "2  35888   12       1  ...           1            1               1\n",
              "3  29048   13       1  ...           1            1               1\n",
              "4   2877   12       1  ...           1            1               1\n",
              "\n",
              "[5 rows x 16 columns]"
            ]
          },
          "metadata": {},
          "execution_count": 28
        }
      ]
    },
    {
      "cell_type": "code",
      "metadata": {
        "id": "aHQ_6EUbD3U0",
        "scrolled": true,
        "colab": {
          "base_uri": "https://localhost:8080/"
        },
        "outputId": "8ffae398-bbb3-480f-be95-dc9b35e659e9"
      },
      "source": [
        "#check space usage of train_sample again\n",
        "print(\"Training data uses : \", train_sample.memory_usage().sum()/1024**2)"
      ],
      "execution_count": 29,
      "outputs": [
        {
          "output_type": "stream",
          "name": "stdout",
          "text": [
            "Training data uses :  3.719329833984375\n"
          ]
        }
      ]
    },
    {
      "cell_type": "code",
      "metadata": {
        "id": "BkjGM0yuD3U2",
        "scrolled": true,
        "colab": {
          "base_uri": "https://localhost:8080/"
        },
        "outputId": "cb7944b2-44b4-4b39-854f-efeb6c042bda"
      },
      "source": [
        "# garbage collect (unused) object using gc.collect()\n",
        "gc.collect()"
      ],
      "execution_count": 30,
      "outputs": [
        {
          "output_type": "execute_result",
          "data": {
            "text/plain": [
              "26729"
            ]
          },
          "metadata": {},
          "execution_count": 30
        }
      ]
    },
    {
      "cell_type": "markdown",
      "metadata": {
        "id": "w6ffnEGQD3U3"
      },
      "source": [
        "## Modelling\n",
        "\n",
        "<p style='text-align: right;'> 75 points</p>\n",
        "\n",
        "\n",
        "Let's now build models to predict the variable ```is_attributed``` (downloaded). We'll try the several variants of boosting (adaboost, gradient boosting and XGBoost, LightGBM and Catboost), tune the hyperparameters in each model and choose the one which gives the best performance.\n",
        "\n",
        "In the original Kaggle competition, the metric for model evaluation is **area under the ROC curve**.\n"
      ]
    },
    {
      "cell_type": "code",
      "metadata": {
        "id": "SnK-PVG8D3U3",
        "scrolled": false,
        "colab": {
          "base_uri": "https://localhost:8080/"
        },
        "outputId": "830cf4c8-e548-43f5-89a7-af815aed34fb"
      },
      "source": [
        "# create X and y train\n",
        "X = train_sample.drop('is_attributed', axis = 1)\n",
        "y = train_sample[['is_attributed']]\n",
        "\n",
        "# split data into train and test/validation sets with test_size as 20% and random state as 101\n",
        "X_train, X_test, y_train, y_test = train_test_split(X, y, test_size = 0.20, random_state = 101)\n",
        "\n",
        "#print shape of X_train, y_train, X_test and y_test\n",
        "print(X_train.shape)\n",
        "print(y_train.shape)\n",
        "print(X_test.shape)\n",
        "print(y_test.shape)\n",
        "\n"
      ],
      "execution_count": 31,
      "outputs": [
        {
          "output_type": "stream",
          "name": "stdout",
          "text": [
            "(80000, 15)\n",
            "(80000, 1)\n",
            "(20000, 15)\n",
            "(20000, 1)\n"
          ]
        }
      ]
    },
    {
      "cell_type": "code",
      "metadata": {
        "id": "t5n0S7z7D3U3",
        "scrolled": true,
        "colab": {
          "base_uri": "https://localhost:8080/"
        },
        "outputId": "e58c3fb2-46af-4f1f-fea4-aaa3e4a76519"
      },
      "source": [
        "# check the average download rates in train \n",
        "print(y_train.mean())\n",
        "# check the average download rates in test data, and check they should be comparable\n",
        "print(y_test.mean())"
      ],
      "execution_count": 32,
      "outputs": [
        {
          "output_type": "stream",
          "name": "stdout",
          "text": [
            "is_attributed    0.002275\n",
            "dtype: float64\n",
            "is_attributed    0.00225\n",
            "dtype: float64\n"
          ]
        }
      ]
    },
    {
      "cell_type": "markdown",
      "metadata": {
        "id": "ZIkG7IwtD3U4"
      },
      "source": [
        "### 1.  AdaBoost\n",
        "\n",
        "Reference doc: https://scikit-learn.org/stable/modules/generated/sklearn.ensemble.AdaBoostClassifier.html\n",
        "\n",
        "Reference video: https://www.youtube.com/watch?v=NLRO1-jp5F8\n",
        "\n",
        "AdaBoost algorithm, short for Adaptive Boosting, is a Boosting technique that is used as an Ensemble Method in Machine Learning. It is called Adaptive Boosting as the weights are re-assigned to each instance, with higher weights to incorrectly classified instances. Boosting is used to reduce bias as well as the variance for supervised learning. It works on the principle where learners are grown sequentially. Except for the first, each subsequent learner is grown from previously grown learners. In simple words, weak learners are converted into strong ones. Adaboost algorithm also works on the same principle as boosting, but there is a slight difference in working. "
      ]
    },
    {
      "cell_type": "code",
      "metadata": {
        "id": "dCSn9O8AD3U4"
      },
      "source": [
        "# Instantiate DecisionTreeClassifier with max_depth as 2 and random state as 1\n",
        "tree = DecisionTreeClassifier(max_depth = 2, random_state = 1)\n",
        "\n",
        "'''adaboost with the tree as base estimator, max 600 decision trees of depth=2, \n",
        "learning_rate/shrinkage=1.5 and algorithm as \"SAMME\" and random_state as 1'''\n",
        "\n",
        "adaboost_model_1 = AdaBoostClassifier(base_estimator=tree, n_estimators=600, learning_rate=1.5, algorithm='SAMME', random_state=1)"
      ],
      "execution_count": 33,
      "outputs": []
    },
    {
      "cell_type": "code",
      "metadata": {
        "id": "oi2t_42lD3U4",
        "colab": {
          "base_uri": "https://localhost:8080/"
        },
        "outputId": "67ffbd52-bbb3-4650-f5b9-505511e62bef"
      },
      "source": [
        "# fit adaboost_model_1 with training dataset\n",
        "adaboost_model_1.fit(X_train, y_train)\n",
        "\n"
      ],
      "execution_count": 34,
      "outputs": [
        {
          "output_type": "execute_result",
          "data": {
            "text/plain": [
              "AdaBoostClassifier(algorithm='SAMME',\n",
              "                   base_estimator=DecisionTreeClassifier(ccp_alpha=0.0,\n",
              "                                                         class_weight=None,\n",
              "                                                         criterion='gini',\n",
              "                                                         max_depth=2,\n",
              "                                                         max_features=None,\n",
              "                                                         max_leaf_nodes=None,\n",
              "                                                         min_impurity_decrease=0.0,\n",
              "                                                         min_impurity_split=None,\n",
              "                                                         min_samples_leaf=1,\n",
              "                                                         min_samples_split=2,\n",
              "                                                         min_weight_fraction_leaf=0.0,\n",
              "                                                         presort='deprecated',\n",
              "                                                         random_state=1,\n",
              "                                                         splitter='best'),\n",
              "                   learning_rate=1.5, n_estimators=600, random_state=1)"
            ]
          },
          "metadata": {},
          "execution_count": 34
        }
      ]
    },
    {
      "cell_type": "code",
      "metadata": {
        "id": "SxtEqrLMD3U5",
        "scrolled": true,
        "colab": {
          "base_uri": "https://localhost:8080/"
        },
        "outputId": "3936b641-0299-48a7-965c-787b3de386b0"
      },
      "source": [
        "# prediction probability on X_test\n",
        "predictions = adaboost_model_1.predict_proba(X_test)\n",
        "\n",
        "#print top 10 prediction result\n",
        "predictions[:10]"
      ],
      "execution_count": 35,
      "outputs": [
        {
          "output_type": "execute_result",
          "data": {
            "text/plain": [
              "array([[0.54049582, 0.45950418],\n",
              "       [0.53588662, 0.46411338],\n",
              "       [0.53885559, 0.46114441],\n",
              "       [0.52427816, 0.47572184],\n",
              "       [0.52018053, 0.47981947],\n",
              "       [0.5308397 , 0.4691603 ],\n",
              "       [0.53055748, 0.46944252],\n",
              "       [0.54126954, 0.45873046],\n",
              "       [0.52347347, 0.47652653],\n",
              "       [0.51624249, 0.48375751]])"
            ]
          },
          "metadata": {},
          "execution_count": 35
        }
      ]
    },
    {
      "cell_type": "markdown",
      "metadata": {
        "id": "af07mdE7D3U5"
      },
      "source": [
        "In above result the second column represents the probability of a click resulting in a download\n"
      ]
    },
    {
      "cell_type": "code",
      "metadata": {
        "id": "2A8LQ5HGD3U5",
        "colab": {
          "base_uri": "https://localhost:8080/"
        },
        "outputId": "0cba3f25-e329-41d7-ff1a-5d1329d34055"
      },
      "source": [
        "# metrics: Get AUC score with parameters y_test and predicted probability result\n",
        "metrics.roc_auc_score(y_test, predictions[:, 1])"
      ],
      "execution_count": 36,
      "outputs": [
        {
          "output_type": "execute_result",
          "data": {
            "text/plain": [
              "0.9523839750549848"
            ]
          },
          "metadata": {},
          "execution_count": 36
        }
      ]
    },
    {
      "cell_type": "markdown",
      "metadata": {
        "id": "1ZD_mU_zD3U6"
      },
      "source": [
        "### AdaBoost - Hyperparameter Tuning\n",
        "\n",
        "Let's now tune the hyperparameters of the AdaBoost classifier. In this case, we have two types of hyperparameters - those of the component trees (max_depth etc.) and those of the ensemble (n_estimators, learning_rate etc.). \n",
        "\n",
        "\n",
        "We can tune both using the following technique - the keys of the form ```base_estimator_parameter_name``` belong to the trees (base estimator), and the rest belong to the ensemble."
      ]
    },
    {
      "cell_type": "code",
      "metadata": {
        "id": "EA716bp0D3U6"
      },
      "source": [
        "# parameter grid with base_estimator__max_depth as [2,5] and n_estimators as [200, 400, 600]\n",
        "param_grid = {'base_estimator__max_depth' : [2, 5], 'n_estimators' : [200, 400, 600]}"
      ],
      "execution_count": 37,
      "outputs": []
    },
    {
      "cell_type": "code",
      "metadata": {
        "id": "7sCbHLMdD3U6"
      },
      "source": [
        "# DecisionTreeClassifier as base estimator with random_state=1\n",
        "tree = DecisionTreeClassifier(random_state=1)\n",
        "\n",
        "'''adaboost with the tree as base estimator and learning rate is arbitrarily set to 0.6, \n",
        "we'll discuss learning_rate below and algorithm as \"SAMME\"'''\n",
        "\n",
        "ABC = AdaBoostClassifier(base_estimator=tree, learning_rate=0.6, algorithm = 'SAMME')"
      ],
      "execution_count": 38,
      "outputs": []
    },
    {
      "cell_type": "markdown",
      "metadata": {
        "id": "ymh6clcUD3U6"
      },
      "source": [
        "#### Run grid search CV\n"
      ]
    },
    {
      "cell_type": "code",
      "metadata": {
        "id": "AqYdCANaD3U7"
      },
      "source": [
        "# Keep cross validation fold as 3\n",
        "folds = 3\n",
        "\n",
        "# run grid search with ABC, folds, param_grid and scoring as roc_auc, return_train_score as True and verbose as 1\n",
        "grid_search_ABC = GridSearchCV(ABC, cv = folds, param_grid=param_grid, scoring = 'roc_auc', return_train_score=True, verbose = 1)\n"
      ],
      "execution_count": 39,
      "outputs": []
    },
    {
      "cell_type": "code",
      "metadata": {
        "colab": {
          "base_uri": "https://localhost:8080/"
        },
        "id": "noipaXniD3U7",
        "outputId": "461a0cd9-cacb-464e-dbba-625b1a403e84"
      },
      "source": [
        "# fit grid_search_ABC on training data\n",
        "grid_search_ABC.fit(X_train, y_train)"
      ],
      "execution_count": 40,
      "outputs": [
        {
          "output_type": "stream",
          "name": "stdout",
          "text": [
            "Fitting 3 folds for each of 6 candidates, totalling 18 fits\n"
          ]
        },
        {
          "output_type": "stream",
          "name": "stderr",
          "text": [
            "[Parallel(n_jobs=1)]: Using backend SequentialBackend with 1 concurrent workers.\n",
            "[Parallel(n_jobs=1)]: Done  18 out of  18 | elapsed: 11.2min finished\n"
          ]
        },
        {
          "output_type": "execute_result",
          "data": {
            "text/plain": [
              "GridSearchCV(cv=3, error_score=nan,\n",
              "             estimator=AdaBoostClassifier(algorithm='SAMME',\n",
              "                                          base_estimator=DecisionTreeClassifier(ccp_alpha=0.0,\n",
              "                                                                                class_weight=None,\n",
              "                                                                                criterion='gini',\n",
              "                                                                                max_depth=None,\n",
              "                                                                                max_features=None,\n",
              "                                                                                max_leaf_nodes=None,\n",
              "                                                                                min_impurity_decrease=0.0,\n",
              "                                                                                min_impurity_split=None,\n",
              "                                                                                min_samples_leaf=1,\n",
              "                                                                                min_samples_split=2,\n",
              "                                                                                min_weight_fraction_leaf=0.0,\n",
              "                                                                                presort='deprecated',\n",
              "                                                                                random_state=1,\n",
              "                                                                                splitter='best'),\n",
              "                                          learning_rate=0.6, n_estimators=50,\n",
              "                                          random_state=None),\n",
              "             iid='deprecated', n_jobs=None,\n",
              "             param_grid={'base_estimator__max_depth': [2, 5],\n",
              "                         'n_estimators': [200, 400, 600]},\n",
              "             pre_dispatch='2*n_jobs', refit=True, return_train_score=True,\n",
              "             scoring='roc_auc', verbose=1)"
            ]
          },
          "metadata": {},
          "execution_count": 40
        }
      ]
    },
    {
      "cell_type": "markdown",
      "metadata": {
        "id": "begrj0WdsB60"
      },
      "source": [
        "You must be thinking what is \"SAMME\" here, refer this doc: https://scikit-learn.org/stable/auto_examples/ensemble/plot_adaboost_multiclass.html"
      ]
    },
    {
      "cell_type": "code",
      "metadata": {
        "id": "tf1glbAeD3U7",
        "scrolled": true,
        "colab": {
          "base_uri": "https://localhost:8080/",
          "height": 357
        },
        "outputId": "eefd4278-ff0c-489a-b6fd-52cdb560eb0b"
      },
      "source": [
        "# cv results\n",
        "cv_results = pd.DataFrame(grid_search_ABC.cv_results_)\n",
        "cv_results"
      ],
      "execution_count": 41,
      "outputs": [
        {
          "output_type": "execute_result",
          "data": {
            "text/html": [
              "<div>\n",
              "<style scoped>\n",
              "    .dataframe tbody tr th:only-of-type {\n",
              "        vertical-align: middle;\n",
              "    }\n",
              "\n",
              "    .dataframe tbody tr th {\n",
              "        vertical-align: top;\n",
              "    }\n",
              "\n",
              "    .dataframe thead th {\n",
              "        text-align: right;\n",
              "    }\n",
              "</style>\n",
              "<table border=\"1\" class=\"dataframe\">\n",
              "  <thead>\n",
              "    <tr style=\"text-align: right;\">\n",
              "      <th></th>\n",
              "      <th>mean_fit_time</th>\n",
              "      <th>std_fit_time</th>\n",
              "      <th>mean_score_time</th>\n",
              "      <th>std_score_time</th>\n",
              "      <th>param_base_estimator__max_depth</th>\n",
              "      <th>param_n_estimators</th>\n",
              "      <th>params</th>\n",
              "      <th>split0_test_score</th>\n",
              "      <th>split1_test_score</th>\n",
              "      <th>split2_test_score</th>\n",
              "      <th>mean_test_score</th>\n",
              "      <th>std_test_score</th>\n",
              "      <th>rank_test_score</th>\n",
              "      <th>split0_train_score</th>\n",
              "      <th>split1_train_score</th>\n",
              "      <th>split2_train_score</th>\n",
              "      <th>mean_train_score</th>\n",
              "      <th>std_train_score</th>\n",
              "    </tr>\n",
              "  </thead>\n",
              "  <tbody>\n",
              "    <tr>\n",
              "      <th>0</th>\n",
              "      <td>11.170230</td>\n",
              "      <td>0.151285</td>\n",
              "      <td>0.326638</td>\n",
              "      <td>0.003205</td>\n",
              "      <td>2</td>\n",
              "      <td>200</td>\n",
              "      <td>{'base_estimator__max_depth': 2, 'n_estimators...</td>\n",
              "      <td>0.926966</td>\n",
              "      <td>0.975725</td>\n",
              "      <td>0.955801</td>\n",
              "      <td>0.952831</td>\n",
              "      <td>0.020017</td>\n",
              "      <td>1</td>\n",
              "      <td>0.996306</td>\n",
              "      <td>0.995094</td>\n",
              "      <td>0.996461</td>\n",
              "      <td>0.995954</td>\n",
              "      <td>0.000611</td>\n",
              "    </tr>\n",
              "    <tr>\n",
              "      <th>1</th>\n",
              "      <td>22.423728</td>\n",
              "      <td>0.239115</td>\n",
              "      <td>0.636485</td>\n",
              "      <td>0.008977</td>\n",
              "      <td>2</td>\n",
              "      <td>400</td>\n",
              "      <td>{'base_estimator__max_depth': 2, 'n_estimators...</td>\n",
              "      <td>0.920643</td>\n",
              "      <td>0.974585</td>\n",
              "      <td>0.956496</td>\n",
              "      <td>0.950575</td>\n",
              "      <td>0.022416</td>\n",
              "      <td>2</td>\n",
              "      <td>0.997991</td>\n",
              "      <td>0.996683</td>\n",
              "      <td>0.997996</td>\n",
              "      <td>0.997556</td>\n",
              "      <td>0.000618</td>\n",
              "    </tr>\n",
              "    <tr>\n",
              "      <th>2</th>\n",
              "      <td>33.526391</td>\n",
              "      <td>0.223587</td>\n",
              "      <td>0.923554</td>\n",
              "      <td>0.002838</td>\n",
              "      <td>2</td>\n",
              "      <td>600</td>\n",
              "      <td>{'base_estimator__max_depth': 2, 'n_estimators...</td>\n",
              "      <td>0.921720</td>\n",
              "      <td>0.973335</td>\n",
              "      <td>0.953955</td>\n",
              "      <td>0.949670</td>\n",
              "      <td>0.021288</td>\n",
              "      <td>3</td>\n",
              "      <td>0.998494</td>\n",
              "      <td>0.997923</td>\n",
              "      <td>0.998417</td>\n",
              "      <td>0.998278</td>\n",
              "      <td>0.000253</td>\n",
              "    </tr>\n",
              "    <tr>\n",
              "      <th>3</th>\n",
              "      <td>23.969401</td>\n",
              "      <td>0.291896</td>\n",
              "      <td>0.395526</td>\n",
              "      <td>0.002477</td>\n",
              "      <td>5</td>\n",
              "      <td>200</td>\n",
              "      <td>{'base_estimator__max_depth': 5, 'n_estimators...</td>\n",
              "      <td>0.902361</td>\n",
              "      <td>0.937557</td>\n",
              "      <td>0.937665</td>\n",
              "      <td>0.925861</td>\n",
              "      <td>0.016617</td>\n",
              "      <td>4</td>\n",
              "      <td>1.000000</td>\n",
              "      <td>1.000000</td>\n",
              "      <td>1.000000</td>\n",
              "      <td>1.000000</td>\n",
              "      <td>0.000000</td>\n",
              "    </tr>\n",
              "    <tr>\n",
              "      <th>4</th>\n",
              "      <td>48.471054</td>\n",
              "      <td>0.274808</td>\n",
              "      <td>0.784904</td>\n",
              "      <td>0.023871</td>\n",
              "      <td>5</td>\n",
              "      <td>400</td>\n",
              "      <td>{'base_estimator__max_depth': 5, 'n_estimators...</td>\n",
              "      <td>0.890520</td>\n",
              "      <td>0.939826</td>\n",
              "      <td>0.945001</td>\n",
              "      <td>0.925115</td>\n",
              "      <td>0.024554</td>\n",
              "      <td>5</td>\n",
              "      <td>1.000000</td>\n",
              "      <td>1.000000</td>\n",
              "      <td>1.000000</td>\n",
              "      <td>1.000000</td>\n",
              "      <td>0.000000</td>\n",
              "    </tr>\n",
              "    <tr>\n",
              "      <th>5</th>\n",
              "      <td>72.547488</td>\n",
              "      <td>0.403363</td>\n",
              "      <td>1.132161</td>\n",
              "      <td>0.004004</td>\n",
              "      <td>5</td>\n",
              "      <td>600</td>\n",
              "      <td>{'base_estimator__max_depth': 5, 'n_estimators...</td>\n",
              "      <td>0.886184</td>\n",
              "      <td>0.941086</td>\n",
              "      <td>0.934272</td>\n",
              "      <td>0.920514</td>\n",
              "      <td>0.024434</td>\n",
              "      <td>6</td>\n",
              "      <td>1.000000</td>\n",
              "      <td>1.000000</td>\n",
              "      <td>1.000000</td>\n",
              "      <td>1.000000</td>\n",
              "      <td>0.000000</td>\n",
              "    </tr>\n",
              "  </tbody>\n",
              "</table>\n",
              "</div>"
            ],
            "text/plain": [
              "   mean_fit_time  std_fit_time  ...  mean_train_score  std_train_score\n",
              "0      11.170230      0.151285  ...          0.995954         0.000611\n",
              "1      22.423728      0.239115  ...          0.997556         0.000618\n",
              "2      33.526391      0.223587  ...          0.998278         0.000253\n",
              "3      23.969401      0.291896  ...          1.000000         0.000000\n",
              "4      48.471054      0.274808  ...          1.000000         0.000000\n",
              "5      72.547488      0.403363  ...          1.000000         0.000000\n",
              "\n",
              "[6 rows x 18 columns]"
            ]
          },
          "metadata": {},
          "execution_count": 41
        }
      ]
    },
    {
      "cell_type": "code",
      "metadata": {
        "id": "42TG9kveD3U7",
        "colab": {
          "base_uri": "https://localhost:8080/",
          "height": 407
        },
        "outputId": "1aa30908-f3a0-4dad-f3b5-b998ecc52147"
      },
      "source": [
        "# plotting AUC with hyperparameter combinations\n",
        "\n",
        "plt.figure(figsize=(16,6))\n",
        "for n, depth in enumerate(param_grid['base_estimator__max_depth']):\n",
        "    \n",
        "\n",
        "    # subplot 1/n\n",
        "    plt.subplot(1,3,n+1)\n",
        "    depth_df = cv_results[cv_results['param_base_estimator__max_depth'] == depth]\n",
        "    plt.plot(depth_df['param_n_estimators'], depth_df['mean_test_score'])\n",
        "    plt.plot(depth_df['param_n_estimators'], depth_df['mean_train_score'])\n",
        "    plt.xlabel('n_estimators')\n",
        "    plt.ylabel('AUC')\n",
        "    plt.title('max_depth = {0}'.format(depth))\n",
        "    plt.ylim([0.60,1])\n",
        "    plt.legend(['test_score', 'train_score'], loc = 'upper left')\n",
        "    plt.xscale('log')"
      ],
      "execution_count": 42,
      "outputs": [
        {
          "output_type": "display_data",
          "data": {
            "image/png": "[encoded data removed]",
            "text/plain": [
              "<Figure size 1152x432 with 2 Axes>"
            ]
          },
          "metadata": {
            "needs_background": "light"
          }
        }
      ]
    },
    {
      "cell_type": "markdown",
      "metadata": {
        "id": "b0QPPEx8D3U8"
      },
      "source": [
        "The results above show that:\n",
        "- The ensemble with max_depth=5 is clearly overfitting (training auc is almost 1, while the test score is much lower)\n",
        "- At max_depth=2, the model performs slightly better (approx 95% AUC) with a higher test score \n",
        "\n",
        "Thus, we should go ahead with ```max_depth=2``` and ```n_estimators=200```.\n",
        "\n",
        "Note that we haven't experimented with many other important hyperparameters till now, such as ```learning rate```, ```subsample``` etc., and the results might be considerably improved by tuning them. We'll next experiment with these hyperparameters.\n",
        "\n",
        "As of now again rebuild AdaBoostClassifier with chosen hyperparameters"
      ]
    },
    {
      "cell_type": "code",
      "metadata": {
        "id": "nhE0yFVqD3U8",
        "colab": {
          "base_uri": "https://localhost:8080/"
        },
        "outputId": "d1a3bc49-3c5d-490c-bbca-1ad7cd4a84c7"
      },
      "source": [
        "# DecisionTreeClassifier  as base estimator with max_depth as 2 and random_state as 1\n",
        "tree = DecisionTreeClassifier(max_depth=2, random_state=1)\n",
        "\n",
        "'''adaboost with the tree as base estimator learning rate is arbitrarily set as 0.6, \n",
        "    n_eastimator as 200, random_state as 1, algorithm as \"SAMME\" '''\n",
        "\n",
        "ABC = AdaBoostClassifier(base_estimator=tree, learning_rate=0.6, n_estimators=200, algorithm=\"SAMME\", random_state=1)\n",
        "# fitting ABCon training data\n",
        "ABC.fit(X_train, y_train)\n"
      ],
      "execution_count": 43,
      "outputs": [
        {
          "output_type": "execute_result",
          "data": {
            "text/plain": [
              "AdaBoostClassifier(algorithm='SAMME',\n",
              "                   base_estimator=DecisionTreeClassifier(ccp_alpha=0.0,\n",
              "                                                         class_weight=None,\n",
              "                                                         criterion='gini',\n",
              "                                                         max_depth=2,\n",
              "                                                         max_features=None,\n",
              "                                                         max_leaf_nodes=None,\n",
              "                                                         min_impurity_decrease=0.0,\n",
              "                                                         min_impurity_split=None,\n",
              "                                                         min_samples_leaf=1,\n",
              "                                                         min_samples_split=2,\n",
              "                                                         min_weight_fraction_leaf=0.0,\n",
              "                                                         presort='deprecated',\n",
              "                                                         random_state=1,\n",
              "                                                         splitter='best'),\n",
              "                   learning_rate=0.6, n_estimators=200, random_state=1)"
            ]
          },
          "metadata": {},
          "execution_count": 43
        }
      ]
    },
    {
      "cell_type": "code",
      "metadata": {
        "id": "pxaRQB8eD3U8",
        "colab": {
          "base_uri": "https://localhost:8080/"
        },
        "outputId": "ff1da720-1db1-4bc1-fd18-a4c07c037c16"
      },
      "source": [
        "# predict on test data\n",
        "predictions = ABC.predict_proba(X_test) \n",
        "\n",
        "# print top 10 prediction probabilities\n",
        "predictions[:10]"
      ],
      "execution_count": 44,
      "outputs": [
        {
          "output_type": "execute_result",
          "data": {
            "text/plain": [
              "array([[0.61058431, 0.38941569],\n",
              "       [0.60742586, 0.39257414],\n",
              "       [0.63265753, 0.36734247],\n",
              "       [0.58758342, 0.41241658],\n",
              "       [0.57045678, 0.42954322],\n",
              "       [0.61162484, 0.38837516],\n",
              "       [0.59403993, 0.40596007],\n",
              "       [0.60805124, 0.39194876],\n",
              "       [0.60362848, 0.39637152],\n",
              "       [0.57654304, 0.42345696]])"
            ]
          },
          "metadata": {},
          "execution_count": 44
        }
      ]
    },
    {
      "cell_type": "code",
      "metadata": {
        "id": "PvTVp3a-D3U9",
        "colab": {
          "base_uri": "https://localhost:8080/"
        },
        "outputId": "4692e45e-f1b9-4dd0-975f-c119d0ae79f4"
      },
      "source": [
        "# Calculate roc auc score \n",
        "metrics.roc_auc_score(y_test, predictions[:,1])"
      ],
      "execution_count": 45,
      "outputs": [
        {
          "output_type": "execute_result",
          "data": {
            "text/plain": [
              "0.960727748545338"
            ]
          },
          "metadata": {},
          "execution_count": 45
        }
      ]
    },
    {
      "cell_type": "markdown",
      "metadata": {
        "id": "2QlUGz4mD3U9"
      },
      "source": [
        "Well done, you have improved the model and adaboost gave us 96% of roc_auc coverage, which is a kind of good coverage\n",
        "\n",
        "### 2. Gradient Boosting Classifier\n",
        "\n",
        "\n",
        "\n",
        "Reference doc: https://scikit-learn.org/stable/modules/generated/sklearn.ensemble.GradientBoostingClassifier.html\n",
        "\n",
        "Reference video: https://www.youtube.com/watch?v=j034-r3O2Cg\n",
        "\n",
        "Boosting is a method of converting weak learners into strong learners. In boosting, each new tree is a fit on a modified version of the original data set. \n",
        "\n",
        "Let's now try the gradient boosting classifier. We'll experiment with two main hyperparameters now - ```learning_rate``` (shrinkage) and ```subsample```. \n",
        "\n",
        "By adjusting the learning rate to less than 1, we can regularize the model. A model with higher learning_rate learns fast, but is prone to overfitting; one with a lower learning rate learns slowly, but avoids overfitting.\n",
        "\n",
        "Also, there's a trade-off between ```learning_rate``` and ```n_estimators``` - the higher the learning rate, the lesser trees the model needs (and thus we usually tune only one of them).\n",
        "\n",
        "Also, by subsampling (setting ```subsample``` to less than 1), we can have the individual models built on random subsamples of size ```subsample```. That way, each tree will be trained on different subsets and reduce the model's variance."
      ]
    },
    {
      "cell_type": "code",
      "metadata": {
        "id": "i4RK3nuZD3U9"
      },
      "source": [
        "# parameter grid with learning_rate as [0.2, 0.6, 0.9] and subsample as [0.3, 0.6, 0.9]\n",
        "param_grid = {'learning_rate' : [0.2, 0.6, 0.9], 'subsample' : [0.3, 0.6, 0.9]}"
      ],
      "execution_count": 46,
      "outputs": []
    },
    {
      "cell_type": "code",
      "metadata": {
        "id": "zFpD3jmkD3U9"
      },
      "source": [
        "# Gradient boost as base estimator with max_depth as 2 and n_estimators as 200 and random_state as 1\n",
        "GBC = GradientBoostingClassifier(max_depth=2, n_estimators=200, random_state=1)"
      ],
      "execution_count": 47,
      "outputs": []
    },
    {
      "cell_type": "markdown",
      "metadata": {
        "id": "VGYdbjKLD3U-"
      },
      "source": [
        "##### Run grid search\n"
      ]
    },
    {
      "cell_type": "code",
      "metadata": {
        "id": "VtnUljW9D3U-",
        "scrolled": true,
        "colab": {
          "base_uri": "https://localhost:8080/"
        },
        "outputId": "8df79db4-2ebc-4ac4-ae34-94c30e748df4"
      },
      "source": [
        "# CV folds as 3\n",
        "folds = 3\n",
        "\n",
        "#Instantiate grid search with GBC, folds, param_grid and scoring as roc_auc, return_train_score as True and verbose as 1\n",
        "\n",
        "grid_search_GBC = GridSearchCV(GBC, cv = folds, param_grid = param_grid, scoring='roc_auc', return_train_score=True, verbose = 1)\n",
        "\n",
        "# grid_search_GBC fit on training data \n",
        "grid_search_GBC.fit(X_train, y_train)\n"
      ],
      "execution_count": 48,
      "outputs": [
        {
          "output_type": "stream",
          "name": "stdout",
          "text": [
            "Fitting 3 folds for each of 9 candidates, totalling 27 fits\n"
          ]
        },
        {
          "output_type": "stream",
          "name": "stderr",
          "text": [
            "[Parallel(n_jobs=1)]: Using backend SequentialBackend with 1 concurrent workers.\n",
            "[Parallel(n_jobs=1)]: Done  27 out of  27 | elapsed:  3.7min finished\n"
          ]
        },
        {
          "output_type": "execute_result",
          "data": {
            "text/plain": [
              "GridSearchCV(cv=3, error_score=nan,\n",
              "             estimator=GradientBoostingClassifier(ccp_alpha=0.0,\n",
              "                                                  criterion='friedman_mse',\n",
              "                                                  init=None, learning_rate=0.1,\n",
              "                                                  loss='deviance', max_depth=2,\n",
              "                                                  max_features=None,\n",
              "                                                  max_leaf_nodes=None,\n",
              "                                                  min_impurity_decrease=0.0,\n",
              "                                                  min_impurity_split=None,\n",
              "                                                  min_samples_leaf=1,\n",
              "                                                  min_samples_split=2,\n",
              "                                                  min_weight_fraction_leaf=0.0,\n",
              "                                                  n_estimators=200,\n",
              "                                                  n_iter_no_change=None,\n",
              "                                                  presort='deprecated',\n",
              "                                                  random_state=1, subsample=1.0,\n",
              "                                                  tol=0.0001,\n",
              "                                                  validation_fraction=0.1,\n",
              "                                                  verbose=0, warm_start=False),\n",
              "             iid='deprecated', n_jobs=None,\n",
              "             param_grid={'learning_rate': [0.2, 0.6, 0.9],\n",
              "                         'subsample': [0.3, 0.6, 0.9]},\n",
              "             pre_dispatch='2*n_jobs', refit=True, return_train_score=True,\n",
              "             scoring='roc_auc', verbose=1)"
            ]
          },
          "metadata": {},
          "execution_count": 48
        }
      ]
    },
    {
      "cell_type": "code",
      "metadata": {
        "id": "Mm1tYS_iD3U-",
        "scrolled": true,
        "colab": {
          "base_uri": "https://localhost:8080/",
          "height": 479
        },
        "outputId": "62d9086b-8d2d-4d08-d0a6-511840ea518e"
      },
      "source": [
        "# cv results\n",
        "\n",
        "cv_results = pd.DataFrame(grid_search_GBC.cv_results_)\n",
        "cv_results.head()"
      ],
      "execution_count": 49,
      "outputs": [
        {
          "output_type": "execute_result",
          "data": {
            "text/html": [
              "<div>\n",
              "<style scoped>\n",
              "    .dataframe tbody tr th:only-of-type {\n",
              "        vertical-align: middle;\n",
              "    }\n",
              "\n",
              "    .dataframe tbody tr th {\n",
              "        vertical-align: top;\n",
              "    }\n",
              "\n",
              "    .dataframe thead th {\n",
              "        text-align: right;\n",
              "    }\n",
              "</style>\n",
              "<table border=\"1\" class=\"dataframe\">\n",
              "  <thead>\n",
              "    <tr style=\"text-align: right;\">\n",
              "      <th></th>\n",
              "      <th>mean_fit_time</th>\n",
              "      <th>std_fit_time</th>\n",
              "      <th>mean_score_time</th>\n",
              "      <th>std_score_time</th>\n",
              "      <th>param_learning_rate</th>\n",
              "      <th>param_subsample</th>\n",
              "      <th>params</th>\n",
              "      <th>split0_test_score</th>\n",
              "      <th>split1_test_score</th>\n",
              "      <th>split2_test_score</th>\n",
              "      <th>mean_test_score</th>\n",
              "      <th>std_test_score</th>\n",
              "      <th>rank_test_score</th>\n",
              "      <th>split0_train_score</th>\n",
              "      <th>split1_train_score</th>\n",
              "      <th>split2_train_score</th>\n",
              "      <th>mean_train_score</th>\n",
              "      <th>std_train_score</th>\n",
              "    </tr>\n",
              "  </thead>\n",
              "  <tbody>\n",
              "    <tr>\n",
              "      <th>0</th>\n",
              "      <td>5.665972</td>\n",
              "      <td>0.024232</td>\n",
              "      <td>0.040279</td>\n",
              "      <td>0.000993</td>\n",
              "      <td>0.2</td>\n",
              "      <td>0.3</td>\n",
              "      <td>{'learning_rate': 0.2, 'subsample': 0.3}</td>\n",
              "      <td>0.777582</td>\n",
              "      <td>0.667045</td>\n",
              "      <td>0.884576</td>\n",
              "      <td>0.776401</td>\n",
              "      <td>0.088811</td>\n",
              "      <td>3</td>\n",
              "      <td>0.848509</td>\n",
              "      <td>0.771451</td>\n",
              "      <td>0.843124</td>\n",
              "      <td>0.821028</td>\n",
              "      <td>0.035125</td>\n",
              "    </tr>\n",
              "    <tr>\n",
              "      <th>1</th>\n",
              "      <td>8.346805</td>\n",
              "      <td>0.052872</td>\n",
              "      <td>0.040761</td>\n",
              "      <td>0.001250</td>\n",
              "      <td>0.2</td>\n",
              "      <td>0.6</td>\n",
              "      <td>{'learning_rate': 0.2, 'subsample': 0.6}</td>\n",
              "      <td>0.880967</td>\n",
              "      <td>0.878956</td>\n",
              "      <td>0.751848</td>\n",
              "      <td>0.837257</td>\n",
              "      <td>0.060399</td>\n",
              "      <td>2</td>\n",
              "      <td>0.905836</td>\n",
              "      <td>0.949851</td>\n",
              "      <td>0.741464</td>\n",
              "      <td>0.865717</td>\n",
              "      <td>0.089679</td>\n",
              "    </tr>\n",
              "    <tr>\n",
              "      <th>2</th>\n",
              "      <td>10.579158</td>\n",
              "      <td>0.016881</td>\n",
              "      <td>0.043071</td>\n",
              "      <td>0.003982</td>\n",
              "      <td>0.2</td>\n",
              "      <td>0.9</td>\n",
              "      <td>{'learning_rate': 0.2, 'subsample': 0.9}</td>\n",
              "      <td>0.799695</td>\n",
              "      <td>0.823715</td>\n",
              "      <td>0.899856</td>\n",
              "      <td>0.841089</td>\n",
              "      <td>0.042696</td>\n",
              "      <td>1</td>\n",
              "      <td>0.858151</td>\n",
              "      <td>0.815856</td>\n",
              "      <td>0.904002</td>\n",
              "      <td>0.859336</td>\n",
              "      <td>0.035995</td>\n",
              "    </tr>\n",
              "    <tr>\n",
              "      <th>3</th>\n",
              "      <td>5.681023</td>\n",
              "      <td>0.049175</td>\n",
              "      <td>0.040355</td>\n",
              "      <td>0.000878</td>\n",
              "      <td>0.6</td>\n",
              "      <td>0.3</td>\n",
              "      <td>{'learning_rate': 0.6, 'subsample': 0.3}</td>\n",
              "      <td>0.712614</td>\n",
              "      <td>0.171713</td>\n",
              "      <td>0.632072</td>\n",
              "      <td>0.505466</td>\n",
              "      <td>0.238279</td>\n",
              "      <td>7</td>\n",
              "      <td>0.617595</td>\n",
              "      <td>0.177567</td>\n",
              "      <td>0.654294</td>\n",
              "      <td>0.483152</td>\n",
              "      <td>0.216600</td>\n",
              "    </tr>\n",
              "    <tr>\n",
              "      <th>4</th>\n",
              "      <td>8.367862</td>\n",
              "      <td>0.046687</td>\n",
              "      <td>0.041597</td>\n",
              "      <td>0.000358</td>\n",
              "      <td>0.6</td>\n",
              "      <td>0.6</td>\n",
              "      <td>{'learning_rate': 0.6, 'subsample': 0.6}</td>\n",
              "      <td>0.489959</td>\n",
              "      <td>0.654872</td>\n",
              "      <td>0.603384</td>\n",
              "      <td>0.582738</td>\n",
              "      <td>0.068890</td>\n",
              "      <td>6</td>\n",
              "      <td>0.452552</td>\n",
              "      <td>0.684572</td>\n",
              "      <td>0.634142</td>\n",
              "      <td>0.590422</td>\n",
              "      <td>0.099639</td>\n",
              "    </tr>\n",
              "  </tbody>\n",
              "</table>\n",
              "</div>"
            ],
            "text/plain": [
              "   mean_fit_time  std_fit_time  ...  mean_train_score  std_train_score\n",
              "0       5.665972      0.024232  ...          0.821028         0.035125\n",
              "1       8.346805      0.052872  ...          0.865717         0.089679\n",
              "2      10.579158      0.016881  ...          0.859336         0.035995\n",
              "3       5.681023      0.049175  ...          0.483152         0.216600\n",
              "4       8.367862      0.046687  ...          0.590422         0.099639\n",
              "\n",
              "[5 rows x 18 columns]"
            ]
          },
          "metadata": {},
          "execution_count": 49
        }
      ]
    },
    {
      "cell_type": "code",
      "metadata": {
        "id": "ZEM6khM6D3U-",
        "colab": {
          "base_uri": "https://localhost:8080/",
          "height": 406
        },
        "outputId": "2b0c199b-dd58-48b3-85c7-380bde2373c8"
      },
      "source": [
        "# # plotting AUC with hyperparameter combinations i.e subsample\n",
        "\n",
        "plt.figure(figsize=(16,6))\n",
        "\n",
        "\n",
        "for n, subsample in enumerate(param_grid['subsample']):\n",
        "    \n",
        "\n",
        "    # subplot 1/n\n",
        "    plt.subplot(1, len(param_grid['subsample']), n+1)\n",
        "    dataframe = cv_results[cv_results['param_subsample'] == subsample]\n",
        "    plt.plot(dataframe['param_learning_rate'], dataframe['mean_test_score'])\n",
        "    plt.plot(dataframe['param_learning_rate'], dataframe['mean_train_score'])\n",
        "    plt.xlabel('Learning Rate')\n",
        "    plt.ylabel('AUC')\n",
        "    plt.title(\"subsample = {0}\".format(subsample))\n",
        "    plt.ylim([0.60, 1])\n",
        "    plt.legend(['test_score', 'train_score'], loc = 'upper left')\n",
        "    plt.xscale('log')\n",
        "\n"
      ],
      "execution_count": 50,
      "outputs": [
        {
          "output_type": "display_data",
          "data": {
            "image/png": "[encoded data removed]",
            "text/plain": [
              "<Figure size 1152x432 with 3 Axes>"
            ]
          },
          "metadata": {
            "needs_background": "light"
          }
        }
      ]
    },
    {
      "cell_type": "markdown",
      "metadata": {
        "id": "ZCLdKflSD3U_"
      },
      "source": [
        "It is clear from the plot above that the model with a lower subsample ratio performs better, while those with higher subsamples tend to overfit. \n",
        "\n",
        "Also, a lower learning rate results in less overfitting."
      ]
    },
    {
      "cell_type": "code",
      "metadata": {
        "id": "4fdnUAobRGSx",
        "colab": {
          "base_uri": "https://localhost:8080/"
        },
        "outputId": "97fcffbd-d6e5-4c87-b25e-d3cdb1f3a536"
      },
      "source": [
        "# fitting GBC training data\n",
        "GBC.fit(X_train, y_train)\n",
        "\n",
        "\n",
        "# predict probabilities on test data\n",
        "predictions = GBC.predict_proba(X_test)\n",
        "\n",
        "# print top 10 prediction probabilities\n",
        "predictions[:10]"
      ],
      "execution_count": 51,
      "outputs": [
        {
          "output_type": "execute_result",
          "data": {
            "text/plain": [
              "array([[9.99759635e-01, 2.40365249e-04],\n",
              "       [9.99683461e-01, 3.16539468e-04],\n",
              "       [9.99385527e-01, 6.14472923e-04],\n",
              "       [9.99790280e-01, 2.09720179e-04],\n",
              "       [9.99189954e-01, 8.10045513e-04],\n",
              "       [9.99824758e-01, 1.75242409e-04],\n",
              "       [9.99618179e-01, 3.81820940e-04],\n",
              "       [9.99712348e-01, 2.87651814e-04],\n",
              "       [9.99781825e-01, 2.18175325e-04],\n",
              "       [9.98997601e-01, 1.00239939e-03]])"
            ]
          },
          "metadata": {},
          "execution_count": 51
        }
      ]
    },
    {
      "cell_type": "code",
      "metadata": {
        "id": "jdt8L_PrS54b",
        "colab": {
          "base_uri": "https://localhost:8080/"
        },
        "outputId": "c621f644-7797-4bcb-bf29-47edb1dd5bce"
      },
      "source": [
        "# Calculate roc auc score \n",
        "metrics.roc_auc_score(y_test, predictions[:, 1])"
      ],
      "execution_count": 52,
      "outputs": [
        {
          "output_type": "execute_result",
          "data": {
            "text/plain": [
              "0.9599148083187171"
            ]
          },
          "metadata": {},
          "execution_count": 52
        }
      ]
    },
    {
      "cell_type": "markdown",
      "metadata": {
        "id": "D_UuYzsnD3U_"
      },
      "source": [
        "So Gradient boosting also gives us 96% of roc_auc coverage\n",
        "\n",
        "### 3. XGBoost\n",
        "\n",
        "Reference video: https://www.youtube.com/watch?v=gPciUPwWJQQ\n",
        "\n",
        "Reference doc:https://www.analyticsvidhya.com/blog/2018/09/an-end-to-end-guide-to-understand-the-math-behind-xgboost/\n",
        "\n",
        "XGBoost is a decision-tree-based ensemble Machine Learning algorithm that uses a gradient boosting framework. In prediction problems involving unstructured data (images, text, etc.) artificial neural networks tend to outperform all other algorithms or frameworks. However, when it comes to small-to-medium structured/tabular data, decision tree based algorithms are considered best-in-class right now. Please see the chart below for the evolution of tree-based algorithms over the years.\n",
        "\n",
        "Let's finally try XGBoost. The hyperparameters are the same, some important ones being ```subsample```, ```learning_rate```, ```max_depth``` etc.\n"
      ]
    },
    {
      "cell_type": "code",
      "metadata": {
        "id": "ENbuiar_D3U_",
        "colab": {
          "base_uri": "https://localhost:8080/"
        },
        "outputId": "4acc3b2e-1065-40ae-ba7c-ef9d74270d1c"
      },
      "source": [
        "# Instantiate XGBClassifier with default hyperparameters and random_state=1\n",
        "model = XGBClassifier(random_state=1)\n",
        " \n",
        "# fit model on training data\n",
        "model.fit(X_train, y_train)\n"
      ],
      "execution_count": 53,
      "outputs": [
        {
          "output_type": "execute_result",
          "data": {
            "text/plain": [
              "XGBClassifier(base_score=0.5, booster='gbtree', colsample_bylevel=1,\n",
              "              colsample_bynode=1, colsample_bytree=1, gamma=0,\n",
              "              learning_rate=0.1, max_delta_step=0, max_depth=3,\n",
              "              min_child_weight=1, missing=None, n_estimators=100, n_jobs=1,\n",
              "              nthread=None, objective='binary:logistic', random_state=1,\n",
              "              reg_alpha=0, reg_lambda=1, scale_pos_weight=1, seed=None,\n",
              "              silent=None, subsample=1, verbosity=1)"
            ]
          },
          "metadata": {},
          "execution_count": 53
        }
      ]
    },
    {
      "cell_type": "markdown",
      "metadata": {
        "id": "kOjxFItyD3VA"
      },
      "source": [
        "Make predictions for test data\n"
      ]
    },
    {
      "cell_type": "code",
      "metadata": {
        "id": "jc4iDFrGD3VA",
        "colab": {
          "base_uri": "https://localhost:8080/"
        },
        "outputId": "47433acf-ba08-4060-cf39-c73595ec8734"
      },
      "source": [
        "# use predict_proba since we need probabilities to compute auc\n",
        "y_pred = model.predict_proba(X_test)\n",
        "\n",
        "#print top 10 y_pred result\n",
        "y_pred[:10]"
      ],
      "execution_count": 54,
      "outputs": [
        {
          "output_type": "execute_result",
          "data": {
            "text/plain": [
              "array([[9.9987620e-01, 1.2377757e-04],\n",
              "       [9.9980235e-01, 1.9764129e-04],\n",
              "       [9.9981219e-01, 1.8779545e-04],\n",
              "       [9.9935341e-01, 6.4659910e-04],\n",
              "       [9.9839455e-01, 1.6054598e-03],\n",
              "       [9.9982888e-01, 1.7113073e-04],\n",
              "       [9.9954700e-01, 4.5297624e-04],\n",
              "       [9.9944913e-01, 5.5086729e-04],\n",
              "       [9.9976951e-01, 2.3048650e-04],\n",
              "       [9.9696469e-01, 3.0353032e-03]], dtype=float32)"
            ]
          },
          "metadata": {},
          "execution_count": 54
        }
      ]
    },
    {
      "cell_type": "code",
      "metadata": {
        "id": "_9soR1CLD3VA",
        "scrolled": false,
        "colab": {
          "base_uri": "https://localhost:8080/"
        },
        "outputId": "e22e3a60-1eef-473f-8f25-f29ee4a926a7"
      },
      "source": [
        "# evaluate predictions using roc_auc score\n",
        "roc = metrics.roc_auc_score(y_test, y_pred[:,1])\n",
        "print(\"AUC: %.2f%%\" % (roc * 100.0))"
      ],
      "execution_count": 55,
      "outputs": [
        {
          "output_type": "stream",
          "name": "stdout",
          "text": [
            "AUC: 94.85%\n"
          ]
        }
      ]
    },
    {
      "cell_type": "markdown",
      "metadata": {
        "id": "D0R5HGVmD3VB"
      },
      "source": [
        "The roc_auc in this case is about 0.95% with default hyperparameters. Let's try changing the hyperparameters - an exhaustive list of XGBoost hyperparameters is here: http://xgboost.readthedocs.io/en/latest/parameter.html\n"
      ]
    },
    {
      "cell_type": "markdown",
      "metadata": {
        "id": "uW5ayn7oD3VB"
      },
      "source": [
        "Let's now try tuning the hyperparameters using k-fold CV. We'll then use grid search CV to find the optimal values of hyperparameters.\n",
        "\n",
        "##### hyperparameter tuning with XGBoost\n"
      ]
    },
    {
      "cell_type": "code",
      "metadata": {
        "id": "cELevyotD3VB"
      },
      "source": [
        "\n",
        "# creating a KFold object( 3 )\n",
        "folds = 3\n",
        "\n",
        "# specify range of hyperparameters with learning_rate as [0.2, 0.6] ans subsample as [0.3, 0.6, 0.9]\n",
        "param_grid = {'learning_rate' : [0.2, 0.6], 'subsample' : [0.3, 0.6, 0.9]}      \n",
        "\n",
        "\n",
        "# specify model with max_depth as 2 and n_estimators as 200 and random_state as 1\n",
        "xgb_model = XGBClassifier(max_depth = 2, n_estimators=200, random_state=1)\n",
        "\n",
        "# set up GridSearchCV() with xgb_model, param_grid, folds, return_train_score and verbose as 1 and scoring as roc_auc\n",
        "model_cv = GridSearchCV(estimator = xgb_model, \n",
        "                        param_grid = param_grid, \n",
        "                        scoring= 'roc_auc', \n",
        "                        cv = folds, \n",
        "                        verbose = 1,\n",
        "                        return_train_score=True)      \n",
        "\n"
      ],
      "execution_count": 56,
      "outputs": []
    },
    {
      "cell_type": "code",
      "metadata": {
        "id": "IIvxhmnKD3VB",
        "scrolled": false,
        "colab": {
          "base_uri": "https://localhost:8080/"
        },
        "outputId": "67c03a60-3cda-4bf3-8d39-4af761fe5fa5"
      },
      "source": [
        "# fit the model_cv on training data\n",
        "model_cv.fit(X_train, y_train)"
      ],
      "execution_count": 57,
      "outputs": [
        {
          "output_type": "stream",
          "name": "stdout",
          "text": [
            "Fitting 3 folds for each of 6 candidates, totalling 18 fits\n"
          ]
        },
        {
          "output_type": "stream",
          "name": "stderr",
          "text": [
            "[Parallel(n_jobs=1)]: Using backend SequentialBackend with 1 concurrent workers.\n",
            "[Parallel(n_jobs=1)]: Done  18 out of  18 | elapsed:  1.7min finished\n"
          ]
        },
        {
          "output_type": "execute_result",
          "data": {
            "text/plain": [
              "GridSearchCV(cv=3, error_score=nan,\n",
              "             estimator=XGBClassifier(base_score=0.5, booster='gbtree',\n",
              "                                     colsample_bylevel=1, colsample_bynode=1,\n",
              "                                     colsample_bytree=1, gamma=0,\n",
              "                                     learning_rate=0.1, max_delta_step=0,\n",
              "                                     max_depth=2, min_child_weight=1,\n",
              "                                     missing=None, n_estimators=200, n_jobs=1,\n",
              "                                     nthread=None, objective='binary:logistic',\n",
              "                                     random_state=1, reg_alpha=0, reg_lambda=1,\n",
              "                                     scale_pos_weight=1, seed=None, silent=None,\n",
              "                                     subsample=1, verbosity=1),\n",
              "             iid='deprecated', n_jobs=None,\n",
              "             param_grid={'learning_rate': [0.2, 0.6],\n",
              "                         'subsample': [0.3, 0.6, 0.9]},\n",
              "             pre_dispatch='2*n_jobs', refit=True, return_train_score=True,\n",
              "             scoring='roc_auc', verbose=1)"
            ]
          },
          "metadata": {},
          "execution_count": 57
        }
      ]
    },
    {
      "cell_type": "code",
      "metadata": {
        "id": "JdN7so49D3VC",
        "scrolled": true,
        "colab": {
          "base_uri": "https://localhost:8080/",
          "height": 561
        },
        "outputId": "6911ac4b-8461-4aef-d888-d46ad54f936f"
      },
      "source": [
        "# Get cv results as datafame\n",
        "cv_results = pd.DataFrame(model_cv.cv_results_)\n",
        "cv_results"
      ],
      "execution_count": 58,
      "outputs": [
        {
          "output_type": "execute_result",
          "data": {
            "text/html": [
              "<div>\n",
              "<style scoped>\n",
              "    .dataframe tbody tr th:only-of-type {\n",
              "        vertical-align: middle;\n",
              "    }\n",
              "\n",
              "    .dataframe tbody tr th {\n",
              "        vertical-align: top;\n",
              "    }\n",
              "\n",
              "    .dataframe thead th {\n",
              "        text-align: right;\n",
              "    }\n",
              "</style>\n",
              "<table border=\"1\" class=\"dataframe\">\n",
              "  <thead>\n",
              "    <tr style=\"text-align: right;\">\n",
              "      <th></th>\n",
              "      <th>mean_fit_time</th>\n",
              "      <th>std_fit_time</th>\n",
              "      <th>mean_score_time</th>\n",
              "      <th>std_score_time</th>\n",
              "      <th>param_learning_rate</th>\n",
              "      <th>param_subsample</th>\n",
              "      <th>params</th>\n",
              "      <th>split0_test_score</th>\n",
              "      <th>split1_test_score</th>\n",
              "      <th>split2_test_score</th>\n",
              "      <th>mean_test_score</th>\n",
              "      <th>std_test_score</th>\n",
              "      <th>rank_test_score</th>\n",
              "      <th>split0_train_score</th>\n",
              "      <th>split1_train_score</th>\n",
              "      <th>split2_train_score</th>\n",
              "      <th>mean_train_score</th>\n",
              "      <th>std_train_score</th>\n",
              "    </tr>\n",
              "  </thead>\n",
              "  <tbody>\n",
              "    <tr>\n",
              "      <th>0</th>\n",
              "      <td>5.226849</td>\n",
              "      <td>0.038031</td>\n",
              "      <td>0.138335</td>\n",
              "      <td>0.003595</td>\n",
              "      <td>0.2</td>\n",
              "      <td>0.3</td>\n",
              "      <td>{'learning_rate': 0.2, 'subsample': 0.3}</td>\n",
              "      <td>0.918476</td>\n",
              "      <td>0.966470</td>\n",
              "      <td>0.959373</td>\n",
              "      <td>0.948106</td>\n",
              "      <td>0.021151</td>\n",
              "      <td>3</td>\n",
              "      <td>0.990313</td>\n",
              "      <td>0.984284</td>\n",
              "      <td>0.993700</td>\n",
              "      <td>0.989432</td>\n",
              "      <td>0.003894</td>\n",
              "    </tr>\n",
              "    <tr>\n",
              "      <th>1</th>\n",
              "      <td>5.844941</td>\n",
              "      <td>0.004914</td>\n",
              "      <td>0.129748</td>\n",
              "      <td>0.001285</td>\n",
              "      <td>0.2</td>\n",
              "      <td>0.6</td>\n",
              "      <td>{'learning_rate': 0.2, 'subsample': 0.6}</td>\n",
              "      <td>0.933275</td>\n",
              "      <td>0.978913</td>\n",
              "      <td>0.950468</td>\n",
              "      <td>0.954218</td>\n",
              "      <td>0.018819</td>\n",
              "      <td>1</td>\n",
              "      <td>0.993116</td>\n",
              "      <td>0.987288</td>\n",
              "      <td>0.994242</td>\n",
              "      <td>0.991549</td>\n",
              "      <td>0.003047</td>\n",
              "    </tr>\n",
              "    <tr>\n",
              "      <th>2</th>\n",
              "      <td>4.928996</td>\n",
              "      <td>0.022239</td>\n",
              "      <td>0.130195</td>\n",
              "      <td>0.003901</td>\n",
              "      <td>0.2</td>\n",
              "      <td>0.9</td>\n",
              "      <td>{'learning_rate': 0.2, 'subsample': 0.9}</td>\n",
              "      <td>0.924940</td>\n",
              "      <td>0.973210</td>\n",
              "      <td>0.950138</td>\n",
              "      <td>0.949429</td>\n",
              "      <td>0.019712</td>\n",
              "      <td>2</td>\n",
              "      <td>0.993739</td>\n",
              "      <td>0.989940</td>\n",
              "      <td>0.994238</td>\n",
              "      <td>0.992639</td>\n",
              "      <td>0.001919</td>\n",
              "    </tr>\n",
              "    <tr>\n",
              "      <th>3</th>\n",
              "      <td>5.237801</td>\n",
              "      <td>0.021123</td>\n",
              "      <td>0.134964</td>\n",
              "      <td>0.001213</td>\n",
              "      <td>0.6</td>\n",
              "      <td>0.3</td>\n",
              "      <td>{'learning_rate': 0.6, 'subsample': 0.3}</td>\n",
              "      <td>0.903041</td>\n",
              "      <td>0.948284</td>\n",
              "      <td>0.920718</td>\n",
              "      <td>0.924014</td>\n",
              "      <td>0.018617</td>\n",
              "      <td>6</td>\n",
              "      <td>0.997775</td>\n",
              "      <td>0.995323</td>\n",
              "      <td>0.996475</td>\n",
              "      <td>0.996525</td>\n",
              "      <td>0.001002</td>\n",
              "    </tr>\n",
              "    <tr>\n",
              "      <th>4</th>\n",
              "      <td>5.893528</td>\n",
              "      <td>0.020184</td>\n",
              "      <td>0.135432</td>\n",
              "      <td>0.001508</td>\n",
              "      <td>0.6</td>\n",
              "      <td>0.6</td>\n",
              "      <td>{'learning_rate': 0.6, 'subsample': 0.6}</td>\n",
              "      <td>0.909776</td>\n",
              "      <td>0.970954</td>\n",
              "      <td>0.944572</td>\n",
              "      <td>0.941768</td>\n",
              "      <td>0.025054</td>\n",
              "      <td>4</td>\n",
              "      <td>0.999613</td>\n",
              "      <td>0.998645</td>\n",
              "      <td>0.999649</td>\n",
              "      <td>0.999303</td>\n",
              "      <td>0.000465</td>\n",
              "    </tr>\n",
              "    <tr>\n",
              "      <th>5</th>\n",
              "      <td>4.980464</td>\n",
              "      <td>0.016001</td>\n",
              "      <td>0.132820</td>\n",
              "      <td>0.004244</td>\n",
              "      <td>0.6</td>\n",
              "      <td>0.9</td>\n",
              "      <td>{'learning_rate': 0.6, 'subsample': 0.9}</td>\n",
              "      <td>0.900652</td>\n",
              "      <td>0.967076</td>\n",
              "      <td>0.950202</td>\n",
              "      <td>0.939310</td>\n",
              "      <td>0.028190</td>\n",
              "      <td>5</td>\n",
              "      <td>0.999575</td>\n",
              "      <td>0.999293</td>\n",
              "      <td>0.999550</td>\n",
              "      <td>0.999473</td>\n",
              "      <td>0.000127</td>\n",
              "    </tr>\n",
              "  </tbody>\n",
              "</table>\n",
              "</div>"
            ],
            "text/plain": [
              "   mean_fit_time  std_fit_time  ...  mean_train_score  std_train_score\n",
              "0       5.226849      0.038031  ...          0.989432         0.003894\n",
              "1       5.844941      0.004914  ...          0.991549         0.003047\n",
              "2       4.928996      0.022239  ...          0.992639         0.001919\n",
              "3       5.237801      0.021123  ...          0.996525         0.001002\n",
              "4       5.893528      0.020184  ...          0.999303         0.000465\n",
              "5       4.980464      0.016001  ...          0.999473         0.000127\n",
              "\n",
              "[6 rows x 18 columns]"
            ]
          },
          "metadata": {},
          "execution_count": 58
        }
      ]
    },
    {
      "cell_type": "markdown",
      "metadata": {
        "id": "DhdqhKH7D3VC"
      },
      "source": [
        "Convert parameters to int for plotting on x-axis\n"
      ]
    },
    {
      "cell_type": "code",
      "metadata": {
        "id": "e5o4sgkTD3VD",
        "scrolled": false,
        "colab": {
          "base_uri": "https://localhost:8080/",
          "height": 406
        },
        "outputId": "236edb96-5e2f-4a1a-d9d0-34c058e884ec"
      },
      "source": [
        "# # plotting\n",
        "plt.figure(figsize=(16,6))\n",
        "\n",
        "param_grid = {'learning_rate': [0.2, 0.6], \n",
        "             'subsample': [0.3, 0.6, 0.9]} \n",
        "\n",
        "\n",
        "for n, subsample in enumerate(param_grid['subsample']):\n",
        "    \n",
        "\n",
        "    # subplot 1/n\n",
        "    plt.subplot(1, len(param_grid['subsample']), n+1)\n",
        "    dataframe = cv_results[cv_results['param_subsample'] == subsample]\n",
        "    plt.plot(dataframe['param_learning_rate'], dataframe['mean_test_score'])\n",
        "    plt.plot(dataframe['param_learning_rate'], dataframe['mean_train_score'])\n",
        "    plt.xlabel('Learning Rate')\n",
        "    plt.ylabel('AUC')\n",
        "    plt.title(\"subsample = {0}\".format(subsample))\n",
        "    plt.ylim([0.60, 1])\n",
        "    plt.legend(['test_score', 'train_score'], loc = 'upper left')\n",
        "    plt.xscale('log')\n",
        "    \n",
        "    "
      ],
      "execution_count": 59,
      "outputs": [
        {
          "output_type": "display_data",
          "data": {
            "image/png": "[encoded data removed]",
            "text/plain": [
              "<Figure size 1152x432 with 3 Axes>"
            ]
          },
          "metadata": {
            "needs_background": "light"
          }
        }
      ]
    },
    {
      "cell_type": "markdown",
      "metadata": {
        "id": "k-x6BYIqD3VD"
      },
      "source": [
        "The results show that a subsample size of 0.6 and learning_rate of about 0.2 seems optimal. \n",
        "\n",
        "Also, XGBoost has resulted in the highest ROC AUC obtained (across various hyperparameters). \n",
        "\n",
        "\n",
        "Let's build a final model with the chosen hyperparameters ie.\n",
        "\n",
        "\n",
        "`'learning_rate': 0.2,\n",
        "'max_depth': 2, \n",
        "'n_estimators':200,\n",
        "'subsample':0.6,\n",
        "'random_state':1`\n"
      ]
    },
    {
      "cell_type": "code",
      "metadata": {
        "id": "gj0OA89XD3VE",
        "colab": {
          "base_uri": "https://localhost:8080/"
        },
        "outputId": "8a207a3f-1d6b-46ee-d3e8-e9183ee06a63"
      },
      "source": [
        "# 4 chosen hyperparameters and use 'objective':'binary:logistic' which outputs probability rather than label, which we need for auc\n",
        "params = {'learning_rate' : 0.2, 'max_depth' : 2, 'n_estimators' : 200, 'subsample' : 0.6, 'random_state' : 1, 'objective' : 'binary:logistic'}\n",
        "\n",
        "\n",
        "#Instantiate XGBClassifier with params\n",
        "XGB = XGBClassifier(params = params)\n",
        "\n",
        "# fit model on training data\n",
        "XGB.fit(X_train, y_train)"
      ],
      "execution_count": 60,
      "outputs": [
        {
          "output_type": "execute_result",
          "data": {
            "text/plain": [
              "XGBClassifier(base_score=0.5, booster='gbtree', colsample_bylevel=1,\n",
              "              colsample_bynode=1, colsample_bytree=1, gamma=0,\n",
              "              learning_rate=0.1, max_delta_step=0, max_depth=3,\n",
              "              min_child_weight=1, missing=None, n_estimators=100, n_jobs=1,\n",
              "              nthread=None, objective='binary:logistic',\n",
              "              params={'learning_rate': 0.2, 'max_depth': 2, 'n_estimators': 200,\n",
              "                      'objective': 'binary:logistic', 'random_state': 1,\n",
              "                      'subsample': 0.6},\n",
              "              random_state=0, reg_alpha=0, reg_lambda=1, scale_pos_weight=1,\n",
              "              seed=None, silent=None, subsample=1, verbosity=1)"
            ]
          },
          "metadata": {},
          "execution_count": 60
        }
      ]
    },
    {
      "cell_type": "code",
      "metadata": {
        "id": "R80-UXyED3VE",
        "scrolled": false,
        "colab": {
          "base_uri": "https://localhost:8080/"
        },
        "outputId": "590fab18-f411-4970-de22-3c62bddb84e7"
      },
      "source": [
        "# get prediction probability\n",
        "y_pred = XGB.predict_proba(X_test)\n",
        "\n",
        "#print to 10 prediction result\n",
        "y_pred[:10]"
      ],
      "execution_count": 63,
      "outputs": [
        {
          "output_type": "execute_result",
          "data": {
            "text/plain": [
              "array([[9.9987620e-01, 1.2377757e-04],\n",
              "       [9.9980235e-01, 1.9764129e-04],\n",
              "       [9.9981219e-01, 1.8779545e-04],\n",
              "       [9.9935341e-01, 6.4659910e-04],\n",
              "       [9.9839455e-01, 1.6054598e-03],\n",
              "       [9.9982888e-01, 1.7113073e-04],\n",
              "       [9.9954700e-01, 4.5297624e-04],\n",
              "       [9.9944913e-01, 5.5086729e-04],\n",
              "       [9.9976951e-01, 2.3048650e-04],\n",
              "       [9.9696469e-01, 3.0353032e-03]], dtype=float32)"
            ]
          },
          "metadata": {},
          "execution_count": 63
        }
      ]
    },
    {
      "cell_type": "markdown",
      "metadata": {
        "id": "k9dONIr8D3VE"
      },
      "source": [
        "The first column in y_pred is the P(0), i.e. P(not fraud), and the second column is P(1/fraud)."
      ]
    },
    {
      "cell_type": "code",
      "metadata": {
        "id": "G78YhoVzD3VF",
        "scrolled": false,
        "colab": {
          "base_uri": "https://localhost:8080/"
        },
        "outputId": "6631cca9-5c7b-45f9-ca23-0b4d06184ab1"
      },
      "source": [
        "# print roc_auc score\n",
        "auc = metrics.roc_auc_score(y_test, y_pred[:, 1])\n",
        "auc"
      ],
      "execution_count": 64,
      "outputs": [
        {
          "output_type": "execute_result",
          "data": {
            "text/plain": [
              "0.9484868732425735"
            ]
          },
          "metadata": {},
          "execution_count": 64
        }
      ]
    },
    {
      "cell_type": "markdown",
      "metadata": {
        "id": "V4H3vgzPD3VF"
      },
      "source": [
        "Even after hyerparameter tuning we got same roc_auc score. Finally, let's also look at the feature importances."
      ]
    },
    {
      "cell_type": "code",
      "metadata": {
        "id": "7IlzyzlQD3VF",
        "scrolled": true,
        "colab": {
          "base_uri": "https://localhost:8080/"
        },
        "outputId": "23d91b41-8652-420b-cfb8-3c10e60011f9"
      },
      "source": [
        "# print feature importance for each column in  a dictionary form\n",
        "importance = dict(zip(X_train.columns, model.feature_importances_))\n",
        "importance"
      ],
      "execution_count": 65,
      "outputs": [
        {
          "output_type": "execute_result",
          "data": {
            "text/plain": [
              "{'app': 0.27878824,\n",
              " 'channel': 0.21394157,\n",
              " 'day_of_week': 0.02267693,\n",
              " 'day_of_year': 0.0,\n",
              " 'device': 0.17192616,\n",
              " 'hour': 0.03604142,\n",
              " 'ip': 0.04729222,\n",
              " 'ip_count': 0.121292084,\n",
              " 'ip_day_hour': 0.0,\n",
              " 'ip_hour_app': 0.0,\n",
              " 'ip_hour_channel': 0.0,\n",
              " 'ip_hour_device': 0.0,\n",
              " 'ip_hour_os': 0.008167093,\n",
              " 'month': 0.0,\n",
              " 'os': 0.09987429}"
            ]
          },
          "metadata": {},
          "execution_count": 65
        }
      ]
    },
    {
      "cell_type": "code",
      "metadata": {
        "id": "qSJTQbzdD3VF",
        "colab": {
          "base_uri": "https://localhost:8080/",
          "height": 265
        },
        "outputId": "08ed679c-9118-4888-9458-54102214ee00"
      },
      "source": [
        "# plot feature importance for every column\n",
        "plt.bar(range(len(model.feature_importances_)), model.feature_importances_)\n",
        "plt.show()"
      ],
      "execution_count": 66,
      "outputs": [
        {
          "output_type": "display_data",
          "data": {
            "image/png": "[encoded data removed]",
            "text/plain": [
              "<Figure size 432x288 with 1 Axes>"
            ]
          },
          "metadata": {
            "needs_background": "light"
          }
        }
      ]
    },
    {
      "cell_type": "markdown",
      "metadata": {
        "id": "a8RhPIPsD3VG"
      },
      "source": [
        "## 4.  LightGBM\n",
        "\n",
        "Reference doc: https://lightgbm.readthedocs.io/en/latest/Python-Intro.html\n",
        "\n",
        "Reference video: https://www.youtube.com/watch?v=Ph2nbuhOT04\n",
        "\n",
        "Light GBM is a fast, distributed, high-performance gradient boosting framework based on decision tree algorithm, used for ranking, classification and many other machine learning tasks.\n",
        "\n",
        "Since it is based on decision tree algorithms, it splits the tree leaf wise with the best fit whereas other boosting algorithms split the tree depth wise or level wise rather than leaf-wise. So when growing on the same leaf in Light GBM, the leaf-wise algorithm can reduce more loss than the level-wise algorithm and hence results in much better accuracy which can rarely be achieved by any of the existing boosting algorithms. Also, it is surprisingly very fast, hence the word ‘Light’.\n",
        "\n",
        "**Advantages of Light GBM**\n",
        "\n",
        "1. Faster training speed and higher efficiency: Light GBM use histogram based algorithm i.e it buckets continuous feature values into discrete bins which fasten the training procedure.\n",
        "2. Lower memory usage: Replaces continuous values to discrete bins which result in lower memory usage.\n",
        "3. Better accuracy than any other boosting algorithm: It produces much more complex trees by following leaf wise split approach rather than a level-wise approach which is the main factor in achieving higher accuracy. However, it can sometimes lead to overfitting which can be avoided by setting the max_depth parameter.\n",
        "4. Compatibility with Large Datasets: It is capable of performing equally good with large datasets with a significant reduction in training time as compared to XGBOOST.\n",
        "5. Parallel learning supported.\n",
        "\n",
        "I guess you must have got excited about the advantages of Light GBM. So lets get started with it"
      ]
    },
    {
      "cell_type": "code",
      "metadata": {
        "id": "5StvwjP5D3VG",
        "colab": {
          "base_uri": "https://localhost:8080/"
        },
        "outputId": "baeaf0b6-3ac8-4a2a-94f2-16a18876e34f"
      },
      "source": [
        "# import lightgbm as LGBMClassifier\n",
        "from lightgbm import LGBMClassifier\n",
        "# Instantiate LGBMClassifier with default hyperparameters and random_state=1\n",
        "LGB = LGBMClassifier(random_state = 1)\n",
        " \n",
        "# fit model on training data\n",
        "LGB.fit(X_train, y_train)\n"
      ],
      "execution_count": 67,
      "outputs": [
        {
          "output_type": "execute_result",
          "data": {
            "text/plain": [
              "LGBMClassifier(boosting_type='gbdt', class_weight=None, colsample_bytree=1.0,\n",
              "               importance_type='split', learning_rate=0.1, max_depth=-1,\n",
              "               min_child_samples=20, min_child_weight=0.001, min_split_gain=0.0,\n",
              "               n_estimators=100, n_jobs=-1, num_leaves=31, objective=None,\n",
              "               random_state=1, reg_alpha=0.0, reg_lambda=0.0, silent=True,\n",
              "               subsample=1.0, subsample_for_bin=200000, subsample_freq=0)"
            ]
          },
          "metadata": {},
          "execution_count": 67
        }
      ]
    },
    {
      "cell_type": "code",
      "metadata": {
        "id": "7U6GwUphD3VG",
        "colab": {
          "base_uri": "https://localhost:8080/"
        },
        "outputId": "692e155c-f575-42f2-97eb-c78adbd01d66"
      },
      "source": [
        "# use predict_proba since we need probabilities to compute auc\n",
        "y_pred = LGB.predict_proba(X_test)\n",
        "\n",
        "#print top 10 y_pred result\n",
        "y_pred[:10]"
      ],
      "execution_count": 68,
      "outputs": [
        {
          "output_type": "execute_result",
          "data": {
            "text/plain": [
              "array([[1.00000000e+000, 0.00000000e+000],\n",
              "       [9.99998990e-001, 1.01030903e-006],\n",
              "       [1.00000000e+000, 2.82994650e-030],\n",
              "       [1.00000000e+000, 7.33590054e-049],\n",
              "       [9.99994630e-001, 5.36963442e-006],\n",
              "       [1.15824239e-009, 9.99999999e-001],\n",
              "       [1.00000000e+000, 6.24697059e-143],\n",
              "       [1.00000000e+000, 7.99709263e-127],\n",
              "       [1.00000000e+000, 0.00000000e+000],\n",
              "       [9.99938530e-001, 6.14704228e-005]])"
            ]
          },
          "metadata": {},
          "execution_count": 68
        }
      ]
    },
    {
      "cell_type": "code",
      "metadata": {
        "id": "fTMKpaisD3VG",
        "colab": {
          "base_uri": "https://localhost:8080/"
        },
        "outputId": "85dbf32a-3eb5-4753-fefa-627808ec829b"
      },
      "source": [
        "# evaluate predictions using roc_auc score\n",
        "roc = metrics.roc_auc_score(y_test, y_pred[:, 1])\n",
        "print(\"AUC: %.2f%%\" % (roc * 100.0))"
      ],
      "execution_count": 69,
      "outputs": [
        {
          "output_type": "stream",
          "name": "stdout",
          "text": [
            "AUC: 80.28%\n"
          ]
        }
      ]
    },
    {
      "cell_type": "markdown",
      "metadata": {
        "id": "A83xQgyOD3VH"
      },
      "source": [
        "Now lets tune above model. The exhaustive list of hyperparameters in LightGBM are https://lightgbm.readthedocs.io/en/latest/Parameters-Tuning.html\n",
        "\n",
        "But lets run the LightGBM with previous selected hyperparamters i.e.\n",
        "\n",
        "`'learning_rate': 0.2,\n",
        "'max_depth': 2, \n",
        "'n_estimators':200,\n",
        "'subsample':0.6,\n",
        "'random_state':1`\n",
        "         \n",
        "Lets see if it improves"
      ]
    },
    {
      "cell_type": "code",
      "metadata": {
        "id": "_W1CMCORD3VH",
        "colab": {
          "base_uri": "https://localhost:8080/"
        },
        "outputId": "e7f1ef51-7d74-4948-b402-d3ea2bd54398"
      },
      "source": [
        "# Instantiate XGBClassifier with above parameters\n",
        "LGB = LGBMClassifier(learning_rate=0.2, max_depth=2, n_estimators=200, subsample=0.6, random_state = 1)\n",
        " \n",
        "# fit model on training data\n",
        "LGB.fit(X_train, y_train)\n"
      ],
      "execution_count": 70,
      "outputs": [
        {
          "output_type": "execute_result",
          "data": {
            "text/plain": [
              "LGBMClassifier(boosting_type='gbdt', class_weight=None, colsample_bytree=1.0,\n",
              "               importance_type='split', learning_rate=0.2, max_depth=2,\n",
              "               min_child_samples=20, min_child_weight=0.001, min_split_gain=0.0,\n",
              "               n_estimators=200, n_jobs=-1, num_leaves=31, objective=None,\n",
              "               random_state=1, reg_alpha=0.0, reg_lambda=0.0, silent=True,\n",
              "               subsample=0.6, subsample_for_bin=200000, subsample_freq=0)"
            ]
          },
          "metadata": {},
          "execution_count": 70
        }
      ]
    },
    {
      "cell_type": "code",
      "metadata": {
        "id": "B6PQTjksD3VH",
        "colab": {
          "base_uri": "https://localhost:8080/"
        },
        "outputId": "5544f92d-df1d-458d-aea8-539bed358788"
      },
      "source": [
        "# use predict_proba since we need probabilities to compute auc\n",
        "y_pred = LGB.predict_proba(X_test)\n",
        "\n",
        "# evaluate predictions using roc_auc score\n",
        "roc = metrics.roc_auc_score(y_test, y_pred[:, 1])\n",
        "print(\"AUC: %.2f%%\" % (roc * 100.0))"
      ],
      "execution_count": 71,
      "outputs": [
        {
          "output_type": "stream",
          "name": "stdout",
          "text": [
            "AUC: 73.16%\n"
          ]
        }
      ]
    },
    {
      "cell_type": "markdown",
      "metadata": {
        "id": "XIQE73rfD3VH"
      },
      "source": [
        "Oh man! even after tuning we have got lower AUC score. That's fine let us try our final model which is CatBoost.\n",
        "\n",
        "\n",
        "## 5. CatBoost\n",
        "\n",
        "Reference doc: https://catboost.ai/docs/concepts/python-reference_catboostclassifier.html4\n",
        "\n",
        "Reference video: https://www.youtube.com/watch?v=mUGAA02fGuw\n",
        "\n",
        "\n",
        "CatBoost is a recently open-sourced machine learning algorithm from Yandex. It can easily integrate with deep learning frameworks like Google’s TensorFlow and Apple’s Core ML. It can work with diverse data types to help solve a wide range of problems that businesses face today. To top it up, it provides best-in-class accuracy.\n",
        "\n",
        "It is especially powerful in two ways:\n",
        "\n",
        "It yields state-of-the-art results without extensive data training typically required by other machine learning methods, and\n",
        "Provides powerful out-of-the-box support for the more descriptive data formats that accompany many business problems.\n",
        "“CatBoost” name comes from two words “Category” and “Boosting”.\n",
        "\n",
        "As discussed, the library works well with multiple Categories of data, such as audio, text, image including historical data.\n"
      ]
    },
    {
      "cell_type": "code",
      "metadata": {
        "id": "r9HbDKVxWbGo",
        "outputId": "d0e17b32-2228-41fb-bd17-16fbe104daae",
        "colab": {
          "base_uri": "https://localhost:8080/"
        }
      },
      "source": [
        "!pip install catboost"
      ],
      "execution_count": 74,
      "outputs": [
        {
          "output_type": "stream",
          "name": "stdout",
          "text": [
            "Collecting catboost\n",
            "  Downloading catboost-0.26.1-cp37-none-manylinux1_x86_64.whl (67.4 MB)\n",
            "\u001b[K     |████████████████████████████████| 67.4 MB 27 kB/s \n",
            "\u001b[?25hRequirement already satisfied: scipy in /usr/local/lib/python3.7/dist-packages (from catboost) (1.4.1)\n",
            "Requirement already satisfied: matplotlib in /usr/local/lib/python3.7/dist-packages (from catboost) (3.2.2)\n",
            "Requirement already satisfied: graphviz in /usr/local/lib/python3.7/dist-packages (from catboost) (0.10.1)\n",
            "Requirement already satisfied: six in /usr/local/lib/python3.7/dist-packages (from catboost) (1.15.0)\n",
            "Requirement already satisfied: pandas>=0.24.0 in /usr/local/lib/python3.7/dist-packages (from catboost) (1.1.5)\n",
            "Requirement already satisfied: plotly in /usr/local/lib/python3.7/dist-packages (from catboost) (4.4.1)\n",
            "Requirement already satisfied: numpy>=1.16.0 in /usr/local/lib/python3.7/dist-packages (from catboost) (1.19.5)\n",
            "Requirement already satisfied: python-dateutil>=2.7.3 in /usr/local/lib/python3.7/dist-packages (from pandas>=0.24.0->catboost) (2.8.2)\n",
            "Requirement already satisfied: pytz>=2017.2 in /usr/local/lib/python3.7/dist-packages (from pandas>=0.24.0->catboost) (2018.9)\n",
            "Requirement already satisfied: pyparsing!=2.0.4,!=2.1.2,!=2.1.6,>=2.0.1 in /usr/local/lib/python3.7/dist-packages (from matplotlib->catboost) (2.4.7)\n",
            "Requirement already satisfied: kiwisolver>=1.0.1 in /usr/local/lib/python3.7/dist-packages (from matplotlib->catboost) (1.3.1)\n",
            "Requirement already satisfied: cycler>=0.10 in /usr/local/lib/python3.7/dist-packages (from matplotlib->catboost) (0.10.0)\n",
            "Requirement already satisfied: retrying>=1.3.3 in /usr/local/lib/python3.7/dist-packages (from plotly->catboost) (1.3.3)\n",
            "Installing collected packages: catboost\n",
            "Successfully installed catboost-0.26.1\n"
          ]
        }
      ]
    },
    {
      "cell_type": "code",
      "metadata": {
        "id": "HSk1lnbkD3VI",
        "colab": {
          "base_uri": "https://localhost:8080/"
        },
        "outputId": "89015e0e-9ad6-46dc-b300-0fb76b6689d5"
      },
      "source": [
        "# import CatBoostClassifier\n",
        "from catboost import CatBoostClassifier\n",
        "\n",
        "# Instantiate CatBoostClassifier with default hyperparameters and random_state=1\n",
        "Cat = CatBoostClassifier(random_state = 1)\n",
        " \n",
        "# fit model on training data\n",
        "Cat.fit(X_train, y_train)\n",
        "\n"
      ],
      "execution_count": 75,
      "outputs": [
        {
          "output_type": "stream",
          "name": "stdout",
          "text": [
            "Learning rate set to 0.06692\n",
            "0:\tlearn: 0.5108028\ttotal: 79.5ms\tremaining: 1m 19s\n",
            "1:\tlearn: 0.3708254\ttotal: 108ms\tremaining: 53.9s\n",
            "2:\tlearn: 0.2729352\ttotal: 138ms\tremaining: 45.8s\n",
            "3:\tlearn: 0.2003892\ttotal: 167ms\tremaining: 41.5s\n",
            "4:\tlearn: 0.1526434\ttotal: 201ms\tremaining: 40s\n",
            "5:\tlearn: 0.1183977\ttotal: 231ms\tremaining: 38.2s\n",
            "6:\tlearn: 0.0927923\ttotal: 261ms\tremaining: 37.1s\n",
            "7:\tlearn: 0.0742122\ttotal: 300ms\tremaining: 37.1s\n",
            "8:\tlearn: 0.0609728\ttotal: 329ms\tremaining: 36.2s\n",
            "9:\tlearn: 0.0466541\ttotal: 358ms\tremaining: 35.5s\n",
            "10:\tlearn: 0.0388333\ttotal: 389ms\tremaining: 35s\n",
            "11:\tlearn: 0.0330372\ttotal: 421ms\tremaining: 34.6s\n",
            "12:\tlearn: 0.0289984\ttotal: 450ms\tremaining: 34.2s\n",
            "13:\tlearn: 0.0251513\ttotal: 484ms\tremaining: 34.1s\n",
            "14:\tlearn: 0.0218230\ttotal: 516ms\tremaining: 33.9s\n",
            "15:\tlearn: 0.0197052\ttotal: 548ms\tremaining: 33.7s\n",
            "16:\tlearn: 0.0177425\ttotal: 578ms\tremaining: 33.4s\n",
            "17:\tlearn: 0.0161975\ttotal: 608ms\tremaining: 33.2s\n",
            "18:\tlearn: 0.0151140\ttotal: 641ms\tremaining: 33.1s\n",
            "19:\tlearn: 0.0141314\ttotal: 671ms\tremaining: 32.9s\n",
            "20:\tlearn: 0.0134137\ttotal: 699ms\tremaining: 32.6s\n",
            "21:\tlearn: 0.0129744\ttotal: 731ms\tremaining: 32.5s\n",
            "22:\tlearn: 0.0125400\ttotal: 759ms\tremaining: 32.2s\n",
            "23:\tlearn: 0.0122297\ttotal: 788ms\tremaining: 32s\n",
            "24:\tlearn: 0.0117619\ttotal: 818ms\tremaining: 31.9s\n",
            "25:\tlearn: 0.0115471\ttotal: 850ms\tremaining: 31.8s\n",
            "26:\tlearn: 0.0112226\ttotal: 879ms\tremaining: 31.7s\n",
            "27:\tlearn: 0.0110587\ttotal: 908ms\tremaining: 31.5s\n",
            "28:\tlearn: 0.0109210\ttotal: 937ms\tremaining: 31.4s\n",
            "29:\tlearn: 0.0107922\ttotal: 966ms\tremaining: 31.2s\n",
            "30:\tlearn: 0.0105901\ttotal: 997ms\tremaining: 31.1s\n",
            "31:\tlearn: 0.0104304\ttotal: 1.03s\tremaining: 31s\n",
            "32:\tlearn: 0.0103536\ttotal: 1.06s\tremaining: 31s\n",
            "33:\tlearn: 0.0101801\ttotal: 1.09s\tremaining: 30.9s\n",
            "34:\tlearn: 0.0100705\ttotal: 1.12s\tremaining: 30.8s\n",
            "35:\tlearn: 0.0099823\ttotal: 1.15s\tremaining: 30.7s\n",
            "36:\tlearn: 0.0098446\ttotal: 1.18s\tremaining: 30.6s\n",
            "37:\tlearn: 0.0097340\ttotal: 1.2s\tremaining: 30.5s\n",
            "38:\tlearn: 0.0096519\ttotal: 1.24s\tremaining: 30.4s\n",
            "39:\tlearn: 0.0095521\ttotal: 1.28s\tremaining: 30.8s\n",
            "40:\tlearn: 0.0094819\ttotal: 1.31s\tremaining: 30.7s\n",
            "41:\tlearn: 0.0093858\ttotal: 1.34s\tremaining: 30.6s\n",
            "42:\tlearn: 0.0093093\ttotal: 1.37s\tremaining: 30.6s\n",
            "43:\tlearn: 0.0092455\ttotal: 1.41s\tremaining: 30.5s\n",
            "44:\tlearn: 0.0091828\ttotal: 1.43s\tremaining: 30.4s\n",
            "45:\tlearn: 0.0091273\ttotal: 1.47s\tremaining: 30.6s\n",
            "46:\tlearn: 0.0090537\ttotal: 1.51s\tremaining: 30.5s\n",
            "47:\tlearn: 0.0089776\ttotal: 1.53s\tremaining: 30.4s\n",
            "48:\tlearn: 0.0089210\ttotal: 1.57s\tremaining: 30.5s\n",
            "49:\tlearn: 0.0088434\ttotal: 1.6s\tremaining: 30.5s\n",
            "50:\tlearn: 0.0088058\ttotal: 1.63s\tremaining: 30.4s\n",
            "51:\tlearn: 0.0087514\ttotal: 1.66s\tremaining: 30.3s\n",
            "52:\tlearn: 0.0086978\ttotal: 1.69s\tremaining: 30.3s\n",
            "53:\tlearn: 0.0086274\ttotal: 1.73s\tremaining: 30.3s\n",
            "54:\tlearn: 0.0085737\ttotal: 1.76s\tremaining: 30.2s\n",
            "55:\tlearn: 0.0085429\ttotal: 1.79s\tremaining: 30.2s\n",
            "56:\tlearn: 0.0085053\ttotal: 1.82s\tremaining: 30.1s\n",
            "57:\tlearn: 0.0084538\ttotal: 1.84s\tremaining: 30s\n",
            "58:\tlearn: 0.0084007\ttotal: 1.87s\tremaining: 29.9s\n",
            "59:\tlearn: 0.0083822\ttotal: 1.9s\tremaining: 29.8s\n",
            "60:\tlearn: 0.0083641\ttotal: 1.93s\tremaining: 29.8s\n",
            "61:\tlearn: 0.0083493\ttotal: 1.96s\tremaining: 29.7s\n",
            "62:\tlearn: 0.0083170\ttotal: 1.99s\tremaining: 29.6s\n",
            "63:\tlearn: 0.0082720\ttotal: 2.02s\tremaining: 29.6s\n",
            "64:\tlearn: 0.0082550\ttotal: 2.05s\tremaining: 29.5s\n",
            "65:\tlearn: 0.0082282\ttotal: 2.08s\tremaining: 29.4s\n",
            "66:\tlearn: 0.0082004\ttotal: 2.11s\tremaining: 29.4s\n",
            "67:\tlearn: 0.0081487\ttotal: 2.14s\tremaining: 29.3s\n",
            "68:\tlearn: 0.0081183\ttotal: 2.17s\tremaining: 29.3s\n",
            "69:\tlearn: 0.0080769\ttotal: 2.2s\tremaining: 29.2s\n",
            "70:\tlearn: 0.0080600\ttotal: 2.23s\tremaining: 29.2s\n",
            "71:\tlearn: 0.0080257\ttotal: 2.26s\tremaining: 29.1s\n",
            "72:\tlearn: 0.0079802\ttotal: 2.3s\tremaining: 29.2s\n",
            "73:\tlearn: 0.0079676\ttotal: 2.33s\tremaining: 29.2s\n",
            "74:\tlearn: 0.0079463\ttotal: 2.37s\tremaining: 29.2s\n",
            "75:\tlearn: 0.0077785\ttotal: 2.4s\tremaining: 29.2s\n",
            "76:\tlearn: 0.0077651\ttotal: 2.43s\tremaining: 29.1s\n",
            "77:\tlearn: 0.0077413\ttotal: 2.46s\tremaining: 29s\n",
            "78:\tlearn: 0.0077193\ttotal: 2.48s\tremaining: 29s\n",
            "79:\tlearn: 0.0076033\ttotal: 2.51s\tremaining: 28.9s\n",
            "80:\tlearn: 0.0075887\ttotal: 2.54s\tremaining: 28.9s\n",
            "81:\tlearn: 0.0075738\ttotal: 2.58s\tremaining: 28.8s\n",
            "82:\tlearn: 0.0075378\ttotal: 2.61s\tremaining: 28.8s\n",
            "83:\tlearn: 0.0075154\ttotal: 2.64s\tremaining: 28.8s\n",
            "84:\tlearn: 0.0074783\ttotal: 2.67s\tremaining: 28.7s\n",
            "85:\tlearn: 0.0074473\ttotal: 2.7s\tremaining: 28.7s\n",
            "86:\tlearn: 0.0074205\ttotal: 2.73s\tremaining: 28.6s\n",
            "87:\tlearn: 0.0074158\ttotal: 2.76s\tremaining: 28.6s\n",
            "88:\tlearn: 0.0073881\ttotal: 2.79s\tremaining: 28.5s\n",
            "89:\tlearn: 0.0073676\ttotal: 2.82s\tremaining: 28.5s\n",
            "90:\tlearn: 0.0072608\ttotal: 2.85s\tremaining: 28.4s\n",
            "91:\tlearn: 0.0072483\ttotal: 2.88s\tremaining: 28.4s\n",
            "92:\tlearn: 0.0072291\ttotal: 2.91s\tremaining: 28.4s\n",
            "93:\tlearn: 0.0072193\ttotal: 2.94s\tremaining: 28.3s\n",
            "94:\tlearn: 0.0071045\ttotal: 2.97s\tremaining: 28.3s\n",
            "95:\tlearn: 0.0070043\ttotal: 3s\tremaining: 28.3s\n",
            "96:\tlearn: 0.0069593\ttotal: 3.03s\tremaining: 28.2s\n",
            "97:\tlearn: 0.0069471\ttotal: 3.06s\tremaining: 28.2s\n",
            "98:\tlearn: 0.0069324\ttotal: 3.09s\tremaining: 28.1s\n",
            "99:\tlearn: 0.0069114\ttotal: 3.12s\tremaining: 28.1s\n",
            "100:\tlearn: 0.0068985\ttotal: 3.15s\tremaining: 28s\n",
            "101:\tlearn: 0.0068148\ttotal: 3.17s\tremaining: 27.9s\n",
            "102:\tlearn: 0.0068025\ttotal: 3.21s\tremaining: 27.9s\n",
            "103:\tlearn: 0.0067200\ttotal: 3.23s\tremaining: 27.9s\n",
            "104:\tlearn: 0.0066819\ttotal: 3.27s\tremaining: 27.8s\n",
            "105:\tlearn: 0.0066041\ttotal: 3.31s\tremaining: 27.9s\n",
            "106:\tlearn: 0.0065959\ttotal: 3.33s\tremaining: 27.8s\n",
            "107:\tlearn: 0.0065804\ttotal: 3.36s\tremaining: 27.8s\n",
            "108:\tlearn: 0.0064926\ttotal: 3.4s\tremaining: 27.8s\n",
            "109:\tlearn: 0.0064625\ttotal: 3.44s\tremaining: 27.8s\n",
            "110:\tlearn: 0.0063859\ttotal: 3.47s\tremaining: 27.8s\n",
            "111:\tlearn: 0.0063644\ttotal: 3.5s\tremaining: 27.8s\n",
            "112:\tlearn: 0.0063501\ttotal: 3.53s\tremaining: 27.7s\n",
            "113:\tlearn: 0.0063273\ttotal: 3.56s\tremaining: 27.7s\n",
            "114:\tlearn: 0.0063213\ttotal: 3.59s\tremaining: 27.6s\n",
            "115:\tlearn: 0.0063097\ttotal: 3.62s\tremaining: 27.6s\n",
            "116:\tlearn: 0.0062737\ttotal: 3.65s\tremaining: 27.6s\n",
            "117:\tlearn: 0.0062211\ttotal: 3.68s\tremaining: 27.5s\n",
            "118:\tlearn: 0.0062064\ttotal: 3.71s\tremaining: 27.5s\n",
            "119:\tlearn: 0.0061349\ttotal: 3.75s\tremaining: 27.5s\n",
            "120:\tlearn: 0.0061294\ttotal: 3.77s\tremaining: 27.4s\n",
            "121:\tlearn: 0.0060888\ttotal: 3.8s\tremaining: 27.4s\n",
            "122:\tlearn: 0.0060407\ttotal: 3.83s\tremaining: 27.3s\n",
            "123:\tlearn: 0.0060283\ttotal: 3.86s\tremaining: 27.3s\n",
            "124:\tlearn: 0.0060095\ttotal: 3.89s\tremaining: 27.2s\n",
            "125:\tlearn: 0.0059952\ttotal: 3.92s\tremaining: 27.2s\n",
            "126:\tlearn: 0.0059916\ttotal: 3.95s\tremaining: 27.1s\n",
            "127:\tlearn: 0.0059769\ttotal: 3.98s\tremaining: 27.1s\n",
            "128:\tlearn: 0.0059670\ttotal: 4.01s\tremaining: 27.1s\n",
            "129:\tlearn: 0.0059629\ttotal: 4.04s\tremaining: 27s\n",
            "130:\tlearn: 0.0059335\ttotal: 4.08s\tremaining: 27s\n",
            "131:\tlearn: 0.0059090\ttotal: 4.1s\tremaining: 27s\n",
            "132:\tlearn: 0.0058713\ttotal: 4.13s\tremaining: 26.9s\n",
            "133:\tlearn: 0.0058533\ttotal: 4.16s\tremaining: 26.9s\n",
            "134:\tlearn: 0.0058333\ttotal: 4.19s\tremaining: 26.9s\n",
            "135:\tlearn: 0.0058173\ttotal: 4.22s\tremaining: 26.8s\n",
            "136:\tlearn: 0.0058114\ttotal: 4.25s\tremaining: 26.8s\n",
            "137:\tlearn: 0.0058078\ttotal: 4.29s\tremaining: 26.8s\n",
            "138:\tlearn: 0.0057968\ttotal: 4.32s\tremaining: 26.8s\n",
            "139:\tlearn: 0.0057544\ttotal: 4.35s\tremaining: 26.7s\n",
            "140:\tlearn: 0.0057336\ttotal: 4.38s\tremaining: 26.7s\n",
            "141:\tlearn: 0.0057012\ttotal: 4.42s\tremaining: 26.7s\n",
            "142:\tlearn: 0.0056941\ttotal: 4.44s\tremaining: 26.6s\n",
            "143:\tlearn: 0.0056809\ttotal: 4.47s\tremaining: 26.6s\n",
            "144:\tlearn: 0.0056620\ttotal: 4.51s\tremaining: 26.6s\n",
            "145:\tlearn: 0.0056573\ttotal: 4.54s\tremaining: 26.5s\n",
            "146:\tlearn: 0.0056406\ttotal: 4.57s\tremaining: 26.5s\n",
            "147:\tlearn: 0.0056291\ttotal: 4.59s\tremaining: 26.4s\n",
            "148:\tlearn: 0.0056025\ttotal: 4.62s\tremaining: 26.4s\n",
            "149:\tlearn: 0.0055944\ttotal: 4.65s\tremaining: 26.4s\n",
            "150:\tlearn: 0.0055676\ttotal: 4.68s\tremaining: 26.3s\n",
            "151:\tlearn: 0.0055275\ttotal: 4.72s\tremaining: 26.3s\n",
            "152:\tlearn: 0.0055184\ttotal: 4.75s\tremaining: 26.3s\n",
            "153:\tlearn: 0.0055057\ttotal: 4.78s\tremaining: 26.3s\n",
            "154:\tlearn: 0.0055012\ttotal: 4.81s\tremaining: 26.2s\n",
            "155:\tlearn: 0.0054937\ttotal: 4.83s\tremaining: 26.2s\n",
            "156:\tlearn: 0.0054754\ttotal: 4.86s\tremaining: 26.1s\n",
            "157:\tlearn: 0.0054635\ttotal: 4.89s\tremaining: 26.1s\n",
            "158:\tlearn: 0.0054499\ttotal: 4.92s\tremaining: 26.1s\n",
            "159:\tlearn: 0.0054434\ttotal: 4.95s\tremaining: 26s\n",
            "160:\tlearn: 0.0054409\ttotal: 4.98s\tremaining: 26s\n",
            "161:\tlearn: 0.0054311\ttotal: 5.01s\tremaining: 25.9s\n",
            "162:\tlearn: 0.0054029\ttotal: 5.04s\tremaining: 25.9s\n",
            "163:\tlearn: 0.0053975\ttotal: 5.07s\tremaining: 25.8s\n",
            "164:\tlearn: 0.0053792\ttotal: 5.1s\tremaining: 25.8s\n",
            "165:\tlearn: 0.0053686\ttotal: 5.13s\tremaining: 25.8s\n",
            "166:\tlearn: 0.0053640\ttotal: 5.16s\tremaining: 25.7s\n",
            "167:\tlearn: 0.0053569\ttotal: 5.19s\tremaining: 25.7s\n",
            "168:\tlearn: 0.0053525\ttotal: 5.22s\tremaining: 25.6s\n",
            "169:\tlearn: 0.0053301\ttotal: 5.25s\tremaining: 25.6s\n",
            "170:\tlearn: 0.0053196\ttotal: 5.28s\tremaining: 25.6s\n",
            "171:\tlearn: 0.0053164\ttotal: 5.32s\tremaining: 25.6s\n",
            "172:\tlearn: 0.0053041\ttotal: 5.35s\tremaining: 25.6s\n",
            "173:\tlearn: 0.0053000\ttotal: 5.38s\tremaining: 25.5s\n",
            "174:\tlearn: 0.0052945\ttotal: 5.41s\tremaining: 25.5s\n",
            "175:\tlearn: 0.0052924\ttotal: 5.44s\tremaining: 25.5s\n",
            "176:\tlearn: 0.0052818\ttotal: 5.46s\tremaining: 25.4s\n",
            "177:\tlearn: 0.0052787\ttotal: 5.49s\tremaining: 25.4s\n",
            "178:\tlearn: 0.0052750\ttotal: 5.52s\tremaining: 25.3s\n",
            "179:\tlearn: 0.0052540\ttotal: 5.55s\tremaining: 25.3s\n",
            "180:\tlearn: 0.0052486\ttotal: 5.58s\tremaining: 25.3s\n",
            "181:\tlearn: 0.0052357\ttotal: 5.61s\tremaining: 25.2s\n",
            "182:\tlearn: 0.0052318\ttotal: 5.64s\tremaining: 25.2s\n",
            "183:\tlearn: 0.0052201\ttotal: 5.67s\tremaining: 25.1s\n",
            "184:\tlearn: 0.0052170\ttotal: 5.7s\tremaining: 25.1s\n",
            "185:\tlearn: 0.0052096\ttotal: 5.73s\tremaining: 25.1s\n",
            "186:\tlearn: 0.0052065\ttotal: 5.76s\tremaining: 25s\n",
            "187:\tlearn: 0.0051915\ttotal: 5.79s\tremaining: 25s\n",
            "188:\tlearn: 0.0051899\ttotal: 5.82s\tremaining: 25s\n",
            "189:\tlearn: 0.0051873\ttotal: 5.85s\tremaining: 24.9s\n",
            "190:\tlearn: 0.0051833\ttotal: 5.88s\tremaining: 24.9s\n",
            "191:\tlearn: 0.0051813\ttotal: 5.91s\tremaining: 24.9s\n",
            "192:\tlearn: 0.0051777\ttotal: 5.93s\tremaining: 24.8s\n",
            "193:\tlearn: 0.0051525\ttotal: 5.97s\tremaining: 24.8s\n",
            "194:\tlearn: 0.0051392\ttotal: 6s\tremaining: 24.8s\n",
            "195:\tlearn: 0.0051247\ttotal: 6.03s\tremaining: 24.7s\n",
            "196:\tlearn: 0.0051176\ttotal: 6.05s\tremaining: 24.7s\n",
            "197:\tlearn: 0.0051075\ttotal: 6.08s\tremaining: 24.6s\n",
            "198:\tlearn: 0.0050893\ttotal: 6.11s\tremaining: 24.6s\n",
            "199:\tlearn: 0.0050861\ttotal: 6.14s\tremaining: 24.6s\n",
            "200:\tlearn: 0.0050838\ttotal: 6.17s\tremaining: 24.5s\n",
            "201:\tlearn: 0.0050717\ttotal: 6.2s\tremaining: 24.5s\n",
            "202:\tlearn: 0.0050698\ttotal: 6.23s\tremaining: 24.5s\n",
            "203:\tlearn: 0.0050643\ttotal: 6.26s\tremaining: 24.4s\n",
            "204:\tlearn: 0.0050620\ttotal: 6.3s\tremaining: 24.4s\n",
            "205:\tlearn: 0.0050605\ttotal: 6.33s\tremaining: 24.4s\n",
            "206:\tlearn: 0.0050413\ttotal: 6.36s\tremaining: 24.4s\n",
            "207:\tlearn: 0.0050293\ttotal: 6.39s\tremaining: 24.3s\n",
            "208:\tlearn: 0.0050136\ttotal: 6.42s\tremaining: 24.3s\n",
            "209:\tlearn: 0.0050123\ttotal: 6.45s\tremaining: 24.3s\n",
            "210:\tlearn: 0.0050105\ttotal: 6.48s\tremaining: 24.2s\n",
            "211:\tlearn: 0.0049978\ttotal: 6.51s\tremaining: 24.2s\n",
            "212:\tlearn: 0.0049966\ttotal: 6.53s\tremaining: 24.1s\n",
            "213:\tlearn: 0.0049942\ttotal: 6.56s\tremaining: 24.1s\n",
            "214:\tlearn: 0.0049854\ttotal: 6.58s\tremaining: 24s\n",
            "215:\tlearn: 0.0049818\ttotal: 6.62s\tremaining: 24s\n",
            "216:\tlearn: 0.0049708\ttotal: 6.65s\tremaining: 24s\n",
            "217:\tlearn: 0.0049694\ttotal: 6.68s\tremaining: 24s\n",
            "218:\tlearn: 0.0049537\ttotal: 6.71s\tremaining: 23.9s\n",
            "219:\tlearn: 0.0049515\ttotal: 6.74s\tremaining: 23.9s\n",
            "220:\tlearn: 0.0049391\ttotal: 6.78s\tremaining: 23.9s\n",
            "221:\tlearn: 0.0049280\ttotal: 6.8s\tremaining: 23.8s\n",
            "222:\tlearn: 0.0049178\ttotal: 6.84s\tremaining: 23.8s\n",
            "223:\tlearn: 0.0049138\ttotal: 6.87s\tremaining: 23.8s\n",
            "224:\tlearn: 0.0049116\ttotal: 6.89s\tremaining: 23.7s\n",
            "225:\tlearn: 0.0049068\ttotal: 6.92s\tremaining: 23.7s\n",
            "226:\tlearn: 0.0049049\ttotal: 6.95s\tremaining: 23.7s\n",
            "227:\tlearn: 0.0048944\ttotal: 6.98s\tremaining: 23.6s\n",
            "228:\tlearn: 0.0048927\ttotal: 7.01s\tremaining: 23.6s\n",
            "229:\tlearn: 0.0048847\ttotal: 7.04s\tremaining: 23.6s\n",
            "230:\tlearn: 0.0048698\ttotal: 7.07s\tremaining: 23.5s\n",
            "231:\tlearn: 0.0048620\ttotal: 7.12s\tremaining: 23.6s\n",
            "232:\tlearn: 0.0048575\ttotal: 7.15s\tremaining: 23.5s\n",
            "233:\tlearn: 0.0048489\ttotal: 7.17s\tremaining: 23.5s\n",
            "234:\tlearn: 0.0048393\ttotal: 7.2s\tremaining: 23.4s\n",
            "235:\tlearn: 0.0048376\ttotal: 7.23s\tremaining: 23.4s\n",
            "236:\tlearn: 0.0048263\ttotal: 7.26s\tremaining: 23.4s\n",
            "237:\tlearn: 0.0048249\ttotal: 7.3s\tremaining: 23.4s\n",
            "238:\tlearn: 0.0048232\ttotal: 7.33s\tremaining: 23.3s\n",
            "239:\tlearn: 0.0048085\ttotal: 7.36s\tremaining: 23.3s\n",
            "240:\tlearn: 0.0048007\ttotal: 7.39s\tremaining: 23.3s\n",
            "241:\tlearn: 0.0047802\ttotal: 7.42s\tremaining: 23.3s\n",
            "242:\tlearn: 0.0047705\ttotal: 7.45s\tremaining: 23.2s\n",
            "243:\tlearn: 0.0047472\ttotal: 7.49s\tremaining: 23.2s\n",
            "244:\tlearn: 0.0047402\ttotal: 7.51s\tremaining: 23.2s\n",
            "245:\tlearn: 0.0047354\ttotal: 7.54s\tremaining: 23.1s\n",
            "246:\tlearn: 0.0047340\ttotal: 7.57s\tremaining: 23.1s\n",
            "247:\tlearn: 0.0047268\ttotal: 7.6s\tremaining: 23s\n",
            "248:\tlearn: 0.0047207\ttotal: 7.63s\tremaining: 23s\n",
            "249:\tlearn: 0.0047166\ttotal: 7.66s\tremaining: 23s\n",
            "250:\tlearn: 0.0047084\ttotal: 7.69s\tremaining: 23s\n",
            "251:\tlearn: 0.0047049\ttotal: 7.72s\tremaining: 22.9s\n",
            "252:\tlearn: 0.0047014\ttotal: 7.75s\tremaining: 22.9s\n",
            "253:\tlearn: 0.0046997\ttotal: 7.78s\tremaining: 22.8s\n",
            "254:\tlearn: 0.0046922\ttotal: 7.81s\tremaining: 22.8s\n",
            "255:\tlearn: 0.0046778\ttotal: 7.84s\tremaining: 22.8s\n",
            "256:\tlearn: 0.0046645\ttotal: 7.87s\tremaining: 22.7s\n",
            "257:\tlearn: 0.0046512\ttotal: 7.9s\tremaining: 22.7s\n",
            "258:\tlearn: 0.0046463\ttotal: 7.93s\tremaining: 22.7s\n",
            "259:\tlearn: 0.0046434\ttotal: 7.96s\tremaining: 22.6s\n",
            "260:\tlearn: 0.0046380\ttotal: 7.99s\tremaining: 22.6s\n",
            "261:\tlearn: 0.0046268\ttotal: 8.02s\tremaining: 22.6s\n",
            "262:\tlearn: 0.0046188\ttotal: 8.05s\tremaining: 22.6s\n",
            "263:\tlearn: 0.0046123\ttotal: 8.08s\tremaining: 22.5s\n",
            "264:\tlearn: 0.0046098\ttotal: 8.11s\tremaining: 22.5s\n",
            "265:\tlearn: 0.0045957\ttotal: 8.14s\tremaining: 22.5s\n",
            "266:\tlearn: 0.0045906\ttotal: 8.17s\tremaining: 22.4s\n",
            "267:\tlearn: 0.0045861\ttotal: 8.2s\tremaining: 22.4s\n",
            "268:\tlearn: 0.0045680\ttotal: 8.23s\tremaining: 22.4s\n",
            "269:\tlearn: 0.0045640\ttotal: 8.26s\tremaining: 22.3s\n",
            "270:\tlearn: 0.0045558\ttotal: 8.29s\tremaining: 22.3s\n",
            "271:\tlearn: 0.0045538\ttotal: 8.33s\tremaining: 22.3s\n",
            "272:\tlearn: 0.0045476\ttotal: 8.36s\tremaining: 22.3s\n",
            "273:\tlearn: 0.0045379\ttotal: 8.38s\tremaining: 22.2s\n",
            "274:\tlearn: 0.0045269\ttotal: 8.41s\tremaining: 22.2s\n",
            "275:\tlearn: 0.0045230\ttotal: 8.44s\tremaining: 22.2s\n",
            "276:\tlearn: 0.0045208\ttotal: 8.47s\tremaining: 22.1s\n",
            "277:\tlearn: 0.0045165\ttotal: 8.5s\tremaining: 22.1s\n",
            "278:\tlearn: 0.0045105\ttotal: 8.53s\tremaining: 22.1s\n",
            "279:\tlearn: 0.0044934\ttotal: 8.57s\tremaining: 22s\n",
            "280:\tlearn: 0.0044795\ttotal: 8.6s\tremaining: 22s\n",
            "281:\tlearn: 0.0044754\ttotal: 8.62s\tremaining: 22s\n",
            "282:\tlearn: 0.0044623\ttotal: 8.65s\tremaining: 21.9s\n",
            "283:\tlearn: 0.0044478\ttotal: 8.68s\tremaining: 21.9s\n",
            "284:\tlearn: 0.0044453\ttotal: 8.71s\tremaining: 21.9s\n",
            "285:\tlearn: 0.0044398\ttotal: 8.74s\tremaining: 21.8s\n",
            "286:\tlearn: 0.0044314\ttotal: 8.77s\tremaining: 21.8s\n",
            "287:\tlearn: 0.0044234\ttotal: 8.8s\tremaining: 21.8s\n",
            "288:\tlearn: 0.0044179\ttotal: 8.83s\tremaining: 21.7s\n",
            "289:\tlearn: 0.0044147\ttotal: 8.86s\tremaining: 21.7s\n",
            "290:\tlearn: 0.0044042\ttotal: 8.88s\tremaining: 21.6s\n",
            "291:\tlearn: 0.0043876\ttotal: 8.91s\tremaining: 21.6s\n",
            "292:\tlearn: 0.0043726\ttotal: 8.95s\tremaining: 21.6s\n",
            "293:\tlearn: 0.0043617\ttotal: 8.97s\tremaining: 21.6s\n",
            "294:\tlearn: 0.0043501\ttotal: 9s\tremaining: 21.5s\n",
            "295:\tlearn: 0.0043234\ttotal: 9.03s\tremaining: 21.5s\n",
            "296:\tlearn: 0.0043213\ttotal: 9.06s\tremaining: 21.4s\n",
            "297:\tlearn: 0.0043159\ttotal: 9.09s\tremaining: 21.4s\n",
            "298:\tlearn: 0.0043122\ttotal: 9.12s\tremaining: 21.4s\n",
            "299:\tlearn: 0.0043030\ttotal: 9.16s\tremaining: 21.4s\n",
            "300:\tlearn: 0.0043010\ttotal: 9.19s\tremaining: 21.3s\n",
            "301:\tlearn: 0.0042990\ttotal: 9.22s\tremaining: 21.3s\n",
            "302:\tlearn: 0.0042869\ttotal: 9.24s\tremaining: 21.3s\n",
            "303:\tlearn: 0.0042850\ttotal: 9.27s\tremaining: 21.2s\n",
            "304:\tlearn: 0.0042815\ttotal: 9.31s\tremaining: 21.2s\n",
            "305:\tlearn: 0.0042744\ttotal: 9.34s\tremaining: 21.2s\n",
            "306:\tlearn: 0.0042697\ttotal: 9.37s\tremaining: 21.2s\n",
            "307:\tlearn: 0.0042618\ttotal: 9.4s\tremaining: 21.1s\n",
            "308:\tlearn: 0.0042525\ttotal: 9.43s\tremaining: 21.1s\n",
            "309:\tlearn: 0.0042425\ttotal: 9.46s\tremaining: 21.1s\n",
            "310:\tlearn: 0.0042350\ttotal: 9.49s\tremaining: 21s\n",
            "311:\tlearn: 0.0042181\ttotal: 9.52s\tremaining: 21s\n",
            "312:\tlearn: 0.0042147\ttotal: 9.54s\tremaining: 21s\n",
            "313:\tlearn: 0.0042008\ttotal: 9.58s\tremaining: 20.9s\n",
            "314:\tlearn: 0.0041936\ttotal: 9.61s\tremaining: 20.9s\n",
            "315:\tlearn: 0.0041905\ttotal: 9.64s\tremaining: 20.9s\n",
            "316:\tlearn: 0.0041875\ttotal: 9.67s\tremaining: 20.8s\n",
            "317:\tlearn: 0.0041787\ttotal: 9.7s\tremaining: 20.8s\n",
            "318:\tlearn: 0.0041755\ttotal: 9.73s\tremaining: 20.8s\n",
            "319:\tlearn: 0.0041735\ttotal: 9.76s\tremaining: 20.7s\n",
            "320:\tlearn: 0.0041632\ttotal: 9.79s\tremaining: 20.7s\n",
            "321:\tlearn: 0.0041523\ttotal: 9.82s\tremaining: 20.7s\n",
            "322:\tlearn: 0.0041434\ttotal: 9.85s\tremaining: 20.6s\n",
            "323:\tlearn: 0.0041394\ttotal: 9.87s\tremaining: 20.6s\n",
            "324:\tlearn: 0.0041304\ttotal: 9.9s\tremaining: 20.6s\n",
            "325:\tlearn: 0.0041230\ttotal: 9.93s\tremaining: 20.5s\n",
            "326:\tlearn: 0.0041213\ttotal: 9.96s\tremaining: 20.5s\n",
            "327:\tlearn: 0.0041204\ttotal: 9.99s\tremaining: 20.5s\n",
            "328:\tlearn: 0.0041153\ttotal: 10s\tremaining: 20.4s\n",
            "329:\tlearn: 0.0041094\ttotal: 10.1s\tremaining: 20.4s\n",
            "330:\tlearn: 0.0041079\ttotal: 10.1s\tremaining: 20.4s\n",
            "331:\tlearn: 0.0040915\ttotal: 10.1s\tremaining: 20.3s\n",
            "332:\tlearn: 0.0040904\ttotal: 10.1s\tremaining: 20.3s\n",
            "333:\tlearn: 0.0040816\ttotal: 10.2s\tremaining: 20.3s\n",
            "334:\tlearn: 0.0040790\ttotal: 10.2s\tremaining: 20.3s\n",
            "335:\tlearn: 0.0040736\ttotal: 10.2s\tremaining: 20.2s\n",
            "336:\tlearn: 0.0040709\ttotal: 10.3s\tremaining: 20.2s\n",
            "337:\tlearn: 0.0040601\ttotal: 10.3s\tremaining: 20.2s\n",
            "338:\tlearn: 0.0040585\ttotal: 10.3s\tremaining: 20.1s\n",
            "339:\tlearn: 0.0040543\ttotal: 10.4s\tremaining: 20.1s\n",
            "340:\tlearn: 0.0040513\ttotal: 10.4s\tremaining: 20.1s\n",
            "341:\tlearn: 0.0040422\ttotal: 10.4s\tremaining: 20.1s\n",
            "342:\tlearn: 0.0040351\ttotal: 10.5s\tremaining: 20s\n",
            "343:\tlearn: 0.0040333\ttotal: 10.5s\tremaining: 20s\n",
            "344:\tlearn: 0.0040302\ttotal: 10.5s\tremaining: 20s\n",
            "345:\tlearn: 0.0040246\ttotal: 10.5s\tremaining: 19.9s\n",
            "346:\tlearn: 0.0040143\ttotal: 10.6s\tremaining: 19.9s\n",
            "347:\tlearn: 0.0040066\ttotal: 10.6s\tremaining: 19.9s\n",
            "348:\tlearn: 0.0040008\ttotal: 10.6s\tremaining: 19.9s\n",
            "349:\tlearn: 0.0039979\ttotal: 10.7s\tremaining: 19.8s\n",
            "350:\tlearn: 0.0039843\ttotal: 10.7s\tremaining: 19.8s\n",
            "351:\tlearn: 0.0039824\ttotal: 10.7s\tremaining: 19.8s\n",
            "352:\tlearn: 0.0039797\ttotal: 10.8s\tremaining: 19.7s\n",
            "353:\tlearn: 0.0039769\ttotal: 10.8s\tremaining: 19.7s\n",
            "354:\tlearn: 0.0039672\ttotal: 10.8s\tremaining: 19.7s\n",
            "355:\tlearn: 0.0039646\ttotal: 10.9s\tremaining: 19.6s\n",
            "356:\tlearn: 0.0039600\ttotal: 10.9s\tremaining: 19.6s\n",
            "357:\tlearn: 0.0039588\ttotal: 10.9s\tremaining: 19.6s\n",
            "358:\tlearn: 0.0039485\ttotal: 10.9s\tremaining: 19.6s\n",
            "359:\tlearn: 0.0039451\ttotal: 11s\tremaining: 19.5s\n",
            "360:\tlearn: 0.0039429\ttotal: 11s\tremaining: 19.5s\n",
            "361:\tlearn: 0.0039340\ttotal: 11s\tremaining: 19.5s\n",
            "362:\tlearn: 0.0039293\ttotal: 11.1s\tremaining: 19.4s\n",
            "363:\tlearn: 0.0039284\ttotal: 11.1s\tremaining: 19.4s\n",
            "364:\tlearn: 0.0039196\ttotal: 11.1s\tremaining: 19.4s\n",
            "365:\tlearn: 0.0039044\ttotal: 11.2s\tremaining: 19.3s\n",
            "366:\tlearn: 0.0038965\ttotal: 11.2s\tremaining: 19.3s\n",
            "367:\tlearn: 0.0038941\ttotal: 11.2s\tremaining: 19.3s\n",
            "368:\tlearn: 0.0038931\ttotal: 11.2s\tremaining: 19.2s\n",
            "369:\tlearn: 0.0038916\ttotal: 11.3s\tremaining: 19.2s\n",
            "370:\tlearn: 0.0038816\ttotal: 11.3s\tremaining: 19.2s\n",
            "371:\tlearn: 0.0038807\ttotal: 11.3s\tremaining: 19.2s\n",
            "372:\tlearn: 0.0038778\ttotal: 11.4s\tremaining: 19.1s\n",
            "373:\tlearn: 0.0038726\ttotal: 11.4s\tremaining: 19.1s\n",
            "374:\tlearn: 0.0038697\ttotal: 11.4s\tremaining: 19.1s\n",
            "375:\tlearn: 0.0038653\ttotal: 11.5s\tremaining: 19s\n",
            "376:\tlearn: 0.0038640\ttotal: 11.5s\tremaining: 19s\n",
            "377:\tlearn: 0.0038426\ttotal: 11.5s\tremaining: 19s\n",
            "378:\tlearn: 0.0038407\ttotal: 11.6s\tremaining: 18.9s\n",
            "379:\tlearn: 0.0038385\ttotal: 11.6s\tremaining: 18.9s\n",
            "380:\tlearn: 0.0038277\ttotal: 11.6s\tremaining: 18.9s\n",
            "381:\tlearn: 0.0038263\ttotal: 11.6s\tremaining: 18.8s\n",
            "382:\tlearn: 0.0038257\ttotal: 11.7s\tremaining: 18.8s\n",
            "383:\tlearn: 0.0038141\ttotal: 11.7s\tremaining: 18.8s\n",
            "384:\tlearn: 0.0038113\ttotal: 11.7s\tremaining: 18.8s\n",
            "385:\tlearn: 0.0038106\ttotal: 11.8s\tremaining: 18.7s\n",
            "386:\tlearn: 0.0038017\ttotal: 11.8s\tremaining: 18.7s\n",
            "387:\tlearn: 0.0037940\ttotal: 11.8s\tremaining: 18.7s\n",
            "388:\tlearn: 0.0037922\ttotal: 11.9s\tremaining: 18.6s\n",
            "389:\tlearn: 0.0037899\ttotal: 11.9s\tremaining: 18.6s\n",
            "390:\tlearn: 0.0037823\ttotal: 11.9s\tremaining: 18.6s\n",
            "391:\tlearn: 0.0037797\ttotal: 11.9s\tremaining: 18.5s\n",
            "392:\tlearn: 0.0037765\ttotal: 12s\tremaining: 18.5s\n",
            "393:\tlearn: 0.0037672\ttotal: 12s\tremaining: 18.5s\n",
            "394:\tlearn: 0.0037660\ttotal: 12s\tremaining: 18.4s\n",
            "395:\tlearn: 0.0037647\ttotal: 12.1s\tremaining: 18.4s\n",
            "396:\tlearn: 0.0037539\ttotal: 12.1s\tremaining: 18.4s\n",
            "397:\tlearn: 0.0037447\ttotal: 12.1s\tremaining: 18.3s\n",
            "398:\tlearn: 0.0037389\ttotal: 12.2s\tremaining: 18.3s\n",
            "399:\tlearn: 0.0037356\ttotal: 12.2s\tremaining: 18.3s\n",
            "400:\tlearn: 0.0037342\ttotal: 12.2s\tremaining: 18.2s\n",
            "401:\tlearn: 0.0037260\ttotal: 12.2s\tremaining: 18.2s\n",
            "402:\tlearn: 0.0037230\ttotal: 12.3s\tremaining: 18.2s\n",
            "403:\tlearn: 0.0037187\ttotal: 12.3s\tremaining: 18.2s\n",
            "404:\tlearn: 0.0037089\ttotal: 12.3s\tremaining: 18.1s\n",
            "405:\tlearn: 0.0037040\ttotal: 12.4s\tremaining: 18.1s\n",
            "406:\tlearn: 0.0037021\ttotal: 12.4s\tremaining: 18.1s\n",
            "407:\tlearn: 0.0036994\ttotal: 12.4s\tremaining: 18.1s\n",
            "408:\tlearn: 0.0036978\ttotal: 12.5s\tremaining: 18s\n",
            "409:\tlearn: 0.0036867\ttotal: 12.5s\tremaining: 18s\n",
            "410:\tlearn: 0.0036752\ttotal: 12.5s\tremaining: 18s\n",
            "411:\tlearn: 0.0036727\ttotal: 12.6s\tremaining: 17.9s\n",
            "412:\tlearn: 0.0036617\ttotal: 12.6s\tremaining: 17.9s\n",
            "413:\tlearn: 0.0036592\ttotal: 12.6s\tremaining: 17.9s\n",
            "414:\tlearn: 0.0036546\ttotal: 12.7s\tremaining: 17.8s\n",
            "415:\tlearn: 0.0036528\ttotal: 12.7s\tremaining: 17.8s\n",
            "416:\tlearn: 0.0036378\ttotal: 12.7s\tremaining: 17.8s\n",
            "417:\tlearn: 0.0036363\ttotal: 12.7s\tremaining: 17.7s\n",
            "418:\tlearn: 0.0036336\ttotal: 12.8s\tremaining: 17.7s\n",
            "419:\tlearn: 0.0036321\ttotal: 12.8s\tremaining: 17.7s\n",
            "420:\tlearn: 0.0036249\ttotal: 12.8s\tremaining: 17.6s\n",
            "421:\tlearn: 0.0036232\ttotal: 12.9s\tremaining: 17.6s\n",
            "422:\tlearn: 0.0036202\ttotal: 12.9s\tremaining: 17.6s\n",
            "423:\tlearn: 0.0036191\ttotal: 12.9s\tremaining: 17.6s\n",
            "424:\tlearn: 0.0036176\ttotal: 12.9s\tremaining: 17.5s\n",
            "425:\tlearn: 0.0036166\ttotal: 13s\tremaining: 17.5s\n",
            "426:\tlearn: 0.0036157\ttotal: 13s\tremaining: 17.5s\n",
            "427:\tlearn: 0.0036136\ttotal: 13s\tremaining: 17.4s\n",
            "428:\tlearn: 0.0036085\ttotal: 13.1s\tremaining: 17.4s\n",
            "429:\tlearn: 0.0036078\ttotal: 13.1s\tremaining: 17.4s\n",
            "430:\tlearn: 0.0035975\ttotal: 13.1s\tremaining: 17.3s\n",
            "431:\tlearn: 0.0035884\ttotal: 13.2s\tremaining: 17.3s\n",
            "432:\tlearn: 0.0035865\ttotal: 13.2s\tremaining: 17.3s\n",
            "433:\tlearn: 0.0035824\ttotal: 13.2s\tremaining: 17.2s\n",
            "434:\tlearn: 0.0035782\ttotal: 13.2s\tremaining: 17.2s\n",
            "435:\tlearn: 0.0035772\ttotal: 13.3s\tremaining: 17.2s\n",
            "436:\tlearn: 0.0035689\ttotal: 13.3s\tremaining: 17.1s\n",
            "437:\tlearn: 0.0035645\ttotal: 13.3s\tremaining: 17.1s\n",
            "438:\tlearn: 0.0035459\ttotal: 13.4s\tremaining: 17.1s\n",
            "439:\tlearn: 0.0035444\ttotal: 13.4s\tremaining: 17.1s\n",
            "440:\tlearn: 0.0035397\ttotal: 13.4s\tremaining: 17s\n",
            "441:\tlearn: 0.0035392\ttotal: 13.5s\tremaining: 17s\n",
            "442:\tlearn: 0.0035385\ttotal: 13.5s\tremaining: 17s\n",
            "443:\tlearn: 0.0035344\ttotal: 13.5s\tremaining: 16.9s\n",
            "444:\tlearn: 0.0035297\ttotal: 13.6s\tremaining: 16.9s\n",
            "445:\tlearn: 0.0035276\ttotal: 13.6s\tremaining: 16.9s\n",
            "446:\tlearn: 0.0035272\ttotal: 13.6s\tremaining: 16.8s\n",
            "447:\tlearn: 0.0035086\ttotal: 13.6s\tremaining: 16.8s\n",
            "448:\tlearn: 0.0035069\ttotal: 13.7s\tremaining: 16.8s\n",
            "449:\tlearn: 0.0035009\ttotal: 13.7s\tremaining: 16.8s\n",
            "450:\tlearn: 0.0034970\ttotal: 13.7s\tremaining: 16.7s\n",
            "451:\tlearn: 0.0034956\ttotal: 13.8s\tremaining: 16.7s\n",
            "452:\tlearn: 0.0034882\ttotal: 13.8s\tremaining: 16.7s\n",
            "453:\tlearn: 0.0034861\ttotal: 13.8s\tremaining: 16.6s\n",
            "454:\tlearn: 0.0034839\ttotal: 13.9s\tremaining: 16.6s\n",
            "455:\tlearn: 0.0034766\ttotal: 13.9s\tremaining: 16.6s\n",
            "456:\tlearn: 0.0034649\ttotal: 13.9s\tremaining: 16.5s\n",
            "457:\tlearn: 0.0034555\ttotal: 14s\tremaining: 16.5s\n",
            "458:\tlearn: 0.0034548\ttotal: 14s\tremaining: 16.5s\n",
            "459:\tlearn: 0.0034528\ttotal: 14s\tremaining: 16.4s\n",
            "460:\tlearn: 0.0034498\ttotal: 14s\tremaining: 16.4s\n",
            "461:\tlearn: 0.0034476\ttotal: 14.1s\tremaining: 16.4s\n",
            "462:\tlearn: 0.0034445\ttotal: 14.1s\tremaining: 16.4s\n",
            "463:\tlearn: 0.0034397\ttotal: 14.1s\tremaining: 16.3s\n",
            "464:\tlearn: 0.0034381\ttotal: 14.2s\tremaining: 16.3s\n",
            "465:\tlearn: 0.0034374\ttotal: 14.2s\tremaining: 16.3s\n",
            "466:\tlearn: 0.0034348\ttotal: 14.2s\tremaining: 16.2s\n",
            "467:\tlearn: 0.0034290\ttotal: 14.3s\tremaining: 16.2s\n",
            "468:\tlearn: 0.0034229\ttotal: 14.3s\tremaining: 16.2s\n",
            "469:\tlearn: 0.0034192\ttotal: 14.3s\tremaining: 16.2s\n",
            "470:\tlearn: 0.0034185\ttotal: 14.4s\tremaining: 16.1s\n",
            "471:\tlearn: 0.0034152\ttotal: 14.4s\tremaining: 16.1s\n",
            "472:\tlearn: 0.0034146\ttotal: 14.4s\tremaining: 16.1s\n",
            "473:\tlearn: 0.0034119\ttotal: 14.5s\tremaining: 16s\n",
            "474:\tlearn: 0.0034106\ttotal: 14.5s\tremaining: 16s\n",
            "475:\tlearn: 0.0034101\ttotal: 14.5s\tremaining: 16s\n",
            "476:\tlearn: 0.0034095\ttotal: 14.5s\tremaining: 15.9s\n",
            "477:\tlearn: 0.0034047\ttotal: 14.6s\tremaining: 15.9s\n",
            "478:\tlearn: 0.0033960\ttotal: 14.6s\tremaining: 15.9s\n",
            "479:\tlearn: 0.0033759\ttotal: 14.6s\tremaining: 15.9s\n",
            "480:\tlearn: 0.0033747\ttotal: 14.7s\tremaining: 15.8s\n",
            "481:\tlearn: 0.0033639\ttotal: 14.7s\tremaining: 15.8s\n",
            "482:\tlearn: 0.0033549\ttotal: 14.7s\tremaining: 15.8s\n",
            "483:\tlearn: 0.0033518\ttotal: 14.8s\tremaining: 15.7s\n",
            "484:\tlearn: 0.0033486\ttotal: 14.8s\tremaining: 15.7s\n",
            "485:\tlearn: 0.0033305\ttotal: 14.8s\tremaining: 15.7s\n",
            "486:\tlearn: 0.0033274\ttotal: 14.8s\tremaining: 15.6s\n",
            "487:\tlearn: 0.0033248\ttotal: 14.9s\tremaining: 15.6s\n",
            "488:\tlearn: 0.0033208\ttotal: 14.9s\tremaining: 15.6s\n",
            "489:\tlearn: 0.0033118\ttotal: 14.9s\tremaining: 15.5s\n",
            "490:\tlearn: 0.0033105\ttotal: 15s\tremaining: 15.5s\n",
            "491:\tlearn: 0.0033083\ttotal: 15s\tremaining: 15.5s\n",
            "492:\tlearn: 0.0033050\ttotal: 15s\tremaining: 15.5s\n",
            "493:\tlearn: 0.0033011\ttotal: 15.1s\tremaining: 15.4s\n",
            "494:\tlearn: 0.0032972\ttotal: 15.1s\tremaining: 15.4s\n",
            "495:\tlearn: 0.0032955\ttotal: 15.1s\tremaining: 15.4s\n",
            "496:\tlearn: 0.0032782\ttotal: 15.2s\tremaining: 15.3s\n",
            "497:\tlearn: 0.0032697\ttotal: 15.2s\tremaining: 15.3s\n",
            "498:\tlearn: 0.0032686\ttotal: 15.2s\tremaining: 15.3s\n",
            "499:\tlearn: 0.0032636\ttotal: 15.2s\tremaining: 15.2s\n",
            "500:\tlearn: 0.0032537\ttotal: 15.3s\tremaining: 15.2s\n",
            "501:\tlearn: 0.0032461\ttotal: 15.3s\tremaining: 15.2s\n",
            "502:\tlearn: 0.0032300\ttotal: 15.3s\tremaining: 15.2s\n",
            "503:\tlearn: 0.0032225\ttotal: 15.4s\tremaining: 15.1s\n",
            "504:\tlearn: 0.0032145\ttotal: 15.4s\tremaining: 15.1s\n",
            "505:\tlearn: 0.0032107\ttotal: 15.4s\tremaining: 15.1s\n",
            "506:\tlearn: 0.0031986\ttotal: 15.5s\tremaining: 15s\n",
            "507:\tlearn: 0.0031962\ttotal: 15.5s\tremaining: 15s\n",
            "508:\tlearn: 0.0031854\ttotal: 15.5s\tremaining: 15s\n",
            "509:\tlearn: 0.0031830\ttotal: 15.6s\tremaining: 15s\n",
            "510:\tlearn: 0.0031806\ttotal: 15.6s\tremaining: 14.9s\n",
            "511:\tlearn: 0.0031768\ttotal: 15.6s\tremaining: 14.9s\n",
            "512:\tlearn: 0.0031726\ttotal: 15.7s\tremaining: 14.9s\n",
            "513:\tlearn: 0.0031610\ttotal: 15.7s\tremaining: 14.8s\n",
            "514:\tlearn: 0.0031465\ttotal: 15.7s\tremaining: 14.8s\n",
            "515:\tlearn: 0.0031403\ttotal: 15.7s\tremaining: 14.8s\n",
            "516:\tlearn: 0.0031371\ttotal: 15.8s\tremaining: 14.7s\n",
            "517:\tlearn: 0.0031351\ttotal: 15.8s\tremaining: 14.7s\n",
            "518:\tlearn: 0.0031316\ttotal: 15.8s\tremaining: 14.7s\n",
            "519:\tlearn: 0.0031284\ttotal: 15.9s\tremaining: 14.6s\n",
            "520:\tlearn: 0.0031215\ttotal: 15.9s\tremaining: 14.6s\n",
            "521:\tlearn: 0.0031194\ttotal: 15.9s\tremaining: 14.6s\n",
            "522:\tlearn: 0.0031177\ttotal: 15.9s\tremaining: 14.5s\n",
            "523:\tlearn: 0.0031151\ttotal: 16s\tremaining: 14.5s\n",
            "524:\tlearn: 0.0031120\ttotal: 16s\tremaining: 14.5s\n",
            "525:\tlearn: 0.0030996\ttotal: 16s\tremaining: 14.4s\n",
            "526:\tlearn: 0.0030951\ttotal: 16.1s\tremaining: 14.4s\n",
            "527:\tlearn: 0.0030891\ttotal: 16.1s\tremaining: 14.4s\n",
            "528:\tlearn: 0.0030832\ttotal: 16.1s\tremaining: 14.4s\n",
            "529:\tlearn: 0.0030770\ttotal: 16.2s\tremaining: 14.3s\n",
            "530:\tlearn: 0.0030705\ttotal: 16.2s\tremaining: 14.3s\n",
            "531:\tlearn: 0.0030582\ttotal: 16.2s\tremaining: 14.3s\n",
            "532:\tlearn: 0.0030525\ttotal: 16.3s\tremaining: 14.2s\n",
            "533:\tlearn: 0.0030365\ttotal: 16.3s\tremaining: 14.2s\n",
            "534:\tlearn: 0.0030340\ttotal: 16.3s\tremaining: 14.2s\n",
            "535:\tlearn: 0.0030326\ttotal: 16.4s\tremaining: 14.2s\n",
            "536:\tlearn: 0.0030244\ttotal: 16.4s\tremaining: 14.1s\n",
            "537:\tlearn: 0.0030212\ttotal: 16.4s\tremaining: 14.1s\n",
            "538:\tlearn: 0.0030165\ttotal: 16.4s\tremaining: 14.1s\n",
            "539:\tlearn: 0.0030159\ttotal: 16.5s\tremaining: 14s\n",
            "540:\tlearn: 0.0030107\ttotal: 16.5s\tremaining: 14s\n",
            "541:\tlearn: 0.0030001\ttotal: 16.5s\tremaining: 14s\n",
            "542:\tlearn: 0.0029950\ttotal: 16.6s\tremaining: 13.9s\n",
            "543:\tlearn: 0.0029917\ttotal: 16.6s\tremaining: 13.9s\n",
            "544:\tlearn: 0.0029869\ttotal: 16.6s\tremaining: 13.9s\n",
            "545:\tlearn: 0.0029833\ttotal: 16.7s\tremaining: 13.9s\n",
            "546:\tlearn: 0.0029809\ttotal: 16.7s\tremaining: 13.8s\n",
            "547:\tlearn: 0.0029779\ttotal: 16.7s\tremaining: 13.8s\n",
            "548:\tlearn: 0.0029759\ttotal: 16.7s\tremaining: 13.8s\n",
            "549:\tlearn: 0.0029670\ttotal: 16.8s\tremaining: 13.7s\n",
            "550:\tlearn: 0.0029637\ttotal: 16.8s\tremaining: 13.7s\n",
            "551:\tlearn: 0.0029568\ttotal: 16.9s\tremaining: 13.7s\n",
            "552:\tlearn: 0.0029457\ttotal: 16.9s\tremaining: 13.7s\n",
            "553:\tlearn: 0.0029442\ttotal: 16.9s\tremaining: 13.6s\n",
            "554:\tlearn: 0.0029396\ttotal: 16.9s\tremaining: 13.6s\n",
            "555:\tlearn: 0.0029388\ttotal: 17s\tremaining: 13.6s\n",
            "556:\tlearn: 0.0029376\ttotal: 17s\tremaining: 13.5s\n",
            "557:\tlearn: 0.0029329\ttotal: 17s\tremaining: 13.5s\n",
            "558:\tlearn: 0.0029326\ttotal: 17.1s\tremaining: 13.5s\n",
            "559:\tlearn: 0.0029220\ttotal: 17.1s\tremaining: 13.4s\n",
            "560:\tlearn: 0.0029156\ttotal: 17.1s\tremaining: 13.4s\n",
            "561:\tlearn: 0.0029092\ttotal: 17.2s\tremaining: 13.4s\n",
            "562:\tlearn: 0.0029068\ttotal: 17.2s\tremaining: 13.3s\n",
            "563:\tlearn: 0.0028938\ttotal: 17.2s\tremaining: 13.3s\n",
            "564:\tlearn: 0.0028934\ttotal: 17.2s\tremaining: 13.3s\n",
            "565:\tlearn: 0.0028876\ttotal: 17.3s\tremaining: 13.2s\n",
            "566:\tlearn: 0.0028836\ttotal: 17.3s\tremaining: 13.2s\n",
            "567:\tlearn: 0.0028831\ttotal: 17.3s\tremaining: 13.2s\n",
            "568:\tlearn: 0.0028805\ttotal: 17.4s\tremaining: 13.2s\n",
            "569:\tlearn: 0.0028735\ttotal: 17.4s\tremaining: 13.1s\n",
            "570:\tlearn: 0.0028716\ttotal: 17.4s\tremaining: 13.1s\n",
            "571:\tlearn: 0.0028675\ttotal: 17.5s\tremaining: 13.1s\n",
            "572:\tlearn: 0.0028662\ttotal: 17.5s\tremaining: 13s\n",
            "573:\tlearn: 0.0028637\ttotal: 17.5s\tremaining: 13s\n",
            "574:\tlearn: 0.0028469\ttotal: 17.6s\tremaining: 13s\n",
            "575:\tlearn: 0.0028455\ttotal: 17.6s\tremaining: 12.9s\n",
            "576:\tlearn: 0.0028326\ttotal: 17.6s\tremaining: 12.9s\n",
            "577:\tlearn: 0.0028295\ttotal: 17.7s\tremaining: 12.9s\n",
            "578:\tlearn: 0.0028269\ttotal: 17.7s\tremaining: 12.9s\n",
            "579:\tlearn: 0.0028257\ttotal: 17.7s\tremaining: 12.8s\n",
            "580:\tlearn: 0.0028204\ttotal: 17.8s\tremaining: 12.8s\n",
            "581:\tlearn: 0.0028165\ttotal: 17.8s\tremaining: 12.8s\n",
            "582:\tlearn: 0.0028124\ttotal: 17.8s\tremaining: 12.7s\n",
            "583:\tlearn: 0.0028112\ttotal: 17.9s\tremaining: 12.7s\n",
            "584:\tlearn: 0.0028083\ttotal: 17.9s\tremaining: 12.7s\n",
            "585:\tlearn: 0.0028049\ttotal: 17.9s\tremaining: 12.7s\n",
            "586:\tlearn: 0.0028026\ttotal: 17.9s\tremaining: 12.6s\n",
            "587:\tlearn: 0.0028005\ttotal: 18s\tremaining: 12.6s\n",
            "588:\tlearn: 0.0027976\ttotal: 18s\tremaining: 12.6s\n",
            "589:\tlearn: 0.0027852\ttotal: 18s\tremaining: 12.5s\n",
            "590:\tlearn: 0.0027820\ttotal: 18.1s\tremaining: 12.5s\n",
            "591:\tlearn: 0.0027744\ttotal: 18.1s\tremaining: 12.5s\n",
            "592:\tlearn: 0.0027668\ttotal: 18.1s\tremaining: 12.4s\n",
            "593:\tlearn: 0.0027597\ttotal: 18.2s\tremaining: 12.4s\n",
            "594:\tlearn: 0.0027580\ttotal: 18.2s\tremaining: 12.4s\n",
            "595:\tlearn: 0.0027541\ttotal: 18.2s\tremaining: 12.3s\n",
            "596:\tlearn: 0.0027491\ttotal: 18.2s\tremaining: 12.3s\n",
            "597:\tlearn: 0.0027463\ttotal: 18.3s\tremaining: 12.3s\n",
            "598:\tlearn: 0.0027434\ttotal: 18.3s\tremaining: 12.2s\n",
            "599:\tlearn: 0.0027399\ttotal: 18.3s\tremaining: 12.2s\n",
            "600:\tlearn: 0.0027349\ttotal: 18.4s\tremaining: 12.2s\n",
            "601:\tlearn: 0.0027330\ttotal: 18.4s\tremaining: 12.2s\n",
            "602:\tlearn: 0.0027315\ttotal: 18.4s\tremaining: 12.1s\n",
            "603:\tlearn: 0.0027298\ttotal: 18.5s\tremaining: 12.1s\n",
            "604:\tlearn: 0.0027294\ttotal: 18.5s\tremaining: 12.1s\n",
            "605:\tlearn: 0.0027157\ttotal: 18.5s\tremaining: 12s\n",
            "606:\tlearn: 0.0027132\ttotal: 18.6s\tremaining: 12s\n",
            "607:\tlearn: 0.0027040\ttotal: 18.6s\tremaining: 12s\n",
            "608:\tlearn: 0.0027015\ttotal: 18.6s\tremaining: 11.9s\n",
            "609:\tlearn: 0.0026981\ttotal: 18.6s\tremaining: 11.9s\n",
            "610:\tlearn: 0.0026978\ttotal: 18.7s\tremaining: 11.9s\n",
            "611:\tlearn: 0.0026961\ttotal: 18.7s\tremaining: 11.9s\n",
            "612:\tlearn: 0.0026891\ttotal: 18.7s\tremaining: 11.8s\n",
            "613:\tlearn: 0.0026888\ttotal: 18.8s\tremaining: 11.8s\n",
            "614:\tlearn: 0.0026867\ttotal: 18.8s\tremaining: 11.8s\n",
            "615:\tlearn: 0.0026826\ttotal: 18.8s\tremaining: 11.7s\n",
            "616:\tlearn: 0.0026801\ttotal: 18.9s\tremaining: 11.7s\n",
            "617:\tlearn: 0.0026769\ttotal: 18.9s\tremaining: 11.7s\n",
            "618:\tlearn: 0.0026758\ttotal: 18.9s\tremaining: 11.6s\n",
            "619:\tlearn: 0.0026711\ttotal: 18.9s\tremaining: 11.6s\n",
            "620:\tlearn: 0.0026699\ttotal: 19s\tremaining: 11.6s\n",
            "621:\tlearn: 0.0026688\ttotal: 19s\tremaining: 11.5s\n",
            "622:\tlearn: 0.0026657\ttotal: 19s\tremaining: 11.5s\n",
            "623:\tlearn: 0.0026651\ttotal: 19.1s\tremaining: 11.5s\n",
            "624:\tlearn: 0.0026607\ttotal: 19.1s\tremaining: 11.5s\n",
            "625:\tlearn: 0.0026552\ttotal: 19.1s\tremaining: 11.4s\n",
            "626:\tlearn: 0.0026529\ttotal: 19.1s\tremaining: 11.4s\n",
            "627:\tlearn: 0.0026482\ttotal: 19.2s\tremaining: 11.4s\n",
            "628:\tlearn: 0.0026463\ttotal: 19.2s\tremaining: 11.3s\n",
            "629:\tlearn: 0.0026412\ttotal: 19.2s\tremaining: 11.3s\n",
            "630:\tlearn: 0.0026322\ttotal: 19.3s\tremaining: 11.3s\n",
            "631:\tlearn: 0.0026307\ttotal: 19.3s\tremaining: 11.2s\n",
            "632:\tlearn: 0.0026283\ttotal: 19.3s\tremaining: 11.2s\n",
            "633:\tlearn: 0.0026280\ttotal: 19.4s\tremaining: 11.2s\n",
            "634:\tlearn: 0.0026240\ttotal: 19.4s\tremaining: 11.2s\n",
            "635:\tlearn: 0.0026203\ttotal: 19.4s\tremaining: 11.1s\n",
            "636:\tlearn: 0.0026147\ttotal: 19.5s\tremaining: 11.1s\n",
            "637:\tlearn: 0.0026128\ttotal: 19.5s\tremaining: 11.1s\n",
            "638:\tlearn: 0.0026092\ttotal: 19.5s\tremaining: 11s\n",
            "639:\tlearn: 0.0026063\ttotal: 19.6s\tremaining: 11s\n",
            "640:\tlearn: 0.0026023\ttotal: 19.6s\tremaining: 11s\n",
            "641:\tlearn: 0.0025917\ttotal: 19.6s\tremaining: 10.9s\n",
            "642:\tlearn: 0.0025891\ttotal: 19.7s\tremaining: 10.9s\n",
            "643:\tlearn: 0.0025874\ttotal: 19.7s\tremaining: 10.9s\n",
            "644:\tlearn: 0.0025839\ttotal: 19.7s\tremaining: 10.8s\n",
            "645:\tlearn: 0.0025818\ttotal: 19.7s\tremaining: 10.8s\n",
            "646:\tlearn: 0.0025756\ttotal: 19.8s\tremaining: 10.8s\n",
            "647:\tlearn: 0.0025722\ttotal: 19.8s\tremaining: 10.8s\n",
            "648:\tlearn: 0.0025704\ttotal: 19.8s\tremaining: 10.7s\n",
            "649:\tlearn: 0.0025651\ttotal: 19.9s\tremaining: 10.7s\n",
            "650:\tlearn: 0.0025629\ttotal: 19.9s\tremaining: 10.7s\n",
            "651:\tlearn: 0.0025626\ttotal: 19.9s\tremaining: 10.6s\n",
            "652:\tlearn: 0.0025595\ttotal: 19.9s\tremaining: 10.6s\n",
            "653:\tlearn: 0.0025533\ttotal: 20s\tremaining: 10.6s\n",
            "654:\tlearn: 0.0025511\ttotal: 20s\tremaining: 10.5s\n",
            "655:\tlearn: 0.0025466\ttotal: 20s\tremaining: 10.5s\n",
            "656:\tlearn: 0.0025389\ttotal: 20.1s\tremaining: 10.5s\n",
            "657:\tlearn: 0.0025342\ttotal: 20.1s\tremaining: 10.4s\n",
            "658:\tlearn: 0.0025336\ttotal: 20.1s\tremaining: 10.4s\n",
            "659:\tlearn: 0.0025299\ttotal: 20.2s\tremaining: 10.4s\n",
            "660:\tlearn: 0.0025270\ttotal: 20.2s\tremaining: 10.4s\n",
            "661:\tlearn: 0.0025239\ttotal: 20.2s\tremaining: 10.3s\n",
            "662:\tlearn: 0.0025233\ttotal: 20.3s\tremaining: 10.3s\n",
            "663:\tlearn: 0.0025225\ttotal: 20.3s\tremaining: 10.3s\n",
            "664:\tlearn: 0.0025170\ttotal: 20.3s\tremaining: 10.2s\n",
            "665:\tlearn: 0.0025159\ttotal: 20.4s\tremaining: 10.2s\n",
            "666:\tlearn: 0.0025147\ttotal: 20.4s\tremaining: 10.2s\n",
            "667:\tlearn: 0.0025137\ttotal: 20.4s\tremaining: 10.1s\n",
            "668:\tlearn: 0.0025114\ttotal: 20.4s\tremaining: 10.1s\n",
            "669:\tlearn: 0.0025112\ttotal: 20.5s\tremaining: 10.1s\n",
            "670:\tlearn: 0.0025097\ttotal: 20.5s\tremaining: 10.1s\n",
            "671:\tlearn: 0.0025007\ttotal: 20.5s\tremaining: 10s\n",
            "672:\tlearn: 0.0024969\ttotal: 20.6s\tremaining: 9.99s\n",
            "673:\tlearn: 0.0024925\ttotal: 20.6s\tremaining: 9.96s\n",
            "674:\tlearn: 0.0024899\ttotal: 20.6s\tremaining: 9.93s\n",
            "675:\tlearn: 0.0024857\ttotal: 20.6s\tremaining: 9.9s\n",
            "676:\tlearn: 0.0024806\ttotal: 20.7s\tremaining: 9.87s\n",
            "677:\tlearn: 0.0024748\ttotal: 20.7s\tremaining: 9.84s\n",
            "678:\tlearn: 0.0024712\ttotal: 20.7s\tremaining: 9.81s\n",
            "679:\tlearn: 0.0024697\ttotal: 20.8s\tremaining: 9.78s\n",
            "680:\tlearn: 0.0024673\ttotal: 20.8s\tremaining: 9.74s\n",
            "681:\tlearn: 0.0024671\ttotal: 20.8s\tremaining: 9.71s\n",
            "682:\tlearn: 0.0024661\ttotal: 20.9s\tremaining: 9.68s\n",
            "683:\tlearn: 0.0024647\ttotal: 20.9s\tremaining: 9.65s\n",
            "684:\tlearn: 0.0024644\ttotal: 20.9s\tremaining: 9.62s\n",
            "685:\tlearn: 0.0024616\ttotal: 21s\tremaining: 9.59s\n",
            "686:\tlearn: 0.0024597\ttotal: 21s\tremaining: 9.56s\n",
            "687:\tlearn: 0.0024563\ttotal: 21s\tremaining: 9.53s\n",
            "688:\tlearn: 0.0024560\ttotal: 21s\tremaining: 9.5s\n",
            "689:\tlearn: 0.0024556\ttotal: 21.1s\tremaining: 9.47s\n",
            "690:\tlearn: 0.0024496\ttotal: 21.1s\tremaining: 9.44s\n",
            "691:\tlearn: 0.0024487\ttotal: 21.1s\tremaining: 9.41s\n",
            "692:\tlearn: 0.0024465\ttotal: 21.2s\tremaining: 9.38s\n",
            "693:\tlearn: 0.0024421\ttotal: 21.2s\tremaining: 9.35s\n",
            "694:\tlearn: 0.0024387\ttotal: 21.2s\tremaining: 9.32s\n",
            "695:\tlearn: 0.0024360\ttotal: 21.3s\tremaining: 9.29s\n",
            "696:\tlearn: 0.0024339\ttotal: 21.3s\tremaining: 9.26s\n",
            "697:\tlearn: 0.0024335\ttotal: 21.3s\tremaining: 9.23s\n",
            "698:\tlearn: 0.0024331\ttotal: 21.4s\tremaining: 9.2s\n",
            "699:\tlearn: 0.0024320\ttotal: 21.4s\tremaining: 9.17s\n",
            "700:\tlearn: 0.0024317\ttotal: 21.4s\tremaining: 9.14s\n",
            "701:\tlearn: 0.0024298\ttotal: 21.4s\tremaining: 9.1s\n",
            "702:\tlearn: 0.0024244\ttotal: 21.5s\tremaining: 9.08s\n",
            "703:\tlearn: 0.0024208\ttotal: 21.5s\tremaining: 9.04s\n",
            "704:\tlearn: 0.0024203\ttotal: 21.5s\tremaining: 9.02s\n",
            "705:\tlearn: 0.0024188\ttotal: 21.6s\tremaining: 8.98s\n",
            "706:\tlearn: 0.0024104\ttotal: 21.6s\tremaining: 8.95s\n",
            "707:\tlearn: 0.0024062\ttotal: 21.6s\tremaining: 8.92s\n",
            "708:\tlearn: 0.0024060\ttotal: 21.7s\tremaining: 8.89s\n",
            "709:\tlearn: 0.0024029\ttotal: 21.7s\tremaining: 8.86s\n",
            "710:\tlearn: 0.0024020\ttotal: 21.7s\tremaining: 8.83s\n",
            "711:\tlearn: 0.0024010\ttotal: 21.8s\tremaining: 8.8s\n",
            "712:\tlearn: 0.0023983\ttotal: 21.8s\tremaining: 8.77s\n",
            "713:\tlearn: 0.0023981\ttotal: 21.8s\tremaining: 8.74s\n",
            "714:\tlearn: 0.0023973\ttotal: 21.8s\tremaining: 8.71s\n",
            "715:\tlearn: 0.0023970\ttotal: 21.9s\tremaining: 8.68s\n",
            "716:\tlearn: 0.0023941\ttotal: 21.9s\tremaining: 8.64s\n",
            "717:\tlearn: 0.0023932\ttotal: 21.9s\tremaining: 8.61s\n",
            "718:\tlearn: 0.0023910\ttotal: 22s\tremaining: 8.58s\n",
            "719:\tlearn: 0.0023878\ttotal: 22s\tremaining: 8.55s\n",
            "720:\tlearn: 0.0023870\ttotal: 22s\tremaining: 8.52s\n",
            "721:\tlearn: 0.0023867\ttotal: 22s\tremaining: 8.49s\n",
            "722:\tlearn: 0.0023832\ttotal: 22.1s\tremaining: 8.46s\n",
            "723:\tlearn: 0.0023802\ttotal: 22.1s\tremaining: 8.43s\n",
            "724:\tlearn: 0.0023800\ttotal: 22.1s\tremaining: 8.4s\n",
            "725:\tlearn: 0.0023763\ttotal: 22.2s\tremaining: 8.37s\n",
            "726:\tlearn: 0.0023722\ttotal: 22.2s\tremaining: 8.34s\n",
            "727:\tlearn: 0.0023718\ttotal: 22.2s\tremaining: 8.31s\n",
            "728:\tlearn: 0.0023716\ttotal: 22.3s\tremaining: 8.28s\n",
            "729:\tlearn: 0.0023679\ttotal: 22.3s\tremaining: 8.24s\n",
            "730:\tlearn: 0.0023677\ttotal: 22.3s\tremaining: 8.21s\n",
            "731:\tlearn: 0.0023639\ttotal: 22.4s\tremaining: 8.19s\n",
            "732:\tlearn: 0.0023633\ttotal: 22.4s\tremaining: 8.16s\n",
            "733:\tlearn: 0.0023605\ttotal: 22.4s\tremaining: 8.13s\n",
            "734:\tlearn: 0.0023603\ttotal: 22.5s\tremaining: 8.09s\n",
            "735:\tlearn: 0.0023569\ttotal: 22.5s\tremaining: 8.06s\n",
            "736:\tlearn: 0.0023534\ttotal: 22.5s\tremaining: 8.03s\n",
            "737:\tlearn: 0.0023488\ttotal: 22.5s\tremaining: 8s\n",
            "738:\tlearn: 0.0023449\ttotal: 22.6s\tremaining: 7.97s\n",
            "739:\tlearn: 0.0023438\ttotal: 22.6s\tremaining: 7.94s\n",
            "740:\tlearn: 0.0023411\ttotal: 22.6s\tremaining: 7.91s\n",
            "741:\tlearn: 0.0023353\ttotal: 22.7s\tremaining: 7.88s\n",
            "742:\tlearn: 0.0023313\ttotal: 22.7s\tremaining: 7.85s\n",
            "743:\tlearn: 0.0023243\ttotal: 22.7s\tremaining: 7.82s\n",
            "744:\tlearn: 0.0023196\ttotal: 22.8s\tremaining: 7.79s\n",
            "745:\tlearn: 0.0023171\ttotal: 22.8s\tremaining: 7.76s\n",
            "746:\tlearn: 0.0023148\ttotal: 22.8s\tremaining: 7.73s\n",
            "747:\tlearn: 0.0023142\ttotal: 22.8s\tremaining: 7.7s\n",
            "748:\tlearn: 0.0023127\ttotal: 22.9s\tremaining: 7.67s\n",
            "749:\tlearn: 0.0023122\ttotal: 22.9s\tremaining: 7.63s\n",
            "750:\tlearn: 0.0023109\ttotal: 22.9s\tremaining: 7.6s\n",
            "751:\tlearn: 0.0023080\ttotal: 23s\tremaining: 7.57s\n",
            "752:\tlearn: 0.0023042\ttotal: 23s\tremaining: 7.54s\n",
            "753:\tlearn: 0.0022978\ttotal: 23s\tremaining: 7.51s\n",
            "754:\tlearn: 0.0022921\ttotal: 23.1s\tremaining: 7.48s\n",
            "755:\tlearn: 0.0022905\ttotal: 23.1s\tremaining: 7.45s\n",
            "756:\tlearn: 0.0022863\ttotal: 23.1s\tremaining: 7.42s\n",
            "757:\tlearn: 0.0022858\ttotal: 23.2s\tremaining: 7.39s\n",
            "758:\tlearn: 0.0022853\ttotal: 23.2s\tremaining: 7.36s\n",
            "759:\tlearn: 0.0022847\ttotal: 23.2s\tremaining: 7.33s\n",
            "760:\tlearn: 0.0022814\ttotal: 23.2s\tremaining: 7.3s\n",
            "761:\tlearn: 0.0022756\ttotal: 23.3s\tremaining: 7.27s\n",
            "762:\tlearn: 0.0022737\ttotal: 23.3s\tremaining: 7.24s\n",
            "763:\tlearn: 0.0022719\ttotal: 23.3s\tremaining: 7.21s\n",
            "764:\tlearn: 0.0022667\ttotal: 23.4s\tremaining: 7.18s\n",
            "765:\tlearn: 0.0022647\ttotal: 23.4s\tremaining: 7.15s\n",
            "766:\tlearn: 0.0022644\ttotal: 23.4s\tremaining: 7.12s\n",
            "767:\tlearn: 0.0022642\ttotal: 23.5s\tremaining: 7.09s\n",
            "768:\tlearn: 0.0022621\ttotal: 23.5s\tremaining: 7.06s\n",
            "769:\tlearn: 0.0022618\ttotal: 23.5s\tremaining: 7.03s\n",
            "770:\tlearn: 0.0022602\ttotal: 23.6s\tremaining: 7s\n",
            "771:\tlearn: 0.0022568\ttotal: 23.6s\tremaining: 6.96s\n",
            "772:\tlearn: 0.0022552\ttotal: 23.6s\tremaining: 6.93s\n",
            "773:\tlearn: 0.0022537\ttotal: 23.6s\tremaining: 6.9s\n",
            "774:\tlearn: 0.0022467\ttotal: 23.7s\tremaining: 6.87s\n",
            "775:\tlearn: 0.0022460\ttotal: 23.7s\tremaining: 6.84s\n",
            "776:\tlearn: 0.0022458\ttotal: 23.7s\tremaining: 6.81s\n",
            "777:\tlearn: 0.0022446\ttotal: 23.8s\tremaining: 6.78s\n",
            "778:\tlearn: 0.0022399\ttotal: 23.8s\tremaining: 6.75s\n",
            "779:\tlearn: 0.0022376\ttotal: 23.8s\tremaining: 6.72s\n",
            "780:\tlearn: 0.0022335\ttotal: 23.8s\tremaining: 6.69s\n",
            "781:\tlearn: 0.0022287\ttotal: 23.9s\tremaining: 6.66s\n",
            "782:\tlearn: 0.0022218\ttotal: 23.9s\tremaining: 6.63s\n",
            "783:\tlearn: 0.0022166\ttotal: 23.9s\tremaining: 6.6s\n",
            "784:\tlearn: 0.0022152\ttotal: 24s\tremaining: 6.57s\n",
            "785:\tlearn: 0.0022138\ttotal: 24s\tremaining: 6.53s\n",
            "786:\tlearn: 0.0022112\ttotal: 24s\tremaining: 6.5s\n",
            "787:\tlearn: 0.0022067\ttotal: 24.1s\tremaining: 6.47s\n",
            "788:\tlearn: 0.0022059\ttotal: 24.1s\tremaining: 6.44s\n",
            "789:\tlearn: 0.0022031\ttotal: 24.1s\tremaining: 6.41s\n",
            "790:\tlearn: 0.0022028\ttotal: 24.1s\tremaining: 6.38s\n",
            "791:\tlearn: 0.0021991\ttotal: 24.2s\tremaining: 6.35s\n",
            "792:\tlearn: 0.0021967\ttotal: 24.2s\tremaining: 6.32s\n",
            "793:\tlearn: 0.0021914\ttotal: 24.2s\tremaining: 6.29s\n",
            "794:\tlearn: 0.0021870\ttotal: 24.3s\tremaining: 6.26s\n",
            "795:\tlearn: 0.0021835\ttotal: 24.3s\tremaining: 6.23s\n",
            "796:\tlearn: 0.0021831\ttotal: 24.3s\tremaining: 6.2s\n",
            "797:\tlearn: 0.0021829\ttotal: 24.4s\tremaining: 6.17s\n",
            "798:\tlearn: 0.0021808\ttotal: 24.4s\tremaining: 6.14s\n",
            "799:\tlearn: 0.0021805\ttotal: 24.4s\tremaining: 6.11s\n",
            "800:\tlearn: 0.0021778\ttotal: 24.5s\tremaining: 6.08s\n",
            "801:\tlearn: 0.0021775\ttotal: 24.5s\tremaining: 6.05s\n",
            "802:\tlearn: 0.0021761\ttotal: 24.5s\tremaining: 6.02s\n",
            "803:\tlearn: 0.0021758\ttotal: 24.6s\tremaining: 5.99s\n",
            "804:\tlearn: 0.0021745\ttotal: 24.6s\tremaining: 5.96s\n",
            "805:\tlearn: 0.0021648\ttotal: 24.6s\tremaining: 5.93s\n",
            "806:\tlearn: 0.0021646\ttotal: 24.6s\tremaining: 5.89s\n",
            "807:\tlearn: 0.0021642\ttotal: 24.7s\tremaining: 5.86s\n",
            "808:\tlearn: 0.0021595\ttotal: 24.7s\tremaining: 5.83s\n",
            "809:\tlearn: 0.0021570\ttotal: 24.7s\tremaining: 5.8s\n",
            "810:\tlearn: 0.0021555\ttotal: 24.8s\tremaining: 5.77s\n",
            "811:\tlearn: 0.0021519\ttotal: 24.8s\tremaining: 5.74s\n",
            "812:\tlearn: 0.0021507\ttotal: 24.8s\tremaining: 5.71s\n",
            "813:\tlearn: 0.0021463\ttotal: 24.9s\tremaining: 5.68s\n",
            "814:\tlearn: 0.0021430\ttotal: 24.9s\tremaining: 5.65s\n",
            "815:\tlearn: 0.0021424\ttotal: 24.9s\tremaining: 5.62s\n",
            "816:\tlearn: 0.0021422\ttotal: 25s\tremaining: 5.59s\n",
            "817:\tlearn: 0.0021394\ttotal: 25s\tremaining: 5.56s\n",
            "818:\tlearn: 0.0021363\ttotal: 25s\tremaining: 5.53s\n",
            "819:\tlearn: 0.0021342\ttotal: 25.1s\tremaining: 5.5s\n",
            "820:\tlearn: 0.0021256\ttotal: 25.1s\tremaining: 5.47s\n",
            "821:\tlearn: 0.0021231\ttotal: 25.1s\tremaining: 5.45s\n",
            "822:\tlearn: 0.0021228\ttotal: 25.2s\tremaining: 5.42s\n",
            "823:\tlearn: 0.0021200\ttotal: 25.2s\tremaining: 5.38s\n",
            "824:\tlearn: 0.0021186\ttotal: 25.2s\tremaining: 5.35s\n",
            "825:\tlearn: 0.0021160\ttotal: 25.3s\tremaining: 5.32s\n",
            "826:\tlearn: 0.0021138\ttotal: 25.3s\tremaining: 5.29s\n",
            "827:\tlearn: 0.0021134\ttotal: 25.3s\tremaining: 5.26s\n",
            "828:\tlearn: 0.0021125\ttotal: 25.4s\tremaining: 5.24s\n",
            "829:\tlearn: 0.0021118\ttotal: 25.4s\tremaining: 5.21s\n",
            "830:\tlearn: 0.0021097\ttotal: 25.4s\tremaining: 5.17s\n",
            "831:\tlearn: 0.0021081\ttotal: 25.5s\tremaining: 5.14s\n",
            "832:\tlearn: 0.0021063\ttotal: 25.5s\tremaining: 5.11s\n",
            "833:\tlearn: 0.0021046\ttotal: 25.5s\tremaining: 5.08s\n",
            "834:\tlearn: 0.0021019\ttotal: 25.6s\tremaining: 5.05s\n",
            "835:\tlearn: 0.0021008\ttotal: 25.6s\tremaining: 5.02s\n",
            "836:\tlearn: 0.0020967\ttotal: 25.6s\tremaining: 4.99s\n",
            "837:\tlearn: 0.0020966\ttotal: 25.7s\tremaining: 4.96s\n",
            "838:\tlearn: 0.0020948\ttotal: 25.7s\tremaining: 4.93s\n",
            "839:\tlearn: 0.0020944\ttotal: 25.7s\tremaining: 4.9s\n",
            "840:\tlearn: 0.0020941\ttotal: 25.8s\tremaining: 4.87s\n",
            "841:\tlearn: 0.0020926\ttotal: 25.8s\tremaining: 4.84s\n",
            "842:\tlearn: 0.0020903\ttotal: 25.8s\tremaining: 4.81s\n",
            "843:\tlearn: 0.0020886\ttotal: 25.8s\tremaining: 4.78s\n",
            "844:\tlearn: 0.0020869\ttotal: 25.9s\tremaining: 4.75s\n",
            "845:\tlearn: 0.0020854\ttotal: 25.9s\tremaining: 4.71s\n",
            "846:\tlearn: 0.0020843\ttotal: 25.9s\tremaining: 4.68s\n",
            "847:\tlearn: 0.0020827\ttotal: 26s\tremaining: 4.65s\n",
            "848:\tlearn: 0.0020807\ttotal: 26s\tremaining: 4.62s\n",
            "849:\tlearn: 0.0020785\ttotal: 26s\tremaining: 4.59s\n",
            "850:\tlearn: 0.0020779\ttotal: 26.1s\tremaining: 4.56s\n",
            "851:\tlearn: 0.0020775\ttotal: 26.1s\tremaining: 4.53s\n",
            "852:\tlearn: 0.0020751\ttotal: 26.1s\tremaining: 4.5s\n",
            "853:\tlearn: 0.0020721\ttotal: 26.1s\tremaining: 4.47s\n",
            "854:\tlearn: 0.0020675\ttotal: 26.2s\tremaining: 4.44s\n",
            "855:\tlearn: 0.0020666\ttotal: 26.2s\tremaining: 4.41s\n",
            "856:\tlearn: 0.0020652\ttotal: 26.2s\tremaining: 4.38s\n",
            "857:\tlearn: 0.0020628\ttotal: 26.3s\tremaining: 4.35s\n",
            "858:\tlearn: 0.0020622\ttotal: 26.3s\tremaining: 4.32s\n",
            "859:\tlearn: 0.0020618\ttotal: 26.3s\tremaining: 4.29s\n",
            "860:\tlearn: 0.0020615\ttotal: 26.4s\tremaining: 4.25s\n",
            "861:\tlearn: 0.0020611\ttotal: 26.4s\tremaining: 4.22s\n",
            "862:\tlearn: 0.0020591\ttotal: 26.4s\tremaining: 4.19s\n",
            "863:\tlearn: 0.0020547\ttotal: 26.5s\tremaining: 4.16s\n",
            "864:\tlearn: 0.0020540\ttotal: 26.5s\tremaining: 4.13s\n",
            "865:\tlearn: 0.0020518\ttotal: 26.5s\tremaining: 4.1s\n",
            "866:\tlearn: 0.0020492\ttotal: 26.6s\tremaining: 4.07s\n",
            "867:\tlearn: 0.0020478\ttotal: 26.6s\tremaining: 4.04s\n",
            "868:\tlearn: 0.0020450\ttotal: 26.6s\tremaining: 4.01s\n",
            "869:\tlearn: 0.0020442\ttotal: 26.6s\tremaining: 3.98s\n",
            "870:\tlearn: 0.0020398\ttotal: 26.7s\tremaining: 3.95s\n",
            "871:\tlearn: 0.0020354\ttotal: 26.7s\tremaining: 3.92s\n",
            "872:\tlearn: 0.0020341\ttotal: 26.7s\tremaining: 3.89s\n",
            "873:\tlearn: 0.0020316\ttotal: 26.8s\tremaining: 3.86s\n",
            "874:\tlearn: 0.0020302\ttotal: 26.8s\tremaining: 3.83s\n",
            "875:\tlearn: 0.0020300\ttotal: 26.8s\tremaining: 3.79s\n",
            "876:\tlearn: 0.0020261\ttotal: 26.8s\tremaining: 3.77s\n",
            "877:\tlearn: 0.0020244\ttotal: 26.9s\tremaining: 3.73s\n",
            "878:\tlearn: 0.0020237\ttotal: 26.9s\tremaining: 3.7s\n",
            "879:\tlearn: 0.0020222\ttotal: 26.9s\tremaining: 3.67s\n",
            "880:\tlearn: 0.0020212\ttotal: 27s\tremaining: 3.64s\n",
            "881:\tlearn: 0.0020176\ttotal: 27s\tremaining: 3.61s\n",
            "882:\tlearn: 0.0020127\ttotal: 27s\tremaining: 3.58s\n",
            "883:\tlearn: 0.0020072\ttotal: 27.1s\tremaining: 3.55s\n",
            "884:\tlearn: 0.0020020\ttotal: 27.1s\tremaining: 3.52s\n",
            "885:\tlearn: 0.0019999\ttotal: 27.1s\tremaining: 3.49s\n",
            "886:\tlearn: 0.0019961\ttotal: 27.2s\tremaining: 3.46s\n",
            "887:\tlearn: 0.0019949\ttotal: 27.2s\tremaining: 3.43s\n",
            "888:\tlearn: 0.0019947\ttotal: 27.2s\tremaining: 3.4s\n",
            "889:\tlearn: 0.0019931\ttotal: 27.2s\tremaining: 3.37s\n",
            "890:\tlearn: 0.0019887\ttotal: 27.3s\tremaining: 3.34s\n",
            "891:\tlearn: 0.0019857\ttotal: 27.3s\tremaining: 3.31s\n",
            "892:\tlearn: 0.0019829\ttotal: 27.3s\tremaining: 3.27s\n",
            "893:\tlearn: 0.0019810\ttotal: 27.4s\tremaining: 3.25s\n",
            "894:\tlearn: 0.0019806\ttotal: 27.4s\tremaining: 3.21s\n",
            "895:\tlearn: 0.0019787\ttotal: 27.4s\tremaining: 3.18s\n",
            "896:\tlearn: 0.0019772\ttotal: 27.5s\tremaining: 3.15s\n",
            "897:\tlearn: 0.0019722\ttotal: 27.5s\tremaining: 3.12s\n",
            "898:\tlearn: 0.0019617\ttotal: 27.5s\tremaining: 3.09s\n",
            "899:\tlearn: 0.0019611\ttotal: 27.6s\tremaining: 3.06s\n",
            "900:\tlearn: 0.0019578\ttotal: 27.6s\tremaining: 3.03s\n",
            "901:\tlearn: 0.0019566\ttotal: 27.6s\tremaining: 3s\n",
            "902:\tlearn: 0.0019561\ttotal: 27.6s\tremaining: 2.97s\n",
            "903:\tlearn: 0.0019535\ttotal: 27.7s\tremaining: 2.94s\n",
            "904:\tlearn: 0.0019520\ttotal: 27.7s\tremaining: 2.91s\n",
            "905:\tlearn: 0.0019459\ttotal: 27.7s\tremaining: 2.88s\n",
            "906:\tlearn: 0.0019443\ttotal: 27.8s\tremaining: 2.85s\n",
            "907:\tlearn: 0.0019426\ttotal: 27.8s\tremaining: 2.82s\n",
            "908:\tlearn: 0.0019409\ttotal: 27.8s\tremaining: 2.79s\n",
            "909:\tlearn: 0.0019367\ttotal: 27.9s\tremaining: 2.75s\n",
            "910:\tlearn: 0.0019355\ttotal: 27.9s\tremaining: 2.72s\n",
            "911:\tlearn: 0.0019341\ttotal: 27.9s\tremaining: 2.69s\n",
            "912:\tlearn: 0.0019340\ttotal: 27.9s\tremaining: 2.66s\n",
            "913:\tlearn: 0.0019321\ttotal: 28s\tremaining: 2.63s\n",
            "914:\tlearn: 0.0019304\ttotal: 28s\tremaining: 2.6s\n",
            "915:\tlearn: 0.0019288\ttotal: 28s\tremaining: 2.57s\n",
            "916:\tlearn: 0.0019253\ttotal: 28.1s\tremaining: 2.54s\n",
            "917:\tlearn: 0.0019202\ttotal: 28.1s\tremaining: 2.51s\n",
            "918:\tlearn: 0.0019171\ttotal: 28.1s\tremaining: 2.48s\n",
            "919:\tlearn: 0.0019133\ttotal: 28.2s\tremaining: 2.45s\n",
            "920:\tlearn: 0.0019082\ttotal: 28.2s\tremaining: 2.42s\n",
            "921:\tlearn: 0.0018966\ttotal: 28.2s\tremaining: 2.39s\n",
            "922:\tlearn: 0.0018921\ttotal: 28.3s\tremaining: 2.36s\n",
            "923:\tlearn: 0.0018910\ttotal: 28.3s\tremaining: 2.33s\n",
            "924:\tlearn: 0.0018909\ttotal: 28.3s\tremaining: 2.3s\n",
            "925:\tlearn: 0.0018891\ttotal: 28.4s\tremaining: 2.27s\n",
            "926:\tlearn: 0.0018851\ttotal: 28.4s\tremaining: 2.24s\n",
            "927:\tlearn: 0.0018810\ttotal: 28.4s\tremaining: 2.21s\n",
            "928:\tlearn: 0.0018808\ttotal: 28.5s\tremaining: 2.17s\n",
            "929:\tlearn: 0.0018802\ttotal: 28.5s\tremaining: 2.14s\n",
            "930:\tlearn: 0.0018783\ttotal: 28.5s\tremaining: 2.11s\n",
            "931:\tlearn: 0.0018781\ttotal: 28.6s\tremaining: 2.08s\n",
            "932:\tlearn: 0.0018777\ttotal: 28.6s\tremaining: 2.05s\n",
            "933:\tlearn: 0.0018776\ttotal: 28.6s\tremaining: 2.02s\n",
            "934:\tlearn: 0.0018763\ttotal: 28.6s\tremaining: 1.99s\n",
            "935:\tlearn: 0.0018761\ttotal: 28.7s\tremaining: 1.96s\n",
            "936:\tlearn: 0.0018738\ttotal: 28.7s\tremaining: 1.93s\n",
            "937:\tlearn: 0.0018727\ttotal: 28.7s\tremaining: 1.9s\n",
            "938:\tlearn: 0.0018698\ttotal: 28.8s\tremaining: 1.87s\n",
            "939:\tlearn: 0.0018667\ttotal: 28.8s\tremaining: 1.84s\n",
            "940:\tlearn: 0.0018626\ttotal: 28.8s\tremaining: 1.81s\n",
            "941:\tlearn: 0.0018616\ttotal: 28.9s\tremaining: 1.78s\n",
            "942:\tlearn: 0.0018614\ttotal: 28.9s\tremaining: 1.75s\n",
            "943:\tlearn: 0.0018602\ttotal: 28.9s\tremaining: 1.72s\n",
            "944:\tlearn: 0.0018588\ttotal: 28.9s\tremaining: 1.68s\n",
            "945:\tlearn: 0.0018569\ttotal: 29s\tremaining: 1.65s\n",
            "946:\tlearn: 0.0018555\ttotal: 29s\tremaining: 1.62s\n",
            "947:\tlearn: 0.0018547\ttotal: 29s\tremaining: 1.59s\n",
            "948:\tlearn: 0.0018536\ttotal: 29.1s\tremaining: 1.56s\n",
            "949:\tlearn: 0.0018531\ttotal: 29.1s\tremaining: 1.53s\n",
            "950:\tlearn: 0.0018515\ttotal: 29.1s\tremaining: 1.5s\n",
            "951:\tlearn: 0.0018486\ttotal: 29.2s\tremaining: 1.47s\n",
            "952:\tlearn: 0.0018444\ttotal: 29.2s\tremaining: 1.44s\n",
            "953:\tlearn: 0.0018439\ttotal: 29.2s\tremaining: 1.41s\n",
            "954:\tlearn: 0.0018408\ttotal: 29.3s\tremaining: 1.38s\n",
            "955:\tlearn: 0.0018391\ttotal: 29.3s\tremaining: 1.35s\n",
            "956:\tlearn: 0.0018361\ttotal: 29.3s\tremaining: 1.32s\n",
            "957:\tlearn: 0.0018316\ttotal: 29.3s\tremaining: 1.29s\n",
            "958:\tlearn: 0.0018293\ttotal: 29.4s\tremaining: 1.25s\n",
            "959:\tlearn: 0.0018288\ttotal: 29.4s\tremaining: 1.23s\n",
            "960:\tlearn: 0.0018275\ttotal: 29.4s\tremaining: 1.19s\n",
            "961:\tlearn: 0.0018270\ttotal: 29.5s\tremaining: 1.16s\n",
            "962:\tlearn: 0.0018243\ttotal: 29.5s\tremaining: 1.13s\n",
            "963:\tlearn: 0.0018215\ttotal: 29.5s\tremaining: 1.1s\n",
            "964:\tlearn: 0.0018164\ttotal: 29.6s\tremaining: 1.07s\n",
            "965:\tlearn: 0.0018148\ttotal: 29.6s\tremaining: 1.04s\n",
            "966:\tlearn: 0.0018079\ttotal: 29.6s\tremaining: 1.01s\n",
            "967:\tlearn: 0.0018069\ttotal: 29.6s\tremaining: 980ms\n",
            "968:\tlearn: 0.0018056\ttotal: 29.7s\tremaining: 950ms\n",
            "969:\tlearn: 0.0018054\ttotal: 29.7s\tremaining: 919ms\n",
            "970:\tlearn: 0.0018040\ttotal: 29.7s\tremaining: 888ms\n",
            "971:\tlearn: 0.0018028\ttotal: 29.8s\tremaining: 858ms\n",
            "972:\tlearn: 0.0018026\ttotal: 29.8s\tremaining: 827ms\n",
            "973:\tlearn: 0.0017985\ttotal: 29.8s\tremaining: 796ms\n",
            "974:\tlearn: 0.0017975\ttotal: 29.9s\tremaining: 766ms\n",
            "975:\tlearn: 0.0017973\ttotal: 29.9s\tremaining: 735ms\n",
            "976:\tlearn: 0.0017967\ttotal: 29.9s\tremaining: 704ms\n",
            "977:\tlearn: 0.0017941\ttotal: 30s\tremaining: 674ms\n",
            "978:\tlearn: 0.0017930\ttotal: 30s\tremaining: 643ms\n",
            "979:\tlearn: 0.0017926\ttotal: 30s\tremaining: 613ms\n",
            "980:\tlearn: 0.0017912\ttotal: 30s\tremaining: 582ms\n",
            "981:\tlearn: 0.0017891\ttotal: 30.1s\tremaining: 551ms\n",
            "982:\tlearn: 0.0017875\ttotal: 30.1s\tremaining: 521ms\n",
            "983:\tlearn: 0.0017793\ttotal: 30.1s\tremaining: 490ms\n",
            "984:\tlearn: 0.0017759\ttotal: 30.2s\tremaining: 459ms\n",
            "985:\tlearn: 0.0017748\ttotal: 30.2s\tremaining: 429ms\n",
            "986:\tlearn: 0.0017746\ttotal: 30.2s\tremaining: 398ms\n",
            "987:\tlearn: 0.0017736\ttotal: 30.3s\tremaining: 367ms\n",
            "988:\tlearn: 0.0017682\ttotal: 30.3s\tremaining: 337ms\n",
            "989:\tlearn: 0.0017641\ttotal: 30.3s\tremaining: 306ms\n",
            "990:\tlearn: 0.0017615\ttotal: 30.3s\tremaining: 276ms\n",
            "991:\tlearn: 0.0017589\ttotal: 30.4s\tremaining: 245ms\n",
            "992:\tlearn: 0.0017563\ttotal: 30.4s\tremaining: 214ms\n",
            "993:\tlearn: 0.0017544\ttotal: 30.4s\tremaining: 184ms\n",
            "994:\tlearn: 0.0017520\ttotal: 30.5s\tremaining: 153ms\n",
            "995:\tlearn: 0.0017446\ttotal: 30.5s\tremaining: 123ms\n",
            "996:\tlearn: 0.0017431\ttotal: 30.5s\tremaining: 91.9ms\n",
            "997:\tlearn: 0.0017407\ttotal: 30.6s\tremaining: 61.3ms\n",
            "998:\tlearn: 0.0017361\ttotal: 30.6s\tremaining: 30.6ms\n",
            "999:\tlearn: 0.0017356\ttotal: 30.6s\tremaining: 0us\n"
          ]
        },
        {
          "output_type": "execute_result",
          "data": {
            "text/plain": [
              "<catboost.core.CatBoostClassifier at 0x7f6422ee2f50>"
            ]
          },
          "metadata": {},
          "execution_count": 75
        }
      ]
    },
    {
      "cell_type": "markdown",
      "metadata": {
        "id": "TpVMMbBbD3VI"
      },
      "source": [
        "Now lets tune above model. The exhaustive list of hyperparameters in LightGBM are https://lightgbm.readthedocs.io/en/latest/Parameters-Tuning.html\n",
        "\n",
        "But lets run the CatBoost with previous selected hyperparamters i.e\n",
        "\n",
        "`learning_rate=0.2,\n",
        "max_depth=2,\n",
        "n_estimators=200,\n",
        "subsample=0.6,\n",
        "random_state=1`\n",
        "\n",
        "and lets see if it improves"
      ]
    },
    {
      "cell_type": "code",
      "metadata": {
        "id": "oQDFvB9yD3VI",
        "colab": {
          "base_uri": "https://localhost:8080/"
        },
        "outputId": "b80d0219-b787-428b-b06f-325d64f9cf47"
      },
      "source": [
        "\n",
        "# Instantiate CatBoostClassifier mentioned parameters\n",
        "Cat = CatBoostClassifier(learning_rate=0.2, max_depth=2, n_estimators=200, subsample=0.6, random_state=1)\n",
        " \n",
        "# fit model on training data\n",
        "Cat.fit(X_train, y_train)\n"
      ],
      "execution_count": 76,
      "outputs": [
        {
          "output_type": "stream",
          "name": "stdout",
          "text": [
            "0:\tlearn: 0.2613983\ttotal: 23.9ms\tremaining: 4.76s\n",
            "1:\tlearn: 0.1108282\ttotal: 51.5ms\tremaining: 5.1s\n",
            "2:\tlearn: 0.0568219\ttotal: 95.4ms\tremaining: 6.27s\n",
            "3:\tlearn: 0.0348754\ttotal: 117ms\tremaining: 5.72s\n",
            "4:\tlearn: 0.0248676\ttotal: 137ms\tremaining: 5.34s\n",
            "5:\tlearn: 0.0195423\ttotal: 157ms\tremaining: 5.07s\n",
            "6:\tlearn: 0.0164517\ttotal: 177ms\tremaining: 4.88s\n",
            "7:\tlearn: 0.0144602\ttotal: 198ms\tremaining: 4.76s\n",
            "8:\tlearn: 0.0137709\ttotal: 218ms\tremaining: 4.63s\n",
            "9:\tlearn: 0.0131070\ttotal: 241ms\tremaining: 4.58s\n",
            "10:\tlearn: 0.0127104\ttotal: 262ms\tremaining: 4.5s\n",
            "11:\tlearn: 0.0125925\ttotal: 285ms\tremaining: 4.47s\n",
            "12:\tlearn: 0.0123707\ttotal: 311ms\tremaining: 4.47s\n",
            "13:\tlearn: 0.0122557\ttotal: 334ms\tremaining: 4.43s\n",
            "14:\tlearn: 0.0119429\ttotal: 353ms\tremaining: 4.35s\n",
            "15:\tlearn: 0.0118920\ttotal: 376ms\tremaining: 4.32s\n",
            "16:\tlearn: 0.0116891\ttotal: 398ms\tremaining: 4.28s\n",
            "17:\tlearn: 0.0115157\ttotal: 420ms\tremaining: 4.24s\n",
            "18:\tlearn: 0.0114131\ttotal: 440ms\tremaining: 4.2s\n",
            "19:\tlearn: 0.0112984\ttotal: 465ms\tremaining: 4.19s\n",
            "20:\tlearn: 0.0112507\ttotal: 487ms\tremaining: 4.15s\n",
            "21:\tlearn: 0.0111561\ttotal: 510ms\tremaining: 4.12s\n",
            "22:\tlearn: 0.0110428\ttotal: 530ms\tremaining: 4.08s\n",
            "23:\tlearn: 0.0110178\ttotal: 552ms\tremaining: 4.05s\n",
            "24:\tlearn: 0.0109817\ttotal: 585ms\tremaining: 4.09s\n",
            "25:\tlearn: 0.0109244\ttotal: 602ms\tremaining: 4.03s\n",
            "26:\tlearn: 0.0107782\ttotal: 621ms\tremaining: 3.98s\n",
            "27:\tlearn: 0.0107233\ttotal: 647ms\tremaining: 3.97s\n",
            "28:\tlearn: 0.0106744\ttotal: 672ms\tremaining: 3.96s\n",
            "29:\tlearn: 0.0105594\ttotal: 691ms\tremaining: 3.92s\n",
            "30:\tlearn: 0.0105139\ttotal: 713ms\tremaining: 3.89s\n",
            "31:\tlearn: 0.0104803\ttotal: 735ms\tremaining: 3.86s\n",
            "32:\tlearn: 0.0104441\ttotal: 757ms\tremaining: 3.83s\n",
            "33:\tlearn: 0.0103914\ttotal: 779ms\tremaining: 3.8s\n",
            "34:\tlearn: 0.0100930\ttotal: 799ms\tremaining: 3.76s\n",
            "35:\tlearn: 0.0100139\ttotal: 820ms\tremaining: 3.74s\n",
            "36:\tlearn: 0.0099871\ttotal: 842ms\tremaining: 3.71s\n",
            "37:\tlearn: 0.0098909\ttotal: 866ms\tremaining: 3.69s\n",
            "38:\tlearn: 0.0098186\ttotal: 884ms\tremaining: 3.65s\n",
            "39:\tlearn: 0.0097994\ttotal: 907ms\tremaining: 3.63s\n",
            "40:\tlearn: 0.0097784\ttotal: 929ms\tremaining: 3.6s\n",
            "41:\tlearn: 0.0096381\ttotal: 951ms\tremaining: 3.58s\n",
            "42:\tlearn: 0.0094136\ttotal: 975ms\tremaining: 3.56s\n",
            "43:\tlearn: 0.0094033\ttotal: 998ms\tremaining: 3.54s\n",
            "44:\tlearn: 0.0093856\ttotal: 1.02s\tremaining: 3.52s\n",
            "45:\tlearn: 0.0093656\ttotal: 1.04s\tremaining: 3.49s\n",
            "46:\tlearn: 0.0093125\ttotal: 1.06s\tremaining: 3.45s\n",
            "47:\tlearn: 0.0092853\ttotal: 1.09s\tremaining: 3.44s\n",
            "48:\tlearn: 0.0092218\ttotal: 1.11s\tremaining: 3.41s\n",
            "49:\tlearn: 0.0092115\ttotal: 1.13s\tremaining: 3.39s\n",
            "50:\tlearn: 0.0090945\ttotal: 1.15s\tremaining: 3.36s\n",
            "51:\tlearn: 0.0090178\ttotal: 1.17s\tremaining: 3.34s\n",
            "52:\tlearn: 0.0090101\ttotal: 1.2s\tremaining: 3.32s\n",
            "53:\tlearn: 0.0089980\ttotal: 1.22s\tremaining: 3.3s\n",
            "54:\tlearn: 0.0089844\ttotal: 1.24s\tremaining: 3.27s\n",
            "55:\tlearn: 0.0089307\ttotal: 1.26s\tremaining: 3.25s\n",
            "56:\tlearn: 0.0088525\ttotal: 1.28s\tremaining: 3.23s\n",
            "57:\tlearn: 0.0088392\ttotal: 1.32s\tremaining: 3.22s\n",
            "58:\tlearn: 0.0087907\ttotal: 1.34s\tremaining: 3.2s\n",
            "59:\tlearn: 0.0087502\ttotal: 1.36s\tremaining: 3.18s\n",
            "60:\tlearn: 0.0087415\ttotal: 1.38s\tremaining: 3.15s\n",
            "61:\tlearn: 0.0087215\ttotal: 1.41s\tremaining: 3.13s\n",
            "62:\tlearn: 0.0086721\ttotal: 1.43s\tremaining: 3.1s\n",
            "63:\tlearn: 0.0086665\ttotal: 1.45s\tremaining: 3.08s\n",
            "64:\tlearn: 0.0086326\ttotal: 1.47s\tremaining: 3.05s\n",
            "65:\tlearn: 0.0086219\ttotal: 1.49s\tremaining: 3.03s\n",
            "66:\tlearn: 0.0086091\ttotal: 1.51s\tremaining: 3.01s\n",
            "67:\tlearn: 0.0086010\ttotal: 1.54s\tremaining: 2.99s\n",
            "68:\tlearn: 0.0085948\ttotal: 1.57s\tremaining: 2.98s\n",
            "69:\tlearn: 0.0085587\ttotal: 1.6s\tremaining: 2.97s\n",
            "70:\tlearn: 0.0085445\ttotal: 1.62s\tremaining: 2.95s\n",
            "71:\tlearn: 0.0085400\ttotal: 1.64s\tremaining: 2.92s\n",
            "72:\tlearn: 0.0085058\ttotal: 1.67s\tremaining: 2.9s\n",
            "73:\tlearn: 0.0084838\ttotal: 1.69s\tremaining: 2.87s\n",
            "74:\tlearn: 0.0084768\ttotal: 1.71s\tremaining: 2.85s\n",
            "75:\tlearn: 0.0084546\ttotal: 1.73s\tremaining: 2.82s\n",
            "76:\tlearn: 0.0084461\ttotal: 1.76s\tremaining: 2.81s\n",
            "77:\tlearn: 0.0084422\ttotal: 1.78s\tremaining: 2.79s\n",
            "78:\tlearn: 0.0084288\ttotal: 1.8s\tremaining: 2.76s\n",
            "79:\tlearn: 0.0084143\ttotal: 1.82s\tremaining: 2.73s\n",
            "80:\tlearn: 0.0082393\ttotal: 1.84s\tremaining: 2.71s\n",
            "81:\tlearn: 0.0082340\ttotal: 1.87s\tremaining: 2.69s\n",
            "82:\tlearn: 0.0082205\ttotal: 1.89s\tremaining: 2.67s\n",
            "83:\tlearn: 0.0082159\ttotal: 1.93s\tremaining: 2.66s\n",
            "84:\tlearn: 0.0082109\ttotal: 1.95s\tremaining: 2.64s\n",
            "85:\tlearn: 0.0081992\ttotal: 1.98s\tremaining: 2.62s\n",
            "86:\tlearn: 0.0081718\ttotal: 2s\tremaining: 2.6s\n",
            "87:\tlearn: 0.0081645\ttotal: 2.02s\tremaining: 2.58s\n",
            "88:\tlearn: 0.0081594\ttotal: 2.05s\tremaining: 2.55s\n",
            "89:\tlearn: 0.0081448\ttotal: 2.07s\tremaining: 2.53s\n",
            "90:\tlearn: 0.0081303\ttotal: 2.09s\tremaining: 2.5s\n",
            "91:\tlearn: 0.0081231\ttotal: 2.11s\tremaining: 2.48s\n",
            "92:\tlearn: 0.0079888\ttotal: 2.13s\tremaining: 2.45s\n",
            "93:\tlearn: 0.0079852\ttotal: 2.15s\tremaining: 2.43s\n",
            "94:\tlearn: 0.0079701\ttotal: 2.19s\tremaining: 2.42s\n",
            "95:\tlearn: 0.0079623\ttotal: 2.21s\tremaining: 2.4s\n",
            "96:\tlearn: 0.0078645\ttotal: 2.23s\tremaining: 2.37s\n",
            "97:\tlearn: 0.0078599\ttotal: 2.25s\tremaining: 2.35s\n",
            "98:\tlearn: 0.0078373\ttotal: 2.28s\tremaining: 2.33s\n",
            "99:\tlearn: 0.0078281\ttotal: 2.31s\tremaining: 2.31s\n",
            "100:\tlearn: 0.0078242\ttotal: 2.33s\tremaining: 2.28s\n",
            "101:\tlearn: 0.0078203\ttotal: 2.35s\tremaining: 2.26s\n",
            "102:\tlearn: 0.0078056\ttotal: 2.37s\tremaining: 2.23s\n",
            "103:\tlearn: 0.0078020\ttotal: 2.4s\tremaining: 2.21s\n",
            "104:\tlearn: 0.0077859\ttotal: 2.42s\tremaining: 2.19s\n",
            "105:\tlearn: 0.0077829\ttotal: 2.44s\tremaining: 2.17s\n",
            "106:\tlearn: 0.0077762\ttotal: 2.47s\tremaining: 2.14s\n",
            "107:\tlearn: 0.0077540\ttotal: 2.49s\tremaining: 2.12s\n",
            "108:\tlearn: 0.0077501\ttotal: 2.51s\tremaining: 2.1s\n",
            "109:\tlearn: 0.0077470\ttotal: 2.53s\tremaining: 2.07s\n",
            "110:\tlearn: 0.0077371\ttotal: 2.56s\tremaining: 2.05s\n",
            "111:\tlearn: 0.0077240\ttotal: 2.58s\tremaining: 2.03s\n",
            "112:\tlearn: 0.0077175\ttotal: 2.61s\tremaining: 2.01s\n",
            "113:\tlearn: 0.0077149\ttotal: 2.63s\tremaining: 1.99s\n",
            "114:\tlearn: 0.0077068\ttotal: 2.66s\tremaining: 1.96s\n",
            "115:\tlearn: 0.0076987\ttotal: 2.68s\tremaining: 1.94s\n",
            "116:\tlearn: 0.0076920\ttotal: 2.7s\tremaining: 1.92s\n",
            "117:\tlearn: 0.0076831\ttotal: 2.72s\tremaining: 1.89s\n",
            "118:\tlearn: 0.0076779\ttotal: 2.74s\tremaining: 1.87s\n",
            "119:\tlearn: 0.0076568\ttotal: 2.76s\tremaining: 1.84s\n",
            "120:\tlearn: 0.0076490\ttotal: 2.78s\tremaining: 1.82s\n",
            "121:\tlearn: 0.0075832\ttotal: 2.8s\tremaining: 1.79s\n",
            "122:\tlearn: 0.0075111\ttotal: 2.83s\tremaining: 1.77s\n",
            "123:\tlearn: 0.0074987\ttotal: 2.85s\tremaining: 1.75s\n",
            "124:\tlearn: 0.0074905\ttotal: 2.87s\tremaining: 1.72s\n",
            "125:\tlearn: 0.0074817\ttotal: 2.9s\tremaining: 1.71s\n",
            "126:\tlearn: 0.0074758\ttotal: 2.92s\tremaining: 1.68s\n",
            "127:\tlearn: 0.0074733\ttotal: 2.94s\tremaining: 1.66s\n",
            "128:\tlearn: 0.0074614\ttotal: 2.96s\tremaining: 1.63s\n",
            "129:\tlearn: 0.0074536\ttotal: 2.99s\tremaining: 1.61s\n",
            "130:\tlearn: 0.0073992\ttotal: 3.01s\tremaining: 1.58s\n",
            "131:\tlearn: 0.0073972\ttotal: 3.03s\tremaining: 1.56s\n",
            "132:\tlearn: 0.0073875\ttotal: 3.05s\tremaining: 1.54s\n",
            "133:\tlearn: 0.0072389\ttotal: 3.08s\tremaining: 1.51s\n",
            "134:\tlearn: 0.0072374\ttotal: 3.1s\tremaining: 1.49s\n",
            "135:\tlearn: 0.0072345\ttotal: 3.12s\tremaining: 1.47s\n",
            "136:\tlearn: 0.0072286\ttotal: 3.14s\tremaining: 1.45s\n",
            "137:\tlearn: 0.0071934\ttotal: 3.16s\tremaining: 1.42s\n",
            "138:\tlearn: 0.0071841\ttotal: 3.18s\tremaining: 1.4s\n",
            "139:\tlearn: 0.0071574\ttotal: 3.21s\tremaining: 1.37s\n",
            "140:\tlearn: 0.0071555\ttotal: 3.23s\tremaining: 1.35s\n",
            "141:\tlearn: 0.0071449\ttotal: 3.25s\tremaining: 1.33s\n",
            "142:\tlearn: 0.0071411\ttotal: 3.27s\tremaining: 1.3s\n",
            "143:\tlearn: 0.0071382\ttotal: 3.3s\tremaining: 1.28s\n",
            "144:\tlearn: 0.0071336\ttotal: 3.32s\tremaining: 1.26s\n",
            "145:\tlearn: 0.0071153\ttotal: 3.34s\tremaining: 1.24s\n",
            "146:\tlearn: 0.0071128\ttotal: 3.37s\tremaining: 1.21s\n",
            "147:\tlearn: 0.0071091\ttotal: 3.39s\tremaining: 1.19s\n",
            "148:\tlearn: 0.0070921\ttotal: 3.41s\tremaining: 1.17s\n",
            "149:\tlearn: 0.0070889\ttotal: 3.43s\tremaining: 1.14s\n",
            "150:\tlearn: 0.0070841\ttotal: 3.45s\tremaining: 1.12s\n",
            "151:\tlearn: 0.0070822\ttotal: 3.48s\tremaining: 1.1s\n",
            "152:\tlearn: 0.0070791\ttotal: 3.5s\tremaining: 1.07s\n",
            "153:\tlearn: 0.0070756\ttotal: 3.52s\tremaining: 1.05s\n",
            "154:\tlearn: 0.0070681\ttotal: 3.54s\tremaining: 1.03s\n",
            "155:\tlearn: 0.0070592\ttotal: 3.57s\tremaining: 1.01s\n",
            "156:\tlearn: 0.0070564\ttotal: 3.6s\tremaining: 985ms\n",
            "157:\tlearn: 0.0070544\ttotal: 3.62s\tremaining: 962ms\n",
            "158:\tlearn: 0.0070533\ttotal: 3.64s\tremaining: 939ms\n",
            "159:\tlearn: 0.0070290\ttotal: 3.67s\tremaining: 918ms\n",
            "160:\tlearn: 0.0070221\ttotal: 3.69s\tremaining: 895ms\n",
            "161:\tlearn: 0.0069959\ttotal: 3.72s\tremaining: 872ms\n",
            "162:\tlearn: 0.0069944\ttotal: 3.74s\tremaining: 849ms\n",
            "163:\tlearn: 0.0069902\ttotal: 3.76s\tremaining: 826ms\n",
            "164:\tlearn: 0.0069559\ttotal: 3.78s\tremaining: 802ms\n",
            "165:\tlearn: 0.0069547\ttotal: 3.8s\tremaining: 779ms\n",
            "166:\tlearn: 0.0069499\ttotal: 3.82s\tremaining: 756ms\n",
            "167:\tlearn: 0.0069376\ttotal: 3.85s\tremaining: 733ms\n",
            "168:\tlearn: 0.0069367\ttotal: 3.87s\tremaining: 710ms\n",
            "169:\tlearn: 0.0069323\ttotal: 3.9s\tremaining: 688ms\n",
            "170:\tlearn: 0.0069115\ttotal: 3.92s\tremaining: 665ms\n",
            "171:\tlearn: 0.0069062\ttotal: 3.94s\tremaining: 642ms\n",
            "172:\tlearn: 0.0068937\ttotal: 3.96s\tremaining: 619ms\n",
            "173:\tlearn: 0.0068798\ttotal: 3.99s\tremaining: 596ms\n",
            "174:\tlearn: 0.0068744\ttotal: 4.01s\tremaining: 572ms\n",
            "175:\tlearn: 0.0068729\ttotal: 4.03s\tremaining: 549ms\n",
            "176:\tlearn: 0.0068676\ttotal: 4.05s\tremaining: 526ms\n",
            "177:\tlearn: 0.0068663\ttotal: 4.07s\tremaining: 503ms\n",
            "178:\tlearn: 0.0068642\ttotal: 4.1s\tremaining: 481ms\n",
            "179:\tlearn: 0.0068591\ttotal: 4.12s\tremaining: 458ms\n",
            "180:\tlearn: 0.0068291\ttotal: 4.14s\tremaining: 435ms\n",
            "181:\tlearn: 0.0068227\ttotal: 4.16s\tremaining: 412ms\n",
            "182:\tlearn: 0.0068156\ttotal: 4.19s\tremaining: 389ms\n",
            "183:\tlearn: 0.0068126\ttotal: 4.21s\tremaining: 366ms\n",
            "184:\tlearn: 0.0068073\ttotal: 4.23s\tremaining: 343ms\n",
            "185:\tlearn: 0.0068041\ttotal: 4.25s\tremaining: 320ms\n",
            "186:\tlearn: 0.0068008\ttotal: 4.27s\tremaining: 297ms\n",
            "187:\tlearn: 0.0067833\ttotal: 4.3s\tremaining: 274ms\n",
            "188:\tlearn: 0.0067822\ttotal: 4.32s\tremaining: 252ms\n",
            "189:\tlearn: 0.0067752\ttotal: 4.35s\tremaining: 229ms\n",
            "190:\tlearn: 0.0067639\ttotal: 4.37s\tremaining: 206ms\n",
            "191:\tlearn: 0.0067609\ttotal: 4.39s\tremaining: 183ms\n",
            "192:\tlearn: 0.0067583\ttotal: 4.42s\tremaining: 160ms\n",
            "193:\tlearn: 0.0067397\ttotal: 4.44s\tremaining: 137ms\n",
            "194:\tlearn: 0.0067377\ttotal: 4.46s\tremaining: 114ms\n",
            "195:\tlearn: 0.0067289\ttotal: 4.48s\tremaining: 91.5ms\n",
            "196:\tlearn: 0.0067130\ttotal: 4.51s\tremaining: 68.7ms\n",
            "197:\tlearn: 0.0067071\ttotal: 4.53s\tremaining: 45.8ms\n",
            "198:\tlearn: 0.0067020\ttotal: 4.55s\tremaining: 22.9ms\n",
            "199:\tlearn: 0.0066969\ttotal: 4.58s\tremaining: 0us\n"
          ]
        },
        {
          "output_type": "execute_result",
          "data": {
            "text/plain": [
              "<catboost.core.CatBoostClassifier at 0x7f6417ae1f10>"
            ]
          },
          "metadata": {},
          "execution_count": 76
        }
      ]
    },
    {
      "cell_type": "code",
      "metadata": {
        "id": "AS4dO6AkD3VI",
        "colab": {
          "base_uri": "https://localhost:8080/"
        },
        "outputId": "f19f10b6-f9e3-4d89-8570-a9651c10fb48"
      },
      "source": [
        "# use predict_proba since we need probabilities to compute auc\n",
        "y_pred = Cat.predict_proba(X_test)\n",
        "\n",
        "# evaluate predictions using roc_auc score\n",
        "roc = metrics.roc_auc_score(y_test, y_pred[:,1])\n",
        "print(\"AUC: %.2f%%\" % (roc * 100.0))"
      ],
      "execution_count": 77,
      "outputs": [
        {
          "output_type": "stream",
          "name": "stdout",
          "text": [
            "AUC: 96.29%\n"
          ]
        }
      ]
    },
    {
      "cell_type": "markdown",
      "metadata": {
        "id": "7PevkKhdD3VJ"
      },
      "source": [
        "Wohoo! oh yes. Your final model can come to your rescue. CatBoost gives slightly better result than all other models which we tried till now."
      ]
    },
    {
      "cell_type": "markdown",
      "metadata": {
        "id": "ll4QNddSD3VJ"
      },
      "source": [
        "\n",
        "Recommendations for training:\n",
        "- We have used only a fraction of the training set (train_sample, 100k rows), the full training data on Kaggle (train.csv) has about 180 million rows. You'll get good results only if you train the model on a significant portion of the training dataset.  \n",
        "- Because of the size, you'll need to use Colab kernels to train the model on full training data. Colab kernels provide powerful computation capacities on cloud (for free). \n",
        "- Even on the kernel, you may need to use a portion of the training dataset (try using the last 20-30 million rows).\n",
        "- Make sure you save memory by following some tricks and best practices, else you won't be able to train the model at all on a large dataset.\n",
        "\n",
        "\n",
        "Finally in this assignment you have learned about various boosting techniques and in previous assignment you had learned about Bagging techniques. We hope you understood the difference between them and their use.\n",
        "\n",
        "To get a short ensemble summary refer: https://www.youtube.com/watch?v=m-S9Hojj1as\n",
        "\n",
        "You can refer below videos to know interesting Interview questions on Boosting techniques. \n",
        "\n",
        "https://www.youtube.com/watch?v=EHewTwtYcgE\n",
        "\n",
        "\n"
      ]
    },
    {
      "cell_type": "markdown",
      "metadata": {
        "id": "O-jAA4y9D3VJ"
      },
      "source": [
        "From above you can see that most of the International footbal tournament were on sunday. Such small small analysis becomes usefull for our machine learning problems to solve.\n",
        "\n",
        "All these feature engineering techniques becomes very important to bring good insights and results for any machine learning problems, hence we hope that you understand the importance of feature engineering as part of data science.\n",
        "\n",
        "---------------------\n",
        "# Peaceable with ensemble! Congrats..you have completed your ML Ensemble challenge\n",
        "---------------------\n",
        "\n",
        "\n",
        "# FeedBack\n",
        "We hope you’ve enjoyed this course so far. We’re committed to help you use \"AI for All\" course to its full potential, so that you have a great learning experience. And that’s why we need your help in form of a feedback here.\n",
        "\n",
        "Please fill this feedback form https://zfrmz.in/MtRG5oWXBdesm6rmSM7N"
      ]
    }
  ]
}