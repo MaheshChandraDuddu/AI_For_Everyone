{
  "nbformat": 4,
  "nbformat_minor": 0,
  "metadata": {
    "kernelspec": {
      "display_name": "Python 3",
      "language": "python",
      "name": "python3"
    },
    "language_info": {
      "codemirror_mode": {
        "name": "ipython",
        "version": 3
      },
      "file_extension": ".py",
      "mimetype": "text/x-python",
      "name": "python",
      "nbconvert_exporter": "python",
      "pygments_lexer": "ipython3",
      "version": "3.8.5"
    },
    "colab": {
      "name": "Multiple Linear Regression.ipynb",
      "provenance": []
    }
  },
  "cells": [
    {
      "cell_type": "markdown",
      "metadata": {
        "id": "hsdhFNbh8tBQ"
      },
      "source": [
        "## <center> Multiple Linear Regression </center>\n",
        "\n",
        "\n",
        "\n",
        "\n",
        "![image-2.png](attachment:image-2.png)\n",
        "\n",
        "Now you know how to build a model with one X (feature variable) and Y (response variable). But what if you have three feature variables, or may be 10 or 100? Building a separate model for each of them, combining them, and then understanding them will be a very difficult and next to impossible task. By using multiple linear regression, you can build models between a response variable and many feature variables.\n",
        "\n",
        "\n",
        "\n",
        "Let's see how to do that.\n",
        "\n"
      ]
    },
    {
      "cell_type": "markdown",
      "metadata": {
        "id": "PFy1eQ9P8tBV"
      },
      "source": [
        "**Advantages/Features of Multiple Linear Regression**\n",
        "1. The chances of getting a better-fit increase as the generated models are dependent on more than 1 feature\n",
        "2. Multiple Linear Regression can detect outliers and anomalies very effectively. \n",
        "\n",
        "**Disadvantages/Shortcomings of Multiple Linear Regression**\n",
        "1. The problem of overfitting is very prevalent here, as we can use all features to generate the model, so the model can start \"memorizing\" the values \n",
        "2. Accuracy decreases as the linearity of the dataset decreases."
      ]
    },
    {
      "cell_type": "markdown",
      "metadata": {
        "id": "8Rguhd6E8tBX"
      },
      "source": [
        "**The multiple regression model is based on the following assumptions:**\n",
        "1. Linearity: There is a linear relationship between the dependent variables and the independent variables.\n",
        "2. Correlation: The independent variables are not too highly correlated with each other.\n",
        "3. yi observations are selected independently and randomly from the population.\n",
        "4. Normal Distribution: Residuals should be normally distributed with a mean of 0 and variance σ."
      ]
    },
    {
      "cell_type": "markdown",
      "metadata": {
        "id": "JX0pVCsH8tBa"
      },
      "source": [
        "Here you will make your hands dirty with housing dataset which you can download from your canvas portal itself\n",
        "\n",
        "**Here is the Problem Statement for you:**\n",
        "\n",
        "Consider a real estate company that has a dataset containing the prices of properties in the Delhi region. It wishes to use the data to optimise the sale prices of the properties based on important factors such as area, bedrooms, parking, etc.\n",
        "\n",
        "Essentially, the company wants —\n",
        "\n",
        "\n",
        "- To identify the variables affecting house prices, e.g. area, number of rooms, bathrooms, etc.\n",
        "\n",
        "- To create a linear model that quantitatively relates house prices with variables such as number of rooms, area, number of bathrooms, etc.\n",
        "\n",
        "- To know the accuracy of the model, i.e. how well these variables can predict house prices.\n",
        "\n",
        "\n",
        "### Importing and Understanding Data\n",
        "\n",
        "<p style='text-align: right;'> 4 points</p>\n",
        "\n"
      ]
    },
    {
      "cell_type": "code",
      "metadata": {
        "id": "YLaCJvyo8tBc"
      },
      "source": [
        "# import numpy and pandas\n",
        "import numpy as np\n",
        "import pandas as pd"
      ],
      "execution_count": 1891,
      "outputs": []
    },
    {
      "cell_type": "code",
      "metadata": {
        "id": "nOMRcV9f8tBd"
      },
      "source": [
        "# Importing Housing.csv\n",
        "housing = pd.read_csv('Housing.csv')"
      ],
      "execution_count": 1892,
      "outputs": []
    },
    {
      "cell_type": "code",
      "metadata": {
        "colab": {
          "base_uri": "https://localhost:8080/",
          "height": 204
        },
        "id": "aLMm_LP-8tBd",
        "outputId": "8c6f200e-b74c-437f-c1a0-86c8cbe5577b"
      },
      "source": [
        "# Looking at the first five rows\n",
        "housing.head()\n"
      ],
      "execution_count": 1893,
      "outputs": [
        {
          "output_type": "execute_result",
          "data": {
            "text/html": [
              "<div>\n",
              "<style scoped>\n",
              "    .dataframe tbody tr th:only-of-type {\n",
              "        vertical-align: middle;\n",
              "    }\n",
              "\n",
              "    .dataframe tbody tr th {\n",
              "        vertical-align: top;\n",
              "    }\n",
              "\n",
              "    .dataframe thead th {\n",
              "        text-align: right;\n",
              "    }\n",
              "</style>\n",
              "<table border=\"1\" class=\"dataframe\">\n",
              "  <thead>\n",
              "    <tr style=\"text-align: right;\">\n",
              "      <th></th>\n",
              "      <th>price</th>\n",
              "      <th>area</th>\n",
              "      <th>bedrooms</th>\n",
              "      <th>bathrooms</th>\n",
              "      <th>stories</th>\n",
              "      <th>mainroad</th>\n",
              "      <th>guestroom</th>\n",
              "      <th>basement</th>\n",
              "      <th>hotwaterheating</th>\n",
              "      <th>airconditioning</th>\n",
              "      <th>parking</th>\n",
              "      <th>prefarea</th>\n",
              "      <th>furnishingstatus</th>\n",
              "    </tr>\n",
              "  </thead>\n",
              "  <tbody>\n",
              "    <tr>\n",
              "      <th>0</th>\n",
              "      <td>13300000</td>\n",
              "      <td>7420</td>\n",
              "      <td>4</td>\n",
              "      <td>2</td>\n",
              "      <td>3</td>\n",
              "      <td>yes</td>\n",
              "      <td>no</td>\n",
              "      <td>no</td>\n",
              "      <td>no</td>\n",
              "      <td>yes</td>\n",
              "      <td>2</td>\n",
              "      <td>yes</td>\n",
              "      <td>furnished</td>\n",
              "    </tr>\n",
              "    <tr>\n",
              "      <th>1</th>\n",
              "      <td>12250000</td>\n",
              "      <td>8960</td>\n",
              "      <td>4</td>\n",
              "      <td>4</td>\n",
              "      <td>4</td>\n",
              "      <td>yes</td>\n",
              "      <td>no</td>\n",
              "      <td>no</td>\n",
              "      <td>no</td>\n",
              "      <td>yes</td>\n",
              "      <td>3</td>\n",
              "      <td>no</td>\n",
              "      <td>furnished</td>\n",
              "    </tr>\n",
              "    <tr>\n",
              "      <th>2</th>\n",
              "      <td>12250000</td>\n",
              "      <td>9960</td>\n",
              "      <td>3</td>\n",
              "      <td>2</td>\n",
              "      <td>2</td>\n",
              "      <td>yes</td>\n",
              "      <td>no</td>\n",
              "      <td>yes</td>\n",
              "      <td>no</td>\n",
              "      <td>no</td>\n",
              "      <td>2</td>\n",
              "      <td>yes</td>\n",
              "      <td>semi-furnished</td>\n",
              "    </tr>\n",
              "    <tr>\n",
              "      <th>3</th>\n",
              "      <td>12215000</td>\n",
              "      <td>7500</td>\n",
              "      <td>4</td>\n",
              "      <td>2</td>\n",
              "      <td>2</td>\n",
              "      <td>yes</td>\n",
              "      <td>no</td>\n",
              "      <td>yes</td>\n",
              "      <td>no</td>\n",
              "      <td>yes</td>\n",
              "      <td>3</td>\n",
              "      <td>yes</td>\n",
              "      <td>furnished</td>\n",
              "    </tr>\n",
              "    <tr>\n",
              "      <th>4</th>\n",
              "      <td>11410000</td>\n",
              "      <td>7420</td>\n",
              "      <td>4</td>\n",
              "      <td>1</td>\n",
              "      <td>2</td>\n",
              "      <td>yes</td>\n",
              "      <td>yes</td>\n",
              "      <td>yes</td>\n",
              "      <td>no</td>\n",
              "      <td>yes</td>\n",
              "      <td>2</td>\n",
              "      <td>no</td>\n",
              "      <td>furnished</td>\n",
              "    </tr>\n",
              "  </tbody>\n",
              "</table>\n",
              "</div>"
            ],
            "text/plain": [
              "      price  area  bedrooms  ...  parking  prefarea furnishingstatus\n",
              "0  13300000  7420         4  ...        2       yes        furnished\n",
              "1  12250000  8960         4  ...        3        no        furnished\n",
              "2  12250000  9960         3  ...        2       yes   semi-furnished\n",
              "3  12215000  7500         4  ...        3       yes        furnished\n",
              "4  11410000  7420         4  ...        2        no        furnished\n",
              "\n",
              "[5 rows x 13 columns]"
            ]
          },
          "metadata": {
            "tags": []
          },
          "execution_count": 1893
        }
      ]
    },
    {
      "cell_type": "code",
      "metadata": {
        "colab": {
          "base_uri": "https://localhost:8080/"
        },
        "id": "YwheTgXu8tBg",
        "outputId": "3039b0ae-c96d-4faf-8f89-c66d13b08af1"
      },
      "source": [
        "# What type of values are stored in the columns?\n",
        "housing.info()\n"
      ],
      "execution_count": 1894,
      "outputs": [
        {
          "output_type": "stream",
          "text": [
            "<class 'pandas.core.frame.DataFrame'>\n",
            "RangeIndex: 545 entries, 0 to 544\n",
            "Data columns (total 13 columns):\n",
            " #   Column            Non-Null Count  Dtype \n",
            "---  ------            --------------  ----- \n",
            " 0   price             545 non-null    int64 \n",
            " 1   area              545 non-null    int64 \n",
            " 2   bedrooms          545 non-null    int64 \n",
            " 3   bathrooms         545 non-null    int64 \n",
            " 4   stories           545 non-null    int64 \n",
            " 5   mainroad          545 non-null    object\n",
            " 6   guestroom         545 non-null    object\n",
            " 7   basement          545 non-null    object\n",
            " 8   hotwaterheating   545 non-null    object\n",
            " 9   airconditioning   545 non-null    object\n",
            " 10  parking           545 non-null    int64 \n",
            " 11  prefarea          545 non-null    object\n",
            " 12  furnishingstatus  545 non-null    object\n",
            "dtypes: int64(6), object(7)\n",
            "memory usage: 55.5+ KB\n"
          ],
          "name": "stdout"
        }
      ]
    },
    {
      "cell_type": "markdown",
      "metadata": {
        "id": "zdJzMw6G8tBh"
      },
      "source": [
        "### Data Preparation\n",
        "\n",
        "\n",
        "<p style='text-align: right;'> 12 points</p>\n",
        "\n",
        "- You can see that your dataset has many columns with values as 'Yes' or 'No'.\n",
        "\n",
        "- We need to convert them to 1s and 0s, where 1 is a 'Yes' and 0 is a 'No'.\n",
        "\n",
        "Refer: https://www.youtube.com/watch?v=uM4_SY4mXj4"
      ]
    },
    {
      "cell_type": "code",
      "metadata": {
        "id": "MQBOKbmW8tBh"
      },
      "source": [
        "# Converting Yes to 1 and No to 0 using map function\n",
        "def binary_map(x):\n",
        "  if x == 'yes':\n",
        "    return 1\n",
        "  elif x == 'no':\n",
        "    return 0\n",
        "\n",
        "housing['mainroad'] = housing['mainroad'].map(binary_map)\n",
        "housing['guestroom'] = housing['guestroom'].map(binary_map)\n",
        "housing['basement'] = housing['basement'].map(binary_map)\n",
        "housing['hotwaterheating'] = housing['hotwaterheating'].map(binary_map)\n",
        "housing['airconditioning'] = housing['airconditioning'].map(binary_map)\n",
        "housing['prefarea'] = housing['prefarea'].map(binary_map)"
      ],
      "execution_count": 1895,
      "outputs": []
    },
    {
      "cell_type": "code",
      "metadata": {
        "colab": {
          "base_uri": "https://localhost:8080/",
          "height": 204
        },
        "id": "yUTdDkV58tBi",
        "outputId": "a9b195b1-9d0f-425d-ca4c-75bb7f58e666"
      },
      "source": [
        "# Now let's see the head\n",
        "housing.head()\n"
      ],
      "execution_count": 1896,
      "outputs": [
        {
          "output_type": "execute_result",
          "data": {
            "text/html": [
              "<div>\n",
              "<style scoped>\n",
              "    .dataframe tbody tr th:only-of-type {\n",
              "        vertical-align: middle;\n",
              "    }\n",
              "\n",
              "    .dataframe tbody tr th {\n",
              "        vertical-align: top;\n",
              "    }\n",
              "\n",
              "    .dataframe thead th {\n",
              "        text-align: right;\n",
              "    }\n",
              "</style>\n",
              "<table border=\"1\" class=\"dataframe\">\n",
              "  <thead>\n",
              "    <tr style=\"text-align: right;\">\n",
              "      <th></th>\n",
              "      <th>price</th>\n",
              "      <th>area</th>\n",
              "      <th>bedrooms</th>\n",
              "      <th>bathrooms</th>\n",
              "      <th>stories</th>\n",
              "      <th>mainroad</th>\n",
              "      <th>guestroom</th>\n",
              "      <th>basement</th>\n",
              "      <th>hotwaterheating</th>\n",
              "      <th>airconditioning</th>\n",
              "      <th>parking</th>\n",
              "      <th>prefarea</th>\n",
              "      <th>furnishingstatus</th>\n",
              "    </tr>\n",
              "  </thead>\n",
              "  <tbody>\n",
              "    <tr>\n",
              "      <th>0</th>\n",
              "      <td>13300000</td>\n",
              "      <td>7420</td>\n",
              "      <td>4</td>\n",
              "      <td>2</td>\n",
              "      <td>3</td>\n",
              "      <td>1</td>\n",
              "      <td>0</td>\n",
              "      <td>0</td>\n",
              "      <td>0</td>\n",
              "      <td>1</td>\n",
              "      <td>2</td>\n",
              "      <td>1</td>\n",
              "      <td>furnished</td>\n",
              "    </tr>\n",
              "    <tr>\n",
              "      <th>1</th>\n",
              "      <td>12250000</td>\n",
              "      <td>8960</td>\n",
              "      <td>4</td>\n",
              "      <td>4</td>\n",
              "      <td>4</td>\n",
              "      <td>1</td>\n",
              "      <td>0</td>\n",
              "      <td>0</td>\n",
              "      <td>0</td>\n",
              "      <td>1</td>\n",
              "      <td>3</td>\n",
              "      <td>0</td>\n",
              "      <td>furnished</td>\n",
              "    </tr>\n",
              "    <tr>\n",
              "      <th>2</th>\n",
              "      <td>12250000</td>\n",
              "      <td>9960</td>\n",
              "      <td>3</td>\n",
              "      <td>2</td>\n",
              "      <td>2</td>\n",
              "      <td>1</td>\n",
              "      <td>0</td>\n",
              "      <td>1</td>\n",
              "      <td>0</td>\n",
              "      <td>0</td>\n",
              "      <td>2</td>\n",
              "      <td>1</td>\n",
              "      <td>semi-furnished</td>\n",
              "    </tr>\n",
              "    <tr>\n",
              "      <th>3</th>\n",
              "      <td>12215000</td>\n",
              "      <td>7500</td>\n",
              "      <td>4</td>\n",
              "      <td>2</td>\n",
              "      <td>2</td>\n",
              "      <td>1</td>\n",
              "      <td>0</td>\n",
              "      <td>1</td>\n",
              "      <td>0</td>\n",
              "      <td>1</td>\n",
              "      <td>3</td>\n",
              "      <td>1</td>\n",
              "      <td>furnished</td>\n",
              "    </tr>\n",
              "    <tr>\n",
              "      <th>4</th>\n",
              "      <td>11410000</td>\n",
              "      <td>7420</td>\n",
              "      <td>4</td>\n",
              "      <td>1</td>\n",
              "      <td>2</td>\n",
              "      <td>1</td>\n",
              "      <td>1</td>\n",
              "      <td>1</td>\n",
              "      <td>0</td>\n",
              "      <td>1</td>\n",
              "      <td>2</td>\n",
              "      <td>0</td>\n",
              "      <td>furnished</td>\n",
              "    </tr>\n",
              "  </tbody>\n",
              "</table>\n",
              "</div>"
            ],
            "text/plain": [
              "      price  area  bedrooms  ...  parking  prefarea  furnishingstatus\n",
              "0  13300000  7420         4  ...        2         1         furnished\n",
              "1  12250000  8960         4  ...        3         0         furnished\n",
              "2  12250000  9960         3  ...        2         1    semi-furnished\n",
              "3  12215000  7500         4  ...        3         1         furnished\n",
              "4  11410000  7420         4  ...        2         0         furnished\n",
              "\n",
              "[5 rows x 13 columns]"
            ]
          },
          "metadata": {
            "tags": []
          },
          "execution_count": 1896
        }
      ]
    },
    {
      "cell_type": "markdown",
      "metadata": {
        "id": "vRavWALS8tBj"
      },
      "source": [
        "The variable 'furnishingstatus' had three levels. We need to convert it to integer.\n",
        "\n",
        "Refer: https://www.youtube.com/watch?v=giFnLPo68tM"
      ]
    },
    {
      "cell_type": "code",
      "metadata": {
        "id": "Z41s1Jej8tBj"
      },
      "source": [
        "# Creating a dummy variable for 'furnishingstatus' or you can say we want to do one-hot encoding on it.\n",
        "status = pd.get_dummies(housing['furnishingstatus'])"
      ],
      "execution_count": 1897,
      "outputs": []
    },
    {
      "cell_type": "code",
      "metadata": {
        "colab": {
          "base_uri": "https://localhost:8080/",
          "height": 419
        },
        "id": "yJlPhP4o8tBk",
        "outputId": "c6c03d77-915c-4cde-a097-fec480c7b5e2"
      },
      "source": [
        "# The result has created three variables that are not needed.\n",
        "status"
      ],
      "execution_count": 1898,
      "outputs": [
        {
          "output_type": "execute_result",
          "data": {
            "text/html": [
              "<div>\n",
              "<style scoped>\n",
              "    .dataframe tbody tr th:only-of-type {\n",
              "        vertical-align: middle;\n",
              "    }\n",
              "\n",
              "    .dataframe tbody tr th {\n",
              "        vertical-align: top;\n",
              "    }\n",
              "\n",
              "    .dataframe thead th {\n",
              "        text-align: right;\n",
              "    }\n",
              "</style>\n",
              "<table border=\"1\" class=\"dataframe\">\n",
              "  <thead>\n",
              "    <tr style=\"text-align: right;\">\n",
              "      <th></th>\n",
              "      <th>furnished</th>\n",
              "      <th>semi-furnished</th>\n",
              "      <th>unfurnished</th>\n",
              "    </tr>\n",
              "  </thead>\n",
              "  <tbody>\n",
              "    <tr>\n",
              "      <th>0</th>\n",
              "      <td>1</td>\n",
              "      <td>0</td>\n",
              "      <td>0</td>\n",
              "    </tr>\n",
              "    <tr>\n",
              "      <th>1</th>\n",
              "      <td>1</td>\n",
              "      <td>0</td>\n",
              "      <td>0</td>\n",
              "    </tr>\n",
              "    <tr>\n",
              "      <th>2</th>\n",
              "      <td>0</td>\n",
              "      <td>1</td>\n",
              "      <td>0</td>\n",
              "    </tr>\n",
              "    <tr>\n",
              "      <th>3</th>\n",
              "      <td>1</td>\n",
              "      <td>0</td>\n",
              "      <td>0</td>\n",
              "    </tr>\n",
              "    <tr>\n",
              "      <th>4</th>\n",
              "      <td>1</td>\n",
              "      <td>0</td>\n",
              "      <td>0</td>\n",
              "    </tr>\n",
              "    <tr>\n",
              "      <th>...</th>\n",
              "      <td>...</td>\n",
              "      <td>...</td>\n",
              "      <td>...</td>\n",
              "    </tr>\n",
              "    <tr>\n",
              "      <th>540</th>\n",
              "      <td>0</td>\n",
              "      <td>0</td>\n",
              "      <td>1</td>\n",
              "    </tr>\n",
              "    <tr>\n",
              "      <th>541</th>\n",
              "      <td>0</td>\n",
              "      <td>1</td>\n",
              "      <td>0</td>\n",
              "    </tr>\n",
              "    <tr>\n",
              "      <th>542</th>\n",
              "      <td>0</td>\n",
              "      <td>0</td>\n",
              "      <td>1</td>\n",
              "    </tr>\n",
              "    <tr>\n",
              "      <th>543</th>\n",
              "      <td>1</td>\n",
              "      <td>0</td>\n",
              "      <td>0</td>\n",
              "    </tr>\n",
              "    <tr>\n",
              "      <th>544</th>\n",
              "      <td>0</td>\n",
              "      <td>0</td>\n",
              "      <td>1</td>\n",
              "    </tr>\n",
              "  </tbody>\n",
              "</table>\n",
              "<p>545 rows × 3 columns</p>\n",
              "</div>"
            ],
            "text/plain": [
              "     furnished  semi-furnished  unfurnished\n",
              "0            1               0            0\n",
              "1            1               0            0\n",
              "2            0               1            0\n",
              "3            1               0            0\n",
              "4            1               0            0\n",
              "..         ...             ...          ...\n",
              "540          0               0            1\n",
              "541          0               1            0\n",
              "542          0               0            1\n",
              "543          1               0            0\n",
              "544          0               0            1\n",
              "\n",
              "[545 rows x 3 columns]"
            ]
          },
          "metadata": {
            "tags": []
          },
          "execution_count": 1898
        }
      ]
    },
    {
      "cell_type": "code",
      "metadata": {
        "id": "6CFPQfub8tBl"
      },
      "source": [
        "# we don't need 3 columns.\n",
        "# we can use drop_first = True to drop the first column from status dataframe.\n",
        "status = pd.get_dummies(housing['furnishingstatus'],drop_first = True)\n"
      ],
      "execution_count": 1899,
      "outputs": []
    },
    {
      "cell_type": "code",
      "metadata": {
        "colab": {
          "base_uri": "https://localhost:8080/",
          "height": 419
        },
        "id": "7-cruKNv8tBm",
        "outputId": "3a04aa19-4108-42a8-d995-ec534fb386ed"
      },
      "source": [
        "#print status\n",
        "status"
      ],
      "execution_count": 1900,
      "outputs": [
        {
          "output_type": "execute_result",
          "data": {
            "text/html": [
              "<div>\n",
              "<style scoped>\n",
              "    .dataframe tbody tr th:only-of-type {\n",
              "        vertical-align: middle;\n",
              "    }\n",
              "\n",
              "    .dataframe tbody tr th {\n",
              "        vertical-align: top;\n",
              "    }\n",
              "\n",
              "    .dataframe thead th {\n",
              "        text-align: right;\n",
              "    }\n",
              "</style>\n",
              "<table border=\"1\" class=\"dataframe\">\n",
              "  <thead>\n",
              "    <tr style=\"text-align: right;\">\n",
              "      <th></th>\n",
              "      <th>semi-furnished</th>\n",
              "      <th>unfurnished</th>\n",
              "    </tr>\n",
              "  </thead>\n",
              "  <tbody>\n",
              "    <tr>\n",
              "      <th>0</th>\n",
              "      <td>0</td>\n",
              "      <td>0</td>\n",
              "    </tr>\n",
              "    <tr>\n",
              "      <th>1</th>\n",
              "      <td>0</td>\n",
              "      <td>0</td>\n",
              "    </tr>\n",
              "    <tr>\n",
              "      <th>2</th>\n",
              "      <td>1</td>\n",
              "      <td>0</td>\n",
              "    </tr>\n",
              "    <tr>\n",
              "      <th>3</th>\n",
              "      <td>0</td>\n",
              "      <td>0</td>\n",
              "    </tr>\n",
              "    <tr>\n",
              "      <th>4</th>\n",
              "      <td>0</td>\n",
              "      <td>0</td>\n",
              "    </tr>\n",
              "    <tr>\n",
              "      <th>...</th>\n",
              "      <td>...</td>\n",
              "      <td>...</td>\n",
              "    </tr>\n",
              "    <tr>\n",
              "      <th>540</th>\n",
              "      <td>0</td>\n",
              "      <td>1</td>\n",
              "    </tr>\n",
              "    <tr>\n",
              "      <th>541</th>\n",
              "      <td>1</td>\n",
              "      <td>0</td>\n",
              "    </tr>\n",
              "    <tr>\n",
              "      <th>542</th>\n",
              "      <td>0</td>\n",
              "      <td>1</td>\n",
              "    </tr>\n",
              "    <tr>\n",
              "      <th>543</th>\n",
              "      <td>0</td>\n",
              "      <td>0</td>\n",
              "    </tr>\n",
              "    <tr>\n",
              "      <th>544</th>\n",
              "      <td>0</td>\n",
              "      <td>1</td>\n",
              "    </tr>\n",
              "  </tbody>\n",
              "</table>\n",
              "<p>545 rows × 2 columns</p>\n",
              "</div>"
            ],
            "text/plain": [
              "     semi-furnished  unfurnished\n",
              "0                 0            0\n",
              "1                 0            0\n",
              "2                 1            0\n",
              "3                 0            0\n",
              "4                 0            0\n",
              "..              ...          ...\n",
              "540               0            1\n",
              "541               1            0\n",
              "542               0            1\n",
              "543               0            0\n",
              "544               0            1\n",
              "\n",
              "[545 rows x 2 columns]"
            ]
          },
          "metadata": {
            "tags": []
          },
          "execution_count": 1900
        }
      ]
    },
    {
      "cell_type": "code",
      "metadata": {
        "id": "KAcU6TrH8tBn"
      },
      "source": [
        "#Adding the results to the master dataframe i.e housing\n",
        "housing = pd.concat([housing, status], axis = 1)"
      ],
      "execution_count": 1901,
      "outputs": []
    },
    {
      "cell_type": "code",
      "metadata": {
        "id": "5bHbBbCj8tBn"
      },
      "source": [
        "# Dropping furnishingstatus from housing data as we have created the dummies for it\n",
        "housing.drop(columns='furnishingstatus', axis = 1, inplace = True)"
      ],
      "execution_count": 1902,
      "outputs": []
    },
    {
      "cell_type": "code",
      "metadata": {
        "colab": {
          "base_uri": "https://localhost:8080/",
          "height": 204
        },
        "id": "TbMOuF9S8tBo",
        "outputId": "881661da-c058-4827-8006-83705a659ee1"
      },
      "source": [
        "# Now let's see the head of our dataframe.\n",
        "housing.head()"
      ],
      "execution_count": 1903,
      "outputs": [
        {
          "output_type": "execute_result",
          "data": {
            "text/html": [
              "<div>\n",
              "<style scoped>\n",
              "    .dataframe tbody tr th:only-of-type {\n",
              "        vertical-align: middle;\n",
              "    }\n",
              "\n",
              "    .dataframe tbody tr th {\n",
              "        vertical-align: top;\n",
              "    }\n",
              "\n",
              "    .dataframe thead th {\n",
              "        text-align: right;\n",
              "    }\n",
              "</style>\n",
              "<table border=\"1\" class=\"dataframe\">\n",
              "  <thead>\n",
              "    <tr style=\"text-align: right;\">\n",
              "      <th></th>\n",
              "      <th>price</th>\n",
              "      <th>area</th>\n",
              "      <th>bedrooms</th>\n",
              "      <th>bathrooms</th>\n",
              "      <th>stories</th>\n",
              "      <th>mainroad</th>\n",
              "      <th>guestroom</th>\n",
              "      <th>basement</th>\n",
              "      <th>hotwaterheating</th>\n",
              "      <th>airconditioning</th>\n",
              "      <th>parking</th>\n",
              "      <th>prefarea</th>\n",
              "      <th>semi-furnished</th>\n",
              "      <th>unfurnished</th>\n",
              "    </tr>\n",
              "  </thead>\n",
              "  <tbody>\n",
              "    <tr>\n",
              "      <th>0</th>\n",
              "      <td>13300000</td>\n",
              "      <td>7420</td>\n",
              "      <td>4</td>\n",
              "      <td>2</td>\n",
              "      <td>3</td>\n",
              "      <td>1</td>\n",
              "      <td>0</td>\n",
              "      <td>0</td>\n",
              "      <td>0</td>\n",
              "      <td>1</td>\n",
              "      <td>2</td>\n",
              "      <td>1</td>\n",
              "      <td>0</td>\n",
              "      <td>0</td>\n",
              "    </tr>\n",
              "    <tr>\n",
              "      <th>1</th>\n",
              "      <td>12250000</td>\n",
              "      <td>8960</td>\n",
              "      <td>4</td>\n",
              "      <td>4</td>\n",
              "      <td>4</td>\n",
              "      <td>1</td>\n",
              "      <td>0</td>\n",
              "      <td>0</td>\n",
              "      <td>0</td>\n",
              "      <td>1</td>\n",
              "      <td>3</td>\n",
              "      <td>0</td>\n",
              "      <td>0</td>\n",
              "      <td>0</td>\n",
              "    </tr>\n",
              "    <tr>\n",
              "      <th>2</th>\n",
              "      <td>12250000</td>\n",
              "      <td>9960</td>\n",
              "      <td>3</td>\n",
              "      <td>2</td>\n",
              "      <td>2</td>\n",
              "      <td>1</td>\n",
              "      <td>0</td>\n",
              "      <td>1</td>\n",
              "      <td>0</td>\n",
              "      <td>0</td>\n",
              "      <td>2</td>\n",
              "      <td>1</td>\n",
              "      <td>1</td>\n",
              "      <td>0</td>\n",
              "    </tr>\n",
              "    <tr>\n",
              "      <th>3</th>\n",
              "      <td>12215000</td>\n",
              "      <td>7500</td>\n",
              "      <td>4</td>\n",
              "      <td>2</td>\n",
              "      <td>2</td>\n",
              "      <td>1</td>\n",
              "      <td>0</td>\n",
              "      <td>1</td>\n",
              "      <td>0</td>\n",
              "      <td>1</td>\n",
              "      <td>3</td>\n",
              "      <td>1</td>\n",
              "      <td>0</td>\n",
              "      <td>0</td>\n",
              "    </tr>\n",
              "    <tr>\n",
              "      <th>4</th>\n",
              "      <td>11410000</td>\n",
              "      <td>7420</td>\n",
              "      <td>4</td>\n",
              "      <td>1</td>\n",
              "      <td>2</td>\n",
              "      <td>1</td>\n",
              "      <td>1</td>\n",
              "      <td>1</td>\n",
              "      <td>0</td>\n",
              "      <td>1</td>\n",
              "      <td>2</td>\n",
              "      <td>0</td>\n",
              "      <td>0</td>\n",
              "      <td>0</td>\n",
              "    </tr>\n",
              "  </tbody>\n",
              "</table>\n",
              "</div>"
            ],
            "text/plain": [
              "      price  area  bedrooms  ...  prefarea  semi-furnished  unfurnished\n",
              "0  13300000  7420         4  ...         1               0            0\n",
              "1  12250000  8960         4  ...         0               0            0\n",
              "2  12250000  9960         3  ...         1               1            0\n",
              "3  12215000  7500         4  ...         1               0            0\n",
              "4  11410000  7420         4  ...         0               0            0\n",
              "\n",
              "[5 rows x 14 columns]"
            ]
          },
          "metadata": {
            "tags": []
          },
          "execution_count": 1903
        }
      ]
    },
    {
      "cell_type": "markdown",
      "metadata": {
        "id": "7Q_cnMCh8tBp"
      },
      "source": [
        "#### Creating a new variable"
      ]
    },
    {
      "cell_type": "code",
      "metadata": {
        "id": "QmcUq7t08tBp"
      },
      "source": [
        "# Let us create the new metric and assign it to \"areaperbedroom\". As name suggested you need to calculate area per bedroom\n",
        "#Didn't check division by zero coz bedroooms have minimum value as 1\n",
        "housing['areaperbedroom'] = housing['area']/housing['bedrooms']#"
      ],
      "execution_count": 1904,
      "outputs": []
    },
    {
      "cell_type": "code",
      "metadata": {
        "id": "EvxvMhqb8tBq"
      },
      "source": [
        "# Create another new Metric:bathrooms per bedroom\n",
        "housing['bbratio'] = housing['bathrooms']/housing['bedrooms']#"
      ],
      "execution_count": 1905,
      "outputs": []
    },
    {
      "cell_type": "code",
      "metadata": {
        "colab": {
          "base_uri": "https://localhost:8080/",
          "height": 0
        },
        "id": "x1qSed1h8tBr",
        "outputId": "48713651-e54e-41f3-98fb-3c434099759f"
      },
      "source": [
        "# print housing head\n",
        "housing.head()\n"
      ],
      "execution_count": 1906,
      "outputs": [
        {
          "output_type": "execute_result",
          "data": {
            "text/html": [
              "<div>\n",
              "<style scoped>\n",
              "    .dataframe tbody tr th:only-of-type {\n",
              "        vertical-align: middle;\n",
              "    }\n",
              "\n",
              "    .dataframe tbody tr th {\n",
              "        vertical-align: top;\n",
              "    }\n",
              "\n",
              "    .dataframe thead th {\n",
              "        text-align: right;\n",
              "    }\n",
              "</style>\n",
              "<table border=\"1\" class=\"dataframe\">\n",
              "  <thead>\n",
              "    <tr style=\"text-align: right;\">\n",
              "      <th></th>\n",
              "      <th>price</th>\n",
              "      <th>area</th>\n",
              "      <th>bedrooms</th>\n",
              "      <th>bathrooms</th>\n",
              "      <th>stories</th>\n",
              "      <th>mainroad</th>\n",
              "      <th>guestroom</th>\n",
              "      <th>basement</th>\n",
              "      <th>hotwaterheating</th>\n",
              "      <th>airconditioning</th>\n",
              "      <th>parking</th>\n",
              "      <th>prefarea</th>\n",
              "      <th>semi-furnished</th>\n",
              "      <th>unfurnished</th>\n",
              "      <th>areaperbedroom</th>\n",
              "      <th>bbratio</th>\n",
              "    </tr>\n",
              "  </thead>\n",
              "  <tbody>\n",
              "    <tr>\n",
              "      <th>0</th>\n",
              "      <td>13300000</td>\n",
              "      <td>7420</td>\n",
              "      <td>4</td>\n",
              "      <td>2</td>\n",
              "      <td>3</td>\n",
              "      <td>1</td>\n",
              "      <td>0</td>\n",
              "      <td>0</td>\n",
              "      <td>0</td>\n",
              "      <td>1</td>\n",
              "      <td>2</td>\n",
              "      <td>1</td>\n",
              "      <td>0</td>\n",
              "      <td>0</td>\n",
              "      <td>1855.0</td>\n",
              "      <td>0.500000</td>\n",
              "    </tr>\n",
              "    <tr>\n",
              "      <th>1</th>\n",
              "      <td>12250000</td>\n",
              "      <td>8960</td>\n",
              "      <td>4</td>\n",
              "      <td>4</td>\n",
              "      <td>4</td>\n",
              "      <td>1</td>\n",
              "      <td>0</td>\n",
              "      <td>0</td>\n",
              "      <td>0</td>\n",
              "      <td>1</td>\n",
              "      <td>3</td>\n",
              "      <td>0</td>\n",
              "      <td>0</td>\n",
              "      <td>0</td>\n",
              "      <td>2240.0</td>\n",
              "      <td>1.000000</td>\n",
              "    </tr>\n",
              "    <tr>\n",
              "      <th>2</th>\n",
              "      <td>12250000</td>\n",
              "      <td>9960</td>\n",
              "      <td>3</td>\n",
              "      <td>2</td>\n",
              "      <td>2</td>\n",
              "      <td>1</td>\n",
              "      <td>0</td>\n",
              "      <td>1</td>\n",
              "      <td>0</td>\n",
              "      <td>0</td>\n",
              "      <td>2</td>\n",
              "      <td>1</td>\n",
              "      <td>1</td>\n",
              "      <td>0</td>\n",
              "      <td>3320.0</td>\n",
              "      <td>0.666667</td>\n",
              "    </tr>\n",
              "    <tr>\n",
              "      <th>3</th>\n",
              "      <td>12215000</td>\n",
              "      <td>7500</td>\n",
              "      <td>4</td>\n",
              "      <td>2</td>\n",
              "      <td>2</td>\n",
              "      <td>1</td>\n",
              "      <td>0</td>\n",
              "      <td>1</td>\n",
              "      <td>0</td>\n",
              "      <td>1</td>\n",
              "      <td>3</td>\n",
              "      <td>1</td>\n",
              "      <td>0</td>\n",
              "      <td>0</td>\n",
              "      <td>1875.0</td>\n",
              "      <td>0.500000</td>\n",
              "    </tr>\n",
              "    <tr>\n",
              "      <th>4</th>\n",
              "      <td>11410000</td>\n",
              "      <td>7420</td>\n",
              "      <td>4</td>\n",
              "      <td>1</td>\n",
              "      <td>2</td>\n",
              "      <td>1</td>\n",
              "      <td>1</td>\n",
              "      <td>1</td>\n",
              "      <td>0</td>\n",
              "      <td>1</td>\n",
              "      <td>2</td>\n",
              "      <td>0</td>\n",
              "      <td>0</td>\n",
              "      <td>0</td>\n",
              "      <td>1855.0</td>\n",
              "      <td>0.250000</td>\n",
              "    </tr>\n",
              "  </tbody>\n",
              "</table>\n",
              "</div>"
            ],
            "text/plain": [
              "      price  area  bedrooms  ...  unfurnished  areaperbedroom   bbratio\n",
              "0  13300000  7420         4  ...            0          1855.0  0.500000\n",
              "1  12250000  8960         4  ...            0          2240.0  1.000000\n",
              "2  12250000  9960         3  ...            0          3320.0  0.666667\n",
              "3  12215000  7500         4  ...            0          1875.0  0.500000\n",
              "4  11410000  7420         4  ...            0          1855.0  0.250000\n",
              "\n",
              "[5 rows x 16 columns]"
            ]
          },
          "metadata": {
            "tags": []
          },
          "execution_count": 1906
        }
      ]
    },
    {
      "cell_type": "markdown",
      "metadata": {
        "id": "e_Vg2jWl8tBs"
      },
      "source": [
        "### Rescaling the Features \n",
        "\n",
        "<p style='text-align: right;'> 5 points</p>\n",
        "\n",
        "It is extremely important to rescale the variables so that they have a comparable scale. \n",
        "There are two common ways of rescaling which you might be knowing by solving your previous assignments.\n",
        "\n",
        "1. Normalisation (min-max scaling) and \n",
        "2. standardisation (mean-o, sigma-1) \n",
        "\n",
        "Let's try normalisation\n",
        "\n",
        "Refer: https://www.youtube.com/watch?v=mnKm3YP56PY"
      ]
    },
    {
      "cell_type": "code",
      "metadata": {
        "colab": {
          "base_uri": "https://localhost:8080/",
          "height": 0
        },
        "id": "9STKeYWy8tBt",
        "outputId": "d3ffd051-8e07-4f3e-e81a-165fccc4d7e3"
      },
      "source": [
        "#defining a normalisation function \n",
        "#hint use formula=(x-min(x))/(max(x) - min(x))\n",
        "def normalize(x): \n",
        "  return((x-min(x))/(max(x) - min(x)))\n",
        "                                            \n",
        "                                              \n",
        "# applying normalize ( ) to all columns using apply function \n",
        "housing = housing.apply(normalize)#\n",
        "housing.head()"
      ],
      "execution_count": 1907,
      "outputs": [
        {
          "output_type": "execute_result",
          "data": {
            "text/html": [
              "<div>\n",
              "<style scoped>\n",
              "    .dataframe tbody tr th:only-of-type {\n",
              "        vertical-align: middle;\n",
              "    }\n",
              "\n",
              "    .dataframe tbody tr th {\n",
              "        vertical-align: top;\n",
              "    }\n",
              "\n",
              "    .dataframe thead th {\n",
              "        text-align: right;\n",
              "    }\n",
              "</style>\n",
              "<table border=\"1\" class=\"dataframe\">\n",
              "  <thead>\n",
              "    <tr style=\"text-align: right;\">\n",
              "      <th></th>\n",
              "      <th>price</th>\n",
              "      <th>area</th>\n",
              "      <th>bedrooms</th>\n",
              "      <th>bathrooms</th>\n",
              "      <th>stories</th>\n",
              "      <th>mainroad</th>\n",
              "      <th>guestroom</th>\n",
              "      <th>basement</th>\n",
              "      <th>hotwaterheating</th>\n",
              "      <th>airconditioning</th>\n",
              "      <th>parking</th>\n",
              "      <th>prefarea</th>\n",
              "      <th>semi-furnished</th>\n",
              "      <th>unfurnished</th>\n",
              "      <th>areaperbedroom</th>\n",
              "      <th>bbratio</th>\n",
              "    </tr>\n",
              "  </thead>\n",
              "  <tbody>\n",
              "    <tr>\n",
              "      <th>0</th>\n",
              "      <td>1.000000</td>\n",
              "      <td>0.396564</td>\n",
              "      <td>0.6</td>\n",
              "      <td>0.333333</td>\n",
              "      <td>0.666667</td>\n",
              "      <td>1.0</td>\n",
              "      <td>0.0</td>\n",
              "      <td>0.0</td>\n",
              "      <td>0.0</td>\n",
              "      <td>1.0</td>\n",
              "      <td>0.666667</td>\n",
              "      <td>1.0</td>\n",
              "      <td>0.0</td>\n",
              "      <td>0.0</td>\n",
              "      <td>0.237016</td>\n",
              "      <td>0.4</td>\n",
              "    </tr>\n",
              "    <tr>\n",
              "      <th>1</th>\n",
              "      <td>0.909091</td>\n",
              "      <td>0.502405</td>\n",
              "      <td>0.6</td>\n",
              "      <td>1.000000</td>\n",
              "      <td>1.000000</td>\n",
              "      <td>1.0</td>\n",
              "      <td>0.0</td>\n",
              "      <td>0.0</td>\n",
              "      <td>0.0</td>\n",
              "      <td>1.0</td>\n",
              "      <td>1.000000</td>\n",
              "      <td>0.0</td>\n",
              "      <td>0.0</td>\n",
              "      <td>0.0</td>\n",
              "      <td>0.298923</td>\n",
              "      <td>1.0</td>\n",
              "    </tr>\n",
              "    <tr>\n",
              "      <th>2</th>\n",
              "      <td>0.909091</td>\n",
              "      <td>0.571134</td>\n",
              "      <td>0.4</td>\n",
              "      <td>0.333333</td>\n",
              "      <td>0.333333</td>\n",
              "      <td>1.0</td>\n",
              "      <td>0.0</td>\n",
              "      <td>1.0</td>\n",
              "      <td>0.0</td>\n",
              "      <td>0.0</td>\n",
              "      <td>0.666667</td>\n",
              "      <td>1.0</td>\n",
              "      <td>1.0</td>\n",
              "      <td>0.0</td>\n",
              "      <td>0.472584</td>\n",
              "      <td>0.6</td>\n",
              "    </tr>\n",
              "    <tr>\n",
              "      <th>3</th>\n",
              "      <td>0.906061</td>\n",
              "      <td>0.402062</td>\n",
              "      <td>0.6</td>\n",
              "      <td>0.333333</td>\n",
              "      <td>0.333333</td>\n",
              "      <td>1.0</td>\n",
              "      <td>0.0</td>\n",
              "      <td>1.0</td>\n",
              "      <td>0.0</td>\n",
              "      <td>1.0</td>\n",
              "      <td>1.000000</td>\n",
              "      <td>1.0</td>\n",
              "      <td>0.0</td>\n",
              "      <td>0.0</td>\n",
              "      <td>0.240232</td>\n",
              "      <td>0.4</td>\n",
              "    </tr>\n",
              "    <tr>\n",
              "      <th>4</th>\n",
              "      <td>0.836364</td>\n",
              "      <td>0.396564</td>\n",
              "      <td>0.6</td>\n",
              "      <td>0.000000</td>\n",
              "      <td>0.333333</td>\n",
              "      <td>1.0</td>\n",
              "      <td>1.0</td>\n",
              "      <td>1.0</td>\n",
              "      <td>0.0</td>\n",
              "      <td>1.0</td>\n",
              "      <td>0.666667</td>\n",
              "      <td>0.0</td>\n",
              "      <td>0.0</td>\n",
              "      <td>0.0</td>\n",
              "      <td>0.237016</td>\n",
              "      <td>0.1</td>\n",
              "    </tr>\n",
              "  </tbody>\n",
              "</table>\n",
              "</div>"
            ],
            "text/plain": [
              "      price      area  bedrooms  ...  unfurnished  areaperbedroom  bbratio\n",
              "0  1.000000  0.396564       0.6  ...          0.0        0.237016      0.4\n",
              "1  0.909091  0.502405       0.6  ...          0.0        0.298923      1.0\n",
              "2  0.909091  0.571134       0.4  ...          0.0        0.472584      0.6\n",
              "3  0.906061  0.402062       0.6  ...          0.0        0.240232      0.4\n",
              "4  0.836364  0.396564       0.6  ...          0.0        0.237016      0.1\n",
              "\n",
              "[5 rows x 16 columns]"
            ]
          },
          "metadata": {
            "tags": []
          },
          "execution_count": 1907
        }
      ]
    },
    {
      "cell_type": "markdown",
      "metadata": {
        "id": "FEyS9X3S8tBv"
      },
      "source": [
        "## Splitting Data into Training and Testing Sets\n",
        "\n",
        "<p style='text-align: right;'> 5 points</p>\n"
      ]
    },
    {
      "cell_type": "code",
      "metadata": {
        "colab": {
          "base_uri": "https://localhost:8080/"
        },
        "id": "8MM7LPPF8tBv",
        "outputId": "c4a5b56f-8c8a-4908-eb31-5c004eb546b4"
      },
      "source": [
        "# print all housing columns available to decide which all variables will be our feature and target variable\n",
        "housing.columns"
      ],
      "execution_count": 1908,
      "outputs": [
        {
          "output_type": "execute_result",
          "data": {
            "text/plain": [
              "Index(['price', 'area', 'bedrooms', 'bathrooms', 'stories', 'mainroad',\n",
              "       'guestroom', 'basement', 'hotwaterheating', 'airconditioning',\n",
              "       'parking', 'prefarea', 'semi-furnished', 'unfurnished',\n",
              "       'areaperbedroom', 'bbratio'],\n",
              "      dtype='object')"
            ]
          },
          "metadata": {
            "tags": []
          },
          "execution_count": 1908
        }
      ]
    },
    {
      "cell_type": "code",
      "metadata": {
        "id": "xRVQDmPI8tBw"
      },
      "source": [
        "# Putting feature variable to X\n",
        "X = housing.iloc[:, 1:]#\n",
        "# Putting response variable to y ie. price\n",
        "y = housing['price']#"
      ],
      "execution_count": 1909,
      "outputs": []
    },
    {
      "cell_type": "markdown",
      "metadata": {
        "id": "snM4na_s8tBx"
      },
      "source": [
        "lets split dataset using test train split module and set a random state as 100. \n",
        "\n",
        "Random_state is the seed used by the random number generator, it can be any integer by the way not neccessarily 100\n",
        "\n",
        "Refer module link: https://scikit-learn.org/stable/modules/generated/sklearn.model_selection.train_test_split.html"
      ]
    },
    {
      "cell_type": "code",
      "metadata": {
        "id": "hyvN3JZs8tBy"
      },
      "source": [
        "# import test_train_split module\n",
        "from sklearn.model_selection import train_test_split\n",
        "\n",
        "# test and train split with train_size as 30% and random state as 100\n",
        "#GIVEN WRONG train_size\n",
        "X_train, X_test, y_train, y_test = train_test_split(X, y, train_size = 0.7, test_size = 0.3, random_state = 100)"
      ],
      "execution_count": 1910,
      "outputs": []
    },
    {
      "cell_type": "markdown",
      "metadata": {
        "id": "JYurYeXa8tBy"
      },
      "source": [
        "The splitting of test and train procedure involves taking a dataset and dividing it into two subsets. The first subset is used to fit the model and is referred to as the training dataset. The second subset is not used to train the model; instead, the input element of the dataset is provided to the model, then predictions are made and compared to the expected values. This second dataset is referred to as the test dataset.\n",
        "\n",
        "Now you must be thinking why we even do that.<br>\n",
        "The objective is to estimate the performance of the machine learning model on new data: data not used to train the model.\n",
        "\n",
        "This is how we expect to use the model in practice. Namely, to fit it on available data with known inputs and outputs, then make predictions on new examples in the future where we do not have the expected output or target values.\n",
        "\n",
        "The train-test procedure is appropriate when there is a sufficiently large dataset available.\n",
        "\n",
        "\n",
        "## Building a linear model\n",
        "\n",
        "<p style='text-align: right;'> 5 points</p>\n",
        "\n",
        "\n",
        "Code Reference: https://codeburst.io/multiple-linear-regression-sklearn-and-statsmodels-798750747755\n",
        "\n",
        "Video Reference: https://www.youtube.com/watch?v=U7D1h5bbpcs"
      ]
    },
    {
      "cell_type": "code",
      "metadata": {
        "id": "mL13U9c78tB0"
      },
      "source": [
        "# Importing statsmodels module as sm\n",
        "import statsmodels.api as sm\n",
        "\n",
        "# Adding a constant column to our X_train dataframe\n",
        "X_train = sm.add_constant(X_train)\n",
        "\n",
        "# create a first fitted model\n",
        "lm_1 = sm.OLS(y_train, X_train).fit()"
      ],
      "execution_count": 1911,
      "outputs": []
    },
    {
      "cell_type": "code",
      "metadata": {
        "colab": {
          "base_uri": "https://localhost:8080/"
        },
        "id": "GuLKxxqm8tB1",
        "outputId": "7ad8192a-fd59-4c0f-dbf3-020afdc5cd2a"
      },
      "source": [
        "#Let's see the summary of our first linear model\n",
        "print(lm_1.summary())"
      ],
      "execution_count": 1912,
      "outputs": [
        {
          "output_type": "stream",
          "text": [
            "                            OLS Regression Results                            \n",
            "==============================================================================\n",
            "Dep. Variable:                  price   R-squared:                       0.686\n",
            "Model:                            OLS   Adj. R-squared:                  0.673\n",
            "Method:                 Least Squares   F-statistic:                     53.12\n",
            "Date:                Tue, 27 Jul 2021   Prob (F-statistic):           4.56e-82\n",
            "Time:                        21:13:15   Log-Likelihood:                 384.40\n",
            "No. Observations:                 381   AIC:                            -736.8\n",
            "Df Residuals:                     365   BIC:                            -673.7\n",
            "Df Model:                          15                                         \n",
            "Covariance Type:            nonrobust                                         \n",
            "===================================================================================\n",
            "                      coef    std err          t      P>|t|      [0.025      0.975]\n",
            "-----------------------------------------------------------------------------------\n",
            "const               0.0603      0.059      1.029      0.304      -0.055       0.176\n",
            "area                0.5745      0.134      4.285      0.000       0.311       0.838\n",
            "bedrooms           -0.0587      0.093     -0.632      0.528      -0.241       0.124\n",
            "bathrooms           0.2336      0.126      1.849      0.065      -0.015       0.482\n",
            "stories             0.1018      0.019      5.265      0.000       0.064       0.140\n",
            "mainroad            0.0511      0.014      3.580      0.000       0.023       0.079\n",
            "guestroom           0.0260      0.014      1.887      0.060      -0.001       0.053\n",
            "basement            0.0208      0.011      1.877      0.061      -0.001       0.043\n",
            "hotwaterheating     0.0875      0.022      4.048      0.000       0.045       0.130\n",
            "airconditioning     0.0663      0.011      5.868      0.000       0.044       0.088\n",
            "parking             0.0562      0.018      3.104      0.002       0.021       0.092\n",
            "prefarea            0.0566      0.012      4.772      0.000       0.033       0.080\n",
            "semi-furnished     -0.0008      0.012     -0.068      0.946      -0.024       0.022\n",
            "unfurnished        -0.0323      0.013     -2.550      0.011      -0.057      -0.007\n",
            "areaperbedroom     -0.3135      0.147     -2.139      0.033      -0.602      -0.025\n",
            "bbratio             0.0439      0.104      0.421      0.674      -0.161       0.249\n",
            "==============================================================================\n",
            "Omnibus:                       87.283   Durbin-Watson:                   2.087\n",
            "Prob(Omnibus):                  0.000   Jarque-Bera (JB):              276.328\n",
            "Skew:                           1.023   Prob(JB):                     9.91e-61\n",
            "Kurtosis:                       6.636   Cond. No.                         82.4\n",
            "==============================================================================\n",
            "\n",
            "Warnings:\n",
            "[1] Standard Errors assume that the covariance matrix of the errors is correctly specified.\n"
          ],
          "name": "stdout"
        }
      ]
    },
    {
      "cell_type": "markdown",
      "metadata": {
        "id": "WGhy-tpS8tB1"
      },
      "source": [
        "## Checking multicollinearity\n",
        "\n",
        "\n",
        "<p style='text-align: right;'> 15 points</p>\n",
        "\n",
        "Multicollinearity generally occurs when there are high correlations between two or more predictor variables. In other words, one predictor variable can be used to predict the other. This creates redundant information, skewing the results in a regression model\n",
        "\n",
        "Ok now don't be confused with term collinearity.\n",
        "\n",
        "Collinearity is a linear association between two predictors. Multicollinearity is a situation where two or more predictors are highly linearly related\n",
        "severe multicollinearity is a problem because it can increase the variance of the coefficient estimates and make the estimates very sensitive to minor changes in the model. The result is that the coefficient estimates are unstable and difficult to interpret.\n",
        "\n",
        "So its important to remove multicollinearity from our dataset\n",
        "\n",
        "Reference: https://www.youtube.com/watch?v=NAPhUDjgG_s"
      ]
    },
    {
      "cell_type": "code",
      "metadata": {
        "id": "_cFDNzjU8tB2"
      },
      "source": [
        "# Importing matplotlib and seaborn \n",
        "import matplotlib.pyplot as plt\n",
        "import seaborn as sns\n",
        "\n",
        "# write magic function matplotlib inline\n",
        "%matplotlib inline"
      ],
      "execution_count": 1913,
      "outputs": []
    },
    {
      "cell_type": "code",
      "metadata": {
        "colab": {
          "base_uri": "https://localhost:8080/",
          "height": 0
        },
        "id": "vzQq8xnz8tB3",
        "outputId": "9db4198e-8ca7-48ed-ab56-2ecdef3301e8"
      },
      "source": [
        "# Let's see the correlation matrix on hoousing data\n",
        "# Size of the figure=(16,10)\n",
        "fig = plt.figure(figsize=(16, 10))\n",
        "sns.heatmap(housing.corr(), annot = True)"
      ],
      "execution_count": 1914,
      "outputs": [
        {
          "output_type": "execute_result",
          "data": {
            "text/plain": [
              "<matplotlib.axes._subplots.AxesSubplot at 0x7f1d12f6d850>"
            ]
          },
          "metadata": {
            "tags": []
          },
          "execution_count": 1914
        },
        {
          "output_type": "display_data",
          "data": {
            "image/png": "[encoded data removed]",
            "text/plain": [
              "<Figure size 1152x720 with 2 Axes>"
            ]
          },
          "metadata": {
            "tags": [],
            "needs_background": "light"
          }
        }
      ]
    },
    {
      "cell_type": "markdown",
      "metadata": {
        "id": "AMnVufH-8tB5"
      },
      "source": [
        "### Checking VIF\n",
        "\n",
        "Multicollinearity can be detected via various methods. In this assignemnt, we will focus on the most common one – VIF (Variable Inflation Factors).<br>\n",
        "VIF score of an independent variable represents how well the variable is explained by other independent variables.\n",
        "1. VIF starts at 1 and has no upper limit\n",
        "2. VIF = 1, no correlation between the independent variable and the other variables\n",
        "3. VIF exceeding 5 or 10 indicates high multicollinearity between this independent variable and the others\n",
        "\n",
        "Although correlation matrix and scatter plots can also be used to find multicollinearity, their findings only show the bivariate relationship between the independent variables. VIF is preferred as it can show the correlation of a variable with a group of other variables.\n",
        "\n",
        "Lets define a function vif_scores that takes a dataframe with relevant input features and returns a dataframe with two columns\n",
        "1. variables which  has feature name\n",
        "2. VIF which has vif score for corresponding feature\n",
        "\n",
        "Please do have patience to run this function again and again as you will be required to drop all the variables one by one with high vif (>5).\n",
        "\n",
        "So lets impliment it.\n",
        "\n",
        "\n",
        "Reference : https://www.geeksforgeeks.org/detecting-multicollinearity-with-vif-python/"
      ]
    },
    {
      "cell_type": "code",
      "metadata": {
        "colab": {
          "base_uri": "https://localhost:8080/"
        },
        "id": "dYEkvboE8tB6",
        "outputId": "7517ce24-aeb9-4927-8b19-d49bd48cbc40"
      },
      "source": [
        "# import variance_inflation_factor module\n",
        "from statsmodels.stats.outliers_influence import variance_inflation_factor\n",
        "# Define vif_scores function as stated above\n",
        "\n",
        "def vif_scores(df):\n",
        "  vif = pd.DataFrame()\n",
        "  vif['Features'] = df.columns\n",
        "  vif['VIF_Scores'] = [variance_inflation_factor(df.values, i) for i in range(df.shape[1])]\n",
        "  vif = vif.sort_values(by=\"VIF_Scores\", ascending = False)\n",
        "  return vif\n",
        "\n",
        "features = [colum for colum in X.columns]\n",
        "\n",
        "# print vif scores for all current input features\n",
        "print(vif_scores(X[features]))"
      ],
      "execution_count": 1915,
      "outputs": [
        {
          "output_type": "stream",
          "text": [
            "           Features  VIF_Scores\n",
            "13   areaperbedroom   68.707105\n",
            "0              area   57.516048\n",
            "14          bbratio   29.249998\n",
            "2         bathrooms   11.106354\n",
            "1          bedrooms   10.683404\n",
            "4          mainroad    7.910522\n",
            "3           stories    2.805901\n",
            "11   semi-furnished    2.614252\n",
            "12      unfurnished    2.382862\n",
            "6          basement    2.045854\n",
            "9           parking    2.007955\n",
            "8   airconditioning    1.768615\n",
            "10         prefarea    1.509807\n",
            "5         guestroom    1.492428\n",
            "7   hotwaterheating    1.097694\n"
          ],
          "name": "stdout"
        }
      ]
    },
    {
      "cell_type": "markdown",
      "metadata": {
        "id": "JbIbjsIu8tB7"
      },
      "source": [
        "### Dropping the Variable and Updating the Model\n",
        "\n",
        "Dropping highly correlated variables and insignificant variables through both correlation matrix and vif scores.\n",
        "\n",
        "As you can see there are two groups of multicollinear variables. \n",
        "1. areaperbedroom and area\n",
        "2. bbratio and bathrooms\n",
        "\n",
        "the first group is neccesary for us to keep as it gives us relevant impact on traget, but from second set as we know that bbratio is not as significant as bathrooms, so we will drop it off.\n"
      ]
    },
    {
      "cell_type": "code",
      "metadata": {
        "colab": {
          "base_uri": "https://localhost:8080/"
        },
        "id": "nMCWDizs8tB8",
        "outputId": "bf396ee7-94c0-408c-caea-a11221a303d7"
      },
      "source": [
        "# Lets check vif scores again after removing bbratio from features.\n",
        "features.remove('bbratio')\n",
        "print(vif_scores(X[features]))"
      ],
      "execution_count": 1916,
      "outputs": [
        {
          "output_type": "stream",
          "text": [
            "           Features  VIF_Scores\n",
            "0              area   20.716025\n",
            "13   areaperbedroom   18.437262\n",
            "1          bedrooms   10.026456\n",
            "4          mainroad    7.459237\n",
            "3           stories    2.783201\n",
            "11   semi-furnished    2.484125\n",
            "12      unfurnished    2.204838\n",
            "6          basement    2.027730\n",
            "9           parking    2.004052\n",
            "8   airconditioning    1.768236\n",
            "2         bathrooms    1.712298\n",
            "10         prefarea    1.509389\n",
            "5         guestroom    1.478756\n",
            "7   hotwaterheating    1.093564\n"
          ],
          "name": "stdout"
        }
      ]
    },
    {
      "cell_type": "markdown",
      "metadata": {
        "id": "G3ZmlGdU8tB9"
      },
      "source": [
        "As you can see the vif scores are still high. Lets drop bedroom also as input feature and again check vif scores.\n"
      ]
    },
    {
      "cell_type": "code",
      "metadata": {
        "colab": {
          "base_uri": "https://localhost:8080/"
        },
        "id": "ScqL8uuI8tB_",
        "outputId": "3e079316-8b43-47ba-dbf8-f37907643330"
      },
      "source": [
        "# Lets check vif scores after removing bedrooms from left features.\n",
        "features.remove('bedrooms')\n",
        "print(vif_scores(X[features]))"
      ],
      "execution_count": 1917,
      "outputs": [
        {
          "output_type": "stream",
          "text": [
            "           Features  VIF_Scores\n",
            "0              area   14.978857\n",
            "12   areaperbedroom   13.881473\n",
            "3          mainroad    6.099134\n",
            "2           stories    2.559555\n",
            "10   semi-furnished    2.037729\n",
            "8           parking    1.999982\n",
            "5          basement    1.901473\n",
            "7   airconditioning    1.762488\n",
            "11      unfurnished    1.722278\n",
            "1         bathrooms    1.692180\n",
            "9          prefarea    1.504964\n",
            "4         guestroom    1.475441\n",
            "6   hotwaterheating    1.087115\n"
          ],
          "name": "stdout"
        }
      ]
    },
    {
      "cell_type": "markdown",
      "metadata": {
        "id": "Xz-mZYQN8tCA"
      },
      "source": [
        "As you can see the vif scores are still high. Lets drop areaperbedroom which we calculated as input feature and again check vif scores.\n",
        "\n",
        "Its very natural that both area, bedroom and areaperbedroom will be highly correlated with each other as areaperbedroom is calculated out of area and bedroom.\n",
        "\n"
      ]
    },
    {
      "cell_type": "code",
      "metadata": {
        "colab": {
          "base_uri": "https://localhost:8080/"
        },
        "id": "rMMlaS2D8tCB",
        "outputId": "1c646c65-dac5-47cc-93f2-18cdf0206388"
      },
      "source": [
        "# Lets check vif scores after removing areaperbedroom from features which are left.\n",
        "features.remove('areaperbedroom')\n",
        "print(vif_scores(X[features]))"
      ],
      "execution_count": 1918,
      "outputs": [
        {
          "output_type": "stream",
          "text": [
            "           Features  VIF_Scores\n",
            "3          mainroad    5.513523\n",
            "0              area    4.427217\n",
            "2           stories    2.323144\n",
            "10   semi-furnished    2.004738\n",
            "8           parking    1.987943\n",
            "5          basement    1.896942\n",
            "7   airconditioning    1.760737\n",
            "11      unfurnished    1.652372\n",
            "1         bathrooms    1.619363\n",
            "9          prefarea    1.497335\n",
            "4         guestroom    1.474326\n",
            "6   hotwaterheating    1.086273\n"
          ],
          "name": "stdout"
        }
      ]
    },
    {
      "cell_type": "markdown",
      "metadata": {
        "id": "nl5XCCZ98tCC"
      },
      "source": [
        "Now as you can still se vif scores are again more than 5. But if you see only 'mainroad' feature which having high vif score does'nt mean that you will remove it.\n",
        "You need to see the importance of that particular feature also in price prediction. Since mainoad, area and stories are really important to us. So you can go with removing semi-furnished feature next."
      ]
    },
    {
      "cell_type": "code",
      "metadata": {
        "colab": {
          "base_uri": "https://localhost:8080/"
        },
        "id": "SiX7FjzW8tCD",
        "outputId": "60325317-2b5c-4de3-cca4-935d400763b0"
      },
      "source": [
        "# Lets check vif scores after removing semi-furnished from features which are left.\n",
        "features.remove('semi-furnished')\n",
        "print(vif_scores(X[features]))"
      ],
      "execution_count": 1919,
      "outputs": [
        {
          "output_type": "stream",
          "text": [
            "           Features  VIF_Scores\n",
            "3          mainroad    4.845386\n",
            "0              area    4.362200\n",
            "2           stories    2.301304\n",
            "8           parking    1.987700\n",
            "5          basement    1.860222\n",
            "7   airconditioning    1.753933\n",
            "1         bathrooms    1.619286\n",
            "9          prefarea    1.490106\n",
            "4         guestroom    1.470984\n",
            "10      unfurnished    1.341568\n",
            "6   hotwaterheating    1.081743\n"
          ],
          "name": "stdout"
        }
      ]
    },
    {
      "cell_type": "markdown",
      "metadata": {
        "id": "b31kI-ZD8tCE"
      },
      "source": [
        "hey hey! still vif scores of some features are close to 5. Lets check which one we can drop off. If you see first five features are of importance but then least important among them would be basement.\n"
      ]
    },
    {
      "cell_type": "code",
      "metadata": {
        "colab": {
          "base_uri": "https://localhost:8080/"
        },
        "id": "yMPFiM1U8tCE",
        "outputId": "3ae02cce-3cf6-4e53-d625-82b7cbf1ce54"
      },
      "source": [
        "# Lets check vif scores after removing basement from features which are left.\n",
        "features.remove('basement')\n",
        "print(vif_scores(X[features]))"
      ],
      "execution_count": 1920,
      "outputs": [
        {
          "output_type": "stream",
          "text": [
            "          Features  VIF_Scores\n",
            "3         mainroad    4.583261\n",
            "0             area    4.362124\n",
            "2          stories    2.206626\n",
            "7          parking    1.986493\n",
            "6  airconditioning    1.749777\n",
            "1        bathrooms    1.589915\n",
            "8         prefarea    1.442071\n",
            "9      unfurnished    1.340895\n",
            "4        guestroom    1.291867\n",
            "5  hotwaterheating    1.079947\n"
          ],
          "name": "stdout"
        }
      ]
    },
    {
      "cell_type": "markdown",
      "metadata": {
        "id": "D10KdyA18tCF"
      },
      "source": [
        "Well done. Now we have vif scores less than 5 \n",
        "\n",
        "So in total  we have removed 5 features namely \"bedrooms\",\"bbratio\",\"areaperbedroom\",\"semi-furnished\" and \"basement\".\n",
        "\n",
        "Wohoo! we have our final list of input features. Lets drop these 5 features from X_train as well and rebuild ypur model.\n",
        "\n",
        "## Making Predictions by rebuilding Model\n",
        "\n",
        "<p style='text-align: right;'> 5 points</p>\n",
        "\n",
        "\n",
        "Lets do another test train split after dropping highly correlated variables and insignificant variables from X.\n"
      ]
    },
    {
      "cell_type": "code",
      "metadata": {
        "id": "s2fZclro8tCF"
      },
      "source": [
        "# Putting feature variable to X\n",
        "X = X[features]\n",
        "# Putting response variable to y ie. price\n",
        "y = y"
      ],
      "execution_count": 1921,
      "outputs": []
    },
    {
      "cell_type": "code",
      "metadata": {
        "id": "3pvUhXOB8tCG"
      },
      "source": [
        "# test train split again on X and y\n",
        "X_train, X_test, y_train, y_test = train_test_split(X, y, train_size = 0.7, random_state = 100)"
      ],
      "execution_count": 1922,
      "outputs": []
    },
    {
      "cell_type": "markdown",
      "metadata": {
        "id": "En3aQIxZ8tCG"
      },
      "source": [
        "Building our linear model again"
      ]
    },
    {
      "cell_type": "code",
      "metadata": {
        "id": "EiBRWdlS8tCH"
      },
      "source": [
        "# Adding a constant column to our dataframe\n",
        "X_train =  sm.add_constant(X_train)\n",
        "\n",
        "\n",
        "# Adding  constant variable to test dataframe\n",
        "X_test = sm.add_constant(X_test)\n",
        "\n",
        "# create a second fitted model\n",
        "lm_2 = sm.OLS(y_train, X_train).fit()"
      ],
      "execution_count": 1923,
      "outputs": []
    },
    {
      "cell_type": "code",
      "metadata": {
        "colab": {
          "base_uri": "https://localhost:8080/"
        },
        "id": "flIvoMw98tCH",
        "outputId": "a3f3fa67-b32a-46e0-dcdd-f4491858114e"
      },
      "source": [
        "#print model 2 summary\n",
        "print(lm_2.summary())"
      ],
      "execution_count": 1924,
      "outputs": [
        {
          "output_type": "stream",
          "text": [
            "                            OLS Regression Results                            \n",
            "==============================================================================\n",
            "Dep. Variable:                  price   R-squared:                       0.676\n",
            "Model:                            OLS   Adj. R-squared:                  0.667\n",
            "Method:                 Least Squares   F-statistic:                     77.18\n",
            "Date:                Tue, 27 Jul 2021   Prob (F-statistic):           3.13e-84\n",
            "Time:                        21:13:17   Log-Likelihood:                 378.51\n",
            "No. Observations:                 381   AIC:                            -735.0\n",
            "Df Residuals:                     370   BIC:                            -691.7\n",
            "Df Model:                          10                                         \n",
            "Covariance Type:            nonrobust                                         \n",
            "===================================================================================\n",
            "                      coef    std err          t      P>|t|      [0.025      0.975]\n",
            "-----------------------------------------------------------------------------------\n",
            "const               0.0390      0.015      2.670      0.008       0.010       0.068\n",
            "area                0.2990      0.038      7.772      0.000       0.223       0.375\n",
            "bathrooms           0.3028      0.032      9.397      0.000       0.239       0.366\n",
            "stories             0.1081      0.017      6.277      0.000       0.074       0.142\n",
            "mainroad            0.0497      0.014      3.468      0.001       0.022       0.078\n",
            "guestroom           0.0402      0.013      3.124      0.002       0.015       0.065\n",
            "hotwaterheating     0.0876      0.022      4.051      0.000       0.045       0.130\n",
            "airconditioning     0.0682      0.011      6.028      0.000       0.046       0.090\n",
            "parking             0.0629      0.018      3.482      0.001       0.027       0.098\n",
            "prefarea            0.0637      0.012      5.452      0.000       0.041       0.087\n",
            "unfurnished        -0.0337      0.010     -3.295      0.001      -0.054      -0.014\n",
            "==============================================================================\n",
            "Omnibus:                       97.054   Durbin-Watson:                   2.099\n",
            "Prob(Omnibus):                  0.000   Jarque-Bera (JB):              322.034\n",
            "Skew:                           1.124   Prob(JB):                     1.18e-70\n",
            "Kurtosis:                       6.902   Cond. No.                         12.9\n",
            "==============================================================================\n",
            "\n",
            "Warnings:\n",
            "[1] Standard Errors assume that the covariance matrix of the errors is correctly specified.\n"
          ],
          "name": "stdout"
        }
      ]
    },
    {
      "cell_type": "code",
      "metadata": {
        "id": "3OGSwBtY8tCI"
      },
      "source": [
        "# Making predictions\n",
        "y_pred = lm_2.predict(X_test)#"
      ],
      "execution_count": 1925,
      "outputs": []
    },
    {
      "cell_type": "markdown",
      "metadata": {
        "id": "-qicB11u8tCJ"
      },
      "source": [
        "## Model Evaluation\n",
        "\n",
        "<p style='text-align: right;'> 8 points</p>\n",
        " \n",
        "\n",
        "\n",
        "The skill or performance of a regression model must be reported as an error in those predictions.\n",
        "You don’t want to know if the model predicted the value exactly (this might be intractably difficult in practice); instead, we want to know how close the predictions were to the expected values.\n",
        "\n",
        "Error addresses exactly this and summarizes on average how close predictions were to their expected values.\n",
        "\n"
      ]
    },
    {
      "cell_type": "code",
      "metadata": {
        "colab": {
          "base_uri": "https://localhost:8080/",
          "height": 0
        },
        "id": "GENGJ0Yl8tCK",
        "outputId": "fda1fc26-3cc2-469a-ecac-d414ed9b9fed"
      },
      "source": [
        "# Actual vs Predicted graph as below\n",
        "c = [i for i in range(1,165,1)]\n",
        "fig = plt.figure()\n",
        "\n",
        "#Plotting Actual\n",
        "plt.plot(c, y_test, c = 'blue')\n",
        "#Plotting predicted\n",
        "plt.plot(c, y_pred, c = 'red')\n",
        "# Plot heading \n",
        "plt.title('Actual vs Predicted')\n",
        "# X-label\n",
        "plt.xlabel(\"Index\")\n",
        "# Y-label\n",
        "plt.ylabel(\"Housing Price\")\n",
        "#showing the plot\n",
        "plt.show()"
      ],
      "execution_count": 1926,
      "outputs": [
        {
          "output_type": "display_data",
          "data": {
            "image/png": "[encoded data removed]",
            "text/plain": [
              "<Figure size 432x288 with 1 Axes>"
            ]
          },
          "metadata": {
            "tags": [],
            "needs_background": "light"
          }
        }
      ]
    },
    {
      "cell_type": "code",
      "metadata": {
        "colab": {
          "base_uri": "https://localhost:8080/",
          "height": 0
        },
        "id": "erMh6X-b8tCM",
        "outputId": "f680561d-65c5-4bba-bac4-819b2ee8750e"
      },
      "source": [
        "# Plotting y_test and y_pred scatter plot to understand the spread.\n",
        "fig = plt.figure()\n",
        "#plotting scatter plot between actual and predicted\n",
        "plt.scatter(y_test, y_pred)\n",
        "# Plot heading \n",
        "plt.title(\"Actual Vs Predicted\")\n",
        "# X-label\n",
        "plt.xlabel(\"y_test\")\n",
        "# Y-label\n",
        "plt.ylabel(\"y_pred\")\n",
        "#show plot\n",
        "plt.show()"
      ],
      "execution_count": 1927,
      "outputs": [
        {
          "output_type": "display_data",
          "data": {
            "image/png": "[encoded data removed]",
            "text/plain": [
              "<Figure size 432x288 with 1 Axes>"
            ]
          },
          "metadata": {
            "tags": [],
            "needs_background": "light"
          }
        }
      ]
    },
    {
      "cell_type": "code",
      "metadata": {
        "colab": {
          "base_uri": "https://localhost:8080/",
          "height": 0
        },
        "id": "c3noWqwy8tCO",
        "outputId": "b2883baf-e0b3-4999-f88b-02f63a76a7be"
      },
      "source": [
        "# Plotting line chart of Error terms\n",
        "fig = plt.figure()\n",
        "c = [i for i in range(1,165,1)]\n",
        "# line plot between c and error trem\n",
        "plt.plot(c, y_test-y_pred)\n",
        "# Plot heading \n",
        "plt.title('Error Terms')\n",
        "# X-label\n",
        "plt.xlabel('Index')\n",
        "# Y-label\n",
        "plt.ylabel('y_test - y_pred')\n",
        "#show plot\n",
        "plt.show()"
      ],
      "execution_count": 1928,
      "outputs": [
        {
          "output_type": "display_data",
          "data": {
            "image/png": "[encoded data removed]",
            "text/plain": [
              "<Figure size 432x288 with 1 Axes>"
            ]
          },
          "metadata": {
            "tags": [],
            "needs_background": "light"
          }
        }
      ]
    },
    {
      "cell_type": "code",
      "metadata": {
        "colab": {
          "base_uri": "https://localhost:8080/",
          "height": 0
        },
        "id": "9_b5x0ny8tCP",
        "outputId": "e4b2aa2a-90ae-4055-ec72-652247d39248"
      },
      "source": [
        "# Plotting the error terms as dist plot to understand the distribution.\n",
        "fig = plt.figure()\n",
        "#plot distplot of error tem\n",
        "sns.distplot(y_test-y_pred, bins = 50)\n",
        "# Plot heading \n",
        "plt.title(\"Error Items\")\n",
        "# X-label\n",
        "plt.xlabel('y_test-y_pred')\n",
        "# Y-label\"}\n",
        "plt.ylabel('Index')\n",
        "#show plot\n",
        "plt.show()"
      ],
      "execution_count": 1929,
      "outputs": [
        {
          "output_type": "stream",
          "text": [
            "/usr/local/lib/python3.7/dist-packages/seaborn/distributions.py:2557: FutureWarning: `distplot` is a deprecated function and will be removed in a future version. Please adapt your code to use either `displot` (a figure-level function with similar flexibility) or `histplot` (an axes-level function for histograms).\n",
            "  warnings.warn(msg, FutureWarning)\n"
          ],
          "name": "stderr"
        },
        {
          "output_type": "display_data",
          "data": {
            "image/png": "[encoded data removed]",
            "text/plain": [
              "<Figure size 432x288 with 1 Axes>"
            ]
          },
          "metadata": {
            "tags": [],
            "needs_background": "light"
          }
        }
      ]
    },
    {
      "cell_type": "markdown",
      "metadata": {
        "id": "dlvVWJis8tCP"
      },
      "source": [
        "**Regression Metrics**\n",
        "\n",
        "<p style='text-align: right;'> 6 points</p>\n",
        "\n",
        "There are three error metrics that are commonly used for evaluating and reporting the performance of a regression model; they are:\n",
        "\n",
        "1. Mean Squared Error (MSE).\n",
        "2. Root Mean Squared Error (RMSE).\n",
        "3. Mean Absolute Error (MAE)\n",
        "\n",
        "There are many other metrics for regression, although these are the most commonly used. You can see the full list of regression metrics supported by the scikit-learn Python machine learning library here:\n",
        "\n",
        "https://scikit-learn.org/stable/modules/classes.html#regression-metrics\n",
        "\n",
        "\n",
        "Reference: https://www.youtube.com/watch?v=YSB7FtzeicA"
      ]
    },
    {
      "cell_type": "code",
      "metadata": {
        "colab": {
          "base_uri": "https://localhost:8080/"
        },
        "id": "I0Q5hcI48tCQ",
        "outputId": "009ca172-100b-4103-d9ff-244971fba999"
      },
      "source": [
        "#import metrics module\n",
        "from sklearn.metrics import mean_squared_error\n",
        "from sklearn.metrics import mean_absolute_error\n",
        "\n",
        "#calculate and print RMSE\n",
        "print(\"RMSE = \", np.sqrt(mean_squared_error(y_test, y_pred)))"
      ],
      "execution_count": 1930,
      "outputs": [
        {
          "output_type": "stream",
          "text": [
            "RMSE =  0.10001092336807833\n"
          ],
          "name": "stdout"
        }
      ]
    },
    {
      "cell_type": "code",
      "metadata": {
        "colab": {
          "base_uri": "https://localhost:8080/"
        },
        "id": "mU7kbau98tCR",
        "outputId": "6ee00f4f-c353-43e9-8257-662fc8fead06"
      },
      "source": [
        "#calculate and print MSE\n",
        "print(\"Mean Squared Error = \", mean_squared_error(y_test, y_pred))\n"
      ],
      "execution_count": 1931,
      "outputs": [
        {
          "output_type": "stream",
          "text": [
            "Mean Squared Error =  0.010002184792935636\n"
          ],
          "name": "stdout"
        }
      ]
    },
    {
      "cell_type": "code",
      "metadata": {
        "colab": {
          "base_uri": "https://localhost:8080/"
        },
        "id": "7Ti_IpGs8tCR",
        "outputId": "3390d939-b82c-465e-d659-a62b12696f5c"
      },
      "source": [
        "#calculate and print MAE\n",
        "print(\"Mean Absolute Error = \", mean_absolute_error(y_test, y_pred))\n"
      ],
      "execution_count": 1932,
      "outputs": [
        {
          "output_type": "stream",
          "text": [
            "Mean Absolute Error =  0.07292774941484104\n"
          ],
          "name": "stdout"
        }
      ]
    },
    {
      "cell_type": "markdown",
      "metadata": {
        "id": "ErQlm3Rh8tCS"
      },
      "source": [
        "## Feature Selection\n",
        "\n",
        "<p style='text-align: right;'> 6 points</p>\n",
        "\n",
        "\n",
        "Once you have obtained your initial error metric/s, take note of which X’s have minimal impacts on y. Removing some of these features may result in an increased accuracy of your model.\n",
        "\n",
        "So, We begin a process of trial and error, where the process is started over again, until a satisfactory model is produced.\n",
        "\n",
        "To do this we already have a ready made library called RFE. \n",
        "So lets do feature selection using RFE using LinearRegression module.\n",
        "\n",
        "\n",
        "\n",
        "\n",
        "Reference: https://scikit-learn.org/stable/modules/generated/sklearn.feature_selection.RFE.html"
      ]
    },
    {
      "cell_type": "code",
      "metadata": {
        "id": "rh0tumHb8tCS"
      },
      "source": [
        "# Importing RFE and LinearRegression\n",
        "from sklearn.feature_selection import RFE\n",
        "from sklearn.linear_model import LinearRegression"
      ],
      "execution_count": 1933,
      "outputs": []
    },
    {
      "cell_type": "code",
      "metadata": {
        "colab": {
          "base_uri": "https://localhost:8080/"
        },
        "id": "qugGx8T38tCT",
        "outputId": "f54513f4-d7d1-40ee-a577-0459d68e0e65"
      },
      "source": [
        "# Initializing linearRegression function \n",
        "lm = LinearRegression()\n",
        "\n",
        "# Iitialising RFE using above model\n",
        "rfe = RFE(lm)       \n",
        "\n",
        "# Fitting and running RFE with X_train and y_train\n",
        "rfe = rfe.fit(X_train, y_train)\n",
        "\n",
        "# Printing the boolean results for each features\n",
        "print(rfe.support_) \n",
        "\n",
        "# Printing the ranks for each features\n",
        "print(rfe.ranking_)  "
      ],
      "execution_count": 1934,
      "outputs": [
        {
          "output_type": "stream",
          "text": [
            "[False  True  True  True False False  True  True False False False]\n",
            "[7 1 1 1 4 5 1 1 3 2 6]\n"
          ],
          "name": "stdout"
        }
      ]
    },
    {
      "cell_type": "code",
      "metadata": {
        "colab": {
          "base_uri": "https://localhost:8080/"
        },
        "id": "jSGz2NMQ8tCT",
        "outputId": "2b914699-4ef3-43e1-df08-f9d75f93a02d"
      },
      "source": [
        "#Print the total no. of features in X\n",
        "print(len(X.columns))\n",
        "#Get columns which are supported by RFE\n",
        "col= X.columns[rfe.get_support(1)-1]\n",
        "\n",
        "# print col\n",
        "print(col)\n"
      ],
      "execution_count": 1935,
      "outputs": [
        {
          "output_type": "stream",
          "text": [
            "10\n",
            "Index(['area', 'bathrooms', 'stories', 'hotwaterheating', 'airconditioning'], dtype='object')\n"
          ],
          "name": "stdout"
        }
      ]
    },
    {
      "cell_type": "markdown",
      "metadata": {
        "id": "MCdh41_H8tCU"
      },
      "source": [
        "As you can see that 6 features got selected out of initial 11 features.\n",
        "\n",
        "## Visualising Data\n",
        "\n",
        "<p style='text-align: right;'> 4 points</p>\n"
      ]
    },
    {
      "cell_type": "code",
      "metadata": {
        "id": "65SAif5v8tCV",
        "colab": {
          "base_uri": "https://localhost:8080/",
          "height": 903
        },
        "outputId": "ac2edb07-d04e-40cf-97d4-f83179a0b04a"
      },
      "source": [
        "# Let's plot a pair plot of all RFE selected variables in housing dataframe\n",
        "sns.pairplot(housing[col], grid_kws=dict(diag_sharey=False))\n",
        "plt.show()"
      ],
      "execution_count": 1936,
      "outputs": [
        {
          "output_type": "display_data",
          "data": {
            "image/png": "[encoded data removed]",
            "text/plain": [
              "<Figure size 900x900 with 30 Axes>"
            ]
          },
          "metadata": {
            "tags": [],
            "needs_background": "light"
          }
        }
      ]
    },
    {
      "cell_type": "code",
      "metadata": {
        "id": "LWnaJTm68tCV",
        "colab": {
          "base_uri": "https://localhost:8080/",
          "height": 498
        },
        "outputId": "bf7308fd-46c5-48bd-f1c6-cbc1f37855a3"
      },
      "source": [
        "# # Visualise the relationship between the features and the response using scatterplots (use size=7 and aspect=0.7 )\n",
        "'''fig, axes = plt.subplots(1, 5, figsize = (10,5))\n",
        "\n",
        "# Iterating through axes and names\n",
        "for name, ax in zip(col, axes.flatten()):\n",
        "    sns.scatterplot(y='price', x= name, data=housing, ax=ax, size=7)'''\n",
        "\n",
        "sns.pairplot(size=7, aspect=0.7, x_vars=col, y_vars='price', data=housing)"
      ],
      "execution_count": 1937,
      "outputs": [
        {
          "output_type": "stream",
          "text": [
            "/usr/local/lib/python3.7/dist-packages/seaborn/axisgrid.py:1969: UserWarning: The `size` parameter has been renamed to `height`; please update your code.\n",
            "  warnings.warn(msg, UserWarning)\n"
          ],
          "name": "stderr"
        },
        {
          "output_type": "execute_result",
          "data": {
            "text/plain": [
              "<seaborn.axisgrid.PairGrid at 0x7f1d1601f250>"
            ]
          },
          "metadata": {
            "tags": []
          },
          "execution_count": 1937
        },
        {
          "output_type": "display_data",
          "data": {
            "image/png": "[encoded data removed]",
            "text/plain": [
              "<Figure size 1764x504 with 5 Axes>"
            ]
          },
          "metadata": {
            "tags": [],
            "needs_background": "light"
          }
        }
      ]
    },
    {
      "cell_type": "markdown",
      "metadata": {
        "id": "Yl_SBx_-8tCb"
      },
      "source": [
        "So above you can see that the relationship between target and features shows some constant relation.\n",
        "Lets try our luck if this model performs better that you last model.\n",
        "\n",
        "\n",
        "## Building model again with above selected features.\n",
        "\n",
        "<p style='text-align: right;'> 8 points</p>\n",
        "\n",
        "\n",
        "So this would be your third model"
      ]
    },
    {
      "cell_type": "code",
      "metadata": {
        "id": "sp95Zlu78tCc"
      },
      "source": [
        "# Creating X_train dataframe with RFE selected variables\n",
        "X_train_rfe = X_train[col.tolist()]\n"
      ],
      "execution_count": 1938,
      "outputs": []
    },
    {
      "cell_type": "code",
      "metadata": {
        "id": "RJMRcOB38tCd"
      },
      "source": [
        "# Adding a constant variable in X_train_rfe\n",
        "X_train_rfe = sm.add_constant(X_train_rfe)"
      ],
      "execution_count": 1939,
      "outputs": []
    },
    {
      "cell_type": "code",
      "metadata": {
        "id": "_HSeRzS08tCd"
      },
      "source": [
        "# fitting your third linear model with y_train and X_train_rfe\n",
        "lm_3 = sm.OLS(y_train, X_train_rfe).fit()"
      ],
      "execution_count": 1940,
      "outputs": []
    },
    {
      "cell_type": "code",
      "metadata": {
        "id": "467qJcuJ8tCf",
        "colab": {
          "base_uri": "https://localhost:8080/"
        },
        "outputId": "3ee93183-fbef-45d0-acfc-f57fc50e21b3"
      },
      "source": [
        "#print model 3 summary\n",
        "print(lm_3.summary())"
      ],
      "execution_count": 1941,
      "outputs": [
        {
          "output_type": "stream",
          "text": [
            "                            OLS Regression Results                            \n",
            "==============================================================================\n",
            "Dep. Variable:                  price   R-squared:                       0.595\n",
            "Model:                            OLS   Adj. R-squared:                  0.590\n",
            "Method:                 Least Squares   F-statistic:                     110.4\n",
            "Date:                Tue, 27 Jul 2021   Prob (F-statistic):           1.79e-71\n",
            "Time:                        21:13:33   Log-Likelihood:                 336.26\n",
            "No. Observations:                 381   AIC:                            -660.5\n",
            "Df Residuals:                     375   BIC:                            -636.9\n",
            "Df Model:                           5                                         \n",
            "Covariance Type:            nonrobust                                         \n",
            "===================================================================================\n",
            "                      coef    std err          t      P>|t|      [0.025      0.975]\n",
            "-----------------------------------------------------------------------------------\n",
            "const               0.0625      0.011      5.687      0.000       0.041       0.084\n",
            "area                0.4556      0.038     12.068      0.000       0.381       0.530\n",
            "bathrooms           0.3246      0.035      9.198      0.000       0.255       0.394\n",
            "stories             0.1182      0.019      6.264      0.000       0.081       0.155\n",
            "hotwaterheating     0.0878      0.024      3.691      0.000       0.041       0.135\n",
            "airconditioning     0.0782      0.012      6.336      0.000       0.054       0.102\n",
            "==============================================================================\n",
            "Omnibus:                       83.206   Durbin-Watson:                   2.111\n",
            "Prob(Omnibus):                  0.000   Jarque-Bera (JB):              249.287\n",
            "Skew:                           0.994   Prob(JB):                     7.38e-55\n",
            "Kurtosis:                       6.428   Cond. No.                         8.61\n",
            "==============================================================================\n",
            "\n",
            "Warnings:\n",
            "[1] Standard Errors assume that the covariance matrix of the errors is correctly specified.\n"
          ],
          "name": "stdout"
        }
      ]
    },
    {
      "cell_type": "code",
      "metadata": {
        "id": "038t3hn08tCg",
        "colab": {
          "base_uri": "https://localhost:8080/"
        },
        "outputId": "95cb3a15-cab4-4aa5-98a1-c71f3d844fba"
      },
      "source": [
        "# Calculating Vif scores on housing data with selected columns by RFE\n",
        "print(vif_scores(housing[col.tolist()]))"
      ],
      "execution_count": 1942,
      "outputs": [
        {
          "output_type": "stream",
          "text": [
            "          Features  VIF_Scores\n",
            "2          stories    1.981353\n",
            "0             area    1.955661\n",
            "4  airconditioning    1.708072\n",
            "1        bathrooms    1.546809\n",
            "3  hotwaterheating    1.062917\n"
          ],
          "name": "stdout"
        }
      ]
    },
    {
      "cell_type": "markdown",
      "metadata": {
        "id": "a61gOSxo8tCg"
      },
      "source": [
        "Wohoo! all these features looks good .\n",
        "\n",
        "Now let's use our model to make predictions.\n"
      ]
    },
    {
      "cell_type": "code",
      "metadata": {
        "id": "99586ab18tCh"
      },
      "source": [
        "# Creating X_test dataframe with RFE selected variables\n",
        "X_test_rfe = X_test[col]\n",
        "\n",
        "# Adding a constant variable to X_test_rfe\n",
        "X_test_rfe = sm.add_constant(X_test_rfe)\n",
        "\n",
        "# Making predictions\n",
        "y_pred = lm_3.predict(X_test_rfe)"
      ],
      "execution_count": 1943,
      "outputs": []
    },
    {
      "cell_type": "markdown",
      "metadata": {
        "id": "ZdlDuBv18tCo"
      },
      "source": [
        "Now again lets evaluate oour third model.\n",
        "\n"
      ]
    },
    {
      "cell_type": "code",
      "metadata": {
        "id": "n_yIechT8tCo",
        "colab": {
          "base_uri": "https://localhost:8080/",
          "height": 296
        },
        "outputId": "72ec37aa-9deb-474c-debb-7515cd29eaa5"
      },
      "source": [
        "# Plotting y_test and y_pred to understand the spread.\n",
        "plt.scatter(y_test, y_pred)\n",
        "plt.xlabel('y_test')\n",
        "plt.ylabel('y_pred')\n",
        "plt.title('y_test vs y_pred')\n",
        "plt.show()"
      ],
      "execution_count": 1944,
      "outputs": [
        {
          "output_type": "display_data",
          "data": {
            "image/png": "[encoded data removed]",
            "text/plain": [
              "<Figure size 432x288 with 1 Axes>"
            ]
          },
          "metadata": {
            "tags": [],
            "needs_background": "light"
          }
        }
      ]
    },
    {
      "cell_type": "code",
      "metadata": {
        "id": "YtEdPfW48tCp",
        "colab": {
          "base_uri": "https://localhost:8080/"
        },
        "outputId": "6b2c292f-17bb-4dd8-a747-25c5399e754e"
      },
      "source": [
        "# Print RMSE, MSE and MAE scores for your third model\n",
        "print(\"RMSE = \", np.sqrt(mean_squared_error(y_test, y_pred)))\n",
        "print(\"Mean Squared Error = \", mean_squared_error(y_test, y_pred))\n",
        "print(\"Mean Absolute Error = \", mean_absolute_error(y_test, y_pred))\n"
      ],
      "execution_count": 1945,
      "outputs": [
        {
          "output_type": "stream",
          "text": [
            "RMSE =  0.11109769272262061\n",
            "Mean Squared Error =  0.012342697328289829\n",
            "Mean Absolute Error =  0.08466527728226741\n"
          ],
          "name": "stdout"
        }
      ]
    },
    {
      "cell_type": "markdown",
      "metadata": {
        "id": "PNL4ybpl8tCq"
      },
      "source": [
        "## Model Selection\n",
        "\n",
        "<p style='text-align: right;'> 4 points</p>\n",
        "\n",
        "\n",
        "Seeing the results we can see that there is not much change in  model performance compared to your second model.\n",
        "Infact rmse score got increased. The reason could be that we might have removed a/some features which were of importance.\n",
        "\n",
        "May be your linear model wants some other features also to explain your target variable. \n",
        "\n",
        "We want you to underatand summary of all three models together"
      ]
    },
    {
      "cell_type": "code",
      "metadata": {
        "id": "5UG1pwcQ8tCq",
        "colab": {
          "base_uri": "https://localhost:8080/"
        },
        "outputId": "e908c6ef-577c-4cf4-deab-d696edc1fceb"
      },
      "source": [
        "#print summary of all 3 built models\n",
        "print(lm_1.summary())\n",
        "print(lm_2.summary())\n",
        "print(lm_3.summary())\n",
        "\n"
      ],
      "execution_count": 1946,
      "outputs": [
        {
          "output_type": "stream",
          "text": [
            "                            OLS Regression Results                            \n",
            "==============================================================================\n",
            "Dep. Variable:                  price   R-squared:                       0.686\n",
            "Model:                            OLS   Adj. R-squared:                  0.673\n",
            "Method:                 Least Squares   F-statistic:                     53.12\n",
            "Date:                Tue, 27 Jul 2021   Prob (F-statistic):           4.56e-82\n",
            "Time:                        21:13:34   Log-Likelihood:                 384.40\n",
            "No. Observations:                 381   AIC:                            -736.8\n",
            "Df Residuals:                     365   BIC:                            -673.7\n",
            "Df Model:                          15                                         \n",
            "Covariance Type:            nonrobust                                         \n",
            "===================================================================================\n",
            "                      coef    std err          t      P>|t|      [0.025      0.975]\n",
            "-----------------------------------------------------------------------------------\n",
            "const               0.0603      0.059      1.029      0.304      -0.055       0.176\n",
            "area                0.5745      0.134      4.285      0.000       0.311       0.838\n",
            "bedrooms           -0.0587      0.093     -0.632      0.528      -0.241       0.124\n",
            "bathrooms           0.2336      0.126      1.849      0.065      -0.015       0.482\n",
            "stories             0.1018      0.019      5.265      0.000       0.064       0.140\n",
            "mainroad            0.0511      0.014      3.580      0.000       0.023       0.079\n",
            "guestroom           0.0260      0.014      1.887      0.060      -0.001       0.053\n",
            "basement            0.0208      0.011      1.877      0.061      -0.001       0.043\n",
            "hotwaterheating     0.0875      0.022      4.048      0.000       0.045       0.130\n",
            "airconditioning     0.0663      0.011      5.868      0.000       0.044       0.088\n",
            "parking             0.0562      0.018      3.104      0.002       0.021       0.092\n",
            "prefarea            0.0566      0.012      4.772      0.000       0.033       0.080\n",
            "semi-furnished     -0.0008      0.012     -0.068      0.946      -0.024       0.022\n",
            "unfurnished        -0.0323      0.013     -2.550      0.011      -0.057      -0.007\n",
            "areaperbedroom     -0.3135      0.147     -2.139      0.033      -0.602      -0.025\n",
            "bbratio             0.0439      0.104      0.421      0.674      -0.161       0.249\n",
            "==============================================================================\n",
            "Omnibus:                       87.283   Durbin-Watson:                   2.087\n",
            "Prob(Omnibus):                  0.000   Jarque-Bera (JB):              276.328\n",
            "Skew:                           1.023   Prob(JB):                     9.91e-61\n",
            "Kurtosis:                       6.636   Cond. No.                         82.4\n",
            "==============================================================================\n",
            "\n",
            "Warnings:\n",
            "[1] Standard Errors assume that the covariance matrix of the errors is correctly specified.\n",
            "                            OLS Regression Results                            \n",
            "==============================================================================\n",
            "Dep. Variable:                  price   R-squared:                       0.676\n",
            "Model:                            OLS   Adj. R-squared:                  0.667\n",
            "Method:                 Least Squares   F-statistic:                     77.18\n",
            "Date:                Tue, 27 Jul 2021   Prob (F-statistic):           3.13e-84\n",
            "Time:                        21:13:34   Log-Likelihood:                 378.51\n",
            "No. Observations:                 381   AIC:                            -735.0\n",
            "Df Residuals:                     370   BIC:                            -691.7\n",
            "Df Model:                          10                                         \n",
            "Covariance Type:            nonrobust                                         \n",
            "===================================================================================\n",
            "                      coef    std err          t      P>|t|      [0.025      0.975]\n",
            "-----------------------------------------------------------------------------------\n",
            "const               0.0390      0.015      2.670      0.008       0.010       0.068\n",
            "area                0.2990      0.038      7.772      0.000       0.223       0.375\n",
            "bathrooms           0.3028      0.032      9.397      0.000       0.239       0.366\n",
            "stories             0.1081      0.017      6.277      0.000       0.074       0.142\n",
            "mainroad            0.0497      0.014      3.468      0.001       0.022       0.078\n",
            "guestroom           0.0402      0.013      3.124      0.002       0.015       0.065\n",
            "hotwaterheating     0.0876      0.022      4.051      0.000       0.045       0.130\n",
            "airconditioning     0.0682      0.011      6.028      0.000       0.046       0.090\n",
            "parking             0.0629      0.018      3.482      0.001       0.027       0.098\n",
            "prefarea            0.0637      0.012      5.452      0.000       0.041       0.087\n",
            "unfurnished        -0.0337      0.010     -3.295      0.001      -0.054      -0.014\n",
            "==============================================================================\n",
            "Omnibus:                       97.054   Durbin-Watson:                   2.099\n",
            "Prob(Omnibus):                  0.000   Jarque-Bera (JB):              322.034\n",
            "Skew:                           1.124   Prob(JB):                     1.18e-70\n",
            "Kurtosis:                       6.902   Cond. No.                         12.9\n",
            "==============================================================================\n",
            "\n",
            "Warnings:\n",
            "[1] Standard Errors assume that the covariance matrix of the errors is correctly specified.\n",
            "                            OLS Regression Results                            \n",
            "==============================================================================\n",
            "Dep. Variable:                  price   R-squared:                       0.595\n",
            "Model:                            OLS   Adj. R-squared:                  0.590\n",
            "Method:                 Least Squares   F-statistic:                     110.4\n",
            "Date:                Tue, 27 Jul 2021   Prob (F-statistic):           1.79e-71\n",
            "Time:                        21:13:34   Log-Likelihood:                 336.26\n",
            "No. Observations:                 381   AIC:                            -660.5\n",
            "Df Residuals:                     375   BIC:                            -636.9\n",
            "Df Model:                           5                                         \n",
            "Covariance Type:            nonrobust                                         \n",
            "===================================================================================\n",
            "                      coef    std err          t      P>|t|      [0.025      0.975]\n",
            "-----------------------------------------------------------------------------------\n",
            "const               0.0625      0.011      5.687      0.000       0.041       0.084\n",
            "area                0.4556      0.038     12.068      0.000       0.381       0.530\n",
            "bathrooms           0.3246      0.035      9.198      0.000       0.255       0.394\n",
            "stories             0.1182      0.019      6.264      0.000       0.081       0.155\n",
            "hotwaterheating     0.0878      0.024      3.691      0.000       0.041       0.135\n",
            "airconditioning     0.0782      0.012      6.336      0.000       0.054       0.102\n",
            "==============================================================================\n",
            "Omnibus:                       83.206   Durbin-Watson:                   2.111\n",
            "Prob(Omnibus):                  0.000   Jarque-Bera (JB):              249.287\n",
            "Skew:                           0.994   Prob(JB):                     7.38e-55\n",
            "Kurtosis:                       6.428   Cond. No.                         8.61\n",
            "==============================================================================\n",
            "\n",
            "Warnings:\n",
            "[1] Standard Errors assume that the covariance matrix of the errors is correctly specified.\n"
          ],
          "name": "stdout"
        }
      ]
    },
    {
      "cell_type": "markdown",
      "metadata": {
        "id": "0dwGKFoS8tCr"
      },
      "source": [
        "# \n",
        "# \n",
        "# \n",
        "# \n",
        "We understand that these summary shows a lot of data to understand. Don't worry if you don't understand right now, no fear when AI for All is here.\n",
        "This time we won't go in details but, we would like to tell you how to iterpret model by looking into few metric\n",
        "\n",
        "1. **Coef**: Regression coefficients represent the mean change in the response variable for one unit of change in the predictor variable while holding other predictors in the model constant. This statistical control that regression provides is important because it isolates the role of one variable from all of the others in the model.\n",
        "\n",
        "So its obvious that more the coefficient more important is the feature.\n",
        "\n",
        "![image.png](attachment:image.png)\n",
        "\n",
        "2.**R-squared**: It signifies the “percentage variation in dependent that is explained by independent variables”. Here, 59.2% variation in y is explained by X1, X2, X3, X4 and X5. This statistic has a drawback, it increases with the number of predictors(dependent variables) increase. Therefore, it becomes inconclusive in case when it is to be decided whether additional variable is adding to the predictability power of the regression.\n",
        "\n",
        "![image-2.png](attachment:image-2.png)\n",
        "\n",
        "\n",
        "3. **Adj. R-squared**: This is the modified version of R-squared which is adjusted for the number of variables in the regression. It increases only when an additional variable adds to the explanatory power to the regression."
      ]
    },
    {
      "cell_type": "markdown",
      "metadata": {
        "id": "2fydvFCA8tCr"
      },
      "source": [
        "We gave you three metric explaination. Now just try to compare these things in all three models.\n",
        "You will see that second model is perfoming better in terms of coefficient, R2 and adjusted r2. Also if you see metrics you calculated for model 2 and model 3, the second model is better there also.\n",
        "\n",
        "\n",
        "So we can finalise that our second model is the best model to solve our problem statement ie.to optimise the sale prices of the properties based on important factors such as area, bedrooms, parking, etc.\n"
      ]
    },
    {
      "cell_type": "markdown",
      "metadata": {
        "id": "_2ySKTlA8tCs"
      },
      "source": [
        "---------------------\n",
        "# Have a break now ! Congrats..you have completed your 10th milestone challenge\n",
        "\n",
        "----------------\n",
        "\n",
        "# FeedBack Time\n",
        "\n",
        "We hope you’ve enjoyed this course so far. We’re committed to help you use \"AI for All\" course to its full potential, so that you have a great learning experience. And that’s why we need your help in form of a feedback here.\n",
        "\n",
        "Please fill this feedback form https://docs.google.com/forms/d/e/1FAIpQLSfjBmH0yJSSA34IhSVx4h2eDMgOAeG4Dk-yHid__NMTk3Hq5g/viewform"
      ]
    }
  ]
}