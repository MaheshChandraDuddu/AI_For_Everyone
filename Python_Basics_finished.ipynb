{
  "nbformat": 4,
  "nbformat_minor": 0,
  "metadata": {
    "kernelspec": {
      "display_name": "Python 3",
      "language": "python",
      "name": "python3"
    },
    "language_info": {
      "codemirror_mode": {
        "name": "ipython",
        "version": 3
      },
      "file_extension": ".py",
      "mimetype": "text/x-python",
      "name": "python",
      "nbconvert_exporter": "python",
      "pygments_lexer": "ipython3",
      "version": "3.8.5"
    },
    "colab": {
      "name": "Python Basics.ipynb",
      "provenance": []
    }
  },
  "cells": [
    {
      "cell_type": "markdown",
      "metadata": {
        "id": "1llvqA7KAQkt"
      },
      "source": [
        "# <center><u> Python basics</u></center>\n",
        "![image.png](attachment:image.png)"
      ]
    },
    {
      "cell_type": "markdown",
      "metadata": {
        "id": "pV7xFOp7AQkx"
      },
      "source": [
        "Python is emerging as the popular language used more in data science applications.\n",
        "\n",
        "Take the case of the tech giant Google that has created the deep learning framework called tensorflow – Python is the primary language used for creating this framework. Its footprint has continued to increase in the environment promoted by Netflix. Production engineers at Facebook and Khan Academy have for long been using it as a prominent language in their environment.\n",
        "\n",
        "Python became the most popular language in the data science world.\n",
        "So what are you waiting for? Lets start learning python basic as your first assignment.\n",
        "\n",
        "\n",
        "Add-on Reference: https://youtu.be/HGOBQPFzWKo\n",
        "\n",
        "Add-on reference: https://youtu.be/8DvywoWv6fI\n",
        "\n",
        "\n",
        "## Variable declaration"
      ]
    },
    {
      "cell_type": "markdown",
      "metadata": {
        "id": "l1IE32uvAQky"
      },
      "source": [
        "Covers the topic of variable declaration and type of variables\n",
        "\n",
        "reference:- https://youtu.be/RVYY7zMiPbg\n",
        "\n",
        "<p style='text-align: right;'> 1+1+1+1+1 = 5 points</p>\n"
      ]
    },
    {
      "cell_type": "code",
      "metadata": {
        "id": "PuM-2A-gAQkz"
      },
      "source": [
        "# declare two variables, a = 5, b = 'city'\n",
        "a = 5 # your code here\n",
        "b = 'city' # your code here"
      ],
      "execution_count": 12,
      "outputs": []
    },
    {
      "cell_type": "code",
      "metadata": {
        "colab": {
          "base_uri": "https://localhost:8080/"
        },
        "id": "4f6E1LAbAQk0",
        "outputId": "4e2b3039-3f57-4042-f527-891f9125281e"
      },
      "source": [
        "# print type of a\n",
        "print(type(a))"
      ],
      "execution_count": 13,
      "outputs": [
        {
          "output_type": "stream",
          "text": [
            "<class 'int'>\n"
          ],
          "name": "stdout"
        }
      ]
    },
    {
      "cell_type": "code",
      "metadata": {
        "colab": {
          "base_uri": "https://localhost:8080/"
        },
        "id": "MEGB8OTHAQk1",
        "outputId": "d77e3735-9397-4860-8d67-38e2fa94ec17"
      },
      "source": [
        "# print type of b\n",
        "print(type(b))"
      ],
      "execution_count": 14,
      "outputs": [
        {
          "output_type": "stream",
          "text": [
            "<class 'str'>\n"
          ],
          "name": "stdout"
        }
      ]
    },
    {
      "cell_type": "code",
      "metadata": {
        "id": "yoItGn4RAQk2"
      },
      "source": [
        "# swap the values of a and b\n",
        "a, b = b, a"
      ],
      "execution_count": 15,
      "outputs": []
    },
    {
      "cell_type": "code",
      "metadata": {
        "colab": {
          "base_uri": "https://localhost:8080/"
        },
        "id": "WS1LNZqfAQk3",
        "outputId": "ff8b0824-7d7b-4f38-c323-04f1a93d4d6a"
      },
      "source": [
        "# run this to confirm \n",
        "print(\"a = \", a, \", b = \", b)"
      ],
      "execution_count": 16,
      "outputs": [
        {
          "output_type": "stream",
          "text": [
            "a =  city , b =  5\n"
          ],
          "name": "stdout"
        }
      ]
    },
    {
      "cell_type": "markdown",
      "metadata": {
        "id": "zwpFRRROAQk3"
      },
      "source": [
        "Cool! so variable declaration and getting it's type was easy."
      ]
    },
    {
      "cell_type": "markdown",
      "metadata": {
        "id": "zUOmRYDfAQk4"
      },
      "source": [
        "## Arithmetic Operations"
      ]
    },
    {
      "cell_type": "markdown",
      "metadata": {
        "id": "vGiMmdXHAQk4"
      },
      "source": [
        "Hey novice! this will be easy for you until you know basic arithmetic symbols like +, -, /, * etc.\n",
        "\n",
        "reference:- https://youtu.be/0-hzxfkpHy8\n",
        "\n",
        "<p style='text-align: right;'> 1 + 7 = 8 points </p>\n"
      ]
    },
    {
      "cell_type": "code",
      "metadata": {
        "colab": {
          "base_uri": "https://localhost:8080/"
        },
        "id": "MH-5aJHpAQk5",
        "outputId": "e37fcf14-ad03-429c-97b1-c200823c2b2f"
      },
      "source": [
        "# declare two variables, a = 24, b = 3\n",
        "\n",
        "a = 24 # your code here\n",
        "b = 3 # your code here\n",
        "print('a = {}, b = {}'.format(a,b))"
      ],
      "execution_count": 17,
      "outputs": [
        {
          "output_type": "stream",
          "text": [
            "a = 24, b = 3\n"
          ],
          "name": "stdout"
        }
      ]
    },
    {
      "cell_type": "code",
      "metadata": {
        "colab": {
          "base_uri": "https://localhost:8080/"
        },
        "id": "ZJe0CqQOAQk6",
        "outputId": "6f496e2e-0e71-4e6f-bd6d-a56e279ab32b"
      },
      "source": [
        "# calculate and print all the possible numerical operations on a and b (There are total 7 operations)\n",
        "\n",
        "print(\"a + b = \", a+b)\n",
        "print(\"a - b = \", a-b)\n",
        "print(\"a * b = \", a*b)\n",
        "print(\"a / b = \", a/b)\n",
        "print(\"a % b = \", a % b)\n",
        "print(\"a // b = \", a // b)\n",
        "print(\"a ^ b = \", a**b)"
      ],
      "execution_count": 18,
      "outputs": [
        {
          "output_type": "stream",
          "text": [
            "a + b =  27\n",
            "a - b =  21\n",
            "a * b =  72\n",
            "a / b =  8.0\n",
            "a % b =  0\n",
            "a // b =  8\n",
            "a ^ b =  13824\n"
          ],
          "name": "stdout"
        }
      ]
    },
    {
      "cell_type": "markdown",
      "metadata": {
        "id": "He0AVbFnAQk6"
      },
      "source": [
        "## Math Functions"
      ]
    },
    {
      "cell_type": "markdown",
      "metadata": {
        "id": "TX4cjWptAQk7"
      },
      "source": [
        "Lets do some simple mathematical operations by using math module. Math module contains various mathematical functions. So here we go!\n",
        "\n",
        "Reference:- https://youtu.be/gktjNyV0xks\n",
        "\n",
        "Reference document: https://docs.python.org/3/library/math.html\n",
        "<p style='text-align: right;'> 10 points </p>\n",
        "\n",
        "\n"
      ]
    },
    {
      "cell_type": "code",
      "metadata": {
        "id": "XNTO386aAQk7"
      },
      "source": [
        "import math"
      ],
      "execution_count": 19,
      "outputs": []
    },
    {
      "cell_type": "code",
      "metadata": {
        "id": "sQF9c0S2AQk8"
      },
      "source": [
        "# declare a variable x = 2 and y=5.32167\n",
        "x = 2\n",
        "y = 5.32167\n"
      ],
      "execution_count": 20,
      "outputs": []
    },
    {
      "cell_type": "code",
      "metadata": {
        "colab": {
          "base_uri": "https://localhost:8080/"
        },
        "id": "AzbEPsFvAQk8",
        "outputId": "4309aff9-7845-4e34-ea89-43c2a00af0c1"
      },
      "source": [
        "# Print the maximum value between x and y\n",
        "print(max(x, y))"
      ],
      "execution_count": 21,
      "outputs": [
        {
          "output_type": "stream",
          "text": [
            "5.32167\n"
          ],
          "name": "stdout"
        }
      ]
    },
    {
      "cell_type": "code",
      "metadata": {
        "colab": {
          "base_uri": "https://localhost:8080/"
        },
        "id": "4omSpBeIAQk8",
        "outputId": "659f5f84-7f4b-4028-f0dc-469af3835ae7"
      },
      "source": [
        "# Print the minimum value between x and y\n",
        "print(min(x, y))"
      ],
      "execution_count": 22,
      "outputs": [
        {
          "output_type": "stream",
          "text": [
            "2\n"
          ],
          "name": "stdout"
        }
      ]
    },
    {
      "cell_type": "code",
      "metadata": {
        "colab": {
          "base_uri": "https://localhost:8080/"
        },
        "id": "6rzohgntAQk9",
        "outputId": "6de392f2-b470-4338-9684-0e524e1a32b9"
      },
      "source": [
        "# Print square and cube of x and store in a and b variable\n",
        "a = x ** 2\n",
        "b = x ** 3\n",
        "print(a)\n",
        "print(b)"
      ],
      "execution_count": 23,
      "outputs": [
        {
          "output_type": "stream",
          "text": [
            "4\n",
            "8\n"
          ],
          "name": "stdout"
        }
      ]
    },
    {
      "cell_type": "code",
      "metadata": {
        "colab": {
          "base_uri": "https://localhost:8080/"
        },
        "id": "Is11XjpwAQk9",
        "outputId": "53af6bd9-e5f3-4ddf-e487-8e524f29c82c"
      },
      "source": [
        "#print log of x and store it in variable c\n",
        "c = math.log(x)\n",
        "print(c)"
      ],
      "execution_count": 24,
      "outputs": [
        {
          "output_type": "stream",
          "text": [
            "0.6931471805599453\n"
          ],
          "name": "stdout"
        }
      ]
    },
    {
      "cell_type": "code",
      "metadata": {
        "colab": {
          "base_uri": "https://localhost:8080/"
        },
        "id": "AUDC5ZjQAQk-",
        "outputId": "35c4b720-4452-4159-959f-b0ce35a9d6f4"
      },
      "source": [
        "#print minimum value between x,y,a, b and c\n",
        "print(min(x, y, a, b, c))"
      ],
      "execution_count": 25,
      "outputs": [
        {
          "output_type": "stream",
          "text": [
            "0.6931471805599453\n"
          ],
          "name": "stdout"
        }
      ]
    },
    {
      "cell_type": "code",
      "metadata": {
        "colab": {
          "base_uri": "https://localhost:8080/"
        },
        "id": "rCqOMR4-AQk_",
        "outputId": "84fcf6bd-3103-43f9-cd1d-f09f07b63301"
      },
      "source": [
        "#print maximum value between x,y,a, b and c\n",
        "print(max(x, y, a, b, c))"
      ],
      "execution_count": 26,
      "outputs": [
        {
          "output_type": "stream",
          "text": [
            "8\n"
          ],
          "name": "stdout"
        }
      ]
    },
    {
      "cell_type": "code",
      "metadata": {
        "colab": {
          "base_uri": "https://localhost:8080/"
        },
        "id": "6zHKVl6CAQk_",
        "outputId": "82f1f6ba-17bc-4099-b1b4-487a929b6563"
      },
      "source": [
        "#print the largest integer that is smaller than or equal to c. ie.round down\n",
        "print(math.floor(c))"
      ],
      "execution_count": 27,
      "outputs": [
        {
          "output_type": "stream",
          "text": [
            "0\n"
          ],
          "name": "stdout"
        }
      ]
    },
    {
      "cell_type": "code",
      "metadata": {
        "colab": {
          "base_uri": "https://localhost:8080/"
        },
        "id": "1GnyZvqQAQlA",
        "outputId": "f7461ff9-b94f-41b7-edc4-7d1ce5ae56ff"
      },
      "source": [
        "#print the smallest integer that is greater than or equal to c ie. round up\n",
        "print(math.ceil(c))"
      ],
      "execution_count": 28,
      "outputs": [
        {
          "output_type": "stream",
          "text": [
            "1\n"
          ],
          "name": "stdout"
        }
      ]
    },
    {
      "cell_type": "markdown",
      "metadata": {
        "id": "kPfDowrRAQlA"
      },
      "source": [
        "## Logical operations\n",
        "\n",
        "You must be aware of some logical operations you did in college, like 'and', 'or', 'not' etc. These operations becomes even more easy to implement when you have friend like python.\n",
        "\n",
        "Reference:- https://youtu.be/9w992l9TFIs\n",
        "\n",
        "<p style='text-align: right;'> 1 + 1 + 1 + 6 = 9 points </p>\n"
      ]
    },
    {
      "cell_type": "code",
      "metadata": {
        "colab": {
          "base_uri": "https://localhost:8080/"
        },
        "id": "6mFmZ_9zAQlB",
        "outputId": "49f6c3e2-2943-4413-bd36-fb02bb4a49c6"
      },
      "source": [
        "# declare two variables, a = True, b = False\n",
        "a = True #your code here\n",
        "b = False #your code here\n",
        "print(a)\n",
        "print(b)"
      ],
      "execution_count": 29,
      "outputs": [
        {
          "output_type": "stream",
          "text": [
            "True\n",
            "False\n"
          ],
          "name": "stdout"
        }
      ]
    },
    {
      "cell_type": "code",
      "metadata": {
        "colab": {
          "base_uri": "https://localhost:8080/"
        },
        "id": "gH6MSIE7AQlC",
        "outputId": "a16592a9-05ca-4281-fe4d-23b13377b925"
      },
      "source": [
        "# print type of a and type of b\n",
        "print(\"type of a = \",type(a), \"type of b = \", type(b))"
      ],
      "execution_count": 30,
      "outputs": [
        {
          "output_type": "stream",
          "text": [
            "type of a =  <class 'bool'> type of b =  <class 'bool'>\n"
          ],
          "name": "stdout"
        }
      ]
    },
    {
      "cell_type": "markdown",
      "metadata": {
        "id": "bbGD5c-ZAQlC"
      },
      "source": [
        "A fun fact for you !\n",
        "The Python Boolean type is one of Python's built-in data types. It's used to represent the truth value of an expression"
      ]
    },
    {
      "cell_type": "code",
      "metadata": {
        "colab": {
          "base_uri": "https://localhost:8080/"
        },
        "id": "P99TtvWbAQlD",
        "outputId": "6b6d9421-7ba7-488b-814d-34ebcc383c05"
      },
      "source": [
        "# print int(a) and int(b)\n",
        "print(int(a))\n",
        "print(int(b))"
      ],
      "execution_count": 31,
      "outputs": [
        {
          "output_type": "stream",
          "text": [
            "1\n",
            "0\n"
          ],
          "name": "stdout"
        }
      ]
    },
    {
      "cell_type": "markdown",
      "metadata": {
        "id": "SKtZnokjAQlD"
      },
      "source": [
        "We are sure you must have seen that, values for 'True' is 1 and for 'False' is 0."
      ]
    },
    {
      "cell_type": "code",
      "metadata": {
        "colab": {
          "base_uri": "https://localhost:8080/"
        },
        "id": "IUXW_uikAQlD",
        "outputId": "7e89d60c-5244-4931-e170-9746a314b7c1"
      },
      "source": [
        "# Find and print the values of not a, not b, a and b, a or b, a and not b\n",
        "print(\"not a = \", not a)\n",
        "print(\"not b = \", not b)\n",
        "print(\"a and b = \", a and b)\n",
        "print(\"a or b = \", a or b)\n",
        "print(\"a and not b = \", a and not b)"
      ],
      "execution_count": 32,
      "outputs": [
        {
          "output_type": "stream",
          "text": [
            "not a =  False\n",
            "not b =  True\n",
            "a and b =  False\n",
            "a or b =  True\n",
            "a and not b =  True\n"
          ],
          "name": "stdout"
        }
      ]
    },
    {
      "cell_type": "markdown",
      "metadata": {
        "id": "3XqzfT5kAQlE"
      },
      "source": [
        "We hope you tried to undertand the above output! "
      ]
    },
    {
      "cell_type": "markdown",
      "metadata": {
        "id": "FBo0ujR3AQlE"
      },
      "source": [
        "## List Comprehensions\n",
        "\n",
        "Hey buddy! Python has really amazing thing called list comprehension. List comprehension offers a shorter syntax when you want to create a new list based on the values of an existing list. Cool right? Let's dive into this more by doing it. \n",
        "\n",
        "Reference:- https://youtu.be/17gTGqHG5xQ\n",
        "\n",
        "<p style='text-align: right;'> 10 + 10 + 10= 30 points </p>\n",
        "\n"
      ]
    },
    {
      "cell_type": "code",
      "metadata": {
        "colab": {
          "base_uri": "https://localhost:8080/"
        },
        "id": "5eUWVxG1AQlF",
        "outputId": "1b521eec-bef6-4017-aaf5-91f8f1cf86d4"
      },
      "source": [
        "# Using list comprehension, create a list containing numbers from 1 to 20. \n",
        "# Hint: You can use range function of python to do this.\n",
        "numbers = [elem for elem in range(1, 21)]\n",
        "print(numbers) "
      ],
      "execution_count": 33,
      "outputs": [
        {
          "output_type": "stream",
          "text": [
            "[1, 2, 3, 4, 5, 6, 7, 8, 9, 10, 11, 12, 13, 14, 15, 16, 17, 18, 19, 20]\n"
          ],
          "name": "stdout"
        }
      ]
    },
    {
      "cell_type": "code",
      "metadata": {
        "colab": {
          "base_uri": "https://localhost:8080/"
        },
        "id": "Uldt7vuGAQlF",
        "outputId": "1f74d3b0-65de-4a7f-80e4-837842f7fb8f"
      },
      "source": [
        "# Using list comprehension, create a list containing numbers from 1 to 20 that are even\n",
        "even_numbers = [element for element in range(1, 21) if element % 2 == 0]\n",
        "print(even_numbers)"
      ],
      "execution_count": 34,
      "outputs": [
        {
          "output_type": "stream",
          "text": [
            "[2, 4, 6, 8, 10, 12, 14, 16, 18, 20]\n"
          ],
          "name": "stdout"
        }
      ]
    },
    {
      "cell_type": "markdown",
      "metadata": {
        "id": "nOnYBEdMAQlG"
      },
      "source": [
        "Create a list of all the fruits you like. Using list comprehension, create another list which contains the total number of charachters for each corresponding fruits.\n",
        "- Eg. fruits = [‘apple’,’kiwi’,’orange’], then output would be - [5,4,6]\n"
      ]
    },
    {
      "cell_type": "code",
      "metadata": {
        "colab": {
          "base_uri": "https://localhost:8080/"
        },
        "id": "ZWdHNMw3AQlG",
        "outputId": "f75414db-162d-4c39-842c-e07c2fd75b8d"
      },
      "source": [
        "fruits = ['apple', 'orange', 'guava', 'mango']# your code here (create a list of your favourite fruits)\n",
        "len_fruits = [len(elem) for elem in fruits] # your code here\n",
        "\n",
        "print(fruits)\n",
        "print(len_fruits)"
      ],
      "execution_count": 35,
      "outputs": [
        {
          "output_type": "stream",
          "text": [
            "['apple', 'orange', 'guava', 'mango']\n",
            "[5, 6, 5, 5]\n"
          ],
          "name": "stdout"
        }
      ]
    },
    {
      "cell_type": "markdown",
      "metadata": {
        "id": "eOXUc7uWAQlH"
      },
      "source": [
        "The above output is shown if fruits = ['apple','kiwi,'orange'], it can vary for different values of fruits\n",
        "\n",
        "Amazing right?\n"
      ]
    },
    {
      "cell_type": "markdown",
      "metadata": {
        "id": "5gAE1mtJAQlH"
      },
      "source": [
        "## String value and operators\n",
        "\n",
        "<p style='text-align: right;'> 1 + 1 + 1 + 1 + 1 = 5 points </p>\n"
      ]
    },
    {
      "cell_type": "markdown",
      "metadata": {
        "id": "V-8RHRQfAQlI"
      },
      "source": [
        "### Characters in strings\n",
        "\n",
        "\n",
        "Reference:- https://www.programiz.com/python-programming/string\n",
        "\n",
        "Reference:-  https://youtu.be/LnQDWIMaJlA\n"
      ]
    },
    {
      "cell_type": "code",
      "metadata": {
        "colab": {
          "base_uri": "https://localhost:8080/"
        },
        "id": "4fBajfIGAQlI",
        "outputId": "b9704d74-5763-40cc-ea16-3313842a229a"
      },
      "source": [
        "# declare the variables x = cat and y = dog and print it\n",
        "x = 'cat' #your code here\n",
        "y = 'dog' #your code here\n",
        "\n",
        "print(x)\n",
        "print(y)"
      ],
      "execution_count": 36,
      "outputs": [
        {
          "output_type": "stream",
          "text": [
            "cat\n",
            "dog\n"
          ],
          "name": "stdout"
        }
      ]
    },
    {
      "cell_type": "code",
      "metadata": {
        "colab": {
          "base_uri": "https://localhost:8080/"
        },
        "id": "8sBTN5TcAQlJ",
        "outputId": "cd5588d1-b31f-4d42-9722-25cd9d9369b6"
      },
      "source": [
        "#Print first character of both x and y. \n",
        "print(x[0])\n",
        "print(y[0])"
      ],
      "execution_count": 37,
      "outputs": [
        {
          "output_type": "stream",
          "text": [
            "c\n",
            "d\n"
          ],
          "name": "stdout"
        }
      ]
    },
    {
      "cell_type": "code",
      "metadata": {
        "colab": {
          "base_uri": "https://localhost:8080/"
        },
        "id": "7QuGT5rnAQlJ",
        "outputId": "cdda8333-7ab2-4749-be8c-4cc758fcef82"
      },
      "source": [
        "#Print last character of both x and y.\n",
        "print(x[-1])\n",
        "print(y[-1])"
      ],
      "execution_count": 38,
      "outputs": [
        {
          "output_type": "stream",
          "text": [
            "t\n",
            "g\n"
          ],
          "name": "stdout"
        }
      ]
    },
    {
      "cell_type": "code",
      "metadata": {
        "colab": {
          "base_uri": "https://localhost:8080/"
        },
        "id": "AtHLxwmzAQlK",
        "outputId": "71754bce-6f09-4805-884a-64927856cad1"
      },
      "source": [
        "#Print len of both x and y\n",
        "print(len(x))\n",
        "print(len(y))"
      ],
      "execution_count": 39,
      "outputs": [
        {
          "output_type": "stream",
          "text": [
            "3\n",
            "3\n"
          ],
          "name": "stdout"
        }
      ]
    },
    {
      "cell_type": "code",
      "metadata": {
        "colab": {
          "base_uri": "https://localhost:8080/"
        },
        "id": "V02uV5yvAQlK",
        "outputId": "c67976a2-c24e-42dd-e27a-8cd88135497b"
      },
      "source": [
        "#concatenate both x and y and store it in variable z and print z\n",
        "z = x + y\n",
        "print(z)"
      ],
      "execution_count": 40,
      "outputs": [
        {
          "output_type": "stream",
          "text": [
            "catdog\n"
          ],
          "name": "stdout"
        }
      ]
    },
    {
      "cell_type": "code",
      "metadata": {
        "colab": {
          "base_uri": "https://localhost:8080/"
        },
        "id": "mo671LWNAQlL",
        "outputId": "a8445208-22f8-4a76-f7af-f582fcfa0e9e"
      },
      "source": [
        "#check if x is part of z \n",
        "if x in z:\n",
        "  print(\"Yes\")\n",
        "else:\n",
        "  print(\"No\")"
      ],
      "execution_count": 41,
      "outputs": [
        {
          "output_type": "stream",
          "text": [
            "Yes\n"
          ],
          "name": "stdout"
        }
      ]
    },
    {
      "cell_type": "markdown",
      "metadata": {
        "id": "24dme49BAQlL"
      },
      "source": [
        "### String slicing\n",
        "\n",
        "\n",
        "\n",
        "Hey coder, do you know? Python slicing is about obtaining a sub-string from the given string by slicing it respectively from start to end\n",
        "\n",
        "So be ready to implement it today!\n",
        "<p style='text-align: right;'> 2 points </p>"
      ]
    },
    {
      "cell_type": "code",
      "metadata": {
        "colab": {
          "base_uri": "https://localhost:8080/"
        },
        "id": "ghVUrLOWAQlL",
        "outputId": "29f2b491-a724-459a-928f-61b1c8509891"
      },
      "source": [
        "#Create variable a = “pineapple”\n",
        "a = \"pineapple\"# your code here\n",
        "print(a)"
      ],
      "execution_count": 42,
      "outputs": [
        {
          "output_type": "stream",
          "text": [
            "pineapple\n"
          ],
          "name": "stdout"
        }
      ]
    },
    {
      "cell_type": "code",
      "metadata": {
        "colab": {
          "base_uri": "https://localhost:8080/"
        },
        "id": "TRWSh2sfAQlM",
        "outputId": "80adecc5-96af-431a-8b8e-608f0dca91d9"
      },
      "source": [
        "# Using index slicing, print the words ‘pine’ and “apple”.\n",
        "# HINT - a[:]\n",
        "print(a[:4])\n",
        "print(a[4:])"
      ],
      "execution_count": 43,
      "outputs": [
        {
          "output_type": "stream",
          "text": [
            "pine\n",
            "apple\n"
          ],
          "name": "stdout"
        }
      ]
    },
    {
      "cell_type": "code",
      "metadata": {
        "colab": {
          "base_uri": "https://localhost:8080/",
          "height": 35
        },
        "id": "twzdENtDAQlM",
        "outputId": "6e09b09c-7647-4809-99f6-01171a1d985b"
      },
      "source": [
        "#Convert a into upper case\n",
        "a.upper()"
      ],
      "execution_count": 44,
      "outputs": [
        {
          "output_type": "execute_result",
          "data": {
            "application/vnd.google.colaboratory.intrinsic+json": {
              "type": "string"
            },
            "text/plain": [
              "'PINEAPPLE'"
            ]
          },
          "metadata": {
            "tags": []
          },
          "execution_count": 44
        }
      ]
    },
    {
      "cell_type": "markdown",
      "metadata": {
        "id": "Vn0HZNdeAQlN"
      },
      "source": [
        "## Dealing with Sentences\n",
        "\n",
        "<p style='text-align: right;'> 1+1+1+1+1+1 = 6 points </p>\n"
      ]
    },
    {
      "cell_type": "code",
      "metadata": {
        "colab": {
          "base_uri": "https://localhost:8080/"
        },
        "id": "PVPBs9igAQlN",
        "outputId": "18c45003-4824-4728-e53e-14828036d87a"
      },
      "source": [
        "# Declare a sentence of ‘I am flying to London’ and print it\n",
        "sentence = 'I am flying to London'\n",
        "print(sentence)"
      ],
      "execution_count": 45,
      "outputs": [
        {
          "output_type": "stream",
          "text": [
            "I am flying to London\n"
          ],
          "name": "stdout"
        }
      ]
    },
    {
      "cell_type": "code",
      "metadata": {
        "colab": {
          "base_uri": "https://localhost:8080/"
        },
        "id": "HICC9F1aAQlO",
        "outputId": "f831fe0d-64e1-4dbd-ac68-d02780df57fd"
      },
      "source": [
        "#Print length of the sentence\n",
        "print(len(sentence))"
      ],
      "execution_count": 46,
      "outputs": [
        {
          "output_type": "stream",
          "text": [
            "21\n"
          ],
          "name": "stdout"
        }
      ]
    },
    {
      "cell_type": "code",
      "metadata": {
        "colab": {
          "base_uri": "https://localhost:8080/"
        },
        "id": "pbG9m0rGAQlO",
        "outputId": "1e96ed4c-eb6f-48eb-fa71-d3dbd90c0690"
      },
      "source": [
        "#Using list indexing, to print the word London\n",
        "print(sentence[15:])"
      ],
      "execution_count": 47,
      "outputs": [
        {
          "output_type": "stream",
          "text": [
            "London\n"
          ],
          "name": "stdout"
        }
      ]
    },
    {
      "cell_type": "code",
      "metadata": {
        "colab": {
          "base_uri": "https://localhost:8080/"
        },
        "id": "jL17TtsaAQlO",
        "outputId": "7d323bfc-7896-4508-975c-582aaa16c9bc"
      },
      "source": [
        "# Use .split to get list of individual words in the sentence\n",
        "print(sentence.split())"
      ],
      "execution_count": 48,
      "outputs": [
        {
          "output_type": "stream",
          "text": [
            "['I', 'am', 'flying', 'to', 'London']\n"
          ],
          "name": "stdout"
        }
      ]
    },
    {
      "cell_type": "code",
      "metadata": {
        "colab": {
          "base_uri": "https://localhost:8080/",
          "height": 35
        },
        "id": "ANRXvBvjAQlP",
        "outputId": "4b327a71-41ef-4fad-cffb-70455b95e14d"
      },
      "source": [
        "# Convert sentence in lower case \n",
        "sentence.lower()"
      ],
      "execution_count": 49,
      "outputs": [
        {
          "output_type": "execute_result",
          "data": {
            "application/vnd.google.colaboratory.intrinsic+json": {
              "type": "string"
            },
            "text/plain": [
              "'i am flying to london'"
            ]
          },
          "metadata": {
            "tags": []
          },
          "execution_count": 49
        }
      ]
    },
    {
      "cell_type": "code",
      "metadata": {
        "colab": {
          "base_uri": "https://localhost:8080/",
          "height": 35
        },
        "id": "NCrQfVKnAQlP",
        "outputId": "a68bc99d-d5c8-437a-9a80-29b9b230bf62"
      },
      "source": [
        "# Convert sentence in upper case .\n",
        "sentence.upper()"
      ],
      "execution_count": 50,
      "outputs": [
        {
          "output_type": "execute_result",
          "data": {
            "application/vnd.google.colaboratory.intrinsic+json": {
              "type": "string"
            },
            "text/plain": [
              "'I AM FLYING TO LONDON'"
            ]
          },
          "metadata": {
            "tags": []
          },
          "execution_count": 50
        }
      ]
    },
    {
      "cell_type": "markdown",
      "metadata": {
        "id": "_6Yx-u4PAQlQ"
      },
      "source": [
        "Great job! Slicing is fun."
      ]
    },
    {
      "cell_type": "markdown",
      "metadata": {
        "id": "P2Y4G1tTAQlQ"
      },
      "source": [
        "## Functions\n",
        "\n",
        "Declare a function named square, which takes an input as x, and returns the square of x.\n",
        "\n",
        "Reference:- https://youtu.be/Rpq9MC67M08\n",
        "\n",
        "<p style='text-align: right;'> 5 + 3 = 8 points </p>\n"
      ]
    },
    {
      "cell_type": "code",
      "metadata": {
        "id": "rvTXZBlqAQlQ"
      },
      "source": [
        "def square(x):\n",
        "  return x ** 2\n",
        "    "
      ],
      "execution_count": 51,
      "outputs": []
    },
    {
      "cell_type": "markdown",
      "metadata": {
        "id": "BMWju4rxAQlR"
      },
      "source": [
        "Call the function to find the value of square of 9."
      ]
    },
    {
      "cell_type": "code",
      "metadata": {
        "colab": {
          "base_uri": "https://localhost:8080/"
        },
        "id": "IMhMgd8aAQlR",
        "outputId": "06d97fcc-96fe-4cfe-e5e4-172105c8b738"
      },
      "source": [
        "# find the square of 9 using the function square you have just created.\n",
        "print(square(9))"
      ],
      "execution_count": 52,
      "outputs": [
        {
          "output_type": "stream",
          "text": [
            "81\n"
          ],
          "name": "stdout"
        }
      ]
    },
    {
      "cell_type": "markdown",
      "metadata": {
        "id": "z5e_zvFKAQlR"
      },
      "source": [
        "Wohoo! see, defining function was simple"
      ]
    },
    {
      "cell_type": "markdown",
      "metadata": {
        "id": "b8ms_dQqAQlS"
      },
      "source": [
        "#### Define another function which checks whether a given is number is odd or even for a given input and it should print whether the  number is odd or even as an output\n",
        "<p style='text-align: right;'> 5 + 3 = 8 points </p>\n"
      ]
    },
    {
      "cell_type": "code",
      "metadata": {
        "id": "t8wNdXcEAQlS"
      },
      "source": [
        "# your code here\n",
        "def is_even_odd(num):\n",
        "  if num % 2 == 0:\n",
        "    print(\"\", num, \"is Even\")\n",
        "  else:\n",
        "    print(\"\", num, \"is Odd\")\n",
        "  return"
      ],
      "execution_count": 53,
      "outputs": []
    },
    {
      "cell_type": "markdown",
      "metadata": {
        "id": "7-uoCpNSAQlS"
      },
      "source": [
        "Hey smarty! lets use both the functions together to check whether the square of 3,6 and 21 are odd or even.\n"
      ]
    },
    {
      "cell_type": "code",
      "metadata": {
        "colab": {
          "base_uri": "https://localhost:8080/"
        },
        "id": "xm_lifKtAQlT",
        "outputId": "481119b7-2b79-4787-aa2a-7f69901eccaa"
      },
      "source": [
        " # your code here\n",
        "is_even_odd(square(3))\n",
        "is_even_odd(square(6))\n",
        "is_even_odd(square(21))"
      ],
      "execution_count": 54,
      "outputs": [
        {
          "output_type": "stream",
          "text": [
            " 9 is Odd\n",
            " 36 is Even\n",
            " 441 is Odd\n"
          ],
          "name": "stdout"
        }
      ]
    },
    {
      "cell_type": "markdown",
      "metadata": {
        "id": "xx3hTjxFAQlT"
      },
      "source": [
        "hey hey! You did a great code. Did you see the benefit of using functions"
      ]
    },
    {
      "cell_type": "markdown",
      "metadata": {
        "id": "HTGbys-BAQlT"
      },
      "source": [
        "# Loops and Iterations\n",
        "Reference:- https://youtu.be/6iF8Xb7Z3wQ"
      ]
    },
    {
      "cell_type": "markdown",
      "metadata": {
        "id": "Qv_QAvb4AQlU"
      },
      "source": [
        "## If statement\n",
        "\n",
        "<p style='text-align: right;'> 1 + 2 + 3 = 6 points </p>\n"
      ]
    },
    {
      "cell_type": "code",
      "metadata": {
        "colab": {
          "base_uri": "https://localhost:8080/"
        },
        "id": "VSH2jfuZAQlU",
        "outputId": "9f3b0e2a-5bde-4300-8c5c-28db9c91243e"
      },
      "source": [
        "#Declare a variable x equal to a number of your choice.\n",
        "#your code here\n",
        "x =  10 # add a number of your choice (mine is 3 :) )\n",
        "print(x)"
      ],
      "execution_count": 55,
      "outputs": [
        {
          "output_type": "stream",
          "text": [
            "10\n"
          ],
          "name": "stdout"
        }
      ]
    },
    {
      "cell_type": "code",
      "metadata": {
        "colab": {
          "base_uri": "https://localhost:8080/"
        },
        "id": "AvQY2PgpAQlU",
        "outputId": "e7981a44-b45c-4b4a-89a5-cd9ecb5ee5f5"
      },
      "source": [
        "#Using an if statement, print whether x is zero, positive or negative.\n",
        "if x < 0:\n",
        "  print(\"\", x, \"is negative\")\n",
        "elif x > 0:\n",
        "  print(\"\",x, \"is positive\")\n",
        "else:\n",
        "  print(\"\", x, \"is zero\")"
      ],
      "execution_count": 56,
      "outputs": [
        {
          "output_type": "stream",
          "text": [
            " 10 is positive\n"
          ],
          "name": "stdout"
        }
      ]
    },
    {
      "cell_type": "code",
      "metadata": {
        "colab": {
          "base_uri": "https://localhost:8080/"
        },
        "id": "qH4P1W0KAQlV",
        "outputId": "1b930554-b9c8-431e-8f53-e6aa1dcde8b7"
      },
      "source": [
        "# Now Define a function, which takes input from the user and prints whether the given input is zero,positive or negative.\n",
        "\n",
        "def check_num(number):\n",
        "  if number < 0:\n",
        "    print(\"\", number, \"is negative\")\n",
        "  elif number > 0:\n",
        "    print(\"\", number, \"is positive\")\n",
        "  else:\n",
        "    print(\"\", number, \"is zero\")\n",
        "  return\n",
        "  \n",
        "check_num(10)\n",
        "check_num(-2)\n",
        "check_num(0)"
      ],
      "execution_count": 57,
      "outputs": [
        {
          "output_type": "stream",
          "text": [
            " 10 is positive\n",
            " -2 is negative\n",
            " 0 is zero\n"
          ],
          "name": "stdout"
        }
      ]
    },
    {
      "cell_type": "markdown",
      "metadata": {
        "id": "R8Z3d5WaAQlV"
      },
      "source": [
        "## For loop"
      ]
    },
    {
      "cell_type": "markdown",
      "metadata": {
        "id": "cFJkZpL-AQlW"
      },
      "source": [
        "<p style='text-align: right;'> 2 points </p>\n"
      ]
    },
    {
      "cell_type": "code",
      "metadata": {
        "id": "k_ofuvGUAQlW"
      },
      "source": [
        "#Create a list x, such that it contains the elements - ‘India’, ‘Israel’,’Canada’.\n",
        "x = ['India', 'Israel', 'Canada']"
      ],
      "execution_count": 58,
      "outputs": []
    },
    {
      "cell_type": "code",
      "metadata": {
        "colab": {
          "base_uri": "https://localhost:8080/"
        },
        "id": "nB9yvUC1AQlW",
        "outputId": "fb1c3989-c678-4516-b6a7-42fb37b3ccc1"
      },
      "source": [
        "#Using For loop, iterate over the list and print the elements.\n",
        "for elem in x:\n",
        "  print(elem)"
      ],
      "execution_count": 59,
      "outputs": [
        {
          "output_type": "stream",
          "text": [
            "India\n",
            "Israel\n",
            "Canada\n"
          ],
          "name": "stdout"
        }
      ]
    },
    {
      "cell_type": "markdown",
      "metadata": {
        "id": "dEWzUJC8AQlX"
      },
      "source": [
        "<p style='text-align: right;'> 2 points </p>\n"
      ]
    },
    {
      "cell_type": "code",
      "metadata": {
        "colab": {
          "base_uri": "https://localhost:8080/"
        },
        "id": "0ezy8iTLAQlX",
        "outputId": "9a6709ee-c323-49f8-fc9c-81c976730d89"
      },
      "source": [
        "# Using For loop, print the table of 2.\n",
        "for num in range(2, 21, 2):\n",
        "  print(\"2 * \", num//2, \"= \", num)"
      ],
      "execution_count": 60,
      "outputs": [
        {
          "output_type": "stream",
          "text": [
            "2 *  1 =  2\n",
            "2 *  2 =  4\n",
            "2 *  3 =  6\n",
            "2 *  4 =  8\n",
            "2 *  5 =  10\n",
            "2 *  6 =  12\n",
            "2 *  7 =  14\n",
            "2 *  8 =  16\n",
            "2 *  9 =  18\n",
            "2 *  10 =  20\n"
          ],
          "name": "stdout"
        }
      ]
    },
    {
      "cell_type": "markdown",
      "metadata": {
        "id": "VEKTQNwGAQlX"
      },
      "source": [
        "For a given list, x = [21, ‘hello,’cream’, 20,19,’village’], using for loop to iterate over the items and using - if statement print the items that are of type int"
      ]
    },
    {
      "cell_type": "code",
      "metadata": {
        "colab": {
          "base_uri": "https://localhost:8080/"
        },
        "id": "19RTOOnrAQlY",
        "outputId": "ff66593f-ce15-4050-e8a1-72fa77ed2e93"
      },
      "source": [
        "#code here\n",
        "x = [21, 'hello', 'cream', 20, 19, 'village']\n",
        "for elem in x:\n",
        "  if type(elem) == int:\n",
        "    print(elem)"
      ],
      "execution_count": 61,
      "outputs": [
        {
          "output_type": "stream",
          "text": [
            "21\n",
            "20\n",
            "19\n"
          ],
          "name": "stdout"
        }
      ]
    },
    {
      "cell_type": "markdown",
      "metadata": {
        "id": "GauHd0-JAQlY"
      },
      "source": [
        "Using For loop, lets create a pattern. "
      ]
    },
    {
      "cell_type": "markdown",
      "metadata": {
        "id": "uCpjrA_SAQlY"
      },
      "source": [
        "<p style='text-align: right;'> 10 points </p>\n"
      ]
    },
    {
      "cell_type": "code",
      "metadata": {
        "colab": {
          "base_uri": "https://localhost:8080/"
        },
        "id": "ILu97tNRAQlZ",
        "outputId": "f5b789f0-42ef-4ac8-d60b-088b2d276ad9"
      },
      "source": [
        "# print the following pattern\n",
        "for i in range(1, 6):\n",
        "  for j in range(1, i+1):\n",
        "    print(\"*\", end = \" \")\n",
        "  print(\"\")"
      ],
      "execution_count": 62,
      "outputs": [
        {
          "output_type": "stream",
          "text": [
            "* \n",
            "* * \n",
            "* * * \n",
            "* * * * \n",
            "* * * * * \n"
          ],
          "name": "stdout"
        }
      ]
    },
    {
      "cell_type": "markdown",
      "metadata": {
        "id": "eA_0IgHTAQlZ"
      },
      "source": [
        "## While loop"
      ]
    },
    {
      "cell_type": "markdown",
      "metadata": {
        "id": "IKNmh_SiAQlZ"
      },
      "source": [
        "- Using while loop make a function that prints all the values between 1 to n. "
      ]
    },
    {
      "cell_type": "markdown",
      "metadata": {
        "id": "BBguNV8vAQlZ"
      },
      "source": [
        "<p style='text-align: right;'> 10 points </p>\n"
      ]
    },
    {
      "cell_type": "code",
      "metadata": {
        "id": "iHcU1MeQAQla"
      },
      "source": [
        "def counter(n):\n",
        " # add your code here\n",
        "    num = 1\n",
        "    while(num <= n):\n",
        "      print(num)\n",
        "      num+=1\n",
        "    return"
      ],
      "execution_count": 63,
      "outputs": []
    },
    {
      "cell_type": "code",
      "metadata": {
        "id": "dq6g13K_AQla",
        "colab": {
          "base_uri": "https://localhost:8080/"
        },
        "outputId": "60262025-8102-4677-f27b-ffc31503284c"
      },
      "source": [
        "counter(10) #this should print numbers from 1 to 10"
      ],
      "execution_count": 64,
      "outputs": [
        {
          "output_type": "stream",
          "text": [
            "1\n",
            "2\n",
            "3\n",
            "4\n",
            "5\n",
            "6\n",
            "7\n",
            "8\n",
            "9\n",
            "10\n"
          ],
          "name": "stdout"
        }
      ]
    },
    {
      "cell_type": "markdown",
      "metadata": {
        "id": "lZGmlMmfAQla"
      },
      "source": [
        "### Write the code for the following, what is the output obtained?\n",
        "- Set a variable flag = True, num = 5\n",
        "- Run a while loop till flag = True\n",
        "- Inside the while loop - \n",
        "    - Increment the value of num by 5\n",
        "    - If value of num is greater then 50, set flag to be False"
      ]
    },
    {
      "cell_type": "code",
      "metadata": {
        "id": "9JMKCXyEAQlb",
        "colab": {
          "base_uri": "https://localhost:8080/"
        },
        "outputId": "4219cc96-e94e-4b8d-dabe-406fe0d570e3"
      },
      "source": [
        "# your code here\n",
        "flag = True \n",
        "num = 5\n",
        "while flag == True:\n",
        "  print(num)\n",
        "  num += 5\n",
        "  if num > 50:\n",
        "    flag = False\n"
      ],
      "execution_count": 65,
      "outputs": [
        {
          "output_type": "stream",
          "text": [
            "5\n",
            "10\n",
            "15\n",
            "20\n",
            "25\n",
            "30\n",
            "35\n",
            "40\n",
            "45\n",
            "50\n"
          ],
          "name": "stdout"
        }
      ]
    },
    {
      "cell_type": "markdown",
      "metadata": {
        "id": "_M8JZMYeAQlb"
      },
      "source": [
        "Awsesome! Great job so far. Hope you fell in love with python now."
      ]
    },
    {
      "cell_type": "markdown",
      "metadata": {
        "id": "-Qd_PWS-AQlc"
      },
      "source": [
        "----------------------------------------------------------------------"
      ]
    },
    {
      "cell_type": "markdown",
      "metadata": {
        "id": "-Jc7OMysAQlc"
      },
      "source": [
        "# Smile, you completed the first milestone :)!! "
      ]
    },
    {
      "cell_type": "markdown",
      "metadata": {
        "id": "99yZWjfNAQlc"
      },
      "source": [
        "# Its Feedback Time!\n",
        "\n",
        "We hope you’ve enjoyed this course so far. We’re committed to help you use \"AI for All\" course to its full potential, so that you have a great learning experience. And that’s why we need your help in form of a feedback here.\n",
        "\n",
        "**Please fill this feedback form**\n",
        " https://zfrmz.in/MtRG5oWXBdesm6rmSM7N\n",
        " \n",
        "-------------------------------------\n",
        " "
      ]
    }
  ]
}