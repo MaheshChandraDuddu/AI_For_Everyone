{
  "nbformat": 4,
  "nbformat_minor": 0,
  "metadata": {
    "kernelspec": {
      "display_name": "Python 3",
      "language": "python",
      "name": "python3"
    },
    "language_info": {
      "codemirror_mode": {
        "name": "ipython",
        "version": 3
      },
      "file_extension": ".py",
      "mimetype": "text/x-python",
      "name": "python",
      "nbconvert_exporter": "python",
      "pygments_lexer": "ipython3",
      "version": "3.8.5"
    },
    "colab": {
      "name": "Python Intermediate.ipynb",
      "provenance": []
    }
  },
  "cells": [
    {
      "cell_type": "markdown",
      "metadata": {
        "id": "eowdRiaou3PZ"
      },
      "source": [
        "# <center><u> Python-Intermediate </u></center>\n"
      ]
    },
    {
      "cell_type": "markdown",
      "metadata": {
        "id": "4BSndTnbu3Pc"
      },
      "source": [
        "Here you can start digging into our intermediate-level programming questions that will teach you new Python concepts. This category is for intermediate Python developers who already know the basics of Python development and want to expand their knowledge.\n",
        "\n",
        "Below are some flowcharts on various python statements which will be useful to understand their use .\n",
        "\n",
        "\n",
        "**1. BREAK**\n",
        "![image-7.png](attachment:image-7.png)\n",
        "**2. CONTINUE**\n",
        "![image.png](attachment:image.png)\n",
        "**3. WHILE LOOP**\n",
        "![image-2.png](attachment:image-2.png)\n",
        "**4. FOR LOOP**\n",
        "![image-3.png](attachment:image-3.png)\n",
        "**5. IF STATEMENT**\n",
        "![image-4.png](attachment:image-4.png)\n",
        "**6. IF ELSE**\n",
        "![image-5.png](attachment:image-5.png)\n",
        "**7. IF ELSE IF ELSE**\n",
        "![image-6.png](attachment:image-6.png)\n",
        "\n",
        "\n",
        "\n",
        "Becoming a Python expert takes time, but over time you’ll master this beautiful programming language. It’s worth it! \n",
        "\n",
        "So lets get started!"
      ]
    },
    {
      "cell_type": "markdown",
      "metadata": {
        "id": "MFbLn5Ghu3Pe"
      },
      "source": [
        "1.Lets remove duplicates from list names=['A','B','C','A','D','E','F','G','H','E','D']\n",
        "\n"
      ]
    },
    {
      "cell_type": "code",
      "metadata": {
        "colab": {
          "base_uri": "https://localhost:8080/"
        },
        "id": "hNUSKeOzu3Pe",
        "outputId": "675141a0-3b35-4fed-c162-fb959b7cf847"
      },
      "source": [
        "#code here\n",
        "\n",
        "names = ['A','B','C','A','D','E','F','G','H','E','D']\n",
        "names_unique = []\n",
        "for elem in names:\n",
        "  if elem not in names_unique:\n",
        "    names_unique.append(elem)\n",
        "print(names_unique)"
      ],
      "execution_count": 86,
      "outputs": [
        {
          "output_type": "stream",
          "text": [
            "['A', 'B', 'C', 'D', 'E', 'F', 'G', 'H']\n"
          ],
          "name": "stdout"
        }
      ]
    },
    {
      "cell_type": "markdown",
      "metadata": {
        "id": "P_KkV5Bdu3Pg"
      },
      "source": [
        "2. Good! Shall we try solving above problem in shhorter way using list comprehention? It will be amazing. Here we go!\n"
      ]
    },
    {
      "cell_type": "code",
      "metadata": {
        "id": "Cyl2wCBBu3Ph",
        "colab": {
          "base_uri": "https://localhost:8080/"
        },
        "outputId": "0b4dc2c1-bad6-4513-ae52-ba7ed8d3e6a8"
      },
      "source": [
        "#code here\n",
        "names = ['A','B','C','A','D','E','F','G','H','E','D']\n",
        "names_unique = []\n",
        "[names_unique.append(elem) for elem in names if elem not in names_unique]\n",
        "print(names_unique)\n"
      ],
      "execution_count": 87,
      "outputs": [
        {
          "output_type": "stream",
          "text": [
            "['A', 'B', 'C', 'D', 'E', 'F', 'G', 'H']\n"
          ],
          "name": "stdout"
        }
      ]
    },
    {
      "cell_type": "markdown",
      "metadata": {
        "id": "HlULjXq2u3Pi"
      },
      "source": [
        "3. define a funtion 'occurence' which takes 2 inputs, one list 'lst' and another one a number 'n' and count the number of occurrences of n in your list lst."
      ]
    },
    {
      "cell_type": "code",
      "metadata": {
        "id": "nGEYjM1Gu3Pi",
        "colab": {
          "base_uri": "https://localhost:8080/"
        },
        "outputId": "cc5ddfca-b1cf-431e-8398-5043a345e7cd"
      },
      "source": [
        "#your code\n",
        "\n",
        "def occurence(lst:list, n:int):\n",
        "  cnt = 0\n",
        "  for elem in lst:\n",
        "    if elem == n:\n",
        "      cnt+=1\n",
        "  return cnt\n",
        "#lets use your function\n",
        "occurence([2,3,4,8,1,3,5,2,1,3,1,2,2], 2)"
      ],
      "execution_count": 88,
      "outputs": [
        {
          "output_type": "execute_result",
          "data": {
            "text/plain": [
              "4"
            ]
          },
          "metadata": {
            "tags": []
          },
          "execution_count": 88
        }
      ]
    },
    {
      "cell_type": "markdown",
      "metadata": {
        "id": "GPFnR01Uu3Pj"
      },
      "source": [
        "4. Calculate factorial of a number ( Here number=3) using while loop"
      ]
    },
    {
      "cell_type": "code",
      "metadata": {
        "id": "7XNvSmphu3Pk",
        "colab": {
          "base_uri": "https://localhost:8080/"
        },
        "outputId": "8efccf22-e511-4573-f727-8dad75b91cd3"
      },
      "source": [
        "number = 3\n",
        "#code here\n",
        "fact = 1\n",
        "while (number > 0):\n",
        "  fact *= number\n",
        "  number -= 1\n",
        "print(fact)\n",
        "\n",
        "\n",
        "\n"
      ],
      "execution_count": 89,
      "outputs": [
        {
          "output_type": "stream",
          "text": [
            "6\n"
          ],
          "name": "stdout"
        }
      ]
    },
    {
      "cell_type": "markdown",
      "metadata": {
        "id": "6FL7Cnsau3Pk"
      },
      "source": [
        "5. Reverse a given integer number num = 47594038222 and display the count of total number of digits in your revered number using while loop."
      ]
    },
    {
      "cell_type": "code",
      "metadata": {
        "id": "r_hBsAMWu3Pl",
        "colab": {
          "base_uri": "https://localhost:8080/"
        },
        "outputId": "04323bdd-1c52-41b4-c44d-5b5ca86149f0"
      },
      "source": [
        "#code here\n",
        "\n",
        "num = 47594038222\n",
        "rev_num = 0\n",
        "no_of_digits = 0\n",
        "while num > 0:\n",
        "  rev_num = rev_num * 10 + num%10\n",
        "  num //= 10\n",
        "  no_of_digits += 1\n",
        "print(\"Total number of digits in\", rev_num, \"are\", no_of_digits)\n",
        "\n",
        "\n"
      ],
      "execution_count": 90,
      "outputs": [
        {
          "output_type": "stream",
          "text": [
            "Total number of digits in 22283049574 are 11\n"
          ],
          "name": "stdout"
        }
      ]
    },
    {
      "cell_type": "markdown",
      "metadata": {
        "id": "OTMDUra6u3Pl"
      },
      "source": [
        "6. Can you reverse you given num without using loop in just one line?\n",
        "\n",
        "Hint: apply some slicing trick to do it."
      ]
    },
    {
      "cell_type": "code",
      "metadata": {
        "id": "82MetL83u3Pm",
        "colab": {
          "base_uri": "https://localhost:8080/"
        },
        "outputId": "93fac2eb-243f-4702-9a04-21a6b59f92ed"
      },
      "source": [
        "num = 47594038222\n",
        "\n",
        "#one line code here\n",
        "rev_num = int(str(num)[::-1])\n",
        "print(rev_num)\n"
      ],
      "execution_count": 91,
      "outputs": [
        {
          "output_type": "stream",
          "text": [
            "22283049574\n"
          ],
          "name": "stdout"
        }
      ]
    },
    {
      "cell_type": "markdown",
      "metadata": {
        "id": "29Zk-jORu3Pm"
      },
      "source": [
        "7. Write a function that checks whether a given sequence of number is IP address or not and print all valid possible IP from a given digit. If not an IP then it prints empty list\n",
        "\n",
        "**Note:** According to Wikipedia, IPv4 addresses are canonically represented in dot-decimal notation, which consists of four decimal numbers, each ranging from 0 to 255, separated by dots, e.g., 172.16.254.1"
      ]
    },
    {
      "cell_type": "code",
      "metadata": {
        "id": "SHfyCNHpu3Pn",
        "colab": {
          "base_uri": "https://localhost:8080/"
        },
        "outputId": "921aa541-61dc-4fae-ea9d-9161648c4d44"
      },
      "source": [
        "#Code here\n",
        "def valid(stri):\n",
        "  stri = stri.split(\".\")\n",
        "  for i in stri:\n",
        "    if (len(i) > 3 or int(i) < 0 or int(i) > 255):\n",
        "      return False\n",
        "    if len(i) > 1 and int(i) == 0:\n",
        "      return False\n",
        "    if (len(i) > 1 and int(i) != 0 and i[0] == '0'):\n",
        "      return False\n",
        "  return True\n",
        "\n",
        "def valid_possible_ip(num):\n",
        "  length = len(num)\n",
        "  \n",
        "  if length > 12:\n",
        "    return []\n",
        "  \n",
        "  lis = []\n",
        "  s = num\n",
        "\n",
        "  for i in range(1, length-2):\n",
        "    for j in range(i + 1, length - 1):\n",
        "      for k in range(j + 1, length):\n",
        "        s = s[:k] + \".\" + s[k:]\n",
        "        s = s[:j] + \".\" + s[j:]\n",
        "        s = s[:i] + \".\" + s[i:]\n",
        "\n",
        "        if valid(s):\n",
        "          lis.append(s)\n",
        "        \n",
        "        s = num\n",
        "  return lis\n",
        "\n",
        "# Check your code with below numbers    \n",
        "A = \"25525511135\"\n",
        "B = \"25505011536\"\n",
        "\n",
        "print(valid_possible_ip(A))\n",
        "print(valid_possible_ip(B))\n",
        "\n",
        "\n",
        "\n",
        "\n"
      ],
      "execution_count": 92,
      "outputs": [
        {
          "output_type": "stream",
          "text": [
            "['255.255.11.135', '255.255.111.35']\n",
            "[]\n"
          ],
          "name": "stdout"
        }
      ]
    },
    {
      "cell_type": "markdown",
      "metadata": {
        "id": "bu3CylNgu3Po"
      },
      "source": [
        "8. Solve the quadratic equation ax**2 + bx + c = 0 where a =4, b=6, c=2"
      ]
    },
    {
      "cell_type": "code",
      "metadata": {
        "id": "0PM43AI3u3Po",
        "colab": {
          "base_uri": "https://localhost:8080/"
        },
        "outputId": "5ab102bd-b9e8-49bf-aea2-82ec1dbd06d6"
      },
      "source": [
        "#code here\n",
        "import math\n",
        "a, b, c = 4, 6, 2\n",
        "print(\"Roots of the equation are:\")\n",
        "print((-b + math.sqrt(b**2 - 4*a*c))/(2*a))\n",
        "print((-b - math.sqrt(b**2 - 4*a*c))/(2*a))"
      ],
      "execution_count": 93,
      "outputs": [
        {
          "output_type": "stream",
          "text": [
            "Roots of the equation are:\n",
            "-0.5\n",
            "-1.0\n"
          ],
          "name": "stdout"
        }
      ]
    },
    {
      "cell_type": "markdown",
      "metadata": {
        "id": "Ap_neNnEu3Pp"
      },
      "source": [
        "9. Write a program to Remove Punctuations From a String \n",
        "\n",
        "s=\"Wow!!!, we are going ahead with our course to learn *machine learning* ---are'nt you excited? :)\""
      ]
    },
    {
      "cell_type": "code",
      "metadata": {
        "id": "ZnSoMQ0cu3Pp",
        "colab": {
          "base_uri": "https://localhost:8080/"
        },
        "outputId": "1aa15a73-6402-466a-a279-44831cc939df"
      },
      "source": [
        "# code here\n",
        "s = \"Wow!!!, we are going ahead with our course to learn machine learning ---are'nt you excited? :)\"\n",
        "punc = '''!()-[]{};:'\"\\,<>./?@#$%^&*_~'''\n",
        "\n",
        "for elem in s:\n",
        "  if elem in punc:\n",
        "    s = s.replace(elem, \"\")\n",
        "print(s)\n"
      ],
      "execution_count": 94,
      "outputs": [
        {
          "output_type": "stream",
          "text": [
            "Wow we are going ahead with our course to learn machine learning arent you excited \n"
          ],
          "name": "stdout"
        }
      ]
    },
    {
      "cell_type": "markdown",
      "metadata": {
        "id": "H8SS4R0cu3Pq"
      },
      "source": [
        "10. Write a program which takes 2 digits, X,Y as input and generates a 2-dimensional array. The element value in the i-th row and j-th column of the array should be i*j.\n",
        "\n",
        "Note: i=0,1.., X-1; j=0,1,i^Y-1."
      ]
    },
    {
      "cell_type": "code",
      "metadata": {
        "id": "mOT_ykYeu3Pq",
        "colab": {
          "base_uri": "https://localhost:8080/"
        },
        "outputId": "d23e0f99-0a91-4ad6-9e1f-0b604757c262"
      },
      "source": [
        "digit1=3\n",
        "digit2=4\n",
        "ans = []\n",
        "#code here\n",
        "for i in range(0, digit1):\n",
        "  c = []\n",
        "  for j in range(0, digit2):\n",
        "    c.append(i*j)\n",
        "  ans.append(c)\n",
        "\n",
        "print(ans)\n",
        "\n",
        "\n",
        "\n"
      ],
      "execution_count": 95,
      "outputs": [
        {
          "output_type": "stream",
          "text": [
            "[[0, 0, 0, 0], [0, 1, 2, 3], [0, 2, 4, 6]]\n"
          ],
          "name": "stdout"
        }
      ]
    },
    {
      "cell_type": "markdown",
      "metadata": {
        "id": "qHwx1Zuru3Pr"
      },
      "source": [
        "11. Write a function 'solve_coin_change' which takes list of denominations and amount and checks number of ways you can make change with coins and a total amount.\n",
        "\n",
        "Note: You have unlimited amount of mentioned denominations\n",
        "\n",
        "![image.png](attachment:image.png)"
      ]
    },
    {
      "cell_type": "code",
      "metadata": {
        "id": "Gq3kZWv1u3Pr",
        "colab": {
          "base_uri": "https://localhost:8080/"
        },
        "outputId": "5753a36d-c06e-45e9-c212-9e010c746959"
      },
      "source": [
        "#code here\n",
        "def solve_coin_change(denom, amnt):\n",
        "  arr = [0] * (amnt + 1)\n",
        "  arr[0] = 1\n",
        "\n",
        "  for i in range(len(denom)):\n",
        "    for j in range(len(arr)):\n",
        "      if (denom[i] <= j):\n",
        "        arr[j] += arr[(int)(j - denom[i])]\n",
        "  \n",
        "  return arr[amnt]\n",
        "       \n",
        "\n",
        "# Checking your code\n",
        "print(solve_coin_change([1, 5, 10],20))\n",
        "print(solve_coin_change([1, 2, 5],7))"
      ],
      "execution_count": 96,
      "outputs": [
        {
          "output_type": "stream",
          "text": [
            "9\n",
            "6\n"
          ],
          "name": "stdout"
        }
      ]
    },
    {
      "cell_type": "markdown",
      "metadata": {
        "id": "k5wXlhVxu3Ps"
      },
      "source": [
        "12. For given string S and integers P and Q, which denotes the cost of removal of substrings “he” and “lo” respectively from S, the task is to find the maximum cost of removing all occurrences of substrings “he” and “lo”.\n",
        "\n",
        "example if S = “hellohellohellohellohello”, P = 6, Q = 4, then cost to remove 'he' and 'lo' is 50"
      ]
    },
    {
      "cell_type": "code",
      "metadata": {
        "id": "jlizBnwPu3Ps",
        "colab": {
          "base_uri": "https://localhost:8080/"
        },
        "outputId": "45ea1afc-62ad-4b98-d4ff-e0176c48e786"
      },
      "source": [
        "# code here\n",
        "def MaxCollection(S, P, Q):\n",
        "  cost = 0\n",
        "  for i in range(0, len(S)-1):\n",
        "    if S[i] == \"h\" and S[i+1] == \"e\":\n",
        "      cost += P\n",
        "    elif S[i] == \"l\" and S[i+1] == \"o\":\n",
        "      cost += Q\n",
        "  return cost\n",
        "\n",
        "    \n",
        "    \n",
        "# Check code with \n",
        "\n",
        "S = \"hellohellohellohellohello\"\n",
        "\n",
        "# Costs\n",
        "P = 6;\n",
        "Q = 4;\n",
        "\n",
        "\n",
        "print(MaxCollection(S, P, Q));"
      ],
      "execution_count": 97,
      "outputs": [
        {
          "output_type": "stream",
          "text": [
            "50\n"
          ],
          "name": "stdout"
        }
      ]
    },
    {
      "cell_type": "markdown",
      "metadata": {
        "id": "tS6Pa4pYu3Pt"
      },
      "source": [
        "13. Given a binary string S , the task is to find the smallest string possible by removing all occurrences of substrings “01” and “11”. After removal of any substring, concatenate the remaining parts of the string.\n",
        "\n",
        "Example\n",
        "    \n",
        "    Input: S = “0010110”\n",
        "    Output: String = 0\n",
        "    \n",
        "    Explanation: String can be transformed by the following steps: \n",
        "    0010110 → 00110 → 010 → 0. \n",
        "    Since no occurrence of substrings 01 and 11 are remaining, the string “0” is of minimum possible length 1."
      ]
    },
    {
      "cell_type": "code",
      "metadata": {
        "id": "lkGDKANou3Pt",
        "colab": {
          "base_uri": "https://localhost:8080/"
        },
        "outputId": "71ad00b0-36ca-4136-f05b-1d55684dd1f7"
      },
      "source": [
        "#code here\n",
        "\n",
        "def minbinarystring(s):\n",
        "  ans = \"\"\n",
        "  cnt = 0\n",
        "  for i in range(len(s)-1):\n",
        "    if s[i] == '1' and s[i+1] == '1':\n",
        "      cnt += 1\n",
        "    elif s[i] == '0' and s[i+1] == '1':\n",
        "      cnt+= 1\n",
        "  \n",
        "  while cnt > 0:\n",
        "    s = s.replace(\"01\", \"\")\n",
        "    s = s.replace(\"11\", \"\")\n",
        "    cnt = 0\n",
        "    for i in range(len(s)-1):\n",
        "      if s[i] == '1' and s[i+1] == '1':\n",
        "        cnt += 1\n",
        "      elif s[i] == '0' and s[i+1] == '1':\n",
        "        cnt+= 1\n",
        "  return s\n",
        "#check code here\n",
        "    \n",
        "s=\"0010110\"\n",
        "print(\"Final string = \", minbinarystring(s))\n",
        "print(\"Final string size = \", len(minbinarystring(s)))\n",
        "\n",
        "\n"
      ],
      "execution_count": 117,
      "outputs": [
        {
          "output_type": "stream",
          "text": [
            "Final string =  0\n",
            "Final string size =  1\n"
          ],
          "name": "stdout"
        }
      ]
    },
    {
      "cell_type": "markdown",
      "metadata": {
        "id": "BVz_aNwPu3Pu"
      },
      "source": [
        "14. Write a function such that it accepts two integers n, m as arguments Find the sum of all numbers in range from 1 to m(both inclusive) that are not divisible by n. Return difference between sum of integers not divisible by n with sum of numbers divisible by n\n",
        "\n",
        "Example\n",
        "\n",
        "    Input\n",
        "    n:4\n",
        "    m:20\n",
        "    Output\n",
        "    90"
      ]
    },
    {
      "cell_type": "code",
      "metadata": {
        "id": "vo9yXSJsu3Pv",
        "colab": {
          "base_uri": "https://localhost:8080/"
        },
        "outputId": "4af51bf7-c0b3-415d-ec37-5260f222b867"
      },
      "source": [
        "#code here\n",
        "\n",
        "#Another approach\n",
        "def sum_in_range(n, m):\n",
        "  div_no = 0\n",
        "  total = (m * (m+1))//2\n",
        "  non_div = 0\n",
        "  \n",
        "  for i in range(n, m+1, n):\n",
        "    div_no += i\n",
        "  \n",
        "  non_div = total - div_no\n",
        "  #this is the final answer\n",
        "  print(total - 2*div_no)\n",
        "  \n",
        "  return (total-2*div_no)\n",
        "\n",
        "#Naive\n",
        "def sumrange(n, m):\n",
        "  div = 0\n",
        "  notdiv = 0\n",
        "\n",
        "  for i in range(1, m+1):\n",
        "    if i % n == 0:\n",
        "      div += i\n",
        "    else:\n",
        "      notdiv += i\n",
        "  \n",
        "  return (notdiv - div)\n",
        "\n",
        "\n",
        "sumrange(4, 20) \n",
        "#sum_in_range(4, 20)"
      ],
      "execution_count": 99,
      "outputs": [
        {
          "output_type": "execute_result",
          "data": {
            "text/plain": [
              "90"
            ]
          },
          "metadata": {
            "tags": []
          },
          "execution_count": 99
        }
      ]
    },
    {
      "cell_type": "markdown",
      "metadata": {
        "id": "fxeidqSku3Pv"
      },
      "source": [
        "15. Write a function count_code that return the number of times that the string \"code\" appears anywhere in the given string, except we'll accept any letter for the 'd', so \"cope\" and \"cooe\" count.\n",
        "\n",
        "\n",
        "    count_code('aaacodebbb') → 1\n",
        "    count_code('codexxcode') → 2\n",
        "    count_code('cozexxcope') → 2"
      ]
    },
    {
      "cell_type": "code",
      "metadata": {
        "id": "muMO1FUou3Pw",
        "colab": {
          "base_uri": "https://localhost:8080/"
        },
        "outputId": "e005cf75-0339-4ec5-e29a-b358339d7beb"
      },
      "source": [
        "#code here\n",
        "\n",
        "def count_code(s):\n",
        "  count = 0\n",
        "  for i in range(len(s)):\n",
        "    if s[i:i+2] == \"co\" and s[i+3:i+4] == \"e\":\n",
        "      count+=1\n",
        "  return count\n",
        "\n",
        "#check your code \n",
        "print(count_code('aaacodebbb'))\n",
        "print(count_code('codexxcode'))\n",
        "print(count_code('cozexxcope'))\n"
      ],
      "execution_count": 100,
      "outputs": [
        {
          "output_type": "stream",
          "text": [
            "1\n",
            "2\n",
            "2\n"
          ],
          "name": "stdout"
        }
      ]
    },
    {
      "cell_type": "markdown",
      "metadata": {
        "id": "VBUMuya6u3Pw"
      },
      "source": [
        "16. Lets have one moderate level question for you. \n",
        "\n",
        "Find the sum of the series 4 +44 + 444 + 4444 + .. n terms\n",
        "\n",
        "here keep n=5"
      ]
    },
    {
      "cell_type": "code",
      "metadata": {
        "id": "P5Ucsc8Ru3Px",
        "colab": {
          "base_uri": "https://localhost:8080/"
        },
        "outputId": "e3a15f16-289f-4f5b-9e78-37cf837706c1"
      },
      "source": [
        "#code here\n",
        "n = 5\n",
        "sum = (((10 ** n - 1) * 10) // 9)\n",
        "sum = (4 * (sum - n))//9\n",
        "print(sum)\n",
        "\n",
        "\n"
      ],
      "execution_count": 101,
      "outputs": [
        {
          "output_type": "stream",
          "text": [
            "49380\n"
          ],
          "name": "stdout"
        }
      ]
    },
    {
      "cell_type": "markdown",
      "metadata": {
        "id": "VNXtYlbWu3Px"
      },
      "source": [
        "17. Assume s is a string of lower case characters.\n",
        "<br>\n",
        "Write a program that counts up the number of vowels contained in the string s. Valid vowels are: 'a', 'e', 'i', 'o', and 'u'. For example, if s = 'azcbobobegghakl', your program should print:<br>\n",
        "```Number of vowels: 5```"
      ]
    },
    {
      "cell_type": "code",
      "metadata": {
        "id": "smr5liwzu3Py",
        "colab": {
          "base_uri": "https://localhost:8080/"
        },
        "outputId": "d9d02f6f-61c5-4d04-bade-7401af7ede7e"
      },
      "source": [
        "#code here\n",
        "#count no of vowels in string \n",
        "\n",
        "s = \"azcbobobegghakl\"\n",
        "count = 0\n",
        "\n",
        "for elem in s:\n",
        "  if elem == 'a' or elem == 'e' or elem == 'i' or elem == 'o' or elem == 'u':\n",
        "    count += 1\n",
        "\n",
        "print(\"No. of Vowels in string \", s, \" = \", count)\n",
        "\n",
        "\n"
      ],
      "execution_count": 102,
      "outputs": [
        {
          "output_type": "stream",
          "text": [
            "No. of Vowels in string  azcbobobegghakl  =  5\n"
          ],
          "name": "stdout"
        }
      ]
    },
    {
      "cell_type": "markdown",
      "metadata": {
        "id": "2GzZypdNu3Py"
      },
      "source": [
        "18. well done. Now we want you to solve above question in just one line. have faith in your, you can do it. "
      ]
    },
    {
      "cell_type": "code",
      "metadata": {
        "id": "lVkmyz6ru3Pz",
        "colab": {
          "base_uri": "https://localhost:8080/"
        },
        "outputId": "51742882-c2c9-406a-8548-aff617838b17"
      },
      "source": [
        "# one line code here.\n",
        "s = \"azcbobobegghakl\"\n",
        "vowel = \"aeiou\"\n",
        "ans = [elem for elem in s if elem in vowel]\n",
        "\n",
        "print(\"No of vowels = \", len(ans))\n",
        "\n",
        "\n"
      ],
      "execution_count": 103,
      "outputs": [
        {
          "output_type": "stream",
          "text": [
            "No of vowels =  5\n"
          ],
          "name": "stdout"
        }
      ]
    },
    {
      "cell_type": "markdown",
      "metadata": {
        "id": "H33ZWjDhu3Pz"
      },
      "source": [
        "19. Assume s is a string of lower case characters.\n",
        "\n",
        "Write a program that prints the number of times the string 'bob' occurs in s. For example, if s = 'azcbobobegghakl', then your program should print\n",
        "\n",
        "```Number of times bob occurs is: 2```"
      ]
    },
    {
      "cell_type": "code",
      "metadata": {
        "id": "TQ5nNjm-u3Pz",
        "colab": {
          "base_uri": "https://localhost:8080/"
        },
        "outputId": "bea8767e-0087-4940-cbf5-63a35d09c461"
      },
      "source": [
        "#code here\n",
        "\n",
        "s = 'azcbobobegghakl'\n",
        "\n",
        "count = 0\n",
        "\n",
        "for i in range(len(s)):\n",
        "  if s[i : i+3] == \"bob\":\n",
        "    count += 1\n",
        "\n",
        "print(\"No. of times bob occurs = \", count)\n"
      ],
      "execution_count": 104,
      "outputs": [
        {
          "output_type": "stream",
          "text": [
            "No. of times bob occurs =  2\n"
          ],
          "name": "stdout"
        }
      ]
    },
    {
      "cell_type": "markdown",
      "metadata": {
        "id": "-i1FvDP8u3P0"
      },
      "source": [
        "20. Assume s is a string of lower case characters.\n",
        "\n",
        "Write a program that prints the longest substring of s in which the letters occur in alphabetical order. For example, if s = 'azcbobobegghakl', then your program should print\n",
        "\n",
        "```Longest substring in alphabetical order is: beggh```<br><br>\n",
        "In the case of ties, print the first substring. For example, if s = 'abcbcd', then your program should print\n",
        "\n",
        "```Longest substring in alphabetical order is: abc```"
      ]
    },
    {
      "cell_type": "code",
      "metadata": {
        "id": "_u57Vctmu3P0",
        "colab": {
          "base_uri": "https://localhost:8080/"
        },
        "outputId": "fc52409e-fbf6-4e52-a46d-88caeedeebca"
      },
      "source": [
        "#code here\n",
        "s = 'azcbobobegghakl'\n",
        "temp = ''\n",
        "ans = ''\n",
        "\n",
        "for i in range(len(s)):\n",
        "    temp += s[i]\n",
        "    if len(temp) > len(ans):\n",
        "        ans = temp\n",
        "    if i > len(s)-2:\n",
        "        break\n",
        "    if s[i] > s[i+1]:\n",
        "        temp = ''\n",
        "\n",
        "print(\"Longest substring in alphabetical order is:\", ans)\n",
        "\n",
        "\n"
      ],
      "execution_count": 105,
      "outputs": [
        {
          "output_type": "stream",
          "text": [
            "Longest substring in alphabetical order is: beggh\n"
          ],
          "name": "stdout"
        }
      ]
    },
    {
      "cell_type": "markdown",
      "metadata": {
        "id": "us_AluABu3P1"
      },
      "source": [
        "Awsesome! Great job so far. Hope you fell in love with python now.\n",
        "\n",
        "\n",
        "But wait we want to give a treat..:) We have a surprise for you in form of one of the task, in this task you have to create a game in python. You can take up this task as a mini project of your's in python. Hmm.. Sounds good. Isn't it?\n",
        "\n",
        "So lets gets started.. we have given the instructions below for the task in detail \n",
        "\n",
        "# Hangman Game\n",
        "## In this project we are going to create Hangman Game using python\n",
        "\n",
        "\n",
        "**Q. What is the hangman game?**<br>\n",
        "A:- Hangman is a guessing game. The player will tries to guess a word picked by the computer, by suggesting letters within a certain number of guesses\n",
        "\n",
        "\n",
        "# Task 1\n",
        "Create a function **is_word_guessed** that takes in two arguments :- <br> **secret_word**, **letters_guessed** <br>**returns True** if all of the letter of secret_word are in letters_guessed, **returns False** if not\n",
        "\n",
        "\n",
        "**Assumptions**<br>\n",
        "**secret_word**: string, the word the user is guessing; assumes all letters are lowercase<br>\n",
        "**letters_guessed**: list (of letters), which letters have been guessed so far; assumes that all letters are lowercase<br>\n",
        "\n",
        "**Example**:-<br> \n",
        "secret_word = 'apple'<br>\n",
        "letters_guessed = ['e', 'a', 'k', 'p', 'l', 's']<br>\n",
        "is_word_guessed() will return True.<br><br> \n",
        "secret_word = 'apple'<br>\n",
        "letters_guessed = ['e', 'i', 'k', 'p', 'r', 's']<br>\n",
        "is_word_guessed() will return False.<br><br> \n",
        "\n",
        "\n",
        "\n"
      ]
    },
    {
      "cell_type": "code",
      "metadata": {
        "id": "9Q2ZD0wBu3P2",
        "colab": {
          "base_uri": "https://localhost:8080/"
        },
        "outputId": "835db534-6c07-44ab-8967-41e43c5f0190"
      },
      "source": [
        "def is_word_guessed(secret_word, letters_guessed):\n",
        "  \n",
        "  for i in secret_word:\n",
        "    if i not in letters_guessed:\n",
        "      return False\n",
        "  \n",
        "  return True\n",
        "\n",
        "\n",
        "secret_word = 'apple'\n",
        "letters_guessed = ['e', 'i', 'k', 'p', 'r', 's']\n",
        "\n",
        "print(is_word_guessed(secret_word, letters_guessed))\n",
        "\n",
        "   \n",
        "\n",
        "\n"
      ],
      "execution_count": 106,
      "outputs": [
        {
          "output_type": "stream",
          "text": [
            "False\n"
          ],
          "name": "stdout"
        }
      ]
    },
    {
      "cell_type": "markdown",
      "metadata": {
        "id": "pcQhchQ5u3P2"
      },
      "source": [
        "# Task 2\n",
        "Create a function **get_guessed_word** that takes in two arguments :-<br> **secret_word**, **letters_guessed** <br>**returns** string, comprised of known letters, and unknown letters represented by an underscore and a space (_ )<br>\n",
        "\n",
        "**Assumptions**<br>\n",
        "**secret_word**: string, the word the user is guessing;<br>\n",
        "**letters_guessed**: list (of letters), which letters have been guessed so far<br>\n",
        "\n",
        "**Example**:-<br>\n",
        "secret_word = 'apple'<br>\n",
        "letters_guessed = ['e', 'i', 'k', 'p', 'r', 's']<br>\n",
        "get_guessed_word() will return '_ pp_ e'\n",
        "\n",
        "```\n",
        "You want something like a_ _ _ d_ j and Not a___d_j,\n",
        "which might make it hard for the user to know how many characters are there to be guessed, \n",
        "that's why you want to use '_ ' instead of '_'\n",
        "```"
      ]
    },
    {
      "cell_type": "code",
      "metadata": {
        "id": "lnaDDvywu3P2",
        "colab": {
          "base_uri": "https://localhost:8080/"
        },
        "outputId": "f40b1c0d-c3a7-4249-addd-2e2f988ff67a"
      },
      "source": [
        "# importing modules needed for the project\n",
        "import random\n",
        "import string\n",
        "\n",
        "def get_guessed_word(secret_word, letters_guessed):\n",
        "    s = ''\n",
        "    for i in secret_word:\n",
        "      if i not in letters_guessed:\n",
        "        s += '_ '\n",
        "      else:\n",
        "        s += i\n",
        "    \n",
        "    return s\n",
        "\n",
        "secret_word = 'apple'\n",
        "letters_guessed = ['e', 'i', 'k', 'p', 'r', 's']\n",
        "\n",
        "print(get_guessed_word(secret_word, letters_guessed))"
      ],
      "execution_count": 107,
      "outputs": [
        {
          "output_type": "stream",
          "text": [
            "_ pp_ e\n"
          ],
          "name": "stdout"
        }
      ]
    },
    {
      "cell_type": "markdown",
      "metadata": {
        "id": "MOSjkQLgu3P3"
      },
      "source": [
        "# Task 3\n",
        "\n",
        "Create a function **get_available_letter** that takes in one arguments <br> **letters_guessed** <br>**returns** string (of letters), comprised of letters that represents which letters have not yet been guessed.\n",
        "\n",
        "**Assumptions**<br>\n",
        "**letters_guessed**: list (of letters), which letters have been guessed so far;<br>\n",
        "\n",
        "**Example**:-<br>\n",
        "letters_guessed = [’a’, ’l’, ’m’]<br>\n",
        "get_available_letter() will return 'bcdefghijknopqrstuvwxyz'<br>\n",
        "```\n",
        "You might want to consider using string.ascii_lowercase :=\n",
        "\n",
        "import string\n",
        "print(string.ascii_lowercase)\n",
        "output:- abcdefghijklmnopqrstuvwxyz\n",
        "```"
      ]
    },
    {
      "cell_type": "code",
      "metadata": {
        "id": "DYdcRwS2u3P3",
        "colab": {
          "base_uri": "https://localhost:8080/"
        },
        "outputId": "c8aa88a7-2de1-4b2c-f143-6059705aa623"
      },
      "source": [
        "\n",
        "def get_available_letters(letters_guessed):\n",
        "    '''\n",
        "    letters_guessed: list (of letters), which letters have been guessed so far\n",
        "    returns: string (of letters), comprised of letters that represents which letters have not\n",
        "      yet been guessed.\n",
        "    '''\n",
        "    # FILL IN YOUR CODE HERE \n",
        "    \n",
        "    s = ''\n",
        "    alphabets = 'abcdefghijklmnopqrstuvwxyz'\n",
        "    for i in alphabets:\n",
        "      if i not in letters_guessed:\n",
        "        s += i\n",
        "\n",
        "    return s\n",
        "\n",
        "#Always prints in lowercase and alphabetical order\n",
        "letters_guessed = ['a', 'l', 'm']\n",
        "print(get_available_letters(letters_guessed))    "
      ],
      "execution_count": 108,
      "outputs": [
        {
          "output_type": "stream",
          "text": [
            "bcdefghijknopqrstuvwxyz\n"
          ],
          "name": "stdout"
        }
      ]
    },
    {
      "cell_type": "markdown",
      "metadata": {
        "id": "XuX4V2DVu3P4"
      },
      "source": [
        ""
      ]
    },
    {
      "cell_type": "markdown",
      "metadata": {
        "id": "1CmBqUvNu3P5"
      },
      "source": [
        "## Demo Game 1\n",
        "```\n",
        "Welcome to the game Hangman!\n",
        "I am thinking of a word that is 4 letters long.\n",
        "-------------\n",
        "You have 6 guesses left.\n",
        "Available letters: abcdefghijklmnopqrstuvwxyz\n",
        "Please guess a letter: ​a\n",
        "Good guess: _ a_ _\n",
        "------------\n",
        "You have 6 guesses left.\n",
        "Available letters: bcdefghijklmnopqrstuvwxyz\n",
        "Please guess a letter: ​s\n",
        "Oops! That letter is not in my word.\n",
        "Please guess a letter: _ a_ _\n",
        "------------\n",
        "You have 5 guesses left.\n",
        "Available letters: bcdefghijklmnopqrtuvwxyz\n",
        "Please guess a letter: ​t\n",
        "Good guess: ta_ t\n",
        "------------\n",
        "You have 5 guesses left.\n",
        "Available letters: bcdefghijklmnopqrtuvwxyz\n",
        "Please guess a letter: ​e\n",
        "Oops! That letter is not in my word: ta_ t\n",
        "------------\n",
        "You have 3 guesses left.\n",
        "Available letters: bcdfghijklnopquvwxyz Please guess a letter: ​c\n",
        "Good guess: tact\n",
        "------------\n",
        "Congratulations, you won!\n",
        "Your total score for this game is: 6\n",
        "```"
      ]
    },
    {
      "cell_type": "markdown",
      "metadata": {
        "id": "rcyXPny9u3P6"
      },
      "source": [
        "## Demo Game 2\n",
        "```\n",
        "Welcome to the game Hangman!\n",
        "I am thinking of a word that is 4 letters long\n",
        "-----------\n",
        "You have 6 guesses left\n",
        "Available Letters: abcdefghijklmnopqrstuvwxyz\n",
        "Please guess a letter: ​a\n",
        "Oops! That letter is not in my word: _ _ _ _\n",
        "-----------\n",
        "You have 4 guesses left\n",
        "Available Letters: bcdefghijklmnopqrstuvwxyz\n",
        "Please guess a letter: ​b\n",
        "Oops! That letter is not in my word: _ _ _ _\n",
        "-----------\n",
        "You have 3 guesses left\n",
        "Available Letters: cdefghijklmnopqrstuvwxyz\n",
        "Please guess a letter: ​c\n",
        "Oops! That letter is not in my word: _ _ _ _\n",
        "-----------\n",
        "You have 2 guesses left\n",
        "Available Letters: defghijklmnopqrstuvwxyz\n",
        "Please guess a letter: ​d\n",
        "Oops! That letter is not in my word: _ _ _ _\n",
        "-----------\n",
        "You have 1 guesses left\n",
        "Available Letters: efghijklmnopqrstuvwxyz\n",
        "Please guess a letter: ​e\n",
        "Good guess: e_ _ e\n",
        "-----------\n",
        "You have 1 guesses left\n",
        "Available Letters: fghijklmnopqrstuvwxyz\n",
        "Please guess a letter: ​f\n",
        "Oops! That letter is not in my word: e_ _ e\n",
        "-----------\n",
        "Sorry, you ran out of guesses. The word was else.\n",
        "```"
      ]
    },
    {
      "cell_type": "markdown",
      "metadata": {
        "id": "lRrVCylHu3P6"
      },
      "source": [
        "## Hints\n",
        "**Try to keep the output as similar to the one's above**<br>\n",
        "**Hints:-**\n",
        "```\n",
        "1. Consider writing additional helper functions if you need them.\n",
        "2. There are four important pieces of information you may wish to store:\n",
        "a. secret_word​: The word to guess. This is already used as the parameter name for the ​hangman​ function.\n",
        "b. letters_guessed​: The letters that have been guessed so far. If they guess a letter that is already in ​letters_guessed​, you should print a message telling them they've already guessed that but do not penalize them for it.\n",
        "c. guesses_remaining​: The number of guesses the user has left. Note that in our example game, the penalty for choosing an incorrect vowel is different than the penalty for choosing an incorrect consonant.\n",
        "```"
      ]
    },
    {
      "cell_type": "code",
      "metadata": {
        "id": "ay41OQCXu3P7"
      },
      "source": [
        "def no_of_unique_words(string):\n",
        "  s = ''\n",
        "\n",
        "  for i in string:\n",
        "    if i not in s:\n",
        "      s = s+i\n",
        "  \n",
        "  return len(s)\n",
        "\n",
        "\n",
        "def hangman(secret_word):\n",
        "    #code here\n",
        "    alphabets = \"abcdefghijklmnopqrstuvwxyz\"\n",
        "    guesses = 6\n",
        "    vowels = \"aeiou\"\n",
        "    lis = []\n",
        "    print(\"Welcome to the game Hangman!\")\n",
        "    print(\"I am thinking of a word that is \", len(secret_word), \"letters long\")\n",
        "    score = 0\n",
        "\n",
        "    while guesses > 0:\n",
        "      if is_word_guessed(secret_word, lis) == True:\n",
        "        print('------------')\n",
        "        print('Congratulations, you won!')\n",
        "        uniq_let = no_of_unique_words(secret_word)\n",
        "        score = guesses * uniq_let\n",
        "        print(\"Your total score for this game is : \", score)\n",
        "        break\n",
        "      else:\n",
        "        print(\" ----------------------------------- \")\n",
        "        print(\"You have \", guesses, \"guesses left\")\n",
        "        print(\"Available letters: \", get_available_letters(lis))\n",
        "\n",
        "        #Always taking the first letter even if a word is given as input\n",
        "        #dont type other than alphabets\n",
        "        #Should be revolving around input loop until correct input is given for the above case to cover\n",
        "        s = ''\n",
        "        while s == '':\n",
        "          s = str(input('Please guess a letter:'))[0].lower()\n",
        "          if s not in alphabets:\n",
        "            s = ''\n",
        "\n",
        "        if s in secret_word and s not in lis:\n",
        "          lis.append(s)\n",
        "          print('Good guess:', get_guessed_word(secret_word, lis))\n",
        "        \n",
        "        elif s in lis:\n",
        "          print(\"Oops! You've already guessed that letter:\", get_guessed_word(secret_word, lis))\n",
        "        \n",
        "        elif s not in secret_word:\n",
        "          print(\"Oops! That letter is not in my word:\", get_guessed_word(secret_word, lis))\n",
        "          lis.append(s)\n",
        "          if s not in vowels:\n",
        "            guesses -= 1\n",
        "          else:\n",
        "            guesses -= 2\n",
        "\n",
        "      if guesses <= 0:\n",
        "        print('------------')\n",
        "        print('Sorry, you ran out of guesses. The word was', secret_word)\n",
        "        break\n",
        "      else:\n",
        "        continue\n",
        "\n",
        "\n"
      ],
      "execution_count": 115,
      "outputs": []
    },
    {
      "cell_type": "code",
      "metadata": {
        "id": "_0JpivWHu3P7",
        "colab": {
          "base_uri": "https://localhost:8080/"
        },
        "outputId": "86a207ae-ad00-4e33-f3dc-d8d342730742"
      },
      "source": [
        "# When you've completed your hangman function, test it out to see it is working fine\n",
        "# (hint: you might want to pick your own\n",
        "# secret_word while you're doing your own testing by changing 'apple' to any other string)\n",
        "hangman('apple')"
      ],
      "execution_count": 116,
      "outputs": [
        {
          "output_type": "stream",
          "text": [
            "Welcome to the game Hangman!\n",
            "I am thinking of a word that is  5 letters long\n",
            " ----------------------------------- \n",
            "You have  6 guesses left\n",
            "Available letters:  abcdefghijklmnopqrstuvwxyz\n",
            "Please guess a letter:4\n",
            "Please guess a letter:a\n",
            "Good guess: a_ _ _ _ \n",
            " ----------------------------------- \n",
            "You have  6 guesses left\n",
            "Available letters:  bcdefghijklmnopqrstuvwxyz\n",
            "Please guess a letter:o\n",
            "Oops! That letter is not in my word: a_ _ _ _ \n",
            " ----------------------------------- \n",
            "You have  4 guesses left\n",
            "Available letters:  bcdefghijklmnpqrstuvwxyz\n",
            "Please guess a letter:e\n",
            "Good guess: a_ _ _ e\n",
            " ----------------------------------- \n",
            "You have  4 guesses left\n",
            "Available letters:  bcdfghijklmnpqrstuvwxyz\n",
            "Please guess a letter:l\n",
            "Good guess: a_ _ le\n",
            " ----------------------------------- \n",
            "You have  4 guesses left\n",
            "Available letters:  bcdfghijkmnpqrstuvwxyz\n",
            "Please guess a letter:o\n",
            "Oops! You've already guessed that letter: a_ _ le\n",
            " ----------------------------------- \n",
            "You have  4 guesses left\n",
            "Available letters:  bcdfghijkmnpqrstuvwxyz\n",
            "Please guess a letter:e\n",
            "Oops! You've already guessed that letter: a_ _ le\n",
            " ----------------------------------- \n",
            "You have  4 guesses left\n",
            "Available letters:  bcdfghijkmnpqrstuvwxyz\n",
            "Please guess a letter:l\n",
            "Oops! You've already guessed that letter: a_ _ le\n",
            " ----------------------------------- \n",
            "You have  4 guesses left\n",
            "Available letters:  bcdfghijkmnpqrstuvwxyz\n",
            "Please guess a letter:p\n",
            "Good guess: apple\n",
            "------------\n",
            "Congratulations, you won!\n",
            "Your total score for this game is :  16\n"
          ],
          "name": "stdout"
        }
      ]
    },
    {
      "cell_type": "markdown",
      "metadata": {
        "id": "-Jxm685Xu3P8"
      },
      "source": [
        "## Congratulations all of your hardwork paid of, you have just created the Hangman Game<br>\n",
        "**now go ahead and play the game you created, run the cell below**\n",
        "\n"
      ]
    },
    {
      "cell_type": "markdown",
      "metadata": {
        "id": "SFHtURzQu3P8"
      },
      "source": [
        "words = ['army', 'beautiful', 'became', 'if', 'actually', 'beside', 'between','come','eye','five','fur','imposter', 'problem' ,'revenge' ,'few' ,'circle' ,'district','trade','quota','stop','depressed','disorder','dentist']\n",
        "\n",
        "#choose a random word from list using random.choice() function\n",
        "random_word = \n",
        "\n",
        "#check you function\n",
        "hangman(random_word)"
      ]
    },
    {
      "cell_type": "markdown",
      "metadata": {
        "id": "whQcmXoHu3P8"
      },
      "source": [
        "--------------------------------------\n",
        "Wohooo! You did a really good job. We hope you enjoyed your first mini python project here. \n",
        "\n",
        "We understand it was bit challenging and time taking, but it's worth it, coz here you are to achieve your goal and this course will help you in all posible way to make your dreams come true.\n",
        "\n"
      ]
    },
    {
      "cell_type": "markdown",
      "metadata": {
        "id": "kKBo9BdXu3P9"
      },
      "source": [
        "\n",
        "\n",
        "----------------------------------------------------------------------"
      ]
    },
    {
      "cell_type": "markdown",
      "metadata": {
        "id": "iVXD97L4u3P9"
      },
      "source": [
        "# Bam!, you completed the second milestone challenge too:)!! "
      ]
    },
    {
      "cell_type": "markdown",
      "metadata": {
        "id": "IzWNEa-4u3P9"
      },
      "source": [
        "# FeedBack\n",
        "We hope you’ve enjoyed this course so far. We’re committed to help you use \"AI for All\" course to its full potential, so that you have a great learning experience. And that’s why we need your help in form of a feedback here.\n",
        "\n",
        "Please fill this feedback form https://docs.google.com/forms/d/e/1FAIpQLSfjBmH0yJSSA34IhSVx4h2eDMgOAeG4Dk-yHid__NMTk3Hq5g/viewform"
      ]
    }
  ]
}